{
 "cells": [
  {
   "cell_type": "markdown",
   "metadata": {},
   "source": [
    "# Dreamer Database Update\n",
    "\n",
    "This script updates the database with the results from dreamer, run on the Valencia HPC. Jupyter notebook used so tables can be rerun and checked etc. easily and interactively."
   ]
  },
  {
   "cell_type": "code",
   "execution_count": null,
   "metadata": {},
   "outputs": [],
   "source": [
    "import csv\n",
    "import pandas as pd\n",
    "import os\n",
    "import re\n",
    "import fnmatch\n",
    "\n",
    "import sys\n",
    "sys.path.append('../../src')\n",
    "\n",
    "from yamlHandling import find_yaml_files #this function finds the yaml files in a directory.\n",
    "from mysqlConnection import databaseConnector #this function permits connection to a mysql database using a CSV file containing details of the db connection.\n",
    "from mysqlConnection import agentToDB #this function takes a dictionary and ingresses it into a table\n",
    "from mysqlConnection import removePreviouslyRunInstances #this function takes a set of yaml files and task names and removes any that have already got results in the database.\n",
    "from mysqlConnection import selectID #this function finds the integer ID for a table given a particular column name and value"
   ]
  },
  {
   "cell_type": "markdown",
   "metadata": {},
   "source": [
    "## Database Connection\n",
    "\n",
    "A function for connecting to the database."
   ]
  },
  {
   "cell_type": "code",
   "execution_count": null,
   "metadata": {},
   "outputs": [],
   "source": [
    "mycursor, connection = databaseConnector('../../scripts/databaseConnectionDetails.csv')\n",
    "\n",
    "mycursor.close()\n",
    "\n",
    "print(\"Connection checked and closed.\")"
   ]
  },
  {
   "cell_type": "markdown",
   "metadata": {},
   "source": [
    "### Create Agent Table\n"
   ]
  },
  {
   "cell_type": "code",
   "execution_count": null,
   "metadata": {},
   "outputs": [],
   "source": [
    "rerunAgentTable = False\n",
    "\n",
    "mycursor, connection = databaseConnector('../../scripts/databaseConnectionDetails.csv')\n",
    "\n",
    "if rerunAgentTable:\n",
    "    dropTable = \"DROP TABLE IF EXISTS  dreameragents, dreameragentinstanceresults, dreameragentintrainstanceresults;\"\n",
    "    mycursor.execute(dropTable)\n",
    "    \n",
    "    sql = \"CREATE TABLE `dreameragents` (`agentid` INT AUTO_INCREMENT PRIMARY KEY, `agent_tag` VARCHAR(300), `aai_seed` INT, `training_curriculum` VARCHAR(100), UNIQUE(agent_tag, training_curriculum));\"\n",
    "    mycursor.execute(sql)\n",
    "\n",
    "mycursor.close()"
   ]
  },
  {
   "cell_type": "code",
   "execution_count": null,
   "metadata": {},
   "outputs": [],
   "source": [
    "dreamer_bc_all_dict = {\n",
    "    \"training_curriculum\" : \"bc-all\", #which training curriculum was the agent trained on?\n",
    "    \"agent_tag\" : \"dreamer-bc-all\",\n",
    "    \"aai_seed\" : 9999\n",
    "}\n",
    "dreamer_bc_opc_all_dict = {\n",
    "    \"training_curriculum\" : \"bc_opc-all\", #which training curriculum was the agent trained on?\n",
    "    \"agent_tag\" : \"dreamer-bc_opc-all\",\n",
    "    \"aai_seed\" : 9999\n",
    "}\n",
    "dreamer_bc_opc_strat_dict = {\n",
    "    \"training_curriculum\" : \"bc_opc-strat\", #which training curriculum was the agent trained on?\n",
    "    \"agent_tag\" : \"dreamer-bc_opc-strat\",\n",
    "    \"aai_seed\" : 9999\n",
    "}\n",
    "dreamer_bc_opc_opt_all_dict = {\n",
    "    \"training_curriculum\" : \"bc_opc_opt-all\", #which training curriculum was the agent trained on?\n",
    "    \"agent_tag\" : \"dreamer-bc_opc_opt-all\",\n",
    "    \"aai_seed\" : 9999\n",
    "}\n",
    "dreamer_bc_opc_opt_strat_dict = {\n",
    "    \"training_curriculum\" : \"bc_opc_opt-strat\", #which training curriculum was the agent trained on?\n",
    "    \"agent_tag\" : \"dreamer-bc_opc_opt-strat\",\n",
    "    \"aai_seed\" : 9999\n",
    "}\n"
   ]
  },
  {
   "cell_type": "code",
   "execution_count": null,
   "metadata": {},
   "outputs": [],
   "source": [
    "agent_dict_list = [dreamer_bc_all_dict, dreamer_bc_opc_all_dict, dreamer_bc_opc_strat_dict, dreamer_bc_opc_opt_all_dict, dreamer_bc_opc_opt_strat_dict]"
   ]
  },
  {
   "cell_type": "code",
   "execution_count": null,
   "metadata": {},
   "outputs": [],
   "source": [
    "mycursor, connection = databaseConnector('../../scripts/databaseConnectionDetails.csv')\n",
    "\n",
    "for agent in agent_dict_list:\n",
    "    agentToDB(mycursor, agent, table_name = \"dreameragents\")\n",
    "\n",
    "connection.commit()\n",
    "\n",
    "mycursor.close()"
   ]
  },
  {
   "cell_type": "markdown",
   "metadata": {},
   "source": [
    "## Build Results Tables"
   ]
  },
  {
   "cell_type": "code",
   "execution_count": null,
   "metadata": {},
   "outputs": [],
   "source": [
    "mycursor, connection = databaseConnector('../../scripts/databaseConnectionDetails.csv')\n",
    "\n",
    "rebuildInstanceResultsTables = False\n",
    "\n",
    "if rebuildInstanceResultsTables:\n",
    "    print(\"Rebuilding results tables, dropping if they already exist.\")\n",
    "\n",
    "    dropInstanceResultsTables = \"DROP TABLE IF EXISTS dreameragentinstanceresults, dreameragentintrainstanceresults;\"\n",
    "    mycursor.execute(dropInstanceResultsTables)\n",
    "    \n",
    "    createInstanceTable = \"CREATE TABLE dreameragentinstanceresults(instanceid INT NOT NULL, agentid INT NOT NULL, finalreward FLOAT(53), FOREIGN KEY (instanceid) REFERENCES instances(instanceid), FOREIGN KEY(agentid) REFERENCES dreameragents(agentid), PRIMARY KEY (instanceid, agentid));\"\n",
    "    mycursor.execute(createInstanceTable)\n",
    "\n",
    "    createIntraInstanceTable = \"CREATE TABLE dreameragentintrainstanceresults(instanceid INT NOT NULL, agentid INT NOT NULL, step INT NOT NULL, stepreward FLOAT(53), xvelocity FLOAT(32), yvelocity FLOAT(32), zvelocity FLOAT(32), xpos FLOAT(32), ypos FLOAT(32), zpos FLOAT(32), FOREIGN KEY (instanceid) REFERENCES instances(instanceid), FOREIGN KEY(agentid) REFERENCES dreameragents(agentid), PRIMARY KEY(instanceid, agentid, step));\"\n",
    "    mycursor.execute(createIntraInstanceTable)\n",
    "\n",
    "    print(\"Tables: dreameragentinstanceresults and dreameragentintrainstanceresults have been successfully built.\")\n",
    "\n",
    "mycursor.close()"
   ]
  },
  {
   "cell_type": "markdown",
   "metadata": {},
   "source": [
    "## Push results to database"
   ]
  },
  {
   "cell_type": "code",
   "execution_count": null,
   "metadata": {},
   "outputs": [],
   "source": [
    "log_folder = '../logdir/clean-eval/'\n",
    "\n",
    "folders = os.listdir(log_folder)"
   ]
  },
  {
   "cell_type": "code",
   "execution_count": null,
   "metadata": {},
   "outputs": [],
   "source": [
    "def find_files(directory, extension = \"*.yml\"):\n",
    "    names = []\n",
    "    \n",
    "    for root, dirnames, filenames in os.walk(directory):\n",
    "        for filename in fnmatch.filter(filenames, extension):\n",
    "            names.append(filename)\n",
    "    \n",
    "    return names"
   ]
  },
  {
   "cell_type": "code",
   "execution_count": null,
   "metadata": {},
   "outputs": [],
   "source": [
    "mycursor, connection = databaseConnector('../../scripts/databaseConnectionDetails.csv')\n",
    "\n",
    "for folder in folders:\n",
    "    agent_name = re.sub(\"a[1-5]\", \"dreamer\", folder)\n",
    "    agent_name = re.sub(\"_basic_controls|_op_controlsp3|_op_controlsp2|_op_controls|_op_testsp2|_op_tests|p3\", \"\", agent_name)\n",
    "    print(agent_name)\n",
    "\n",
    "    agentid = selectID(mycursor, id_name = \"agentid\", table_name = \"dreameragents\", WHERE_column = \"agent_tag\", WHERE_clause = agent_name)\n",
    "    print(agentid)\n",
    "\n",
    "    task_set = re.search(\"basic_controls|op_controls|op_tests\", folder).group()\n",
    "\n",
    "    print(task_set)\n",
    "\n",
    "    task_names = find_files(os.path.join(log_folder, folder, task_set))\n",
    "\n",
    "    task_names = sorted(task_names)\n",
    "\n",
    "    print(f\"Number of task names: {len(task_names)}\")\n",
    "\n",
    "    episode_results = find_files(os.path.join(log_folder, folder, \"episodes\"), \"*.csv\")\n",
    "\n",
    "    print(f\"Number of episode results: {len(episode_results)}\")\n",
    "\n",
    "    for episode in episode_results:\n",
    "        adhoc_episode_id = int(re.search('[0-9]+', episode).group())\n",
    "        #print(adhoc_episode_id)\n",
    "        if adhoc_episode_id <= len(task_names): #some instances have multiple runs, only taking first\n",
    "            episode_name = task_names[adhoc_episode_id-1]\n",
    "            #print(episode_name)\n",
    "            instanceid = selectID(mycursor, id_name = \"instanceid\", table_name = \"instances\", WHERE_column = \"instancename\", WHERE_clause = episode_name)\n",
    "            \n",
    "            select_existing_tasks = f\"\"\"SELECT COUNT(*) FROM instances INNER JOIN \n",
    "            dreameragentinstanceresults ON instances.instanceid = dreameragentinstanceresults.instanceid WHERE \n",
    "            dreameragentinstanceresults.instanceid = {instanceid} AND dreameragentinstanceresults.agentid = {agentid};\"\"\"\n",
    "\n",
    "            mycursor.execute(select_existing_tasks)\n",
    "\n",
    "            already_run = int(mycursor.fetchone()[0])\n",
    "\n",
    "            if already_run == 0:\n",
    "\n",
    "                with open(os.path.join(log_folder, folder, \"episodes\", episode)) as csvfile:\n",
    "                    csvreader = csv.DictReader(csvfile)\n",
    "                    for row in csvreader:\n",
    "                        try:\n",
    "                            intraInstanceQuery = f\"\"\"INSERT INTO dreameragentintrainstanceresults(instanceid, \n",
    "                            agentid, step, stepreward, xvelocity, yvelocity, zvelocity, xpos, ypos, zpos) \n",
    "                            VALUES ({instanceid}, {agentid}, {int(row[' step'])}, {float(row[' cumulative reward'])}, {float(row[' vx'])}, {float(row[' vy'])}, {float(row[' vz'])}, {float(row[' px'])}, {float(row[' py'])}, {float(row[' pz'])});\"\"\"\n",
    "                            mycursor.execute(intraInstanceQuery)\n",
    "                            #connection.commit()\n",
    "            \n",
    "                        except:\n",
    "                            print(f\"There's something wrong with this step. Here's the query {intraInstanceQuery}\")\n",
    "                            pass\n",
    "\n",
    "                        if row[' done'] == \" True\":\n",
    "                            try:\n",
    "                                insertInstanceResults = f\"INSERT INTO dreameragentinstanceresults(instanceid, agentid, finalreward) VALUES ({instanceid}, {agentid}, {float(row[' cumulative reward'])});\"\n",
    "                                mycursor.execute(insertInstanceResults)\n",
    "                                connection.commit()\n",
    "                            except:\n",
    "                                print(\"It looks like this agent has already been tested on this instance.\")\n",
    "                               \n",
    "                            \n",
    "            else:\n",
    "                print(\"This instance has already been run. Moving to next.\")\n",
    "\n",
    "                pass\n",
    "\n",
    "\n",
    "        else:\n",
    "            pass\n",
    "\n",
    "mycursor.close()"
   ]
  },
  {
   "cell_type": "code",
   "execution_count": null,
   "metadata": {},
   "outputs": [],
   "source": [
    "mycursor, connection = databaseConnector('../../scripts/databaseConnectionDetails.csv')\n",
    "\n",
    "select_existing_tasks = f\"\"\"SELECT COUNT(*) FROM instances INNER JOIN \n",
    "            dreameragentinstanceresults ON instances.instanceid = dreameragentinstanceresults.instanceid WHERE \n",
    "            dreameragentinstanceresults.instanceid = 1 AND dreameragentinstanceresults.agentid = 1;\"\"\"\n",
    "\n",
    "mycursor.execute(select_existing_tasks)\n",
    "\n",
    "already_run = int(mycursor.fetchone()[0])\n",
    "print(already_run)\n",
    "\n",
    "mycursor.close()"
   ]
  },
  {
   "cell_type": "code",
   "execution_count": null,
   "metadata": {},
   "outputs": [],
   "source": [
    "print(instanceid)\n",
    "print(episode_name)"
   ]
  }
 ],
 "metadata": {
  "kernelspec": {
   "display_name": "animalaiv3.1",
   "language": "python",
   "name": "python3"
  },
  "language_info": {
   "codemirror_mode": {
    "name": "ipython",
    "version": 3
   },
   "file_extension": ".py",
   "mimetype": "text/x-python",
   "name": "python",
   "nbconvert_exporter": "python",
   "pygments_lexer": "ipython3",
   "version": "3.9.0"
  }
 },
 "nbformat": 4,
 "nbformat_minor": 2
}
