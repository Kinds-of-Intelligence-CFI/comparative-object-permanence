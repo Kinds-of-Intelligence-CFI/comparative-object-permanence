{
 "cells": [
  {
   "attachments": {},
   "cell_type": "markdown",
   "metadata": {},
   "source": [
    "# Vanilla Braitenberg Experiments\n",
    "\n",
    "Author: K. Voudouris, 2023 (c) All Rights Reserved.\n",
    "\n",
    "Contact: kv301@cam.ac.uk; k.voudouris14@googlemail.com; [Twitter @KozzyVoudouris](https://twitter.com/KozzyVoudouris); [GitHub @kozzy97](https://github.com/kozzy97)\n",
    "\n",
    "Date: July 2023\n",
    "\n",
    "This script runs a series of hand-coded agents on the object permanence tests and stores the results in a MySQL database. It relies on a few things:\n",
    "\n",
    "1. All the dependencies are installed, particularly that animalai is installed properly. I recommend using a conda environment and setting up an ipykernel for running this notebook.\n",
    "2. AnimalAI is installed as an executable in the `env` folder.\n",
    "3. A recent installation of MySQL, configured with a database, user, and password, as well as the local (or remote) address to store on. MySQL WorkBench is a good IDE for interacting with MySQL (this was created with WorkBench 8.0)\n",
    "4. A CSV file in the same directory as this notebook called `databaseConnectionDetails.csv`, containing columns `database_name`, `hostname`, `username`, and `password` for database connection, with the values in the next row. This is gitignored."
   ]
  },
  {
   "cell_type": "code",
   "execution_count": null,
   "metadata": {},
   "outputs": [],
   "source": [
    "import random\n",
    "import os\n",
    "\n",
    "from animalai.envs.environment import AnimalAIEnvironment\n",
    "from animalai.envs.actions import AAIActions, AAIAction\n",
    "\n",
    "import sys\n",
    "sys.path.append('../src')\n",
    "\n",
    "from vanillaBraitenbergAgent import vanillaBraitenberg #import the vanilla braitenberg class\n",
    "from yamlHandling import find_yaml_files #this function finds the yaml files in a directory.\n",
    "from yamlHandling import yaml_combinor #this function combines a batch of yaml files and saves the output in a temporary folder. This means we can run inference on batches of tests at once.\n",
    "from mysqlConnection import databaseConnector #this function permits connection to a mysql database using a CSV file containing details of the db connection.\n",
    "from mysqlConnection import agentToDB #this function takes a dictionary and ingresses it into a table\n",
    "from mysqlConnection import removePreviouslyRunInstances #this function takes a set of yaml files and task names and removes any that have already got results in the database.\n",
    "from mysqlConnection import selectID #this function finds the integer ID for a table given a particular column name and value"
   ]
  },
  {
   "attachments": {},
   "cell_type": "markdown",
   "metadata": {},
   "source": [
    "## Database Connection\n",
    "\n",
    "A function for connecting to the database."
   ]
  },
  {
   "cell_type": "code",
   "execution_count": null,
   "metadata": {},
   "outputs": [],
   "source": [
    "mycursor, connection = databaseConnector('databaseConnectionDetails.csv')\n",
    "\n",
    "mycursor.close()\n",
    "\n",
    "print(\"Connection checked and closed.\")"
   ]
  },
  {
   "attachments": {},
   "cell_type": "markdown",
   "metadata": {},
   "source": [
    "## Paths\n",
    "\n",
    "Provide the paths to the directory containing the configs being tested over, as well as the path the animal ai environment. Finally, provide a location for generating temporary files of combined configs. This defaults to the parent directory of the github repository, to prevent results being pushed accidentally."
   ]
  },
  {
   "cell_type": "code",
   "execution_count": null,
   "metadata": {},
   "outputs": [],
   "source": [
    "configuration_folder = \"../../configs/tests_agents\"\n",
    "\n",
    "env_path = \"../../env/AnimalAI\"\n",
    "\n",
    "temp_folder_location = \"../../..\""
   ]
  },
  {
   "attachments": {},
   "cell_type": "markdown",
   "metadata": {},
   "source": [
    "## Add All Tasks In Directory To Database\n",
    "\n",
    "Iterate through the directory and find yaml files and their task names."
   ]
  },
  {
   "cell_type": "code",
   "execution_count": null,
   "metadata": {},
   "outputs": [],
   "source": [
    "rerunInstanceTable = False\n",
    "\n",
    "mycursor, connection = databaseConnector('databaseConnectionDetails.csv')\n",
    "\n",
    "yaml_files, task_names = find_yaml_files(configuration_folder)\n",
    "\n",
    "if rerunInstanceTable:\n",
    "    dropTable = \"DROP TABLE IF EXISTS braitenbergvehicleinstanceresults, braitenbergvehicleintrainstanceresults, instances;\"\n",
    "    mycursor.execute(dropTable)\n",
    "    \n",
    "    sql = \"CREATE TABLE instances(instanceid INT AUTO_INCREMENT PRIMARY KEY, instancename VARCHAR(750) UNIQUE NOT NULL);\"\n",
    "    mycursor.execute(sql)\n",
    "\n",
    "for instance in task_names:\n",
    "    try:\n",
    "        insertQuery = \"INSERT INTO instances(instancename) VALUES('\" + str(instance) + \"');\"\n",
    "        mycursor.execute(insertQuery)\n",
    "        connection.commit()\n",
    "    except:\n",
    "        print(f\"Task {instance} has already been added to this table. Moving to next.\")\n",
    "\n",
    "mycursor.close()\n",
    "\n"
   ]
  },
  {
   "attachments": {},
   "cell_type": "markdown",
   "metadata": {},
   "source": [
    "## Agents\n",
    "\n",
    "Dictionaries of parameters to define some vanilla braitenberg agents. These agents have hard-coded predictable behaviours. If they detect a `GoodGoal`, `GoodGoalBounce`, `GoodGoalMulti`, or a `GoodGoalMultiBounce` in front of them, they move forwards. If they detect one of these in front of them and to the left, they execute the forwards and left action at the same time. *Mutatis mutandi* if the object is in front and to the right. If they detect a `DeathZone`, `BadGoal`, or a `BadGoalMulti` in front of them, they move backwards. If they detect one of these in front of them to the left, they move backwards and to the right. If they detect one of these in front of them and to the right, they move backwards and to the left. If they detect something in front of them, they'll continue doing that response until the end of the episode, unless it is a forwardsright or forwardsleft action, in which case they have a 0.05 probability of switching between them. If they do not detect anything in front of them, they go forwardsright or forwardsleft, with a probability of 0.05 of switching between those (and a 50/50 chance of starting with one of those actions). This encourages exploration of the space.\n",
    "\n",
    "All of these agents are hand-coded. They do not have anything resembling object permanence. They simply go towards good things and away from bad things, exploring the space in a very simple manner if they can't see anything. These agents thus serve as excellent controls for comparison, because they can interact with the environment in a very simple way, but we can be sure that they lack the sophisticated capability of object permanence.\n",
    "\n",
    "The agents vary in their visual acuity, which varies on 2 axes. The first is the number of rays that the agent can generate for viewing the space. The second is the number of degrees of viewing that they can see. The first agent has one ray directly in front of it, angle here is irrelevant."
   ]
  },
  {
   "cell_type": "code",
   "execution_count": null,
   "metadata": {},
   "outputs": [],
   "source": [
    "VBB_rays_1_viewing_angle_60 = {'no_rays' : 1,\n",
    "                               'angles' : 60,\n",
    "                               'aai_seed' : 2023,\n",
    "                               'agent_tag' : 'Vanilla Braitenberg 1 ray'}"
   ]
  },
  {
   "attachments": {},
   "cell_type": "markdown",
   "metadata": {},
   "source": [
    "The next agent has 3 rays distributed over the front 60 degrees of its viewing space."
   ]
  },
  {
   "cell_type": "code",
   "execution_count": null,
   "metadata": {},
   "outputs": [],
   "source": [
    "VBB_rays_3_viewing_angle_60 = {'no_rays' : 3,\n",
    "                               'angles' : 60,\n",
    "                               'aai_seed' : 2023,\n",
    "                               'agent_tag' : 'Vanilla Braitenberg 3 ray 60 degree viewing angle'}"
   ]
  },
  {
   "attachments": {},
   "cell_type": "markdown",
   "metadata": {},
   "source": [
    "The next agent has 3 rays distributed over the front 120 degrees of its viewing space."
   ]
  },
  {
   "cell_type": "code",
   "execution_count": null,
   "metadata": {},
   "outputs": [],
   "source": [
    "VBB_rays_3_viewing_angle_120 = {'no_rays' : 3,\n",
    "                                'angles' : 120,\n",
    "                                'aai_seed' : 2023,\n",
    "                                'agent_tag' : 'Vanilla Braitenberg 3 ray 120 degree viewing angle'}"
   ]
  },
  {
   "attachments": {},
   "cell_type": "markdown",
   "metadata": {},
   "source": [
    "5 rays over 60 degrees."
   ]
  },
  {
   "cell_type": "code",
   "execution_count": null,
   "metadata": {},
   "outputs": [],
   "source": [
    "VBB_rays_5_viewing_angle_60 = {'no_rays' : 5,\n",
    "                               'angles' : 60,\n",
    "                               'aai_seed' : 2023,\n",
    "                               'agent_tag' : 'Vanilla Braitenberg 5 ray 60 degree viewing angle'}"
   ]
  },
  {
   "attachments": {},
   "cell_type": "markdown",
   "metadata": {},
   "source": [
    "5 rays over 120 degrees."
   ]
  },
  {
   "cell_type": "code",
   "execution_count": null,
   "metadata": {},
   "outputs": [],
   "source": [
    "VBB_rays_5_viewing_angle_120 = {'no_rays' : 5,\n",
    "                                'angles' : 120,\n",
    "                                'aai_seed' : 2023,\n",
    "                                'agent_tag' : 'Vanilla Braitenberg 5 ray 120 degree viewing angle'}"
   ]
  },
  {
   "attachments": {},
   "cell_type": "markdown",
   "metadata": {},
   "source": [
    "7 rays over 60 degrees."
   ]
  },
  {
   "cell_type": "code",
   "execution_count": null,
   "metadata": {},
   "outputs": [],
   "source": [
    "VBB_rays_7_viewing_angle_60 = {'no_rays' : 7,\n",
    "                               'angles' : 60,\n",
    "                               'aai_seed' : 2023,\n",
    "                               'agent_tag' : 'Vanilla Braitenberg 7 ray 60 degree viewing angle'}"
   ]
  },
  {
   "attachments": {},
   "cell_type": "markdown",
   "metadata": {},
   "source": [
    "7 rays over 120 degrees."
   ]
  },
  {
   "cell_type": "code",
   "execution_count": null,
   "metadata": {},
   "outputs": [],
   "source": [
    "VBB_rays_7_viewing_angle_120 = {'no_rays' : 7,\n",
    "                                'angles' : 120,\n",
    "                                'aai_seed' : 2023,\n",
    "                                'agent_tag' : 'Vanilla Braitenberg 7 ray 120 degree viewing angle'}"
   ]
  },
  {
   "attachments": {},
   "cell_type": "markdown",
   "metadata": {},
   "source": [
    "9 rays over 60 degrees"
   ]
  },
  {
   "cell_type": "code",
   "execution_count": null,
   "metadata": {},
   "outputs": [],
   "source": [
    "VBB_rays_9_viewing_angle_60 = {'no_rays' : 9,\n",
    "                               'angles' : 60,\n",
    "                               'aai_seed' : 2023,\n",
    "                               'agent_tag' : 'Vanilla Braitenberg 9 ray 60 degree viewing angle'}"
   ]
  },
  {
   "attachments": {},
   "cell_type": "markdown",
   "metadata": {},
   "source": [
    "9 rays over 120 degrees."
   ]
  },
  {
   "cell_type": "code",
   "execution_count": null,
   "metadata": {},
   "outputs": [],
   "source": [
    "VBB_rays_9_viewing_angle_120 = {'no_rays' : 9,\n",
    "                                'angles' : 120,\n",
    "                                'aai_seed' : 2023,\n",
    "                                'agent_tag' : 'Vanilla Braitenberg 9 ray 120 degree viewing angle'}"
   ]
  },
  {
   "cell_type": "code",
   "execution_count": null,
   "metadata": {},
   "outputs": [],
   "source": [
    "rerunAgentTable = False\n",
    "\n",
    "mycursor, connection = databaseConnector('databaseConnectionDetails.csv')\n",
    "\n",
    "if rerunAgentTable:\n",
    "    dropTable = \"DROP TABLE IF EXISTS braitenbergvehicleinstanceresults, braitenbergvehicleintrainstanceresults, braitenbergvehicles;\"\n",
    "    mycursor.execute(dropTable)\n",
    "    \n",
    "    sql = \"CREATE TABLE `braitenbergvehicles` (`agentid` INT AUTO_INCREMENT PRIMARY KEY, `agent_tag` VARCHAR(300) UNIQUE, `aai_seed` INT, `no_rays` INT,  `angles` INT);\"\n",
    "    mycursor.execute(sql)\n",
    "\n",
    "mycursor.close()"
   ]
  },
  {
   "attachments": {},
   "cell_type": "markdown",
   "metadata": {},
   "source": [
    "Add the agents to the agent table:"
   ]
  },
  {
   "cell_type": "code",
   "execution_count": null,
   "metadata": {},
   "outputs": [],
   "source": [
    "mycursor, connection = databaseConnector('databaseConnectionDetails.csv')\n",
    "\n",
    "agentToDB(mycursor, VBB_rays_1_viewing_angle_60, table_name=\"braitenbergvehicles\")\n",
    "\n",
    "agentToDB(mycursor, VBB_rays_3_viewing_angle_60, table_name=\"braitenbergvehicles\")\n",
    "\n",
    "agentToDB(mycursor, VBB_rays_3_viewing_angle_120, table_name=\"braitenbergvehicles\")\n",
    "\n",
    "agentToDB(mycursor, VBB_rays_5_viewing_angle_60, table_name=\"braitenbergvehicles\")\n",
    "\n",
    "agentToDB(mycursor, VBB_rays_5_viewing_angle_120, table_name=\"braitenbergvehicles\")\n",
    "\n",
    "agentToDB(mycursor, VBB_rays_7_viewing_angle_60, table_name=\"braitenbergvehicles\")\n",
    "\n",
    "agentToDB(mycursor, VBB_rays_7_viewing_angle_120, table_name=\"braitenbergvehicles\")\n",
    "\n",
    "agentToDB(mycursor, VBB_rays_9_viewing_angle_60, table_name=\"braitenbergvehicles\")\n",
    "\n",
    "agentToDB(mycursor, VBB_rays_9_viewing_angle_120, table_name=\"braitenbergvehicles\")\n",
    "\n",
    "connection.commit()\n",
    "\n",
    "mycursor.close()"
   ]
  },
  {
   "attachments": {},
   "cell_type": "markdown",
   "metadata": {},
   "source": [
    "## Run Inference And Store\n",
    "\n",
    "Need to iterate through the dictionaries and run inference."
   ]
  },
  {
   "cell_type": "code",
   "execution_count": null,
   "metadata": {},
   "outputs": [],
   "source": [
    "mycursor, connection = databaseConnector('databaseConnectionDetails.csv')\n",
    "\n",
    "rebuildInstanceResultsTables = False\n",
    "\n",
    "if rebuildInstanceResultsTables:\n",
    "    print(\"Rebuilding results tables, dropping if they already exist.\")\n",
    "\n",
    "    dropInstanceResultsTables = \"DROP TABLE IF EXISTS braitenbergvehicleinstanceresults, braitenbergvehicleintrainstanceresults;\"\n",
    "    mycursor.execute(dropInstanceResultsTables)\n",
    "    \n",
    "    createInstanceTable = \"CREATE TABLE braitenbergvehicleinstanceresults(instanceid INT NOT NULL, agentid INT NOT NULL, finalreward FLOAT(53), FOREIGN KEY (instanceid) REFERENCES instances(instanceid), FOREIGN KEY(agentid) REFERENCES braitenbergvehicles(agentid), PRIMARY KEY (instanceid, agentid));\"\n",
    "    mycursor.execute(createInstanceTable)\n",
    "\n",
    "    createIntraInstanceTable = \"CREATE TABLE braitenbergvehicleintrainstanceresults(instanceid INT NOT NULL, agentid INT NOT NULL, step INT NOT NULL, actiontaken VARCHAR(30) NOT NULL, stepreward FLOAT(53), xvelocity FLOAT(32), yvelocity FLOAT(32), zvelocity FLOAT(32), xpos FLOAT(32), ypos FLOAT(32), zpos FLOAT(32), FOREIGN KEY (instanceid) REFERENCES instances(instanceid), FOREIGN KEY(agentid) REFERENCES braitenbergvehicles(agentid), PRIMARY KEY(instanceid, agentid, step));\"\n",
    "    mycursor.execute(createIntraInstanceTable)\n",
    "\n",
    "    print(\"Tables `braitenbergvehicleinstanceresults` and `braitenbergvehicleintrainstanceresults` have been successfully built.\")\n",
    "\n",
    "mycursor.close()\n"
   ]
  },
  {
   "attachments": {},
   "cell_type": "markdown",
   "metadata": {},
   "source": [
    "Define a function to run the experiments. This takes an agent dictionary and first checks whether any results have been recorded for it. If not, then it proceeds with testing. It does testing in batches, generating a temporary yml file to run training on and storing the final episode reward, as well as the intra-instance results."
   ]
  },
  {
   "cell_type": "code",
   "execution_count": null,
   "metadata": {},
   "outputs": [],
   "source": [
    "import pandas as pd\n",
    "\n",
    "def removePreviouslyRunInstances(cur, yaml_files, task_names, agentid, agent_table, agent_instance_results_table):\n",
    "    \n",
    "    length_yaml_files = len(yaml_files)\n",
    "    \n",
    "    select_existing_tasks = f\"SELECT instances.instancename FROM instances INNER JOIN {agent_instance_results_table} ON instances.instanceid = {agent_instance_results_table}.instanceid INNER JOIN {agent_table} ON {agent_instance_results_table}.agentid = {agent_table}.agentid WHERE {agent_table}.agentid = {agentid};\"\n",
    "\n",
    "    cur.execute(select_existing_tasks)\n",
    "\n",
    "    results = cur.fetchall()\n",
    "\n",
    "    already_run_tasks = pd.DataFrame(results, columns = [i[0] for i in cur.description])\n",
    "\n",
    "    task_names_df = pd.DataFrame({'instancename' : task_names})\n",
    "\n",
    "    outer = task_names_df.merge(already_run_tasks, how='outer', indicator=True)\n",
    "\n",
    "    task_names = outer[(outer._merge=='left_only')].drop('_merge', axis=1)\n",
    "\n",
    "    task_names = task_names['instancename'].to_list()\n",
    "\n",
    "    # filter out any previously run instances from yaml_files\n",
    "\n",
    "    yaml_files = [item for item in yaml_files if any(value in item for value in task_names)]\n",
    "\n",
    "    length_yaml_files_new = len(yaml_files)\n",
    "\n",
    "    print(f\"Dropping {length_yaml_files - length_yaml_files_new} instances that have already been run before.\")\n",
    "\n",
    "    return task_names, yaml_files"
   ]
  },
  {
   "cell_type": "code",
   "execution_count": null,
   "metadata": {},
   "outputs": [],
   "source": [
    "def runBraitenbergAndStore(cur, con, batch_size: int, agent_dict: dict, yaml_files, task_names, temp_folder_location, agent_inference = False):\n",
    "    \n",
    "    # first, check if this agent has been added to the DB already\n",
    "\n",
    "    agentid = selectID(cur, id_name = \"agentid\", table_name = \"braitenbergvehicles\", WHERE_column = \"agent_tag\", WHERE_clause = agent_dict['agent_tag'])\n",
    "\n",
    "    #now remove any instances that have already been run for this agent.\n",
    "\n",
    "    task_names, yaml_files = removePreviouslyRunInstances(cur = mycursor, yaml_files=yaml_files, task_names=task_names, agentid=agentid, agent_table = \"braitenbergvehicles\", agent_instance_results_table = \"braitenbergvehicleinstanceresults\")\n",
    "\n",
    "    # now proceed with testing\n",
    "    port = 5500 + random.randint( #create random base port.\n",
    "        0, 2000\n",
    "        )\n",
    "        \n",
    "    batch_counter = 0\n",
    "\n",
    "    #set seed\n",
    "    random.seed(agent_dict['aai_seed'])\n",
    "\n",
    "    if len(yaml_files) > 0:\n",
    "        for yaml_index in range(0, len(yaml_files), batch_size):\n",
    "\n",
    "            if ((yaml_index + batch_size)-1) > len(yaml_files) or batch_size > len(yaml_files):\n",
    "                upper_bound = len(yaml_files)\n",
    "            else:\n",
    "                upper_bound = ((yaml_index + batch_size)-1)\n",
    "\n",
    "            print(f\"Running inferences on batch {batch_counter + 1} of {upper_bound+1} files of total {len(yaml_files)}.\")\n",
    "\n",
    "            batch_files = yaml_files[yaml_index:upper_bound]\n",
    "\n",
    "            batch_file_names = task_names[yaml_index:upper_bound]\n",
    "\n",
    "            batch_temp_file_name = f\"TempConfig_{yaml_index}.yml\"\n",
    "\n",
    "            config_file_path = yaml_combinor(file_list = batch_files, temp_file_location=temp_folder_location, stored_file_name = batch_temp_file_name)\n",
    "\n",
    "            agent = vanillaBraitenberg(agent_dict['no_rays'], agent_dict['angles']) # initialise agent class\n",
    "\n",
    "            print(\"Opening AAI Environment.\")\n",
    "\n",
    "            temp_port = port + yaml_index # increment through ports to prevent calling the same socket.\n",
    "\n",
    "            aai_env = AnimalAIEnvironment( \n",
    "                inference=agent_inference, #Set true when watching the agent\n",
    "                seed = agent_dict['aai_seed'],\n",
    "                worker_id=agent_dict['aai_seed'],\n",
    "                file_name=env_path,\n",
    "                arenas_configurations=config_file_path,\n",
    "                base_port=temp_port,\n",
    "                useCamera=False,\n",
    "                useRayCasts = True,\n",
    "                raysPerSide=int((agent_dict['no_rays'])/2),\n",
    "                rayMaxDegrees=agent_dict['angles']\n",
    "            )\n",
    "\n",
    "            behavior = list(aai_env.behavior_specs.keys())[0] # by default should be AnimalAI?team=0\n",
    "\n",
    "            firststep = True\n",
    "\n",
    "            for _instance in range(len(batch_files)): \n",
    "\n",
    "                #get instance ID\n",
    "\n",
    "                instanceid = selectID(cur, id_name = \"instanceid\", table_name = \"instances\", WHERE_column = \"instancename\", WHERE_clause = batch_file_names[_instance])\n",
    "\n",
    "                #prepare to run instance\n",
    "\n",
    "                if firststep:\n",
    "                    aai_env.step() # take first step to get an observation\n",
    "                    firststep = False\n",
    "                    \n",
    "                dec, term = aai_env.get_steps(behavior)\n",
    "\n",
    "                done = False\n",
    "\n",
    "                episodeReward = 0\n",
    "\n",
    "                step_counter = 0\n",
    "    \n",
    "                while not done:\n",
    "                        \n",
    "                    observations = aai_env.get_obs_dict(dec.obs)\n",
    "\n",
    "                    raycasts = observations[\"rays\"] # Get the raycast data\n",
    "\n",
    "                    action = agent.get_action(raycasts)\n",
    "\n",
    "                    aai_env.set_actions(behavior, action.action_tuple)\n",
    "\n",
    "                    aai_env.step()\n",
    "\n",
    "                    step_counter += 1\n",
    "\n",
    "                    dec, term = aai_env.get_steps(behavior)\n",
    "\n",
    "                    if len(dec.reward) > 0 and len(term) <= 0:\n",
    "                        episodeReward += dec.reward\n",
    "                        try:\n",
    "                            intraInstanceQuery = f\"INSERT INTO braitenbergvehicleintrainstanceresults(instanceid, agentid, step, actiontaken, stepreward, xvelocity, yvelocity, zvelocity, xpos, ypos, zpos) VALUES ({instanceid}, {agentid}, {step_counter}, '{action.name}', {float(episodeReward)}, {observations['velocity'][0]}, {observations['velocity'][1]}, {observations['velocity'][2]}, {observations['position'][0]}, {observations['position'][1]}, {observations['position'][2]});\"\n",
    "                            cur.execute(intraInstanceQuery)\n",
    "                            con.commit()\n",
    "                         \n",
    "                        except:\n",
    "                            print(f\"There's something wrong with this step. Here's the query {intraInstanceQuery}\")\n",
    "                            pass\n",
    "\n",
    "                    elif len(term) > 0: #Episode is over\n",
    "                        episodeReward += term.reward\n",
    "                        print(f\"Episode Reward: {episodeReward}\")\n",
    "                        done = True\n",
    "                        firststep = True\n",
    "\n",
    "                        try:\n",
    "                            intraInstanceQuery = f\"INSERT INTO braitenbergvehicleintrainstanceresults(instanceid, agentid, step, actiontaken, stepreward, xvelocity, yvelocity, zvelocity, xpos, ypos, zpos) VALUES ({instanceid}, {agentid}, {step_counter}, '{action.name}', {float(episodeReward)}, {observations['velocity'][0]}, {observations['velocity'][1]}, {observations['velocity'][2]}, {observations['position'][0]}, {observations['position'][1]}, {observations['position'][2]});\"\n",
    "                            cur.execute(intraInstanceQuery)\n",
    "                            con.commit()\n",
    "                            \n",
    "                        except:\n",
    "                            print(f\"There's something wrong with this step. Here's the query {intraInstanceQuery}\")\n",
    "                            pass\n",
    "                             \n",
    "                        try:\n",
    "                            insertInstanceResults = f\"INSERT INTO braitenbergvehicleinstanceresults(instanceid, agentid, finalreward) VALUES ({instanceid}, {agentid}, {float(episodeReward)});\"\n",
    "                            cur.execute(insertInstanceResults)\n",
    "                            con.commit()\n",
    "                            print(\"Pushing results to database.\")\n",
    "                        except:\n",
    "                            print(\"It looks like this agent has already been tested on this instance.\")\n",
    "                    \n",
    "                    else:\n",
    "                        pass\n",
    "\n",
    "            aai_env.close()\n",
    "            print(\"Moving to next batch.\")\n",
    "            batch_counter += 1\n",
    "            os.remove(config_file_path)\n",
    "        else:\n",
    "            print(\"This agent has already been run on all of these tasks.\")\n",
    "    "
   ]
  },
  {
   "cell_type": "code",
   "execution_count": null,
   "metadata": {},
   "outputs": [],
   "source": [
    "agent_dict_list = [VBB_rays_1_viewing_angle_60, VBB_rays_3_viewing_angle_60, VBB_rays_3_viewing_angle_120, VBB_rays_5_viewing_angle_60, VBB_rays_5_viewing_angle_120, VBB_rays_7_viewing_angle_60, VBB_rays_7_viewing_angle_120, VBB_rays_9_viewing_angle_60, VBB_rays_9_viewing_angle_120]\n",
    "\n",
    "yaml_batch_size = 100\n",
    "\n",
    "mycursor, connection = databaseConnector('databaseConnectionDetails.csv')\n",
    "\n",
    "for agent_dictionary in agent_dict_list:\n",
    "\n",
    "    print(f\"Running {agent_dictionary['agent_tag']}\")\n",
    "\n",
    "    runBraitenbergAndStore(mycursor, connection, yaml_batch_size, agent_dict=agent_dictionary, yaml_files=yaml_files, task_names=task_names, temp_folder_location=temp_folder_location, agent_inference=True)\n",
    "\n",
    "\n",
    "mycursor.close()"
   ]
  }
 ],
 "metadata": {
  "kernelspec": {
   "display_name": "animalaiv3",
   "language": "python",
   "name": "python3"
  },
  "language_info": {
   "codemirror_mode": {
    "name": "ipython",
    "version": 3
   },
   "file_extension": ".py",
   "mimetype": "text/x-python",
   "name": "python",
   "nbconvert_exporter": "python",
   "pygments_lexer": "ipython3",
   "version": "3.10.4"
  },
  "orig_nbformat": 4
 },
 "nbformat": 4,
 "nbformat_minor": 2
}
