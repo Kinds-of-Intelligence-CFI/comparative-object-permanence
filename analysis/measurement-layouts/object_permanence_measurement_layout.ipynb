{
  "nbformat": 4,
  "nbformat_minor": 0,
  "metadata": {
    "colab": {
      "provenance": [],
      "include_colab_link": true
    },
    "kernelspec": {
      "name": "python3",
      "display_name": "Python 3"
    },
    "language_info": {
      "name": "python"
    }
  },
  "cells": [
    {
      "cell_type": "markdown",
      "metadata": {
        "id": "view-in-github",
        "colab_type": "text"
      },
      "source": [
        "<a href=\"https://colab.research.google.com/github/Kinds-of-Intelligence-CFI/comparative-object-permanence/blob/measurement-layout/analysis/measurement-layouts/object_permanence_measurement_layout.ipynb\" target=\"_parent\"><img src=\"https://colab.research.google.com/assets/colab-badge.svg\" alt=\"Open In Colab\"/></a>"
      ]
    },
    {
      "cell_type": "markdown",
      "source": [
        "# Comparative Object Permanence Measurement Layouts\n",
        "\n",
        "Authors: K. Voudouris, J. Burden, J. Hernández-Orallo"
      ],
      "metadata": {
        "id": "U27yVRKBqCpj"
      }
    },
    {
      "cell_type": "markdown",
      "source": [
        "## INIT"
      ],
      "metadata": {
        "id": "95RSQ17Lriav"
      }
    },
    {
      "cell_type": "code",
      "execution_count": 1,
      "metadata": {
        "id": "MLYI9s6Lp3fi",
        "outputId": "d3085b4c-10b8-4e15-f57d-6f5dd289ddb3",
        "colab": {
          "base_uri": "https://localhost:8080/"
        }
      },
      "outputs": [
        {
          "output_type": "stream",
          "name": "stdout",
          "text": [
            "\u001b[?25l     \u001b[90m━━━━━━━━━━━━━━━━━━━━━━━━━━━━━━━━━━━━━━━━\u001b[0m \u001b[32m0.0/40.1 kB\u001b[0m \u001b[31m?\u001b[0m eta \u001b[36m-:--:--\u001b[0m\r\u001b[2K     \u001b[90m━━━━━━━━━━━━━━━━━━━━━━━━━━━━━━━━━━━━━━━━\u001b[0m \u001b[32m40.1/40.1 kB\u001b[0m \u001b[31m1.3 MB/s\u001b[0m eta \u001b[36m0:00:00\u001b[0m\n",
            "\u001b[?25h"
          ]
        }
      ],
      "source": [
        "!pip install pymc --quiet\n",
        "!pip install numpy --quiet\n",
        "!pip install arviz --quiet\n",
        "!pip install erroranalysis --quiet"
      ]
    },
    {
      "cell_type": "code",
      "source": [
        "import arviz as az\n",
        "import erroranalysis as ea\n",
        "import gc\n",
        "import graphviz\n",
        "import math\n",
        "import matplotlib.pyplot as plt\n",
        "import numpy as np\n",
        "import pandas as pd\n",
        "import pymc as pm\n",
        "import random as rm\n",
        "import seaborn as sns\n",
        "\n",
        "from IPython.display import Image\n",
        "from scipy import stats\n",
        "from sklearn.model_selection import train_test_split\n",
        "from google.colab import files\n",
        "\n",
        "print(f\"Running on PyMC v{pm.__version__}\")"
      ],
      "metadata": {
        "id": "ehpymOwzrgm7",
        "outputId": "6ad76d3f-0c2f-42cd-9a47-035c0a12dd1d",
        "colab": {
          "base_uri": "https://localhost:8080/"
        }
      },
      "execution_count": 2,
      "outputs": [
        {
          "output_type": "stream",
          "name": "stdout",
          "text": [
            "Running on PyMC v5.7.2\n"
          ]
        }
      ]
    },
    {
      "cell_type": "markdown",
      "source": [
        "## Load Data"
      ],
      "metadata": {
        "id": "s5Nsn4LgzVmj"
      }
    },
    {
      "cell_type": "code",
      "source": [
        "agents_url = 'https://raw.githubusercontent.com/Kinds-of-Intelligence-CFI/comparative-object-permanence/measurement-layout/analysis/measurement-layouts/results_final_clean_agents_wide.csv?token=GHSAT0AAAAAACEGARGREAIM5HWQB2NCVERMZHE2ZHQ'\n",
        "agent_data = pd.read_csv(agents_url)\n",
        "\n",
        "children_url = 'https://raw.githubusercontent.com/Kinds-of-Intelligence-CFI/comparative-object-permanence/measurement-layout/analysis/measurement-layouts/results_final_clean_children_wide.csv?token=GHSAT0AAAAAACEGARGR5NVKAZ3BKZDK6JQKZHE2ZQA'\n",
        "children_data = pd.read_csv(children_url)\n",
        "\n",
        "synthetic_agents_url = 'https://raw.githubusercontent.com/Kinds-of-Intelligence-CFI/comparative-object-permanence/measurement-layout/analysis/measurement-layouts/results_synthetic_agents_wide.csv?token=GHSAT0AAAAAACEGARGQJ5H5WHGOKSDKY3IKZHE2Z2A'\n",
        "synthetic_agents_data = pd.read_csv(synthetic_agents_url)\n"
      ],
      "metadata": {
        "id": "1dN0OHAWzVBK"
      },
      "execution_count": 3,
      "outputs": []
    },
    {
      "cell_type": "markdown",
      "source": [
        "## Define the Measurement Layout"
      ],
      "metadata": {
        "id": "C0_GsfhIYZPw"
      }
    },
    {
      "cell_type": "code",
      "source": [
        "## Helper functions\n",
        "\n",
        "def logistic(x, L=1, k=1, x_0=0):\n",
        "  return (L / (1 + np.exp(-k * (x-x_0))))\n",
        "\n",
        "def logistic999(x, min, max):    # This logistic function ensures that if x is at -(max-min), we get prob 0.001, and if x is at (max-min), we get prob 0.999\n",
        "  x = x - min\n",
        "  max = max - min\n",
        "  x = 6.90675478 * x / max\n",
        "  return 1 / (1 + np.exp(-x))\n",
        "\n",
        "def visualAcuityLOMargin(ability, goalSmallness): # must return a value between -inf and inf  (more precisely between -maxVisualAcuityAbility and maxVisualAcuityAbility)\n",
        "  return ability - goalSmallness   # Goes between -inf to inf, with logodds=0 meaning this would lead to 0.5 chance of success\n",
        "\n",
        "def SimplePrMargin(ability, binaryFeature): # must return a value between 0 and 1\n",
        "  return 1-((1-ability)*binaryFeature)  # If binaryFeature is 0 then the margin represents p(success)=1. If binaryFeature = 1 then p(success)=ability\n",
        "\n",
        "#def flatNavMargin(ability, distanceToGoal, numTurns, allocentricOcclusion): # must return a value between -inf and inf  (more precisely between -maxSpatialAbility and maxSpatialAbility)\n",
        "def flatNavMargin(ability, distanceToGoal, numTurns):\n",
        "  #return ability - ((distanceToGoal * numTurns)*allocentricOcclusion)   # Goes between -inf to inf, with logodds=0 meaning this would lead to 0.5 chance of success\n",
        "  return ability - ((distanceToGoal * numTurns))\n",
        "\n",
        "def objPermanenceLOMargin(ability, allocentricOcclusion, cvChickP, pctbP, lightsOut, distanceToGoal, numPositions, maxPermAbility, lightsOutPenalisation, uniformAbilitySlack): #,  visualAcuityP): # must return a value between -inf and inf (more precisely between -maxPermAbility and maxPermAbility)\n",
        "#def objPermanenceLOMargin(ability, allocentricOcclusion, lightsOut, distanceToGoal, numPositions, maxPermAbility, lightsOutPenalisation, uniformAbilitySlack):\n",
        "  assert lightsOutPenalisation < uniformAbilitySlack and lightsOutPenalisation > 1, \"Penalisation for lights out must be lower than the slack on abilities.\"\n",
        "  OPPerformance = ability  - ((distanceToGoal * numPositions)*(lightsOut*lightsOutPenalisation)) #this returns a value that is lower when (a) ability is lower, (b) the goal is occluded for longer or there are more positions where it could be occluded, or (c) when the lights go out (by a small penalisation)\n",
        "  ability = maxPermAbility - ((maxPermAbility-OPPerformance)*allocentricOcclusion) * cvChickP * pctbP # this returns an ability value that is modulated by performance on the different paradigms. The agent needs to be good at both to have a high OP ability\n",
        "  #return maxPermAbility-((maxPermAbility-OPPerformance)*((allocentricOcclusion*cvChick) + (allocentricOcclusion*pctb))) #multiply by a factor that introduces whether the instance is a an OP CV task or an OP PCTB task (independent, so ((allocentricOcclusion*cvChick) + (allocentricOcclusion*pctb)) should be 0 or 1)\n",
        "  #return maxPermAbility - ((maxPermAbility-OPPerformance)*allocentricOcclusion)\n",
        "  return ability\n",
        "\n",
        "def scaledBeta(name, a, b, min, max, simpleGraph = True):\n",
        "  if (simpleGraph):\n",
        "    beta = pm.Beta(name, a, b)\n",
        "    return beta * (max - min) + min\n",
        "  else:\n",
        "    beta = pm.Beta(f\"{name}_raw\", a, b)\n",
        "    return pm.Deterministic(name, beta * (max - min) + min)\n"
      ],
      "metadata": {
        "id": "-uobQpcJiPr2"
      },
      "execution_count": 105,
      "outputs": []
    },
    {
      "cell_type": "code",
      "source": [
        "def SetupModel(taskResultsAll, uniformAbilitySlack, agent_type, agent_name = None, sample = 500):\n",
        "  \"\"\"\n",
        "  taskResults is the conjunction of the metadata with the successes of the agents on that set of tests.\n",
        "  \"\"\"\n",
        "  assert uniformAbilitySlack >=1, \"Slack must be greater than or equal to 1.\"\n",
        "\n",
        "  if agent_type == \"agent\":\n",
        "    taskResults = taskResultsAll.dropna(subset = [agent_name])\n",
        "    if sample is not None:\n",
        "      taskResults = taskResults.sample(n=sample)\n",
        "    results = taskResults[agent_name]\n",
        "  elif agent_type == \"child\":\n",
        "    taskResults = taskResultsAll.dropna(subset = ['success'])\n",
        "    if sample is not None:\n",
        "      taskResults = taskResults.sample(n=sample)\n",
        "    results = taskResults['success']\n",
        "  else:\n",
        "    print(\"Agent not recognised. Quitting.\")\n",
        "    return\n",
        "\n",
        "\n",
        "\n",
        "  abilityMin = {} #Initialize ability Min and max dataframes for plotting ranges\n",
        "  abilityMax = {}\n",
        "\n",
        "  #Decide \"maximum capabilities\" based on the hardest values in the dataset\n",
        "  maxDistance = taskResults[\"cityBlockDistanceToGoal\"].max()\n",
        "  maxTurns = taskResults[\"minNumTurnsRequired\"].max()\n",
        "  maxChoices = taskResults[\"numChoices\"].max()\n",
        "  maxGoalSize = taskResults[\"mainGoalSize\"].max()\n",
        "  maxPermAbility = maxDistance * maxChoices * uniformAbilitySlack\n",
        "  #maxMemoryAbility = maxDistance * uniformAbilitySlack\n",
        "  m = pm.Model()\n",
        "  with m:\n",
        "\n",
        "    objPermAbility = pm.Uniform(\"objPermAbility\", 0, maxPermAbility)  # [0,maxPermAbility] This is the same as above, but we have the ability in the right magnitude\n",
        "    abilityMin[\"objPermAbility\"] = 0\n",
        "    abilityMax[\"objPermAbility\"] = maxPermAbility\n",
        "\n",
        "    #memoryAbility = pm.Uniform(\"memoryAbility\", 0, maxMemoryAbility)  # [0,maxMemoryAbility] This is the same as above, but we have the ability in the right magnitude\n",
        "    #abilityMin[\"memoryAbility\"] = 0\n",
        "    #abilityMax[\"memoryAbility\"] = maxMemoryAbility\n",
        "\n",
        "    #Visual acuity\n",
        "    maxVisualAcuityAbility = maxGoalSize* uniformAbilitySlack\n",
        "    visualAcuityAbility = pm.Uniform(\"visualAcuityAbility\", 0, maxVisualAcuityAbility)\n",
        "    abilityMin[\"visualAcuityAbility\"] = 0\n",
        "    abilityMax[\"visualAcuityAbility\"] = maxVisualAcuityAbility\n",
        "\n",
        "    # Flat Navigation Ability\n",
        "    flatNavAbility = pm.Uniform(\"flatNavAbility\", 0, maxDistance*maxTurns)      # how much navigation is involved, i.e, how far away and how circuitous is the path to the goal?\n",
        "    abilityMin[\"flatNavAbility\"] =0\n",
        "    abilityMax[\"flatNavAbility\"] = maxDistance*maxTurns\n",
        "\n",
        "    # Lava Ability\n",
        "    lavaAbility = pm.Beta(\"lavaAbility\", 1,1)                        # [0,1] Specific ability with lava\n",
        "    abilityMin[\"lavaAbility\"] = 0\n",
        "    abilityMax[\"lavaAbility\"] = 1\n",
        "\n",
        "    # Ramp Ability\n",
        "    rampAbility = pm.Beta(\"rampAbility\",1,1)                          # [0,1] Specific ability with ramps\n",
        "    abilityMin[\"rampAbility\"] = 0\n",
        "    abilityMax[\"rampAbility\"] = 1\n",
        "\n",
        "    # Goal Right Ability\n",
        "    rightAbility = pm.Beta(\"rightAbility\", 1, 1)\n",
        "    abilityMin[\"rightAbility\"] = 0\n",
        "    abilityMax[\"rightAbility\"] = 1\n",
        "\n",
        "    # Goal Left Ability\n",
        "    leftAbility = pm.Beta(\"leftAbility\", 1, 1)\n",
        "    abilityMin[\"leftAbility\"] = 0\n",
        "    abilityMax[\"leftAbility\"] = 1\n",
        "\n",
        "    # Goal Ahead Ability\n",
        "    aheadAbility = pm.Beta(\"aheadAbility\", 1, 1)\n",
        "    abilityMin[\"aheadAbility\"] = 0\n",
        "    abilityMax[\"aheadAbility\"] = 1\n",
        "\n",
        "    # CV Chick Ability\n",
        "    CVChickAbility = pm.Beta(\"CVChickAbility\", 1, 1)\n",
        "    abilityMin[\"CVChickAbility\"] = 0\n",
        "    abilityMax[\"CVChickAbility\"] = 1\n",
        "\n",
        "    # PCTB Ability\n",
        "    PCTBAbility = pm.Beta(\"PCTBAbility\", 1, 1)\n",
        "    abilityMin[\"PCTBAbility\"] = 0\n",
        "    abilityMax[\"PCTBAbility\"] = 1\n",
        "\n",
        "\n",
        "\n",
        "    ## Environment variables as Deterministic (about the instance)\n",
        "\n",
        "    lavaPresence = pm.MutableData(\"lavaPresence\", taskResults[\"lavaPresence\"].values)\n",
        "    rampPresence = pm.MutableData(\"rampPresence\", taskResults[\"taskCriticalRampPresence\"].values)\n",
        "    lightsOutPresence = pm.MutableData(\"lightsOutPresence\", taskResults[\"lightsOutPresence\"].values)\n",
        "    #numGoals = pm.MutableData(\"numberOfGoals\", taskResults[\"numGoalsAll\"].values)\n",
        "    numChoices = pm.MutableData(\"numChoices\", taskResults[\"numChoices\"].values)\n",
        "    goalSize = pm.MutableData(\"goalSize\",taskResults[\"mainGoalSize\"].values)\n",
        "    goalDist = pm.MutableData(\"goalDistance\", taskResults[\"cityBlockDistanceToGoal\"])\n",
        "    numTurns = pm.MutableData(\"minTurnsToGoal\", taskResults[\"minNumTurnsRequired\"])\n",
        "    goalRight = pm.MutableData(\"goalRight\", taskResults[\"goalRightRelToStart\"])\n",
        "    goalAhead = pm.MutableData(\"goalAhead\", taskResults[\"goalCentreRelToStart\"])\n",
        "    goalLeft = pm.MutableData(\"goalLeft\", taskResults[\"goalLeftRelToStart\"])\n",
        "    opTest = pm.MutableData(\"allocentricOPTest\", taskResults[\"goalBecomesAllocentricallyOccluded\"])\n",
        "    CVTest = pm.MutableData(\"CVChickTest\", taskResults[\"cvchickTask\"])\n",
        "    PCTBTest = pm.MutableData(\"PCTBTest\", taskResults[\"pctbTask\"])\n",
        "\n",
        "    ## Margins\n",
        "\n",
        "    goalSmallness = maxGoalSize - goalSize\n",
        "    visualAcuityP = pm.Deterministic(\"visualAcuityP\", logistic(visualAcuityLOMargin(visualAcuityAbility, goalSmallness)))\n",
        "\n",
        "    rightP = pm.Deterministic(\"rightPerformance\", SimplePrMargin(rightAbility, goalRight))\n",
        "    aheadP = pm.Deterministic(\"aheadPerformance\", SimplePrMargin(aheadAbility, goalAhead))\n",
        "    leftP = pm.Deterministic(\"leftPerformance\", SimplePrMargin(leftAbility, goalLeft))\n",
        "\n",
        "    #flatNavP = pm.Deterministic(\"flatNavP\", logistic(flatNavMargin(flatNavAbility, goalDist, numTurns, opTest)))\n",
        "    flatNavP = pm.Deterministic(\"flatNavP\", logistic(flatNavMargin(flatNavAbility, goalDist, numTurns)))\n",
        "\n",
        "    lavaP = pm.Deterministic(\"lavaP\", SimplePrMargin(lavaAbility, lavaPresence))\n",
        "\n",
        "    rampP = pm.Deterministic(\"rampP\", SimplePrMargin(rampAbility, rampPresence))\n",
        "\n",
        "    cvchickP = pm.Deterministic(\"cvChickP\", SimplePrMargin(CVChickAbility, CVTest))\n",
        "    pctbP = pm.Deterministic(\"pctbP\", SimplePrMargin(PCTBAbility, PCTBTest))\n",
        "\n",
        "    navP = pm.Deterministic(\"navP\", (flatNavP * lavaP * rampP * rightP * aheadP * leftP * cvchickP * pctbP)) #, visualAcuityP))\n",
        "\n",
        "    #OPLOM = objPermanenceLOMargin(objPermAbility, opTest, CVTest, PCTBTest, lightsOutPresence, goalDist, numChoices, maxPermAbility, lightsOutPenalisation=(uniformAbilitySlack-0.35), uniformAbilitySlack=uniformAbilitySlack)\n",
        "    #OPLOM = objPermanenceLOMargin(objPermAbility, opTest, lightsOutPresence, goalDist, numChoices, maxPermAbility, lightsOutPenalisation=(uniformAbilitySlack-0.35), uniformAbilitySlack=uniformAbilitySlack)\n",
        "    OPLOM = objPermanenceLOMargin(objPermAbility, opTest, cvchickP, pctbP, lightsOutPresence, goalDist, numChoices, maxPermAbility, lightsOutPenalisation=(uniformAbilitySlack-0.35), uniformAbilitySlack=uniformAbilitySlack)\n",
        "\n",
        "    objPermP = pm.Deterministic(\"objPermP\", logistic(OPLOM))\n",
        "\n",
        "    noise = 1 - np.mean(results)  # With this noise is complementary to result prior.\n",
        "    noisePar = pm.Uniform(\"noisePar\", 0, 1)\n",
        "    finalP = pm.Deterministic(\"finalP\", (1-noisePar)*(objPermP * navP * visualAcuityP)+(noisePar*noise))\n",
        "\n",
        "    #finalP = pm.Deterministic(\"finalP\", (objPermP * navP * visualAcuityP))\n",
        "\n",
        "    taskPerformance = pm.Bernoulli(\"taskPerformance\", finalP, observed=results)\n",
        "\n",
        "  pm.model_graph.model_to_graphviz(m)\n",
        "\n",
        "  return m, abilityMin, abilityMax"
      ],
      "metadata": {
        "id": "9JrHfqlDYYwb"
      },
      "execution_count": 5,
      "outputs": []
    },
    {
      "cell_type": "code",
      "source": [
        "m, min, max = SetupModel(synthetic_agents_data, uniformAbilitySlack=1.4, agent_type='agent', agent_name=\"perfectAgent\", sample = None)\n",
        "gv = pm.model_graph.model_to_graphviz(m)\n",
        "gv.format=\"png\"\n",
        "gv.render\n",
        "#gv.render(directory='viz')\n",
        "#Image(\"viz/Digraph.gv.png\")\n",
        "gv"
      ],
      "metadata": {
        "id": "6ZxN1nZJm5oP",
        "outputId": "8a9f1a7f-d177-4cac-e6b3-0a9ef21af148",
        "colab": {
          "base_uri": "https://localhost:8080/",
          "height": 774
        }
      },
      "execution_count": 6,
      "outputs": [
        {
          "output_type": "execute_result",
          "data": {
            "image/svg+xml": "<?xml version=\"1.0\" encoding=\"UTF-8\" standalone=\"no\"?>\n<!DOCTYPE svg PUBLIC \"-//W3C//DTD SVG 1.1//EN\"\n \"http://www.w3.org/Graphics/SVG/1.1/DTD/svg11.dtd\">\n<!-- Generated by graphviz version 2.43.0 (0)\n -->\n<!-- Title: %3 Pages: 1 -->\n<svg width=\"2734pt\" height=\"549pt\"\n viewBox=\"0.00 0.00 2733.63 548.84\" xmlns=\"http://www.w3.org/2000/svg\" xmlns:xlink=\"http://www.w3.org/1999/xlink\">\n<g id=\"graph0\" class=\"graph\" transform=\"scale(1 1) rotate(0) translate(4 544.84)\">\n<title>%3</title>\n<polygon fill=\"white\" stroke=\"transparent\" points=\"-4,4 -4,-544.84 2729.63,-544.84 2729.63,4 -4,4\"/>\n<g id=\"clust1\" class=\"cluster\">\n<title>cluster4214</title>\n<path fill=\"none\" stroke=\"black\" d=\"M197.68,-8C197.68,-8 1604.68,-8 1604.68,-8 1610.68,-8 1616.68,-14 1616.68,-20 1616.68,-20 1616.68,-520.84 1616.68,-520.84 1616.68,-526.84 1610.68,-532.84 1604.68,-532.84 1604.68,-532.84 197.68,-532.84 197.68,-532.84 191.68,-532.84 185.68,-526.84 185.68,-520.84 185.68,-520.84 185.68,-20 185.68,-20 185.68,-14 191.68,-8 197.68,-8\"/>\n<text text-anchor=\"middle\" x=\"1594.68\" y=\"-15.8\" font-family=\"Times,serif\" font-size=\"14.00\">4214</text>\n</g>\n<!-- visualAcuityAbility -->\n<g id=\"node1\" class=\"node\">\n<title>visualAcuityAbility</title>\n<ellipse fill=\"none\" stroke=\"black\" cx=\"87.68\" cy=\"-387.38\" rx=\"87.86\" ry=\"37.45\"/>\n<text text-anchor=\"middle\" x=\"87.68\" y=\"-398.68\" font-family=\"Times,serif\" font-size=\"14.00\">visualAcuityAbility</text>\n<text text-anchor=\"middle\" x=\"87.68\" y=\"-383.68\" font-family=\"Times,serif\" font-size=\"14.00\">~</text>\n<text text-anchor=\"middle\" x=\"87.68\" y=\"-368.68\" font-family=\"Times,serif\" font-size=\"14.00\">Uniform</text>\n</g>\n<!-- visualAcuityP -->\n<g id=\"node17\" class=\"node\">\n<title>visualAcuityP</title>\n<polygon fill=\"none\" stroke=\"black\" points=\"286.18,-302.93 193.18,-302.93 193.18,-249.93 286.18,-249.93 286.18,-302.93\"/>\n<text text-anchor=\"middle\" x=\"239.68\" y=\"-287.73\" font-family=\"Times,serif\" font-size=\"14.00\">visualAcuityP</text>\n<text text-anchor=\"middle\" x=\"239.68\" y=\"-272.73\" font-family=\"Times,serif\" font-size=\"14.00\">~</text>\n<text text-anchor=\"middle\" x=\"239.68\" y=\"-257.73\" font-family=\"Times,serif\" font-size=\"14.00\">Deterministic</text>\n</g>\n<!-- visualAcuityAbility&#45;&gt;visualAcuityP -->\n<g id=\"edge1\" class=\"edge\">\n<title>visualAcuityAbility&#45;&gt;visualAcuityP</title>\n<path fill=\"none\" stroke=\"black\" d=\"M131.65,-354.87C151.75,-340.46 175.51,-323.43 195.62,-309.01\"/>\n<polygon fill=\"black\" stroke=\"black\" points=\"197.9,-311.68 203.99,-303.01 193.83,-305.99 197.9,-311.68\"/>\n</g>\n<!-- flatNavAbility -->\n<g id=\"node2\" class=\"node\">\n<title>flatNavAbility</title>\n<ellipse fill=\"none\" stroke=\"black\" cx=\"1823.68\" cy=\"-498.34\" rx=\"67.35\" ry=\"37.45\"/>\n<text text-anchor=\"middle\" x=\"1823.68\" y=\"-509.64\" font-family=\"Times,serif\" font-size=\"14.00\">flatNavAbility</text>\n<text text-anchor=\"middle\" x=\"1823.68\" y=\"-494.64\" font-family=\"Times,serif\" font-size=\"14.00\">~</text>\n<text text-anchor=\"middle\" x=\"1823.68\" y=\"-479.64\" font-family=\"Times,serif\" font-size=\"14.00\">Uniform</text>\n</g>\n<!-- flatNavP -->\n<g id=\"node31\" class=\"node\">\n<title>flatNavP</title>\n<polygon fill=\"none\" stroke=\"black\" points=\"521.18,-413.88 430.18,-413.88 430.18,-360.88 521.18,-360.88 521.18,-413.88\"/>\n<text text-anchor=\"middle\" x=\"475.68\" y=\"-398.68\" font-family=\"Times,serif\" font-size=\"14.00\">flatNavP</text>\n<text text-anchor=\"middle\" x=\"475.68\" y=\"-383.68\" font-family=\"Times,serif\" font-size=\"14.00\">~</text>\n<text text-anchor=\"middle\" x=\"475.68\" y=\"-368.68\" font-family=\"Times,serif\" font-size=\"14.00\">Deterministic</text>\n</g>\n<!-- flatNavAbility&#45;&gt;flatNavP -->\n<g id=\"edge10\" class=\"edge\">\n<title>flatNavAbility&#45;&gt;flatNavP</title>\n<path fill=\"none\" stroke=\"black\" d=\"M1776.98,-471.2C1767.54,-467 1757.49,-463.25 1747.68,-460.86 1489.33,-397.97 810.03,-487.75 551.68,-424.86 544.64,-423.15 537.48,-420.73 530.52,-417.95\"/>\n<polygon fill=\"black\" stroke=\"black\" points=\"531.73,-414.66 521.16,-413.96 528.99,-421.1 531.73,-414.66\"/>\n</g>\n<!-- leftAbility -->\n<g id=\"node3\" class=\"node\">\n<title>leftAbility</title>\n<ellipse fill=\"none\" stroke=\"black\" cx=\"2226.68\" cy=\"-498.34\" rx=\"51.74\" ry=\"37.45\"/>\n<text text-anchor=\"middle\" x=\"2226.68\" y=\"-509.64\" font-family=\"Times,serif\" font-size=\"14.00\">leftAbility</text>\n<text text-anchor=\"middle\" x=\"2226.68\" y=\"-494.64\" font-family=\"Times,serif\" font-size=\"14.00\">~</text>\n<text text-anchor=\"middle\" x=\"2226.68\" y=\"-479.64\" font-family=\"Times,serif\" font-size=\"14.00\">Beta</text>\n</g>\n<!-- leftPerformance -->\n<g id=\"node15\" class=\"node\">\n<title>leftPerformance</title>\n<polygon fill=\"none\" stroke=\"black\" points=\"909.68,-413.88 805.68,-413.88 805.68,-360.88 909.68,-360.88 909.68,-413.88\"/>\n<text text-anchor=\"middle\" x=\"857.68\" y=\"-398.68\" font-family=\"Times,serif\" font-size=\"14.00\">leftPerformance</text>\n<text text-anchor=\"middle\" x=\"857.68\" y=\"-383.68\" font-family=\"Times,serif\" font-size=\"14.00\">~</text>\n<text text-anchor=\"middle\" x=\"857.68\" y=\"-368.68\" font-family=\"Times,serif\" font-size=\"14.00\">Deterministic</text>\n</g>\n<!-- leftAbility&#45;&gt;leftPerformance -->\n<g id=\"edge7\" class=\"edge\">\n<title>leftAbility&#45;&gt;leftPerformance</title>\n<path fill=\"none\" stroke=\"black\" d=\"M2190.65,-471.38C2183.06,-467.1 2174.86,-463.28 2166.68,-460.86 1900.84,-382.24 1186.09,-501.56 919.68,-424.86 914.28,-423.31 908.86,-421.17 903.6,-418.71\"/>\n<polygon fill=\"black\" stroke=\"black\" points=\"904.83,-415.41 894.34,-413.97 901.65,-421.64 904.83,-415.41\"/>\n</g>\n<!-- rampAbility -->\n<g id=\"node4\" class=\"node\">\n<title>rampAbility</title>\n<ellipse fill=\"none\" stroke=\"black\" cx=\"2354.68\" cy=\"-498.34\" rx=\"58.88\" ry=\"37.45\"/>\n<text text-anchor=\"middle\" x=\"2354.68\" y=\"-509.64\" font-family=\"Times,serif\" font-size=\"14.00\">rampAbility</text>\n<text text-anchor=\"middle\" x=\"2354.68\" y=\"-494.64\" font-family=\"Times,serif\" font-size=\"14.00\">~</text>\n<text text-anchor=\"middle\" x=\"2354.68\" y=\"-479.64\" font-family=\"Times,serif\" font-size=\"14.00\">Beta</text>\n</g>\n<!-- rampP -->\n<g id=\"node34\" class=\"node\">\n<title>rampP</title>\n<polygon fill=\"none\" stroke=\"black\" points=\"1019.18,-413.88 928.18,-413.88 928.18,-360.88 1019.18,-360.88 1019.18,-413.88\"/>\n<text text-anchor=\"middle\" x=\"973.68\" y=\"-398.68\" font-family=\"Times,serif\" font-size=\"14.00\">rampP</text>\n<text text-anchor=\"middle\" x=\"973.68\" y=\"-383.68\" font-family=\"Times,serif\" font-size=\"14.00\">~</text>\n<text text-anchor=\"middle\" x=\"973.68\" y=\"-368.68\" font-family=\"Times,serif\" font-size=\"14.00\">Deterministic</text>\n</g>\n<!-- rampAbility&#45;&gt;rampP -->\n<g id=\"edge15\" class=\"edge\">\n<title>rampAbility&#45;&gt;rampP</title>\n<path fill=\"none\" stroke=\"black\" d=\"M2313.78,-471.19C2305.44,-466.99 2296.5,-463.24 2287.68,-460.86 2017.45,-387.94 1295.48,-509.47 1028.68,-424.86 1024.01,-423.38 1019.37,-421.38 1014.87,-419.07\"/>\n<polygon fill=\"black\" stroke=\"black\" points=\"1016.31,-415.86 1005.89,-413.96 1012.86,-421.95 1016.31,-415.86\"/>\n</g>\n<!-- noisePar -->\n<g id=\"node5\" class=\"node\">\n<title>noisePar</title>\n<ellipse fill=\"none\" stroke=\"black\" cx=\"1669.68\" cy=\"-276.43\" rx=\"45.01\" ry=\"37.45\"/>\n<text text-anchor=\"middle\" x=\"1669.68\" y=\"-287.73\" font-family=\"Times,serif\" font-size=\"14.00\">noisePar</text>\n<text text-anchor=\"middle\" x=\"1669.68\" y=\"-272.73\" font-family=\"Times,serif\" font-size=\"14.00\">~</text>\n<text text-anchor=\"middle\" x=\"1669.68\" y=\"-257.73\" font-family=\"Times,serif\" font-size=\"14.00\">Uniform</text>\n</g>\n<!-- finalP -->\n<g id=\"node36\" class=\"node\">\n<title>finalP</title>\n<polygon fill=\"none\" stroke=\"black\" points=\"1070.18,-202.95 979.18,-202.95 979.18,-149.95 1070.18,-149.95 1070.18,-202.95\"/>\n<text text-anchor=\"middle\" x=\"1024.68\" y=\"-187.75\" font-family=\"Times,serif\" font-size=\"14.00\">finalP</text>\n<text text-anchor=\"middle\" x=\"1024.68\" y=\"-172.75\" font-family=\"Times,serif\" font-size=\"14.00\">~</text>\n<text text-anchor=\"middle\" x=\"1024.68\" y=\"-157.75\" font-family=\"Times,serif\" font-size=\"14.00\">Deterministic</text>\n</g>\n<!-- noisePar&#45;&gt;finalP -->\n<g id=\"edge35\" class=\"edge\">\n<title>noisePar&#45;&gt;finalP</title>\n<path fill=\"none\" stroke=\"black\" d=\"M1639.01,-248.81C1633.23,-244.93 1627.01,-241.42 1620.68,-238.95 1522.89,-200.87 1208.97,-184.61 1080.39,-179.44\"/>\n<polygon fill=\"black\" stroke=\"black\" points=\"1080.49,-175.94 1070.36,-179.04 1080.22,-182.93 1080.49,-175.94\"/>\n</g>\n<!-- objPermAbility -->\n<g id=\"node6\" class=\"node\">\n<title>objPermAbility</title>\n<ellipse fill=\"none\" stroke=\"black\" cx=\"1697.68\" cy=\"-387.38\" rx=\"71.34\" ry=\"37.45\"/>\n<text text-anchor=\"middle\" x=\"1697.68\" y=\"-398.68\" font-family=\"Times,serif\" font-size=\"14.00\">objPermAbility</text>\n<text text-anchor=\"middle\" x=\"1697.68\" y=\"-383.68\" font-family=\"Times,serif\" font-size=\"14.00\">~</text>\n<text text-anchor=\"middle\" x=\"1697.68\" y=\"-368.68\" font-family=\"Times,serif\" font-size=\"14.00\">Uniform</text>\n</g>\n<!-- objPermP -->\n<g id=\"node13\" class=\"node\">\n<title>objPermP</title>\n<polygon fill=\"none\" stroke=\"black\" points=\"1291.18,-302.93 1200.18,-302.93 1200.18,-249.93 1291.18,-249.93 1291.18,-302.93\"/>\n<text text-anchor=\"middle\" x=\"1245.68\" y=\"-287.73\" font-family=\"Times,serif\" font-size=\"14.00\">objPermP</text>\n<text text-anchor=\"middle\" x=\"1245.68\" y=\"-272.73\" font-family=\"Times,serif\" font-size=\"14.00\">~</text>\n<text text-anchor=\"middle\" x=\"1245.68\" y=\"-257.73\" font-family=\"Times,serif\" font-size=\"14.00\">Deterministic</text>\n</g>\n<!-- objPermAbility&#45;&gt;objPermP -->\n<g id=\"edge32\" class=\"edge\">\n<title>objPermAbility&#45;&gt;objPermP</title>\n<path fill=\"none\" stroke=\"black\" d=\"M1647.48,-360.39C1638.7,-356.49 1629.54,-352.81 1620.68,-349.91 1510.4,-313.77 1375.63,-293.17 1301.41,-283.75\"/>\n<polygon fill=\"black\" stroke=\"black\" points=\"1301.7,-280.26 1291.35,-282.5 1300.84,-287.21 1301.7,-280.26\"/>\n</g>\n<!-- rightAbility -->\n<g id=\"node7\" class=\"node\">\n<title>rightAbility</title>\n<ellipse fill=\"none\" stroke=\"black\" cx=\"1681.68\" cy=\"-498.34\" rx=\"56.64\" ry=\"37.45\"/>\n<text text-anchor=\"middle\" x=\"1681.68\" y=\"-509.64\" font-family=\"Times,serif\" font-size=\"14.00\">rightAbility</text>\n<text text-anchor=\"middle\" x=\"1681.68\" y=\"-494.64\" font-family=\"Times,serif\" font-size=\"14.00\">~</text>\n<text text-anchor=\"middle\" x=\"1681.68\" y=\"-479.64\" font-family=\"Times,serif\" font-size=\"14.00\">Beta</text>\n</g>\n<!-- rightPerformance -->\n<g id=\"node18\" class=\"node\">\n<title>rightPerformance</title>\n<polygon fill=\"none\" stroke=\"black\" points=\"411.68,-413.88 299.68,-413.88 299.68,-360.88 411.68,-360.88 411.68,-413.88\"/>\n<text text-anchor=\"middle\" x=\"355.68\" y=\"-398.68\" font-family=\"Times,serif\" font-size=\"14.00\">rightPerformance</text>\n<text text-anchor=\"middle\" x=\"355.68\" y=\"-383.68\" font-family=\"Times,serif\" font-size=\"14.00\">~</text>\n<text text-anchor=\"middle\" x=\"355.68\" y=\"-368.68\" font-family=\"Times,serif\" font-size=\"14.00\">Deterministic</text>\n</g>\n<!-- rightAbility&#45;&gt;rightPerformance -->\n<g id=\"edge3\" class=\"edge\">\n<title>rightAbility&#45;&gt;rightPerformance</title>\n<path fill=\"none\" stroke=\"black\" d=\"M1643.34,-470.48C1636.1,-466.57 1628.38,-463.11 1620.68,-460.86 1364.83,-386.05 678.77,-495.31 421.68,-424.86 415.72,-423.23 409.7,-420.95 403.87,-418.33\"/>\n<polygon fill=\"black\" stroke=\"black\" points=\"405.39,-415.18 394.87,-413.97 402.34,-421.48 405.39,-415.18\"/>\n</g>\n<!-- CVChickAbility -->\n<g id=\"node8\" class=\"node\">\n<title>CVChickAbility</title>\n<ellipse fill=\"none\" stroke=\"black\" cx=\"2650.68\" cy=\"-498.34\" rx=\"74.91\" ry=\"37.45\"/>\n<text text-anchor=\"middle\" x=\"2650.68\" y=\"-509.64\" font-family=\"Times,serif\" font-size=\"14.00\">CVChickAbility</text>\n<text text-anchor=\"middle\" x=\"2650.68\" y=\"-494.64\" font-family=\"Times,serif\" font-size=\"14.00\">~</text>\n<text text-anchor=\"middle\" x=\"2650.68\" y=\"-479.64\" font-family=\"Times,serif\" font-size=\"14.00\">Beta</text>\n</g>\n<!-- cvChickP -->\n<g id=\"node33\" class=\"node\">\n<title>cvChickP</title>\n<polygon fill=\"none\" stroke=\"black\" points=\"1237.18,-413.88 1146.18,-413.88 1146.18,-360.88 1237.18,-360.88 1237.18,-413.88\"/>\n<text text-anchor=\"middle\" x=\"1191.68\" y=\"-398.68\" font-family=\"Times,serif\" font-size=\"14.00\">cvChickP</text>\n<text text-anchor=\"middle\" x=\"1191.68\" y=\"-383.68\" font-family=\"Times,serif\" font-size=\"14.00\">~</text>\n<text text-anchor=\"middle\" x=\"1191.68\" y=\"-368.68\" font-family=\"Times,serif\" font-size=\"14.00\">Deterministic</text>\n</g>\n<!-- CVChickAbility&#45;&gt;cvChickP -->\n<g id=\"edge17\" class=\"edge\">\n<title>CVChickAbility&#45;&gt;cvChickP</title>\n<path fill=\"none\" stroke=\"black\" d=\"M2598.84,-471.19C2588.43,-466.98 2577.39,-463.24 2566.68,-460.86 2280.21,-397.26 1526.45,-513.38 1246.68,-424.86 1242.01,-423.38 1237.37,-421.38 1232.87,-419.07\"/>\n<polygon fill=\"black\" stroke=\"black\" points=\"1234.31,-415.87 1223.89,-413.97 1230.85,-421.95 1234.31,-415.87\"/>\n</g>\n<!-- lavaAbility -->\n<g id=\"node9\" class=\"node\">\n<title>lavaAbility</title>\n<ellipse fill=\"none\" stroke=\"black\" cx=\"1963.68\" cy=\"-498.34\" rx=\"54.39\" ry=\"37.45\"/>\n<text text-anchor=\"middle\" x=\"1963.68\" y=\"-509.64\" font-family=\"Times,serif\" font-size=\"14.00\">lavaAbility</text>\n<text text-anchor=\"middle\" x=\"1963.68\" y=\"-494.64\" font-family=\"Times,serif\" font-size=\"14.00\">~</text>\n<text text-anchor=\"middle\" x=\"1963.68\" y=\"-479.64\" font-family=\"Times,serif\" font-size=\"14.00\">Beta</text>\n</g>\n<!-- lavaP -->\n<g id=\"node35\" class=\"node\">\n<title>lavaP</title>\n<polygon fill=\"none\" stroke=\"black\" points=\"651.18,-413.88 560.18,-413.88 560.18,-360.88 651.18,-360.88 651.18,-413.88\"/>\n<text text-anchor=\"middle\" x=\"605.68\" y=\"-398.68\" font-family=\"Times,serif\" font-size=\"14.00\">lavaP</text>\n<text text-anchor=\"middle\" x=\"605.68\" y=\"-383.68\" font-family=\"Times,serif\" font-size=\"14.00\">~</text>\n<text text-anchor=\"middle\" x=\"605.68\" y=\"-368.68\" font-family=\"Times,serif\" font-size=\"14.00\">Deterministic</text>\n</g>\n<!-- lavaAbility&#45;&gt;lavaP -->\n<g id=\"edge12\" class=\"edge\">\n<title>lavaAbility&#45;&gt;lavaP</title>\n<path fill=\"none\" stroke=\"black\" d=\"M1925.42,-471.56C1917.24,-467.21 1908.42,-463.31 1899.68,-460.86 1634.47,-386.45 923.22,-508.19 660.68,-424.86 656.01,-423.38 651.37,-421.37 646.87,-419.06\"/>\n<polygon fill=\"black\" stroke=\"black\" points=\"648.31,-415.86 637.89,-413.96 644.86,-421.94 648.31,-415.86\"/>\n</g>\n<!-- aheadAbility -->\n<g id=\"node10\" class=\"node\">\n<title>aheadAbility</title>\n<ellipse fill=\"none\" stroke=\"black\" cx=\"2096.68\" cy=\"-498.34\" rx=\"60.62\" ry=\"37.45\"/>\n<text text-anchor=\"middle\" x=\"2096.68\" y=\"-509.64\" font-family=\"Times,serif\" font-size=\"14.00\">aheadAbility</text>\n<text text-anchor=\"middle\" x=\"2096.68\" y=\"-494.64\" font-family=\"Times,serif\" font-size=\"14.00\">~</text>\n<text text-anchor=\"middle\" x=\"2096.68\" y=\"-479.64\" font-family=\"Times,serif\" font-size=\"14.00\">Beta</text>\n</g>\n<!-- aheadPerformance -->\n<g id=\"node37\" class=\"node\">\n<title>aheadPerformance</title>\n<polygon fill=\"none\" stroke=\"black\" points=\"787.68,-413.88 669.68,-413.88 669.68,-360.88 787.68,-360.88 787.68,-413.88\"/>\n<text text-anchor=\"middle\" x=\"728.68\" y=\"-398.68\" font-family=\"Times,serif\" font-size=\"14.00\">aheadPerformance</text>\n<text text-anchor=\"middle\" x=\"728.68\" y=\"-383.68\" font-family=\"Times,serif\" font-size=\"14.00\">~</text>\n<text text-anchor=\"middle\" x=\"728.68\" y=\"-368.68\" font-family=\"Times,serif\" font-size=\"14.00\">Deterministic</text>\n</g>\n<!-- aheadAbility&#45;&gt;aheadPerformance -->\n<g id=\"edge5\" class=\"edge\">\n<title>aheadAbility&#45;&gt;aheadPerformance</title>\n<path fill=\"none\" stroke=\"black\" d=\"M2054.22,-471.38C2045.4,-467.1 2035.96,-463.28 2026.68,-460.86 1762.06,-391.93 1060.88,-495.37 796.68,-424.86 790.57,-423.23 784.39,-420.96 778.39,-418.33\"/>\n<polygon fill=\"black\" stroke=\"black\" points=\"779.66,-415.07 769.13,-413.97 776.68,-421.4 779.66,-415.07\"/>\n</g>\n<!-- PCTBAbility -->\n<g id=\"node11\" class=\"node\">\n<title>PCTBAbility</title>\n<ellipse fill=\"none\" stroke=\"black\" cx=\"2494.68\" cy=\"-498.34\" rx=\"62.87\" ry=\"37.45\"/>\n<text text-anchor=\"middle\" x=\"2494.68\" y=\"-509.64\" font-family=\"Times,serif\" font-size=\"14.00\">PCTBAbility</text>\n<text text-anchor=\"middle\" x=\"2494.68\" y=\"-494.64\" font-family=\"Times,serif\" font-size=\"14.00\">~</text>\n<text text-anchor=\"middle\" x=\"2494.68\" y=\"-479.64\" font-family=\"Times,serif\" font-size=\"14.00\">Beta</text>\n</g>\n<!-- pctbP -->\n<g id=\"node30\" class=\"node\">\n<title>pctbP</title>\n<polygon fill=\"none\" stroke=\"black\" points=\"1128.18,-413.88 1037.18,-413.88 1037.18,-360.88 1128.18,-360.88 1128.18,-413.88\"/>\n<text text-anchor=\"middle\" x=\"1082.68\" y=\"-398.68\" font-family=\"Times,serif\" font-size=\"14.00\">pctbP</text>\n<text text-anchor=\"middle\" x=\"1082.68\" y=\"-383.68\" font-family=\"Times,serif\" font-size=\"14.00\">~</text>\n<text text-anchor=\"middle\" x=\"1082.68\" y=\"-368.68\" font-family=\"Times,serif\" font-size=\"14.00\">Deterministic</text>\n</g>\n<!-- PCTBAbility&#45;&gt;pctbP -->\n<g id=\"edge19\" class=\"edge\">\n<title>PCTBAbility&#45;&gt;pctbP</title>\n<path fill=\"none\" stroke=\"black\" d=\"M2450.94,-471.37C2441.88,-467.09 2432.19,-463.27 2422.68,-460.86 2145.79,-390.61 1410.01,-511.14 1137.68,-424.86 1133.01,-423.38 1128.37,-421.38 1123.87,-419.07\"/>\n<polygon fill=\"black\" stroke=\"black\" points=\"1125.31,-415.86 1114.89,-413.97 1121.85,-421.95 1125.31,-415.86\"/>\n</g>\n<!-- CVChickTest -->\n<g id=\"node12\" class=\"node\">\n<title>CVChickTest</title>\n<path fill=\"lightgrey\" stroke=\"black\" d=\"M1224.68,-524.84C1224.68,-524.84 1158.68,-524.84 1158.68,-524.84 1152.68,-524.84 1146.68,-518.84 1146.68,-512.84 1146.68,-512.84 1146.68,-483.84 1146.68,-483.84 1146.68,-477.84 1152.68,-471.84 1158.68,-471.84 1158.68,-471.84 1224.68,-471.84 1224.68,-471.84 1230.68,-471.84 1236.68,-477.84 1236.68,-483.84 1236.68,-483.84 1236.68,-512.84 1236.68,-512.84 1236.68,-518.84 1230.68,-524.84 1224.68,-524.84\"/>\n<text text-anchor=\"middle\" x=\"1191.68\" y=\"-509.64\" font-family=\"Times,serif\" font-size=\"14.00\">CVChickTest</text>\n<text text-anchor=\"middle\" x=\"1191.68\" y=\"-494.64\" font-family=\"Times,serif\" font-size=\"14.00\">~</text>\n<text text-anchor=\"middle\" x=\"1191.68\" y=\"-479.64\" font-family=\"Times,serif\" font-size=\"14.00\">MutableData</text>\n</g>\n<!-- CVChickTest&#45;&gt;cvChickP -->\n<g id=\"edge16\" class=\"edge\">\n<title>CVChickTest&#45;&gt;cvChickP</title>\n<path fill=\"none\" stroke=\"black\" d=\"M1191.68,-471.79C1191.68,-457.69 1191.68,-439.94 1191.68,-424.44\"/>\n<polygon fill=\"black\" stroke=\"black\" points=\"1195.18,-424.15 1191.68,-414.15 1188.18,-424.15 1195.18,-424.15\"/>\n</g>\n<!-- objPermP&#45;&gt;finalP -->\n<g id=\"edge36\" class=\"edge\">\n<title>objPermP&#45;&gt;finalP</title>\n<path fill=\"none\" stroke=\"black\" d=\"M1200.16,-255.25C1165.21,-239.76 1116.82,-218.3 1079.7,-201.85\"/>\n<polygon fill=\"black\" stroke=\"black\" points=\"1081.09,-198.63 1070.52,-197.78 1078.25,-205.03 1081.09,-198.63\"/>\n</g>\n<!-- PCTBTest -->\n<g id=\"node14\" class=\"node\">\n<title>PCTBTest</title>\n<path fill=\"lightgrey\" stroke=\"black\" d=\"M1114.68,-524.84C1114.68,-524.84 1050.68,-524.84 1050.68,-524.84 1044.68,-524.84 1038.68,-518.84 1038.68,-512.84 1038.68,-512.84 1038.68,-483.84 1038.68,-483.84 1038.68,-477.84 1044.68,-471.84 1050.68,-471.84 1050.68,-471.84 1114.68,-471.84 1114.68,-471.84 1120.68,-471.84 1126.68,-477.84 1126.68,-483.84 1126.68,-483.84 1126.68,-512.84 1126.68,-512.84 1126.68,-518.84 1120.68,-524.84 1114.68,-524.84\"/>\n<text text-anchor=\"middle\" x=\"1082.68\" y=\"-509.64\" font-family=\"Times,serif\" font-size=\"14.00\">PCTBTest</text>\n<text text-anchor=\"middle\" x=\"1082.68\" y=\"-494.64\" font-family=\"Times,serif\" font-size=\"14.00\">~</text>\n<text text-anchor=\"middle\" x=\"1082.68\" y=\"-479.64\" font-family=\"Times,serif\" font-size=\"14.00\">MutableData</text>\n</g>\n<!-- PCTBTest&#45;&gt;pctbP -->\n<g id=\"edge18\" class=\"edge\">\n<title>PCTBTest&#45;&gt;pctbP</title>\n<path fill=\"none\" stroke=\"black\" d=\"M1082.68,-471.79C1082.68,-457.69 1082.68,-439.94 1082.68,-424.44\"/>\n<polygon fill=\"black\" stroke=\"black\" points=\"1086.18,-424.15 1082.68,-414.15 1079.18,-424.15 1086.18,-424.15\"/>\n</g>\n<!-- navP -->\n<g id=\"node24\" class=\"node\">\n<title>navP</title>\n<polygon fill=\"none\" stroke=\"black\" points=\"903.18,-302.93 812.18,-302.93 812.18,-249.93 903.18,-249.93 903.18,-302.93\"/>\n<text text-anchor=\"middle\" x=\"857.68\" y=\"-287.73\" font-family=\"Times,serif\" font-size=\"14.00\">navP</text>\n<text text-anchor=\"middle\" x=\"857.68\" y=\"-272.73\" font-family=\"Times,serif\" font-size=\"14.00\">~</text>\n<text text-anchor=\"middle\" x=\"857.68\" y=\"-257.73\" font-family=\"Times,serif\" font-size=\"14.00\">Deterministic</text>\n</g>\n<!-- leftPerformance&#45;&gt;navP -->\n<g id=\"edge25\" class=\"edge\">\n<title>leftPerformance&#45;&gt;navP</title>\n<path fill=\"none\" stroke=\"black\" d=\"M857.68,-360.84C857.68,-346.73 857.68,-328.98 857.68,-313.49\"/>\n<polygon fill=\"black\" stroke=\"black\" points=\"861.18,-313.19 857.68,-303.19 854.18,-313.19 861.18,-313.19\"/>\n</g>\n<!-- minTurnsToGoal -->\n<g id=\"node16\" class=\"node\">\n<title>minTurnsToGoal</title>\n<path fill=\"lightgrey\" stroke=\"black\" d=\"M453.68,-524.84C453.68,-524.84 367.68,-524.84 367.68,-524.84 361.68,-524.84 355.68,-518.84 355.68,-512.84 355.68,-512.84 355.68,-483.84 355.68,-483.84 355.68,-477.84 361.68,-471.84 367.68,-471.84 367.68,-471.84 453.68,-471.84 453.68,-471.84 459.68,-471.84 465.68,-477.84 465.68,-483.84 465.68,-483.84 465.68,-512.84 465.68,-512.84 465.68,-518.84 459.68,-524.84 453.68,-524.84\"/>\n<text text-anchor=\"middle\" x=\"410.68\" y=\"-509.64\" font-family=\"Times,serif\" font-size=\"14.00\">minTurnsToGoal</text>\n<text text-anchor=\"middle\" x=\"410.68\" y=\"-494.64\" font-family=\"Times,serif\" font-size=\"14.00\">~</text>\n<text text-anchor=\"middle\" x=\"410.68\" y=\"-479.64\" font-family=\"Times,serif\" font-size=\"14.00\">MutableData</text>\n</g>\n<!-- minTurnsToGoal&#45;&gt;flatNavP -->\n<g id=\"edge9\" class=\"edge\">\n<title>minTurnsToGoal&#45;&gt;flatNavP</title>\n<path fill=\"none\" stroke=\"black\" d=\"M425.92,-471.79C434.58,-457.28 445.54,-438.91 454.97,-423.11\"/>\n<polygon fill=\"black\" stroke=\"black\" points=\"458.19,-424.53 460.31,-414.15 452.18,-420.94 458.19,-424.53\"/>\n</g>\n<!-- visualAcuityP&#45;&gt;finalP -->\n<g id=\"edge38\" class=\"edge\">\n<title>visualAcuityP&#45;&gt;finalP</title>\n<path fill=\"none\" stroke=\"black\" d=\"M286.44,-269.59C423.11,-252.54 821.55,-202.81 968.98,-184.41\"/>\n<polygon fill=\"black\" stroke=\"black\" points=\"969.67,-187.85 979.16,-183.14 968.8,-180.9 969.67,-187.85\"/>\n</g>\n<!-- rightPerformance&#45;&gt;navP -->\n<g id=\"edge22\" class=\"edge\">\n<title>rightPerformance&#45;&gt;navP</title>\n<path fill=\"none\" stroke=\"black\" d=\"M396.94,-360.81C404.93,-356.66 413.4,-352.79 421.68,-349.91 553.17,-304.16 717.28,-286.85 801.72,-280.65\"/>\n<polygon fill=\"black\" stroke=\"black\" points=\"802.14,-284.13 811.87,-279.93 801.64,-277.15 802.14,-284.13\"/>\n</g>\n<!-- lightsOutPresence -->\n<g id=\"node19\" class=\"node\">\n<title>lightsOutPresence</title>\n<path fill=\"lightgrey\" stroke=\"black\" d=\"M1596.18,-413.88C1596.18,-413.88 1505.18,-413.88 1505.18,-413.88 1499.18,-413.88 1493.18,-407.88 1493.18,-401.88 1493.18,-401.88 1493.18,-372.88 1493.18,-372.88 1493.18,-366.88 1499.18,-360.88 1505.18,-360.88 1505.18,-360.88 1596.18,-360.88 1596.18,-360.88 1602.18,-360.88 1608.18,-366.88 1608.18,-372.88 1608.18,-372.88 1608.18,-401.88 1608.18,-401.88 1608.18,-407.88 1602.18,-413.88 1596.18,-413.88\"/>\n<text text-anchor=\"middle\" x=\"1550.68\" y=\"-398.68\" font-family=\"Times,serif\" font-size=\"14.00\">lightsOutPresence</text>\n<text text-anchor=\"middle\" x=\"1550.68\" y=\"-383.68\" font-family=\"Times,serif\" font-size=\"14.00\">~</text>\n<text text-anchor=\"middle\" x=\"1550.68\" y=\"-368.68\" font-family=\"Times,serif\" font-size=\"14.00\">MutableData</text>\n</g>\n<!-- lightsOutPresence&#45;&gt;objPermP -->\n<g id=\"edge31\" class=\"edge\">\n<title>lightsOutPresence&#45;&gt;objPermP</title>\n<path fill=\"none\" stroke=\"black\" d=\"M1507.3,-360.73C1499.89,-356.83 1492.16,-353.07 1484.68,-349.91 1423.77,-324.18 1350.62,-303.38 1301.43,-290.78\"/>\n<polygon fill=\"black\" stroke=\"black\" points=\"1302.17,-287.35 1291.61,-288.29 1300.45,-294.14 1302.17,-287.35\"/>\n</g>\n<!-- goalDistance -->\n<g id=\"node20\" class=\"node\">\n<title>goalDistance</title>\n<path fill=\"lightgrey\" stroke=\"black\" d=\"M559.68,-524.84C559.68,-524.84 495.68,-524.84 495.68,-524.84 489.68,-524.84 483.68,-518.84 483.68,-512.84 483.68,-512.84 483.68,-483.84 483.68,-483.84 483.68,-477.84 489.68,-471.84 495.68,-471.84 495.68,-471.84 559.68,-471.84 559.68,-471.84 565.68,-471.84 571.68,-477.84 571.68,-483.84 571.68,-483.84 571.68,-512.84 571.68,-512.84 571.68,-518.84 565.68,-524.84 559.68,-524.84\"/>\n<text text-anchor=\"middle\" x=\"527.68\" y=\"-509.64\" font-family=\"Times,serif\" font-size=\"14.00\">goalDistance</text>\n<text text-anchor=\"middle\" x=\"527.68\" y=\"-494.64\" font-family=\"Times,serif\" font-size=\"14.00\">~</text>\n<text text-anchor=\"middle\" x=\"527.68\" y=\"-479.64\" font-family=\"Times,serif\" font-size=\"14.00\">MutableData</text>\n</g>\n<!-- goalDistance&#45;&gt;objPermP -->\n<g id=\"edge33\" class=\"edge\">\n<title>goalDistance&#45;&gt;objPermP</title>\n<path fill=\"none\" stroke=\"black\" d=\"M528.23,-471.55C529.61,-433.77 534.49,-366.07 551.68,-349.91 610.43,-294.69 832.5,-322.3 912.68,-313.91 1010.14,-303.71 1123.56,-291.13 1189.71,-283.73\"/>\n<polygon fill=\"black\" stroke=\"black\" points=\"1190.36,-287.18 1199.91,-282.59 1189.58,-280.22 1190.36,-287.18\"/>\n</g>\n<!-- goalDistance&#45;&gt;flatNavP -->\n<g id=\"edge11\" class=\"edge\">\n<title>goalDistance&#45;&gt;flatNavP</title>\n<path fill=\"none\" stroke=\"black\" d=\"M515.49,-471.79C508.63,-457.42 499.96,-439.25 492.47,-423.55\"/>\n<polygon fill=\"black\" stroke=\"black\" points=\"495.44,-421.66 487.98,-414.15 489.13,-424.68 495.44,-421.66\"/>\n</g>\n<!-- goalRight -->\n<g id=\"node21\" class=\"node\">\n<title>goalRight</title>\n<path fill=\"lightgrey\" stroke=\"black\" d=\"M325.68,-524.84C325.68,-524.84 261.68,-524.84 261.68,-524.84 255.68,-524.84 249.68,-518.84 249.68,-512.84 249.68,-512.84 249.68,-483.84 249.68,-483.84 249.68,-477.84 255.68,-471.84 261.68,-471.84 261.68,-471.84 325.68,-471.84 325.68,-471.84 331.68,-471.84 337.68,-477.84 337.68,-483.84 337.68,-483.84 337.68,-512.84 337.68,-512.84 337.68,-518.84 331.68,-524.84 325.68,-524.84\"/>\n<text text-anchor=\"middle\" x=\"293.68\" y=\"-509.64\" font-family=\"Times,serif\" font-size=\"14.00\">goalRight</text>\n<text text-anchor=\"middle\" x=\"293.68\" y=\"-494.64\" font-family=\"Times,serif\" font-size=\"14.00\">~</text>\n<text text-anchor=\"middle\" x=\"293.68\" y=\"-479.64\" font-family=\"Times,serif\" font-size=\"14.00\">MutableData</text>\n</g>\n<!-- goalRight&#45;&gt;rightPerformance -->\n<g id=\"edge4\" class=\"edge\">\n<title>goalRight&#45;&gt;rightPerformance</title>\n<path fill=\"none\" stroke=\"black\" d=\"M308.22,-471.79C316.48,-457.28 326.93,-438.91 335.92,-423.11\"/>\n<polygon fill=\"black\" stroke=\"black\" points=\"339.12,-424.57 341.02,-414.15 333.03,-421.11 339.12,-424.57\"/>\n</g>\n<!-- taskPerformance -->\n<g id=\"node22\" class=\"node\">\n<title>taskPerformance</title>\n<ellipse fill=\"lightgrey\" stroke=\"black\" cx=\"1024.68\" cy=\"-76.48\" rx=\"76.24\" ry=\"37.45\"/>\n<text text-anchor=\"middle\" x=\"1024.68\" y=\"-87.78\" font-family=\"Times,serif\" font-size=\"14.00\">taskPerformance</text>\n<text text-anchor=\"middle\" x=\"1024.68\" y=\"-72.78\" font-family=\"Times,serif\" font-size=\"14.00\">~</text>\n<text text-anchor=\"middle\" x=\"1024.68\" y=\"-57.78\" font-family=\"Times,serif\" font-size=\"14.00\">Bernoulli</text>\n</g>\n<!-- rampPresence -->\n<g id=\"node23\" class=\"node\">\n<title>rampPresence</title>\n<path fill=\"lightgrey\" stroke=\"black\" d=\"M1008.18,-524.84C1008.18,-524.84 939.18,-524.84 939.18,-524.84 933.18,-524.84 927.18,-518.84 927.18,-512.84 927.18,-512.84 927.18,-483.84 927.18,-483.84 927.18,-477.84 933.18,-471.84 939.18,-471.84 939.18,-471.84 1008.18,-471.84 1008.18,-471.84 1014.18,-471.84 1020.18,-477.84 1020.18,-483.84 1020.18,-483.84 1020.18,-512.84 1020.18,-512.84 1020.18,-518.84 1014.18,-524.84 1008.18,-524.84\"/>\n<text text-anchor=\"middle\" x=\"973.68\" y=\"-509.64\" font-family=\"Times,serif\" font-size=\"14.00\">rampPresence</text>\n<text text-anchor=\"middle\" x=\"973.68\" y=\"-494.64\" font-family=\"Times,serif\" font-size=\"14.00\">~</text>\n<text text-anchor=\"middle\" x=\"973.68\" y=\"-479.64\" font-family=\"Times,serif\" font-size=\"14.00\">MutableData</text>\n</g>\n<!-- rampPresence&#45;&gt;rampP -->\n<g id=\"edge14\" class=\"edge\">\n<title>rampPresence&#45;&gt;rampP</title>\n<path fill=\"none\" stroke=\"black\" d=\"M973.68,-471.79C973.68,-457.69 973.68,-439.94 973.68,-424.44\"/>\n<polygon fill=\"black\" stroke=\"black\" points=\"977.18,-424.15 973.68,-414.15 970.18,-424.15 977.18,-424.15\"/>\n</g>\n<!-- navP&#45;&gt;finalP -->\n<g id=\"edge37\" class=\"edge\">\n<title>navP&#45;&gt;finalP</title>\n<path fill=\"none\" stroke=\"black\" d=\"M901.56,-249.69C923.23,-236.97 949.53,-221.54 972.26,-208.21\"/>\n<polygon fill=\"black\" stroke=\"black\" points=\"974.24,-211.1 981.1,-203.02 970.7,-205.07 974.24,-211.1\"/>\n</g>\n<!-- goalAhead -->\n<g id=\"node25\" class=\"node\">\n<title>goalAhead</title>\n<path fill=\"lightgrey\" stroke=\"black\" d=\"M771.68,-524.84C771.68,-524.84 707.68,-524.84 707.68,-524.84 701.68,-524.84 695.68,-518.84 695.68,-512.84 695.68,-512.84 695.68,-483.84 695.68,-483.84 695.68,-477.84 701.68,-471.84 707.68,-471.84 707.68,-471.84 771.68,-471.84 771.68,-471.84 777.68,-471.84 783.68,-477.84 783.68,-483.84 783.68,-483.84 783.68,-512.84 783.68,-512.84 783.68,-518.84 777.68,-524.84 771.68,-524.84\"/>\n<text text-anchor=\"middle\" x=\"739.68\" y=\"-509.64\" font-family=\"Times,serif\" font-size=\"14.00\">goalAhead</text>\n<text text-anchor=\"middle\" x=\"739.68\" y=\"-494.64\" font-family=\"Times,serif\" font-size=\"14.00\">~</text>\n<text text-anchor=\"middle\" x=\"739.68\" y=\"-479.64\" font-family=\"Times,serif\" font-size=\"14.00\">MutableData</text>\n</g>\n<!-- goalAhead&#45;&gt;aheadPerformance -->\n<g id=\"edge6\" class=\"edge\">\n<title>goalAhead&#45;&gt;aheadPerformance</title>\n<path fill=\"none\" stroke=\"black\" d=\"M737.1,-471.79C735.68,-457.69 733.89,-439.94 732.32,-424.44\"/>\n<polygon fill=\"black\" stroke=\"black\" points=\"735.77,-423.74 731.28,-414.15 728.8,-424.45 735.77,-423.74\"/>\n</g>\n<!-- goalSize -->\n<g id=\"node26\" class=\"node\">\n<title>goalSize</title>\n<path fill=\"lightgrey\" stroke=\"black\" d=\"M269.68,-413.88C269.68,-413.88 205.68,-413.88 205.68,-413.88 199.68,-413.88 193.68,-407.88 193.68,-401.88 193.68,-401.88 193.68,-372.88 193.68,-372.88 193.68,-366.88 199.68,-360.88 205.68,-360.88 205.68,-360.88 269.68,-360.88 269.68,-360.88 275.68,-360.88 281.68,-366.88 281.68,-372.88 281.68,-372.88 281.68,-401.88 281.68,-401.88 281.68,-407.88 275.68,-413.88 269.68,-413.88\"/>\n<text text-anchor=\"middle\" x=\"237.68\" y=\"-398.68\" font-family=\"Times,serif\" font-size=\"14.00\">goalSize</text>\n<text text-anchor=\"middle\" x=\"237.68\" y=\"-383.68\" font-family=\"Times,serif\" font-size=\"14.00\">~</text>\n<text text-anchor=\"middle\" x=\"237.68\" y=\"-368.68\" font-family=\"Times,serif\" font-size=\"14.00\">MutableData</text>\n</g>\n<!-- goalSize&#45;&gt;visualAcuityP -->\n<g id=\"edge2\" class=\"edge\">\n<title>goalSize&#45;&gt;visualAcuityP</title>\n<path fill=\"none\" stroke=\"black\" d=\"M238.15,-360.84C238.41,-346.73 238.73,-328.98 239.02,-313.49\"/>\n<polygon fill=\"black\" stroke=\"black\" points=\"242.52,-313.25 239.21,-303.19 235.53,-313.13 242.52,-313.25\"/>\n</g>\n<!-- allocentricOPTest -->\n<g id=\"node27\" class=\"node\">\n<title>allocentricOPTest</title>\n<path fill=\"lightgrey\" stroke=\"black\" d=\"M1463.18,-413.88C1463.18,-413.88 1374.18,-413.88 1374.18,-413.88 1368.18,-413.88 1362.18,-407.88 1362.18,-401.88 1362.18,-401.88 1362.18,-372.88 1362.18,-372.88 1362.18,-366.88 1368.18,-360.88 1374.18,-360.88 1374.18,-360.88 1463.18,-360.88 1463.18,-360.88 1469.18,-360.88 1475.18,-366.88 1475.18,-372.88 1475.18,-372.88 1475.18,-401.88 1475.18,-401.88 1475.18,-407.88 1469.18,-413.88 1463.18,-413.88\"/>\n<text text-anchor=\"middle\" x=\"1418.68\" y=\"-398.68\" font-family=\"Times,serif\" font-size=\"14.00\">allocentricOPTest</text>\n<text text-anchor=\"middle\" x=\"1418.68\" y=\"-383.68\" font-family=\"Times,serif\" font-size=\"14.00\">~</text>\n<text text-anchor=\"middle\" x=\"1418.68\" y=\"-368.68\" font-family=\"Times,serif\" font-size=\"14.00\">MutableData</text>\n</g>\n<!-- allocentricOPTest&#45;&gt;objPermP -->\n<g id=\"edge30\" class=\"edge\">\n<title>allocentricOPTest&#45;&gt;objPermP</title>\n<path fill=\"none\" stroke=\"black\" d=\"M1378.12,-360.84C1353.27,-345.19 1321.28,-325.04 1294.97,-308.47\"/>\n<polygon fill=\"black\" stroke=\"black\" points=\"1296.61,-305.37 1286.29,-303 1292.88,-311.29 1296.61,-305.37\"/>\n</g>\n<!-- goalLeft -->\n<g id=\"node28\" class=\"node\">\n<title>goalLeft</title>\n<path fill=\"lightgrey\" stroke=\"black\" d=\"M889.68,-524.84C889.68,-524.84 825.68,-524.84 825.68,-524.84 819.68,-524.84 813.68,-518.84 813.68,-512.84 813.68,-512.84 813.68,-483.84 813.68,-483.84 813.68,-477.84 819.68,-471.84 825.68,-471.84 825.68,-471.84 889.68,-471.84 889.68,-471.84 895.68,-471.84 901.68,-477.84 901.68,-483.84 901.68,-483.84 901.68,-512.84 901.68,-512.84 901.68,-518.84 895.68,-524.84 889.68,-524.84\"/>\n<text text-anchor=\"middle\" x=\"857.68\" y=\"-509.64\" font-family=\"Times,serif\" font-size=\"14.00\">goalLeft</text>\n<text text-anchor=\"middle\" x=\"857.68\" y=\"-494.64\" font-family=\"Times,serif\" font-size=\"14.00\">~</text>\n<text text-anchor=\"middle\" x=\"857.68\" y=\"-479.64\" font-family=\"Times,serif\" font-size=\"14.00\">MutableData</text>\n</g>\n<!-- goalLeft&#45;&gt;leftPerformance -->\n<g id=\"edge8\" class=\"edge\">\n<title>goalLeft&#45;&gt;leftPerformance</title>\n<path fill=\"none\" stroke=\"black\" d=\"M857.68,-471.79C857.68,-457.69 857.68,-439.94 857.68,-424.44\"/>\n<polygon fill=\"black\" stroke=\"black\" points=\"861.18,-424.15 857.68,-414.15 854.18,-424.15 861.18,-424.15\"/>\n</g>\n<!-- numChoices -->\n<g id=\"node29\" class=\"node\">\n<title>numChoices</title>\n<path fill=\"lightgrey\" stroke=\"black\" d=\"M1331.68,-413.88C1331.68,-413.88 1267.68,-413.88 1267.68,-413.88 1261.68,-413.88 1255.68,-407.88 1255.68,-401.88 1255.68,-401.88 1255.68,-372.88 1255.68,-372.88 1255.68,-366.88 1261.68,-360.88 1267.68,-360.88 1267.68,-360.88 1331.68,-360.88 1331.68,-360.88 1337.68,-360.88 1343.68,-366.88 1343.68,-372.88 1343.68,-372.88 1343.68,-401.88 1343.68,-401.88 1343.68,-407.88 1337.68,-413.88 1331.68,-413.88\"/>\n<text text-anchor=\"middle\" x=\"1299.68\" y=\"-398.68\" font-family=\"Times,serif\" font-size=\"14.00\">numChoices</text>\n<text text-anchor=\"middle\" x=\"1299.68\" y=\"-383.68\" font-family=\"Times,serif\" font-size=\"14.00\">~</text>\n<text text-anchor=\"middle\" x=\"1299.68\" y=\"-368.68\" font-family=\"Times,serif\" font-size=\"14.00\">MutableData</text>\n</g>\n<!-- numChoices&#45;&gt;objPermP -->\n<g id=\"edge34\" class=\"edge\">\n<title>numChoices&#45;&gt;objPermP</title>\n<path fill=\"none\" stroke=\"black\" d=\"M1287.02,-360.84C1279.83,-346.33 1270.72,-327.96 1262.89,-312.15\"/>\n<polygon fill=\"black\" stroke=\"black\" points=\"1266.03,-310.6 1258.45,-303.19 1259.75,-313.71 1266.03,-310.6\"/>\n</g>\n<!-- pctbP&#45;&gt;objPermP -->\n<g id=\"edge28\" class=\"edge\">\n<title>pctbP&#45;&gt;objPermP</title>\n<path fill=\"none\" stroke=\"black\" d=\"M1120.9,-360.84C1144.21,-345.25 1174.19,-325.22 1198.91,-308.69\"/>\n<polygon fill=\"black\" stroke=\"black\" points=\"1201.05,-311.47 1207.42,-303 1197.16,-305.65 1201.05,-311.47\"/>\n</g>\n<!-- pctbP&#45;&gt;navP -->\n<g id=\"edge20\" class=\"edge\">\n<title>pctbP&#45;&gt;navP</title>\n<path fill=\"none\" stroke=\"black\" d=\"M1046.97,-360.87C1040.99,-356.99 1034.75,-353.2 1028.68,-349.91 991.26,-329.58 946.93,-310.94 912.78,-297.65\"/>\n<polygon fill=\"black\" stroke=\"black\" points=\"914.03,-294.38 903.44,-294.05 911.51,-300.91 914.03,-294.38\"/>\n</g>\n<!-- flatNavP&#45;&gt;navP -->\n<g id=\"edge21\" class=\"edge\">\n<title>flatNavP&#45;&gt;navP</title>\n<path fill=\"none\" stroke=\"black\" d=\"M513.77,-360.72C520.85,-356.69 528.33,-352.87 535.68,-349.91 625.2,-313.75 736.36,-293.8 801.9,-284.37\"/>\n<polygon fill=\"black\" stroke=\"black\" points=\"802.61,-287.81 812.02,-282.95 801.63,-280.88 802.61,-287.81\"/>\n</g>\n<!-- lavaPresence -->\n<g id=\"node32\" class=\"node\">\n<title>lavaPresence</title>\n<path fill=\"lightgrey\" stroke=\"black\" d=\"M665.68,-524.84C665.68,-524.84 601.68,-524.84 601.68,-524.84 595.68,-524.84 589.68,-518.84 589.68,-512.84 589.68,-512.84 589.68,-483.84 589.68,-483.84 589.68,-477.84 595.68,-471.84 601.68,-471.84 601.68,-471.84 665.68,-471.84 665.68,-471.84 671.68,-471.84 677.68,-477.84 677.68,-483.84 677.68,-483.84 677.68,-512.84 677.68,-512.84 677.68,-518.84 671.68,-524.84 665.68,-524.84\"/>\n<text text-anchor=\"middle\" x=\"633.68\" y=\"-509.64\" font-family=\"Times,serif\" font-size=\"14.00\">lavaPresence</text>\n<text text-anchor=\"middle\" x=\"633.68\" y=\"-494.64\" font-family=\"Times,serif\" font-size=\"14.00\">~</text>\n<text text-anchor=\"middle\" x=\"633.68\" y=\"-479.64\" font-family=\"Times,serif\" font-size=\"14.00\">MutableData</text>\n</g>\n<!-- lavaPresence&#45;&gt;lavaP -->\n<g id=\"edge13\" class=\"edge\">\n<title>lavaPresence&#45;&gt;lavaP</title>\n<path fill=\"none\" stroke=\"black\" d=\"M627.12,-471.79C623.46,-457.55 618.84,-439.6 614.83,-423.99\"/>\n<polygon fill=\"black\" stroke=\"black\" points=\"618.18,-422.96 612.3,-414.15 611.4,-424.7 618.18,-422.96\"/>\n</g>\n<!-- cvChickP&#45;&gt;objPermP -->\n<g id=\"edge29\" class=\"edge\">\n<title>cvChickP&#45;&gt;objPermP</title>\n<path fill=\"none\" stroke=\"black\" d=\"M1204.34,-360.84C1211.53,-346.33 1220.64,-327.96 1228.47,-312.15\"/>\n<polygon fill=\"black\" stroke=\"black\" points=\"1231.61,-313.71 1232.91,-303.19 1225.34,-310.6 1231.61,-313.71\"/>\n</g>\n<!-- cvChickP&#45;&gt;navP -->\n<g id=\"edge23\" class=\"edge\">\n<title>cvChickP&#45;&gt;navP</title>\n<path fill=\"none\" stroke=\"black\" d=\"M1157.55,-360.82C1151.17,-356.77 1144.38,-352.93 1137.68,-349.91 1063.63,-316.51 971.34,-296.38 913.45,-286.08\"/>\n<polygon fill=\"black\" stroke=\"black\" points=\"913.86,-282.6 903.4,-284.33 912.65,-289.5 913.86,-282.6\"/>\n</g>\n<!-- rampP&#45;&gt;navP -->\n<g id=\"edge24\" class=\"edge\">\n<title>rampP&#45;&gt;navP</title>\n<path fill=\"none\" stroke=\"black\" d=\"M946.48,-360.84C930.46,-345.78 910.01,-326.58 892.77,-310.39\"/>\n<polygon fill=\"black\" stroke=\"black\" points=\"894.79,-307.49 885.11,-303.19 890,-312.59 894.79,-307.49\"/>\n</g>\n<!-- lavaP&#45;&gt;navP -->\n<g id=\"edge26\" class=\"edge\">\n<title>lavaP&#45;&gt;navP</title>\n<path fill=\"none\" stroke=\"black\" d=\"M641.65,-360.82C647.85,-356.91 654.34,-353.12 660.68,-349.91 706.63,-326.62 761.89,-306.95 802.18,-294.01\"/>\n<polygon fill=\"black\" stroke=\"black\" points=\"803.35,-297.31 811.82,-290.95 801.23,-290.64 803.35,-297.31\"/>\n</g>\n<!-- finalP&#45;&gt;taskPerformance -->\n<g id=\"edge39\" class=\"edge\">\n<title>finalP&#45;&gt;taskPerformance</title>\n<path fill=\"none\" stroke=\"black\" d=\"M1024.68,-149.71C1024.68,-141.89 1024.68,-133.03 1024.68,-124.27\"/>\n<polygon fill=\"black\" stroke=\"black\" points=\"1028.18,-124.1 1024.68,-114.1 1021.18,-124.1 1028.18,-124.1\"/>\n</g>\n<!-- aheadPerformance&#45;&gt;navP -->\n<g id=\"edge27\" class=\"edge\">\n<title>aheadPerformance&#45;&gt;navP</title>\n<path fill=\"none\" stroke=\"black\" d=\"M758.93,-360.84C776.99,-345.58 800.11,-326.06 819.43,-309.74\"/>\n<polygon fill=\"black\" stroke=\"black\" points=\"821.8,-312.32 827.18,-303.19 817.28,-306.97 821.8,-312.32\"/>\n</g>\n</g>\n</svg>\n",
            "text/plain": [
              "<graphviz.graphs.Digraph at 0x7fb3cbb65540>"
            ]
          },
          "metadata": {},
          "execution_count": 6
        }
      ]
    },
    {
      "cell_type": "code",
      "source": [
        "def SetupModelSimple(taskResultsAll, uniformAbilitySlack, agent_type, agent_name = None, sample = 500):\n",
        "  \"\"\"\n",
        "  taskResults is the conjunction of the metadata with the successes of the agents on that set of tests.\n",
        "  \"\"\"\n",
        "  assert uniformAbilitySlack >=1, \"Slack must be greater than or equal to 1.\"\n",
        "\n",
        "  if agent_type == \"agent\":\n",
        "    taskResults = taskResultsAll.dropna(subset = [agent_name])\n",
        "    if sample is not None:\n",
        "      taskResults = taskResults.sample(n=sample)\n",
        "    results = taskResults[agent_name]\n",
        "  elif agent_type == \"child\":\n",
        "    taskResults = taskResultsAll.dropna(subset = ['success'])\n",
        "    if sample is not None:\n",
        "      taskResults = taskResults.sample(n=sample)\n",
        "    results = taskResults['success']\n",
        "  else:\n",
        "    print(\"Agent not recognised. Quitting.\")\n",
        "    return\n",
        "\n",
        "\n",
        "\n",
        "  abilityMin = {} #Initialize ability Min and max dataframes for plotting ranges\n",
        "  abilityMax = {}\n",
        "\n",
        "  #Decide \"maximum capabilities\" based on the hardest values in the dataset\n",
        "  maxDistance = taskResults[\"cityBlockDistanceToGoal\"].max()\n",
        "  maxTurns = taskResults[\"minNumTurnsRequired\"].max()\n",
        "  maxChoices = taskResults[\"numChoices\"].max()\n",
        "  maxGoalSize = taskResults[\"mainGoalSize\"].max() * uniformAbilitySlack\n",
        "  maxPermAbility = ((taskResults[\"cityBlockDistanceToGoal\"] * taskResults[\"numChoices\"]).max()) * uniformAbilitySlack\n",
        "  maxFlatNav = ((taskResults[\"cityBlockDistanceToGoal\"]*taskResults[\"minNumTurnsRequired\"])).max() * uniformAbilitySlack\n",
        "  #maxPermAbility = maxChoices * uniformAbilitySlack\n",
        "  #maxMemoryAbility = maxDistance * uniformAbilitySlack\n",
        "  #maxPermAbility = 1\n",
        "  #maxMemoryAbility = 1\n",
        "\n",
        "  # Decide 'minimum capabilities' based on easiest values in the dataset\n",
        "  minDistance = taskResults[\"cityBlockDistanceToGoal\"].min()\n",
        "  minTurns = taskResults[\"minNumTurnsRequired\"].min()\n",
        "  minChoices = taskResults[\"numChoices\"].min()\n",
        "  minGoalSize = taskResults[\"mainGoalSize\"].min() * (1-(uniformAbilitySlack-1))\n",
        "  minPermAbility = ((taskResults[\"cityBlockDistanceToGoal\"] * taskResults[\"numChoices\"]).min()) * (1-(uniformAbilitySlack-1))\n",
        "  minFlatNav = ((taskResults[\"cityBlockDistanceToGoal\"]*taskResults[\"minNumTurnsRequired\"])).min() * (1-(uniformAbilitySlack-1))\n",
        "  #minPermAbility = 0\n",
        "\n",
        "  m = pm.Model()\n",
        "  with m:\n",
        "\n",
        "    objPermAbility = pm.Uniform(\"objPermAbility\", minPermAbility, maxPermAbility)  # [0,maxPermAbility] This is the same as above, but we have the ability in the right magnitude\n",
        "    abilityMin[\"objPermAbility\"] = minPermAbility\n",
        "    abilityMax[\"objPermAbility\"] = maxPermAbility\n",
        "\n",
        "    #objPermAbility = scaledBeta(\"objPermAbility\", 1,1, minPermAbility, maxPermAbility, simpleGraph=False)\n",
        "    abilityMin[\"objPermAbility\"] = minPermAbility\n",
        "    abilityMax[\"objPermAbility\"] = maxPermAbility\n",
        "\n",
        "    #memoryAbility = pm.Uniform(\"memoryAbility\", 0, maxMemoryAbility)  # [0,maxMemoryAbility] This is the same as above, but we have the ability in the right magnitude\n",
        "    #abilityMin[\"memoryAbility\"] = 0\n",
        "    #abilityMax[\"memoryAbility\"] = maxMemoryAbility\n",
        "\n",
        "    #Visual acuity\n",
        "    visualAcuityAbility = pm.Uniform(\"visualAcuityAbility\", minGoalSize, maxGoalSize)\n",
        "    abilityMin[\"visualAcuityAbility\"] = minGoalSize\n",
        "    abilityMax[\"visualAcuityAbility\"] = maxGoalSize\n",
        "\n",
        "    # Flat Navigation Ability\n",
        "    flatNavAbility = pm.Uniform(\"flatNavAbility\", minFlatNav, maxFlatNav)      # how much navigation is involved, i.e, how far away and how circuitous is the path to the goal?\n",
        "    #flatNavAbility = pm.Uniform(\"flatNavAbility\", 0, maxTurns*maxDistance)\n",
        "    abilityMin[\"flatNavAbility\"] = minFlatNav\n",
        "    #abilityMax[\"flatNavAbility\"] = maxDistance*maxTurns\n",
        "    abilityMax[\"flatNavAbility\"] = maxFlatNav\n",
        "\n",
        "    # Lava Ability\n",
        "    #lavaAbility = pm.Beta(\"lavaAbility\", 1,1)                        # [0,1] Specific ability with lava\n",
        "    #abilityMin[\"lavaAbility\"] = 0\n",
        "    #abilityMax[\"lavaAbility\"] = 1\n",
        "\n",
        "    # Ramp Ability\n",
        "    #rampAbility = pm.Beta(\"rampAbility\",1,1)                          # [0,1] Specific ability with ramps\n",
        "    #abilityMin[\"rampAbility\"] = 0\n",
        "    #abilityMax[\"rampAbility\"] = 1\n",
        "\n",
        "    # Goal Right Ability\n",
        "    #rightAbility = pm.Beta(\"rightAbility\", 1, 1)\n",
        "    #abilityMin[\"rightAbility\"] = 0\n",
        "    #abilityMax[\"rightAbility\"] = 1\n",
        "\n",
        "    # Goal Left Ability\n",
        "    #leftAbility = pm.Beta(\"leftAbility\", 1, 1)\n",
        "    #abilityMin[\"leftAbility\"] = 0\n",
        "    #abilityMax[\"leftAbility\"] = 1\n",
        "\n",
        "    # Goal Ahead Ability\n",
        "    #aheadAbility = pm.Beta(\"aheadAbility\", 1, 1)\n",
        "    #abilityMin[\"aheadAbility\"] = 0\n",
        "    #abilityMax[\"aheadAbility\"] = 1\n",
        "\n",
        "    # CV Chick Ability\n",
        "    #CVChickAbility = pm.Beta(\"CVChickAbility\", 1, 1)\n",
        "    #abilityMin[\"CVChickAbility\"] = 0\n",
        "    #abilityMax[\"CVChickAbility\"] = 1\n",
        "\n",
        "    # PCTB Ability\n",
        "    #PCTBAbility = pm.Beta(\"PCTBAbility\", 1, 1)\n",
        "    #abilityMin[\"PCTBAbility\"] = 0\n",
        "    #abilityMax[\"PCTBAbility\"] = 1\n",
        "\n",
        "\n",
        "\n",
        "    ## Environment variables as Deterministic (about the instance)\n",
        "\n",
        "    #lavaPresence = pm.MutableData(\"lavaPresence\", taskResults[\"lavaPresence\"].values)\n",
        "    #rampPresence = pm.MutableData(\"rampPresence\", taskResults[\"taskCriticalRampPresence\"].values)\n",
        "    #lightsOutPresence = pm.MutableData(\"lightsOutPresence\", taskResults[\"lightsOutPresence\"].values)\n",
        "    #numGoals = pm.MutableData(\"numberOfGoals\", taskResults[\"numGoalsAll\"].values)\n",
        "    numChoices = pm.MutableData(\"numChoices\", taskResults[\"numChoices\"].values)\n",
        "    goalSize = pm.MutableData(\"goalSize\",taskResults[\"mainGoalSize\"].values)\n",
        "    goalDist = pm.MutableData(\"goalDistance\", taskResults[\"cityBlockDistanceToGoal\"].values)\n",
        "    numTurns = pm.MutableData(\"minTurnsToGoal\", taskResults[\"minNumTurnsRequired\"])\n",
        "    #goalRight = pm.MutableData(\"goalRight\", taskResults[\"goalRightRelToStart\"])\n",
        "    #goalAhead = pm.MutableData(\"goalAhead\", taskResults[\"goalCentreRelToStart\"])\n",
        "    #goalLeft = pm.MutableData(\"goalLeft\", taskResults[\"goalLeftRelToStart\"])\n",
        "    opTest = pm.MutableData(\"allocentricOPTest\", taskResults[\"goalBecomesAllocentricallyOccluded\"].values)\n",
        "    #CVTest = pm.MutableData(\"CVChickTest\", taskResults[\"cvchickTask\"])\n",
        "    #PCTBTest = pm.MutableData(\"PCTBTest\", taskResults[\"pctbTask\"])\n",
        "\n",
        "    ## Margins\n",
        "\n",
        "    goalSmallness = maxGoalSize - goalSize\n",
        "    visualAcuityP = pm.Deterministic(\"visualAcuityP\", logistic999(visualAcuityLOMargin(visualAcuityAbility, goalSmallness), min = minGoalSize, max = maxGoalSize))\n",
        "\n",
        "    #rightP = pm.Deterministic(\"rightPerformance\", SimplePrMargin(rightAbility, goalRight))\n",
        "    #aheadP = pm.Deterministic(\"aheadPerformance\", SimplePrMargin(aheadAbility, goalAhead))\n",
        "    #leftP = pm.Deterministic(\"leftPerformance\", SimplePrMargin(leftAbility, goalLeft))\n",
        "\n",
        "    #flatNavP = pm.Deterministic(\"flatNavP\", logistic(flatNavMargin(flatNavAbility, goalDist, numTurns, opTest)))\n",
        "    #flatNavP = pm.Deterministic(\"flatNavP\", logistic(flatNavMargin(flatNavAbility, goalDist, numTurns)))\n",
        "    #flatNavP = pm.Deterministic(\"flatNavP\", logistic(flatNavAbility - (numTurns * goalDist)))\n",
        "    flatNavP = pm.Deterministic(\"flatNavP\", logistic999(flatNavAbility - (numTurns * goalDist), min = minFlatNav, max = maxFlatNav))\n",
        "\n",
        "    #lavaP = pm.Deterministic(\"lavaP\", SimplePrMargin(lavaAbility, lavaPresence))\n",
        "\n",
        "    #rampP = pm.Deterministic(\"rampP\", SimplePrMargin(rampAbility, rampPresence))\n",
        "\n",
        "    #cvchickP = pm.Deterministic(\"cvChickP\", SimplePrMargin(CVChickAbility, CVTest))\n",
        "    #pctbP = pm.Deterministic(\"pctbP\", SimplePrMargin(PCTBAbility, PCTBTest))\n",
        "\n",
        "    #navP = pm.Deterministic(\"navP\", (flatNavP * lavaP * rampP * rightP * aheadP * leftP * cvchickP * pctbP)) #, visualAcuityP))\n",
        "\n",
        "    #OPLOM = objPermanenceLOMargin(objPermAbility, opTest, CVTest, PCTBTest, lightsOutPresence, goalDist, numChoices, maxPermAbility, lightsOutPenalisation=(uniformAbilitySlack-0.35), uniformAbilitySlack=uniformAbilitySlack)\n",
        "    #OPLOM = objPermanenceLOMargin(objPermAbility, opTest, lightsOutPresence, goalDist, numChoices, maxPermAbility, lightsOutPenalisation=(uniformAbilitySlack-0.35), uniformAbilitySlack=uniformAbilitySlack)\n",
        "    #OPLOM = objPermanenceLOMargin(objPermAbility, opTest, cvchickP, pctbP, lightsOutPresence, goalDist, numChoices, maxPermAbility, lightsOutPenalisation=(uniformAbilitySlack-0.35), uniformAbilitySlack=uniformAbilitySlack)\n",
        "\n",
        "    #OPPerformance = (objPermAbility  - ((goalDist * numChoices)*opTest)) #this returns a value that is lower when (a) ability is lower, (b) the goal is occluded for longer or there are more positions where it could be occluded, or (c) when the lights go out (by a small penalisation)\n",
        "    #OPPerformance = (objPermAbility  - ((goalDist * numChoices)))\n",
        "    #OPPerformance = (objPermAbility  - numChoices)\n",
        "    #OPPerformance = (objPermAbility  - ((goalDist*opTest) * (numChoices*opTest)))\n",
        "    #OPPerformance = objPermAbility  - ((goalDist * numChoices)*opTest)\n",
        "    #OPability = maxPermAbility - ((maxPermAbility-OPPerformance)*opTest)\n",
        "    #objPermP = pm.Deterministic(\"objPermP\", logistic(OPLOM))\n",
        "    #objPermP = pm.Deterministic(\"objPermP\", logistic(OPPerformance, x_0 = ((maxPermAbility - minPermAbility)/2)+minPermAbility))\n",
        "    #objPermP = pm.Deterministic(\"objPermP\", logistic(SimplePrMargin(objPermAbility, opTest), x_0 = ((maxPermAbility - minPermAbility)/2)+minPermAbility))\n",
        "    OPPerformance = (objPermAbility  - (((goalDist*opTest) * numChoices) + (numChoices * (1-opTest))))\n",
        "    #objPermP = pm.Deterministic(\"objPermP\", logistic(OPPerformance, x_0 = ((maxPermAbility - minPermAbility)/2)+minPermAbility))\n",
        "    #objPermP = pm.Deterministic(\"objPermP\", logistic(OPPerformance))\n",
        "    objPermP = pm.Deterministic(\"objPermP\", logistic999(OPPerformance, min = minPermAbility, max = maxPermAbility))\n",
        "\n",
        "    #flatNavP = pm.Deterministic(\"flatNavP\", logistic((flatNavAbility - (numTurns * goalDist)), x_0 = ((maxFlatNav - minFlatNav)/2)+minFlatNav))\n",
        "    #noise = 1 - np.mean(results)  # With this noise is complementary to result prior.\n",
        "    #noisePar = pm.Uniform(\"noisePar\", 0, 1)\n",
        "    #finalP = pm.Deterministic(\"finalP\", (1-noisePar)*(objPermP * navP * visualAcuityP)+(noisePar*noise))\n",
        "\n",
        "    #finalP = pm.Deterministic(\"finalP\", (objPermP * flatNavP))\n",
        "    #finalP = pm.Deterministic(\"finalP\", (1-((1-objPermP)*(1-flatNavP)))) #compensatory finalPerformance\n",
        "    finalP = pm.Deterministic(\"finalP\", (objPermP * flatNavP * visualAcuityP))\n",
        "\n",
        "    #taskPerformance = pm.Bernoulli(\"taskPerformance\", flatNavP, observed=results)\n",
        "    taskPerformance = pm.Bernoulli(\"taskPerformance\", finalP, observed=results)\n",
        "    #taskPerformance = pm.Bernoulli(\"taskPerformance\", objPermP, observed=results)\n",
        "  #pm.model_graph.model_to_graphviz(m)\n",
        "\n",
        "  return m, abilityMin, abilityMax"
      ],
      "metadata": {
        "id": "edIxFbqFq9V9"
      },
      "execution_count": 182,
      "outputs": []
    },
    {
      "cell_type": "code",
      "source": [
        "m, min, max = SetupModelSimple(synthetic_agents_data, uniformAbilitySlack=1.4, agent_type='agent', agent_name=\"perfectAgent\", sample = None)\n",
        "gv = pm.model_graph.model_to_graphviz(m)\n",
        "gv.format=\"png\"\n",
        "gv.render\n",
        "#gv.render(directory='viz')\n",
        "#Image(\"viz/Digraph.gv.png\")\n",
        "gv"
      ],
      "metadata": {
        "id": "j-cgtM4msvph",
        "outputId": "f9c4254b-7d12-4580-e962-50c911fefd51",
        "colab": {
          "base_uri": "https://localhost:8080/",
          "height": 596
        }
      },
      "execution_count": 183,
      "outputs": [
        {
          "output_type": "execute_result",
          "data": {
            "image/svg+xml": "<?xml version=\"1.0\" encoding=\"UTF-8\" standalone=\"no\"?>\n<!DOCTYPE svg PUBLIC \"-//W3C//DTD SVG 1.1//EN\"\n \"http://www.w3.org/Graphics/SVG/1.1/DTD/svg11.dtd\">\n<!-- Generated by graphviz version 2.43.0 (0)\n -->\n<!-- Title: %3 Pages: 1 -->\n<svg width=\"1075pt\" height=\"416pt\"\n viewBox=\"0.00 0.00 1074.86 415.93\" xmlns=\"http://www.w3.org/2000/svg\" xmlns:xlink=\"http://www.w3.org/1999/xlink\">\n<g id=\"graph0\" class=\"graph\" transform=\"scale(1 1) rotate(0) translate(4 411.93)\">\n<title>%3</title>\n<polygon fill=\"white\" stroke=\"transparent\" points=\"-4,4 -4,-411.93 1070.86,-411.93 1070.86,4 -4,4\"/>\n<g id=\"clust1\" class=\"cluster\">\n<title>cluster4214</title>\n<path fill=\"none\" stroke=\"black\" d=\"M197.68,-8C197.68,-8 749.68,-8 749.68,-8 755.68,-8 761.68,-14 761.68,-20 761.68,-20 761.68,-387.93 761.68,-387.93 761.68,-393.93 755.68,-399.93 749.68,-399.93 749.68,-399.93 197.68,-399.93 197.68,-399.93 191.68,-399.93 185.68,-393.93 185.68,-387.93 185.68,-387.93 185.68,-20 185.68,-20 185.68,-14 191.68,-8 197.68,-8\"/>\n<text text-anchor=\"middle\" x=\"739.68\" y=\"-15.8\" font-family=\"Times,serif\" font-size=\"14.00\">4214</text>\n</g>\n<!-- visualAcuityAbility -->\n<g id=\"node1\" class=\"node\">\n<title>visualAcuityAbility</title>\n<ellipse fill=\"none\" stroke=\"black\" cx=\"87.68\" cy=\"-365.43\" rx=\"87.86\" ry=\"37.45\"/>\n<text text-anchor=\"middle\" x=\"87.68\" y=\"-376.73\" font-family=\"Times,serif\" font-size=\"14.00\">visualAcuityAbility</text>\n<text text-anchor=\"middle\" x=\"87.68\" y=\"-361.73\" font-family=\"Times,serif\" font-size=\"14.00\">~</text>\n<text text-anchor=\"middle\" x=\"87.68\" y=\"-346.73\" font-family=\"Times,serif\" font-size=\"14.00\">Uniform</text>\n</g>\n<!-- visualAcuityP -->\n<g id=\"node11\" class=\"node\">\n<title>visualAcuityP</title>\n<polygon fill=\"none\" stroke=\"black\" points=\"286.18,-291.95 193.18,-291.95 193.18,-238.95 286.18,-238.95 286.18,-291.95\"/>\n<text text-anchor=\"middle\" x=\"239.68\" y=\"-276.75\" font-family=\"Times,serif\" font-size=\"14.00\">visualAcuityP</text>\n<text text-anchor=\"middle\" x=\"239.68\" y=\"-261.75\" font-family=\"Times,serif\" font-size=\"14.00\">~</text>\n<text text-anchor=\"middle\" x=\"239.68\" y=\"-246.75\" font-family=\"Times,serif\" font-size=\"14.00\">Deterministic</text>\n</g>\n<!-- visualAcuityAbility&#45;&gt;visualAcuityP -->\n<g id=\"edge1\" class=\"edge\">\n<title>visualAcuityAbility&#45;&gt;visualAcuityP</title>\n<path fill=\"none\" stroke=\"black\" d=\"M135.36,-333.7C153.17,-322.22 173.39,-309.18 191.27,-297.66\"/>\n<polygon fill=\"black\" stroke=\"black\" points=\"193.32,-300.5 199.83,-292.14 189.53,-294.62 193.32,-300.5\"/>\n</g>\n<!-- flatNavAbility -->\n<g id=\"node2\" class=\"node\">\n<title>flatNavAbility</title>\n<ellipse fill=\"none\" stroke=\"black\" cx=\"999.68\" cy=\"-365.43\" rx=\"67.35\" ry=\"37.45\"/>\n<text text-anchor=\"middle\" x=\"999.68\" y=\"-376.73\" font-family=\"Times,serif\" font-size=\"14.00\">flatNavAbility</text>\n<text text-anchor=\"middle\" x=\"999.68\" y=\"-361.73\" font-family=\"Times,serif\" font-size=\"14.00\">~</text>\n<text text-anchor=\"middle\" x=\"999.68\" y=\"-346.73\" font-family=\"Times,serif\" font-size=\"14.00\">Uniform</text>\n</g>\n<!-- flatNavP -->\n<g id=\"node4\" class=\"node\">\n<title>flatNavP</title>\n<polygon fill=\"none\" stroke=\"black\" points=\"685.18,-291.95 594.18,-291.95 594.18,-238.95 685.18,-238.95 685.18,-291.95\"/>\n<text text-anchor=\"middle\" x=\"639.68\" y=\"-276.75\" font-family=\"Times,serif\" font-size=\"14.00\">flatNavP</text>\n<text text-anchor=\"middle\" x=\"639.68\" y=\"-261.75\" font-family=\"Times,serif\" font-size=\"14.00\">~</text>\n<text text-anchor=\"middle\" x=\"639.68\" y=\"-246.75\" font-family=\"Times,serif\" font-size=\"14.00\">Deterministic</text>\n</g>\n<!-- flatNavAbility&#45;&gt;flatNavP -->\n<g id=\"edge4\" class=\"edge\">\n<title>flatNavAbility&#45;&gt;flatNavP</title>\n<path fill=\"none\" stroke=\"black\" d=\"M951.08,-339.36C941.81,-335.17 932.06,-331.15 922.68,-327.95 845.9,-301.81 753.52,-284.19 695.68,-274.74\"/>\n<polygon fill=\"black\" stroke=\"black\" points=\"696.07,-271.26 685.64,-273.13 694.96,-278.17 696.07,-271.26\"/>\n</g>\n<!-- objPermAbility -->\n<g id=\"node3\" class=\"node\">\n<title>objPermAbility</title>\n<ellipse fill=\"none\" stroke=\"black\" cx=\"842.68\" cy=\"-365.43\" rx=\"71.34\" ry=\"37.45\"/>\n<text text-anchor=\"middle\" x=\"842.68\" y=\"-376.73\" font-family=\"Times,serif\" font-size=\"14.00\">objPermAbility</text>\n<text text-anchor=\"middle\" x=\"842.68\" y=\"-361.73\" font-family=\"Times,serif\" font-size=\"14.00\">~</text>\n<text text-anchor=\"middle\" x=\"842.68\" y=\"-346.73\" font-family=\"Times,serif\" font-size=\"14.00\">Uniform</text>\n</g>\n<!-- objPermP -->\n<g id=\"node7\" class=\"node\">\n<title>objPermP</title>\n<polygon fill=\"none\" stroke=\"black\" points=\"513.18,-291.95 422.18,-291.95 422.18,-238.95 513.18,-238.95 513.18,-291.95\"/>\n<text text-anchor=\"middle\" x=\"467.68\" y=\"-276.75\" font-family=\"Times,serif\" font-size=\"14.00\">objPermP</text>\n<text text-anchor=\"middle\" x=\"467.68\" y=\"-261.75\" font-family=\"Times,serif\" font-size=\"14.00\">~</text>\n<text text-anchor=\"middle\" x=\"467.68\" y=\"-246.75\" font-family=\"Times,serif\" font-size=\"14.00\">Deterministic</text>\n</g>\n<!-- objPermAbility&#45;&gt;objPermP -->\n<g id=\"edge7\" class=\"edge\">\n<title>objPermAbility&#45;&gt;objPermP</title>\n<path fill=\"none\" stroke=\"black\" d=\"M792.46,-338.49C783.68,-334.58 774.53,-330.88 765.68,-327.95 688.24,-302.3 665.56,-308.57 585.68,-291.95 565.32,-287.72 543.02,-282.94 523.34,-278.67\"/>\n<polygon fill=\"black\" stroke=\"black\" points=\"523.83,-275.19 513.32,-276.49 522.34,-282.03 523.83,-275.19\"/>\n</g>\n<!-- finalP -->\n<g id=\"node9\" class=\"node\">\n<title>finalP</title>\n<polygon fill=\"none\" stroke=\"black\" points=\"513.18,-202.95 422.18,-202.95 422.18,-149.95 513.18,-149.95 513.18,-202.95\"/>\n<text text-anchor=\"middle\" x=\"467.68\" y=\"-187.75\" font-family=\"Times,serif\" font-size=\"14.00\">finalP</text>\n<text text-anchor=\"middle\" x=\"467.68\" y=\"-172.75\" font-family=\"Times,serif\" font-size=\"14.00\">~</text>\n<text text-anchor=\"middle\" x=\"467.68\" y=\"-157.75\" font-family=\"Times,serif\" font-size=\"14.00\">Deterministic</text>\n</g>\n<!-- flatNavP&#45;&gt;finalP -->\n<g id=\"edge10\" class=\"edge\">\n<title>flatNavP&#45;&gt;finalP</title>\n<path fill=\"none\" stroke=\"black\" d=\"M594.04,-241.37C571.99,-230.21 545.36,-216.74 522.24,-205.05\"/>\n<polygon fill=\"black\" stroke=\"black\" points=\"523.74,-201.89 513.24,-200.5 520.58,-208.13 523.74,-201.89\"/>\n</g>\n<!-- goalSize -->\n<g id=\"node5\" class=\"node\">\n<title>goalSize</title>\n<path fill=\"lightgrey\" stroke=\"black\" d=\"M269.68,-391.93C269.68,-391.93 205.68,-391.93 205.68,-391.93 199.68,-391.93 193.68,-385.93 193.68,-379.93 193.68,-379.93 193.68,-350.93 193.68,-350.93 193.68,-344.93 199.68,-338.93 205.68,-338.93 205.68,-338.93 269.68,-338.93 269.68,-338.93 275.68,-338.93 281.68,-344.93 281.68,-350.93 281.68,-350.93 281.68,-379.93 281.68,-379.93 281.68,-385.93 275.68,-391.93 269.68,-391.93\"/>\n<text text-anchor=\"middle\" x=\"237.68\" y=\"-376.73\" font-family=\"Times,serif\" font-size=\"14.00\">goalSize</text>\n<text text-anchor=\"middle\" x=\"237.68\" y=\"-361.73\" font-family=\"Times,serif\" font-size=\"14.00\">~</text>\n<text text-anchor=\"middle\" x=\"237.68\" y=\"-346.73\" font-family=\"Times,serif\" font-size=\"14.00\">MutableData</text>\n</g>\n<!-- goalSize&#45;&gt;visualAcuityP -->\n<g id=\"edge2\" class=\"edge\">\n<title>goalSize&#45;&gt;visualAcuityP</title>\n<path fill=\"none\" stroke=\"black\" d=\"M238.21,-338.69C238.43,-327.55 238.7,-314.32 238.95,-302.25\"/>\n<polygon fill=\"black\" stroke=\"black\" points=\"242.45,-302.09 239.16,-292.02 235.46,-301.95 242.45,-302.09\"/>\n</g>\n<!-- taskPerformance -->\n<g id=\"node6\" class=\"node\">\n<title>taskPerformance</title>\n<ellipse fill=\"lightgrey\" stroke=\"black\" cx=\"467.68\" cy=\"-76.48\" rx=\"76.24\" ry=\"37.45\"/>\n<text text-anchor=\"middle\" x=\"467.68\" y=\"-87.78\" font-family=\"Times,serif\" font-size=\"14.00\">taskPerformance</text>\n<text text-anchor=\"middle\" x=\"467.68\" y=\"-72.78\" font-family=\"Times,serif\" font-size=\"14.00\">~</text>\n<text text-anchor=\"middle\" x=\"467.68\" y=\"-57.78\" font-family=\"Times,serif\" font-size=\"14.00\">Bernoulli</text>\n</g>\n<!-- objPermP&#45;&gt;finalP -->\n<g id=\"edge11\" class=\"edge\">\n<title>objPermP&#45;&gt;finalP</title>\n<path fill=\"none\" stroke=\"black\" d=\"M467.68,-238.82C467.68,-230.84 467.68,-221.89 467.68,-213.34\"/>\n<polygon fill=\"black\" stroke=\"black\" points=\"471.18,-213.2 467.68,-203.2 464.18,-213.2 471.18,-213.2\"/>\n</g>\n<!-- minTurnsToGoal -->\n<g id=\"node8\" class=\"node\">\n<title>minTurnsToGoal</title>\n<path fill=\"lightgrey\" stroke=\"black\" d=\"M741.68,-391.93C741.68,-391.93 655.68,-391.93 655.68,-391.93 649.68,-391.93 643.68,-385.93 643.68,-379.93 643.68,-379.93 643.68,-350.93 643.68,-350.93 643.68,-344.93 649.68,-338.93 655.68,-338.93 655.68,-338.93 741.68,-338.93 741.68,-338.93 747.68,-338.93 753.68,-344.93 753.68,-350.93 753.68,-350.93 753.68,-379.93 753.68,-379.93 753.68,-385.93 747.68,-391.93 741.68,-391.93\"/>\n<text text-anchor=\"middle\" x=\"698.68\" y=\"-376.73\" font-family=\"Times,serif\" font-size=\"14.00\">minTurnsToGoal</text>\n<text text-anchor=\"middle\" x=\"698.68\" y=\"-361.73\" font-family=\"Times,serif\" font-size=\"14.00\">~</text>\n<text text-anchor=\"middle\" x=\"698.68\" y=\"-346.73\" font-family=\"Times,serif\" font-size=\"14.00\">MutableData</text>\n</g>\n<!-- minTurnsToGoal&#45;&gt;flatNavP -->\n<g id=\"edge3\" class=\"edge\">\n<title>minTurnsToGoal&#45;&gt;flatNavP</title>\n<path fill=\"none\" stroke=\"black\" d=\"M683.18,-338.69C676.2,-327.1 667.86,-313.25 660.36,-300.8\"/>\n<polygon fill=\"black\" stroke=\"black\" points=\"663.24,-298.78 655.08,-292.02 657.24,-302.4 663.24,-298.78\"/>\n</g>\n<!-- finalP&#45;&gt;taskPerformance -->\n<g id=\"edge13\" class=\"edge\">\n<title>finalP&#45;&gt;taskPerformance</title>\n<path fill=\"none\" stroke=\"black\" d=\"M467.68,-149.71C467.68,-141.89 467.68,-133.03 467.68,-124.27\"/>\n<polygon fill=\"black\" stroke=\"black\" points=\"471.18,-124.1 467.68,-114.1 464.18,-124.1 471.18,-124.1\"/>\n</g>\n<!-- allocentricOPTest -->\n<g id=\"node10\" class=\"node\">\n<title>allocentricOPTest</title>\n<path fill=\"lightgrey\" stroke=\"black\" d=\"M507.18,-391.93C507.18,-391.93 418.18,-391.93 418.18,-391.93 412.18,-391.93 406.18,-385.93 406.18,-379.93 406.18,-379.93 406.18,-350.93 406.18,-350.93 406.18,-344.93 412.18,-338.93 418.18,-338.93 418.18,-338.93 507.18,-338.93 507.18,-338.93 513.18,-338.93 519.18,-344.93 519.18,-350.93 519.18,-350.93 519.18,-379.93 519.18,-379.93 519.18,-385.93 513.18,-391.93 507.18,-391.93\"/>\n<text text-anchor=\"middle\" x=\"462.68\" y=\"-376.73\" font-family=\"Times,serif\" font-size=\"14.00\">allocentricOPTest</text>\n<text text-anchor=\"middle\" x=\"462.68\" y=\"-361.73\" font-family=\"Times,serif\" font-size=\"14.00\">~</text>\n<text text-anchor=\"middle\" x=\"462.68\" y=\"-346.73\" font-family=\"Times,serif\" font-size=\"14.00\">MutableData</text>\n</g>\n<!-- allocentricOPTest&#45;&gt;objPermP -->\n<g id=\"edge8\" class=\"edge\">\n<title>allocentricOPTest&#45;&gt;objPermP</title>\n<path fill=\"none\" stroke=\"black\" d=\"M463.99,-338.69C464.56,-327.55 465.24,-314.32 465.85,-302.25\"/>\n<polygon fill=\"black\" stroke=\"black\" points=\"469.36,-302.19 466.38,-292.02 462.37,-301.83 469.36,-302.19\"/>\n</g>\n<!-- visualAcuityP&#45;&gt;finalP -->\n<g id=\"edge12\" class=\"edge\">\n<title>visualAcuityP&#45;&gt;finalP</title>\n<path fill=\"none\" stroke=\"black\" d=\"M286.37,-246.64C322.88,-232.71 373.75,-213.3 412.31,-198.58\"/>\n<polygon fill=\"black\" stroke=\"black\" points=\"413.74,-201.78 421.83,-194.95 411.24,-195.24 413.74,-201.78\"/>\n</g>\n<!-- goalDistance -->\n<g id=\"node12\" class=\"node\">\n<title>goalDistance</title>\n<path fill=\"lightgrey\" stroke=\"black\" d=\"M613.68,-391.93C613.68,-391.93 549.68,-391.93 549.68,-391.93 543.68,-391.93 537.68,-385.93 537.68,-379.93 537.68,-379.93 537.68,-350.93 537.68,-350.93 537.68,-344.93 543.68,-338.93 549.68,-338.93 549.68,-338.93 613.68,-338.93 613.68,-338.93 619.68,-338.93 625.68,-344.93 625.68,-350.93 625.68,-350.93 625.68,-379.93 625.68,-379.93 625.68,-385.93 619.68,-391.93 613.68,-391.93\"/>\n<text text-anchor=\"middle\" x=\"581.68\" y=\"-376.73\" font-family=\"Times,serif\" font-size=\"14.00\">goalDistance</text>\n<text text-anchor=\"middle\" x=\"581.68\" y=\"-361.73\" font-family=\"Times,serif\" font-size=\"14.00\">~</text>\n<text text-anchor=\"middle\" x=\"581.68\" y=\"-346.73\" font-family=\"Times,serif\" font-size=\"14.00\">MutableData</text>\n</g>\n<!-- goalDistance&#45;&gt;flatNavP -->\n<g id=\"edge5\" class=\"edge\">\n<title>goalDistance&#45;&gt;flatNavP</title>\n<path fill=\"none\" stroke=\"black\" d=\"M596.92,-338.69C603.78,-327.1 611.98,-313.25 619.35,-300.8\"/>\n<polygon fill=\"black\" stroke=\"black\" points=\"622.46,-302.41 624.54,-292.02 616.44,-298.85 622.46,-302.41\"/>\n</g>\n<!-- goalDistance&#45;&gt;objPermP -->\n<g id=\"edge6\" class=\"edge\">\n<title>goalDistance&#45;&gt;objPermP</title>\n<path fill=\"none\" stroke=\"black\" d=\"M551.73,-338.69C537.46,-326.42 520.25,-311.63 505.12,-298.63\"/>\n<polygon fill=\"black\" stroke=\"black\" points=\"507.3,-295.89 497.43,-292.02 502.74,-301.2 507.3,-295.89\"/>\n</g>\n<!-- numChoices -->\n<g id=\"node13\" class=\"node\">\n<title>numChoices</title>\n<path fill=\"lightgrey\" stroke=\"black\" d=\"M375.68,-391.93C375.68,-391.93 311.68,-391.93 311.68,-391.93 305.68,-391.93 299.68,-385.93 299.68,-379.93 299.68,-379.93 299.68,-350.93 299.68,-350.93 299.68,-344.93 305.68,-338.93 311.68,-338.93 311.68,-338.93 375.68,-338.93 375.68,-338.93 381.68,-338.93 387.68,-344.93 387.68,-350.93 387.68,-350.93 387.68,-379.93 387.68,-379.93 387.68,-385.93 381.68,-391.93 375.68,-391.93\"/>\n<text text-anchor=\"middle\" x=\"343.68\" y=\"-376.73\" font-family=\"Times,serif\" font-size=\"14.00\">numChoices</text>\n<text text-anchor=\"middle\" x=\"343.68\" y=\"-361.73\" font-family=\"Times,serif\" font-size=\"14.00\">~</text>\n<text text-anchor=\"middle\" x=\"343.68\" y=\"-346.73\" font-family=\"Times,serif\" font-size=\"14.00\">MutableData</text>\n</g>\n<!-- numChoices&#45;&gt;objPermP -->\n<g id=\"edge9\" class=\"edge\">\n<title>numChoices&#45;&gt;objPermP</title>\n<path fill=\"none\" stroke=\"black\" d=\"M376.26,-338.69C391.92,-326.31 410.85,-311.36 427.41,-298.28\"/>\n<polygon fill=\"black\" stroke=\"black\" points=\"429.64,-300.97 435.32,-292.02 425.3,-295.48 429.64,-300.97\"/>\n</g>\n</g>\n</svg>\n",
            "text/plain": [
              "<graphviz.graphs.Digraph at 0x7fb3c86cdb10>"
            ]
          },
          "metadata": {},
          "execution_count": 183
        }
      ]
    },
    {
      "cell_type": "code",
      "source": [
        "# A function for pulling out the means and standard deviations for abilities of interest\n",
        "def analyzeAgentResults(agentName, agentData, abilitiesToShow):\n",
        "\n",
        "  abilityMeans = [] # empty list to add in ability means to\n",
        "  abilitySDs = []\n",
        "  for a in abilitiesToShow: #iterate through each ability, add posterior mean to dataframe, and plot posterior\n",
        "\n",
        "    posteriorMean = float(np.mean(agentData['posterior'][a])) # calculate posterior mean\n",
        "    posteriorSD = float(np.std(agentData['posterior'][a])) #calculate posterior sd\n",
        "    abilityMeans.append(posteriorMean)\n",
        "    abilitySDs.append(posteriorSD)\n",
        "\n",
        "  return abilityMeans, abilitySDs\n",
        "\n",
        "# A function for padding the testing data with 0s for prediction\n",
        "def pad(testingData, trainingDataSize):\n",
        "    return testingData.append(pd.Series(np.zeros(trainingDataSize-len(testingData), dtype=int)))\n",
        "\n",
        "# A function for making predictions based on a fitted measurement layout\n",
        "def predict(m, agentData, dfTest, agent, len_training):\n",
        "  with m:\n",
        "    # set the data for prediction\n",
        "    pm.set_data({\"lavaPresence\": pad(dfTest[\"lavaPresence\"], len_training)})\n",
        "    pm.set_data({\"lightsOutPresence\": pad(dfTest[\"lightsOutPresence\"], len_training)})\n",
        "    pm.set_data({\"rampPresence\": pad(dfTest[\"taskCriticalRampPresence\"], len_training)})\n",
        "    pm.set_data({\"numChoices\": pad(dfTest[\"numChoices\"], len_training)})\n",
        "    pm.set_data({\"minTurnsToGoal\": pad(dfTest[\"minNumTurnsRequired\"], len_training)})\n",
        "    pm.set_data({\"goalDistance\": pad(dfTest[\"cityBlockDistanceToGoal\"], len_training)})\n",
        "    pm.set_data({\"goalSize\": pad(dfTest[\"mainGoalSize\"], len_training)})\n",
        "    pm.set_data({\"goalRight\": pad(dfTest[\"goalRightRelToStart\"], len_training)})\n",
        "    pm.set_data({\"goalAhead\": pad(dfTest[\"goalCentreRelToStart\"], len_training)})\n",
        "    pm.set_data({\"goalLeft\": pad(dfTest[\"goalLeftRelToStart\"], len_training)})\n",
        "    pm.set_data({\"CVChickTest\": pad(dfTest[\"cvchickTask\"], len_training)})\n",
        "    pm.set_data({\"PCTBTest\": pad(dfTest[\"pctbTask\"], len_training)})\n",
        "    pm.set_data({\"allocentricOPTest\": pad(dfTest[\"goalBecomesAllocentricallyOccluded\"], len_training)})\n",
        "\n",
        "    predictions=pm.sample_posterior_predictive(agentData, var_names=[\"finalP\"], return_inferencedata=False,predictions=True,extend_inferencedata=False)\n",
        "    predictionChainRuns =predictions[\"finalP\"][:,:,0:len(dfTest)]\n",
        "    predictionsInstance = np.mean(predictionChainRuns, (0,1))\n",
        "\n",
        "    return predictionsInstance,  dfTest[agent].to_numpy()\n",
        "\n",
        "\n",
        "def brierScore(preds, outs):\n",
        "    return 1/len(preds) * sum( (preds-outs)**2 )\n",
        "\n",
        "def brierDecomp(preds, outs):\n",
        "\n",
        "  brier= 1/len(preds) * sum( (preds-outs)**2 )\n",
        "  ## bin predictions\n",
        "  bins = np.linspace(0,1,11)\n",
        "  binCenters = (bins[:-1] +bins[1:]) /2\n",
        "  binPredInds = np.digitize(preds,binCenters)\n",
        "  binnedPreds = bins[binPredInds]\n",
        "\n",
        "  binTrueFreqs = np.zeros(10)\n",
        "  binPredFreqs = np.zeros(10)\n",
        "  binCounts = np.zeros(10)\n",
        "\n",
        "  for i in range(10):\n",
        "      idx = (preds >= bins[i]) & (preds < bins[i+1])\n",
        "\n",
        "      binTrueFreqs[i] = np.sum(outs[idx])/np.sum(idx) if np.sum(idx) > 0 else 0\n",
        "     # print(np.sum(outs[idx]), np.sum(idx), binTrueFreqs[i])\n",
        "      binPredFreqs[i] = np.mean(preds[idx]) if np.sum(idx) > 0 else 0\n",
        "      binCounts[i] = np.sum(idx)\n",
        "\n",
        "  calibration = np.sum(binCounts * (binTrueFreqs - binPredFreqs) ** 2) / np.sum(binCounts) if np.sum(binCounts)>0 else 0\n",
        "  refinement = np.sum(binCounts * (binTrueFreqs *(1 - binTrueFreqs))) / np.sum(binCounts) if np.sum(binCounts)> 0 else 0\n",
        "  # Compute refinement component\n",
        "  #refinement = brier - calibration\n",
        "  return brier, calibration, refinement\n",
        "\n"
      ],
      "metadata": {
        "id": "-Rm-t0AkyvM6"
      },
      "execution_count": 184,
      "outputs": []
    },
    {
      "cell_type": "code",
      "source": [
        "agents_training, agents_test = train_test_split(agent_data, test_size=0.2)\n",
        "children_training, children_test = train_test_split(children_data, test_size=0.2)\n"
      ],
      "metadata": {
        "id": "PmzVmxb1Wpm4"
      },
      "execution_count": 185,
      "outputs": []
    },
    {
      "cell_type": "code",
      "source": [
        "m, min, max = SetupModel(children_training, uniformAbilitySlack=1.4, agent_type='child', sample = None)"
      ],
      "metadata": {
        "id": "yFLh92O_et4p"
      },
      "execution_count": 186,
      "outputs": []
    },
    {
      "cell_type": "code",
      "source": [
        "with m:\n",
        "    childData = pm.sample(500, target_accept=0.95) #Might need more samples to converge"
      ],
      "metadata": {
        "id": "w9aFo8X8eyEg"
      },
      "execution_count": null,
      "outputs": []
    },
    {
      "cell_type": "code",
      "source": [
        "abilitiesToShow = [\"objPermAbility\", \"visualAcuityAbility\", \"flatNavAbility\", \"lavaAbility\", \"rampAbility\", \"rightAbility\", \"leftAbility\", \"aheadAbility\", \"CVChickAbility\", \"PCTBAbility\", \"noisePar\"]\n",
        "\n",
        "m, min, max = SetupModel(children_test, uniformAbilitySlack=1.4, agent_type='child', sample = None)\n",
        "\n",
        "mu, sd  = analyzeAgentResults(\"children\", childData, abilitiesToShow)\n",
        "print(mu)\n",
        "print(sd)\n",
        "#predictions, testOutputs = predict(m, childData, children_test, \"success\", len(children_training[\"success\"]))"
      ],
      "metadata": {
        "id": "SXP4tpmNQ15u"
      },
      "execution_count": null,
      "outputs": []
    },
    {
      "cell_type": "code",
      "source": [
        "m, min, max = SetupModelSimple(synthetic_agents_data, uniformAbilitySlack=1.1, agent_type='agent', agent_name=\"perfectAgent\", sample = None)"
      ],
      "metadata": {
        "id": "5RVVI1yJQOOZ"
      },
      "execution_count": 187,
      "outputs": []
    },
    {
      "cell_type": "code",
      "source": [
        "with m:\n",
        "    agentData = pm.sample(2000, target_accept=0.95) #Might need more samples to converge"
      ],
      "metadata": {
        "id": "ll_36eHQQqxe",
        "outputId": "3b0e98a7-9b4b-489e-b122-4ae7b3c778f7",
        "colab": {
          "base_uri": "https://localhost:8080/",
          "height": 57
        }
      },
      "execution_count": 188,
      "outputs": [
        {
          "output_type": "display_data",
          "data": {
            "text/plain": [
              "<IPython.core.display.HTML object>"
            ],
            "text/html": [
              "\n",
              "<style>\n",
              "    /* Turns off some styling */\n",
              "    progress {\n",
              "        /* gets rid of default border in Firefox and Opera. */\n",
              "        border: none;\n",
              "        /* Needs to be in here for Safari polyfill so background images work as expected. */\n",
              "        background-size: auto;\n",
              "    }\n",
              "    progress:not([value]), progress:not([value])::-webkit-progress-bar {\n",
              "        background: repeating-linear-gradient(45deg, #7e7e7e, #7e7e7e 10px, #5c5c5c 10px, #5c5c5c 20px);\n",
              "    }\n",
              "    .progress-bar-interrupted, .progress-bar-interrupted::-webkit-progress-bar {\n",
              "        background: #F44336;\n",
              "    }\n",
              "</style>\n"
            ]
          },
          "metadata": {}
        },
        {
          "output_type": "display_data",
          "data": {
            "text/plain": [
              "<IPython.core.display.HTML object>"
            ],
            "text/html": [
              "\n",
              "    <div>\n",
              "      <progress value='3000' class='' max='3000' style='width:300px; height:20px; vertical-align: middle;'></progress>\n",
              "      100.00% [3000/3000 00:17&lt;00:00 Sampling chain 0, 0 divergences]\n",
              "    </div>\n",
              "    "
            ]
          },
          "metadata": {}
        },
        {
          "output_type": "display_data",
          "data": {
            "text/plain": [
              "<IPython.core.display.HTML object>"
            ],
            "text/html": [
              "\n",
              "<style>\n",
              "    /* Turns off some styling */\n",
              "    progress {\n",
              "        /* gets rid of default border in Firefox and Opera. */\n",
              "        border: none;\n",
              "        /* Needs to be in here for Safari polyfill so background images work as expected. */\n",
              "        background-size: auto;\n",
              "    }\n",
              "    progress:not([value]), progress:not([value])::-webkit-progress-bar {\n",
              "        background: repeating-linear-gradient(45deg, #7e7e7e, #7e7e7e 10px, #5c5c5c 10px, #5c5c5c 20px);\n",
              "    }\n",
              "    .progress-bar-interrupted, .progress-bar-interrupted::-webkit-progress-bar {\n",
              "        background: #F44336;\n",
              "    }\n",
              "</style>\n"
            ]
          },
          "metadata": {}
        },
        {
          "output_type": "display_data",
          "data": {
            "text/plain": [
              "<IPython.core.display.HTML object>"
            ],
            "text/html": [
              "\n",
              "    <div>\n",
              "      <progress value='3000' class='' max='3000' style='width:300px; height:20px; vertical-align: middle;'></progress>\n",
              "      100.00% [3000/3000 00:15&lt;00:00 Sampling chain 1, 0 divergences]\n",
              "    </div>\n",
              "    "
            ]
          },
          "metadata": {}
        }
      ]
    },
    {
      "cell_type": "code",
      "source": [
        "abilitiesToShow = [\"objPermAbility\", \"visualAcuityAbility\", \"flatNavAbility\"]\n",
        "#abilitiesToShow = [\"objPermAbility\", \"objPermP\"]\n",
        "mu, sd  = analyzeAgentResults(\"perfectAgent\", agentData, abilitiesToShow)\n",
        "mean_success = np.mean(synthetic_agents_data['perfectAgent'])\n",
        "print(mean_success)\n",
        "print(mu)\n",
        "print(sd)\n",
        "print(min)\n",
        "print(max)"
      ],
      "metadata": {
        "id": "9zbaA1yUt2su",
        "outputId": "6e8dcb11-1f32-48cb-ed2c-86f6fd0c7540",
        "colab": {
          "base_uri": "https://localhost:8080/"
        }
      },
      "execution_count": 189,
      "outputs": [
        {
          "output_type": "stream",
          "name": "stdout",
          "text": [
            "1.0\n",
            "[777.1358284751857, 5.498965775029996, 1682.0561344997914]\n",
            "[1.6613243870112935, 0.0010186580957079491, 5.3473519380614025]\n",
            "{'objPermAbility': 8.1, 'visualAcuityAbility': 0.44999999999999996, 'flatNavAbility': 0.0}\n",
            "{'objPermAbility': 778.8000000000001, 'visualAcuityAbility': 5.5, 'flatNavAbility': 1687.4}\n"
          ]
        }
      ]
    },
    {
      "cell_type": "code",
      "source": [
        "fig, (ax1, ax2,ax3) = plt.subplots(1,3)\n",
        "#fig, (ax1) = plt.subplots(1)\n",
        "az.plot_posterior(agentData[\"posterior\"][\"objPermAbility\"], ax=ax1);\n",
        "az.plot_posterior(agentData[\"posterior\"][\"flatNavAbility\"], ax=ax2);\n",
        "az.plot_posterior(agentData[\"posterior\"][\"visualAcuityAbility\"], ax=ax3);\n",
        "plt.show()"
      ],
      "metadata": {
        "id": "3L9tz7dNGsg3",
        "outputId": "c2489afc-a484-4b1d-e736-d07d97a04c55",
        "colab": {
          "base_uri": "https://localhost:8080/",
          "height": 458
        }
      },
      "execution_count": 190,
      "outputs": [
        {
          "output_type": "display_data",
          "data": {
            "text/plain": [
              "<Figure size 640x480 with 3 Axes>"
            ],
            "image/png": "[encoded data removed]"
          },
          "metadata": {}
        }
      ]
    },
    {
      "cell_type": "code",
      "source": [
        "m, min, max = SetupModelSimple(synthetic_agents_data, uniformAbilitySlack=1, agent_type='agent', agent_name=\"failedAgent\", sample = None)\n",
        "with m:\n",
        "    agentData = pm.sample(2000, target_accept=0.95) #Might need more samples to converge"
      ],
      "metadata": {
        "id": "AT1VqrxN1rv5",
        "outputId": "622c33b1-ba14-4d18-bb2d-a7bd48ce91cc",
        "colab": {
          "base_uri": "https://localhost:8080/",
          "height": 57
        }
      },
      "execution_count": 191,
      "outputs": [
        {
          "output_type": "display_data",
          "data": {
            "text/plain": [
              "<IPython.core.display.HTML object>"
            ],
            "text/html": [
              "\n",
              "<style>\n",
              "    /* Turns off some styling */\n",
              "    progress {\n",
              "        /* gets rid of default border in Firefox and Opera. */\n",
              "        border: none;\n",
              "        /* Needs to be in here for Safari polyfill so background images work as expected. */\n",
              "        background-size: auto;\n",
              "    }\n",
              "    progress:not([value]), progress:not([value])::-webkit-progress-bar {\n",
              "        background: repeating-linear-gradient(45deg, #7e7e7e, #7e7e7e 10px, #5c5c5c 10px, #5c5c5c 20px);\n",
              "    }\n",
              "    .progress-bar-interrupted, .progress-bar-interrupted::-webkit-progress-bar {\n",
              "        background: #F44336;\n",
              "    }\n",
              "</style>\n"
            ]
          },
          "metadata": {}
        },
        {
          "output_type": "display_data",
          "data": {
            "text/plain": [
              "<IPython.core.display.HTML object>"
            ],
            "text/html": [
              "\n",
              "    <div>\n",
              "      <progress value='3000' class='' max='3000' style='width:300px; height:20px; vertical-align: middle;'></progress>\n",
              "      100.00% [3000/3000 00:15&lt;00:00 Sampling chain 0, 0 divergences]\n",
              "    </div>\n",
              "    "
            ]
          },
          "metadata": {}
        },
        {
          "output_type": "display_data",
          "data": {
            "text/plain": [
              "<IPython.core.display.HTML object>"
            ],
            "text/html": [
              "\n",
              "<style>\n",
              "    /* Turns off some styling */\n",
              "    progress {\n",
              "        /* gets rid of default border in Firefox and Opera. */\n",
              "        border: none;\n",
              "        /* Needs to be in here for Safari polyfill so background images work as expected. */\n",
              "        background-size: auto;\n",
              "    }\n",
              "    progress:not([value]), progress:not([value])::-webkit-progress-bar {\n",
              "        background: repeating-linear-gradient(45deg, #7e7e7e, #7e7e7e 10px, #5c5c5c 10px, #5c5c5c 20px);\n",
              "    }\n",
              "    .progress-bar-interrupted, .progress-bar-interrupted::-webkit-progress-bar {\n",
              "        background: #F44336;\n",
              "    }\n",
              "</style>\n"
            ]
          },
          "metadata": {}
        },
        {
          "output_type": "display_data",
          "data": {
            "text/plain": [
              "<IPython.core.display.HTML object>"
            ],
            "text/html": [
              "\n",
              "    <div>\n",
              "      <progress value='3000' class='' max='3000' style='width:300px; height:20px; vertical-align: middle;'></progress>\n",
              "      100.00% [3000/3000 00:16&lt;00:00 Sampling chain 1, 0 divergences]\n",
              "    </div>\n",
              "    "
            ]
          },
          "metadata": {}
        }
      ]
    },
    {
      "cell_type": "code",
      "source": [
        "abilitiesToShow = [\"objPermAbility\", \"visualAcuityAbility\", \"flatNavAbility\"]\n",
        "#abilitiesToShow = [\"objPermAbility\", \"objPermP\"]\n",
        "mu, sd  = analyzeAgentResults(\"failedAgent\", agentData, abilitiesToShow)\n",
        "mean_success = np.mean(synthetic_agents_data['failedAgent'])\n",
        "print(mean_success)\n",
        "print(mu)\n",
        "print(sd)\n",
        "print(min)\n",
        "print(max)"
      ],
      "metadata": {
        "id": "e4qpx_ui1yrl",
        "outputId": "326dbdd1-37d7-436f-c9b5-1f437aa78470",
        "colab": {
          "base_uri": "https://localhost:8080/"
        }
      },
      "execution_count": 192,
      "outputs": [
        {
          "output_type": "stream",
          "name": "stdout",
          "text": [
            "0.0\n",
            "[19.608846200348083, 0.5408697734447097, 21.179116016815723]\n",
            "[10.274579137177627, 0.03870181407897766, 21.07529105906952]\n",
            "{'objPermAbility': 9.0, 'visualAcuityAbility': 0.5, 'flatNavAbility': 0.0}\n",
            "{'objPermAbility': 708.0, 'visualAcuityAbility': 5.0, 'flatNavAbility': 1534.0}\n"
          ]
        }
      ]
    },
    {
      "cell_type": "code",
      "source": [
        "fig, (ax1, ax2,ax3) = plt.subplots(1,3)\n",
        "#fig, (ax1) = plt.subplots(1)\n",
        "az.plot_posterior(agentData[\"posterior\"][\"objPermAbility\"], ax=ax1);\n",
        "az.plot_posterior(agentData[\"posterior\"][\"flatNavAbility\"], ax=ax2);\n",
        "az.plot_posterior(agentData[\"posterior\"][\"visualAcuityAbility\"], ax=ax3);\n",
        "plt.show()"
      ],
      "metadata": {
        "id": "-OT1VzAq10DX",
        "outputId": "1c838b5d-ad4b-4e3f-9139-94e847d052ae",
        "colab": {
          "base_uri": "https://localhost:8080/",
          "height": 458
        }
      },
      "execution_count": 193,
      "outputs": [
        {
          "output_type": "display_data",
          "data": {
            "text/plain": [
              "<Figure size 640x480 with 3 Axes>"
            ],
            "image/png": "[encoded data removed]"
          },
          "metadata": {}
        }
      ]
    },
    {
      "cell_type": "code",
      "source": [
        "m, min, max = SetupModelSimple(synthetic_agents_data, uniformAbilitySlack=1, agent_type='agent', agent_name=\"noOPAgent\", sample = None)\n",
        "with m:\n",
        "    agentData = pm.sample(2000, target_accept=0.95) #Might need more samples to converge"
      ],
      "metadata": {
        "id": "jFS2KJxlQ4Ri",
        "outputId": "03ff15b9-e6fc-4267-cf47-058416c707de",
        "colab": {
          "base_uri": "https://localhost:8080/",
          "height": 57
        }
      },
      "execution_count": 194,
      "outputs": [
        {
          "output_type": "display_data",
          "data": {
            "text/plain": [
              "<IPython.core.display.HTML object>"
            ],
            "text/html": [
              "\n",
              "<style>\n",
              "    /* Turns off some styling */\n",
              "    progress {\n",
              "        /* gets rid of default border in Firefox and Opera. */\n",
              "        border: none;\n",
              "        /* Needs to be in here for Safari polyfill so background images work as expected. */\n",
              "        background-size: auto;\n",
              "    }\n",
              "    progress:not([value]), progress:not([value])::-webkit-progress-bar {\n",
              "        background: repeating-linear-gradient(45deg, #7e7e7e, #7e7e7e 10px, #5c5c5c 10px, #5c5c5c 20px);\n",
              "    }\n",
              "    .progress-bar-interrupted, .progress-bar-interrupted::-webkit-progress-bar {\n",
              "        background: #F44336;\n",
              "    }\n",
              "</style>\n"
            ]
          },
          "metadata": {}
        },
        {
          "output_type": "display_data",
          "data": {
            "text/plain": [
              "<IPython.core.display.HTML object>"
            ],
            "text/html": [
              "\n",
              "    <div>\n",
              "      <progress value='3000' class='' max='3000' style='width:300px; height:20px; vertical-align: middle;'></progress>\n",
              "      100.00% [3000/3000 00:29&lt;00:00 Sampling chain 0, 0 divergences]\n",
              "    </div>\n",
              "    "
            ]
          },
          "metadata": {}
        },
        {
          "output_type": "display_data",
          "data": {
            "text/plain": [
              "<IPython.core.display.HTML object>"
            ],
            "text/html": [
              "\n",
              "<style>\n",
              "    /* Turns off some styling */\n",
              "    progress {\n",
              "        /* gets rid of default border in Firefox and Opera. */\n",
              "        border: none;\n",
              "        /* Needs to be in here for Safari polyfill so background images work as expected. */\n",
              "        background-size: auto;\n",
              "    }\n",
              "    progress:not([value]), progress:not([value])::-webkit-progress-bar {\n",
              "        background: repeating-linear-gradient(45deg, #7e7e7e, #7e7e7e 10px, #5c5c5c 10px, #5c5c5c 20px);\n",
              "    }\n",
              "    .progress-bar-interrupted, .progress-bar-interrupted::-webkit-progress-bar {\n",
              "        background: #F44336;\n",
              "    }\n",
              "</style>\n"
            ]
          },
          "metadata": {}
        },
        {
          "output_type": "display_data",
          "data": {
            "text/plain": [
              "<IPython.core.display.HTML object>"
            ],
            "text/html": [
              "\n",
              "    <div>\n",
              "      <progress value='3000' class='' max='3000' style='width:300px; height:20px; vertical-align: middle;'></progress>\n",
              "      100.00% [3000/3000 00:24&lt;00:00 Sampling chain 1, 0 divergences]\n",
              "    </div>\n",
              "    "
            ]
          },
          "metadata": {}
        }
      ]
    },
    {
      "cell_type": "code",
      "source": [
        "abilitiesToShow = [\"objPermAbility\", \"visualAcuityAbility\", \"flatNavAbility\"]\n",
        "mu, sd  = analyzeAgentResults(\"noOPAgent\", agentData, abilitiesToShow)\n",
        "mean_success = np.mean(synthetic_agents_data['noOPAgent'])\n",
        "print(mean_success)\n",
        "print(mu)\n",
        "print(sd)\n",
        "print(min)\n",
        "print(max)"
      ],
      "metadata": {
        "id": "by29HbVAQ56u",
        "outputId": "82591743-620b-44b5-fe66-d2439fcb29d3",
        "colab": {
          "base_uri": "https://localhost:8080/"
        }
      },
      "execution_count": 197,
      "outputs": [
        {
          "output_type": "stream",
          "name": "stdout",
          "text": [
            "0.565733270052207\n",
            "[150.71678293378088, 4.996722271978831, 1424.5929695167952]\n",
            "[4.301131930998153, 0.003258188018621785, 82.77062126123077]\n",
            "{'objPermAbility': 9.0, 'visualAcuityAbility': 0.5, 'flatNavAbility': 0.0}\n",
            "{'objPermAbility': 708.0, 'visualAcuityAbility': 5.0, 'flatNavAbility': 1534.0}\n"
          ]
        }
      ]
    },
    {
      "cell_type": "code",
      "source": [
        "fig, (ax1, ax2,ax3) = plt.subplots(1,3)\n",
        "#fig, (ax1) = plt.subplots(1)\n",
        "az.plot_posterior(agentData[\"posterior\"][\"objPermAbility\"], ax=ax1);\n",
        "az.plot_posterior(agentData[\"posterior\"][\"flatNavAbility\"], ax=ax2);\n",
        "az.plot_posterior(agentData[\"posterior\"][\"visualAcuityAbility\"], ax=ax3);\n",
        "plt.show()"
      ],
      "metadata": {
        "id": "VK_oLuCJQ7MT",
        "outputId": "5b8f11ad-0a79-4006-d5b8-b668dffdbf07",
        "colab": {
          "base_uri": "https://localhost:8080/",
          "height": 458
        }
      },
      "execution_count": 198,
      "outputs": [
        {
          "output_type": "display_data",
          "data": {
            "text/plain": [
              "<Figure size 640x480 with 3 Axes>"
            ],
            "image/png": "[encoded data removed]"
          },
          "metadata": {}
        }
      ]
    },
    {
      "cell_type": "code",
      "source": [
        "m, min, max = SetupModelSimple(synthetic_agents_data, uniformAbilitySlack=1, agent_type='agent', agent_name=\"poorNavigationOPAgent\", sample = None)\n",
        "with m:\n",
        "    agentData = pm.sample(2000, target_accept=0.95) #Might need more samples to converge"
      ],
      "metadata": {
        "id": "yDqZOgDwRJew",
        "outputId": "b52c4ab9-dad1-43f2-bad9-7f009d56d33b",
        "colab": {
          "base_uri": "https://localhost:8080/",
          "height": 57
        }
      },
      "execution_count": 199,
      "outputs": [
        {
          "output_type": "display_data",
          "data": {
            "text/plain": [
              "<IPython.core.display.HTML object>"
            ],
            "text/html": [
              "\n",
              "<style>\n",
              "    /* Turns off some styling */\n",
              "    progress {\n",
              "        /* gets rid of default border in Firefox and Opera. */\n",
              "        border: none;\n",
              "        /* Needs to be in here for Safari polyfill so background images work as expected. */\n",
              "        background-size: auto;\n",
              "    }\n",
              "    progress:not([value]), progress:not([value])::-webkit-progress-bar {\n",
              "        background: repeating-linear-gradient(45deg, #7e7e7e, #7e7e7e 10px, #5c5c5c 10px, #5c5c5c 20px);\n",
              "    }\n",
              "    .progress-bar-interrupted, .progress-bar-interrupted::-webkit-progress-bar {\n",
              "        background: #F44336;\n",
              "    }\n",
              "</style>\n"
            ]
          },
          "metadata": {}
        },
        {
          "output_type": "display_data",
          "data": {
            "text/plain": [
              "<IPython.core.display.HTML object>"
            ],
            "text/html": [
              "\n",
              "    <div>\n",
              "      <progress value='3000' class='' max='3000' style='width:300px; height:20px; vertical-align: middle;'></progress>\n",
              "      100.00% [3000/3000 00:26&lt;00:00 Sampling chain 0, 0 divergences]\n",
              "    </div>\n",
              "    "
            ]
          },
          "metadata": {}
        },
        {
          "output_type": "display_data",
          "data": {
            "text/plain": [
              "<IPython.core.display.HTML object>"
            ],
            "text/html": [
              "\n",
              "<style>\n",
              "    /* Turns off some styling */\n",
              "    progress {\n",
              "        /* gets rid of default border in Firefox and Opera. */\n",
              "        border: none;\n",
              "        /* Needs to be in here for Safari polyfill so background images work as expected. */\n",
              "        background-size: auto;\n",
              "    }\n",
              "    progress:not([value]), progress:not([value])::-webkit-progress-bar {\n",
              "        background: repeating-linear-gradient(45deg, #7e7e7e, #7e7e7e 10px, #5c5c5c 10px, #5c5c5c 20px);\n",
              "    }\n",
              "    .progress-bar-interrupted, .progress-bar-interrupted::-webkit-progress-bar {\n",
              "        background: #F44336;\n",
              "    }\n",
              "</style>\n"
            ]
          },
          "metadata": {}
        },
        {
          "output_type": "display_data",
          "data": {
            "text/plain": [
              "<IPython.core.display.HTML object>"
            ],
            "text/html": [
              "\n",
              "    <div>\n",
              "      <progress value='3000' class='' max='3000' style='width:300px; height:20px; vertical-align: middle;'></progress>\n",
              "      100.00% [3000/3000 00:26&lt;00:00 Sampling chain 1, 0 divergences]\n",
              "    </div>\n",
              "    "
            ]
          },
          "metadata": {}
        }
      ]
    },
    {
      "cell_type": "code",
      "source": [
        "abilitiesToShow = [\"objPermAbility\", \"visualAcuityAbility\", \"flatNavAbility\"]\n",
        "mu, sd  = analyzeAgentResults(\"poorNavigationOPAgent\", agentData, abilitiesToShow)\n",
        "mean_success = np.mean(synthetic_agents_data['poorNavigationOPAgent'])\n",
        "print(mean_success)\n",
        "print(mu)\n",
        "print(sd)\n",
        "print(min)\n",
        "print(max)"
      ],
      "metadata": {
        "id": "W6LYZJdRRJb6",
        "outputId": "423b714d-7902-4861-90cc-8d4378a5b4a5",
        "colab": {
          "base_uri": "https://localhost:8080/"
        }
      },
      "execution_count": 201,
      "outputs": [
        {
          "output_type": "stream",
          "name": "stdout",
          "text": [
            "0.18889416231608921\n",
            "[87.90596981800357, 4.983229965795078, 53.44393100405694]\n",
            "[13.343153786588537, 0.01668884001445671, 19.94437506332164]\n",
            "{'objPermAbility': 9.0, 'visualAcuityAbility': 0.5, 'flatNavAbility': 0.0}\n",
            "{'objPermAbility': 708.0, 'visualAcuityAbility': 5.0, 'flatNavAbility': 1534.0}\n"
          ]
        }
      ]
    },
    {
      "cell_type": "code",
      "source": [
        "fig, (ax1, ax2,ax3) = plt.subplots(1,3)\n",
        "#fig, (ax1) = plt.subplots(1)\n",
        "az.plot_posterior(agentData[\"posterior\"][\"objPermAbility\"], ax=ax1);\n",
        "az.plot_posterior(agentData[\"posterior\"][\"flatNavAbility\"], ax=ax2);\n",
        "az.plot_posterior(agentData[\"posterior\"][\"visualAcuityAbility\"], ax=ax3);\n",
        "plt.show()"
      ],
      "metadata": {
        "id": "aXcNRqiTRJZT",
        "outputId": "edebfe6d-aea6-465f-9536-9ddd5dccb8fa",
        "colab": {
          "base_uri": "https://localhost:8080/",
          "height": 458
        }
      },
      "execution_count": 202,
      "outputs": [
        {
          "output_type": "display_data",
          "data": {
            "text/plain": [
              "<Figure size 640x480 with 3 Axes>"
            ],
            "image/png": "[encoded data removed]"
          },
          "metadata": {}
        }
      ]
    },
    {
      "cell_type": "code",
      "source": [
        "m, min, max = SetupModelSimple(synthetic_agents_data, uniformAbilitySlack=1, agent_type='agent', agent_name=\"lowVisualAcuityAgent\", sample = None)\n",
        "with m:\n",
        "    agentData = pm.sample(2000, target_accept=0.95) #Might need more samples to converge"
      ],
      "metadata": {
        "id": "-baXwGDHW_wT",
        "outputId": "6c864522-9558-4eaa-ba00-2cf2af0dfc96",
        "colab": {
          "base_uri": "https://localhost:8080/",
          "height": 57
        }
      },
      "execution_count": 203,
      "outputs": [
        {
          "output_type": "display_data",
          "data": {
            "text/plain": [
              "<IPython.core.display.HTML object>"
            ],
            "text/html": [
              "\n",
              "<style>\n",
              "    /* Turns off some styling */\n",
              "    progress {\n",
              "        /* gets rid of default border in Firefox and Opera. */\n",
              "        border: none;\n",
              "        /* Needs to be in here for Safari polyfill so background images work as expected. */\n",
              "        background-size: auto;\n",
              "    }\n",
              "    progress:not([value]), progress:not([value])::-webkit-progress-bar {\n",
              "        background: repeating-linear-gradient(45deg, #7e7e7e, #7e7e7e 10px, #5c5c5c 10px, #5c5c5c 20px);\n",
              "    }\n",
              "    .progress-bar-interrupted, .progress-bar-interrupted::-webkit-progress-bar {\n",
              "        background: #F44336;\n",
              "    }\n",
              "</style>\n"
            ]
          },
          "metadata": {}
        },
        {
          "output_type": "display_data",
          "data": {
            "text/plain": [
              "<IPython.core.display.HTML object>"
            ],
            "text/html": [
              "\n",
              "    <div>\n",
              "      <progress value='3000' class='' max='3000' style='width:300px; height:20px; vertical-align: middle;'></progress>\n",
              "      100.00% [3000/3000 00:23&lt;00:00 Sampling chain 0, 0 divergences]\n",
              "    </div>\n",
              "    "
            ]
          },
          "metadata": {}
        },
        {
          "output_type": "display_data",
          "data": {
            "text/plain": [
              "<IPython.core.display.HTML object>"
            ],
            "text/html": [
              "\n",
              "<style>\n",
              "    /* Turns off some styling */\n",
              "    progress {\n",
              "        /* gets rid of default border in Firefox and Opera. */\n",
              "        border: none;\n",
              "        /* Needs to be in here for Safari polyfill so background images work as expected. */\n",
              "        background-size: auto;\n",
              "    }\n",
              "    progress:not([value]), progress:not([value])::-webkit-progress-bar {\n",
              "        background: repeating-linear-gradient(45deg, #7e7e7e, #7e7e7e 10px, #5c5c5c 10px, #5c5c5c 20px);\n",
              "    }\n",
              "    .progress-bar-interrupted, .progress-bar-interrupted::-webkit-progress-bar {\n",
              "        background: #F44336;\n",
              "    }\n",
              "</style>\n"
            ]
          },
          "metadata": {}
        },
        {
          "output_type": "display_data",
          "data": {
            "text/plain": [
              "<IPython.core.display.HTML object>"
            ],
            "text/html": [
              "\n",
              "    <div>\n",
              "      <progress value='3000' class='' max='3000' style='width:300px; height:20px; vertical-align: middle;'></progress>\n",
              "      100.00% [3000/3000 00:22&lt;00:00 Sampling chain 1, 0 divergences]\n",
              "    </div>\n",
              "    "
            ]
          },
          "metadata": {}
        }
      ]
    },
    {
      "cell_type": "code",
      "source": [
        "abilitiesToShow = [\"objPermAbility\", \"visualAcuityAbility\", \"flatNavAbility\"]\n",
        "mu, sd  = analyzeAgentResults(\"poorNavigationOPAgent\", agentData, abilitiesToShow)\n",
        "mean_success = np.mean(synthetic_agents_data['poorNavigationOPAgent'])\n",
        "print(mean_success)\n",
        "print(mu)\n",
        "print(sd)\n",
        "print(min)\n",
        "print(max)"
      ],
      "metadata": {
        "id": "dAUvJzUyW_ol",
        "outputId": "cbf17267-1295-42d9-97a4-0223c121a334",
        "colab": {
          "base_uri": "https://localhost:8080/"
        }
      },
      "execution_count": 204,
      "outputs": [
        {
          "output_type": "stream",
          "name": "stdout",
          "text": [
            "0.18889416231608921\n",
            "[705.0663598383738, 3.889206437171977, 1525.8613014741927]\n",
            "[2.9989741636027656, 0.024574451014440286, 7.991927325543967]\n",
            "{'objPermAbility': 9.0, 'visualAcuityAbility': 0.5, 'flatNavAbility': 0.0}\n",
            "{'objPermAbility': 708.0, 'visualAcuityAbility': 5.0, 'flatNavAbility': 1534.0}\n"
          ]
        }
      ]
    },
    {
      "cell_type": "code",
      "source": [
        "fig, (ax1, ax2,ax3) = plt.subplots(1,3)\n",
        "#fig, (ax1) = plt.subplots(1)\n",
        "az.plot_posterior(agentData[\"posterior\"][\"objPermAbility\"], ax=ax1);\n",
        "az.plot_posterior(agentData[\"posterior\"][\"flatNavAbility\"], ax=ax2);\n",
        "az.plot_posterior(agentData[\"posterior\"][\"visualAcuityAbility\"], ax=ax3);\n",
        "plt.show()"
      ],
      "metadata": {
        "id": "IG9FBuNBW_lD",
        "outputId": "0997da1b-da85-43e4-c9ba-ceef7c5a20ae",
        "colab": {
          "base_uri": "https://localhost:8080/",
          "height": 458
        }
      },
      "execution_count": 205,
      "outputs": [
        {
          "output_type": "display_data",
          "data": {
            "text/plain": [
              "<Figure size 640x480 with 3 Axes>"
            ],
            "image/png": "[encoded data removed]"
          },
          "metadata": {}
        }
      ]
    },
    {
      "cell_type": "code",
      "source": [],
      "metadata": {
        "id": "ZDHB_d5oRJW7"
      },
      "execution_count": null,
      "outputs": []
    },
    {
      "cell_type": "code",
      "source": [],
      "metadata": {
        "id": "lLpQyQaCRJUV"
      },
      "execution_count": null,
      "outputs": []
    },
    {
      "cell_type": "code",
      "source": [],
      "metadata": {
        "id": "4uoMiQrPRJRv"
      },
      "execution_count": null,
      "outputs": []
    },
    {
      "cell_type": "code",
      "source": [],
      "metadata": {
        "id": "LXUsysXMRJPJ"
      },
      "execution_count": null,
      "outputs": []
    },
    {
      "cell_type": "code",
      "source": [],
      "metadata": {
        "id": "bFpglAHvRJMT"
      },
      "execution_count": null,
      "outputs": []
    },
    {
      "cell_type": "code",
      "source": [],
      "metadata": {
        "id": "jhjAJpuzRJJe"
      },
      "execution_count": null,
      "outputs": []
    },
    {
      "cell_type": "code",
      "source": [],
      "metadata": {
        "id": "yvfvxjsGRJEr"
      },
      "execution_count": null,
      "outputs": []
    },
    {
      "cell_type": "code",
      "source": [],
      "metadata": {
        "id": "fOsZL9ZpRI8t"
      },
      "execution_count": null,
      "outputs": []
    },
    {
      "cell_type": "markdown",
      "source": [
        "--------------------------------------------------------------------------------\n",
        "\n",
        "\n",
        "Excess Code"
      ],
      "metadata": {
        "id": "1OhrXYWmRKqD"
      }
    },
    {
      "cell_type": "code",
      "source": [
        "abilitiesToShow = [\"objPermAbility\", \"visualAcuityAbility\", \"flatNavAbility\", \"lavaAbility\", \"rampAbility\", \"rightAbility\", \"leftAbility\", \"aheadAbility\", \"CVChickAbility\", \"PCTBAbility\", \"noisePar\"]\n",
        "mu, sd  = analyzeAgentResults(\"perfectAgent\", agentData, abilitiesToShow)\n",
        "print(mu)\n",
        "print(sd)\n",
        "print(max)"
      ],
      "metadata": {
        "id": "2BLM0Teyp8mh"
      },
      "execution_count": null,
      "outputs": []
    },
    {
      "cell_type": "code",
      "source": [
        "agentName = \"Vanilla_Braitenberg_15_rays_over_60_degs_3761\"\n",
        "abilitiesToShow = [\"objPermAbility\", \"visualAcuityAbility\", \"flatNavAbility\", \"lavaAbility\", \"rampAbility\", \"rightAbility\", \"leftAbility\", \"aheadAbility\", \"CVChickAbility\", \"PCTBAbility\", \"noisePar\"]\n",
        "\n",
        "m, min, max = SetupModel(agents_test, uniformAbilitySlack=1.4, agent_type='agent', agent_name=agentName)\n",
        "\n",
        "mu, sd  = analyzeAgentResults(agentName, agentData, abilitiesToShow)\n",
        "print(mu)\n",
        "print(sd)\n",
        "#predictions, testOutputs = predict(m, agentData, agents_test, agentName, len(agents_training[agentName]))"
      ],
      "metadata": {
        "id": "J5xV1fmxb8vQ"
      },
      "execution_count": null,
      "outputs": []
    },
    {
      "cell_type": "code",
      "source": [
        "\n",
        "abilityDF = pd.DataFrame( {'Ability': abilitiesIncludingSuccess})\n",
        "meansDF = pd.DataFrame({\"Ability\": abilitiesIncludingSuccess})\n",
        "stdDevDF = pd.DataFrame({\"Ability\": abilitiesIncludingSuccess})\n",
        "modelBrierScores = []\n",
        "aggregateBrierScores = []\n",
        "modelCalibrations = []\n",
        "aggregateCalibrations = []\n",
        "modelRefinements = []\n",
        "aggregateRefinements = []\n",
        "\n",
        "agentBrierScore, agentCalibration, agentRefinement = brierDecomp(predictions, testOutputs)\n",
        "agentAggBrierScore, agentAggCalibration, agentAggRefinement = brierDecomp(np.repeat(np.mean(agent_data[agentName]), len(testOutputs)), testOutputs)\n",
        "aggregateBrierScores.append(agentAggBrierScore)\n",
        "aggregateCalibrations.append(agentAggCalibration)\n",
        "aggregateRefinements.append(agentAggRefinement)\n",
        "modelBrierScores.append(agentBrierScore)\n",
        "modelCalibrations.append(agentCalibration)\n",
        "modelRefinements.append(agentRefinement)\n",
        "abilityMeans= [str(round(mu_i, 2))+\" \" for mu_i in mu]  # add ability mean estimate to list for this agent\n",
        "abilitySDs = [\"\"+str(round(sd_i,2)) for sd_i in sd ]"
      ],
      "metadata": {
        "id": "-mqyHbZ8jtia"
      },
      "execution_count": null,
      "outputs": []
    },
    {
      "cell_type": "code",
      "source": [
        "agentBrierScore, agentCalibration, agentRefinement = brierDecomp(predictions, testOutputs)\n",
        "abilityMeans= [str(round(mu_i, 2))+\" \" for mu_i in mu]  # add ability mean estimate to list for this agent\n",
        "abilitySDs = [\"\"+str(round(sd_i,2)) for sd_i in sd ]\n",
        "print(agentBrierScore)\n",
        "print(agentCalibration)\n",
        "print(agentRefinement)\n",
        "print(abilityMeans)\n",
        "print(abilitySDs)"
      ],
      "metadata": {
        "id": "swLWucBTktOo"
      },
      "execution_count": null,
      "outputs": []
    },
    {
      "cell_type": "code",
      "source": [
        "brier= 1/len(predictions) * sum( (predictions-testOutputs)**2 )\n",
        "print(sum( (predictions-testOutputs)**2))\n",
        "# ## bin predictions\n",
        "# bins = np.linspace(0,1,11)\n",
        "# binCenters = (bins[:-1] +bins[1:]) /2\n",
        "# binPredInds = np.digitize(preds,binCenters)\n",
        "# binnedPreds = bins[binPredInds]\n",
        "# binTrueFreqs = np.zeros(10)\n",
        "# binPredFreqs = np.zeros(10)\n",
        "# binCounts = np.zeros(10)\n",
        "# for i in range(10):\n",
        "#   idx = (preds >= bins[i]) & (preds < bins[i+1])\n",
        "\n",
        "#   binTrueFreqs[i] = np.sum(outs[idx])/np.sum(idx) if np.sum(idx) > 0 else 0\n",
        "#   # print(np.sum(outs[idx]), np.sum(idx), binTrueFreqs[i])\n",
        "#   binPredFreqs[i] = np.mean(preds[idx]) if np.sum(idx) > 0 else 0\n",
        "#   binCounts[i] = np.sum(idx)\n",
        "\n",
        "# calibration = np.sum(binCounts * (binTrueFreqs - binPredFreqs) ** 2) / np.sum(binCounts) if np.sum(binCounts)>0 else 0\n",
        "# refinement = np.sum(binCounts * (binTrueFreqs *(1 - binTrueFreqs))) / np.sum(binCounts) if np.sum(binCounts)> 0 else 0\n",
        "# # Compute refinement component\n",
        "# #refinement = brier - calibration\n",
        "\n"
      ],
      "metadata": {
        "id": "9Q0R-aKC0Feo"
      },
      "execution_count": null,
      "outputs": []
    },
    {
      "cell_type": "code",
      "source": [
        "brierDF = pd.DataFrame({\"Model Brier Score\":modelBrierScores, \"Aggregate Brier Scores\": aggregateBrierScores, \"Model Calibration\": modelCalibrations, \"Aggregate Calibration\":aggregateCalibrations, \"Model Refinement\":modelRefinements, \"Aggregate Refinement\":aggregateRefinements,  \"Model Better? (Based on Brier Score)\":np.array(modelBrierScores)<np.array(aggregateBrierScores), \"Success Score\":meansDF.iloc[9][1:]})"
      ],
      "metadata": {
        "id": "NMsnjVhVdoTH"
      },
      "execution_count": null,
      "outputs": []
    },
    {
      "cell_type": "code",
      "source": [
        "taskResults = agent_data[agentName] #Grab the column of results for that agent\n",
        "print(agent_data)\n",
        "print(np.mean(taskResults)) #print mean performance for the agent across all tasks\n",
        "m = SetupModel(taskResults) #Define the model using the setupModel function. Needs to be redefined each run after taskResults are updated or PyMC won't use the latest taskResults\n",
        "\n",
        "mu, sd  = analyzeAgentResults(agentName, agentData)\n",
        "predictions, testOutputs = predict(m, agentData, agents_test[agentName], len(agents_test[agentName]))\n",
        "agentBrierScore, agentCalibration, agentRefinement = brierDecomp(predictions, testOutputs)\n",
        "agentAggBrierScore, agentAggCalibration, agentAggRefinement = brierDecomp(np.repeat(np.mean(taskResults), len(testOutputs)), testOutputs)\n",
        "aggregateBrierScores.append(agentAggBrierScore)\n",
        "aggregateCalibrations.append(agentAggCalibration)\n",
        "aggregateRefinements.append(agentAggRefinement)\n",
        "modelBrierScores.append(agentBrierScore)\n",
        "modelCalibrations.append(agentCalibration)\n",
        "modelRefinements.append(agentRefinement)\n",
        "abilityMeans= [str(round(mu_i, 2))+\" \" for mu_i in mu]  # add ability mean estimate to list for this agent\n",
        "abilitySDs = [\"\"+str(round(sd_i,2)) for sd_i in sd ]"
      ],
      "metadata": {
        "id": "T0Z1xKhpa2Yn"
      },
      "execution_count": null,
      "outputs": []
    },
    {
      "cell_type": "code",
      "source": [
        "mu"
      ],
      "metadata": {
        "id": "_5bEjgpv8FIl"
      },
      "execution_count": null,
      "outputs": []
    },
    {
      "cell_type": "code",
      "source": [
        "sd"
      ],
      "metadata": {
        "id": "RqzPIRTI8J7o"
      },
      "execution_count": null,
      "outputs": []
    },
    {
      "cell_type": "code",
      "source": [
        "max"
      ],
      "metadata": {
        "id": "7wsEMrD59wNQ"
      },
      "execution_count": null,
      "outputs": []
    },
    {
      "cell_type": "code",
      "source": [
        "##### Sample results for each agent using the model defined in the function above.\n",
        "allAgentData = [] #blank list for entering the outputs of the pm sampling for each agent\n",
        "agentNames = [] #blank list for the agent names\n",
        "agentColList = agentCols.tolist()\n",
        "print(agentColList)\n",
        "numAgents = len(agentColList) #Number of agents, replace with a small number for testing to save time\n",
        "print(numAgents)\n",
        "#numAgents=3\n",
        "abilitiesToShow = [\"objPermAbility\", \"flatNavAbility\", \"visualAcuityAbility\",\"lavaAbility\", \"platformAbility\", \"rampAbility\", \"memoryAbility\", \"rightLeftBias\", \"noisePar\"]\n",
        "\n",
        "abilitiesIncludingSuccess = abilitiesToShow + [\"Success\"]\n",
        "abilityDF = pd.DataFrame( {'Ability': abilitiesIncludingSuccess})\n",
        "meansDF = pd.DataFrame({\"Ability\": abilitiesIncludingSuccess})\n",
        "stdDevDF = pd.DataFrame({\"Ability\": abilitiesIncludingSuccess})\n",
        "modelBrierScores = []\n",
        "aggregateBrierScores = []\n",
        "modelCalibrations = []\n",
        "aggregateCalibrations = []\n",
        "modelRefinements = []\n",
        "aggregateRefinements = []\n",
        "\n",
        "\n",
        "for i in range(numAgents): # Iterate through each agent.\n",
        "  agent = agentCols[i] #Get the agent name\n",
        "  taskResults = df[agent] #Grab the column of results for that agent\n",
        "  print(agent)\n",
        "  print(np.mean(taskResults)) #print mean performance for the agent across all tasks\n",
        "  m = SetupModel(taskResults) #Define the model using the setupModel function. Needs to be redefined each run after taskResults are updated or PyMC won't use the latest taskResults\n",
        "\n",
        "  #Now sample based on this agent's performance\n",
        "  with m:\n",
        "    agentData = pm.sample(1000, target_accept=0.95) #Might need more samples to converge\n",
        "\n",
        "  mu, sd  = analyzeAgentResults(agent, agentData)\n",
        "  predictions, testOutputs = predict(m, agentData, dfTest, agent)\n",
        "  agentBrierScore, agentCalibration, agentRefinement = brierDecomp(predictions, testOutputs)\n",
        "  agentAggBrierScore, agentAggCalibration, agentAggRefinement = brierDecomp(np.repeat(np.mean(taskResults), len(testOutputs)), testOutputs)\n",
        "  aggregateBrierScores.append(agentAggBrierScore)\n",
        "  aggregateCalibrations.append(agentAggCalibration)\n",
        "  aggregateRefinements.append(agentAggRefinement)\n",
        "  modelBrierScores.append(agentBrierScore)\n",
        "  modelCalibrations.append(agentCalibration)\n",
        "  modelRefinements.append(agentRefinement)\n",
        "  abilityMeans= [str(round(mu_i, 2))+\" \" for mu_i in mu]  # add ability mean estimate to list for this agent\n",
        "  abilitySDs = [\"\"+str(round(sd_i,2)) for sd_i in sd ]\n",
        "\n",
        "\n",
        "  abilityMeans = abilityMeans + [str(round(np.mean(taskResults),2))+\" \"]\n",
        "  abilitySDs = abilitySDs + [str(round(np.std(taskResults), 2))]\n",
        "  abilityDF[agent] = list(zip(abilityMeans, abilitySDs))\n",
        "  mu=mu+[np.mean(taskResults)]\n",
        "  sd=sd+[np.std(taskResults)]\n",
        "  meansDF[agent]=[round(mu_i,2) for mu_i in mu]\n",
        "  stdDevDF[agent]=[round(sd_i,2) for sd_i in sd]"
      ],
      "metadata": {
        "id": "PTu7cUuuagVW"
      },
      "execution_count": null,
      "outputs": []
    }
  ]
}