{
  "nbformat": 4,
  "nbformat_minor": 0,
  "metadata": {
    "colab": {
      "provenance": [],
      "include_colab_link": true
    },
    "kernelspec": {
      "name": "python3",
      "display_name": "Python 3"
    },
    "language_info": {
      "name": "python"
    }
  },
  "cells": [
    {
      "cell_type": "markdown",
      "metadata": {
        "id": "view-in-github",
        "colab_type": "text"
      },
      "source": [
        "<a href=\"https://colab.research.google.com/github/Kinds-of-Intelligence-CFI/comparative-object-permanence/blob/multivariate-measurement-layout/analysis/measurement-layouts/object_permanence_measurement_layout.ipynb\" target=\"_parent\"><img src=\"https://colab.research.google.com/assets/colab-badge.svg\" alt=\"Open In Colab\"/></a>"
      ]
    },
    {
      "cell_type": "markdown",
      "source": [
        "# Comparative Object Permanence Measurement Layouts\n",
        "\n",
        "Authors: K. Voudouris, J. Burden, J. Hernández-Orallo"
      ],
      "metadata": {
        "id": "U27yVRKBqCpj"
      }
    },
    {
      "cell_type": "markdown",
      "source": [
        "## INIT"
      ],
      "metadata": {
        "id": "95RSQ17Lriav"
      }
    },
    {
      "cell_type": "code",
      "execution_count": 1,
      "metadata": {
        "id": "MLYI9s6Lp3fi",
        "outputId": "f3878744-3e40-4406-990c-1501680921ed",
        "colab": {
          "base_uri": "https://localhost:8080/"
        }
      },
      "outputs": [
        {
          "output_type": "stream",
          "name": "stdout",
          "text": [
            "\u001b[?25l     \u001b[90m━━━━━━━━━━━━━━━━━━━━━━━━━━━━━━━━━━━━━━━━\u001b[0m \u001b[32m0.0/41.4 kB\u001b[0m \u001b[31m?\u001b[0m eta \u001b[36m-:--:--\u001b[0m\r\u001b[2K     \u001b[90m━━━━━━━━━━━━━━━━━━━━━━━━━━━━━━━━━━━━━━━━\u001b[0m \u001b[32m41.4/41.4 kB\u001b[0m \u001b[31m1.2 MB/s\u001b[0m eta \u001b[36m0:00:00\u001b[0m\n",
            "\u001b[?25h"
          ]
        }
      ],
      "source": [
        "!pip install pymc --quiet\n",
        "!pip install numpy --quiet\n",
        "!pip install arviz --quiet\n",
        "!pip install erroranalysis --quiet"
      ]
    },
    {
      "cell_type": "code",
      "source": [
        "import arviz as az\n",
        "import erroranalysis as ea\n",
        "import gc\n",
        "import graphviz\n",
        "import math\n",
        "import matplotlib.pyplot as plt\n",
        "import numpy as np\n",
        "import pandas as pd\n",
        "import pickle\n",
        "import pymc as pm\n",
        "import random as rm\n",
        "import seaborn as sns\n",
        "\n",
        "from IPython.display import Image\n",
        "from scipy import stats\n",
        "from sklearn.model_selection import train_test_split\n",
        "from google.colab import files\n",
        "from pymc import model\n",
        "\n",
        "print(f\"Running on PyMC v{pm.__version__}\")"
      ],
      "metadata": {
        "id": "ehpymOwzrgm7",
        "outputId": "9e510527-6488-4269-bea1-8fe7c3e7a25d",
        "colab": {
          "base_uri": "https://localhost:8080/"
        }
      },
      "execution_count": 2,
      "outputs": [
        {
          "output_type": "stream",
          "name": "stdout",
          "text": [
            "Running on PyMC v5.7.2\n"
          ]
        }
      ]
    },
    {
      "cell_type": "code",
      "source": [
        "from google.colab import drive\n",
        "drive.mount('/content/drive')"
      ],
      "metadata": {
        "id": "Ga3CMVsXSYRa",
        "outputId": "c3d99786-7fd3-4219-a953-66e3c3734802",
        "colab": {
          "base_uri": "https://localhost:8080/"
        }
      },
      "execution_count": 3,
      "outputs": [
        {
          "output_type": "stream",
          "name": "stdout",
          "text": [
            "Mounted at /content/drive\n"
          ]
        }
      ]
    },
    {
      "cell_type": "markdown",
      "source": [
        "## Load Data\n",
        "\n",
        "While the repo is private, the links break easily due to hashing of the csv location. You need to go to the csv in the repo, click raw, and copy the new link."
      ],
      "metadata": {
        "id": "s5Nsn4LgzVmj"
      }
    },
    {
      "cell_type": "code",
      "source": [
        "agents_url = 'https://raw.githubusercontent.com/Kinds-of-Intelligence-CFI/comparative-object-permanence/develop/analysis/measurement-layouts/results_final_clean_agents_wide.csv?token=GHSAT0AAAAAACEGARGRDI4VUVR4AQ6I7OC6ZHOF2AQ'\n",
        "agent_data = pd.read_csv(agents_url)\n",
        "\n",
        "children_url = 'https://raw.githubusercontent.com/Kinds-of-Intelligence-CFI/comparative-object-permanence/develop/analysis/measurement-layouts/results_final_clean_children_wide.csv?token=GHSAT0AAAAAACEGARGR5SHTZTCA6ZIBYYKUZHOF2JA'\n",
        "children_data = pd.read_csv(children_url)\n",
        "\n",
        "children_4_5_data = children_data[(children_data['agent_tag'].str.contains(\"4M|4F|5M|5F\"))]\n",
        "children_6_7_data = children_data[(children_data['agent_tag'].str.contains(\"6M|6F|7M|7F\"))]\n",
        "\n",
        "synthetic_agents_url = 'https://raw.githubusercontent.com/Kinds-of-Intelligence-CFI/comparative-object-permanence/develop/analysis/measurement-layouts/results_synthetic_agents_wide.csv?token=GHSAT0AAAAAACEGARGRKVDMRW6GNOJ2B4O2ZHOF2QQ'\n",
        "synthetic_agents_data = pd.read_csv(synthetic_agents_url)\n"
      ],
      "metadata": {
        "id": "1dN0OHAWzVBK"
      },
      "execution_count": 4,
      "outputs": []
    },
    {
      "cell_type": "code",
      "source": [
        "agent_data['pctb3CupTask']\n",
        "agent_data['pctbGridTask']"
      ],
      "metadata": {
        "id": "Ie9c4YjniA5h"
      },
      "execution_count": null,
      "outputs": []
    },
    {
      "cell_type": "markdown",
      "source": [
        "## Define the Measurement Layout"
      ],
      "metadata": {
        "id": "C0_GsfhIYZPw"
      }
    },
    {
      "cell_type": "code",
      "source": [
        "## Helper functions\n",
        "\n",
        "def logistic(x, L=1, k=1, x_0=0):\n",
        "  return (L / (1 + np.exp(-k * (x-x_0))))\n",
        "\n",
        "def logistic999(x, min, max):    # This logistic function ensures that if x is at -(max-min), we get prob 0.001, and if x is at (max-min), we get prob 0.999\n",
        "  x = x - min\n",
        "  max = max - min\n",
        "  x = 6.90675478 * x / max\n",
        "  return 1 / (1 + np.exp(-x))\n",
        "\n",
        "def visualAcuityLOMargin(ability, goalSize, goalDistance): # must return a value between -inf and inf  (more precisely between -maxVisualAcuityAbility and maxVisualAcuityAbility)\n",
        "  margin = np.log(ability)-np.log((goalDistance/goalSize))\n",
        "\n",
        "  return margin   # Goes between -inf to inf, with logodds=0 meaning this would lead to 0.5 chance of success\n",
        "\n",
        "def SimplePrMargin(ability, binaryFeature): # must return a value between 0 and 1\n",
        "  return 1-((1-ability)*binaryFeature)  # If binaryFeature is 0 then the margin represents p(success)=1. If binaryFeature = 1 then p(success)=ability\n",
        "\n",
        "\n",
        "#def flatNavMargin(ability, distanceToGoal, numTurns, allocentricOcclusion): # must return a value between -inf and inf  (more precisely between -maxSpatialAbility and maxSpatialAbility)\n",
        "def flatNavMargin(ability, distanceToGoal, numTurns):\n",
        "  #return ability - ((distanceToGoal * numTurns)*allocentricOcclusion)   # Goes between -inf to inf, with logodds=0 meaning this would lead to 0.5 chance of success\n",
        "  return ability - ((distanceToGoal * numTurns))\n",
        "\n",
        "def objPermanenceLOMargin(ability, allocentricOcclusion, cvChickP, pctbP, lightsOut, distanceToGoal, numPositions, maxPermAbility, lightsOutPenalisation, uniformAbilitySlack): #,  visualAcuityP): # must return a value between -inf and inf (more precisely between -maxPermAbility and maxPermAbility)\n",
        "#def objPermanenceLOMargin(ability, allocentricOcclusion, lightsOut, distanceToGoal, numPositions, maxPermAbility, lightsOutPenalisation, uniformAbilitySlack):\n",
        "  assert lightsOutPenalisation < uniformAbilitySlack and lightsOutPenalisation > 1, \"Penalisation for lights out must be lower than the slack on abilities.\"\n",
        "  OPPerformance = ability  - ((distanceToGoal * numPositions)*(lightsOut*lightsOutPenalisation)) #this returns a value that is lower when (a) ability is lower, (b) the goal is occluded for longer or there are more positions where it could be occluded, or (c) when the lights go out (by a small penalisation)\n",
        "  ability = maxPermAbility - ((maxPermAbility-OPPerformance)*allocentricOcclusion) * cvChickP * pctbP # this returns an ability value that is modulated by performance on the different paradigms. The agent needs to be good at both to have a high OP ability\n",
        "  #return maxPermAbility-((maxPermAbility-OPPerformance)*((allocentricOcclusion*cvChick) + (allocentricOcclusion*pctb))) #multiply by a factor that introduces whether the instance is a an OP CV task or an OP PCTB task (independent, so ((allocentricOcclusion*cvChick) + (allocentricOcclusion*pctb)) should be 0 or 1)\n",
        "  #return maxPermAbility - ((maxPermAbility-OPPerformance)*allocentricOcclusion)\n",
        "  return ability\n",
        "\n",
        "def scaledBeta(name, a, b, min, max, simpleGraph = True):\n",
        "  if (simpleGraph):\n",
        "    beta = pm.Beta(name, a, b)\n",
        "    return beta * (max - min) + min\n",
        "  else:\n",
        "    beta = pm.Beta(f\"{name}_raw\", a, b)\n",
        "    return pm.Deterministic(name, beta * (max - min) + min)\n"
      ],
      "metadata": {
        "id": "-uobQpcJiPr2"
      },
      "execution_count": 5,
      "outputs": []
    },
    {
      "cell_type": "code",
      "source": [
        "def SetupModel(taskResultsAll, uniformAbilitySlack, agent_type, agent_name = None, agent_name_choice = None, sample = 500):\n",
        "  \"\"\"\n",
        "  taskResults is the conjunction of the metadata with the successes of the agents on that set of tests.\n",
        "  \"\"\"\n",
        "  assert uniformAbilitySlack >=1, \"Slack must be greater than or equal to 1.\"\n",
        "\n",
        "  if agent_type == \"agent_real\":\n",
        "    taskResults = taskResultsAll.dropna(subset = [agent_name])\n",
        "    if sample is not None:\n",
        "      taskResults = taskResults.sample(n=sample)\n",
        "    results = taskResults[agent_name]\n",
        "    choices = taskResults[agent_name_choice]\n",
        "  elif agent_type == \"agent_synthetic\":\n",
        "    taskResults = taskResultsAll.dropna(subset = [agent_name])\n",
        "    if sample is not None:\n",
        "      taskResults = taskResults.sample(n=sample)\n",
        "    results = taskResults[agent_name]\n",
        "    choices = results\n",
        "  elif agent_type == \"child\":\n",
        "    taskResults = taskResultsAll.dropna(subset = ['success'])\n",
        "    if sample is not None:\n",
        "      taskResults = taskResults.sample(n=sample)\n",
        "    results = taskResults['success']\n",
        "    choices = taskResults['correctChoice']\n",
        "  else:\n",
        "    print(\"Agent not recognised. Quitting.\")\n",
        "    return\n",
        "\n",
        "\n",
        "\n",
        "  abilityMin = {} #Initialize ability Min and max dataframes for plotting ranges\n",
        "  abilityMax = {}\n",
        "\n",
        "  #Decide \"maximum capabilities\" based on the hardest values in the dataset\n",
        "  maxDistance = taskResults[\"cityBlockDistanceToGoal\"].max()\n",
        "  maxTurns = taskResults[\"minNumTurnsRequired\"].max()\n",
        "  maxChoices = taskResults[\"numChoices\"].max()\n",
        "  maxGoalSize = taskResults[\"mainGoalSize\"].max() * uniformAbilitySlack\n",
        "  maxPermAbility = ((taskResults[\"cityBlockDistanceToGoal\"] * taskResults[\"numChoices\"]).max()) * uniformAbilitySlack\n",
        "  maxFlatNav = ((taskResults[\"cityBlockDistanceToGoal\"]*taskResults[\"minNumTurnsRequired\"])).max() * uniformAbilitySlack\n",
        "  #maxPermAbility = maxChoices * uniformAbilitySlack\n",
        "  #maxMemoryAbility = maxDistance * uniformAbilitySlack\n",
        "  #maxPermAbility = 1\n",
        "  #maxMemoryAbility = 1\n",
        "\n",
        "  # Decide 'minimum capabilities' based on easiest values in the dataset\n",
        "  minDistance = taskResults[\"cityBlockDistanceToGoal\"].min()\n",
        "  minTurns = taskResults[\"minNumTurnsRequired\"].min()\n",
        "  minChoices = taskResults[\"numChoices\"].min()\n",
        "  minGoalSize = taskResults[\"mainGoalSize\"].min() * (1-(uniformAbilitySlack-1))\n",
        "  minPermAbility = ((taskResults[\"cityBlockDistanceToGoal\"] * taskResults[\"numChoices\"]).min()) * (1-(uniformAbilitySlack-1))\n",
        "  minFlatNav = ((taskResults[\"cityBlockDistanceToGoal\"]*taskResults[\"minNumTurnsRequired\"])).min() * (1-(uniformAbilitySlack-1))\n",
        "  #minPermAbility = 0\n",
        "\n",
        "  m = pm.Model()\n",
        "  with m:\n",
        "\n",
        "    objPermAbility = pm.Uniform(\"objPermAbility\", minPermAbility, maxPermAbility)  # [0,maxPermAbility] This is the same as above, but we have the ability in the right magnitude\n",
        "    abilityMin[\"objPermAbility\"] = minPermAbility\n",
        "    abilityMax[\"objPermAbility\"] = maxPermAbility\n",
        "\n",
        "    #objPermAbility = scaledBeta(\"objPermAbility\", 1,1, minPermAbility, maxPermAbility, simpleGraph=False)\n",
        "    abilityMin[\"objPermAbility\"] = minPermAbility\n",
        "    abilityMax[\"objPermAbility\"] = maxPermAbility\n",
        "\n",
        "    #memoryAbility = pm.Uniform(\"memoryAbility\", 0, maxMemoryAbility)  # [0,maxMemoryAbility] This is the same as above, but we have the ability in the right magnitude\n",
        "    #abilityMin[\"memoryAbility\"] = 0\n",
        "    #abilityMax[\"memoryAbility\"] = maxMemoryAbility\n",
        "\n",
        "    #Visual acuity\n",
        "    visualAcuityAbility = pm.Uniform(\"visualAcuityAbility\", minDistance/maxGoalSize, maxDistance/minGoalSize)\n",
        "    abilityMin[\"visualAcuityAbility\"] = minDistance/maxGoalSize\n",
        "    abilityMax[\"visualAcuityAbility\"] = maxDistance/minGoalSize\n",
        "\n",
        "    # Flat Navigation Ability\n",
        "    flatNavAbility = pm.Uniform(\"flatNavAbility\", minFlatNav, maxFlatNav)      # how much navigation is involved, i.e, how far away and how circuitous is the path to the goal?\n",
        "    #flatNavAbility = pm.Uniform(\"flatNavAbility\", 0, maxTurns*maxDistance)\n",
        "    abilityMin[\"flatNavAbility\"] = minFlatNav\n",
        "    #abilityMax[\"flatNavAbility\"] = maxDistance*maxTurns\n",
        "    abilityMax[\"flatNavAbility\"] = maxFlatNav\n",
        "\n",
        "    # Lava Ability\n",
        "    lavaAbility = scaledBeta(\"lavaAbility\", 1,1, 0, 1, simpleGraph=False)\n",
        "    #lavaAbility = pm.Beta(\"lavaAbility\", 1,1)                        # [0,1] Specific ability with lava\n",
        "    abilityMin[\"lavaAbility\"] = 0\n",
        "    abilityMax[\"lavaAbility\"] = 1\n",
        "\n",
        "    # Ramp Ability\n",
        "    #rampAbility = pm.Beta(\"rampAbility\",1,1)                          # [0,1] Specific ability with ramps\n",
        "    #abilityMin[\"rampAbility\"] = 0\n",
        "    #abilityMax[\"rampAbility\"] = 1\n",
        "\n",
        "    # Goal Right Ability\n",
        "    #rightAbility = pm.Beta(\"rightAbility\", 1, 1)\n",
        "    rightAbility = scaledBeta(\"rightAbility\", 1,1, 0, 1, simpleGraph=False)\n",
        "    abilityMin[\"rightAbility\"] = 0\n",
        "    abilityMax[\"rightAbility\"] = 1\n",
        "\n",
        "    # Goal Left Ability\n",
        "    #leftAbility = pm.Beta(\"leftAbility\", 1, 1)\n",
        "    leftAbility = scaledBeta(\"leftAbility\", 1,1, 0, 1, simpleGraph=False)\n",
        "    abilityMin[\"leftAbility\"] = 0\n",
        "    abilityMax[\"leftAbility\"] = 1\n",
        "\n",
        "    # Goal Ahead Ability\n",
        "    #aheadAbility = pm.Beta(\"aheadAbility\", 1, 1)\n",
        "    aheadAbility = scaledBeta(\"aheadAbility\", 1,1, 0, 1, simpleGraph=False)\n",
        "    abilityMin[\"aheadAbility\"] = 0\n",
        "    abilityMax[\"aheadAbility\"] = 1\n",
        "\n",
        "    # CV Chick Ability\n",
        "    #CVChickAbility = pm.Beta(\"CVChickAbility\", 1, 1)\n",
        "    CVChickAbility = scaledBeta(\"CVChickAbility\", 1,1, 0, 1, simpleGraph=False)\n",
        "    abilityMin[\"CVChickAbility\"] = 0\n",
        "    abilityMax[\"CVChickAbility\"] = 1\n",
        "\n",
        "    # PCTB Ability\n",
        "    #PCTBAbility = pm.Beta(\"PCTBAbility\", 1, 1)\n",
        "    PCTBAbility = scaledBeta(\"PCTBAbility\", 1,1, 0, 1, simpleGraph=False)\n",
        "    abilityMin[\"PCTBAbility\"] = 0\n",
        "    abilityMax[\"PCTBAbility\"] = 1\n",
        "\n",
        "    # Lights Out Ability\n",
        "    #LOAbility = pm.Beta(\"lightsOutAbility\", 1, 1)\n",
        "    LOAbility = scaledBeta(\"lightsOutAbility\", 1,1, 0, 1, simpleGraph=False)\n",
        "    abilityMin[\"lightsOutAbility\"] = 0\n",
        "    abilityMax[\"lightsOutAbility\"] = 1\n",
        "\n",
        "\n",
        "\n",
        "    ## Environment variables as Deterministic (about the instance)\n",
        "\n",
        "    lavaPresence = pm.MutableData(\"lavaPresence\", taskResults[\"lavaPresence\"].values)\n",
        "    #rampPresence = pm.MutableData(\"rampPresence\", taskResults[\"taskCriticalRampPresence\"].values)\n",
        "    lightsOutPresence = pm.MutableData(\"lightsOutPresence\", taskResults[\"lightsOutPresence\"].values)\n",
        "    numGoals = pm.MutableData(\"numberOfGoals\", taskResults[\"numGoalsAll\"].values)\n",
        "    numChoices = pm.MutableData(\"numChoices\", taskResults[\"numChoices\"].values)\n",
        "    goalSize = pm.MutableData(\"goalSize\",taskResults[\"mainGoalSize\"].values)\n",
        "    goalDist = pm.MutableData(\"goalDistance\", taskResults[\"cityBlockDistanceToGoal\"].values)\n",
        "    numTurns = pm.MutableData(\"minTurnsToGoal\", taskResults[\"minNumTurnsRequired\"])\n",
        "    goalRight = pm.MutableData(\"goalRight\", taskResults[\"goalRightRelToStart\"])\n",
        "    goalAhead = pm.MutableData(\"goalAhead\", taskResults[\"goalCentreRelToStart\"])\n",
        "    goalLeft = pm.MutableData(\"goalLeft\", taskResults[\"goalLeftRelToStart\"])\n",
        "    opTest = pm.MutableData(\"allocentricOPTest\", taskResults[\"goalBecomesAllocentricallyOccluded\"].values)\n",
        "    CVTest = pm.MutableData(\"CVChickTest\", taskResults[\"cvchickTask\"])\n",
        "    PCTBTest = pm.MutableData(\"PCTBTest\", taskResults[\"pctbTask\"])\n",
        "    forcedChoice = pm.MutableData(\"forcedChoice\", taskResults[\"forcedChoice\"])\n",
        "    pctb3Cup = pm.MutableData(\"pctb3CupTest\", taskResults['pctb3CupTask'])\n",
        "    pctbGrid = pm.MutableData(\"pctbGridTest\", taskResults['pctbGridTask'])\n",
        "\n",
        "    ## Margins\n",
        "\n",
        "    #goalSmallness = maxGoalSize - goalSize\n",
        "    visualAcuityP = pm.Deterministic(\"visualAcuityP\", logistic(visualAcuityLOMargin(visualAcuityAbility, goalSize, goalDist)))\n",
        "\n",
        "    rightP = pm.Deterministic(\"rightPerformance\", logistic999(SimplePrMargin(rightAbility, goalRight), min = 0, max = 1))\n",
        "    aheadP = pm.Deterministic(\"aheadPerformance\", logistic999(SimplePrMargin(aheadAbility, goalAhead), min = 0, max = 1))\n",
        "    leftP = pm.Deterministic(\"leftPerformance\", logistic999(SimplePrMargin(leftAbility, goalLeft), min = 0, max = 1))\n",
        "\n",
        "    #flatNavP = pm.Deterministic(\"flatNavP\", logistic(flatNavMargin(flatNavAbility, goalDist, numTurns, opTest)))\n",
        "    #flatNavP = pm.Deterministic(\"flatNavP\", logistic(flatNavMargin(flatNavAbility, goalDist, numTurns)))\n",
        "    #flatNavP = pm.Deterministic(\"flatNavP\", logistic(flatNavAbility - (numTurns * goalDist)))\n",
        "    flatNavP = pm.Deterministic(\"flatNavP\", logistic999(flatNavAbility - (numTurns * goalDist), min = minFlatNav, max = maxFlatNav))\n",
        "\n",
        "    lavaP = pm.Deterministic(\"lavaP\", logistic999(SimplePrMargin(lavaAbility, lavaPresence), min = 0, max = 1))\n",
        "\n",
        "    lightsOutP = pm.Deterministic(\"lightsOutP\", logistic999(SimplePrMargin(LOAbility, lightsOutPresence), min = 0, max = 1))\n",
        "\n",
        "    #rampP = pm.Deterministic(\"rampP\", SimplePrMargin(rampAbility, rampPresence))\n",
        "\n",
        "    cvchickP = pm.Deterministic(\"cvChickP\", logistic999(SimplePrMargin(CVChickAbility, CVTest), min = 0, max = 1))\n",
        "    pctbP = pm.Deterministic(\"pctbP\", logistic999(SimplePrMargin(PCTBAbility, PCTBTest), min = 0, max = 1))\n",
        "\n",
        "    #navP = pm.Deterministic(\"navP\", (flatNavP * lavaP * rampP * rightP * aheadP * leftP * cvchickP * pctbP)) #, visualAcuityP))\n",
        "    navP = pm.Deterministic(\"navP\", (flatNavP * lavaP * rightP * aheadP * leftP))\n",
        "\n",
        "    #OPLOM = objPermanenceLOMargin(objPermAbility, opTest, CVTest, PCTBTest, lightsOutPresence, goalDist, numChoices, maxPermAbility, lightsOutPenalisation=(uniformAbilitySlack-0.35), uniformAbilitySlack=uniformAbilitySlack)\n",
        "    #OPLOM = objPermanenceLOMargin(objPermAbility, opTest, lightsOutPresence, goalDist, numChoices, maxPermAbility, lightsOutPenalisation=(uniformAbilitySlack-0.35), uniformAbilitySlack=uniformAbilitySlack)\n",
        "    #OPLOM = objPermanenceLOMargin(objPermAbility, opTest, cvchickP, pctbP, lightsOutPresence, goalDist, numChoices, maxPermAbility, lightsOutPenalisation=(uniformAbilitySlack-0.35), uniformAbilitySlack=uniformAbilitySlack)\n",
        "\n",
        "    #OPPerformance = (objPermAbility  - ((goalDist * numChoices)*opTest)) #this returns a value that is lower when (a) ability is lower, (b) the goal is occluded for longer or there are more positions where it could be occluded, or (c) when the lights go out (by a small penalisation)\n",
        "    #OPPerformance = (objPermAbility  - ((goalDist * numChoices)))\n",
        "    #OPPerformance = (objPermAbility  - numChoices)\n",
        "    #OPPerformance = (objPermAbility  - ((goalDist*opTest) * (numChoices*opTest)))\n",
        "    #OPPerformance = objPermAbility  - ((goalDist * numChoices)*opTest)\n",
        "    #OPability = maxPermAbility - ((maxPermAbility-OPPerformance)*opTest)\n",
        "    #objPermP = pm.Deterministic(\"objPermP\", logistic(OPLOM))\n",
        "    #objPermP = pm.Deterministic(\"objPermP\", logistic(OPPerformance, x_0 = ((maxPermAbility - minPermAbility)/2)+minPermAbility))\n",
        "    #objPermP = pm.Deterministic(\"objPermP\", logistic(SimplePrMargin(objPermAbility, opTest), x_0 = ((maxPermAbility - minPermAbility)/2)+minPermAbility))\n",
        "    OPPerformance = (objPermAbility  - (((goalDist*opTest) * numChoices) + (numChoices * (1-opTest))))\n",
        "    #objPermP = pm.Deterministic(\"objPermP\", logistic(OPPerformance, x_0 = ((maxPermAbility - minPermAbility)/2)+minPermAbility))\n",
        "    #objPermP = pm.Deterministic(\"objPermP\", logistic(OPPerformance))\n",
        "    objPermP = pm.Deterministic(\"objPermP\", (logistic999(OPPerformance, min = minPermAbility, max = maxPermAbility) * cvchickP * pctbP * lightsOutP))\n",
        "\n",
        "    #flatNavP = pm.Deterministic(\"flatNavP\", logistic((flatNavAbility - (numTurns * goalDist)), x_0 = ((maxFlatNav - minFlatNav)/2)+minFlatNav))\n",
        "    noise = 1 - np.mean(results)  # With this noise is complementary to result prior.\n",
        "    noisePar = pm.Uniform(\"noisePar\", 0, 1)\n",
        "    finalP = pm.Deterministic(\"finalP\", (1-noisePar)*(objPermP * navP * visualAcuityP)+(noisePar*noise))\n",
        "\n",
        "    navDecrementer = pm.Deterministic(\"navDecrementer\", (CVTest*navP*(39/1600)) + (pctb3Cup*navP*(1584/1600)) + (pctbGrid*navP*(1-(numGoals*(1/9))))) #decrements navigation according to how much of the space is taken up by the incorrect or no-choice options - intuitively, takes much less navigation to get the CVChick task wrong than the PCTB tasks.\n",
        "    choiceP = pm.Deterministic(\"choiceP\", (1-noisePar)*(objPermP * visualAcuityP * navDecrementer * forcedChoice)+(noisePar*noise))\n",
        "\n",
        "    #finalP = pm.Deterministic(\"finalP\", (objPermP * flatNavP))\n",
        "    #finalP = pm.Deterministic(\"finalP\", (1-((1-objPermP)*(1-flatNavP)))) #compensatory finalPerformance\n",
        "    #finalP = pm.Deterministic(\"finalP\", (objPermP * flatNavP * visualAcuityP))\n",
        "    #finalP = pm.Deterministic(\"finalP\", (objPermP * navP * visualAcuityP))\n",
        "\n",
        "    #taskPerformance = pm.Bernoulli(\"taskPerformance\", flatNavP, observed=results)\n",
        "    taskSuccess = pm.Bernoulli(\"taskSuccess\", finalP, observed=results)\n",
        "    taskChoice = pm.Bernoulli(\"taskChoice\", choiceP, observed=choices)\n",
        "    #taskPerformance = pm.Bernoulli(\"taskPerformance\", objPermP, observed=results)\n",
        "  #pm.model_graph.model_to_graphviz(m)\n",
        "\n",
        "  return m, abilityMin, abilityMax"
      ],
      "metadata": {
        "id": "edIxFbqFq9V9"
      },
      "execution_count": 17,
      "outputs": []
    },
    {
      "cell_type": "code",
      "source": [
        "m, min, max = SetupModel(agent_data, uniformAbilitySlack=1, agent_type='agent_real', agent_name=\"success_Vanilla_Braitenberg_15_rays_over_60_degs_356\", agent_name_choice=\"correctChoice_Vanilla_Braitenberg_15_rays_over_60_degs_356\", sample = None)\n",
        "gv = pm.model_graph.model_to_graphviz(m)\n",
        "gv.format = \"png\"\n",
        "gv.render(filename='viz/FullMeasurementLayout.gv', directory='/content/drive/Shareddrives/comparative-object-permanence')\n",
        "Image(\"/content/drive/Shareddrives/comparative-object-permanence/FullMeasurementLayout.gv.png\")\n",
        "gv"
      ],
      "metadata": {
        "id": "j-cgtM4msvph",
        "outputId": "f1f7518e-a912-4ac2-c478-898239552f35",
        "colab": {
          "base_uri": "https://localhost:8080/",
          "height": 1000
        }
      },
      "execution_count": 18,
      "outputs": [
        {
          "output_type": "execute_result",
          "data": {
            "image/svg+xml": "<?xml version=\"1.0\" encoding=\"UTF-8\" standalone=\"no\"?>\n<!DOCTYPE svg PUBLIC \"-//W3C//DTD SVG 1.1//EN\"\n \"http://www.w3.org/Graphics/SVG/1.1/DTD/svg11.dtd\">\n<!-- Generated by graphviz version 2.43.0 (0)\n -->\n<!-- Title: %3 Pages: 1 -->\n<svg width=\"2489pt\" height=\"766pt\"\n viewBox=\"0.00 0.00 2489.13 765.72\" xmlns=\"http://www.w3.org/2000/svg\" xmlns:xlink=\"http://www.w3.org/1999/xlink\">\n<g id=\"graph0\" class=\"graph\" transform=\"scale(1 1) rotate(0) translate(4 761.72)\">\n<title>%3</title>\n<polygon fill=\"white\" stroke=\"transparent\" points=\"-4,4 -4,-761.72 2485.13,-761.72 2485.13,4 -4,4\"/>\n<g id=\"clust1\" class=\"cluster\">\n<title>cluster4202</title>\n<path fill=\"none\" stroke=\"black\" d=\"M164.42,-8C164.42,-8 1478.42,-8 1478.42,-8 1484.42,-8 1490.42,-14 1490.42,-20 1490.42,-20 1490.42,-631.79 1490.42,-631.79 1490.42,-637.79 1484.42,-643.79 1478.42,-643.79 1478.42,-643.79 164.42,-643.79 164.42,-643.79 158.42,-643.79 152.42,-637.79 152.42,-631.79 152.42,-631.79 152.42,-20 152.42,-20 152.42,-14 158.42,-8 164.42,-8\"/>\n<text text-anchor=\"middle\" x=\"1468.42\" y=\"-15.8\" font-family=\"Times,serif\" font-size=\"14.00\">4202</text>\n</g>\n<!-- objPermAbility -->\n<g id=\"node1\" class=\"node\">\n<title>objPermAbility</title>\n<ellipse fill=\"none\" stroke=\"black\" cx=\"71.42\" cy=\"-498.34\" rx=\"71.34\" ry=\"37.45\"/>\n<text text-anchor=\"middle\" x=\"71.42\" y=\"-509.64\" font-family=\"Times,serif\" font-size=\"14.00\">objPermAbility</text>\n<text text-anchor=\"middle\" x=\"71.42\" y=\"-494.64\" font-family=\"Times,serif\" font-size=\"14.00\">~</text>\n<text text-anchor=\"middle\" x=\"71.42\" y=\"-479.64\" font-family=\"Times,serif\" font-size=\"14.00\">Uniform</text>\n</g>\n<!-- objPermP -->\n<g id=\"node46\" class=\"node\">\n<title>objPermP</title>\n<polygon fill=\"none\" stroke=\"black\" points=\"576.92,-413.88 485.92,-413.88 485.92,-360.88 576.92,-360.88 576.92,-413.88\"/>\n<text text-anchor=\"middle\" x=\"531.42\" y=\"-398.68\" font-family=\"Times,serif\" font-size=\"14.00\">objPermP</text>\n<text text-anchor=\"middle\" x=\"531.42\" y=\"-383.68\" font-family=\"Times,serif\" font-size=\"14.00\">~</text>\n<text text-anchor=\"middle\" x=\"531.42\" y=\"-368.68\" font-family=\"Times,serif\" font-size=\"14.00\">Deterministic</text>\n</g>\n<!-- objPermAbility&#45;&gt;objPermP -->\n<g id=\"edge35\" class=\"edge\">\n<title>objPermAbility&#45;&gt;objPermP</title>\n<path fill=\"none\" stroke=\"black\" d=\"M121.61,-471.32C130.39,-467.42 139.56,-463.74 148.42,-460.86 261.5,-424.05 399.81,-403.62 475.42,-394.43\"/>\n<polygon fill=\"black\" stroke=\"black\" points=\"476.15,-397.87 485.67,-393.21 475.32,-390.92 476.15,-397.87\"/>\n</g>\n<!-- lavaAbility_raw -->\n<g id=\"node2\" class=\"node\">\n<title>lavaAbility_raw</title>\n<ellipse fill=\"none\" stroke=\"black\" cx=\"2248.42\" cy=\"-720.24\" rx=\"73.58\" ry=\"37.45\"/>\n<text text-anchor=\"middle\" x=\"2248.42\" y=\"-731.54\" font-family=\"Times,serif\" font-size=\"14.00\">lavaAbility_raw</text>\n<text text-anchor=\"middle\" x=\"2248.42\" y=\"-716.54\" font-family=\"Times,serif\" font-size=\"14.00\">~</text>\n<text text-anchor=\"middle\" x=\"2248.42\" y=\"-701.54\" font-family=\"Times,serif\" font-size=\"14.00\">Beta</text>\n</g>\n<!-- lavaAbility -->\n<g id=\"node17\" class=\"node\">\n<title>lavaAbility</title>\n<polygon fill=\"none\" stroke=\"black\" points=\"2164.92,-635.79 2073.92,-635.79 2073.92,-582.79 2164.92,-582.79 2164.92,-635.79\"/>\n<text text-anchor=\"middle\" x=\"2119.42\" y=\"-620.59\" font-family=\"Times,serif\" font-size=\"14.00\">lavaAbility</text>\n<text text-anchor=\"middle\" x=\"2119.42\" y=\"-605.59\" font-family=\"Times,serif\" font-size=\"14.00\">~</text>\n<text text-anchor=\"middle\" x=\"2119.42\" y=\"-590.59\" font-family=\"Times,serif\" font-size=\"14.00\">Deterministic</text>\n</g>\n<!-- lavaAbility_raw&#45;&gt;lavaAbility -->\n<g id=\"edge1\" class=\"edge\">\n<title>lavaAbility_raw&#45;&gt;lavaAbility</title>\n<path fill=\"none\" stroke=\"black\" d=\"M2211.11,-687.73C2194.35,-673.58 2174.6,-656.9 2157.73,-642.65\"/>\n<polygon fill=\"black\" stroke=\"black\" points=\"2159.6,-639.65 2149.71,-635.87 2155.09,-645 2159.6,-639.65\"/>\n</g>\n<!-- aheadAbility -->\n<g id=\"node3\" class=\"node\">\n<title>aheadAbility</title>\n<polygon fill=\"none\" stroke=\"black\" points=\"1589.92,-635.79 1498.92,-635.79 1498.92,-582.79 1589.92,-582.79 1589.92,-635.79\"/>\n<text text-anchor=\"middle\" x=\"1544.42\" y=\"-620.59\" font-family=\"Times,serif\" font-size=\"14.00\">aheadAbility</text>\n<text text-anchor=\"middle\" x=\"1544.42\" y=\"-605.59\" font-family=\"Times,serif\" font-size=\"14.00\">~</text>\n<text text-anchor=\"middle\" x=\"1544.42\" y=\"-590.59\" font-family=\"Times,serif\" font-size=\"14.00\">Deterministic</text>\n</g>\n<!-- aheadPerformance -->\n<g id=\"node47\" class=\"node\">\n<title>aheadPerformance</title>\n<polygon fill=\"none\" stroke=\"black\" points=\"884.42,-524.84 766.42,-524.84 766.42,-471.84 884.42,-471.84 884.42,-524.84\"/>\n<text text-anchor=\"middle\" x=\"825.42\" y=\"-509.64\" font-family=\"Times,serif\" font-size=\"14.00\">aheadPerformance</text>\n<text text-anchor=\"middle\" x=\"825.42\" y=\"-494.64\" font-family=\"Times,serif\" font-size=\"14.00\">~</text>\n<text text-anchor=\"middle\" x=\"825.42\" y=\"-479.64\" font-family=\"Times,serif\" font-size=\"14.00\">Deterministic</text>\n</g>\n<!-- aheadAbility&#45;&gt;aheadPerformance -->\n<g id=\"edge13\" class=\"edge\">\n<title>aheadAbility&#45;&gt;aheadPerformance</title>\n<path fill=\"none\" stroke=\"black\" d=\"M1515.07,-582.72C1508.64,-578.35 1501.6,-574.39 1494.42,-571.81 1243.02,-481.44 1151.66,-607.87 894.42,-535.81 888.34,-534.11 882.19,-531.82 876.19,-529.21\"/>\n<polygon fill=\"black\" stroke=\"black\" points=\"877.47,-525.94 866.93,-524.89 874.51,-532.29 877.47,-525.94\"/>\n</g>\n<!-- lightsOutAbility -->\n<g id=\"node4\" class=\"node\">\n<title>lightsOutAbility</title>\n<polygon fill=\"none\" stroke=\"black\" points=\"1712.92,-635.79 1607.92,-635.79 1607.92,-582.79 1712.92,-582.79 1712.92,-635.79\"/>\n<text text-anchor=\"middle\" x=\"1660.42\" y=\"-620.59\" font-family=\"Times,serif\" font-size=\"14.00\">lightsOutAbility</text>\n<text text-anchor=\"middle\" x=\"1660.42\" y=\"-605.59\" font-family=\"Times,serif\" font-size=\"14.00\">~</text>\n<text text-anchor=\"middle\" x=\"1660.42\" y=\"-590.59\" font-family=\"Times,serif\" font-size=\"14.00\">Deterministic</text>\n</g>\n<!-- lightsOutP -->\n<g id=\"node45\" class=\"node\">\n<title>lightsOutP</title>\n<polygon fill=\"none\" stroke=\"black\" points=\"271.92,-524.84 180.92,-524.84 180.92,-471.84 271.92,-471.84 271.92,-524.84\"/>\n<text text-anchor=\"middle\" x=\"226.42\" y=\"-509.64\" font-family=\"Times,serif\" font-size=\"14.00\">lightsOutP</text>\n<text text-anchor=\"middle\" x=\"226.42\" y=\"-494.64\" font-family=\"Times,serif\" font-size=\"14.00\">~</text>\n<text text-anchor=\"middle\" x=\"226.42\" y=\"-479.64\" font-family=\"Times,serif\" font-size=\"14.00\">Deterministic</text>\n</g>\n<!-- lightsOutAbility&#45;&gt;lightsOutP -->\n<g id=\"edge23\" class=\"edge\">\n<title>lightsOutAbility&#45;&gt;lightsOutP</title>\n<path fill=\"none\" stroke=\"black\" d=\"M1624.4,-582.69C1616.51,-578.27 1607.95,-574.3 1599.42,-571.81 1318.08,-489.96 560.76,-624.21 281.42,-535.81 276.75,-534.34 272.1,-532.33 267.61,-530.03\"/>\n<polygon fill=\"black\" stroke=\"black\" points=\"269.05,-526.82 258.62,-524.92 265.59,-532.91 269.05,-526.82\"/>\n</g>\n<!-- PCTBAbility -->\n<g id=\"node5\" class=\"node\">\n<title>PCTBAbility</title>\n<polygon fill=\"none\" stroke=\"black\" points=\"1821.92,-635.79 1730.92,-635.79 1730.92,-582.79 1821.92,-582.79 1821.92,-635.79\"/>\n<text text-anchor=\"middle\" x=\"1776.42\" y=\"-620.59\" font-family=\"Times,serif\" font-size=\"14.00\">PCTBAbility</text>\n<text text-anchor=\"middle\" x=\"1776.42\" y=\"-605.59\" font-family=\"Times,serif\" font-size=\"14.00\">~</text>\n<text text-anchor=\"middle\" x=\"1776.42\" y=\"-590.59\" font-family=\"Times,serif\" font-size=\"14.00\">Deterministic</text>\n</g>\n<!-- pctbP -->\n<g id=\"node38\" class=\"node\">\n<title>pctbP</title>\n<polygon fill=\"none\" stroke=\"black\" points=\"511.92,-524.84 420.92,-524.84 420.92,-471.84 511.92,-471.84 511.92,-524.84\"/>\n<text text-anchor=\"middle\" x=\"466.42\" y=\"-509.64\" font-family=\"Times,serif\" font-size=\"14.00\">pctbP</text>\n<text text-anchor=\"middle\" x=\"466.42\" y=\"-494.64\" font-family=\"Times,serif\" font-size=\"14.00\">~</text>\n<text text-anchor=\"middle\" x=\"466.42\" y=\"-479.64\" font-family=\"Times,serif\" font-size=\"14.00\">Deterministic</text>\n</g>\n<!-- PCTBAbility&#45;&gt;pctbP -->\n<g id=\"edge26\" class=\"edge\">\n<title>PCTBAbility&#45;&gt;pctbP</title>\n<path fill=\"none\" stroke=\"black\" d=\"M1744.84,-582.72C1737.83,-578.3 1730.17,-574.32 1722.42,-571.81 1472.55,-491.14 796.36,-598.63 541.42,-535.81 534.46,-534.1 527.39,-531.68 520.51,-528.9\"/>\n<polygon fill=\"black\" stroke=\"black\" points=\"521.84,-525.67 511.27,-524.92 519.06,-532.09 521.84,-525.67\"/>\n</g>\n<!-- visualAcuityAbility -->\n<g id=\"node6\" class=\"node\">\n<title>visualAcuityAbility</title>\n<ellipse fill=\"none\" stroke=\"black\" cx=\"1588.42\" cy=\"-498.34\" rx=\"87.86\" ry=\"37.45\"/>\n<text text-anchor=\"middle\" x=\"1588.42\" y=\"-509.64\" font-family=\"Times,serif\" font-size=\"14.00\">visualAcuityAbility</text>\n<text text-anchor=\"middle\" x=\"1588.42\" y=\"-494.64\" font-family=\"Times,serif\" font-size=\"14.00\">~</text>\n<text text-anchor=\"middle\" x=\"1588.42\" y=\"-479.64\" font-family=\"Times,serif\" font-size=\"14.00\">Uniform</text>\n</g>\n<!-- visualAcuityP -->\n<g id=\"node48\" class=\"node\">\n<title>visualAcuityP</title>\n<polygon fill=\"none\" stroke=\"black\" points=\"1291.92,-413.88 1198.92,-413.88 1198.92,-360.88 1291.92,-360.88 1291.92,-413.88\"/>\n<text text-anchor=\"middle\" x=\"1245.42\" y=\"-398.68\" font-family=\"Times,serif\" font-size=\"14.00\">visualAcuityP</text>\n<text text-anchor=\"middle\" x=\"1245.42\" y=\"-383.68\" font-family=\"Times,serif\" font-size=\"14.00\">~</text>\n<text text-anchor=\"middle\" x=\"1245.42\" y=\"-368.68\" font-family=\"Times,serif\" font-size=\"14.00\">Deterministic</text>\n</g>\n<!-- visualAcuityAbility&#45;&gt;visualAcuityP -->\n<g id=\"edge9\" class=\"edge\">\n<title>visualAcuityAbility&#45;&gt;visualAcuityP</title>\n<path fill=\"none\" stroke=\"black\" d=\"M1525.49,-472.05C1515.16,-468.15 1504.53,-464.29 1494.42,-460.86 1429.06,-438.71 1352.7,-417.1 1301.94,-403.33\"/>\n<polygon fill=\"black\" stroke=\"black\" points=\"1302.71,-399.91 1292.14,-400.68 1300.88,-406.67 1302.71,-399.91\"/>\n</g>\n<!-- CVChickAbility_raw -->\n<g id=\"node7\" class=\"node\">\n<title>CVChickAbility_raw</title>\n<ellipse fill=\"none\" stroke=\"black\" cx=\"1893.42\" cy=\"-720.24\" rx=\"94.09\" ry=\"37.45\"/>\n<text text-anchor=\"middle\" x=\"1893.42\" y=\"-731.54\" font-family=\"Times,serif\" font-size=\"14.00\">CVChickAbility_raw</text>\n<text text-anchor=\"middle\" x=\"1893.42\" y=\"-716.54\" font-family=\"Times,serif\" font-size=\"14.00\">~</text>\n<text text-anchor=\"middle\" x=\"1893.42\" y=\"-701.54\" font-family=\"Times,serif\" font-size=\"14.00\">Beta</text>\n</g>\n<!-- CVChickAbility -->\n<g id=\"node8\" class=\"node\">\n<title>CVChickAbility</title>\n<polygon fill=\"none\" stroke=\"black\" points=\"1946.42,-635.79 1840.42,-635.79 1840.42,-582.79 1946.42,-582.79 1946.42,-635.79\"/>\n<text text-anchor=\"middle\" x=\"1893.42\" y=\"-620.59\" font-family=\"Times,serif\" font-size=\"14.00\">CVChickAbility</text>\n<text text-anchor=\"middle\" x=\"1893.42\" y=\"-605.59\" font-family=\"Times,serif\" font-size=\"14.00\">~</text>\n<text text-anchor=\"middle\" x=\"1893.42\" y=\"-590.59\" font-family=\"Times,serif\" font-size=\"14.00\">Deterministic</text>\n</g>\n<!-- CVChickAbility_raw&#45;&gt;CVChickAbility -->\n<g id=\"edge5\" class=\"edge\">\n<title>CVChickAbility_raw&#45;&gt;CVChickAbility</title>\n<path fill=\"none\" stroke=\"black\" d=\"M1893.42,-682.66C1893.42,-670.92 1893.42,-657.94 1893.42,-646.24\"/>\n<polygon fill=\"black\" stroke=\"black\" points=\"1896.92,-645.94 1893.42,-635.94 1889.92,-645.94 1896.92,-645.94\"/>\n</g>\n<!-- cvChickP -->\n<g id=\"node39\" class=\"node\">\n<title>cvChickP</title>\n<polygon fill=\"none\" stroke=\"black\" points=\"747.92,-524.84 656.92,-524.84 656.92,-471.84 747.92,-471.84 747.92,-524.84\"/>\n<text text-anchor=\"middle\" x=\"702.42\" y=\"-509.64\" font-family=\"Times,serif\" font-size=\"14.00\">cvChickP</text>\n<text text-anchor=\"middle\" x=\"702.42\" y=\"-494.64\" font-family=\"Times,serif\" font-size=\"14.00\">~</text>\n<text text-anchor=\"middle\" x=\"702.42\" y=\"-479.64\" font-family=\"Times,serif\" font-size=\"14.00\">Deterministic</text>\n</g>\n<!-- CVChickAbility&#45;&gt;cvChickP -->\n<g id=\"edge25\" class=\"edge\">\n<title>CVChickAbility&#45;&gt;cvChickP</title>\n<path fill=\"none\" stroke=\"black\" d=\"M1856.75,-582.73C1848.73,-578.3 1840.05,-574.32 1831.42,-571.81 1602.09,-505.21 984.87,-608.56 757.42,-535.81 752.75,-534.32 748.11,-532.31 743.62,-530\"/>\n<polygon fill=\"black\" stroke=\"black\" points=\"745.06,-526.79 734.64,-524.89 741.6,-532.87 745.06,-526.79\"/>\n</g>\n<!-- PCTBAbility_raw -->\n<g id=\"node9\" class=\"node\">\n<title>PCTBAbility_raw</title>\n<ellipse fill=\"none\" stroke=\"black\" cx=\"1699.42\" cy=\"-720.24\" rx=\"82.05\" ry=\"37.45\"/>\n<text text-anchor=\"middle\" x=\"1699.42\" y=\"-731.54\" font-family=\"Times,serif\" font-size=\"14.00\">PCTBAbility_raw</text>\n<text text-anchor=\"middle\" x=\"1699.42\" y=\"-716.54\" font-family=\"Times,serif\" font-size=\"14.00\">~</text>\n<text text-anchor=\"middle\" x=\"1699.42\" y=\"-701.54\" font-family=\"Times,serif\" font-size=\"14.00\">Beta</text>\n</g>\n<!-- PCTBAbility_raw&#45;&gt;PCTBAbility -->\n<g id=\"edge6\" class=\"edge\">\n<title>PCTBAbility_raw&#45;&gt;PCTBAbility</title>\n<path fill=\"none\" stroke=\"black\" d=\"M1723.99,-684.47C1733,-671.72 1743.19,-657.3 1752.17,-644.59\"/>\n<polygon fill=\"black\" stroke=\"black\" points=\"1755.26,-646.29 1758.17,-636.11 1749.54,-642.25 1755.26,-646.29\"/>\n</g>\n<!-- lightsOutAbility_raw -->\n<g id=\"node10\" class=\"node\">\n<title>lightsOutAbility_raw</title>\n<ellipse fill=\"none\" stroke=\"black\" cx=\"1506.42\" cy=\"-720.24\" rx=\"93.18\" ry=\"37.45\"/>\n<text text-anchor=\"middle\" x=\"1506.42\" y=\"-731.54\" font-family=\"Times,serif\" font-size=\"14.00\">lightsOutAbility_raw</text>\n<text text-anchor=\"middle\" x=\"1506.42\" y=\"-716.54\" font-family=\"Times,serif\" font-size=\"14.00\">~</text>\n<text text-anchor=\"middle\" x=\"1506.42\" y=\"-701.54\" font-family=\"Times,serif\" font-size=\"14.00\">Beta</text>\n</g>\n<!-- lightsOutAbility_raw&#45;&gt;lightsOutAbility -->\n<g id=\"edge7\" class=\"edge\">\n<title>lightsOutAbility_raw&#45;&gt;lightsOutAbility</title>\n<path fill=\"none\" stroke=\"black\" d=\"M1551.79,-687.14C1571.97,-672.86 1595.67,-656.1 1615.77,-641.88\"/>\n<polygon fill=\"black\" stroke=\"black\" points=\"1618,-644.59 1624.14,-635.96 1613.96,-638.87 1618,-644.59\"/>\n</g>\n<!-- noisePar -->\n<g id=\"node11\" class=\"node\">\n<title>noisePar</title>\n<ellipse fill=\"none\" stroke=\"black\" cx=\"1543.42\" cy=\"-387.38\" rx=\"45.01\" ry=\"37.45\"/>\n<text text-anchor=\"middle\" x=\"1543.42\" y=\"-398.68\" font-family=\"Times,serif\" font-size=\"14.00\">noisePar</text>\n<text text-anchor=\"middle\" x=\"1543.42\" y=\"-383.68\" font-family=\"Times,serif\" font-size=\"14.00\">~</text>\n<text text-anchor=\"middle\" x=\"1543.42\" y=\"-368.68\" font-family=\"Times,serif\" font-size=\"14.00\">Uniform</text>\n</g>\n<!-- choiceP -->\n<g id=\"node36\" class=\"node\">\n<title>choiceP</title>\n<polygon fill=\"none\" stroke=\"black\" points=\"1230.92,-213.93 1139.92,-213.93 1139.92,-160.93 1230.92,-160.93 1230.92,-213.93\"/>\n<text text-anchor=\"middle\" x=\"1185.42\" y=\"-198.73\" font-family=\"Times,serif\" font-size=\"14.00\">choiceP</text>\n<text text-anchor=\"middle\" x=\"1185.42\" y=\"-183.73\" font-family=\"Times,serif\" font-size=\"14.00\">~</text>\n<text text-anchor=\"middle\" x=\"1185.42\" y=\"-168.73\" font-family=\"Times,serif\" font-size=\"14.00\">Deterministic</text>\n</g>\n<!-- noisePar&#45;&gt;choiceP -->\n<g id=\"edge53\" class=\"edge\">\n<title>noisePar&#45;&gt;choiceP</title>\n<path fill=\"none\" stroke=\"black\" d=\"M1510.97,-361.12C1505.55,-357.22 1499.9,-353.35 1494.42,-349.91 1408.85,-296.17 1303.49,-243.86 1240.53,-213.96\"/>\n<polygon fill=\"black\" stroke=\"black\" points=\"1241.71,-210.64 1231.18,-209.53 1238.72,-216.97 1241.71,-210.64\"/>\n</g>\n<!-- finalP -->\n<g id=\"node41\" class=\"node\">\n<title>finalP</title>\n<polygon fill=\"none\" stroke=\"black\" points=\"1113.92,-313.91 1022.92,-313.91 1022.92,-260.91 1113.92,-260.91 1113.92,-313.91\"/>\n<text text-anchor=\"middle\" x=\"1068.42\" y=\"-298.71\" font-family=\"Times,serif\" font-size=\"14.00\">finalP</text>\n<text text-anchor=\"middle\" x=\"1068.42\" y=\"-283.71\" font-family=\"Times,serif\" font-size=\"14.00\">~</text>\n<text text-anchor=\"middle\" x=\"1068.42\" y=\"-268.71\" font-family=\"Times,serif\" font-size=\"14.00\">Deterministic</text>\n</g>\n<!-- noisePar&#45;&gt;finalP -->\n<g id=\"edge43\" class=\"edge\">\n<title>noisePar&#45;&gt;finalP</title>\n<path fill=\"none\" stroke=\"black\" d=\"M1512.76,-359.74C1506.98,-355.86 1500.75,-352.36 1494.42,-349.91 1342.39,-291.09 1287.47,-353.78 1129.42,-313.91 1127.54,-313.43 1125.64,-312.91 1123.74,-312.35\"/>\n<polygon fill=\"black\" stroke=\"black\" points=\"1124.81,-309.02 1114.22,-309.24 1122.64,-315.67 1124.81,-309.02\"/>\n</g>\n<!-- aheadAbility_raw -->\n<g id=\"node12\" class=\"node\">\n<title>aheadAbility_raw</title>\n<ellipse fill=\"none\" stroke=\"black\" cx=\"1315.42\" cy=\"-720.24\" rx=\"79.81\" ry=\"37.45\"/>\n<text text-anchor=\"middle\" x=\"1315.42\" y=\"-731.54\" font-family=\"Times,serif\" font-size=\"14.00\">aheadAbility_raw</text>\n<text text-anchor=\"middle\" x=\"1315.42\" y=\"-716.54\" font-family=\"Times,serif\" font-size=\"14.00\">~</text>\n<text text-anchor=\"middle\" x=\"1315.42\" y=\"-701.54\" font-family=\"Times,serif\" font-size=\"14.00\">Beta</text>\n</g>\n<!-- aheadAbility_raw&#45;&gt;aheadAbility -->\n<g id=\"edge4\" class=\"edge\">\n<title>aheadAbility_raw&#45;&gt;aheadAbility</title>\n<path fill=\"none\" stroke=\"black\" d=\"M1374.75,-694.84C1384.65,-690.8 1394.82,-686.65 1404.42,-682.77 1444.35,-666.6 1456.72,-667.62 1494.42,-646.77 1497.42,-645.1 1500.46,-643.29 1503.47,-641.38\"/>\n<polygon fill=\"black\" stroke=\"black\" points=\"1505.44,-644.27 1511.84,-635.83 1501.57,-638.44 1505.44,-644.27\"/>\n</g>\n<!-- rightAbility -->\n<g id=\"node13\" class=\"node\">\n<title>rightAbility</title>\n<polygon fill=\"none\" stroke=\"black\" points=\"2055.92,-635.79 1964.92,-635.79 1964.92,-582.79 2055.92,-582.79 2055.92,-635.79\"/>\n<text text-anchor=\"middle\" x=\"2010.42\" y=\"-620.59\" font-family=\"Times,serif\" font-size=\"14.00\">rightAbility</text>\n<text text-anchor=\"middle\" x=\"2010.42\" y=\"-605.59\" font-family=\"Times,serif\" font-size=\"14.00\">~</text>\n<text text-anchor=\"middle\" x=\"2010.42\" y=\"-590.59\" font-family=\"Times,serif\" font-size=\"14.00\">Deterministic</text>\n</g>\n<!-- rightPerformance -->\n<g id=\"node21\" class=\"node\">\n<title>rightPerformance</title>\n<polygon fill=\"none\" stroke=\"black\" points=\"1124.42,-524.84 1012.42,-524.84 1012.42,-471.84 1124.42,-471.84 1124.42,-524.84\"/>\n<text text-anchor=\"middle\" x=\"1068.42\" y=\"-509.64\" font-family=\"Times,serif\" font-size=\"14.00\">rightPerformance</text>\n<text text-anchor=\"middle\" x=\"1068.42\" y=\"-494.64\" font-family=\"Times,serif\" font-size=\"14.00\">~</text>\n<text text-anchor=\"middle\" x=\"1068.42\" y=\"-479.64\" font-family=\"Times,serif\" font-size=\"14.00\">Deterministic</text>\n</g>\n<!-- rightAbility&#45;&gt;rightPerformance -->\n<g id=\"edge12\" class=\"edge\">\n<title>rightAbility&#45;&gt;rightPerformance</title>\n<path fill=\"none\" stroke=\"black\" d=\"M1977.88,-582.63C1970.83,-578.26 1963.15,-574.34 1955.42,-571.81 1786.02,-516.57 1328.18,-575.22 1154.42,-535.81 1146.35,-533.98 1138.08,-531.43 1130.01,-528.52\"/>\n<polygon fill=\"black\" stroke=\"black\" points=\"1131.24,-525.25 1120.65,-524.96 1128.75,-531.79 1131.24,-525.25\"/>\n</g>\n<!-- flatNavAbility -->\n<g id=\"node14\" class=\"node\">\n<title>flatNavAbility</title>\n<ellipse fill=\"none\" stroke=\"black\" cx=\"2250.42\" cy=\"-609.29\" rx=\"67.35\" ry=\"37.45\"/>\n<text text-anchor=\"middle\" x=\"2250.42\" y=\"-620.59\" font-family=\"Times,serif\" font-size=\"14.00\">flatNavAbility</text>\n<text text-anchor=\"middle\" x=\"2250.42\" y=\"-605.59\" font-family=\"Times,serif\" font-size=\"14.00\">~</text>\n<text text-anchor=\"middle\" x=\"2250.42\" y=\"-590.59\" font-family=\"Times,serif\" font-size=\"14.00\">Uniform</text>\n</g>\n<!-- flatNavP -->\n<g id=\"node35\" class=\"node\">\n<title>flatNavP</title>\n<polygon fill=\"none\" stroke=\"black\" points=\"1253.92,-524.84 1162.92,-524.84 1162.92,-471.84 1253.92,-471.84 1253.92,-524.84\"/>\n<text text-anchor=\"middle\" x=\"1208.42\" y=\"-509.64\" font-family=\"Times,serif\" font-size=\"14.00\">flatNavP</text>\n<text text-anchor=\"middle\" x=\"1208.42\" y=\"-494.64\" font-family=\"Times,serif\" font-size=\"14.00\">~</text>\n<text text-anchor=\"middle\" x=\"1208.42\" y=\"-479.64\" font-family=\"Times,serif\" font-size=\"14.00\">Deterministic</text>\n</g>\n<!-- flatNavAbility&#45;&gt;flatNavP -->\n<g id=\"edge19\" class=\"edge\">\n<title>flatNavAbility&#45;&gt;flatNavP</title>\n<path fill=\"none\" stroke=\"black\" d=\"M2203.69,-582.23C2194.26,-578.02 2184.22,-574.25 2174.42,-571.81 1977.79,-522.97 1456.2,-598.11 1263.42,-535.81 1258.76,-534.31 1254.12,-532.29 1249.63,-529.97\"/>\n<polygon fill=\"black\" stroke=\"black\" points=\"1251.07,-526.76 1240.65,-524.85 1247.6,-532.84 1251.07,-526.76\"/>\n</g>\n<!-- rightAbility_raw -->\n<g id=\"node15\" class=\"node\">\n<title>rightAbility_raw</title>\n<ellipse fill=\"none\" stroke=\"black\" cx=\"2081.42\" cy=\"-720.24\" rx=\"75.82\" ry=\"37.45\"/>\n<text text-anchor=\"middle\" x=\"2081.42\" y=\"-731.54\" font-family=\"Times,serif\" font-size=\"14.00\">rightAbility_raw</text>\n<text text-anchor=\"middle\" x=\"2081.42\" y=\"-716.54\" font-family=\"Times,serif\" font-size=\"14.00\">~</text>\n<text text-anchor=\"middle\" x=\"2081.42\" y=\"-701.54\" font-family=\"Times,serif\" font-size=\"14.00\">Beta</text>\n</g>\n<!-- rightAbility_raw&#45;&gt;rightAbility -->\n<g id=\"edge2\" class=\"edge\">\n<title>rightAbility_raw&#45;&gt;rightAbility</title>\n<path fill=\"none\" stroke=\"black\" d=\"M2058.76,-684.47C2050.45,-671.72 2041.05,-657.3 2032.77,-644.59\"/>\n<polygon fill=\"black\" stroke=\"black\" points=\"2035.63,-642.58 2027.24,-636.11 2029.77,-646.4 2035.63,-642.58\"/>\n</g>\n<!-- leftAbility_raw -->\n<g id=\"node16\" class=\"node\">\n<title>leftAbility_raw</title>\n<ellipse fill=\"none\" stroke=\"black\" cx=\"2410.42\" cy=\"-720.24\" rx=\"70.92\" ry=\"37.45\"/>\n<text text-anchor=\"middle\" x=\"2410.42\" y=\"-731.54\" font-family=\"Times,serif\" font-size=\"14.00\">leftAbility_raw</text>\n<text text-anchor=\"middle\" x=\"2410.42\" y=\"-716.54\" font-family=\"Times,serif\" font-size=\"14.00\">~</text>\n<text text-anchor=\"middle\" x=\"2410.42\" y=\"-701.54\" font-family=\"Times,serif\" font-size=\"14.00\">Beta</text>\n</g>\n<!-- leftAbility -->\n<g id=\"node18\" class=\"node\">\n<title>leftAbility</title>\n<polygon fill=\"none\" stroke=\"black\" points=\"2441.92,-635.79 2350.92,-635.79 2350.92,-582.79 2441.92,-582.79 2441.92,-635.79\"/>\n<text text-anchor=\"middle\" x=\"2396.42\" y=\"-620.59\" font-family=\"Times,serif\" font-size=\"14.00\">leftAbility</text>\n<text text-anchor=\"middle\" x=\"2396.42\" y=\"-605.59\" font-family=\"Times,serif\" font-size=\"14.00\">~</text>\n<text text-anchor=\"middle\" x=\"2396.42\" y=\"-590.59\" font-family=\"Times,serif\" font-size=\"14.00\">Deterministic</text>\n</g>\n<!-- leftAbility_raw&#45;&gt;leftAbility -->\n<g id=\"edge3\" class=\"edge\">\n<title>leftAbility_raw&#45;&gt;leftAbility</title>\n<path fill=\"none\" stroke=\"black\" d=\"M2405.72,-682.66C2404.19,-670.8 2402.51,-657.67 2400.99,-645.89\"/>\n<polygon fill=\"black\" stroke=\"black\" points=\"2404.46,-645.41 2399.71,-635.94 2397.52,-646.31 2404.46,-645.41\"/>\n</g>\n<!-- lavaP -->\n<g id=\"node33\" class=\"node\">\n<title>lavaP</title>\n<polygon fill=\"none\" stroke=\"black\" points=\"993.92,-524.84 902.92,-524.84 902.92,-471.84 993.92,-471.84 993.92,-524.84\"/>\n<text text-anchor=\"middle\" x=\"948.42\" y=\"-509.64\" font-family=\"Times,serif\" font-size=\"14.00\">lavaP</text>\n<text text-anchor=\"middle\" x=\"948.42\" y=\"-494.64\" font-family=\"Times,serif\" font-size=\"14.00\">~</text>\n<text text-anchor=\"middle\" x=\"948.42\" y=\"-479.64\" font-family=\"Times,serif\" font-size=\"14.00\">Deterministic</text>\n</g>\n<!-- lavaAbility&#45;&gt;lavaP -->\n<g id=\"edge20\" class=\"edge\">\n<title>lavaAbility&#45;&gt;lavaP</title>\n<path fill=\"none\" stroke=\"black\" d=\"M2087.84,-582.75C2080.83,-578.32 2073.17,-574.33 2065.42,-571.81 1840.83,-498.88 1228.32,-607.79 1003.42,-535.81 998.75,-534.32 994.11,-532.31 989.62,-529.99\"/>\n<polygon fill=\"black\" stroke=\"black\" points=\"991.06,-526.79 980.64,-524.88 987.6,-532.87 991.06,-526.79\"/>\n</g>\n<!-- leftPerformance -->\n<g id=\"node50\" class=\"node\">\n<title>leftPerformance</title>\n<polygon fill=\"none\" stroke=\"black\" points=\"1376.42,-524.84 1272.42,-524.84 1272.42,-471.84 1376.42,-471.84 1376.42,-524.84\"/>\n<text text-anchor=\"middle\" x=\"1324.42\" y=\"-509.64\" font-family=\"Times,serif\" font-size=\"14.00\">leftPerformance</text>\n<text text-anchor=\"middle\" x=\"1324.42\" y=\"-494.64\" font-family=\"Times,serif\" font-size=\"14.00\">~</text>\n<text text-anchor=\"middle\" x=\"1324.42\" y=\"-479.64\" font-family=\"Times,serif\" font-size=\"14.00\">Deterministic</text>\n</g>\n<!-- leftAbility&#45;&gt;leftPerformance -->\n<g id=\"edge16\" class=\"edge\">\n<title>leftAbility&#45;&gt;leftPerformance</title>\n<path fill=\"none\" stroke=\"black\" d=\"M2354.69,-582.77C2345.66,-578.34 2335.95,-574.34 2326.42,-571.81 2124.15,-518.16 1586.03,-595.37 1385.42,-535.81 1380.09,-534.23 1374.76,-532.08 1369.58,-529.61\"/>\n<polygon fill=\"black\" stroke=\"black\" points=\"1370.94,-526.37 1360.46,-524.86 1367.71,-532.58 1370.94,-526.37\"/>\n</g>\n<!-- numberOfGoals -->\n<g id=\"node19\" class=\"node\">\n<title>numberOfGoals</title>\n<path fill=\"lightgrey\" stroke=\"black\" d=\"M992.42,-413.88C992.42,-413.88 912.42,-413.88 912.42,-413.88 906.42,-413.88 900.42,-407.88 900.42,-401.88 900.42,-401.88 900.42,-372.88 900.42,-372.88 900.42,-366.88 906.42,-360.88 912.42,-360.88 912.42,-360.88 992.42,-360.88 992.42,-360.88 998.42,-360.88 1004.42,-366.88 1004.42,-372.88 1004.42,-372.88 1004.42,-401.88 1004.42,-401.88 1004.42,-407.88 998.42,-413.88 992.42,-413.88\"/>\n<text text-anchor=\"middle\" x=\"952.42\" y=\"-398.68\" font-family=\"Times,serif\" font-size=\"14.00\">numberOfGoals</text>\n<text text-anchor=\"middle\" x=\"952.42\" y=\"-383.68\" font-family=\"Times,serif\" font-size=\"14.00\">~</text>\n<text text-anchor=\"middle\" x=\"952.42\" y=\"-368.68\" font-family=\"Times,serif\" font-size=\"14.00\">MutableData</text>\n</g>\n<!-- navDecrementer -->\n<g id=\"node28\" class=\"node\">\n<title>navDecrementer</title>\n<polygon fill=\"none\" stroke=\"black\" points=\"946.92,-313.91 839.92,-313.91 839.92,-260.91 946.92,-260.91 946.92,-313.91\"/>\n<text text-anchor=\"middle\" x=\"893.42\" y=\"-298.71\" font-family=\"Times,serif\" font-size=\"14.00\">navDecrementer</text>\n<text text-anchor=\"middle\" x=\"893.42\" y=\"-283.71\" font-family=\"Times,serif\" font-size=\"14.00\">~</text>\n<text text-anchor=\"middle\" x=\"893.42\" y=\"-268.71\" font-family=\"Times,serif\" font-size=\"14.00\">Deterministic</text>\n</g>\n<!-- numberOfGoals&#45;&gt;navDecrementer -->\n<g id=\"edge46\" class=\"edge\">\n<title>numberOfGoals&#45;&gt;navDecrementer</title>\n<path fill=\"none\" stroke=\"black\" d=\"M936.92,-360.64C929.94,-349.05 921.6,-335.21 914.1,-322.75\"/>\n<polygon fill=\"black\" stroke=\"black\" points=\"916.97,-320.74 908.82,-313.98 910.98,-324.35 916.97,-320.74\"/>\n</g>\n<!-- minTurnsToGoal -->\n<g id=\"node20\" class=\"node\">\n<title>minTurnsToGoal</title>\n<path fill=\"lightgrey\" stroke=\"black\" d=\"M1303.42,-635.79C1303.42,-635.79 1217.42,-635.79 1217.42,-635.79 1211.42,-635.79 1205.42,-629.79 1205.42,-623.79 1205.42,-623.79 1205.42,-594.79 1205.42,-594.79 1205.42,-588.79 1211.42,-582.79 1217.42,-582.79 1217.42,-582.79 1303.42,-582.79 1303.42,-582.79 1309.42,-582.79 1315.42,-588.79 1315.42,-594.79 1315.42,-594.79 1315.42,-623.79 1315.42,-623.79 1315.42,-629.79 1309.42,-635.79 1303.42,-635.79\"/>\n<text text-anchor=\"middle\" x=\"1260.42\" y=\"-620.59\" font-family=\"Times,serif\" font-size=\"14.00\">minTurnsToGoal</text>\n<text text-anchor=\"middle\" x=\"1260.42\" y=\"-605.59\" font-family=\"Times,serif\" font-size=\"14.00\">~</text>\n<text text-anchor=\"middle\" x=\"1260.42\" y=\"-590.59\" font-family=\"Times,serif\" font-size=\"14.00\">MutableData</text>\n</g>\n<!-- minTurnsToGoal&#45;&gt;flatNavP -->\n<g id=\"edge17\" class=\"edge\">\n<title>minTurnsToGoal&#45;&gt;flatNavP</title>\n<path fill=\"none\" stroke=\"black\" d=\"M1248.23,-582.75C1241.36,-568.37 1232.7,-550.21 1225.2,-534.5\"/>\n<polygon fill=\"black\" stroke=\"black\" points=\"1228.18,-532.62 1220.71,-525.1 1221.86,-535.63 1228.18,-532.62\"/>\n</g>\n<!-- navP -->\n<g id=\"node31\" class=\"node\">\n<title>navP</title>\n<polygon fill=\"none\" stroke=\"black\" points=\"1113.92,-413.88 1022.92,-413.88 1022.92,-360.88 1113.92,-360.88 1113.92,-413.88\"/>\n<text text-anchor=\"middle\" x=\"1068.42\" y=\"-398.68\" font-family=\"Times,serif\" font-size=\"14.00\">navP</text>\n<text text-anchor=\"middle\" x=\"1068.42\" y=\"-383.68\" font-family=\"Times,serif\" font-size=\"14.00\">~</text>\n<text text-anchor=\"middle\" x=\"1068.42\" y=\"-368.68\" font-family=\"Times,serif\" font-size=\"14.00\">Deterministic</text>\n</g>\n<!-- rightPerformance&#45;&gt;navP -->\n<g id=\"edge31\" class=\"edge\">\n<title>rightPerformance&#45;&gt;navP</title>\n<path fill=\"none\" stroke=\"black\" d=\"M1068.42,-471.79C1068.42,-457.69 1068.42,-439.94 1068.42,-424.44\"/>\n<polygon fill=\"black\" stroke=\"black\" points=\"1071.92,-424.15 1068.42,-414.15 1064.92,-424.15 1071.92,-424.15\"/>\n</g>\n<!-- goalSize -->\n<g id=\"node22\" class=\"node\">\n<title>goalSize</title>\n<path fill=\"lightgrey\" stroke=\"black\" d=\"M1470.42,-524.84C1470.42,-524.84 1406.42,-524.84 1406.42,-524.84 1400.42,-524.84 1394.42,-518.84 1394.42,-512.84 1394.42,-512.84 1394.42,-483.84 1394.42,-483.84 1394.42,-477.84 1400.42,-471.84 1406.42,-471.84 1406.42,-471.84 1470.42,-471.84 1470.42,-471.84 1476.42,-471.84 1482.42,-477.84 1482.42,-483.84 1482.42,-483.84 1482.42,-512.84 1482.42,-512.84 1482.42,-518.84 1476.42,-524.84 1470.42,-524.84\"/>\n<text text-anchor=\"middle\" x=\"1438.42\" y=\"-509.64\" font-family=\"Times,serif\" font-size=\"14.00\">goalSize</text>\n<text text-anchor=\"middle\" x=\"1438.42\" y=\"-494.64\" font-family=\"Times,serif\" font-size=\"14.00\">~</text>\n<text text-anchor=\"middle\" x=\"1438.42\" y=\"-479.64\" font-family=\"Times,serif\" font-size=\"14.00\">MutableData</text>\n</g>\n<!-- goalSize&#45;&gt;visualAcuityP -->\n<g id=\"edge8\" class=\"edge\">\n<title>goalSize&#45;&gt;visualAcuityP</title>\n<path fill=\"none\" stroke=\"black\" d=\"M1402.61,-471.8C1396.93,-468.01 1391.07,-464.25 1385.42,-460.86 1358.23,-444.55 1326.98,-428.16 1300.91,-415.1\"/>\n<polygon fill=\"black\" stroke=\"black\" points=\"1302.43,-411.95 1291.92,-410.63 1299.31,-418.22 1302.43,-411.95\"/>\n</g>\n<!-- goalDistance -->\n<g id=\"node23\" class=\"node\">\n<title>goalDistance</title>\n<path fill=\"lightgrey\" stroke=\"black\" d=\"M1175.42,-635.79C1175.42,-635.79 1111.42,-635.79 1111.42,-635.79 1105.42,-635.79 1099.42,-629.79 1099.42,-623.79 1099.42,-623.79 1099.42,-594.79 1099.42,-594.79 1099.42,-588.79 1105.42,-582.79 1111.42,-582.79 1111.42,-582.79 1175.42,-582.79 1175.42,-582.79 1181.42,-582.79 1187.42,-588.79 1187.42,-594.79 1187.42,-594.79 1187.42,-623.79 1187.42,-623.79 1187.42,-629.79 1181.42,-635.79 1175.42,-635.79\"/>\n<text text-anchor=\"middle\" x=\"1143.42\" y=\"-620.59\" font-family=\"Times,serif\" font-size=\"14.00\">goalDistance</text>\n<text text-anchor=\"middle\" x=\"1143.42\" y=\"-605.59\" font-family=\"Times,serif\" font-size=\"14.00\">~</text>\n<text text-anchor=\"middle\" x=\"1143.42\" y=\"-590.59\" font-family=\"Times,serif\" font-size=\"14.00\">MutableData</text>\n</g>\n<!-- goalDistance&#45;&gt;flatNavP -->\n<g id=\"edge18\" class=\"edge\">\n<title>goalDistance&#45;&gt;flatNavP</title>\n<path fill=\"none\" stroke=\"black\" d=\"M1158.66,-582.75C1167.31,-568.23 1178.27,-549.86 1187.7,-534.06\"/>\n<polygon fill=\"black\" stroke=\"black\" points=\"1190.93,-535.48 1193.05,-525.1 1184.92,-531.89 1190.93,-535.48\"/>\n</g>\n<!-- goalDistance&#45;&gt;objPermP -->\n<g id=\"edge36\" class=\"edge\">\n<title>goalDistance&#45;&gt;objPermP</title>\n<path fill=\"none\" stroke=\"black\" d=\"M1112.12,-582.75C1105.32,-578.38 1097.91,-574.41 1090.42,-571.81 1032.67,-551.77 584.69,-578.99 541.42,-535.81 526.31,-520.74 526.62,-463 528.68,-424.41\"/>\n<polygon fill=\"black\" stroke=\"black\" points=\"532.2,-424.28 529.3,-414.08 525.21,-423.86 532.2,-424.28\"/>\n</g>\n<!-- goalDistance&#45;&gt;visualAcuityP -->\n<g id=\"edge10\" class=\"edge\">\n<title>goalDistance&#45;&gt;visualAcuityP</title>\n<path fill=\"none\" stroke=\"black\" d=\"M1139.4,-582.61C1135.86,-551.79 1134.02,-499.43 1154.42,-460.86 1162.86,-444.89 1176.51,-431.23 1190.7,-420.22\"/>\n<polygon fill=\"black\" stroke=\"black\" points=\"1193.11,-422.79 1199.09,-414.04 1188.96,-417.16 1193.11,-422.79\"/>\n</g>\n<!-- goalAhead -->\n<g id=\"node24\" class=\"node\">\n<title>goalAhead</title>\n<path fill=\"lightgrey\" stroke=\"black\" d=\"M857.42,-635.79C857.42,-635.79 793.42,-635.79 793.42,-635.79 787.42,-635.79 781.42,-629.79 781.42,-623.79 781.42,-623.79 781.42,-594.79 781.42,-594.79 781.42,-588.79 787.42,-582.79 793.42,-582.79 793.42,-582.79 857.42,-582.79 857.42,-582.79 863.42,-582.79 869.42,-588.79 869.42,-594.79 869.42,-594.79 869.42,-623.79 869.42,-623.79 869.42,-629.79 863.42,-635.79 857.42,-635.79\"/>\n<text text-anchor=\"middle\" x=\"825.42\" y=\"-620.59\" font-family=\"Times,serif\" font-size=\"14.00\">goalAhead</text>\n<text text-anchor=\"middle\" x=\"825.42\" y=\"-605.59\" font-family=\"Times,serif\" font-size=\"14.00\">~</text>\n<text text-anchor=\"middle\" x=\"825.42\" y=\"-590.59\" font-family=\"Times,serif\" font-size=\"14.00\">MutableData</text>\n</g>\n<!-- goalAhead&#45;&gt;aheadPerformance -->\n<g id=\"edge14\" class=\"edge\">\n<title>goalAhead&#45;&gt;aheadPerformance</title>\n<path fill=\"none\" stroke=\"black\" d=\"M825.42,-582.75C825.42,-568.64 825.42,-550.89 825.42,-535.39\"/>\n<polygon fill=\"black\" stroke=\"black\" points=\"828.92,-535.1 825.42,-525.1 821.92,-535.1 828.92,-535.1\"/>\n</g>\n<!-- CVChickTest -->\n<g id=\"node25\" class=\"node\">\n<title>CVChickTest</title>\n<path fill=\"lightgrey\" stroke=\"black\" d=\"M671.42,-635.79C671.42,-635.79 605.42,-635.79 605.42,-635.79 599.42,-635.79 593.42,-629.79 593.42,-623.79 593.42,-623.79 593.42,-594.79 593.42,-594.79 593.42,-588.79 599.42,-582.79 605.42,-582.79 605.42,-582.79 671.42,-582.79 671.42,-582.79 677.42,-582.79 683.42,-588.79 683.42,-594.79 683.42,-594.79 683.42,-623.79 683.42,-623.79 683.42,-629.79 677.42,-635.79 671.42,-635.79\"/>\n<text text-anchor=\"middle\" x=\"638.42\" y=\"-620.59\" font-family=\"Times,serif\" font-size=\"14.00\">CVChickTest</text>\n<text text-anchor=\"middle\" x=\"638.42\" y=\"-605.59\" font-family=\"Times,serif\" font-size=\"14.00\">~</text>\n<text text-anchor=\"middle\" x=\"638.42\" y=\"-590.59\" font-family=\"Times,serif\" font-size=\"14.00\">MutableData</text>\n</g>\n<!-- CVChickTest&#45;&gt;navDecrementer -->\n<g id=\"edge44\" class=\"edge\">\n<title>CVChickTest&#45;&gt;navDecrementer</title>\n<path fill=\"none\" stroke=\"black\" d=\"M593.18,-592.16C571.18,-584.9 544.19,-576.85 519.42,-571.81 443.44,-556.38 224.33,-593.39 172.42,-535.81 150.11,-511.07 153.31,-488.15 172.42,-460.86 248.32,-352.48 667.4,-306.95 829.43,-293.22\"/>\n<polygon fill=\"black\" stroke=\"black\" points=\"830.05,-296.68 839.73,-292.37 829.47,-289.71 830.05,-296.68\"/>\n</g>\n<!-- CVChickTest&#45;&gt;cvChickP -->\n<g id=\"edge24\" class=\"edge\">\n<title>CVChickTest&#45;&gt;cvChickP</title>\n<path fill=\"none\" stroke=\"black\" d=\"M653.42,-582.75C661.95,-568.23 672.74,-549.86 682.02,-534.06\"/>\n<polygon fill=\"black\" stroke=\"black\" points=\"685.24,-535.49 687.28,-525.1 679.2,-531.95 685.24,-535.49\"/>\n</g>\n<!-- forcedChoice -->\n<g id=\"node26\" class=\"node\">\n<title>forcedChoice</title>\n<path fill=\"lightgrey\" stroke=\"black\" d=\"M1214.92,-313.91C1214.92,-313.91 1149.92,-313.91 1149.92,-313.91 1143.92,-313.91 1137.92,-307.91 1137.92,-301.91 1137.92,-301.91 1137.92,-272.91 1137.92,-272.91 1137.92,-266.91 1143.92,-260.91 1149.92,-260.91 1149.92,-260.91 1214.92,-260.91 1214.92,-260.91 1220.92,-260.91 1226.92,-266.91 1226.92,-272.91 1226.92,-272.91 1226.92,-301.91 1226.92,-301.91 1226.92,-307.91 1220.92,-313.91 1214.92,-313.91\"/>\n<text text-anchor=\"middle\" x=\"1182.42\" y=\"-298.71\" font-family=\"Times,serif\" font-size=\"14.00\">forcedChoice</text>\n<text text-anchor=\"middle\" x=\"1182.42\" y=\"-283.71\" font-family=\"Times,serif\" font-size=\"14.00\">~</text>\n<text text-anchor=\"middle\" x=\"1182.42\" y=\"-268.71\" font-family=\"Times,serif\" font-size=\"14.00\">MutableData</text>\n</g>\n<!-- forcedChoice&#45;&gt;choiceP -->\n<g id=\"edge50\" class=\"edge\">\n<title>forcedChoice&#45;&gt;choiceP</title>\n<path fill=\"none\" stroke=\"black\" d=\"M1183.21,-260.66C1183.55,-249.53 1183.95,-236.3 1184.32,-224.23\"/>\n<polygon fill=\"black\" stroke=\"black\" points=\"1187.83,-224.1 1184.63,-214 1180.83,-223.89 1187.83,-224.1\"/>\n</g>\n<!-- goalLeft -->\n<g id=\"node27\" class=\"node\">\n<title>goalLeft</title>\n<path fill=\"lightgrey\" stroke=\"black\" d=\"M1409.42,-635.79C1409.42,-635.79 1345.42,-635.79 1345.42,-635.79 1339.42,-635.79 1333.42,-629.79 1333.42,-623.79 1333.42,-623.79 1333.42,-594.79 1333.42,-594.79 1333.42,-588.79 1339.42,-582.79 1345.42,-582.79 1345.42,-582.79 1409.42,-582.79 1409.42,-582.79 1415.42,-582.79 1421.42,-588.79 1421.42,-594.79 1421.42,-594.79 1421.42,-623.79 1421.42,-623.79 1421.42,-629.79 1415.42,-635.79 1409.42,-635.79\"/>\n<text text-anchor=\"middle\" x=\"1377.42\" y=\"-620.59\" font-family=\"Times,serif\" font-size=\"14.00\">goalLeft</text>\n<text text-anchor=\"middle\" x=\"1377.42\" y=\"-605.59\" font-family=\"Times,serif\" font-size=\"14.00\">~</text>\n<text text-anchor=\"middle\" x=\"1377.42\" y=\"-590.59\" font-family=\"Times,serif\" font-size=\"14.00\">MutableData</text>\n</g>\n<!-- goalLeft&#45;&gt;leftPerformance -->\n<g id=\"edge15\" class=\"edge\">\n<title>goalLeft&#45;&gt;leftPerformance</title>\n<path fill=\"none\" stroke=\"black\" d=\"M1364.99,-582.75C1358,-568.37 1349.16,-550.21 1341.52,-534.5\"/>\n<polygon fill=\"black\" stroke=\"black\" points=\"1344.47,-532.56 1336.95,-525.1 1338.18,-535.62 1344.47,-532.56\"/>\n</g>\n<!-- navDecrementer&#45;&gt;choiceP -->\n<g id=\"edge51\" class=\"edge\">\n<title>navDecrementer&#45;&gt;choiceP</title>\n<path fill=\"none\" stroke=\"black\" d=\"M947.15,-274.64C1006.48,-261.27 1097.91,-239.42 1130.42,-224.91 1134.24,-223.2 1138.1,-221.24 1141.9,-219.12\"/>\n<polygon fill=\"black\" stroke=\"black\" points=\"1143.78,-222.08 1150.61,-213.98 1140.22,-216.05 1143.78,-222.08\"/>\n</g>\n<!-- numChoices -->\n<g id=\"node29\" class=\"node\">\n<title>numChoices</title>\n<path fill=\"lightgrey\" stroke=\"black\" d=\"M626.42,-524.84C626.42,-524.84 562.42,-524.84 562.42,-524.84 556.42,-524.84 550.42,-518.84 550.42,-512.84 550.42,-512.84 550.42,-483.84 550.42,-483.84 550.42,-477.84 556.42,-471.84 562.42,-471.84 562.42,-471.84 626.42,-471.84 626.42,-471.84 632.42,-471.84 638.42,-477.84 638.42,-483.84 638.42,-483.84 638.42,-512.84 638.42,-512.84 638.42,-518.84 632.42,-524.84 626.42,-524.84\"/>\n<text text-anchor=\"middle\" x=\"594.42\" y=\"-509.64\" font-family=\"Times,serif\" font-size=\"14.00\">numChoices</text>\n<text text-anchor=\"middle\" x=\"594.42\" y=\"-494.64\" font-family=\"Times,serif\" font-size=\"14.00\">~</text>\n<text text-anchor=\"middle\" x=\"594.42\" y=\"-479.64\" font-family=\"Times,serif\" font-size=\"14.00\">MutableData</text>\n</g>\n<!-- numChoices&#45;&gt;objPermP -->\n<g id=\"edge37\" class=\"edge\">\n<title>numChoices&#45;&gt;objPermP</title>\n<path fill=\"none\" stroke=\"black\" d=\"M579.65,-471.79C571.26,-457.28 560.63,-438.91 551.5,-423.11\"/>\n<polygon fill=\"black\" stroke=\"black\" points=\"554.35,-421.05 546.31,-414.15 548.29,-424.55 554.35,-421.05\"/>\n</g>\n<!-- pctb3CupTest -->\n<g id=\"node30\" class=\"node\">\n<title>pctb3CupTest</title>\n<path fill=\"lightgrey\" stroke=\"black\" d=\"M870.42,-413.88C870.42,-413.88 802.42,-413.88 802.42,-413.88 796.42,-413.88 790.42,-407.88 790.42,-401.88 790.42,-401.88 790.42,-372.88 790.42,-372.88 790.42,-366.88 796.42,-360.88 802.42,-360.88 802.42,-360.88 870.42,-360.88 870.42,-360.88 876.42,-360.88 882.42,-366.88 882.42,-372.88 882.42,-372.88 882.42,-401.88 882.42,-401.88 882.42,-407.88 876.42,-413.88 870.42,-413.88\"/>\n<text text-anchor=\"middle\" x=\"836.42\" y=\"-398.68\" font-family=\"Times,serif\" font-size=\"14.00\">pctb3CupTest</text>\n<text text-anchor=\"middle\" x=\"836.42\" y=\"-383.68\" font-family=\"Times,serif\" font-size=\"14.00\">~</text>\n<text text-anchor=\"middle\" x=\"836.42\" y=\"-368.68\" font-family=\"Times,serif\" font-size=\"14.00\">MutableData</text>\n</g>\n<!-- pctb3CupTest&#45;&gt;navDecrementer -->\n<g id=\"edge47\" class=\"edge\">\n<title>pctb3CupTest&#45;&gt;navDecrementer</title>\n<path fill=\"none\" stroke=\"black\" d=\"M851.39,-360.64C858.14,-349.05 866.19,-335.21 873.44,-322.75\"/>\n<polygon fill=\"black\" stroke=\"black\" points=\"876.54,-324.38 878.54,-313.98 870.49,-320.86 876.54,-324.38\"/>\n</g>\n<!-- navP&#45;&gt;navDecrementer -->\n<g id=\"edge48\" class=\"edge\">\n<title>navP&#45;&gt;navDecrementer</title>\n<path fill=\"none\" stroke=\"black\" d=\"M1030.9,-360.7C1025.11,-356.97 1019.15,-353.26 1013.42,-349.91 994.93,-339.08 974.32,-328.14 955.47,-318.54\"/>\n<polygon fill=\"black\" stroke=\"black\" points=\"956.88,-315.33 946.38,-313.94 953.73,-321.58 956.88,-315.33\"/>\n</g>\n<!-- navP&#45;&gt;finalP -->\n<g id=\"edge42\" class=\"edge\">\n<title>navP&#45;&gt;finalP</title>\n<path fill=\"none\" stroke=\"black\" d=\"M1068.42,-360.64C1068.42,-349.5 1068.42,-336.28 1068.42,-324.21\"/>\n<polygon fill=\"black\" stroke=\"black\" points=\"1071.92,-323.98 1068.42,-313.98 1064.92,-323.98 1071.92,-323.98\"/>\n</g>\n<!-- goalRight -->\n<g id=\"node32\" class=\"node\">\n<title>goalRight</title>\n<path fill=\"lightgrey\" stroke=\"black\" d=\"M1069.42,-635.79C1069.42,-635.79 1005.42,-635.79 1005.42,-635.79 999.42,-635.79 993.42,-629.79 993.42,-623.79 993.42,-623.79 993.42,-594.79 993.42,-594.79 993.42,-588.79 999.42,-582.79 1005.42,-582.79 1005.42,-582.79 1069.42,-582.79 1069.42,-582.79 1075.42,-582.79 1081.42,-588.79 1081.42,-594.79 1081.42,-594.79 1081.42,-623.79 1081.42,-623.79 1081.42,-629.79 1075.42,-635.79 1069.42,-635.79\"/>\n<text text-anchor=\"middle\" x=\"1037.42\" y=\"-620.59\" font-family=\"Times,serif\" font-size=\"14.00\">goalRight</text>\n<text text-anchor=\"middle\" x=\"1037.42\" y=\"-605.59\" font-family=\"Times,serif\" font-size=\"14.00\">~</text>\n<text text-anchor=\"middle\" x=\"1037.42\" y=\"-590.59\" font-family=\"Times,serif\" font-size=\"14.00\">MutableData</text>\n</g>\n<!-- goalRight&#45;&gt;rightPerformance -->\n<g id=\"edge11\" class=\"edge\">\n<title>goalRight&#45;&gt;rightPerformance</title>\n<path fill=\"none\" stroke=\"black\" d=\"M1044.69,-582.75C1048.74,-568.5 1053.85,-550.55 1058.29,-534.95\"/>\n<polygon fill=\"black\" stroke=\"black\" points=\"1061.72,-535.67 1061.09,-525.1 1054.98,-533.76 1061.72,-535.67\"/>\n</g>\n<!-- lavaP&#45;&gt;navP -->\n<g id=\"edge29\" class=\"edge\">\n<title>lavaP&#45;&gt;navP</title>\n<path fill=\"none\" stroke=\"black\" d=\"M976.55,-471.79C993.28,-456.6 1014.67,-437.19 1032.6,-420.91\"/>\n<polygon fill=\"black\" stroke=\"black\" points=\"1034.99,-423.46 1040.04,-414.15 1030.29,-418.28 1034.99,-423.46\"/>\n</g>\n<!-- PCTBTest -->\n<g id=\"node34\" class=\"node\">\n<title>PCTBTest</title>\n<path fill=\"lightgrey\" stroke=\"black\" d=\"M498.42,-635.79C498.42,-635.79 434.42,-635.79 434.42,-635.79 428.42,-635.79 422.42,-629.79 422.42,-623.79 422.42,-623.79 422.42,-594.79 422.42,-594.79 422.42,-588.79 428.42,-582.79 434.42,-582.79 434.42,-582.79 498.42,-582.79 498.42,-582.79 504.42,-582.79 510.42,-588.79 510.42,-594.79 510.42,-594.79 510.42,-623.79 510.42,-623.79 510.42,-629.79 504.42,-635.79 498.42,-635.79\"/>\n<text text-anchor=\"middle\" x=\"466.42\" y=\"-620.59\" font-family=\"Times,serif\" font-size=\"14.00\">PCTBTest</text>\n<text text-anchor=\"middle\" x=\"466.42\" y=\"-605.59\" font-family=\"Times,serif\" font-size=\"14.00\">~</text>\n<text text-anchor=\"middle\" x=\"466.42\" y=\"-590.59\" font-family=\"Times,serif\" font-size=\"14.00\">MutableData</text>\n</g>\n<!-- PCTBTest&#45;&gt;pctbP -->\n<g id=\"edge27\" class=\"edge\">\n<title>PCTBTest&#45;&gt;pctbP</title>\n<path fill=\"none\" stroke=\"black\" d=\"M466.42,-582.75C466.42,-568.64 466.42,-550.89 466.42,-535.39\"/>\n<polygon fill=\"black\" stroke=\"black\" points=\"469.92,-535.1 466.42,-525.1 462.92,-535.1 469.92,-535.1\"/>\n</g>\n<!-- flatNavP&#45;&gt;navP -->\n<g id=\"edge32\" class=\"edge\">\n<title>flatNavP&#45;&gt;navP</title>\n<path fill=\"none\" stroke=\"black\" d=\"M1175.59,-471.79C1155.9,-456.47 1130.68,-436.84 1109.65,-420.47\"/>\n<polygon fill=\"black\" stroke=\"black\" points=\"1111.56,-417.53 1101.52,-414.15 1107.26,-423.05 1111.56,-417.53\"/>\n</g>\n<!-- taskChoice -->\n<g id=\"node43\" class=\"node\">\n<title>taskChoice</title>\n<ellipse fill=\"lightgrey\" stroke=\"black\" cx=\"1185.42\" cy=\"-76.48\" rx=\"54.39\" ry=\"37.45\"/>\n<text text-anchor=\"middle\" x=\"1185.42\" y=\"-87.78\" font-family=\"Times,serif\" font-size=\"14.00\">taskChoice</text>\n<text text-anchor=\"middle\" x=\"1185.42\" y=\"-72.78\" font-family=\"Times,serif\" font-size=\"14.00\">~</text>\n<text text-anchor=\"middle\" x=\"1185.42\" y=\"-57.78\" font-family=\"Times,serif\" font-size=\"14.00\">Bernoulli</text>\n</g>\n<!-- choiceP&#45;&gt;taskChoice -->\n<g id=\"edge55\" class=\"edge\">\n<title>choiceP&#45;&gt;taskChoice</title>\n<path fill=\"none\" stroke=\"black\" d=\"M1185.42,-160.89C1185.42,-149.98 1185.42,-136.89 1185.42,-124.35\"/>\n<polygon fill=\"black\" stroke=\"black\" points=\"1188.92,-124 1185.42,-114 1181.92,-124 1188.92,-124\"/>\n</g>\n<!-- pctbGridTest -->\n<g id=\"node37\" class=\"node\">\n<title>pctbGridTest</title>\n<path fill=\"lightgrey\" stroke=\"black\" d=\"M760.42,-413.88C760.42,-413.88 696.42,-413.88 696.42,-413.88 690.42,-413.88 684.42,-407.88 684.42,-401.88 684.42,-401.88 684.42,-372.88 684.42,-372.88 684.42,-366.88 690.42,-360.88 696.42,-360.88 696.42,-360.88 760.42,-360.88 760.42,-360.88 766.42,-360.88 772.42,-366.88 772.42,-372.88 772.42,-372.88 772.42,-401.88 772.42,-401.88 772.42,-407.88 766.42,-413.88 760.42,-413.88\"/>\n<text text-anchor=\"middle\" x=\"728.42\" y=\"-398.68\" font-family=\"Times,serif\" font-size=\"14.00\">pctbGridTest</text>\n<text text-anchor=\"middle\" x=\"728.42\" y=\"-383.68\" font-family=\"Times,serif\" font-size=\"14.00\">~</text>\n<text text-anchor=\"middle\" x=\"728.42\" y=\"-368.68\" font-family=\"Times,serif\" font-size=\"14.00\">MutableData</text>\n</g>\n<!-- pctbGridTest&#45;&gt;navDecrementer -->\n<g id=\"edge45\" class=\"edge\">\n<title>pctbGridTest&#45;&gt;navDecrementer</title>\n<path fill=\"none\" stroke=\"black\" d=\"M764.59,-360.78C770.17,-357.04 775.9,-353.31 781.42,-349.91 798.62,-339.3 817.77,-328.45 835.3,-318.88\"/>\n<polygon fill=\"black\" stroke=\"black\" points=\"837.17,-321.84 844.29,-314 833.83,-315.69 837.17,-321.84\"/>\n</g>\n<!-- pctbP&#45;&gt;objPermP -->\n<g id=\"edge38\" class=\"edge\">\n<title>pctbP&#45;&gt;objPermP</title>\n<path fill=\"none\" stroke=\"black\" d=\"M481.66,-471.79C490.31,-457.28 501.27,-438.91 510.7,-423.11\"/>\n<polygon fill=\"black\" stroke=\"black\" points=\"513.93,-424.53 516.05,-414.15 507.92,-420.94 513.93,-424.53\"/>\n</g>\n<!-- cvChickP&#45;&gt;objPermP -->\n<g id=\"edge33\" class=\"edge\">\n<title>cvChickP&#45;&gt;objPermP</title>\n<path fill=\"none\" stroke=\"black\" d=\"M664.04,-471.69C658.48,-468.03 652.81,-464.33 647.42,-460.86 625.93,-447.02 602.01,-432.01 581.49,-419.26\"/>\n<polygon fill=\"black\" stroke=\"black\" points=\"583.27,-416.24 572.93,-413.94 579.58,-422.19 583.27,-416.24\"/>\n</g>\n<!-- allocentricOPTest -->\n<g id=\"node40\" class=\"node\">\n<title>allocentricOPTest</title>\n<path fill=\"lightgrey\" stroke=\"black\" d=\"M390.92,-524.84C390.92,-524.84 301.92,-524.84 301.92,-524.84 295.92,-524.84 289.92,-518.84 289.92,-512.84 289.92,-512.84 289.92,-483.84 289.92,-483.84 289.92,-477.84 295.92,-471.84 301.92,-471.84 301.92,-471.84 390.92,-471.84 390.92,-471.84 396.92,-471.84 402.92,-477.84 402.92,-483.84 402.92,-483.84 402.92,-512.84 402.92,-512.84 402.92,-518.84 396.92,-524.84 390.92,-524.84\"/>\n<text text-anchor=\"middle\" x=\"346.42\" y=\"-509.64\" font-family=\"Times,serif\" font-size=\"14.00\">allocentricOPTest</text>\n<text text-anchor=\"middle\" x=\"346.42\" y=\"-494.64\" font-family=\"Times,serif\" font-size=\"14.00\">~</text>\n<text text-anchor=\"middle\" x=\"346.42\" y=\"-479.64\" font-family=\"Times,serif\" font-size=\"14.00\">MutableData</text>\n</g>\n<!-- allocentricOPTest&#45;&gt;objPermP -->\n<g id=\"edge34\" class=\"edge\">\n<title>allocentricOPTest&#45;&gt;objPermP</title>\n<path fill=\"none\" stroke=\"black\" d=\"M389.79,-471.79C416.49,-456.07 450.87,-435.82 479.07,-419.21\"/>\n<polygon fill=\"black\" stroke=\"black\" points=\"481.15,-422.05 488,-413.96 477.6,-416.02 481.15,-422.05\"/>\n</g>\n<!-- taskSuccess -->\n<g id=\"node49\" class=\"node\">\n<title>taskSuccess</title>\n<ellipse fill=\"lightgrey\" stroke=\"black\" cx=\"1064.42\" cy=\"-187.43\" rx=\"57.05\" ry=\"37.45\"/>\n<text text-anchor=\"middle\" x=\"1064.42\" y=\"-198.73\" font-family=\"Times,serif\" font-size=\"14.00\">taskSuccess</text>\n<text text-anchor=\"middle\" x=\"1064.42\" y=\"-183.73\" font-family=\"Times,serif\" font-size=\"14.00\">~</text>\n<text text-anchor=\"middle\" x=\"1064.42\" y=\"-168.73\" font-family=\"Times,serif\" font-size=\"14.00\">Bernoulli</text>\n</g>\n<!-- finalP&#45;&gt;taskSuccess -->\n<g id=\"edge54\" class=\"edge\">\n<title>finalP&#45;&gt;taskSuccess</title>\n<path fill=\"none\" stroke=\"black\" d=\"M1067.37,-260.66C1067.05,-252.84 1066.69,-243.99 1066.33,-235.23\"/>\n<polygon fill=\"black\" stroke=\"black\" points=\"1069.82,-234.9 1065.91,-225.05 1062.82,-235.19 1069.82,-234.9\"/>\n</g>\n<!-- lavaPresence -->\n<g id=\"node42\" class=\"node\">\n<title>lavaPresence</title>\n<path fill=\"lightgrey\" stroke=\"black\" d=\"M963.42,-635.79C963.42,-635.79 899.42,-635.79 899.42,-635.79 893.42,-635.79 887.42,-629.79 887.42,-623.79 887.42,-623.79 887.42,-594.79 887.42,-594.79 887.42,-588.79 893.42,-582.79 899.42,-582.79 899.42,-582.79 963.42,-582.79 963.42,-582.79 969.42,-582.79 975.42,-588.79 975.42,-594.79 975.42,-594.79 975.42,-623.79 975.42,-623.79 975.42,-629.79 969.42,-635.79 963.42,-635.79\"/>\n<text text-anchor=\"middle\" x=\"931.42\" y=\"-620.59\" font-family=\"Times,serif\" font-size=\"14.00\">lavaPresence</text>\n<text text-anchor=\"middle\" x=\"931.42\" y=\"-605.59\" font-family=\"Times,serif\" font-size=\"14.00\">~</text>\n<text text-anchor=\"middle\" x=\"931.42\" y=\"-590.59\" font-family=\"Times,serif\" font-size=\"14.00\">MutableData</text>\n</g>\n<!-- lavaPresence&#45;&gt;lavaP -->\n<g id=\"edge21\" class=\"edge\">\n<title>lavaPresence&#45;&gt;lavaP</title>\n<path fill=\"none\" stroke=\"black\" d=\"M935.4,-582.75C937.6,-568.64 940.37,-550.89 942.79,-535.39\"/>\n<polygon fill=\"black\" stroke=\"black\" points=\"946.31,-535.52 944.4,-525.1 939.4,-534.44 946.31,-535.52\"/>\n</g>\n<!-- lightsOutPresence -->\n<g id=\"node44\" class=\"node\">\n<title>lightsOutPresence</title>\n<path fill=\"lightgrey\" stroke=\"black\" d=\"M271.92,-635.79C271.92,-635.79 180.92,-635.79 180.92,-635.79 174.92,-635.79 168.92,-629.79 168.92,-623.79 168.92,-623.79 168.92,-594.79 168.92,-594.79 168.92,-588.79 174.92,-582.79 180.92,-582.79 180.92,-582.79 271.92,-582.79 271.92,-582.79 277.92,-582.79 283.92,-588.79 283.92,-594.79 283.92,-594.79 283.92,-623.79 283.92,-623.79 283.92,-629.79 277.92,-635.79 271.92,-635.79\"/>\n<text text-anchor=\"middle\" x=\"226.42\" y=\"-620.59\" font-family=\"Times,serif\" font-size=\"14.00\">lightsOutPresence</text>\n<text text-anchor=\"middle\" x=\"226.42\" y=\"-605.59\" font-family=\"Times,serif\" font-size=\"14.00\">~</text>\n<text text-anchor=\"middle\" x=\"226.42\" y=\"-590.59\" font-family=\"Times,serif\" font-size=\"14.00\">MutableData</text>\n</g>\n<!-- lightsOutPresence&#45;&gt;lightsOutP -->\n<g id=\"edge22\" class=\"edge\">\n<title>lightsOutPresence&#45;&gt;lightsOutP</title>\n<path fill=\"none\" stroke=\"black\" d=\"M226.42,-582.75C226.42,-568.64 226.42,-550.89 226.42,-535.39\"/>\n<polygon fill=\"black\" stroke=\"black\" points=\"229.92,-535.1 226.42,-525.1 222.92,-535.1 229.92,-535.1\"/>\n</g>\n<!-- lightsOutP&#45;&gt;objPermP -->\n<g id=\"edge39\" class=\"edge\">\n<title>lightsOutP&#45;&gt;objPermP</title>\n<path fill=\"none\" stroke=\"black\" d=\"M261.6,-471.76C268,-467.76 274.76,-463.94 281.42,-460.86 345.23,-431.29 423.85,-410.89 475.69,-399.44\"/>\n<polygon fill=\"black\" stroke=\"black\" points=\"476.65,-402.81 485.68,-397.26 475.17,-395.97 476.65,-402.81\"/>\n</g>\n<!-- objPermP&#45;&gt;choiceP -->\n<g id=\"edge49\" class=\"edge\">\n<title>objPermP&#45;&gt;choiceP</title>\n<path fill=\"none\" stroke=\"black\" d=\"M577.05,-362.6C634.68,-333.67 737.66,-285.64 831.42,-260.91 960.84,-226.76 1004.81,-271.14 1130.42,-224.91 1134.71,-223.33 1138.99,-221.36 1143.18,-219.15\"/>\n<polygon fill=\"black\" stroke=\"black\" points=\"1145.2,-222.03 1152.13,-214.01 1141.71,-215.96 1145.2,-222.03\"/>\n</g>\n<!-- objPermP&#45;&gt;finalP -->\n<g id=\"edge40\" class=\"edge\">\n<title>objPermP&#45;&gt;finalP</title>\n<path fill=\"none\" stroke=\"black\" d=\"M577.15,-373.3C605.3,-365.62 642.23,-356.21 675.42,-349.91 799.11,-326.41 832.45,-335.91 956.42,-313.91 974.97,-310.61 995.09,-306.28 1013.09,-302.12\"/>\n<polygon fill=\"black\" stroke=\"black\" points=\"1013.91,-305.52 1022.85,-299.83 1012.31,-298.7 1013.91,-305.52\"/>\n</g>\n<!-- aheadPerformance&#45;&gt;navP -->\n<g id=\"edge28\" class=\"edge\">\n<title>aheadPerformance&#45;&gt;navP</title>\n<path fill=\"none\" stroke=\"black\" d=\"M870.85,-471.75C878.59,-467.84 886.65,-464.05 894.42,-460.86 945.52,-439.85 963.42,-448.38 1013.42,-424.86 1017.05,-423.15 1020.71,-421.23 1024.33,-419.18\"/>\n<polygon fill=\"black\" stroke=\"black\" points=\"1026.41,-422.02 1033.21,-413.89 1022.83,-416.01 1026.41,-422.02\"/>\n</g>\n<!-- visualAcuityP&#45;&gt;choiceP -->\n<g id=\"edge52\" class=\"edge\">\n<title>visualAcuityP&#45;&gt;choiceP</title>\n<path fill=\"none\" stroke=\"black\" d=\"M1247.52,-360.57C1248.73,-334.61 1248.15,-293.82 1236.42,-260.91 1231.51,-247.15 1223.23,-233.62 1214.75,-222.05\"/>\n<polygon fill=\"black\" stroke=\"black\" points=\"1217.44,-219.81 1208.59,-214 1211.88,-224.07 1217.44,-219.81\"/>\n</g>\n<!-- visualAcuityP&#45;&gt;finalP -->\n<g id=\"edge41\" class=\"edge\">\n<title>visualAcuityP&#45;&gt;finalP</title>\n<path fill=\"none\" stroke=\"black\" d=\"M1198.91,-360.64C1175.56,-347.71 1147.13,-331.98 1122.77,-318.49\"/>\n<polygon fill=\"black\" stroke=\"black\" points=\"1124.44,-315.42 1114,-313.64 1121.05,-321.54 1124.44,-315.42\"/>\n</g>\n<!-- leftPerformance&#45;&gt;navP -->\n<g id=\"edge30\" class=\"edge\">\n<title>leftPerformance&#45;&gt;navP</title>\n<path fill=\"none\" stroke=\"black\" d=\"M1283.97,-471.75C1277.22,-467.89 1270.2,-464.12 1263.42,-460.86 1217.69,-438.92 1163.46,-419.24 1123.81,-405.95\"/>\n<polygon fill=\"black\" stroke=\"black\" points=\"1124.91,-402.62 1114.31,-402.79 1122.7,-409.27 1124.91,-402.62\"/>\n</g>\n</g>\n</svg>\n",
            "text/plain": [
              "<graphviz.graphs.Digraph at 0x7db0bc240a00>"
            ]
          },
          "metadata": {},
          "execution_count": 18
        }
      ]
    },
    {
      "cell_type": "code",
      "source": [
        "abilitiesToShow = [\"objPermAbility\", \"visualAcuityAbility\", \"flatNavAbility\", \"lavaAbility\", \"rightAbility\", \"leftAbility\", \"aheadAbility\", \"CVChickAbility\", \"PCTBAbility\", \"lightsOutAbility\", \"noisePar\"]\n",
        "model_all, min, max = SetupModel(agent_data, uniformAbilitySlack=1, agent_type='agent_real', agent_name=\"success_Vanilla_Braitenberg_15_rays_over_60_degs_356\", agent_name_choice=\"correctChoice_Vanilla_Braitenberg_15_rays_over_60_degs_356\", sample = None)\n",
        "with model_all:\n",
        "  data_all = pm.sample(2000, target_accept=0.95)\n",
        "mu, sd  = analyzeAgentResults(\"Vanilla_Braitenberg_15_rays_over_60_degs_356\", data_all, abilitiesToShow)"
      ],
      "metadata": {
        "id": "EPXW-BKdcKU3",
        "outputId": "b5344db0-743e-49d2-9a9d-12cd03290b5f",
        "colab": {
          "base_uri": "https://localhost:8080/",
          "height": 57
        }
      },
      "execution_count": 19,
      "outputs": [
        {
          "output_type": "display_data",
          "data": {
            "text/plain": [
              "<IPython.core.display.HTML object>"
            ],
            "text/html": [
              "\n",
              "<style>\n",
              "    /* Turns off some styling */\n",
              "    progress {\n",
              "        /* gets rid of default border in Firefox and Opera. */\n",
              "        border: none;\n",
              "        /* Needs to be in here for Safari polyfill so background images work as expected. */\n",
              "        background-size: auto;\n",
              "    }\n",
              "    progress:not([value]), progress:not([value])::-webkit-progress-bar {\n",
              "        background: repeating-linear-gradient(45deg, #7e7e7e, #7e7e7e 10px, #5c5c5c 10px, #5c5c5c 20px);\n",
              "    }\n",
              "    .progress-bar-interrupted, .progress-bar-interrupted::-webkit-progress-bar {\n",
              "        background: #F44336;\n",
              "    }\n",
              "</style>\n"
            ]
          },
          "metadata": {}
        },
        {
          "output_type": "display_data",
          "data": {
            "text/plain": [
              "<IPython.core.display.HTML object>"
            ],
            "text/html": [
              "\n",
              "    <div>\n",
              "      <progress value='3000' class='' max='3000' style='width:300px; height:20px; vertical-align: middle;'></progress>\n",
              "      100.00% [3000/3000 03:15&lt;00:00 Sampling chain 0, 0 divergences]\n",
              "    </div>\n",
              "    "
            ]
          },
          "metadata": {}
        },
        {
          "output_type": "display_data",
          "data": {
            "text/plain": [
              "<IPython.core.display.HTML object>"
            ],
            "text/html": [
              "\n",
              "<style>\n",
              "    /* Turns off some styling */\n",
              "    progress {\n",
              "        /* gets rid of default border in Firefox and Opera. */\n",
              "        border: none;\n",
              "        /* Needs to be in here for Safari polyfill so background images work as expected. */\n",
              "        background-size: auto;\n",
              "    }\n",
              "    progress:not([value]), progress:not([value])::-webkit-progress-bar {\n",
              "        background: repeating-linear-gradient(45deg, #7e7e7e, #7e7e7e 10px, #5c5c5c 10px, #5c5c5c 20px);\n",
              "    }\n",
              "    .progress-bar-interrupted, .progress-bar-interrupted::-webkit-progress-bar {\n",
              "        background: #F44336;\n",
              "    }\n",
              "</style>\n"
            ]
          },
          "metadata": {}
        },
        {
          "output_type": "display_data",
          "data": {
            "text/plain": [
              "<IPython.core.display.HTML object>"
            ],
            "text/html": [
              "\n",
              "    <div>\n",
              "      <progress value='3000' class='' max='3000' style='width:300px; height:20px; vertical-align: middle;'></progress>\n",
              "      100.00% [3000/3000 03:20&lt;00:00 Sampling chain 1, 0 divergences]\n",
              "    </div>\n",
              "    "
            ]
          },
          "metadata": {}
        }
      ]
    },
    {
      "cell_type": "code",
      "source": [
        "print(min)\n",
        "print(max)\n",
        "print(mu)\n",
        "print(sd)"
      ],
      "metadata": {
        "id": "eG2IW6wIveoD",
        "outputId": "f7886a3f-0f1c-42f6-f698-56f798d3bd07",
        "colab": {
          "base_uri": "https://localhost:8080/"
        }
      },
      "execution_count": 20,
      "outputs": [
        {
          "output_type": "stream",
          "name": "stdout",
          "text": [
            "{'objPermAbility': 9.0, 'visualAcuityAbility': 1.8, 'flatNavAbility': 0.0, 'lavaAbility': 0, 'rightAbility': 0, 'leftAbility': 0, 'aheadAbility': 0, 'CVChickAbility': 0, 'PCTBAbility': 0, 'lightsOutAbility': 0}\n",
            "{'objPermAbility': 708.0, 'visualAcuityAbility': 236.0, 'flatNavAbility': 1534.0, 'lavaAbility': 1, 'rightAbility': 1, 'leftAbility': 1, 'aheadAbility': 1, 'CVChickAbility': 1, 'PCTBAbility': 1, 'lightsOutAbility': 1}\n",
            "{'objPermAbility': 68.27569309300593, 'visualAcuityAbility': 198.745270327514, 'flatNavAbility': 1137.0497175229125, 'lavaAbility': 0.7537853911078123, 'rightAbility': 0.776894481918848, 'leftAbility': 0.7958785684815236, 'aheadAbility': 0.7035005187385123, 'CVChickAbility': 0.8577987241964238, 'PCTBAbility': 0.0019138266445144045, 'lightsOutAbility': 0.8368260112113131, 'noisePar': 0.574183295237347}\n",
            "{'objPermAbility': 10.133035488099392, 'visualAcuityAbility': 27.422028222570116, 'flatNavAbility': 220.59332712830857, 'lavaAbility': 0.16112893330874561, 'rightAbility': 0.14944488200369366, 'leftAbility': 0.1349907382093825, 'aheadAbility': 0.1875708432949314, 'CVChickAbility': 0.10066803945481516, 'PCTBAbility': 0.0019036768513677274, 'lightsOutAbility': 0.11320147401814827, 'noisePar': 0.011779228603649742}\n"
          ]
        }
      ]
    },
    {
      "cell_type": "code",
      "source": [
        "# A function for pulling out the means and standard deviations for abilities of interest\n",
        "def analyzeAgentResults(agentName, agentData, abilitiesToShow):\n",
        "\n",
        "  #abilityMeans = [] # empty list to add in ability means to\n",
        "  #abilitySDs = []\n",
        "\n",
        "  abilityMeans = {}\n",
        "  abilitySDs = {}\n",
        "\n",
        "  for a in abilitiesToShow: #iterate through each ability, add posterior mean to dataframe, and plot posterior\n",
        "\n",
        "    posteriorMean = float(np.mean(agentData['posterior'][a])) # calculate posterior mean\n",
        "    posteriorSD = float(np.std(agentData['posterior'][a])) #calculate posterior sd\n",
        "    abilityMeans[a] = posteriorMean\n",
        "    abilitySDs[a] = posteriorSD\n",
        "    #abilityMeans.append(posteriorMean)\n",
        "    #abilitySDs.append(posteriorSD)\n",
        "\n",
        "  return abilityMeans, abilitySDs\n",
        "\n",
        "# A function for padding the testing data with 0s for prediction\n",
        "def pad(testingData, trainingDataSize):\n",
        "    return testingData.append(pd.Series(np.zeros(trainingDataSize-len(testingData), dtype=int)))\n",
        "\n",
        "# A function for making predictions based on a fitted measurement layout\n",
        "def predict(m, agentData, dfTest, agent, len_training):\n",
        "  with m:\n",
        "    # set the data for prediction\n",
        "    pm.set_data({\"lavaPresence\": pad(dfTest[\"lavaPresence\"], len_training)})\n",
        "    pm.set_data({\"lightsOutPresence\": pad(dfTest[\"lightsOutPresence\"], len_training)})\n",
        "    #pm.set_data({\"rampPresence\": pad(dfTest[\"taskCriticalRampPresence\"], len_training)})\n",
        "    pm.set_data({\"numChoices\": pad(dfTest[\"numChoices\"], len_training)})\n",
        "    pm.set_data({\"minTurnsToGoal\": pad(dfTest[\"minNumTurnsRequired\"], len_training)})\n",
        "    pm.set_data({\"goalDistance\": pad(dfTest[\"cityBlockDistanceToGoal\"], len_training)})\n",
        "    pm.set_data({\"goalSize\": pad(dfTest[\"mainGoalSize\"], len_training)})\n",
        "    pm.set_data({\"goalRight\": pad(dfTest[\"goalRightRelToStart\"], len_training)})\n",
        "    pm.set_data({\"goalAhead\": pad(dfTest[\"goalCentreRelToStart\"], len_training)})\n",
        "    pm.set_data({\"goalLeft\": pad(dfTest[\"goalLeftRelToStart\"], len_training)})\n",
        "    pm.set_data({\"CVChickTest\": pad(dfTest[\"cvchickTask\"], len_training)})\n",
        "    pm.set_data({\"PCTBTest\": pad(dfTest[\"pctbTask\"], len_training)})\n",
        "    pm.set_data({\"allocentricOPTest\": pad(dfTest[\"goalBecomesAllocentricallyOccluded\"], len_training)})\n",
        "\n",
        "    predictions=pm.sample_posterior_predictive(agentData, var_names=[\"finalP\"], return_inferencedata=False,predictions=True,extend_inferencedata=False)\n",
        "    predictionChainRuns =predictions[\"finalP\"][:,:,0:len(dfTest)]\n",
        "    predictionsInstance = np.mean(predictionChainRuns, (0,1))\n",
        "\n",
        "    return predictionsInstance,  dfTest[agent].to_numpy()\n",
        "\n",
        "\n",
        "def brierScore(preds, outs):\n",
        "    return 1/len(preds) * sum( (preds-outs)**2 )\n",
        "\n",
        "def brierDecomp(preds, outs):\n",
        "\n",
        "  brier= 1/len(preds) * sum( (preds-outs)**2 )\n",
        "  ## bin predictions\n",
        "  bins = np.linspace(0,1,11)\n",
        "  binCenters = (bins[:-1] +bins[1:]) /2\n",
        "  binPredInds = np.digitize(preds,binCenters)\n",
        "  binnedPreds = bins[binPredInds]\n",
        "\n",
        "  binTrueFreqs = np.zeros(10)\n",
        "  binPredFreqs = np.zeros(10)\n",
        "  binCounts = np.zeros(10)\n",
        "\n",
        "  for i in range(10):\n",
        "      idx = (preds >= bins[i]) & (preds < bins[i+1])\n",
        "\n",
        "      binTrueFreqs[i] = np.sum(outs[idx])/np.sum(idx) if np.sum(idx) > 0 else 0\n",
        "     # print(np.sum(outs[idx]), np.sum(idx), binTrueFreqs[i])\n",
        "      binPredFreqs[i] = np.mean(preds[idx]) if np.sum(idx) > 0 else 0\n",
        "      binCounts[i] = np.sum(idx)\n",
        "\n",
        "  calibration = np.sum(binCounts * (binTrueFreqs - binPredFreqs) ** 2) / np.sum(binCounts) if np.sum(binCounts)>0 else 0\n",
        "  refinement = np.sum(binCounts * (binTrueFreqs *(1 - binTrueFreqs))) / np.sum(binCounts) if np.sum(binCounts)> 0 else 0\n",
        "  # Compute refinement component\n",
        "  #refinement = brier - calibration\n",
        "  return brier, calibration, refinement\n",
        "\n"
      ],
      "metadata": {
        "id": "-Rm-t0AkyvM6"
      },
      "execution_count": 13,
      "outputs": []
    },
    {
      "cell_type": "markdown",
      "source": [
        "## Run Complete Measurement Layout"
      ],
      "metadata": {
        "id": "ivfCdNnU4gel"
      }
    },
    {
      "cell_type": "code",
      "source": [
        "real_agent_names = [\"Random_Walker_Fixed_Forwards_Saccade_15_Angle_10_356\",\n",
        "                   \"Random_Walker_Fixed_Forwards_Saccade_15_Angle_10_1997\",\n",
        "                   \"Random_Walker_Fixed_Forwards_Saccade_15_Angle_10_2023\",\n",
        "                   \"Random_Walker_Fixed_Forwards_Saccade_15_Angle_10_1815\",\n",
        "                   \"Random_Walker_Fixed_Forwards_Saccade_15_Angle_10_3761\",\n",
        "                   \"Random_Walker_Rayleigh_Flight_Norm_Saccade_mu_15_sig_5_Uniform_Angles_1_to_60_356\",\n",
        "                   \"Random_Walker_Rayleigh_Flight_Norm_Saccade_mu_15_sig_5_Uniform_Angles_1_to_60_1997\",\n",
        "                   \"Random_Walker_Rayleigh_Flight_Norm_Saccade_mu_15_sig_5_Uniform_Angles_1_to_60_2023\",\n",
        "                   \"Random_Walker_Rayleigh_Flight_Norm_Saccade_mu_15_sig_5_Uniform_Angles_1_to_60_1815\",\n",
        "                   \"Random_Walker_Rayleigh_Flight_Norm_Saccade_mu_15_sig_5_Uniform_Angles_1_to_60_3761\",\n",
        "                   \"Random_Walker_Levy_Flight_Cauchy_Saccade_mode_15_Uniform_Angles_1_to_60_356\",\n",
        "                   \"Random_Walker_Levy_Flight_Cauchy_Saccade_mode_15_Uniform_Angles_1_to_60_1997\",\n",
        "                   \"Random_Walker_Levy_Flight_Cauchy_Saccade_mode_15_Uniform_Angles_1_to_60_2023\",\n",
        "                   \"Random_Walker_Levy_Flight_Cauchy_Saccade_mode_15_Uniform_Angles_1_to_60_1815\",\n",
        "                   \"Random_Walker_Levy_Flight_Cauchy_Saccade_mode_15_Uniform_Angles_1_to_60_3761\",\n",
        "                   \"Random_Action_Agent_no_bias_no_correlation_uniform_step_length_max_20_356\",\n",
        "                   \"Random_Action_Agent_no_bias_no_correlation_uniform_step_length_max_20_1997\",\n",
        "                    \"Random_Action_Agent_no_bias_no_correlation_uniform_step_length_max_20_2023\",\n",
        "                    \"Random_Action_Agent_no_bias_no_correlation_uniform_step_length_max_20_1815\",\n",
        "                    \"Random_Action_Agent_no_bias_no_correlation_uniform_step_length_max_20_3761\",\n",
        "                    \"Random_Action_Agent_cephalocaudal_bias_cauchy_step_length_mode_15_356\",\n",
        "                    \"Random_Action_Agent_cephalocaudal_bias_cauchy_step_length_mode_15_1997\",\n",
        "                    \"Random_Action_Agent_cephalocaudal_bias_cauchy_step_length_mode_15_2023\",\n",
        "                    \"Random_Action_Agent_cephalocaudal_bias_cauchy_step_length_mode_15_1815\",\n",
        "                    \"Random_Action_Agent_cephalocaudal_bias_cauchy_step_length_mode_15_3761\",\n",
        "                    \"Vanilla_Braitenberg_15_rays_over_60_degs_356\",\n",
        "                    \"Vanilla_Braitenberg_15_rays_over_60_degs_1997\",\n",
        "                    \"Vanilla_Braitenberg_15_rays_over_60_degs_2023\",\n",
        "                    \"Vanilla_Braitenberg_15_rays_over_60_degs_1815\",\n",
        "                    \"Vanilla_Braitenberg_15_rays_over_60_degs_3761\"]\n",
        "\n",
        "synthetic_agent_names = [\"perfectAgent\",\n",
        "                         \"failedAgent\",\n",
        "                         \"noOPAgent\",\n",
        "                         \"lowVisualAcuityAgent\",\n",
        "                         \"poorNavigationOPAgent\",\n",
        "                         \"CVChickBasicSpecificAgent\",\n",
        "                         \"PCTBBasicSpecificAgent\"]"
      ],
      "metadata": {
        "id": "FX62CLal3lQ8"
      },
      "execution_count": null,
      "outputs": []
    },
    {
      "cell_type": "code",
      "source": [
        "synthetic_agents_training, synthetic_agents_test = train_test_split(synthetic_agents_data, test_size = 0.2)\n",
        "real_agents_training, real_agents_test = train_test_split(agent_data, test_size=0.2)\n",
        "children_training, children_test = train_test_split(children_data, test_size=0.2)\n",
        "children_4_5_training, children_4_5_test = train_test_split(children_4_5_data, test_size=0.2)\n",
        "children_6_7_training, children_6_7_test = train_test_split(children_6_7_data, test_size=0.2)\n"
      ],
      "metadata": {
        "id": "Xlfsz3f63lJC"
      },
      "execution_count": null,
      "outputs": []
    },
    {
      "cell_type": "code",
      "source": [
        "abilitiesToShow = [\"objPermAbility\", \"visualAcuityAbility\", \"flatNavAbility\", \"lavaAbility\", \"rightAbility\", \"leftAbility\", \"aheadAbility\", \"CVChickAbility\", \"PCTBAbility\", \"lightsOutAbility\", \"noisePar\"]\n",
        "\n",
        "pymc_sample_num = 2000\n",
        "\n",
        "slack = 1"
      ],
      "metadata": {
        "id": "LZ2sA86g3lGU"
      },
      "execution_count": null,
      "outputs": []
    },
    {
      "cell_type": "code",
      "source": [
        "agentName = []\n",
        "modelBrierScore = []\n",
        "aggregateBrierScore = []\n",
        "modelCalibration = []\n",
        "aggregateCalibration = []\n",
        "modelRefinement = []\n",
        "aggregateRefinement = []\n",
        "modelBetterThanAgg = []\n",
        "meanSuccess = []\n",
        "OPAbilityAllMean = []\n",
        "navAbilityAllMean = []\n",
        "visualAcuityAbilityAllMean = []\n",
        "flatNavAbilityAllMean = []\n",
        "lavaAbilityAllMean = []\n",
        "rightAbilityAllMean = []\n",
        "leftAbilityAllMean = []\n",
        "aheadAbilityAllMean = []\n",
        "CVChickAbilityAllMean = []\n",
        "PCTBAbilityAllMean = []\n",
        "lightsOutAbilityAllMean = []\n",
        "noiseParAllMean = []\n",
        "OPAbilityAllSD = []\n",
        "navAbilityAllSD = []\n",
        "visualAcuityAbilityAllSD = []\n",
        "flatNavAbilityAllSD = []\n",
        "lavaAbilityAllSD = []\n",
        "rightAbilityAllSD = []\n",
        "leftAbilityAllSD = []\n",
        "aheadAbilityAllSD = []\n",
        "CVChickAbilityAllSD = []\n",
        "PCTBAbilityAllSD = []\n",
        "lightsOutAbilityAllSD = []\n",
        "noiseParAllSD = []\n",
        "OPAbilityAllMin = []\n",
        "navAbilityAllMin = []\n",
        "visualAcuityAbilityAllMin = []\n",
        "flatNavAbilityAllMin = []\n",
        "lavaAbilityAllMin = []\n",
        "rightAbilityAllMin = []\n",
        "leftAbilityAllMin = []\n",
        "aheadAbilityAllMin = []\n",
        "CVChickAbilityAllMin = []\n",
        "PCTBAbilityAllMin = []\n",
        "lightsOutAbilityAllMin = []\n",
        "noiseParAllMin = []\n",
        "OPAbilityAllMax = []\n",
        "navAbilityAllMax = []\n",
        "visualAcuityAbilityAllMax = []\n",
        "flatNavAbilityAllMax = []\n",
        "lavaAbilityAllMax = []\n",
        "rightAbilityAllMax = []\n",
        "leftAbilityAllMax = []\n",
        "aheadAbilityAllMax = []\n",
        "CVChickAbilityAllMax = []\n",
        "PCTBAbilityAllMax = []\n",
        "lightsOutAbilityAllMax = []\n",
        "noiseParAllMax = []"
      ],
      "metadata": {
        "id": "TVZLICbM-PPp"
      },
      "execution_count": null,
      "outputs": []
    },
    {
      "cell_type": "code",
      "source": [
        "for agent in synthetic_agent_names:\n",
        "  model_train, min, max = SetupModel(synthetic_agents_training, uniformAbilitySlack=slack, agent_type='agent', agent_name=agent, sample = None)\n",
        "  with model_train:\n",
        "    data_training = pm.sample(pymc_sample_num, target_accept=0.95)\n",
        "\n",
        "  predictions, testOutputs = predict(model_train, data_training, synthetic_agents_test, agent, len(synthetic_agents_training))\n",
        "  agentBrierScore, agentCalibration, agentRefinement = brierDecomp(predictions, testOutputs)\n",
        "  agentAggBrierScore, agentAggCalibration, agentAggRefinement = brierDecomp(np.repeat(np.mean(synthetic_agents_training[agent]), len(testOutputs)), testOutputs)\n",
        "  aggregateBrierScore.append(agentAggBrierScore)\n",
        "  aggregateCalibration.append(agentAggCalibration)\n",
        "  aggregateRefinement.append(agentAggRefinement)\n",
        "  modelBrierScore.append(agentBrierScore)\n",
        "  modelCalibration.append(agentCalibration)\n",
        "  modelRefinement.append(agentRefinement)\n",
        "  if agentBrierScore < agentAggBrierScore:\n",
        "    modelBetterThanAgg.append(True)\n",
        "  else:\n",
        "    modelBetterThanAgg.append(False)\n",
        "\n",
        "  model_all, min, max = SetupModel(synthetic_agents_data, uniformAbilitySlack=slack, agent_type='agent', agent_name=agent, sample = None)\n",
        "  with model_all:\n",
        "    data_all = pm.sample(pymc_sample_num, target_accept=0.95)\n",
        "  mu, sd  = analyzeAgentResults(agent, data_all, abilitiesToShow)\n",
        "\n",
        "  OPAbilityAllMean.append(mu[\"objPermAbility\"])\n",
        "  visualAcuityAbilityAllMean.append(mu[\"visualAcuityAbility\"])\n",
        "  flatNavAbilityAllMean.append(mu[\"flatNavAbility\"])\n",
        "  lavaAbilityAllMean.append(mu[\"lavaAbility\"])\n",
        "  rightAbilityAllMean.append(mu[\"rightAbility\"])\n",
        "  leftAbilityAllMean.append(mu[\"leftAbility\"])\n",
        "  aheadAbilityAllMean.append(mu[\"aheadAbility\"])\n",
        "  CVChickAbilityAllMean.append(mu[\"CVChickAbility\"])\n",
        "  PCTBAbilityAllMean.append(mu[\"PCTBAbility\"])\n",
        "  lightsOutAbilityAllMean.append(mu[\"lightsOutAbility\"])\n",
        "  noiseParAllMean.append(mu[\"noisePar\"])\n",
        "  OPAbilityAllSD.append(sd[\"objPermAbility\"])\n",
        "  visualAcuityAbilityAllSD.append(sd[\"visualAcuityAbility\"])\n",
        "  flatNavAbilityAllSD.append(sd[\"flatNavAbility\"])\n",
        "  lavaAbilityAllSD.append(sd[\"lavaAbility\"])\n",
        "  rightAbilityAllSD.append(sd[\"rightAbility\"])\n",
        "  leftAbilityAllSD.append(sd[\"leftAbility\"])\n",
        "  aheadAbilityAllSD.append(sd[\"aheadAbility\"])\n",
        "  CVChickAbilityAllSD.append(sd[\"CVChickAbility\"])\n",
        "  PCTBAbilityAllSD.append(sd[\"PCTBAbility\"])\n",
        "  lightsOutAbilityAllSD.append(sd[\"lightsOutAbility\"])\n",
        "  noiseParAllSD.append(sd[\"noisePar\"])\n",
        "  OPAbilityAllMin.append(min[\"objPermAbility\"])\n",
        "  visualAcuityAbilityAllMin.append(min[\"visualAcuityAbility\"])\n",
        "  flatNavAbilityAllMin.append(min[\"flatNavAbility\"])\n",
        "  lavaAbilityAllMin.append(min[\"lavaAbility\"])\n",
        "  rightAbilityAllMin.append(min[\"rightAbility\"])\n",
        "  leftAbilityAllMin.append(min[\"leftAbility\"])\n",
        "  aheadAbilityAllMin.append(min[\"aheadAbility\"])\n",
        "  CVChickAbilityAllMin.append(min[\"CVChickAbility\"])\n",
        "  PCTBAbilityAllMin.append(min[\"PCTBAbility\"])\n",
        "  lightsOutAbilityAllMin.append(min[\"lightsOutAbility\"])\n",
        "  noiseParAllMin.append(0)\n",
        "  OPAbilityAllMax.append(max[\"objPermAbility\"])\n",
        "  visualAcuityAbilityAllMax.append(max[\"visualAcuityAbility\"])\n",
        "  flatNavAbilityAllMax.append(max[\"flatNavAbility\"])\n",
        "  lavaAbilityAllMax.append(max[\"lavaAbility\"])\n",
        "  rightAbilityAllMax.append(max[\"rightAbility\"])\n",
        "  leftAbilityAllMax.append(max[\"leftAbility\"])\n",
        "  aheadAbilityAllMax.append(max[\"aheadAbility\"])\n",
        "  CVChickAbilityAllMax.append(max[\"CVChickAbility\"])\n",
        "  PCTBAbilityAllMax.append(max[\"PCTBAbility\"])\n",
        "  lightsOutAbilityAllMax.append(max[\"lightsOutAbility\"])\n",
        "  noiseParAllMax.append(1)\n",
        "\n",
        "  meanSuccess.append(np.mean(synthetic_agents_data[agent]))\n",
        "  agentName.append(agent)\n",
        "\n",
        "  finalDF = pd.DataFrame({\"Agent Name\": agentName,\n",
        "                          \"Model Brier Score\":modelBrierScore,\n",
        "                          \"Aggregate Brier Scores\": aggregateBrierScore,\n",
        "                          \"Model Calibration\": modelCalibration,\n",
        "                          \"Aggregate Calibration\":aggregateCalibration,\n",
        "                          \"Model Refinement\":modelRefinement,\n",
        "                          \"Aggregate Refinement\":aggregateRefinement,\n",
        "                          \"Model Better? (Based on Brier Score)\":modelBetterThanAgg,\n",
        "                          \"Success Score\":meanSuccess,\n",
        "                          \"Object Permanence Ability Mean (All)\": OPAbilityAllMean,\n",
        "                          \"Visual Acuity Ability Mean (All)\" : visualAcuityAbilityAllMean,\n",
        "                          \"Flat Navigation Ability Mean (All)\" : flatNavAbilityAllMean,\n",
        "                          \"Lava Ability Mean (All)\" : lavaAbilityAllMean,\n",
        "                          \"Right Ability Mean (All)\" : rightAbilityAllMean,\n",
        "                          \"Left Ability Mean (All)\" : leftAbilityAllMean,\n",
        "                          \"Ahead Ability Mean (All)\" : aheadAbilityAllMean,\n",
        "                          \"CVChick Ability Mean (All)\" : CVChickAbilityAllMean,\n",
        "                          \"PCTB Ability Mean (All)\" :  PCTBAbilityAllMean,\n",
        "                          \"Lights Out Ability Mean (All)\" : lightsOutAbilityAllMean,\n",
        "                          \"Noise Parameter Mean (All)\" : noiseParAllMean,\n",
        "                          \"Object Permanence Ability SD (All)\": OPAbilityAllSD,\n",
        "                          \"Visual Acuity Ability SD (All)\" : visualAcuityAbilityAllSD,\n",
        "                          \"Flat Navigation Ability SD (All)\" : flatNavAbilityAllSD,\n",
        "                          \"Lava Ability SD (All)\" : lavaAbilityAllSD,\n",
        "                          \"Right Ability SD (All)\" : rightAbilityAllSD,\n",
        "                          \"Left Ability SD (All)\" : leftAbilityAllSD,\n",
        "                          \"Ahead Ability SD (All)\" : aheadAbilityAllSD,\n",
        "                          \"CVChick Ability SD (All)\" : CVChickAbilityAllSD,\n",
        "                          \"PCTB Ability SD (All)\" :  PCTBAbilityAllSD,\n",
        "                          \"Lights Out Ability SD (All)\" : lightsOutAbilityAllSD,\n",
        "                          \"Noise Parameter SD (All)\" : noiseParAllSD,\n",
        "                          \"Object Permanence Ability Min (All)\": OPAbilityAllMin,\n",
        "                          \"Visual Acuity Ability Min (All)\" : visualAcuityAbilityAllMin,\n",
        "                          \"Flat Navigation Ability Min (All)\" : flatNavAbilityAllMin,\n",
        "                          \"Lava Ability Min (All)\" : lavaAbilityAllMin,\n",
        "                          \"Right Ability Min (All)\" : rightAbilityAllMin,\n",
        "                          \"Left Ability Min (All)\" : leftAbilityAllMin,\n",
        "                          \"Ahead Ability Min (All)\" : aheadAbilityAllMin,\n",
        "                          \"CVChick Ability Min (All)\" : CVChickAbilityAllMin,\n",
        "                          \"PCTB Ability Min (All)\" :  PCTBAbilityAllMin,\n",
        "                          \"Lights Out Ability Min (All)\" : lightsOutAbilityAllMin,\n",
        "                          \"Noise Parameter Min (All)\" : noiseParAllMin,\n",
        "                          \"Object Permanence Ability Max (All)\": OPAbilityAllMax,\n",
        "                          \"Visual Acuity Ability Max (All)\" : visualAcuityAbilityAllMax,\n",
        "                          \"Flat Navigation Ability Max (All)\" : flatNavAbilityAllMax,\n",
        "                          \"Lava Ability Max (All)\" : lavaAbilityAllMax,\n",
        "                          \"Right Ability Max (All)\" : rightAbilityAllMax,\n",
        "                          \"Left Ability Max (All)\" : leftAbilityAllMax,\n",
        "                          \"Ahead Ability Max (All)\" : aheadAbilityAllMax,\n",
        "                          \"CVChick Ability Max (All)\" : CVChickAbilityAllMax,\n",
        "                          \"PCTB Ability Max (All)\" :  PCTBAbilityAllMax,\n",
        "                          \"Lights Out Ability Max (All)\" : lightsOutAbilityAllMax,\n",
        "                          \"Noise Parameter Max (All)\" : noiseParAllMax})\n",
        "  finalDF.to_csv(\"/content/drive/Shareddrives/comparative-object-permanence/finalResults.csv\", index = False)"
      ],
      "metadata": {
        "id": "RcYu10Z73lD1"
      },
      "execution_count": null,
      "outputs": []
    },
    {
      "cell_type": "code",
      "source": [
        "for agent in real_agent_names:\n",
        "  model_train, min, max = SetupModel(real_agents_training, uniformAbilitySlack=slack, agent_type='agent', agent_name=agent, sample = None)\n",
        "  with model_train:\n",
        "    data_training = pm.sample(pymc_sample_num, target_accept=0.95)\n",
        "\n",
        "  predictions, testOutputs = predict(model_train, data_training, real_agents_test, agent, len(real_agents_training))\n",
        "  agentBrierScore, agentCalibration, agentRefinement = brierDecomp(predictions, testOutputs)\n",
        "  agentAggBrierScore, agentAggCalibration, agentAggRefinement = brierDecomp(np.repeat(np.mean(real_agents_training[agent]), len(testOutputs)), testOutputs)\n",
        "  aggregateBrierScore.append(agentAggBrierScore)\n",
        "  aggregateCalibration.append(agentAggCalibration)\n",
        "  aggregateRefinement.append(agentAggRefinement)\n",
        "  modelBrierScore.append(agentBrierScore)\n",
        "  modelCalibration.append(agentCalibration)\n",
        "  modelRefinement.append(agentRefinement)\n",
        "  if agentBrierScore < agentAggBrierScore:\n",
        "    modelBetterThanAgg.append(True)\n",
        "  else:\n",
        "    modelBetterThanAgg.append(False)\n",
        "\n",
        "  model_all, min, max = SetupModel(agent_data, uniformAbilitySlack=slack, agent_type='agent', agent_name=agent, sample = None)\n",
        "  with model_all:\n",
        "    data_all = pm.sample(pymc_sample_num, target_accept=0.95)\n",
        "  mu, sd  = analyzeAgentResults(agent, data_all, abilitiesToShow)\n",
        "\n",
        "  OPAbilityAllMean.append(mu[\"objPermAbility\"])\n",
        "  visualAcuityAbilityAllMean.append(mu[\"visualAcuityAbility\"])\n",
        "  flatNavAbilityAllMean.append(mu[\"flatNavAbility\"])\n",
        "  lavaAbilityAllMean.append(mu[\"lavaAbility\"])\n",
        "  rightAbilityAllMean.append(mu[\"rightAbility\"])\n",
        "  leftAbilityAllMean.append(mu[\"leftAbility\"])\n",
        "  aheadAbilityAllMean.append(mu[\"aheadAbility\"])\n",
        "  CVChickAbilityAllMean.append(mu[\"CVChickAbility\"])\n",
        "  PCTBAbilityAllMean.append(mu[\"PCTBAbility\"])\n",
        "  lightsOutAbilityAllMean.append(mu[\"lightsOutAbility\"])\n",
        "  noiseParAllMean.append(mu[\"noisePar\"])\n",
        "  OPAbilityAllSD.append(sd[\"objPermAbility\"])\n",
        "  visualAcuityAbilityAllSD.append(sd[\"visualAcuityAbility\"])\n",
        "  flatNavAbilityAllSD.append(sd[\"flatNavAbility\"])\n",
        "  lavaAbilityAllSD.append(sd[\"lavaAbility\"])\n",
        "  rightAbilityAllSD.append(sd[\"rightAbility\"])\n",
        "  leftAbilityAllSD.append(sd[\"leftAbility\"])\n",
        "  aheadAbilityAllSD.append(sd[\"aheadAbility\"])\n",
        "  CVChickAbilityAllSD.append(sd[\"CVChickAbility\"])\n",
        "  PCTBAbilityAllSD.append(sd[\"PCTBAbility\"])\n",
        "  lightsOutAbilityAllSD.append(sd[\"lightsOutAbility\"])\n",
        "  noiseParAllSD.append(sd[\"noisePar\"])\n",
        "  OPAbilityAllMin.append(min[\"objPermAbility\"])\n",
        "  visualAcuityAbilityAllMin.append(min[\"visualAcuityAbility\"])\n",
        "  flatNavAbilityAllMin.append(min[\"flatNavAbility\"])\n",
        "  lavaAbilityAllMin.append(min[\"lavaAbility\"])\n",
        "  rightAbilityAllMin.append(min[\"rightAbility\"])\n",
        "  leftAbilityAllMin.append(min[\"leftAbility\"])\n",
        "  aheadAbilityAllMin.append(min[\"aheadAbility\"])\n",
        "  CVChickAbilityAllMin.append(min[\"CVChickAbility\"])\n",
        "  PCTBAbilityAllMin.append(min[\"PCTBAbility\"])\n",
        "  lightsOutAbilityAllMin.append(min[\"lightsOutAbility\"])\n",
        "  noiseParAllMin.append(0)\n",
        "  OPAbilityAllMax.append(max[\"objPermAbility\"])\n",
        "  visualAcuityAbilityAllMax.append(max[\"visualAcuityAbility\"])\n",
        "  flatNavAbilityAllMax.append(max[\"flatNavAbility\"])\n",
        "  lavaAbilityAllMax.append(max[\"lavaAbility\"])\n",
        "  rightAbilityAllMax.append(max[\"rightAbility\"])\n",
        "  leftAbilityAllMax.append(max[\"leftAbility\"])\n",
        "  aheadAbilityAllMax.append(max[\"aheadAbility\"])\n",
        "  CVChickAbilityAllMax.append(max[\"CVChickAbility\"])\n",
        "  PCTBAbilityAllMax.append(max[\"PCTBAbility\"])\n",
        "  lightsOutAbilityAllMax.append(max[\"lightsOutAbility\"])\n",
        "  noiseParAllMax.append(1)\n",
        "\n",
        "  meanSuccess.append(np.mean(agent_data[agent]))\n",
        "  agentName.append(agent)\n",
        "\n",
        "  finalDF = pd.DataFrame({\"Agent Name\": agentName,\n",
        "                          \"Model Brier Score\":modelBrierScore,\n",
        "                          \"Aggregate Brier Scores\": aggregateBrierScore,\n",
        "                          \"Model Calibration\": modelCalibration,\n",
        "                          \"Aggregate Calibration\":aggregateCalibration,\n",
        "                          \"Model Refinement\":modelRefinement,\n",
        "                          \"Aggregate Refinement\":aggregateRefinement,\n",
        "                          \"Model Better? (Based on Brier Score)\":modelBetterThanAgg,\n",
        "                          \"Success Score\":meanSuccess,\n",
        "                          \"Object Permanence Ability Mean (All)\": OPAbilityAllMean,\n",
        "                          \"Visual Acuity Ability Mean (All)\" : visualAcuityAbilityAllMean,\n",
        "                          \"Flat Navigation Ability Mean (All)\" : flatNavAbilityAllMean,\n",
        "                          \"Lava Ability Mean (All)\" : lavaAbilityAllMean,\n",
        "                          \"Right Ability Mean (All)\" : rightAbilityAllMean,\n",
        "                          \"Left Ability Mean (All)\" : leftAbilityAllMean,\n",
        "                          \"Ahead Ability Mean (All)\" : aheadAbilityAllMean,\n",
        "                          \"CVChick Ability Mean (All)\" : CVChickAbilityAllMean,\n",
        "                          \"PCTB Ability Mean (All)\" :  PCTBAbilityAllMean,\n",
        "                          \"Lights Out Ability Mean (All)\" : lightsOutAbilityAllMean,\n",
        "                          \"Noise Parameter Mean (All)\" : noiseParAllMean,\n",
        "                          \"Object Permanence Ability SD (All)\": OPAbilityAllSD,\n",
        "                          \"Visual Acuity Ability SD (All)\" : visualAcuityAbilityAllSD,\n",
        "                          \"Flat Navigation Ability SD (All)\" : flatNavAbilityAllSD,\n",
        "                          \"Lava Ability SD (All)\" : lavaAbilityAllSD,\n",
        "                          \"Right Ability SD (All)\" : rightAbilityAllSD,\n",
        "                          \"Left Ability SD (All)\" : leftAbilityAllSD,\n",
        "                          \"Ahead Ability SD (All)\" : aheadAbilityAllSD,\n",
        "                          \"CVChick Ability SD (All)\" : CVChickAbilityAllSD,\n",
        "                          \"PCTB Ability SD (All)\" :  PCTBAbilityAllSD,\n",
        "                          \"Lights Out Ability SD (All)\" : lightsOutAbilityAllSD,\n",
        "                          \"Noise Parameter SD (All)\" : noiseParAllSD,\n",
        "                          \"Object Permanence Ability Min (All)\": OPAbilityAllMin,\n",
        "                          \"Visual Acuity Ability Min (All)\" : visualAcuityAbilityAllMin,\n",
        "                          \"Flat Navigation Ability Min (All)\" : flatNavAbilityAllMin,\n",
        "                          \"Lava Ability Min (All)\" : lavaAbilityAllMin,\n",
        "                          \"Right Ability Min (All)\" : rightAbilityAllMin,\n",
        "                          \"Left Ability Min (All)\" : leftAbilityAllMin,\n",
        "                          \"Ahead Ability Min (All)\" : aheadAbilityAllMin,\n",
        "                          \"CVChick Ability Min (All)\" : CVChickAbilityAllMin,\n",
        "                          \"PCTB Ability Min (All)\" :  PCTBAbilityAllMin,\n",
        "                          \"Lights Out Ability Min (All)\" : lightsOutAbilityAllMin,\n",
        "                          \"Noise Parameter Min (All)\" : noiseParAllMin,\n",
        "                          \"Object Permanence Ability Max (All)\": OPAbilityAllMax,\n",
        "                          \"Visual Acuity Ability Max (All)\" : visualAcuityAbilityAllMax,\n",
        "                          \"Flat Navigation Ability Max (All)\" : flatNavAbilityAllMax,\n",
        "                          \"Lava Ability Max (All)\" : lavaAbilityAllMax,\n",
        "                          \"Right Ability Max (All)\" : rightAbilityAllMax,\n",
        "                          \"Left Ability Max (All)\" : leftAbilityAllMax,\n",
        "                          \"Ahead Ability Max (All)\" : aheadAbilityAllMax,\n",
        "                          \"CVChick Ability Max (All)\" : CVChickAbilityAllMax,\n",
        "                          \"PCTB Ability Max (All)\" :  PCTBAbilityAllMax,\n",
        "                          \"Lights Out Ability Max (All)\" : lightsOutAbilityAllMax,\n",
        "                          \"Noise Parameter Max (All)\" : noiseParAllMax})\n",
        "  finalDF.to_csv(\"/content/drive/Shareddrives/comparative-object-permanence/finalResults.csv\", index = False)"
      ],
      "metadata": {
        "id": "UMRh6EsaaYJY",
        "outputId": "f68d9aec-ca80-4a44-a47c-66411d23a2ad",
        "colab": {
          "base_uri": "https://localhost:8080/",
          "height": 1000
        }
      },
      "execution_count": null,
      "outputs": [
        {
          "output_type": "display_data",
          "data": {
            "text/plain": [
              "<IPython.core.display.HTML object>"
            ],
            "text/html": [
              "\n",
              "<style>\n",
              "    /* Turns off some styling */\n",
              "    progress {\n",
              "        /* gets rid of default border in Firefox and Opera. */\n",
              "        border: none;\n",
              "        /* Needs to be in here for Safari polyfill so background images work as expected. */\n",
              "        background-size: auto;\n",
              "    }\n",
              "    progress:not([value]), progress:not([value])::-webkit-progress-bar {\n",
              "        background: repeating-linear-gradient(45deg, #7e7e7e, #7e7e7e 10px, #5c5c5c 10px, #5c5c5c 20px);\n",
              "    }\n",
              "    .progress-bar-interrupted, .progress-bar-interrupted::-webkit-progress-bar {\n",
              "        background: #F44336;\n",
              "    }\n",
              "</style>\n"
            ]
          },
          "metadata": {}
        },
        {
          "output_type": "display_data",
          "data": {
            "text/plain": [
              "<IPython.core.display.HTML object>"
            ],
            "text/html": [
              "\n",
              "    <div>\n",
              "      <progress value='3000' class='' max='3000' style='width:300px; height:20px; vertical-align: middle;'></progress>\n",
              "      100.00% [3000/3000 02:09&lt;00:00 Sampling chain 0, 0 divergences]\n",
              "    </div>\n",
              "    "
            ]
          },
          "metadata": {}
        },
        {
          "output_type": "display_data",
          "data": {
            "text/plain": [
              "<IPython.core.display.HTML object>"
            ],
            "text/html": [
              "\n",
              "<style>\n",
              "    /* Turns off some styling */\n",
              "    progress {\n",
              "        /* gets rid of default border in Firefox and Opera. */\n",
              "        border: none;\n",
              "        /* Needs to be in here for Safari polyfill so background images work as expected. */\n",
              "        background-size: auto;\n",
              "    }\n",
              "    progress:not([value]), progress:not([value])::-webkit-progress-bar {\n",
              "        background: repeating-linear-gradient(45deg, #7e7e7e, #7e7e7e 10px, #5c5c5c 10px, #5c5c5c 20px);\n",
              "    }\n",
              "    .progress-bar-interrupted, .progress-bar-interrupted::-webkit-progress-bar {\n",
              "        background: #F44336;\n",
              "    }\n",
              "</style>\n"
            ]
          },
          "metadata": {}
        },
        {
          "output_type": "display_data",
          "data": {
            "text/plain": [
              "<IPython.core.display.HTML object>"
            ],
            "text/html": [
              "\n",
              "    <div>\n",
              "      <progress value='3000' class='' max='3000' style='width:300px; height:20px; vertical-align: middle;'></progress>\n",
              "      100.00% [3000/3000 02:09&lt;00:00 Sampling chain 1, 0 divergences]\n",
              "    </div>\n",
              "    "
            ]
          },
          "metadata": {}
        },
        {
          "output_type": "stream",
          "name": "stderr",
          "text": [
            "<ipython-input-8-175c2f4f91ba>:23: FutureWarning: The series.append method is deprecated and will be removed from pandas in a future version. Use pandas.concat instead.\n",
            "  return testingData.append(pd.Series(np.zeros(trainingDataSize-len(testingData), dtype=int)))\n",
            "<ipython-input-8-175c2f4f91ba>:23: FutureWarning: The series.append method is deprecated and will be removed from pandas in a future version. Use pandas.concat instead.\n",
            "  return testingData.append(pd.Series(np.zeros(trainingDataSize-len(testingData), dtype=int)))\n",
            "<ipython-input-8-175c2f4f91ba>:23: FutureWarning: The series.append method is deprecated and will be removed from pandas in a future version. Use pandas.concat instead.\n",
            "  return testingData.append(pd.Series(np.zeros(trainingDataSize-len(testingData), dtype=int)))\n",
            "<ipython-input-8-175c2f4f91ba>:23: FutureWarning: The series.append method is deprecated and will be removed from pandas in a future version. Use pandas.concat instead.\n",
            "  return testingData.append(pd.Series(np.zeros(trainingDataSize-len(testingData), dtype=int)))\n",
            "<ipython-input-8-175c2f4f91ba>:23: FutureWarning: The series.append method is deprecated and will be removed from pandas in a future version. Use pandas.concat instead.\n",
            "  return testingData.append(pd.Series(np.zeros(trainingDataSize-len(testingData), dtype=int)))\n",
            "<ipython-input-8-175c2f4f91ba>:23: FutureWarning: The series.append method is deprecated and will be removed from pandas in a future version. Use pandas.concat instead.\n",
            "  return testingData.append(pd.Series(np.zeros(trainingDataSize-len(testingData), dtype=int)))\n",
            "<ipython-input-8-175c2f4f91ba>:23: FutureWarning: The series.append method is deprecated and will be removed from pandas in a future version. Use pandas.concat instead.\n",
            "  return testingData.append(pd.Series(np.zeros(trainingDataSize-len(testingData), dtype=int)))\n",
            "<ipython-input-8-175c2f4f91ba>:23: FutureWarning: The series.append method is deprecated and will be removed from pandas in a future version. Use pandas.concat instead.\n",
            "  return testingData.append(pd.Series(np.zeros(trainingDataSize-len(testingData), dtype=int)))\n",
            "<ipython-input-8-175c2f4f91ba>:23: FutureWarning: The series.append method is deprecated and will be removed from pandas in a future version. Use pandas.concat instead.\n",
            "  return testingData.append(pd.Series(np.zeros(trainingDataSize-len(testingData), dtype=int)))\n",
            "<ipython-input-8-175c2f4f91ba>:23: FutureWarning: The series.append method is deprecated and will be removed from pandas in a future version. Use pandas.concat instead.\n",
            "  return testingData.append(pd.Series(np.zeros(trainingDataSize-len(testingData), dtype=int)))\n",
            "<ipython-input-8-175c2f4f91ba>:23: FutureWarning: The series.append method is deprecated and will be removed from pandas in a future version. Use pandas.concat instead.\n",
            "  return testingData.append(pd.Series(np.zeros(trainingDataSize-len(testingData), dtype=int)))\n",
            "<ipython-input-8-175c2f4f91ba>:23: FutureWarning: The series.append method is deprecated and will be removed from pandas in a future version. Use pandas.concat instead.\n",
            "  return testingData.append(pd.Series(np.zeros(trainingDataSize-len(testingData), dtype=int)))\n"
          ]
        },
        {
          "output_type": "display_data",
          "data": {
            "text/plain": [
              "<IPython.core.display.HTML object>"
            ],
            "text/html": [
              "\n",
              "<style>\n",
              "    /* Turns off some styling */\n",
              "    progress {\n",
              "        /* gets rid of default border in Firefox and Opera. */\n",
              "        border: none;\n",
              "        /* Needs to be in here for Safari polyfill so background images work as expected. */\n",
              "        background-size: auto;\n",
              "    }\n",
              "    progress:not([value]), progress:not([value])::-webkit-progress-bar {\n",
              "        background: repeating-linear-gradient(45deg, #7e7e7e, #7e7e7e 10px, #5c5c5c 10px, #5c5c5c 20px);\n",
              "    }\n",
              "    .progress-bar-interrupted, .progress-bar-interrupted::-webkit-progress-bar {\n",
              "        background: #F44336;\n",
              "    }\n",
              "</style>\n"
            ]
          },
          "metadata": {}
        },
        {
          "output_type": "display_data",
          "data": {
            "text/plain": [
              "<IPython.core.display.HTML object>"
            ],
            "text/html": [
              "\n",
              "    <div>\n",
              "      <progress value='4000' class='' max='4000' style='width:300px; height:20px; vertical-align: middle;'></progress>\n",
              "      100.00% [4000/4000 00:02&lt;00:00]\n",
              "    </div>\n",
              "    "
            ]
          },
          "metadata": {}
        },
        {
          "output_type": "display_data",
          "data": {
            "text/plain": [
              "<IPython.core.display.HTML object>"
            ],
            "text/html": [
              "\n",
              "<style>\n",
              "    /* Turns off some styling */\n",
              "    progress {\n",
              "        /* gets rid of default border in Firefox and Opera. */\n",
              "        border: none;\n",
              "        /* Needs to be in here for Safari polyfill so background images work as expected. */\n",
              "        background-size: auto;\n",
              "    }\n",
              "    progress:not([value]), progress:not([value])::-webkit-progress-bar {\n",
              "        background: repeating-linear-gradient(45deg, #7e7e7e, #7e7e7e 10px, #5c5c5c 10px, #5c5c5c 20px);\n",
              "    }\n",
              "    .progress-bar-interrupted, .progress-bar-interrupted::-webkit-progress-bar {\n",
              "        background: #F44336;\n",
              "    }\n",
              "</style>\n"
            ]
          },
          "metadata": {}
        },
        {
          "output_type": "display_data",
          "data": {
            "text/plain": [
              "<IPython.core.display.HTML object>"
            ],
            "text/html": [
              "\n",
              "    <div>\n",
              "      <progress value='3000' class='' max='3000' style='width:300px; height:20px; vertical-align: middle;'></progress>\n",
              "      100.00% [3000/3000 02:33&lt;00:00 Sampling chain 0, 0 divergences]\n",
              "    </div>\n",
              "    "
            ]
          },
          "metadata": {}
        },
        {
          "output_type": "display_data",
          "data": {
            "text/plain": [
              "<IPython.core.display.HTML object>"
            ],
            "text/html": [
              "\n",
              "<style>\n",
              "    /* Turns off some styling */\n",
              "    progress {\n",
              "        /* gets rid of default border in Firefox and Opera. */\n",
              "        border: none;\n",
              "        /* Needs to be in here for Safari polyfill so background images work as expected. */\n",
              "        background-size: auto;\n",
              "    }\n",
              "    progress:not([value]), progress:not([value])::-webkit-progress-bar {\n",
              "        background: repeating-linear-gradient(45deg, #7e7e7e, #7e7e7e 10px, #5c5c5c 10px, #5c5c5c 20px);\n",
              "    }\n",
              "    .progress-bar-interrupted, .progress-bar-interrupted::-webkit-progress-bar {\n",
              "        background: #F44336;\n",
              "    }\n",
              "</style>\n"
            ]
          },
          "metadata": {}
        },
        {
          "output_type": "display_data",
          "data": {
            "text/plain": [
              "<IPython.core.display.HTML object>"
            ],
            "text/html": [
              "\n",
              "    <div>\n",
              "      <progress value='3000' class='' max='3000' style='width:300px; height:20px; vertical-align: middle;'></progress>\n",
              "      100.00% [3000/3000 02:37&lt;00:00 Sampling chain 1, 0 divergences]\n",
              "    </div>\n",
              "    "
            ]
          },
          "metadata": {}
        },
        {
          "output_type": "display_data",
          "data": {
            "text/plain": [
              "<IPython.core.display.HTML object>"
            ],
            "text/html": [
              "\n",
              "<style>\n",
              "    /* Turns off some styling */\n",
              "    progress {\n",
              "        /* gets rid of default border in Firefox and Opera. */\n",
              "        border: none;\n",
              "        /* Needs to be in here for Safari polyfill so background images work as expected. */\n",
              "        background-size: auto;\n",
              "    }\n",
              "    progress:not([value]), progress:not([value])::-webkit-progress-bar {\n",
              "        background: repeating-linear-gradient(45deg, #7e7e7e, #7e7e7e 10px, #5c5c5c 10px, #5c5c5c 20px);\n",
              "    }\n",
              "    .progress-bar-interrupted, .progress-bar-interrupted::-webkit-progress-bar {\n",
              "        background: #F44336;\n",
              "    }\n",
              "</style>\n"
            ]
          },
          "metadata": {}
        },
        {
          "output_type": "display_data",
          "data": {
            "text/plain": [
              "<IPython.core.display.HTML object>"
            ],
            "text/html": [
              "\n",
              "    <div>\n",
              "      <progress value='3000' class='' max='3000' style='width:300px; height:20px; vertical-align: middle;'></progress>\n",
              "      100.00% [3000/3000 02:00&lt;00:00 Sampling chain 0, 0 divergences]\n",
              "    </div>\n",
              "    "
            ]
          },
          "metadata": {}
        },
        {
          "output_type": "display_data",
          "data": {
            "text/plain": [
              "<IPython.core.display.HTML object>"
            ],
            "text/html": [
              "\n",
              "<style>\n",
              "    /* Turns off some styling */\n",
              "    progress {\n",
              "        /* gets rid of default border in Firefox and Opera. */\n",
              "        border: none;\n",
              "        /* Needs to be in here for Safari polyfill so background images work as expected. */\n",
              "        background-size: auto;\n",
              "    }\n",
              "    progress:not([value]), progress:not([value])::-webkit-progress-bar {\n",
              "        background: repeating-linear-gradient(45deg, #7e7e7e, #7e7e7e 10px, #5c5c5c 10px, #5c5c5c 20px);\n",
              "    }\n",
              "    .progress-bar-interrupted, .progress-bar-interrupted::-webkit-progress-bar {\n",
              "        background: #F44336;\n",
              "    }\n",
              "</style>\n"
            ]
          },
          "metadata": {}
        },
        {
          "output_type": "display_data",
          "data": {
            "text/plain": [
              "<IPython.core.display.HTML object>"
            ],
            "text/html": [
              "\n",
              "    <div>\n",
              "      <progress value='3000' class='' max='3000' style='width:300px; height:20px; vertical-align: middle;'></progress>\n",
              "      100.00% [3000/3000 02:17&lt;00:00 Sampling chain 1, 0 divergences]\n",
              "    </div>\n",
              "    "
            ]
          },
          "metadata": {}
        },
        {
          "output_type": "stream",
          "name": "stderr",
          "text": [
            "<ipython-input-8-175c2f4f91ba>:23: FutureWarning: The series.append method is deprecated and will be removed from pandas in a future version. Use pandas.concat instead.\n",
            "  return testingData.append(pd.Series(np.zeros(trainingDataSize-len(testingData), dtype=int)))\n",
            "<ipython-input-8-175c2f4f91ba>:23: FutureWarning: The series.append method is deprecated and will be removed from pandas in a future version. Use pandas.concat instead.\n",
            "  return testingData.append(pd.Series(np.zeros(trainingDataSize-len(testingData), dtype=int)))\n",
            "<ipython-input-8-175c2f4f91ba>:23: FutureWarning: The series.append method is deprecated and will be removed from pandas in a future version. Use pandas.concat instead.\n",
            "  return testingData.append(pd.Series(np.zeros(trainingDataSize-len(testingData), dtype=int)))\n",
            "<ipython-input-8-175c2f4f91ba>:23: FutureWarning: The series.append method is deprecated and will be removed from pandas in a future version. Use pandas.concat instead.\n",
            "  return testingData.append(pd.Series(np.zeros(trainingDataSize-len(testingData), dtype=int)))\n",
            "<ipython-input-8-175c2f4f91ba>:23: FutureWarning: The series.append method is deprecated and will be removed from pandas in a future version. Use pandas.concat instead.\n",
            "  return testingData.append(pd.Series(np.zeros(trainingDataSize-len(testingData), dtype=int)))\n",
            "<ipython-input-8-175c2f4f91ba>:23: FutureWarning: The series.append method is deprecated and will be removed from pandas in a future version. Use pandas.concat instead.\n",
            "  return testingData.append(pd.Series(np.zeros(trainingDataSize-len(testingData), dtype=int)))\n",
            "<ipython-input-8-175c2f4f91ba>:23: FutureWarning: The series.append method is deprecated and will be removed from pandas in a future version. Use pandas.concat instead.\n",
            "  return testingData.append(pd.Series(np.zeros(trainingDataSize-len(testingData), dtype=int)))\n",
            "<ipython-input-8-175c2f4f91ba>:23: FutureWarning: The series.append method is deprecated and will be removed from pandas in a future version. Use pandas.concat instead.\n",
            "  return testingData.append(pd.Series(np.zeros(trainingDataSize-len(testingData), dtype=int)))\n",
            "<ipython-input-8-175c2f4f91ba>:23: FutureWarning: The series.append method is deprecated and will be removed from pandas in a future version. Use pandas.concat instead.\n",
            "  return testingData.append(pd.Series(np.zeros(trainingDataSize-len(testingData), dtype=int)))\n",
            "<ipython-input-8-175c2f4f91ba>:23: FutureWarning: The series.append method is deprecated and will be removed from pandas in a future version. Use pandas.concat instead.\n",
            "  return testingData.append(pd.Series(np.zeros(trainingDataSize-len(testingData), dtype=int)))\n",
            "<ipython-input-8-175c2f4f91ba>:23: FutureWarning: The series.append method is deprecated and will be removed from pandas in a future version. Use pandas.concat instead.\n",
            "  return testingData.append(pd.Series(np.zeros(trainingDataSize-len(testingData), dtype=int)))\n",
            "<ipython-input-8-175c2f4f91ba>:23: FutureWarning: The series.append method is deprecated and will be removed from pandas in a future version. Use pandas.concat instead.\n",
            "  return testingData.append(pd.Series(np.zeros(trainingDataSize-len(testingData), dtype=int)))\n"
          ]
        },
        {
          "output_type": "display_data",
          "data": {
            "text/plain": [
              "<IPython.core.display.HTML object>"
            ],
            "text/html": [
              "\n",
              "<style>\n",
              "    /* Turns off some styling */\n",
              "    progress {\n",
              "        /* gets rid of default border in Firefox and Opera. */\n",
              "        border: none;\n",
              "        /* Needs to be in here for Safari polyfill so background images work as expected. */\n",
              "        background-size: auto;\n",
              "    }\n",
              "    progress:not([value]), progress:not([value])::-webkit-progress-bar {\n",
              "        background: repeating-linear-gradient(45deg, #7e7e7e, #7e7e7e 10px, #5c5c5c 10px, #5c5c5c 20px);\n",
              "    }\n",
              "    .progress-bar-interrupted, .progress-bar-interrupted::-webkit-progress-bar {\n",
              "        background: #F44336;\n",
              "    }\n",
              "</style>\n"
            ]
          },
          "metadata": {}
        },
        {
          "output_type": "display_data",
          "data": {
            "text/plain": [
              "<IPython.core.display.HTML object>"
            ],
            "text/html": [
              "\n",
              "    <div>\n",
              "      <progress value='4000' class='' max='4000' style='width:300px; height:20px; vertical-align: middle;'></progress>\n",
              "      100.00% [4000/4000 00:02&lt;00:00]\n",
              "    </div>\n",
              "    "
            ]
          },
          "metadata": {}
        },
        {
          "output_type": "display_data",
          "data": {
            "text/plain": [
              "<IPython.core.display.HTML object>"
            ],
            "text/html": [
              "\n",
              "<style>\n",
              "    /* Turns off some styling */\n",
              "    progress {\n",
              "        /* gets rid of default border in Firefox and Opera. */\n",
              "        border: none;\n",
              "        /* Needs to be in here for Safari polyfill so background images work as expected. */\n",
              "        background-size: auto;\n",
              "    }\n",
              "    progress:not([value]), progress:not([value])::-webkit-progress-bar {\n",
              "        background: repeating-linear-gradient(45deg, #7e7e7e, #7e7e7e 10px, #5c5c5c 10px, #5c5c5c 20px);\n",
              "    }\n",
              "    .progress-bar-interrupted, .progress-bar-interrupted::-webkit-progress-bar {\n",
              "        background: #F44336;\n",
              "    }\n",
              "</style>\n"
            ]
          },
          "metadata": {}
        },
        {
          "output_type": "display_data",
          "data": {
            "text/plain": [
              "<IPython.core.display.HTML object>"
            ],
            "text/html": [
              "\n",
              "    <div>\n",
              "      <progress value='3000' class='' max='3000' style='width:300px; height:20px; vertical-align: middle;'></progress>\n",
              "      100.00% [3000/3000 02:32&lt;00:00 Sampling chain 0, 0 divergences]\n",
              "    </div>\n",
              "    "
            ]
          },
          "metadata": {}
        },
        {
          "output_type": "display_data",
          "data": {
            "text/plain": [
              "<IPython.core.display.HTML object>"
            ],
            "text/html": [
              "\n",
              "<style>\n",
              "    /* Turns off some styling */\n",
              "    progress {\n",
              "        /* gets rid of default border in Firefox and Opera. */\n",
              "        border: none;\n",
              "        /* Needs to be in here for Safari polyfill so background images work as expected. */\n",
              "        background-size: auto;\n",
              "    }\n",
              "    progress:not([value]), progress:not([value])::-webkit-progress-bar {\n",
              "        background: repeating-linear-gradient(45deg, #7e7e7e, #7e7e7e 10px, #5c5c5c 10px, #5c5c5c 20px);\n",
              "    }\n",
              "    .progress-bar-interrupted, .progress-bar-interrupted::-webkit-progress-bar {\n",
              "        background: #F44336;\n",
              "    }\n",
              "</style>\n"
            ]
          },
          "metadata": {}
        },
        {
          "output_type": "display_data",
          "data": {
            "text/plain": [
              "<IPython.core.display.HTML object>"
            ],
            "text/html": [
              "\n",
              "    <div>\n",
              "      <progress value='3000' class='' max='3000' style='width:300px; height:20px; vertical-align: middle;'></progress>\n",
              "      100.00% [3000/3000 02:18&lt;00:00 Sampling chain 1, 0 divergences]\n",
              "    </div>\n",
              "    "
            ]
          },
          "metadata": {}
        },
        {
          "output_type": "display_data",
          "data": {
            "text/plain": [
              "<IPython.core.display.HTML object>"
            ],
            "text/html": [
              "\n",
              "<style>\n",
              "    /* Turns off some styling */\n",
              "    progress {\n",
              "        /* gets rid of default border in Firefox and Opera. */\n",
              "        border: none;\n",
              "        /* Needs to be in here for Safari polyfill so background images work as expected. */\n",
              "        background-size: auto;\n",
              "    }\n",
              "    progress:not([value]), progress:not([value])::-webkit-progress-bar {\n",
              "        background: repeating-linear-gradient(45deg, #7e7e7e, #7e7e7e 10px, #5c5c5c 10px, #5c5c5c 20px);\n",
              "    }\n",
              "    .progress-bar-interrupted, .progress-bar-interrupted::-webkit-progress-bar {\n",
              "        background: #F44336;\n",
              "    }\n",
              "</style>\n"
            ]
          },
          "metadata": {}
        },
        {
          "output_type": "display_data",
          "data": {
            "text/plain": [
              "<IPython.core.display.HTML object>"
            ],
            "text/html": [
              "\n",
              "    <div>\n",
              "      <progress value='3000' class='' max='3000' style='width:300px; height:20px; vertical-align: middle;'></progress>\n",
              "      100.00% [3000/3000 02:03&lt;00:00 Sampling chain 0, 0 divergences]\n",
              "    </div>\n",
              "    "
            ]
          },
          "metadata": {}
        },
        {
          "output_type": "display_data",
          "data": {
            "text/plain": [
              "<IPython.core.display.HTML object>"
            ],
            "text/html": [
              "\n",
              "<style>\n",
              "    /* Turns off some styling */\n",
              "    progress {\n",
              "        /* gets rid of default border in Firefox and Opera. */\n",
              "        border: none;\n",
              "        /* Needs to be in here for Safari polyfill so background images work as expected. */\n",
              "        background-size: auto;\n",
              "    }\n",
              "    progress:not([value]), progress:not([value])::-webkit-progress-bar {\n",
              "        background: repeating-linear-gradient(45deg, #7e7e7e, #7e7e7e 10px, #5c5c5c 10px, #5c5c5c 20px);\n",
              "    }\n",
              "    .progress-bar-interrupted, .progress-bar-interrupted::-webkit-progress-bar {\n",
              "        background: #F44336;\n",
              "    }\n",
              "</style>\n"
            ]
          },
          "metadata": {}
        },
        {
          "output_type": "display_data",
          "data": {
            "text/plain": [
              "<IPython.core.display.HTML object>"
            ],
            "text/html": [
              "\n",
              "    <div>\n",
              "      <progress value='3000' class='' max='3000' style='width:300px; height:20px; vertical-align: middle;'></progress>\n",
              "      100.00% [3000/3000 02:01&lt;00:00 Sampling chain 1, 0 divergences]\n",
              "    </div>\n",
              "    "
            ]
          },
          "metadata": {}
        },
        {
          "output_type": "stream",
          "name": "stderr",
          "text": [
            "<ipython-input-8-175c2f4f91ba>:23: FutureWarning: The series.append method is deprecated and will be removed from pandas in a future version. Use pandas.concat instead.\n",
            "  return testingData.append(pd.Series(np.zeros(trainingDataSize-len(testingData), dtype=int)))\n",
            "<ipython-input-8-175c2f4f91ba>:23: FutureWarning: The series.append method is deprecated and will be removed from pandas in a future version. Use pandas.concat instead.\n",
            "  return testingData.append(pd.Series(np.zeros(trainingDataSize-len(testingData), dtype=int)))\n",
            "<ipython-input-8-175c2f4f91ba>:23: FutureWarning: The series.append method is deprecated and will be removed from pandas in a future version. Use pandas.concat instead.\n",
            "  return testingData.append(pd.Series(np.zeros(trainingDataSize-len(testingData), dtype=int)))\n",
            "<ipython-input-8-175c2f4f91ba>:23: FutureWarning: The series.append method is deprecated and will be removed from pandas in a future version. Use pandas.concat instead.\n",
            "  return testingData.append(pd.Series(np.zeros(trainingDataSize-len(testingData), dtype=int)))\n",
            "<ipython-input-8-175c2f4f91ba>:23: FutureWarning: The series.append method is deprecated and will be removed from pandas in a future version. Use pandas.concat instead.\n",
            "  return testingData.append(pd.Series(np.zeros(trainingDataSize-len(testingData), dtype=int)))\n",
            "<ipython-input-8-175c2f4f91ba>:23: FutureWarning: The series.append method is deprecated and will be removed from pandas in a future version. Use pandas.concat instead.\n",
            "  return testingData.append(pd.Series(np.zeros(trainingDataSize-len(testingData), dtype=int)))\n",
            "<ipython-input-8-175c2f4f91ba>:23: FutureWarning: The series.append method is deprecated and will be removed from pandas in a future version. Use pandas.concat instead.\n",
            "  return testingData.append(pd.Series(np.zeros(trainingDataSize-len(testingData), dtype=int)))\n",
            "<ipython-input-8-175c2f4f91ba>:23: FutureWarning: The series.append method is deprecated and will be removed from pandas in a future version. Use pandas.concat instead.\n",
            "  return testingData.append(pd.Series(np.zeros(trainingDataSize-len(testingData), dtype=int)))\n",
            "<ipython-input-8-175c2f4f91ba>:23: FutureWarning: The series.append method is deprecated and will be removed from pandas in a future version. Use pandas.concat instead.\n",
            "  return testingData.append(pd.Series(np.zeros(trainingDataSize-len(testingData), dtype=int)))\n",
            "<ipython-input-8-175c2f4f91ba>:23: FutureWarning: The series.append method is deprecated and will be removed from pandas in a future version. Use pandas.concat instead.\n",
            "  return testingData.append(pd.Series(np.zeros(trainingDataSize-len(testingData), dtype=int)))\n",
            "<ipython-input-8-175c2f4f91ba>:23: FutureWarning: The series.append method is deprecated and will be removed from pandas in a future version. Use pandas.concat instead.\n",
            "  return testingData.append(pd.Series(np.zeros(trainingDataSize-len(testingData), dtype=int)))\n",
            "<ipython-input-8-175c2f4f91ba>:23: FutureWarning: The series.append method is deprecated and will be removed from pandas in a future version. Use pandas.concat instead.\n",
            "  return testingData.append(pd.Series(np.zeros(trainingDataSize-len(testingData), dtype=int)))\n"
          ]
        },
        {
          "output_type": "display_data",
          "data": {
            "text/plain": [
              "<IPython.core.display.HTML object>"
            ],
            "text/html": [
              "\n",
              "<style>\n",
              "    /* Turns off some styling */\n",
              "    progress {\n",
              "        /* gets rid of default border in Firefox and Opera. */\n",
              "        border: none;\n",
              "        /* Needs to be in here for Safari polyfill so background images work as expected. */\n",
              "        background-size: auto;\n",
              "    }\n",
              "    progress:not([value]), progress:not([value])::-webkit-progress-bar {\n",
              "        background: repeating-linear-gradient(45deg, #7e7e7e, #7e7e7e 10px, #5c5c5c 10px, #5c5c5c 20px);\n",
              "    }\n",
              "    .progress-bar-interrupted, .progress-bar-interrupted::-webkit-progress-bar {\n",
              "        background: #F44336;\n",
              "    }\n",
              "</style>\n"
            ]
          },
          "metadata": {}
        },
        {
          "output_type": "display_data",
          "data": {
            "text/plain": [
              "<IPython.core.display.HTML object>"
            ],
            "text/html": [
              "\n",
              "    <div>\n",
              "      <progress value='4000' class='' max='4000' style='width:300px; height:20px; vertical-align: middle;'></progress>\n",
              "      100.00% [4000/4000 00:02&lt;00:00]\n",
              "    </div>\n",
              "    "
            ]
          },
          "metadata": {}
        },
        {
          "output_type": "display_data",
          "data": {
            "text/plain": [
              "<IPython.core.display.HTML object>"
            ],
            "text/html": [
              "\n",
              "<style>\n",
              "    /* Turns off some styling */\n",
              "    progress {\n",
              "        /* gets rid of default border in Firefox and Opera. */\n",
              "        border: none;\n",
              "        /* Needs to be in here for Safari polyfill so background images work as expected. */\n",
              "        background-size: auto;\n",
              "    }\n",
              "    progress:not([value]), progress:not([value])::-webkit-progress-bar {\n",
              "        background: repeating-linear-gradient(45deg, #7e7e7e, #7e7e7e 10px, #5c5c5c 10px, #5c5c5c 20px);\n",
              "    }\n",
              "    .progress-bar-interrupted, .progress-bar-interrupted::-webkit-progress-bar {\n",
              "        background: #F44336;\n",
              "    }\n",
              "</style>\n"
            ]
          },
          "metadata": {}
        },
        {
          "output_type": "display_data",
          "data": {
            "text/plain": [
              "<IPython.core.display.HTML object>"
            ],
            "text/html": [
              "\n",
              "    <div>\n",
              "      <progress value='3000' class='' max='3000' style='width:300px; height:20px; vertical-align: middle;'></progress>\n",
              "      100.00% [3000/3000 02:25&lt;00:00 Sampling chain 0, 0 divergences]\n",
              "    </div>\n",
              "    "
            ]
          },
          "metadata": {}
        },
        {
          "output_type": "display_data",
          "data": {
            "text/plain": [
              "<IPython.core.display.HTML object>"
            ],
            "text/html": [
              "\n",
              "<style>\n",
              "    /* Turns off some styling */\n",
              "    progress {\n",
              "        /* gets rid of default border in Firefox and Opera. */\n",
              "        border: none;\n",
              "        /* Needs to be in here for Safari polyfill so background images work as expected. */\n",
              "        background-size: auto;\n",
              "    }\n",
              "    progress:not([value]), progress:not([value])::-webkit-progress-bar {\n",
              "        background: repeating-linear-gradient(45deg, #7e7e7e, #7e7e7e 10px, #5c5c5c 10px, #5c5c5c 20px);\n",
              "    }\n",
              "    .progress-bar-interrupted, .progress-bar-interrupted::-webkit-progress-bar {\n",
              "        background: #F44336;\n",
              "    }\n",
              "</style>\n"
            ]
          },
          "metadata": {}
        },
        {
          "output_type": "display_data",
          "data": {
            "text/plain": [
              "<IPython.core.display.HTML object>"
            ],
            "text/html": [
              "\n",
              "    <div>\n",
              "      <progress value='3000' class='' max='3000' style='width:300px; height:20px; vertical-align: middle;'></progress>\n",
              "      100.00% [3000/3000 02:31&lt;00:00 Sampling chain 1, 0 divergences]\n",
              "    </div>\n",
              "    "
            ]
          },
          "metadata": {}
        },
        {
          "output_type": "display_data",
          "data": {
            "text/plain": [
              "<IPython.core.display.HTML object>"
            ],
            "text/html": [
              "\n",
              "<style>\n",
              "    /* Turns off some styling */\n",
              "    progress {\n",
              "        /* gets rid of default border in Firefox and Opera. */\n",
              "        border: none;\n",
              "        /* Needs to be in here for Safari polyfill so background images work as expected. */\n",
              "        background-size: auto;\n",
              "    }\n",
              "    progress:not([value]), progress:not([value])::-webkit-progress-bar {\n",
              "        background: repeating-linear-gradient(45deg, #7e7e7e, #7e7e7e 10px, #5c5c5c 10px, #5c5c5c 20px);\n",
              "    }\n",
              "    .progress-bar-interrupted, .progress-bar-interrupted::-webkit-progress-bar {\n",
              "        background: #F44336;\n",
              "    }\n",
              "</style>\n"
            ]
          },
          "metadata": {}
        },
        {
          "output_type": "display_data",
          "data": {
            "text/plain": [
              "<IPython.core.display.HTML object>"
            ],
            "text/html": [
              "\n",
              "    <div>\n",
              "      <progress value='3000' class='' max='3000' style='width:300px; height:20px; vertical-align: middle;'></progress>\n",
              "      100.00% [3000/3000 03:05&lt;00:00 Sampling chain 0, 0 divergences]\n",
              "    </div>\n",
              "    "
            ]
          },
          "metadata": {}
        },
        {
          "output_type": "display_data",
          "data": {
            "text/plain": [
              "<IPython.core.display.HTML object>"
            ],
            "text/html": [
              "\n",
              "<style>\n",
              "    /* Turns off some styling */\n",
              "    progress {\n",
              "        /* gets rid of default border in Firefox and Opera. */\n",
              "        border: none;\n",
              "        /* Needs to be in here for Safari polyfill so background images work as expected. */\n",
              "        background-size: auto;\n",
              "    }\n",
              "    progress:not([value]), progress:not([value])::-webkit-progress-bar {\n",
              "        background: repeating-linear-gradient(45deg, #7e7e7e, #7e7e7e 10px, #5c5c5c 10px, #5c5c5c 20px);\n",
              "    }\n",
              "    .progress-bar-interrupted, .progress-bar-interrupted::-webkit-progress-bar {\n",
              "        background: #F44336;\n",
              "    }\n",
              "</style>\n"
            ]
          },
          "metadata": {}
        },
        {
          "output_type": "display_data",
          "data": {
            "text/plain": [
              "<IPython.core.display.HTML object>"
            ],
            "text/html": [
              "\n",
              "    <div>\n",
              "      <progress value='3000' class='' max='3000' style='width:300px; height:20px; vertical-align: middle;'></progress>\n",
              "      100.00% [3000/3000 03:02&lt;00:00 Sampling chain 1, 0 divergences]\n",
              "    </div>\n",
              "    "
            ]
          },
          "metadata": {}
        },
        {
          "output_type": "stream",
          "name": "stderr",
          "text": [
            "<ipython-input-8-175c2f4f91ba>:23: FutureWarning: The series.append method is deprecated and will be removed from pandas in a future version. Use pandas.concat instead.\n",
            "  return testingData.append(pd.Series(np.zeros(trainingDataSize-len(testingData), dtype=int)))\n",
            "<ipython-input-8-175c2f4f91ba>:23: FutureWarning: The series.append method is deprecated and will be removed from pandas in a future version. Use pandas.concat instead.\n",
            "  return testingData.append(pd.Series(np.zeros(trainingDataSize-len(testingData), dtype=int)))\n",
            "<ipython-input-8-175c2f4f91ba>:23: FutureWarning: The series.append method is deprecated and will be removed from pandas in a future version. Use pandas.concat instead.\n",
            "  return testingData.append(pd.Series(np.zeros(trainingDataSize-len(testingData), dtype=int)))\n",
            "<ipython-input-8-175c2f4f91ba>:23: FutureWarning: The series.append method is deprecated and will be removed from pandas in a future version. Use pandas.concat instead.\n",
            "  return testingData.append(pd.Series(np.zeros(trainingDataSize-len(testingData), dtype=int)))\n",
            "<ipython-input-8-175c2f4f91ba>:23: FutureWarning: The series.append method is deprecated and will be removed from pandas in a future version. Use pandas.concat instead.\n",
            "  return testingData.append(pd.Series(np.zeros(trainingDataSize-len(testingData), dtype=int)))\n",
            "<ipython-input-8-175c2f4f91ba>:23: FutureWarning: The series.append method is deprecated and will be removed from pandas in a future version. Use pandas.concat instead.\n",
            "  return testingData.append(pd.Series(np.zeros(trainingDataSize-len(testingData), dtype=int)))\n",
            "<ipython-input-8-175c2f4f91ba>:23: FutureWarning: The series.append method is deprecated and will be removed from pandas in a future version. Use pandas.concat instead.\n",
            "  return testingData.append(pd.Series(np.zeros(trainingDataSize-len(testingData), dtype=int)))\n",
            "<ipython-input-8-175c2f4f91ba>:23: FutureWarning: The series.append method is deprecated and will be removed from pandas in a future version. Use pandas.concat instead.\n",
            "  return testingData.append(pd.Series(np.zeros(trainingDataSize-len(testingData), dtype=int)))\n",
            "<ipython-input-8-175c2f4f91ba>:23: FutureWarning: The series.append method is deprecated and will be removed from pandas in a future version. Use pandas.concat instead.\n",
            "  return testingData.append(pd.Series(np.zeros(trainingDataSize-len(testingData), dtype=int)))\n",
            "<ipython-input-8-175c2f4f91ba>:23: FutureWarning: The series.append method is deprecated and will be removed from pandas in a future version. Use pandas.concat instead.\n",
            "  return testingData.append(pd.Series(np.zeros(trainingDataSize-len(testingData), dtype=int)))\n",
            "<ipython-input-8-175c2f4f91ba>:23: FutureWarning: The series.append method is deprecated and will be removed from pandas in a future version. Use pandas.concat instead.\n",
            "  return testingData.append(pd.Series(np.zeros(trainingDataSize-len(testingData), dtype=int)))\n",
            "<ipython-input-8-175c2f4f91ba>:23: FutureWarning: The series.append method is deprecated and will be removed from pandas in a future version. Use pandas.concat instead.\n",
            "  return testingData.append(pd.Series(np.zeros(trainingDataSize-len(testingData), dtype=int)))\n"
          ]
        },
        {
          "output_type": "display_data",
          "data": {
            "text/plain": [
              "<IPython.core.display.HTML object>"
            ],
            "text/html": [
              "\n",
              "<style>\n",
              "    /* Turns off some styling */\n",
              "    progress {\n",
              "        /* gets rid of default border in Firefox and Opera. */\n",
              "        border: none;\n",
              "        /* Needs to be in here for Safari polyfill so background images work as expected. */\n",
              "        background-size: auto;\n",
              "    }\n",
              "    progress:not([value]), progress:not([value])::-webkit-progress-bar {\n",
              "        background: repeating-linear-gradient(45deg, #7e7e7e, #7e7e7e 10px, #5c5c5c 10px, #5c5c5c 20px);\n",
              "    }\n",
              "    .progress-bar-interrupted, .progress-bar-interrupted::-webkit-progress-bar {\n",
              "        background: #F44336;\n",
              "    }\n",
              "</style>\n"
            ]
          },
          "metadata": {}
        },
        {
          "output_type": "display_data",
          "data": {
            "text/plain": [
              "<IPython.core.display.HTML object>"
            ],
            "text/html": [
              "\n",
              "    <div>\n",
              "      <progress value='4000' class='' max='4000' style='width:300px; height:20px; vertical-align: middle;'></progress>\n",
              "      100.00% [4000/4000 00:02&lt;00:00]\n",
              "    </div>\n",
              "    "
            ]
          },
          "metadata": {}
        },
        {
          "output_type": "display_data",
          "data": {
            "text/plain": [
              "<IPython.core.display.HTML object>"
            ],
            "text/html": [
              "\n",
              "<style>\n",
              "    /* Turns off some styling */\n",
              "    progress {\n",
              "        /* gets rid of default border in Firefox and Opera. */\n",
              "        border: none;\n",
              "        /* Needs to be in here for Safari polyfill so background images work as expected. */\n",
              "        background-size: auto;\n",
              "    }\n",
              "    progress:not([value]), progress:not([value])::-webkit-progress-bar {\n",
              "        background: repeating-linear-gradient(45deg, #7e7e7e, #7e7e7e 10px, #5c5c5c 10px, #5c5c5c 20px);\n",
              "    }\n",
              "    .progress-bar-interrupted, .progress-bar-interrupted::-webkit-progress-bar {\n",
              "        background: #F44336;\n",
              "    }\n",
              "</style>\n"
            ]
          },
          "metadata": {}
        },
        {
          "output_type": "display_data",
          "data": {
            "text/plain": [
              "<IPython.core.display.HTML object>"
            ],
            "text/html": [
              "\n",
              "    <div>\n",
              "      <progress value='3000' class='' max='3000' style='width:300px; height:20px; vertical-align: middle;'></progress>\n",
              "      100.00% [3000/3000 03:17&lt;00:00 Sampling chain 0, 0 divergences]\n",
              "    </div>\n",
              "    "
            ]
          },
          "metadata": {}
        },
        {
          "output_type": "display_data",
          "data": {
            "text/plain": [
              "<IPython.core.display.HTML object>"
            ],
            "text/html": [
              "\n",
              "<style>\n",
              "    /* Turns off some styling */\n",
              "    progress {\n",
              "        /* gets rid of default border in Firefox and Opera. */\n",
              "        border: none;\n",
              "        /* Needs to be in here for Safari polyfill so background images work as expected. */\n",
              "        background-size: auto;\n",
              "    }\n",
              "    progress:not([value]), progress:not([value])::-webkit-progress-bar {\n",
              "        background: repeating-linear-gradient(45deg, #7e7e7e, #7e7e7e 10px, #5c5c5c 10px, #5c5c5c 20px);\n",
              "    }\n",
              "    .progress-bar-interrupted, .progress-bar-interrupted::-webkit-progress-bar {\n",
              "        background: #F44336;\n",
              "    }\n",
              "</style>\n"
            ]
          },
          "metadata": {}
        },
        {
          "output_type": "display_data",
          "data": {
            "text/plain": [
              "<IPython.core.display.HTML object>"
            ],
            "text/html": [
              "\n",
              "    <div>\n",
              "      <progress value='3000' class='' max='3000' style='width:300px; height:20px; vertical-align: middle;'></progress>\n",
              "      100.00% [3000/3000 03:23&lt;00:00 Sampling chain 1, 0 divergences]\n",
              "    </div>\n",
              "    "
            ]
          },
          "metadata": {}
        },
        {
          "output_type": "display_data",
          "data": {
            "text/plain": [
              "<IPython.core.display.HTML object>"
            ],
            "text/html": [
              "\n",
              "<style>\n",
              "    /* Turns off some styling */\n",
              "    progress {\n",
              "        /* gets rid of default border in Firefox and Opera. */\n",
              "        border: none;\n",
              "        /* Needs to be in here for Safari polyfill so background images work as expected. */\n",
              "        background-size: auto;\n",
              "    }\n",
              "    progress:not([value]), progress:not([value])::-webkit-progress-bar {\n",
              "        background: repeating-linear-gradient(45deg, #7e7e7e, #7e7e7e 10px, #5c5c5c 10px, #5c5c5c 20px);\n",
              "    }\n",
              "    .progress-bar-interrupted, .progress-bar-interrupted::-webkit-progress-bar {\n",
              "        background: #F44336;\n",
              "    }\n",
              "</style>\n"
            ]
          },
          "metadata": {}
        },
        {
          "output_type": "display_data",
          "data": {
            "text/plain": [
              "<IPython.core.display.HTML object>"
            ],
            "text/html": [
              "\n",
              "    <div>\n",
              "      <progress value='3000' class='' max='3000' style='width:300px; height:20px; vertical-align: middle;'></progress>\n",
              "      100.00% [3000/3000 03:00&lt;00:00 Sampling chain 0, 0 divergences]\n",
              "    </div>\n",
              "    "
            ]
          },
          "metadata": {}
        },
        {
          "output_type": "display_data",
          "data": {
            "text/plain": [
              "<IPython.core.display.HTML object>"
            ],
            "text/html": [
              "\n",
              "<style>\n",
              "    /* Turns off some styling */\n",
              "    progress {\n",
              "        /* gets rid of default border in Firefox and Opera. */\n",
              "        border: none;\n",
              "        /* Needs to be in here for Safari polyfill so background images work as expected. */\n",
              "        background-size: auto;\n",
              "    }\n",
              "    progress:not([value]), progress:not([value])::-webkit-progress-bar {\n",
              "        background: repeating-linear-gradient(45deg, #7e7e7e, #7e7e7e 10px, #5c5c5c 10px, #5c5c5c 20px);\n",
              "    }\n",
              "    .progress-bar-interrupted, .progress-bar-interrupted::-webkit-progress-bar {\n",
              "        background: #F44336;\n",
              "    }\n",
              "</style>\n"
            ]
          },
          "metadata": {}
        },
        {
          "output_type": "display_data",
          "data": {
            "text/plain": [
              "<IPython.core.display.HTML object>"
            ],
            "text/html": [
              "\n",
              "    <div>\n",
              "      <progress value='3000' class='' max='3000' style='width:300px; height:20px; vertical-align: middle;'></progress>\n",
              "      100.00% [3000/3000 02:39&lt;00:00 Sampling chain 1, 0 divergences]\n",
              "    </div>\n",
              "    "
            ]
          },
          "metadata": {}
        },
        {
          "output_type": "stream",
          "name": "stderr",
          "text": [
            "<ipython-input-8-175c2f4f91ba>:23: FutureWarning: The series.append method is deprecated and will be removed from pandas in a future version. Use pandas.concat instead.\n",
            "  return testingData.append(pd.Series(np.zeros(trainingDataSize-len(testingData), dtype=int)))\n",
            "<ipython-input-8-175c2f4f91ba>:23: FutureWarning: The series.append method is deprecated and will be removed from pandas in a future version. Use pandas.concat instead.\n",
            "  return testingData.append(pd.Series(np.zeros(trainingDataSize-len(testingData), dtype=int)))\n",
            "<ipython-input-8-175c2f4f91ba>:23: FutureWarning: The series.append method is deprecated and will be removed from pandas in a future version. Use pandas.concat instead.\n",
            "  return testingData.append(pd.Series(np.zeros(trainingDataSize-len(testingData), dtype=int)))\n",
            "<ipython-input-8-175c2f4f91ba>:23: FutureWarning: The series.append method is deprecated and will be removed from pandas in a future version. Use pandas.concat instead.\n",
            "  return testingData.append(pd.Series(np.zeros(trainingDataSize-len(testingData), dtype=int)))\n",
            "<ipython-input-8-175c2f4f91ba>:23: FutureWarning: The series.append method is deprecated and will be removed from pandas in a future version. Use pandas.concat instead.\n",
            "  return testingData.append(pd.Series(np.zeros(trainingDataSize-len(testingData), dtype=int)))\n",
            "<ipython-input-8-175c2f4f91ba>:23: FutureWarning: The series.append method is deprecated and will be removed from pandas in a future version. Use pandas.concat instead.\n",
            "  return testingData.append(pd.Series(np.zeros(trainingDataSize-len(testingData), dtype=int)))\n",
            "<ipython-input-8-175c2f4f91ba>:23: FutureWarning: The series.append method is deprecated and will be removed from pandas in a future version. Use pandas.concat instead.\n",
            "  return testingData.append(pd.Series(np.zeros(trainingDataSize-len(testingData), dtype=int)))\n",
            "<ipython-input-8-175c2f4f91ba>:23: FutureWarning: The series.append method is deprecated and will be removed from pandas in a future version. Use pandas.concat instead.\n",
            "  return testingData.append(pd.Series(np.zeros(trainingDataSize-len(testingData), dtype=int)))\n",
            "<ipython-input-8-175c2f4f91ba>:23: FutureWarning: The series.append method is deprecated and will be removed from pandas in a future version. Use pandas.concat instead.\n",
            "  return testingData.append(pd.Series(np.zeros(trainingDataSize-len(testingData), dtype=int)))\n",
            "<ipython-input-8-175c2f4f91ba>:23: FutureWarning: The series.append method is deprecated and will be removed from pandas in a future version. Use pandas.concat instead.\n",
            "  return testingData.append(pd.Series(np.zeros(trainingDataSize-len(testingData), dtype=int)))\n",
            "<ipython-input-8-175c2f4f91ba>:23: FutureWarning: The series.append method is deprecated and will be removed from pandas in a future version. Use pandas.concat instead.\n",
            "  return testingData.append(pd.Series(np.zeros(trainingDataSize-len(testingData), dtype=int)))\n",
            "<ipython-input-8-175c2f4f91ba>:23: FutureWarning: The series.append method is deprecated and will be removed from pandas in a future version. Use pandas.concat instead.\n",
            "  return testingData.append(pd.Series(np.zeros(trainingDataSize-len(testingData), dtype=int)))\n"
          ]
        },
        {
          "output_type": "display_data",
          "data": {
            "text/plain": [
              "<IPython.core.display.HTML object>"
            ],
            "text/html": [
              "\n",
              "<style>\n",
              "    /* Turns off some styling */\n",
              "    progress {\n",
              "        /* gets rid of default border in Firefox and Opera. */\n",
              "        border: none;\n",
              "        /* Needs to be in here for Safari polyfill so background images work as expected. */\n",
              "        background-size: auto;\n",
              "    }\n",
              "    progress:not([value]), progress:not([value])::-webkit-progress-bar {\n",
              "        background: repeating-linear-gradient(45deg, #7e7e7e, #7e7e7e 10px, #5c5c5c 10px, #5c5c5c 20px);\n",
              "    }\n",
              "    .progress-bar-interrupted, .progress-bar-interrupted::-webkit-progress-bar {\n",
              "        background: #F44336;\n",
              "    }\n",
              "</style>\n"
            ]
          },
          "metadata": {}
        },
        {
          "output_type": "display_data",
          "data": {
            "text/plain": [
              "<IPython.core.display.HTML object>"
            ],
            "text/html": [
              "\n",
              "    <div>\n",
              "      <progress value='4000' class='' max='4000' style='width:300px; height:20px; vertical-align: middle;'></progress>\n",
              "      100.00% [4000/4000 00:02&lt;00:00]\n",
              "    </div>\n",
              "    "
            ]
          },
          "metadata": {}
        },
        {
          "output_type": "display_data",
          "data": {
            "text/plain": [
              "<IPython.core.display.HTML object>"
            ],
            "text/html": [
              "\n",
              "<style>\n",
              "    /* Turns off some styling */\n",
              "    progress {\n",
              "        /* gets rid of default border in Firefox and Opera. */\n",
              "        border: none;\n",
              "        /* Needs to be in here for Safari polyfill so background images work as expected. */\n",
              "        background-size: auto;\n",
              "    }\n",
              "    progress:not([value]), progress:not([value])::-webkit-progress-bar {\n",
              "        background: repeating-linear-gradient(45deg, #7e7e7e, #7e7e7e 10px, #5c5c5c 10px, #5c5c5c 20px);\n",
              "    }\n",
              "    .progress-bar-interrupted, .progress-bar-interrupted::-webkit-progress-bar {\n",
              "        background: #F44336;\n",
              "    }\n",
              "</style>\n"
            ]
          },
          "metadata": {}
        },
        {
          "output_type": "display_data",
          "data": {
            "text/plain": [
              "<IPython.core.display.HTML object>"
            ],
            "text/html": [
              "\n",
              "    <div>\n",
              "      <progress value='3000' class='' max='3000' style='width:300px; height:20px; vertical-align: middle;'></progress>\n",
              "      100.00% [3000/3000 02:53&lt;00:00 Sampling chain 0, 0 divergences]\n",
              "    </div>\n",
              "    "
            ]
          },
          "metadata": {}
        },
        {
          "output_type": "display_data",
          "data": {
            "text/plain": [
              "<IPython.core.display.HTML object>"
            ],
            "text/html": [
              "\n",
              "<style>\n",
              "    /* Turns off some styling */\n",
              "    progress {\n",
              "        /* gets rid of default border in Firefox and Opera. */\n",
              "        border: none;\n",
              "        /* Needs to be in here for Safari polyfill so background images work as expected. */\n",
              "        background-size: auto;\n",
              "    }\n",
              "    progress:not([value]), progress:not([value])::-webkit-progress-bar {\n",
              "        background: repeating-linear-gradient(45deg, #7e7e7e, #7e7e7e 10px, #5c5c5c 10px, #5c5c5c 20px);\n",
              "    }\n",
              "    .progress-bar-interrupted, .progress-bar-interrupted::-webkit-progress-bar {\n",
              "        background: #F44336;\n",
              "    }\n",
              "</style>\n"
            ]
          },
          "metadata": {}
        },
        {
          "output_type": "display_data",
          "data": {
            "text/plain": [
              "<IPython.core.display.HTML object>"
            ],
            "text/html": [
              "\n",
              "    <div>\n",
              "      <progress value='3000' class='' max='3000' style='width:300px; height:20px; vertical-align: middle;'></progress>\n",
              "      100.00% [3000/3000 03:20&lt;00:00 Sampling chain 1, 0 divergences]\n",
              "    </div>\n",
              "    "
            ]
          },
          "metadata": {}
        },
        {
          "output_type": "display_data",
          "data": {
            "text/plain": [
              "<IPython.core.display.HTML object>"
            ],
            "text/html": [
              "\n",
              "<style>\n",
              "    /* Turns off some styling */\n",
              "    progress {\n",
              "        /* gets rid of default border in Firefox and Opera. */\n",
              "        border: none;\n",
              "        /* Needs to be in here for Safari polyfill so background images work as expected. */\n",
              "        background-size: auto;\n",
              "    }\n",
              "    progress:not([value]), progress:not([value])::-webkit-progress-bar {\n",
              "        background: repeating-linear-gradient(45deg, #7e7e7e, #7e7e7e 10px, #5c5c5c 10px, #5c5c5c 20px);\n",
              "    }\n",
              "    .progress-bar-interrupted, .progress-bar-interrupted::-webkit-progress-bar {\n",
              "        background: #F44336;\n",
              "    }\n",
              "</style>\n"
            ]
          },
          "metadata": {}
        },
        {
          "output_type": "display_data",
          "data": {
            "text/plain": [
              "<IPython.core.display.HTML object>"
            ],
            "text/html": [
              "\n",
              "    <div>\n",
              "      <progress value='3000' class='' max='3000' style='width:300px; height:20px; vertical-align: middle;'></progress>\n",
              "      100.00% [3000/3000 02:20&lt;00:00 Sampling chain 0, 0 divergences]\n",
              "    </div>\n",
              "    "
            ]
          },
          "metadata": {}
        },
        {
          "output_type": "display_data",
          "data": {
            "text/plain": [
              "<IPython.core.display.HTML object>"
            ],
            "text/html": [
              "\n",
              "<style>\n",
              "    /* Turns off some styling */\n",
              "    progress {\n",
              "        /* gets rid of default border in Firefox and Opera. */\n",
              "        border: none;\n",
              "        /* Needs to be in here for Safari polyfill so background images work as expected. */\n",
              "        background-size: auto;\n",
              "    }\n",
              "    progress:not([value]), progress:not([value])::-webkit-progress-bar {\n",
              "        background: repeating-linear-gradient(45deg, #7e7e7e, #7e7e7e 10px, #5c5c5c 10px, #5c5c5c 20px);\n",
              "    }\n",
              "    .progress-bar-interrupted, .progress-bar-interrupted::-webkit-progress-bar {\n",
              "        background: #F44336;\n",
              "    }\n",
              "</style>\n"
            ]
          },
          "metadata": {}
        },
        {
          "output_type": "display_data",
          "data": {
            "text/plain": [
              "<IPython.core.display.HTML object>"
            ],
            "text/html": [
              "\n",
              "    <div>\n",
              "      <progress value='3000' class='' max='3000' style='width:300px; height:20px; vertical-align: middle;'></progress>\n",
              "      100.00% [3000/3000 02:20&lt;00:00 Sampling chain 1, 0 divergences]\n",
              "    </div>\n",
              "    "
            ]
          },
          "metadata": {}
        },
        {
          "output_type": "stream",
          "name": "stderr",
          "text": [
            "<ipython-input-8-175c2f4f91ba>:23: FutureWarning: The series.append method is deprecated and will be removed from pandas in a future version. Use pandas.concat instead.\n",
            "  return testingData.append(pd.Series(np.zeros(trainingDataSize-len(testingData), dtype=int)))\n",
            "<ipython-input-8-175c2f4f91ba>:23: FutureWarning: The series.append method is deprecated and will be removed from pandas in a future version. Use pandas.concat instead.\n",
            "  return testingData.append(pd.Series(np.zeros(trainingDataSize-len(testingData), dtype=int)))\n",
            "<ipython-input-8-175c2f4f91ba>:23: FutureWarning: The series.append method is deprecated and will be removed from pandas in a future version. Use pandas.concat instead.\n",
            "  return testingData.append(pd.Series(np.zeros(trainingDataSize-len(testingData), dtype=int)))\n",
            "<ipython-input-8-175c2f4f91ba>:23: FutureWarning: The series.append method is deprecated and will be removed from pandas in a future version. Use pandas.concat instead.\n",
            "  return testingData.append(pd.Series(np.zeros(trainingDataSize-len(testingData), dtype=int)))\n",
            "<ipython-input-8-175c2f4f91ba>:23: FutureWarning: The series.append method is deprecated and will be removed from pandas in a future version. Use pandas.concat instead.\n",
            "  return testingData.append(pd.Series(np.zeros(trainingDataSize-len(testingData), dtype=int)))\n",
            "<ipython-input-8-175c2f4f91ba>:23: FutureWarning: The series.append method is deprecated and will be removed from pandas in a future version. Use pandas.concat instead.\n",
            "  return testingData.append(pd.Series(np.zeros(trainingDataSize-len(testingData), dtype=int)))\n",
            "<ipython-input-8-175c2f4f91ba>:23: FutureWarning: The series.append method is deprecated and will be removed from pandas in a future version. Use pandas.concat instead.\n",
            "  return testingData.append(pd.Series(np.zeros(trainingDataSize-len(testingData), dtype=int)))\n",
            "<ipython-input-8-175c2f4f91ba>:23: FutureWarning: The series.append method is deprecated and will be removed from pandas in a future version. Use pandas.concat instead.\n",
            "  return testingData.append(pd.Series(np.zeros(trainingDataSize-len(testingData), dtype=int)))\n",
            "<ipython-input-8-175c2f4f91ba>:23: FutureWarning: The series.append method is deprecated and will be removed from pandas in a future version. Use pandas.concat instead.\n",
            "  return testingData.append(pd.Series(np.zeros(trainingDataSize-len(testingData), dtype=int)))\n",
            "<ipython-input-8-175c2f4f91ba>:23: FutureWarning: The series.append method is deprecated and will be removed from pandas in a future version. Use pandas.concat instead.\n",
            "  return testingData.append(pd.Series(np.zeros(trainingDataSize-len(testingData), dtype=int)))\n",
            "<ipython-input-8-175c2f4f91ba>:23: FutureWarning: The series.append method is deprecated and will be removed from pandas in a future version. Use pandas.concat instead.\n",
            "  return testingData.append(pd.Series(np.zeros(trainingDataSize-len(testingData), dtype=int)))\n",
            "<ipython-input-8-175c2f4f91ba>:23: FutureWarning: The series.append method is deprecated and will be removed from pandas in a future version. Use pandas.concat instead.\n",
            "  return testingData.append(pd.Series(np.zeros(trainingDataSize-len(testingData), dtype=int)))\n"
          ]
        },
        {
          "output_type": "display_data",
          "data": {
            "text/plain": [
              "<IPython.core.display.HTML object>"
            ],
            "text/html": [
              "\n",
              "<style>\n",
              "    /* Turns off some styling */\n",
              "    progress {\n",
              "        /* gets rid of default border in Firefox and Opera. */\n",
              "        border: none;\n",
              "        /* Needs to be in here for Safari polyfill so background images work as expected. */\n",
              "        background-size: auto;\n",
              "    }\n",
              "    progress:not([value]), progress:not([value])::-webkit-progress-bar {\n",
              "        background: repeating-linear-gradient(45deg, #7e7e7e, #7e7e7e 10px, #5c5c5c 10px, #5c5c5c 20px);\n",
              "    }\n",
              "    .progress-bar-interrupted, .progress-bar-interrupted::-webkit-progress-bar {\n",
              "        background: #F44336;\n",
              "    }\n",
              "</style>\n"
            ]
          },
          "metadata": {}
        },
        {
          "output_type": "display_data",
          "data": {
            "text/plain": [
              "<IPython.core.display.HTML object>"
            ],
            "text/html": [
              "\n",
              "    <div>\n",
              "      <progress value='4000' class='' max='4000' style='width:300px; height:20px; vertical-align: middle;'></progress>\n",
              "      100.00% [4000/4000 00:02&lt;00:00]\n",
              "    </div>\n",
              "    "
            ]
          },
          "metadata": {}
        },
        {
          "output_type": "display_data",
          "data": {
            "text/plain": [
              "<IPython.core.display.HTML object>"
            ],
            "text/html": [
              "\n",
              "<style>\n",
              "    /* Turns off some styling */\n",
              "    progress {\n",
              "        /* gets rid of default border in Firefox and Opera. */\n",
              "        border: none;\n",
              "        /* Needs to be in here for Safari polyfill so background images work as expected. */\n",
              "        background-size: auto;\n",
              "    }\n",
              "    progress:not([value]), progress:not([value])::-webkit-progress-bar {\n",
              "        background: repeating-linear-gradient(45deg, #7e7e7e, #7e7e7e 10px, #5c5c5c 10px, #5c5c5c 20px);\n",
              "    }\n",
              "    .progress-bar-interrupted, .progress-bar-interrupted::-webkit-progress-bar {\n",
              "        background: #F44336;\n",
              "    }\n",
              "</style>\n"
            ]
          },
          "metadata": {}
        },
        {
          "output_type": "display_data",
          "data": {
            "text/plain": [
              "<IPython.core.display.HTML object>"
            ],
            "text/html": [
              "\n",
              "    <div>\n",
              "      <progress value='3000' class='' max='3000' style='width:300px; height:20px; vertical-align: middle;'></progress>\n",
              "      100.00% [3000/3000 02:42&lt;00:00 Sampling chain 0, 0 divergences]\n",
              "    </div>\n",
              "    "
            ]
          },
          "metadata": {}
        },
        {
          "output_type": "display_data",
          "data": {
            "text/plain": [
              "<IPython.core.display.HTML object>"
            ],
            "text/html": [
              "\n",
              "<style>\n",
              "    /* Turns off some styling */\n",
              "    progress {\n",
              "        /* gets rid of default border in Firefox and Opera. */\n",
              "        border: none;\n",
              "        /* Needs to be in here for Safari polyfill so background images work as expected. */\n",
              "        background-size: auto;\n",
              "    }\n",
              "    progress:not([value]), progress:not([value])::-webkit-progress-bar {\n",
              "        background: repeating-linear-gradient(45deg, #7e7e7e, #7e7e7e 10px, #5c5c5c 10px, #5c5c5c 20px);\n",
              "    }\n",
              "    .progress-bar-interrupted, .progress-bar-interrupted::-webkit-progress-bar {\n",
              "        background: #F44336;\n",
              "    }\n",
              "</style>\n"
            ]
          },
          "metadata": {}
        },
        {
          "output_type": "display_data",
          "data": {
            "text/plain": [
              "<IPython.core.display.HTML object>"
            ],
            "text/html": [
              "\n",
              "    <div>\n",
              "      <progress value='3000' class='' max='3000' style='width:300px; height:20px; vertical-align: middle;'></progress>\n",
              "      100.00% [3000/3000 02:28&lt;00:00 Sampling chain 1, 0 divergences]\n",
              "    </div>\n",
              "    "
            ]
          },
          "metadata": {}
        },
        {
          "output_type": "display_data",
          "data": {
            "text/plain": [
              "<IPython.core.display.HTML object>"
            ],
            "text/html": [
              "\n",
              "<style>\n",
              "    /* Turns off some styling */\n",
              "    progress {\n",
              "        /* gets rid of default border in Firefox and Opera. */\n",
              "        border: none;\n",
              "        /* Needs to be in here for Safari polyfill so background images work as expected. */\n",
              "        background-size: auto;\n",
              "    }\n",
              "    progress:not([value]), progress:not([value])::-webkit-progress-bar {\n",
              "        background: repeating-linear-gradient(45deg, #7e7e7e, #7e7e7e 10px, #5c5c5c 10px, #5c5c5c 20px);\n",
              "    }\n",
              "    .progress-bar-interrupted, .progress-bar-interrupted::-webkit-progress-bar {\n",
              "        background: #F44336;\n",
              "    }\n",
              "</style>\n"
            ]
          },
          "metadata": {}
        },
        {
          "output_type": "display_data",
          "data": {
            "text/plain": [
              "<IPython.core.display.HTML object>"
            ],
            "text/html": [
              "\n",
              "    <div>\n",
              "      <progress value='3000' class='' max='3000' style='width:300px; height:20px; vertical-align: middle;'></progress>\n",
              "      100.00% [3000/3000 02:58&lt;00:00 Sampling chain 0, 0 divergences]\n",
              "    </div>\n",
              "    "
            ]
          },
          "metadata": {}
        },
        {
          "output_type": "display_data",
          "data": {
            "text/plain": [
              "<IPython.core.display.HTML object>"
            ],
            "text/html": [
              "\n",
              "<style>\n",
              "    /* Turns off some styling */\n",
              "    progress {\n",
              "        /* gets rid of default border in Firefox and Opera. */\n",
              "        border: none;\n",
              "        /* Needs to be in here for Safari polyfill so background images work as expected. */\n",
              "        background-size: auto;\n",
              "    }\n",
              "    progress:not([value]), progress:not([value])::-webkit-progress-bar {\n",
              "        background: repeating-linear-gradient(45deg, #7e7e7e, #7e7e7e 10px, #5c5c5c 10px, #5c5c5c 20px);\n",
              "    }\n",
              "    .progress-bar-interrupted, .progress-bar-interrupted::-webkit-progress-bar {\n",
              "        background: #F44336;\n",
              "    }\n",
              "</style>\n"
            ]
          },
          "metadata": {}
        },
        {
          "output_type": "display_data",
          "data": {
            "text/plain": [
              "<IPython.core.display.HTML object>"
            ],
            "text/html": [
              "\n",
              "    <div>\n",
              "      <progress value='3000' class='' max='3000' style='width:300px; height:20px; vertical-align: middle;'></progress>\n",
              "      100.00% [3000/3000 02:50&lt;00:00 Sampling chain 1, 0 divergences]\n",
              "    </div>\n",
              "    "
            ]
          },
          "metadata": {}
        },
        {
          "output_type": "stream",
          "name": "stderr",
          "text": [
            "<ipython-input-8-175c2f4f91ba>:23: FutureWarning: The series.append method is deprecated and will be removed from pandas in a future version. Use pandas.concat instead.\n",
            "  return testingData.append(pd.Series(np.zeros(trainingDataSize-len(testingData), dtype=int)))\n",
            "<ipython-input-8-175c2f4f91ba>:23: FutureWarning: The series.append method is deprecated and will be removed from pandas in a future version. Use pandas.concat instead.\n",
            "  return testingData.append(pd.Series(np.zeros(trainingDataSize-len(testingData), dtype=int)))\n",
            "<ipython-input-8-175c2f4f91ba>:23: FutureWarning: The series.append method is deprecated and will be removed from pandas in a future version. Use pandas.concat instead.\n",
            "  return testingData.append(pd.Series(np.zeros(trainingDataSize-len(testingData), dtype=int)))\n",
            "<ipython-input-8-175c2f4f91ba>:23: FutureWarning: The series.append method is deprecated and will be removed from pandas in a future version. Use pandas.concat instead.\n",
            "  return testingData.append(pd.Series(np.zeros(trainingDataSize-len(testingData), dtype=int)))\n",
            "<ipython-input-8-175c2f4f91ba>:23: FutureWarning: The series.append method is deprecated and will be removed from pandas in a future version. Use pandas.concat instead.\n",
            "  return testingData.append(pd.Series(np.zeros(trainingDataSize-len(testingData), dtype=int)))\n",
            "<ipython-input-8-175c2f4f91ba>:23: FutureWarning: The series.append method is deprecated and will be removed from pandas in a future version. Use pandas.concat instead.\n",
            "  return testingData.append(pd.Series(np.zeros(trainingDataSize-len(testingData), dtype=int)))\n",
            "<ipython-input-8-175c2f4f91ba>:23: FutureWarning: The series.append method is deprecated and will be removed from pandas in a future version. Use pandas.concat instead.\n",
            "  return testingData.append(pd.Series(np.zeros(trainingDataSize-len(testingData), dtype=int)))\n",
            "<ipython-input-8-175c2f4f91ba>:23: FutureWarning: The series.append method is deprecated and will be removed from pandas in a future version. Use pandas.concat instead.\n",
            "  return testingData.append(pd.Series(np.zeros(trainingDataSize-len(testingData), dtype=int)))\n",
            "<ipython-input-8-175c2f4f91ba>:23: FutureWarning: The series.append method is deprecated and will be removed from pandas in a future version. Use pandas.concat instead.\n",
            "  return testingData.append(pd.Series(np.zeros(trainingDataSize-len(testingData), dtype=int)))\n",
            "<ipython-input-8-175c2f4f91ba>:23: FutureWarning: The series.append method is deprecated and will be removed from pandas in a future version. Use pandas.concat instead.\n",
            "  return testingData.append(pd.Series(np.zeros(trainingDataSize-len(testingData), dtype=int)))\n",
            "<ipython-input-8-175c2f4f91ba>:23: FutureWarning: The series.append method is deprecated and will be removed from pandas in a future version. Use pandas.concat instead.\n",
            "  return testingData.append(pd.Series(np.zeros(trainingDataSize-len(testingData), dtype=int)))\n",
            "<ipython-input-8-175c2f4f91ba>:23: FutureWarning: The series.append method is deprecated and will be removed from pandas in a future version. Use pandas.concat instead.\n",
            "  return testingData.append(pd.Series(np.zeros(trainingDataSize-len(testingData), dtype=int)))\n"
          ]
        },
        {
          "output_type": "display_data",
          "data": {
            "text/plain": [
              "<IPython.core.display.HTML object>"
            ],
            "text/html": [
              "\n",
              "<style>\n",
              "    /* Turns off some styling */\n",
              "    progress {\n",
              "        /* gets rid of default border in Firefox and Opera. */\n",
              "        border: none;\n",
              "        /* Needs to be in here for Safari polyfill so background images work as expected. */\n",
              "        background-size: auto;\n",
              "    }\n",
              "    progress:not([value]), progress:not([value])::-webkit-progress-bar {\n",
              "        background: repeating-linear-gradient(45deg, #7e7e7e, #7e7e7e 10px, #5c5c5c 10px, #5c5c5c 20px);\n",
              "    }\n",
              "    .progress-bar-interrupted, .progress-bar-interrupted::-webkit-progress-bar {\n",
              "        background: #F44336;\n",
              "    }\n",
              "</style>\n"
            ]
          },
          "metadata": {}
        },
        {
          "output_type": "display_data",
          "data": {
            "text/plain": [
              "<IPython.core.display.HTML object>"
            ],
            "text/html": [
              "\n",
              "    <div>\n",
              "      <progress value='4000' class='' max='4000' style='width:300px; height:20px; vertical-align: middle;'></progress>\n",
              "      100.00% [4000/4000 00:02&lt;00:00]\n",
              "    </div>\n",
              "    "
            ]
          },
          "metadata": {}
        },
        {
          "output_type": "display_data",
          "data": {
            "text/plain": [
              "<IPython.core.display.HTML object>"
            ],
            "text/html": [
              "\n",
              "<style>\n",
              "    /* Turns off some styling */\n",
              "    progress {\n",
              "        /* gets rid of default border in Firefox and Opera. */\n",
              "        border: none;\n",
              "        /* Needs to be in here for Safari polyfill so background images work as expected. */\n",
              "        background-size: auto;\n",
              "    }\n",
              "    progress:not([value]), progress:not([value])::-webkit-progress-bar {\n",
              "        background: repeating-linear-gradient(45deg, #7e7e7e, #7e7e7e 10px, #5c5c5c 10px, #5c5c5c 20px);\n",
              "    }\n",
              "    .progress-bar-interrupted, .progress-bar-interrupted::-webkit-progress-bar {\n",
              "        background: #F44336;\n",
              "    }\n",
              "</style>\n"
            ]
          },
          "metadata": {}
        },
        {
          "output_type": "display_data",
          "data": {
            "text/plain": [
              "<IPython.core.display.HTML object>"
            ],
            "text/html": [
              "\n",
              "    <div>\n",
              "      <progress value='3000' class='' max='3000' style='width:300px; height:20px; vertical-align: middle;'></progress>\n",
              "      100.00% [3000/3000 03:25&lt;00:00 Sampling chain 0, 0 divergences]\n",
              "    </div>\n",
              "    "
            ]
          },
          "metadata": {}
        },
        {
          "output_type": "display_data",
          "data": {
            "text/plain": [
              "<IPython.core.display.HTML object>"
            ],
            "text/html": [
              "\n",
              "<style>\n",
              "    /* Turns off some styling */\n",
              "    progress {\n",
              "        /* gets rid of default border in Firefox and Opera. */\n",
              "        border: none;\n",
              "        /* Needs to be in here for Safari polyfill so background images work as expected. */\n",
              "        background-size: auto;\n",
              "    }\n",
              "    progress:not([value]), progress:not([value])::-webkit-progress-bar {\n",
              "        background: repeating-linear-gradient(45deg, #7e7e7e, #7e7e7e 10px, #5c5c5c 10px, #5c5c5c 20px);\n",
              "    }\n",
              "    .progress-bar-interrupted, .progress-bar-interrupted::-webkit-progress-bar {\n",
              "        background: #F44336;\n",
              "    }\n",
              "</style>\n"
            ]
          },
          "metadata": {}
        },
        {
          "output_type": "display_data",
          "data": {
            "text/plain": [
              "<IPython.core.display.HTML object>"
            ],
            "text/html": [
              "\n",
              "    <div>\n",
              "      <progress value='3000' class='' max='3000' style='width:300px; height:20px; vertical-align: middle;'></progress>\n",
              "      100.00% [3000/3000 03:08&lt;00:00 Sampling chain 1, 0 divergences]\n",
              "    </div>\n",
              "    "
            ]
          },
          "metadata": {}
        },
        {
          "output_type": "display_data",
          "data": {
            "text/plain": [
              "<IPython.core.display.HTML object>"
            ],
            "text/html": [
              "\n",
              "<style>\n",
              "    /* Turns off some styling */\n",
              "    progress {\n",
              "        /* gets rid of default border in Firefox and Opera. */\n",
              "        border: none;\n",
              "        /* Needs to be in here for Safari polyfill so background images work as expected. */\n",
              "        background-size: auto;\n",
              "    }\n",
              "    progress:not([value]), progress:not([value])::-webkit-progress-bar {\n",
              "        background: repeating-linear-gradient(45deg, #7e7e7e, #7e7e7e 10px, #5c5c5c 10px, #5c5c5c 20px);\n",
              "    }\n",
              "    .progress-bar-interrupted, .progress-bar-interrupted::-webkit-progress-bar {\n",
              "        background: #F44336;\n",
              "    }\n",
              "</style>\n"
            ]
          },
          "metadata": {}
        },
        {
          "output_type": "display_data",
          "data": {
            "text/plain": [
              "<IPython.core.display.HTML object>"
            ],
            "text/html": [
              "\n",
              "    <div>\n",
              "      <progress value='3000' class='' max='3000' style='width:300px; height:20px; vertical-align: middle;'></progress>\n",
              "      100.00% [3000/3000 03:13&lt;00:00 Sampling chain 0, 0 divergences]\n",
              "    </div>\n",
              "    "
            ]
          },
          "metadata": {}
        },
        {
          "output_type": "display_data",
          "data": {
            "text/plain": [
              "<IPython.core.display.HTML object>"
            ],
            "text/html": [
              "\n",
              "<style>\n",
              "    /* Turns off some styling */\n",
              "    progress {\n",
              "        /* gets rid of default border in Firefox and Opera. */\n",
              "        border: none;\n",
              "        /* Needs to be in here for Safari polyfill so background images work as expected. */\n",
              "        background-size: auto;\n",
              "    }\n",
              "    progress:not([value]), progress:not([value])::-webkit-progress-bar {\n",
              "        background: repeating-linear-gradient(45deg, #7e7e7e, #7e7e7e 10px, #5c5c5c 10px, #5c5c5c 20px);\n",
              "    }\n",
              "    .progress-bar-interrupted, .progress-bar-interrupted::-webkit-progress-bar {\n",
              "        background: #F44336;\n",
              "    }\n",
              "</style>\n"
            ]
          },
          "metadata": {}
        },
        {
          "output_type": "display_data",
          "data": {
            "text/plain": [
              "<IPython.core.display.HTML object>"
            ],
            "text/html": [
              "\n",
              "    <div>\n",
              "      <progress value='3000' class='' max='3000' style='width:300px; height:20px; vertical-align: middle;'></progress>\n",
              "      100.00% [3000/3000 03:08&lt;00:00 Sampling chain 1, 0 divergences]\n",
              "    </div>\n",
              "    "
            ]
          },
          "metadata": {}
        },
        {
          "output_type": "stream",
          "name": "stderr",
          "text": [
            "<ipython-input-8-175c2f4f91ba>:23: FutureWarning: The series.append method is deprecated and will be removed from pandas in a future version. Use pandas.concat instead.\n",
            "  return testingData.append(pd.Series(np.zeros(trainingDataSize-len(testingData), dtype=int)))\n",
            "<ipython-input-8-175c2f4f91ba>:23: FutureWarning: The series.append method is deprecated and will be removed from pandas in a future version. Use pandas.concat instead.\n",
            "  return testingData.append(pd.Series(np.zeros(trainingDataSize-len(testingData), dtype=int)))\n",
            "<ipython-input-8-175c2f4f91ba>:23: FutureWarning: The series.append method is deprecated and will be removed from pandas in a future version. Use pandas.concat instead.\n",
            "  return testingData.append(pd.Series(np.zeros(trainingDataSize-len(testingData), dtype=int)))\n",
            "<ipython-input-8-175c2f4f91ba>:23: FutureWarning: The series.append method is deprecated and will be removed from pandas in a future version. Use pandas.concat instead.\n",
            "  return testingData.append(pd.Series(np.zeros(trainingDataSize-len(testingData), dtype=int)))\n",
            "<ipython-input-8-175c2f4f91ba>:23: FutureWarning: The series.append method is deprecated and will be removed from pandas in a future version. Use pandas.concat instead.\n",
            "  return testingData.append(pd.Series(np.zeros(trainingDataSize-len(testingData), dtype=int)))\n",
            "<ipython-input-8-175c2f4f91ba>:23: FutureWarning: The series.append method is deprecated and will be removed from pandas in a future version. Use pandas.concat instead.\n",
            "  return testingData.append(pd.Series(np.zeros(trainingDataSize-len(testingData), dtype=int)))\n",
            "<ipython-input-8-175c2f4f91ba>:23: FutureWarning: The series.append method is deprecated and will be removed from pandas in a future version. Use pandas.concat instead.\n",
            "  return testingData.append(pd.Series(np.zeros(trainingDataSize-len(testingData), dtype=int)))\n",
            "<ipython-input-8-175c2f4f91ba>:23: FutureWarning: The series.append method is deprecated and will be removed from pandas in a future version. Use pandas.concat instead.\n",
            "  return testingData.append(pd.Series(np.zeros(trainingDataSize-len(testingData), dtype=int)))\n",
            "<ipython-input-8-175c2f4f91ba>:23: FutureWarning: The series.append method is deprecated and will be removed from pandas in a future version. Use pandas.concat instead.\n",
            "  return testingData.append(pd.Series(np.zeros(trainingDataSize-len(testingData), dtype=int)))\n",
            "<ipython-input-8-175c2f4f91ba>:23: FutureWarning: The series.append method is deprecated and will be removed from pandas in a future version. Use pandas.concat instead.\n",
            "  return testingData.append(pd.Series(np.zeros(trainingDataSize-len(testingData), dtype=int)))\n",
            "<ipython-input-8-175c2f4f91ba>:23: FutureWarning: The series.append method is deprecated and will be removed from pandas in a future version. Use pandas.concat instead.\n",
            "  return testingData.append(pd.Series(np.zeros(trainingDataSize-len(testingData), dtype=int)))\n",
            "<ipython-input-8-175c2f4f91ba>:23: FutureWarning: The series.append method is deprecated and will be removed from pandas in a future version. Use pandas.concat instead.\n",
            "  return testingData.append(pd.Series(np.zeros(trainingDataSize-len(testingData), dtype=int)))\n"
          ]
        },
        {
          "output_type": "display_data",
          "data": {
            "text/plain": [
              "<IPython.core.display.HTML object>"
            ],
            "text/html": [
              "\n",
              "<style>\n",
              "    /* Turns off some styling */\n",
              "    progress {\n",
              "        /* gets rid of default border in Firefox and Opera. */\n",
              "        border: none;\n",
              "        /* Needs to be in here for Safari polyfill so background images work as expected. */\n",
              "        background-size: auto;\n",
              "    }\n",
              "    progress:not([value]), progress:not([value])::-webkit-progress-bar {\n",
              "        background: repeating-linear-gradient(45deg, #7e7e7e, #7e7e7e 10px, #5c5c5c 10px, #5c5c5c 20px);\n",
              "    }\n",
              "    .progress-bar-interrupted, .progress-bar-interrupted::-webkit-progress-bar {\n",
              "        background: #F44336;\n",
              "    }\n",
              "</style>\n"
            ]
          },
          "metadata": {}
        },
        {
          "output_type": "display_data",
          "data": {
            "text/plain": [
              "<IPython.core.display.HTML object>"
            ],
            "text/html": [
              "\n",
              "    <div>\n",
              "      <progress value='4000' class='' max='4000' style='width:300px; height:20px; vertical-align: middle;'></progress>\n",
              "      100.00% [4000/4000 00:02&lt;00:00]\n",
              "    </div>\n",
              "    "
            ]
          },
          "metadata": {}
        },
        {
          "output_type": "display_data",
          "data": {
            "text/plain": [
              "<IPython.core.display.HTML object>"
            ],
            "text/html": [
              "\n",
              "<style>\n",
              "    /* Turns off some styling */\n",
              "    progress {\n",
              "        /* gets rid of default border in Firefox and Opera. */\n",
              "        border: none;\n",
              "        /* Needs to be in here for Safari polyfill so background images work as expected. */\n",
              "        background-size: auto;\n",
              "    }\n",
              "    progress:not([value]), progress:not([value])::-webkit-progress-bar {\n",
              "        background: repeating-linear-gradient(45deg, #7e7e7e, #7e7e7e 10px, #5c5c5c 10px, #5c5c5c 20px);\n",
              "    }\n",
              "    .progress-bar-interrupted, .progress-bar-interrupted::-webkit-progress-bar {\n",
              "        background: #F44336;\n",
              "    }\n",
              "</style>\n"
            ]
          },
          "metadata": {}
        },
        {
          "output_type": "display_data",
          "data": {
            "text/plain": [
              "<IPython.core.display.HTML object>"
            ],
            "text/html": [
              "\n",
              "    <div>\n",
              "      <progress value='3000' class='' max='3000' style='width:300px; height:20px; vertical-align: middle;'></progress>\n",
              "      100.00% [3000/3000 03:43&lt;00:00 Sampling chain 0, 0 divergences]\n",
              "    </div>\n",
              "    "
            ]
          },
          "metadata": {}
        },
        {
          "output_type": "display_data",
          "data": {
            "text/plain": [
              "<IPython.core.display.HTML object>"
            ],
            "text/html": [
              "\n",
              "<style>\n",
              "    /* Turns off some styling */\n",
              "    progress {\n",
              "        /* gets rid of default border in Firefox and Opera. */\n",
              "        border: none;\n",
              "        /* Needs to be in here for Safari polyfill so background images work as expected. */\n",
              "        background-size: auto;\n",
              "    }\n",
              "    progress:not([value]), progress:not([value])::-webkit-progress-bar {\n",
              "        background: repeating-linear-gradient(45deg, #7e7e7e, #7e7e7e 10px, #5c5c5c 10px, #5c5c5c 20px);\n",
              "    }\n",
              "    .progress-bar-interrupted, .progress-bar-interrupted::-webkit-progress-bar {\n",
              "        background: #F44336;\n",
              "    }\n",
              "</style>\n"
            ]
          },
          "metadata": {}
        },
        {
          "output_type": "display_data",
          "data": {
            "text/plain": [
              "<IPython.core.display.HTML object>"
            ],
            "text/html": [
              "\n",
              "    <div>\n",
              "      <progress value='3000' class='' max='3000' style='width:300px; height:20px; vertical-align: middle;'></progress>\n",
              "      100.00% [3000/3000 03:24&lt;00:00 Sampling chain 1, 0 divergences]\n",
              "    </div>\n",
              "    "
            ]
          },
          "metadata": {}
        },
        {
          "output_type": "display_data",
          "data": {
            "text/plain": [
              "<IPython.core.display.HTML object>"
            ],
            "text/html": [
              "\n",
              "<style>\n",
              "    /* Turns off some styling */\n",
              "    progress {\n",
              "        /* gets rid of default border in Firefox and Opera. */\n",
              "        border: none;\n",
              "        /* Needs to be in here for Safari polyfill so background images work as expected. */\n",
              "        background-size: auto;\n",
              "    }\n",
              "    progress:not([value]), progress:not([value])::-webkit-progress-bar {\n",
              "        background: repeating-linear-gradient(45deg, #7e7e7e, #7e7e7e 10px, #5c5c5c 10px, #5c5c5c 20px);\n",
              "    }\n",
              "    .progress-bar-interrupted, .progress-bar-interrupted::-webkit-progress-bar {\n",
              "        background: #F44336;\n",
              "    }\n",
              "</style>\n"
            ]
          },
          "metadata": {}
        },
        {
          "output_type": "display_data",
          "data": {
            "text/plain": [
              "<IPython.core.display.HTML object>"
            ],
            "text/html": [
              "\n",
              "    <div>\n",
              "      <progress value='3000' class='' max='3000' style='width:300px; height:20px; vertical-align: middle;'></progress>\n",
              "      100.00% [3000/3000 01:55&lt;00:00 Sampling chain 0, 0 divergences]\n",
              "    </div>\n",
              "    "
            ]
          },
          "metadata": {}
        },
        {
          "output_type": "display_data",
          "data": {
            "text/plain": [
              "<IPython.core.display.HTML object>"
            ],
            "text/html": [
              "\n",
              "<style>\n",
              "    /* Turns off some styling */\n",
              "    progress {\n",
              "        /* gets rid of default border in Firefox and Opera. */\n",
              "        border: none;\n",
              "        /* Needs to be in here for Safari polyfill so background images work as expected. */\n",
              "        background-size: auto;\n",
              "    }\n",
              "    progress:not([value]), progress:not([value])::-webkit-progress-bar {\n",
              "        background: repeating-linear-gradient(45deg, #7e7e7e, #7e7e7e 10px, #5c5c5c 10px, #5c5c5c 20px);\n",
              "    }\n",
              "    .progress-bar-interrupted, .progress-bar-interrupted::-webkit-progress-bar {\n",
              "        background: #F44336;\n",
              "    }\n",
              "</style>\n"
            ]
          },
          "metadata": {}
        },
        {
          "output_type": "display_data",
          "data": {
            "text/plain": [
              "<IPython.core.display.HTML object>"
            ],
            "text/html": [
              "\n",
              "    <div>\n",
              "      <progress value='3000' class='' max='3000' style='width:300px; height:20px; vertical-align: middle;'></progress>\n",
              "      100.00% [3000/3000 01:58&lt;00:00 Sampling chain 1, 0 divergences]\n",
              "    </div>\n",
              "    "
            ]
          },
          "metadata": {}
        },
        {
          "output_type": "stream",
          "name": "stderr",
          "text": [
            "<ipython-input-8-175c2f4f91ba>:23: FutureWarning: The series.append method is deprecated and will be removed from pandas in a future version. Use pandas.concat instead.\n",
            "  return testingData.append(pd.Series(np.zeros(trainingDataSize-len(testingData), dtype=int)))\n",
            "<ipython-input-8-175c2f4f91ba>:23: FutureWarning: The series.append method is deprecated and will be removed from pandas in a future version. Use pandas.concat instead.\n",
            "  return testingData.append(pd.Series(np.zeros(trainingDataSize-len(testingData), dtype=int)))\n",
            "<ipython-input-8-175c2f4f91ba>:23: FutureWarning: The series.append method is deprecated and will be removed from pandas in a future version. Use pandas.concat instead.\n",
            "  return testingData.append(pd.Series(np.zeros(trainingDataSize-len(testingData), dtype=int)))\n",
            "<ipython-input-8-175c2f4f91ba>:23: FutureWarning: The series.append method is deprecated and will be removed from pandas in a future version. Use pandas.concat instead.\n",
            "  return testingData.append(pd.Series(np.zeros(trainingDataSize-len(testingData), dtype=int)))\n",
            "<ipython-input-8-175c2f4f91ba>:23: FutureWarning: The series.append method is deprecated and will be removed from pandas in a future version. Use pandas.concat instead.\n",
            "  return testingData.append(pd.Series(np.zeros(trainingDataSize-len(testingData), dtype=int)))\n",
            "<ipython-input-8-175c2f4f91ba>:23: FutureWarning: The series.append method is deprecated and will be removed from pandas in a future version. Use pandas.concat instead.\n",
            "  return testingData.append(pd.Series(np.zeros(trainingDataSize-len(testingData), dtype=int)))\n",
            "<ipython-input-8-175c2f4f91ba>:23: FutureWarning: The series.append method is deprecated and will be removed from pandas in a future version. Use pandas.concat instead.\n",
            "  return testingData.append(pd.Series(np.zeros(trainingDataSize-len(testingData), dtype=int)))\n",
            "<ipython-input-8-175c2f4f91ba>:23: FutureWarning: The series.append method is deprecated and will be removed from pandas in a future version. Use pandas.concat instead.\n",
            "  return testingData.append(pd.Series(np.zeros(trainingDataSize-len(testingData), dtype=int)))\n",
            "<ipython-input-8-175c2f4f91ba>:23: FutureWarning: The series.append method is deprecated and will be removed from pandas in a future version. Use pandas.concat instead.\n",
            "  return testingData.append(pd.Series(np.zeros(trainingDataSize-len(testingData), dtype=int)))\n",
            "<ipython-input-8-175c2f4f91ba>:23: FutureWarning: The series.append method is deprecated and will be removed from pandas in a future version. Use pandas.concat instead.\n",
            "  return testingData.append(pd.Series(np.zeros(trainingDataSize-len(testingData), dtype=int)))\n",
            "<ipython-input-8-175c2f4f91ba>:23: FutureWarning: The series.append method is deprecated and will be removed from pandas in a future version. Use pandas.concat instead.\n",
            "  return testingData.append(pd.Series(np.zeros(trainingDataSize-len(testingData), dtype=int)))\n",
            "<ipython-input-8-175c2f4f91ba>:23: FutureWarning: The series.append method is deprecated and will be removed from pandas in a future version. Use pandas.concat instead.\n",
            "  return testingData.append(pd.Series(np.zeros(trainingDataSize-len(testingData), dtype=int)))\n"
          ]
        },
        {
          "output_type": "display_data",
          "data": {
            "text/plain": [
              "<IPython.core.display.HTML object>"
            ],
            "text/html": [
              "\n",
              "<style>\n",
              "    /* Turns off some styling */\n",
              "    progress {\n",
              "        /* gets rid of default border in Firefox and Opera. */\n",
              "        border: none;\n",
              "        /* Needs to be in here for Safari polyfill so background images work as expected. */\n",
              "        background-size: auto;\n",
              "    }\n",
              "    progress:not([value]), progress:not([value])::-webkit-progress-bar {\n",
              "        background: repeating-linear-gradient(45deg, #7e7e7e, #7e7e7e 10px, #5c5c5c 10px, #5c5c5c 20px);\n",
              "    }\n",
              "    .progress-bar-interrupted, .progress-bar-interrupted::-webkit-progress-bar {\n",
              "        background: #F44336;\n",
              "    }\n",
              "</style>\n"
            ]
          },
          "metadata": {}
        },
        {
          "output_type": "display_data",
          "data": {
            "text/plain": [
              "<IPython.core.display.HTML object>"
            ],
            "text/html": [
              "\n",
              "    <div>\n",
              "      <progress value='4000' class='' max='4000' style='width:300px; height:20px; vertical-align: middle;'></progress>\n",
              "      100.00% [4000/4000 00:04&lt;00:00]\n",
              "    </div>\n",
              "    "
            ]
          },
          "metadata": {}
        },
        {
          "output_type": "display_data",
          "data": {
            "text/plain": [
              "<IPython.core.display.HTML object>"
            ],
            "text/html": [
              "\n",
              "<style>\n",
              "    /* Turns off some styling */\n",
              "    progress {\n",
              "        /* gets rid of default border in Firefox and Opera. */\n",
              "        border: none;\n",
              "        /* Needs to be in here for Safari polyfill so background images work as expected. */\n",
              "        background-size: auto;\n",
              "    }\n",
              "    progress:not([value]), progress:not([value])::-webkit-progress-bar {\n",
              "        background: repeating-linear-gradient(45deg, #7e7e7e, #7e7e7e 10px, #5c5c5c 10px, #5c5c5c 20px);\n",
              "    }\n",
              "    .progress-bar-interrupted, .progress-bar-interrupted::-webkit-progress-bar {\n",
              "        background: #F44336;\n",
              "    }\n",
              "</style>\n"
            ]
          },
          "metadata": {}
        },
        {
          "output_type": "display_data",
          "data": {
            "text/plain": [
              "<IPython.core.display.HTML object>"
            ],
            "text/html": [
              "\n",
              "    <div>\n",
              "      <progress value='3000' class='' max='3000' style='width:300px; height:20px; vertical-align: middle;'></progress>\n",
              "      100.00% [3000/3000 02:20&lt;00:00 Sampling chain 0, 0 divergences]\n",
              "    </div>\n",
              "    "
            ]
          },
          "metadata": {}
        },
        {
          "output_type": "display_data",
          "data": {
            "text/plain": [
              "<IPython.core.display.HTML object>"
            ],
            "text/html": [
              "\n",
              "<style>\n",
              "    /* Turns off some styling */\n",
              "    progress {\n",
              "        /* gets rid of default border in Firefox and Opera. */\n",
              "        border: none;\n",
              "        /* Needs to be in here for Safari polyfill so background images work as expected. */\n",
              "        background-size: auto;\n",
              "    }\n",
              "    progress:not([value]), progress:not([value])::-webkit-progress-bar {\n",
              "        background: repeating-linear-gradient(45deg, #7e7e7e, #7e7e7e 10px, #5c5c5c 10px, #5c5c5c 20px);\n",
              "    }\n",
              "    .progress-bar-interrupted, .progress-bar-interrupted::-webkit-progress-bar {\n",
              "        background: #F44336;\n",
              "    }\n",
              "</style>\n"
            ]
          },
          "metadata": {}
        },
        {
          "output_type": "display_data",
          "data": {
            "text/plain": [
              "<IPython.core.display.HTML object>"
            ],
            "text/html": [
              "\n",
              "    <div>\n",
              "      <progress value='3000' class='' max='3000' style='width:300px; height:20px; vertical-align: middle;'></progress>\n",
              "      100.00% [3000/3000 02:22&lt;00:00 Sampling chain 1, 0 divergences]\n",
              "    </div>\n",
              "    "
            ]
          },
          "metadata": {}
        },
        {
          "output_type": "display_data",
          "data": {
            "text/plain": [
              "<IPython.core.display.HTML object>"
            ],
            "text/html": [
              "\n",
              "<style>\n",
              "    /* Turns off some styling */\n",
              "    progress {\n",
              "        /* gets rid of default border in Firefox and Opera. */\n",
              "        border: none;\n",
              "        /* Needs to be in here for Safari polyfill so background images work as expected. */\n",
              "        background-size: auto;\n",
              "    }\n",
              "    progress:not([value]), progress:not([value])::-webkit-progress-bar {\n",
              "        background: repeating-linear-gradient(45deg, #7e7e7e, #7e7e7e 10px, #5c5c5c 10px, #5c5c5c 20px);\n",
              "    }\n",
              "    .progress-bar-interrupted, .progress-bar-interrupted::-webkit-progress-bar {\n",
              "        background: #F44336;\n",
              "    }\n",
              "</style>\n"
            ]
          },
          "metadata": {}
        },
        {
          "output_type": "display_data",
          "data": {
            "text/plain": [
              "<IPython.core.display.HTML object>"
            ],
            "text/html": [
              "\n",
              "    <div>\n",
              "      <progress value='3000' class='' max='3000' style='width:300px; height:20px; vertical-align: middle;'></progress>\n",
              "      100.00% [3000/3000 01:59&lt;00:00 Sampling chain 0, 0 divergences]\n",
              "    </div>\n",
              "    "
            ]
          },
          "metadata": {}
        },
        {
          "output_type": "display_data",
          "data": {
            "text/plain": [
              "<IPython.core.display.HTML object>"
            ],
            "text/html": [
              "\n",
              "<style>\n",
              "    /* Turns off some styling */\n",
              "    progress {\n",
              "        /* gets rid of default border in Firefox and Opera. */\n",
              "        border: none;\n",
              "        /* Needs to be in here for Safari polyfill so background images work as expected. */\n",
              "        background-size: auto;\n",
              "    }\n",
              "    progress:not([value]), progress:not([value])::-webkit-progress-bar {\n",
              "        background: repeating-linear-gradient(45deg, #7e7e7e, #7e7e7e 10px, #5c5c5c 10px, #5c5c5c 20px);\n",
              "    }\n",
              "    .progress-bar-interrupted, .progress-bar-interrupted::-webkit-progress-bar {\n",
              "        background: #F44336;\n",
              "    }\n",
              "</style>\n"
            ]
          },
          "metadata": {}
        },
        {
          "output_type": "display_data",
          "data": {
            "text/plain": [
              "<IPython.core.display.HTML object>"
            ],
            "text/html": [
              "\n",
              "    <div>\n",
              "      <progress value='3000' class='' max='3000' style='width:300px; height:20px; vertical-align: middle;'></progress>\n",
              "      100.00% [3000/3000 01:59&lt;00:00 Sampling chain 1, 0 divergences]\n",
              "    </div>\n",
              "    "
            ]
          },
          "metadata": {}
        },
        {
          "output_type": "stream",
          "name": "stderr",
          "text": [
            "<ipython-input-8-175c2f4f91ba>:23: FutureWarning: The series.append method is deprecated and will be removed from pandas in a future version. Use pandas.concat instead.\n",
            "  return testingData.append(pd.Series(np.zeros(trainingDataSize-len(testingData), dtype=int)))\n",
            "<ipython-input-8-175c2f4f91ba>:23: FutureWarning: The series.append method is deprecated and will be removed from pandas in a future version. Use pandas.concat instead.\n",
            "  return testingData.append(pd.Series(np.zeros(trainingDataSize-len(testingData), dtype=int)))\n",
            "<ipython-input-8-175c2f4f91ba>:23: FutureWarning: The series.append method is deprecated and will be removed from pandas in a future version. Use pandas.concat instead.\n",
            "  return testingData.append(pd.Series(np.zeros(trainingDataSize-len(testingData), dtype=int)))\n",
            "<ipython-input-8-175c2f4f91ba>:23: FutureWarning: The series.append method is deprecated and will be removed from pandas in a future version. Use pandas.concat instead.\n",
            "  return testingData.append(pd.Series(np.zeros(trainingDataSize-len(testingData), dtype=int)))\n",
            "<ipython-input-8-175c2f4f91ba>:23: FutureWarning: The series.append method is deprecated and will be removed from pandas in a future version. Use pandas.concat instead.\n",
            "  return testingData.append(pd.Series(np.zeros(trainingDataSize-len(testingData), dtype=int)))\n",
            "<ipython-input-8-175c2f4f91ba>:23: FutureWarning: The series.append method is deprecated and will be removed from pandas in a future version. Use pandas.concat instead.\n",
            "  return testingData.append(pd.Series(np.zeros(trainingDataSize-len(testingData), dtype=int)))\n",
            "<ipython-input-8-175c2f4f91ba>:23: FutureWarning: The series.append method is deprecated and will be removed from pandas in a future version. Use pandas.concat instead.\n",
            "  return testingData.append(pd.Series(np.zeros(trainingDataSize-len(testingData), dtype=int)))\n",
            "<ipython-input-8-175c2f4f91ba>:23: FutureWarning: The series.append method is deprecated and will be removed from pandas in a future version. Use pandas.concat instead.\n",
            "  return testingData.append(pd.Series(np.zeros(trainingDataSize-len(testingData), dtype=int)))\n",
            "<ipython-input-8-175c2f4f91ba>:23: FutureWarning: The series.append method is deprecated and will be removed from pandas in a future version. Use pandas.concat instead.\n",
            "  return testingData.append(pd.Series(np.zeros(trainingDataSize-len(testingData), dtype=int)))\n",
            "<ipython-input-8-175c2f4f91ba>:23: FutureWarning: The series.append method is deprecated and will be removed from pandas in a future version. Use pandas.concat instead.\n",
            "  return testingData.append(pd.Series(np.zeros(trainingDataSize-len(testingData), dtype=int)))\n",
            "<ipython-input-8-175c2f4f91ba>:23: FutureWarning: The series.append method is deprecated and will be removed from pandas in a future version. Use pandas.concat instead.\n",
            "  return testingData.append(pd.Series(np.zeros(trainingDataSize-len(testingData), dtype=int)))\n",
            "<ipython-input-8-175c2f4f91ba>:23: FutureWarning: The series.append method is deprecated and will be removed from pandas in a future version. Use pandas.concat instead.\n",
            "  return testingData.append(pd.Series(np.zeros(trainingDataSize-len(testingData), dtype=int)))\n"
          ]
        },
        {
          "output_type": "display_data",
          "data": {
            "text/plain": [
              "<IPython.core.display.HTML object>"
            ],
            "text/html": [
              "\n",
              "<style>\n",
              "    /* Turns off some styling */\n",
              "    progress {\n",
              "        /* gets rid of default border in Firefox and Opera. */\n",
              "        border: none;\n",
              "        /* Needs to be in here for Safari polyfill so background images work as expected. */\n",
              "        background-size: auto;\n",
              "    }\n",
              "    progress:not([value]), progress:not([value])::-webkit-progress-bar {\n",
              "        background: repeating-linear-gradient(45deg, #7e7e7e, #7e7e7e 10px, #5c5c5c 10px, #5c5c5c 20px);\n",
              "    }\n",
              "    .progress-bar-interrupted, .progress-bar-interrupted::-webkit-progress-bar {\n",
              "        background: #F44336;\n",
              "    }\n",
              "</style>\n"
            ]
          },
          "metadata": {}
        },
        {
          "output_type": "display_data",
          "data": {
            "text/plain": [
              "<IPython.core.display.HTML object>"
            ],
            "text/html": [
              "\n",
              "    <div>\n",
              "      <progress value='4000' class='' max='4000' style='width:300px; height:20px; vertical-align: middle;'></progress>\n",
              "      100.00% [4000/4000 00:02&lt;00:00]\n",
              "    </div>\n",
              "    "
            ]
          },
          "metadata": {}
        },
        {
          "output_type": "display_data",
          "data": {
            "text/plain": [
              "<IPython.core.display.HTML object>"
            ],
            "text/html": [
              "\n",
              "<style>\n",
              "    /* Turns off some styling */\n",
              "    progress {\n",
              "        /* gets rid of default border in Firefox and Opera. */\n",
              "        border: none;\n",
              "        /* Needs to be in here for Safari polyfill so background images work as expected. */\n",
              "        background-size: auto;\n",
              "    }\n",
              "    progress:not([value]), progress:not([value])::-webkit-progress-bar {\n",
              "        background: repeating-linear-gradient(45deg, #7e7e7e, #7e7e7e 10px, #5c5c5c 10px, #5c5c5c 20px);\n",
              "    }\n",
              "    .progress-bar-interrupted, .progress-bar-interrupted::-webkit-progress-bar {\n",
              "        background: #F44336;\n",
              "    }\n",
              "</style>\n"
            ]
          },
          "metadata": {}
        },
        {
          "output_type": "display_data",
          "data": {
            "text/plain": [
              "<IPython.core.display.HTML object>"
            ],
            "text/html": [
              "\n",
              "    <div>\n",
              "      <progress value='3000' class='' max='3000' style='width:300px; height:20px; vertical-align: middle;'></progress>\n",
              "      100.00% [3000/3000 02:19&lt;00:00 Sampling chain 0, 0 divergences]\n",
              "    </div>\n",
              "    "
            ]
          },
          "metadata": {}
        },
        {
          "output_type": "display_data",
          "data": {
            "text/plain": [
              "<IPython.core.display.HTML object>"
            ],
            "text/html": [
              "\n",
              "<style>\n",
              "    /* Turns off some styling */\n",
              "    progress {\n",
              "        /* gets rid of default border in Firefox and Opera. */\n",
              "        border: none;\n",
              "        /* Needs to be in here for Safari polyfill so background images work as expected. */\n",
              "        background-size: auto;\n",
              "    }\n",
              "    progress:not([value]), progress:not([value])::-webkit-progress-bar {\n",
              "        background: repeating-linear-gradient(45deg, #7e7e7e, #7e7e7e 10px, #5c5c5c 10px, #5c5c5c 20px);\n",
              "    }\n",
              "    .progress-bar-interrupted, .progress-bar-interrupted::-webkit-progress-bar {\n",
              "        background: #F44336;\n",
              "    }\n",
              "</style>\n"
            ]
          },
          "metadata": {}
        },
        {
          "output_type": "display_data",
          "data": {
            "text/plain": [
              "<IPython.core.display.HTML object>"
            ],
            "text/html": [
              "\n",
              "    <div>\n",
              "      <progress value='3000' class='' max='3000' style='width:300px; height:20px; vertical-align: middle;'></progress>\n",
              "      100.00% [3000/3000 02:21&lt;00:00 Sampling chain 1, 0 divergences]\n",
              "    </div>\n",
              "    "
            ]
          },
          "metadata": {}
        },
        {
          "output_type": "display_data",
          "data": {
            "text/plain": [
              "<IPython.core.display.HTML object>"
            ],
            "text/html": [
              "\n",
              "<style>\n",
              "    /* Turns off some styling */\n",
              "    progress {\n",
              "        /* gets rid of default border in Firefox and Opera. */\n",
              "        border: none;\n",
              "        /* Needs to be in here for Safari polyfill so background images work as expected. */\n",
              "        background-size: auto;\n",
              "    }\n",
              "    progress:not([value]), progress:not([value])::-webkit-progress-bar {\n",
              "        background: repeating-linear-gradient(45deg, #7e7e7e, #7e7e7e 10px, #5c5c5c 10px, #5c5c5c 20px);\n",
              "    }\n",
              "    .progress-bar-interrupted, .progress-bar-interrupted::-webkit-progress-bar {\n",
              "        background: #F44336;\n",
              "    }\n",
              "</style>\n"
            ]
          },
          "metadata": {}
        },
        {
          "output_type": "display_data",
          "data": {
            "text/plain": [
              "<IPython.core.display.HTML object>"
            ],
            "text/html": [
              "\n",
              "    <div>\n",
              "      <progress value='3000' class='' max='3000' style='width:300px; height:20px; vertical-align: middle;'></progress>\n",
              "      100.00% [3000/3000 01:52&lt;00:00 Sampling chain 0, 0 divergences]\n",
              "    </div>\n",
              "    "
            ]
          },
          "metadata": {}
        },
        {
          "output_type": "display_data",
          "data": {
            "text/plain": [
              "<IPython.core.display.HTML object>"
            ],
            "text/html": [
              "\n",
              "<style>\n",
              "    /* Turns off some styling */\n",
              "    progress {\n",
              "        /* gets rid of default border in Firefox and Opera. */\n",
              "        border: none;\n",
              "        /* Needs to be in here for Safari polyfill so background images work as expected. */\n",
              "        background-size: auto;\n",
              "    }\n",
              "    progress:not([value]), progress:not([value])::-webkit-progress-bar {\n",
              "        background: repeating-linear-gradient(45deg, #7e7e7e, #7e7e7e 10px, #5c5c5c 10px, #5c5c5c 20px);\n",
              "    }\n",
              "    .progress-bar-interrupted, .progress-bar-interrupted::-webkit-progress-bar {\n",
              "        background: #F44336;\n",
              "    }\n",
              "</style>\n"
            ]
          },
          "metadata": {}
        },
        {
          "output_type": "display_data",
          "data": {
            "text/plain": [
              "<IPython.core.display.HTML object>"
            ],
            "text/html": [
              "\n",
              "    <div>\n",
              "      <progress value='3000' class='' max='3000' style='width:300px; height:20px; vertical-align: middle;'></progress>\n",
              "      100.00% [3000/3000 01:51&lt;00:00 Sampling chain 1, 0 divergences]\n",
              "    </div>\n",
              "    "
            ]
          },
          "metadata": {}
        },
        {
          "output_type": "stream",
          "name": "stderr",
          "text": [
            "<ipython-input-8-175c2f4f91ba>:23: FutureWarning: The series.append method is deprecated and will be removed from pandas in a future version. Use pandas.concat instead.\n",
            "  return testingData.append(pd.Series(np.zeros(trainingDataSize-len(testingData), dtype=int)))\n",
            "<ipython-input-8-175c2f4f91ba>:23: FutureWarning: The series.append method is deprecated and will be removed from pandas in a future version. Use pandas.concat instead.\n",
            "  return testingData.append(pd.Series(np.zeros(trainingDataSize-len(testingData), dtype=int)))\n",
            "<ipython-input-8-175c2f4f91ba>:23: FutureWarning: The series.append method is deprecated and will be removed from pandas in a future version. Use pandas.concat instead.\n",
            "  return testingData.append(pd.Series(np.zeros(trainingDataSize-len(testingData), dtype=int)))\n",
            "<ipython-input-8-175c2f4f91ba>:23: FutureWarning: The series.append method is deprecated and will be removed from pandas in a future version. Use pandas.concat instead.\n",
            "  return testingData.append(pd.Series(np.zeros(trainingDataSize-len(testingData), dtype=int)))\n",
            "<ipython-input-8-175c2f4f91ba>:23: FutureWarning: The series.append method is deprecated and will be removed from pandas in a future version. Use pandas.concat instead.\n",
            "  return testingData.append(pd.Series(np.zeros(trainingDataSize-len(testingData), dtype=int)))\n",
            "<ipython-input-8-175c2f4f91ba>:23: FutureWarning: The series.append method is deprecated and will be removed from pandas in a future version. Use pandas.concat instead.\n",
            "  return testingData.append(pd.Series(np.zeros(trainingDataSize-len(testingData), dtype=int)))\n",
            "<ipython-input-8-175c2f4f91ba>:23: FutureWarning: The series.append method is deprecated and will be removed from pandas in a future version. Use pandas.concat instead.\n",
            "  return testingData.append(pd.Series(np.zeros(trainingDataSize-len(testingData), dtype=int)))\n",
            "<ipython-input-8-175c2f4f91ba>:23: FutureWarning: The series.append method is deprecated and will be removed from pandas in a future version. Use pandas.concat instead.\n",
            "  return testingData.append(pd.Series(np.zeros(trainingDataSize-len(testingData), dtype=int)))\n",
            "<ipython-input-8-175c2f4f91ba>:23: FutureWarning: The series.append method is deprecated and will be removed from pandas in a future version. Use pandas.concat instead.\n",
            "  return testingData.append(pd.Series(np.zeros(trainingDataSize-len(testingData), dtype=int)))\n",
            "<ipython-input-8-175c2f4f91ba>:23: FutureWarning: The series.append method is deprecated and will be removed from pandas in a future version. Use pandas.concat instead.\n",
            "  return testingData.append(pd.Series(np.zeros(trainingDataSize-len(testingData), dtype=int)))\n",
            "<ipython-input-8-175c2f4f91ba>:23: FutureWarning: The series.append method is deprecated and will be removed from pandas in a future version. Use pandas.concat instead.\n",
            "  return testingData.append(pd.Series(np.zeros(trainingDataSize-len(testingData), dtype=int)))\n",
            "<ipython-input-8-175c2f4f91ba>:23: FutureWarning: The series.append method is deprecated and will be removed from pandas in a future version. Use pandas.concat instead.\n",
            "  return testingData.append(pd.Series(np.zeros(trainingDataSize-len(testingData), dtype=int)))\n"
          ]
        },
        {
          "output_type": "display_data",
          "data": {
            "text/plain": [
              "<IPython.core.display.HTML object>"
            ],
            "text/html": [
              "\n",
              "<style>\n",
              "    /* Turns off some styling */\n",
              "    progress {\n",
              "        /* gets rid of default border in Firefox and Opera. */\n",
              "        border: none;\n",
              "        /* Needs to be in here for Safari polyfill so background images work as expected. */\n",
              "        background-size: auto;\n",
              "    }\n",
              "    progress:not([value]), progress:not([value])::-webkit-progress-bar {\n",
              "        background: repeating-linear-gradient(45deg, #7e7e7e, #7e7e7e 10px, #5c5c5c 10px, #5c5c5c 20px);\n",
              "    }\n",
              "    .progress-bar-interrupted, .progress-bar-interrupted::-webkit-progress-bar {\n",
              "        background: #F44336;\n",
              "    }\n",
              "</style>\n"
            ]
          },
          "metadata": {}
        },
        {
          "output_type": "display_data",
          "data": {
            "text/plain": [
              "<IPython.core.display.HTML object>"
            ],
            "text/html": [
              "\n",
              "    <div>\n",
              "      <progress value='4000' class='' max='4000' style='width:300px; height:20px; vertical-align: middle;'></progress>\n",
              "      100.00% [4000/4000 00:03&lt;00:00]\n",
              "    </div>\n",
              "    "
            ]
          },
          "metadata": {}
        },
        {
          "output_type": "display_data",
          "data": {
            "text/plain": [
              "<IPython.core.display.HTML object>"
            ],
            "text/html": [
              "\n",
              "<style>\n",
              "    /* Turns off some styling */\n",
              "    progress {\n",
              "        /* gets rid of default border in Firefox and Opera. */\n",
              "        border: none;\n",
              "        /* Needs to be in here for Safari polyfill so background images work as expected. */\n",
              "        background-size: auto;\n",
              "    }\n",
              "    progress:not([value]), progress:not([value])::-webkit-progress-bar {\n",
              "        background: repeating-linear-gradient(45deg, #7e7e7e, #7e7e7e 10px, #5c5c5c 10px, #5c5c5c 20px);\n",
              "    }\n",
              "    .progress-bar-interrupted, .progress-bar-interrupted::-webkit-progress-bar {\n",
              "        background: #F44336;\n",
              "    }\n",
              "</style>\n"
            ]
          },
          "metadata": {}
        },
        {
          "output_type": "display_data",
          "data": {
            "text/plain": [
              "<IPython.core.display.HTML object>"
            ],
            "text/html": [
              "\n",
              "    <div>\n",
              "      <progress value='3000' class='' max='3000' style='width:300px; height:20px; vertical-align: middle;'></progress>\n",
              "      100.00% [3000/3000 02:13&lt;00:00 Sampling chain 0, 0 divergences]\n",
              "    </div>\n",
              "    "
            ]
          },
          "metadata": {}
        },
        {
          "output_type": "display_data",
          "data": {
            "text/plain": [
              "<IPython.core.display.HTML object>"
            ],
            "text/html": [
              "\n",
              "<style>\n",
              "    /* Turns off some styling */\n",
              "    progress {\n",
              "        /* gets rid of default border in Firefox and Opera. */\n",
              "        border: none;\n",
              "        /* Needs to be in here for Safari polyfill so background images work as expected. */\n",
              "        background-size: auto;\n",
              "    }\n",
              "    progress:not([value]), progress:not([value])::-webkit-progress-bar {\n",
              "        background: repeating-linear-gradient(45deg, #7e7e7e, #7e7e7e 10px, #5c5c5c 10px, #5c5c5c 20px);\n",
              "    }\n",
              "    .progress-bar-interrupted, .progress-bar-interrupted::-webkit-progress-bar {\n",
              "        background: #F44336;\n",
              "    }\n",
              "</style>\n"
            ]
          },
          "metadata": {}
        },
        {
          "output_type": "display_data",
          "data": {
            "text/plain": [
              "<IPython.core.display.HTML object>"
            ],
            "text/html": [
              "\n",
              "    <div>\n",
              "      <progress value='3000' class='' max='3000' style='width:300px; height:20px; vertical-align: middle;'></progress>\n",
              "      100.00% [3000/3000 02:00&lt;00:00 Sampling chain 1, 0 divergences]\n",
              "    </div>\n",
              "    "
            ]
          },
          "metadata": {}
        },
        {
          "output_type": "display_data",
          "data": {
            "text/plain": [
              "<IPython.core.display.HTML object>"
            ],
            "text/html": [
              "\n",
              "<style>\n",
              "    /* Turns off some styling */\n",
              "    progress {\n",
              "        /* gets rid of default border in Firefox and Opera. */\n",
              "        border: none;\n",
              "        /* Needs to be in here for Safari polyfill so background images work as expected. */\n",
              "        background-size: auto;\n",
              "    }\n",
              "    progress:not([value]), progress:not([value])::-webkit-progress-bar {\n",
              "        background: repeating-linear-gradient(45deg, #7e7e7e, #7e7e7e 10px, #5c5c5c 10px, #5c5c5c 20px);\n",
              "    }\n",
              "    .progress-bar-interrupted, .progress-bar-interrupted::-webkit-progress-bar {\n",
              "        background: #F44336;\n",
              "    }\n",
              "</style>\n"
            ]
          },
          "metadata": {}
        },
        {
          "output_type": "display_data",
          "data": {
            "text/plain": [
              "<IPython.core.display.HTML object>"
            ],
            "text/html": [
              "\n",
              "    <div>\n",
              "      <progress value='3000' class='' max='3000' style='width:300px; height:20px; vertical-align: middle;'></progress>\n",
              "      100.00% [3000/3000 01:54&lt;00:00 Sampling chain 0, 0 divergences]\n",
              "    </div>\n",
              "    "
            ]
          },
          "metadata": {}
        },
        {
          "output_type": "display_data",
          "data": {
            "text/plain": [
              "<IPython.core.display.HTML object>"
            ],
            "text/html": [
              "\n",
              "<style>\n",
              "    /* Turns off some styling */\n",
              "    progress {\n",
              "        /* gets rid of default border in Firefox and Opera. */\n",
              "        border: none;\n",
              "        /* Needs to be in here for Safari polyfill so background images work as expected. */\n",
              "        background-size: auto;\n",
              "    }\n",
              "    progress:not([value]), progress:not([value])::-webkit-progress-bar {\n",
              "        background: repeating-linear-gradient(45deg, #7e7e7e, #7e7e7e 10px, #5c5c5c 10px, #5c5c5c 20px);\n",
              "    }\n",
              "    .progress-bar-interrupted, .progress-bar-interrupted::-webkit-progress-bar {\n",
              "        background: #F44336;\n",
              "    }\n",
              "</style>\n"
            ]
          },
          "metadata": {}
        },
        {
          "output_type": "display_data",
          "data": {
            "text/plain": [
              "<IPython.core.display.HTML object>"
            ],
            "text/html": [
              "\n",
              "    <div>\n",
              "      <progress value='3000' class='' max='3000' style='width:300px; height:20px; vertical-align: middle;'></progress>\n",
              "      100.00% [3000/3000 02:08&lt;00:00 Sampling chain 1, 0 divergences]\n",
              "    </div>\n",
              "    "
            ]
          },
          "metadata": {}
        },
        {
          "output_type": "stream",
          "name": "stderr",
          "text": [
            "<ipython-input-8-175c2f4f91ba>:23: FutureWarning: The series.append method is deprecated and will be removed from pandas in a future version. Use pandas.concat instead.\n",
            "  return testingData.append(pd.Series(np.zeros(trainingDataSize-len(testingData), dtype=int)))\n",
            "<ipython-input-8-175c2f4f91ba>:23: FutureWarning: The series.append method is deprecated and will be removed from pandas in a future version. Use pandas.concat instead.\n",
            "  return testingData.append(pd.Series(np.zeros(trainingDataSize-len(testingData), dtype=int)))\n",
            "<ipython-input-8-175c2f4f91ba>:23: FutureWarning: The series.append method is deprecated and will be removed from pandas in a future version. Use pandas.concat instead.\n",
            "  return testingData.append(pd.Series(np.zeros(trainingDataSize-len(testingData), dtype=int)))\n",
            "<ipython-input-8-175c2f4f91ba>:23: FutureWarning: The series.append method is deprecated and will be removed from pandas in a future version. Use pandas.concat instead.\n",
            "  return testingData.append(pd.Series(np.zeros(trainingDataSize-len(testingData), dtype=int)))\n",
            "<ipython-input-8-175c2f4f91ba>:23: FutureWarning: The series.append method is deprecated and will be removed from pandas in a future version. Use pandas.concat instead.\n",
            "  return testingData.append(pd.Series(np.zeros(trainingDataSize-len(testingData), dtype=int)))\n",
            "<ipython-input-8-175c2f4f91ba>:23: FutureWarning: The series.append method is deprecated and will be removed from pandas in a future version. Use pandas.concat instead.\n",
            "  return testingData.append(pd.Series(np.zeros(trainingDataSize-len(testingData), dtype=int)))\n",
            "<ipython-input-8-175c2f4f91ba>:23: FutureWarning: The series.append method is deprecated and will be removed from pandas in a future version. Use pandas.concat instead.\n",
            "  return testingData.append(pd.Series(np.zeros(trainingDataSize-len(testingData), dtype=int)))\n",
            "<ipython-input-8-175c2f4f91ba>:23: FutureWarning: The series.append method is deprecated and will be removed from pandas in a future version. Use pandas.concat instead.\n",
            "  return testingData.append(pd.Series(np.zeros(trainingDataSize-len(testingData), dtype=int)))\n",
            "<ipython-input-8-175c2f4f91ba>:23: FutureWarning: The series.append method is deprecated and will be removed from pandas in a future version. Use pandas.concat instead.\n",
            "  return testingData.append(pd.Series(np.zeros(trainingDataSize-len(testingData), dtype=int)))\n",
            "<ipython-input-8-175c2f4f91ba>:23: FutureWarning: The series.append method is deprecated and will be removed from pandas in a future version. Use pandas.concat instead.\n",
            "  return testingData.append(pd.Series(np.zeros(trainingDataSize-len(testingData), dtype=int)))\n",
            "<ipython-input-8-175c2f4f91ba>:23: FutureWarning: The series.append method is deprecated and will be removed from pandas in a future version. Use pandas.concat instead.\n",
            "  return testingData.append(pd.Series(np.zeros(trainingDataSize-len(testingData), dtype=int)))\n",
            "<ipython-input-8-175c2f4f91ba>:23: FutureWarning: The series.append method is deprecated and will be removed from pandas in a future version. Use pandas.concat instead.\n",
            "  return testingData.append(pd.Series(np.zeros(trainingDataSize-len(testingData), dtype=int)))\n"
          ]
        },
        {
          "output_type": "display_data",
          "data": {
            "text/plain": [
              "<IPython.core.display.HTML object>"
            ],
            "text/html": [
              "\n",
              "<style>\n",
              "    /* Turns off some styling */\n",
              "    progress {\n",
              "        /* gets rid of default border in Firefox and Opera. */\n",
              "        border: none;\n",
              "        /* Needs to be in here for Safari polyfill so background images work as expected. */\n",
              "        background-size: auto;\n",
              "    }\n",
              "    progress:not([value]), progress:not([value])::-webkit-progress-bar {\n",
              "        background: repeating-linear-gradient(45deg, #7e7e7e, #7e7e7e 10px, #5c5c5c 10px, #5c5c5c 20px);\n",
              "    }\n",
              "    .progress-bar-interrupted, .progress-bar-interrupted::-webkit-progress-bar {\n",
              "        background: #F44336;\n",
              "    }\n",
              "</style>\n"
            ]
          },
          "metadata": {}
        },
        {
          "output_type": "display_data",
          "data": {
            "text/plain": [
              "<IPython.core.display.HTML object>"
            ],
            "text/html": [
              "\n",
              "    <div>\n",
              "      <progress value='4000' class='' max='4000' style='width:300px; height:20px; vertical-align: middle;'></progress>\n",
              "      100.00% [4000/4000 00:02&lt;00:00]\n",
              "    </div>\n",
              "    "
            ]
          },
          "metadata": {}
        },
        {
          "output_type": "display_data",
          "data": {
            "text/plain": [
              "<IPython.core.display.HTML object>"
            ],
            "text/html": [
              "\n",
              "<style>\n",
              "    /* Turns off some styling */\n",
              "    progress {\n",
              "        /* gets rid of default border in Firefox and Opera. */\n",
              "        border: none;\n",
              "        /* Needs to be in here for Safari polyfill so background images work as expected. */\n",
              "        background-size: auto;\n",
              "    }\n",
              "    progress:not([value]), progress:not([value])::-webkit-progress-bar {\n",
              "        background: repeating-linear-gradient(45deg, #7e7e7e, #7e7e7e 10px, #5c5c5c 10px, #5c5c5c 20px);\n",
              "    }\n",
              "    .progress-bar-interrupted, .progress-bar-interrupted::-webkit-progress-bar {\n",
              "        background: #F44336;\n",
              "    }\n",
              "</style>\n"
            ]
          },
          "metadata": {}
        },
        {
          "output_type": "display_data",
          "data": {
            "text/plain": [
              "<IPython.core.display.HTML object>"
            ],
            "text/html": [
              "\n",
              "    <div>\n",
              "      <progress value='3000' class='' max='3000' style='width:300px; height:20px; vertical-align: middle;'></progress>\n",
              "      100.00% [3000/3000 02:16&lt;00:00 Sampling chain 0, 0 divergences]\n",
              "    </div>\n",
              "    "
            ]
          },
          "metadata": {}
        },
        {
          "output_type": "display_data",
          "data": {
            "text/plain": [
              "<IPython.core.display.HTML object>"
            ],
            "text/html": [
              "\n",
              "<style>\n",
              "    /* Turns off some styling */\n",
              "    progress {\n",
              "        /* gets rid of default border in Firefox and Opera. */\n",
              "        border: none;\n",
              "        /* Needs to be in here for Safari polyfill so background images work as expected. */\n",
              "        background-size: auto;\n",
              "    }\n",
              "    progress:not([value]), progress:not([value])::-webkit-progress-bar {\n",
              "        background: repeating-linear-gradient(45deg, #7e7e7e, #7e7e7e 10px, #5c5c5c 10px, #5c5c5c 20px);\n",
              "    }\n",
              "    .progress-bar-interrupted, .progress-bar-interrupted::-webkit-progress-bar {\n",
              "        background: #F44336;\n",
              "    }\n",
              "</style>\n"
            ]
          },
          "metadata": {}
        },
        {
          "output_type": "display_data",
          "data": {
            "text/plain": [
              "<IPython.core.display.HTML object>"
            ],
            "text/html": [
              "\n",
              "    <div>\n",
              "      <progress value='3000' class='' max='3000' style='width:300px; height:20px; vertical-align: middle;'></progress>\n",
              "      100.00% [3000/3000 02:06&lt;00:00 Sampling chain 1, 0 divergences]\n",
              "    </div>\n",
              "    "
            ]
          },
          "metadata": {}
        },
        {
          "output_type": "display_data",
          "data": {
            "text/plain": [
              "<IPython.core.display.HTML object>"
            ],
            "text/html": [
              "\n",
              "<style>\n",
              "    /* Turns off some styling */\n",
              "    progress {\n",
              "        /* gets rid of default border in Firefox and Opera. */\n",
              "        border: none;\n",
              "        /* Needs to be in here for Safari polyfill so background images work as expected. */\n",
              "        background-size: auto;\n",
              "    }\n",
              "    progress:not([value]), progress:not([value])::-webkit-progress-bar {\n",
              "        background: repeating-linear-gradient(45deg, #7e7e7e, #7e7e7e 10px, #5c5c5c 10px, #5c5c5c 20px);\n",
              "    }\n",
              "    .progress-bar-interrupted, .progress-bar-interrupted::-webkit-progress-bar {\n",
              "        background: #F44336;\n",
              "    }\n",
              "</style>\n"
            ]
          },
          "metadata": {}
        },
        {
          "output_type": "display_data",
          "data": {
            "text/plain": [
              "<IPython.core.display.HTML object>"
            ],
            "text/html": [
              "\n",
              "    <div>\n",
              "      <progress value='3000' class='' max='3000' style='width:300px; height:20px; vertical-align: middle;'></progress>\n",
              "      100.00% [3000/3000 02:06&lt;00:00 Sampling chain 0, 0 divergences]\n",
              "    </div>\n",
              "    "
            ]
          },
          "metadata": {}
        },
        {
          "output_type": "display_data",
          "data": {
            "text/plain": [
              "<IPython.core.display.HTML object>"
            ],
            "text/html": [
              "\n",
              "<style>\n",
              "    /* Turns off some styling */\n",
              "    progress {\n",
              "        /* gets rid of default border in Firefox and Opera. */\n",
              "        border: none;\n",
              "        /* Needs to be in here for Safari polyfill so background images work as expected. */\n",
              "        background-size: auto;\n",
              "    }\n",
              "    progress:not([value]), progress:not([value])::-webkit-progress-bar {\n",
              "        background: repeating-linear-gradient(45deg, #7e7e7e, #7e7e7e 10px, #5c5c5c 10px, #5c5c5c 20px);\n",
              "    }\n",
              "    .progress-bar-interrupted, .progress-bar-interrupted::-webkit-progress-bar {\n",
              "        background: #F44336;\n",
              "    }\n",
              "</style>\n"
            ]
          },
          "metadata": {}
        },
        {
          "output_type": "display_data",
          "data": {
            "text/plain": [
              "<IPython.core.display.HTML object>"
            ],
            "text/html": [
              "\n",
              "    <div>\n",
              "      <progress value='3000' class='' max='3000' style='width:300px; height:20px; vertical-align: middle;'></progress>\n",
              "      100.00% [3000/3000 01:55&lt;00:00 Sampling chain 1, 0 divergences]\n",
              "    </div>\n",
              "    "
            ]
          },
          "metadata": {}
        },
        {
          "output_type": "stream",
          "name": "stderr",
          "text": [
            "<ipython-input-8-175c2f4f91ba>:23: FutureWarning: The series.append method is deprecated and will be removed from pandas in a future version. Use pandas.concat instead.\n",
            "  return testingData.append(pd.Series(np.zeros(trainingDataSize-len(testingData), dtype=int)))\n",
            "<ipython-input-8-175c2f4f91ba>:23: FutureWarning: The series.append method is deprecated and will be removed from pandas in a future version. Use pandas.concat instead.\n",
            "  return testingData.append(pd.Series(np.zeros(trainingDataSize-len(testingData), dtype=int)))\n",
            "<ipython-input-8-175c2f4f91ba>:23: FutureWarning: The series.append method is deprecated and will be removed from pandas in a future version. Use pandas.concat instead.\n",
            "  return testingData.append(pd.Series(np.zeros(trainingDataSize-len(testingData), dtype=int)))\n",
            "<ipython-input-8-175c2f4f91ba>:23: FutureWarning: The series.append method is deprecated and will be removed from pandas in a future version. Use pandas.concat instead.\n",
            "  return testingData.append(pd.Series(np.zeros(trainingDataSize-len(testingData), dtype=int)))\n",
            "<ipython-input-8-175c2f4f91ba>:23: FutureWarning: The series.append method is deprecated and will be removed from pandas in a future version. Use pandas.concat instead.\n",
            "  return testingData.append(pd.Series(np.zeros(trainingDataSize-len(testingData), dtype=int)))\n",
            "<ipython-input-8-175c2f4f91ba>:23: FutureWarning: The series.append method is deprecated and will be removed from pandas in a future version. Use pandas.concat instead.\n",
            "  return testingData.append(pd.Series(np.zeros(trainingDataSize-len(testingData), dtype=int)))\n",
            "<ipython-input-8-175c2f4f91ba>:23: FutureWarning: The series.append method is deprecated and will be removed from pandas in a future version. Use pandas.concat instead.\n",
            "  return testingData.append(pd.Series(np.zeros(trainingDataSize-len(testingData), dtype=int)))\n",
            "<ipython-input-8-175c2f4f91ba>:23: FutureWarning: The series.append method is deprecated and will be removed from pandas in a future version. Use pandas.concat instead.\n",
            "  return testingData.append(pd.Series(np.zeros(trainingDataSize-len(testingData), dtype=int)))\n",
            "<ipython-input-8-175c2f4f91ba>:23: FutureWarning: The series.append method is deprecated and will be removed from pandas in a future version. Use pandas.concat instead.\n",
            "  return testingData.append(pd.Series(np.zeros(trainingDataSize-len(testingData), dtype=int)))\n",
            "<ipython-input-8-175c2f4f91ba>:23: FutureWarning: The series.append method is deprecated and will be removed from pandas in a future version. Use pandas.concat instead.\n",
            "  return testingData.append(pd.Series(np.zeros(trainingDataSize-len(testingData), dtype=int)))\n",
            "<ipython-input-8-175c2f4f91ba>:23: FutureWarning: The series.append method is deprecated and will be removed from pandas in a future version. Use pandas.concat instead.\n",
            "  return testingData.append(pd.Series(np.zeros(trainingDataSize-len(testingData), dtype=int)))\n",
            "<ipython-input-8-175c2f4f91ba>:23: FutureWarning: The series.append method is deprecated and will be removed from pandas in a future version. Use pandas.concat instead.\n",
            "  return testingData.append(pd.Series(np.zeros(trainingDataSize-len(testingData), dtype=int)))\n"
          ]
        },
        {
          "output_type": "display_data",
          "data": {
            "text/plain": [
              "<IPython.core.display.HTML object>"
            ],
            "text/html": [
              "\n",
              "<style>\n",
              "    /* Turns off some styling */\n",
              "    progress {\n",
              "        /* gets rid of default border in Firefox and Opera. */\n",
              "        border: none;\n",
              "        /* Needs to be in here for Safari polyfill so background images work as expected. */\n",
              "        background-size: auto;\n",
              "    }\n",
              "    progress:not([value]), progress:not([value])::-webkit-progress-bar {\n",
              "        background: repeating-linear-gradient(45deg, #7e7e7e, #7e7e7e 10px, #5c5c5c 10px, #5c5c5c 20px);\n",
              "    }\n",
              "    .progress-bar-interrupted, .progress-bar-interrupted::-webkit-progress-bar {\n",
              "        background: #F44336;\n",
              "    }\n",
              "</style>\n"
            ]
          },
          "metadata": {}
        },
        {
          "output_type": "display_data",
          "data": {
            "text/plain": [
              "<IPython.core.display.HTML object>"
            ],
            "text/html": [
              "\n",
              "    <div>\n",
              "      <progress value='4000' class='' max='4000' style='width:300px; height:20px; vertical-align: middle;'></progress>\n",
              "      100.00% [4000/4000 00:02&lt;00:00]\n",
              "    </div>\n",
              "    "
            ]
          },
          "metadata": {}
        },
        {
          "output_type": "display_data",
          "data": {
            "text/plain": [
              "<IPython.core.display.HTML object>"
            ],
            "text/html": [
              "\n",
              "<style>\n",
              "    /* Turns off some styling */\n",
              "    progress {\n",
              "        /* gets rid of default border in Firefox and Opera. */\n",
              "        border: none;\n",
              "        /* Needs to be in here for Safari polyfill so background images work as expected. */\n",
              "        background-size: auto;\n",
              "    }\n",
              "    progress:not([value]), progress:not([value])::-webkit-progress-bar {\n",
              "        background: repeating-linear-gradient(45deg, #7e7e7e, #7e7e7e 10px, #5c5c5c 10px, #5c5c5c 20px);\n",
              "    }\n",
              "    .progress-bar-interrupted, .progress-bar-interrupted::-webkit-progress-bar {\n",
              "        background: #F44336;\n",
              "    }\n",
              "</style>\n"
            ]
          },
          "metadata": {}
        },
        {
          "output_type": "display_data",
          "data": {
            "text/plain": [
              "<IPython.core.display.HTML object>"
            ],
            "text/html": [
              "\n",
              "    <div>\n",
              "      <progress value='3000' class='' max='3000' style='width:300px; height:20px; vertical-align: middle;'></progress>\n",
              "      100.00% [3000/3000 02:28&lt;00:00 Sampling chain 0, 0 divergences]\n",
              "    </div>\n",
              "    "
            ]
          },
          "metadata": {}
        },
        {
          "output_type": "display_data",
          "data": {
            "text/plain": [
              "<IPython.core.display.HTML object>"
            ],
            "text/html": [
              "\n",
              "<style>\n",
              "    /* Turns off some styling */\n",
              "    progress {\n",
              "        /* gets rid of default border in Firefox and Opera. */\n",
              "        border: none;\n",
              "        /* Needs to be in here for Safari polyfill so background images work as expected. */\n",
              "        background-size: auto;\n",
              "    }\n",
              "    progress:not([value]), progress:not([value])::-webkit-progress-bar {\n",
              "        background: repeating-linear-gradient(45deg, #7e7e7e, #7e7e7e 10px, #5c5c5c 10px, #5c5c5c 20px);\n",
              "    }\n",
              "    .progress-bar-interrupted, .progress-bar-interrupted::-webkit-progress-bar {\n",
              "        background: #F44336;\n",
              "    }\n",
              "</style>\n"
            ]
          },
          "metadata": {}
        },
        {
          "output_type": "display_data",
          "data": {
            "text/plain": [
              "<IPython.core.display.HTML object>"
            ],
            "text/html": [
              "\n",
              "    <div>\n",
              "      <progress value='3000' class='' max='3000' style='width:300px; height:20px; vertical-align: middle;'></progress>\n",
              "      100.00% [3000/3000 02:12&lt;00:00 Sampling chain 1, 0 divergences]\n",
              "    </div>\n",
              "    "
            ]
          },
          "metadata": {}
        }
      ]
    },
    {
      "cell_type": "code",
      "source": [
        "model_train, min, max = SetupModel(children_training, uniformAbilitySlack=slack, agent_type='child', agent_name=agent, sample = None)\n",
        "with model_train:\n",
        "  data_training = pm.sample(pymc_sample_num, target_accept=0.95)\n",
        "\n",
        "predictions, testOutputs = predict(model_train, data_training, children_test, 'success', len(children_training))\n",
        "agentBrierScore, agentCalibration, agentRefinement = brierDecomp(predictions, testOutputs)\n",
        "agentAggBrierScore, agentAggCalibration, agentAggRefinement = brierDecomp(np.repeat(np.mean(children_training['success']), len(testOutputs)), testOutputs)\n",
        "aggregateBrierScore.append(agentAggBrierScore)\n",
        "aggregateCalibration.append(agentAggCalibration)\n",
        "aggregateRefinement.append(agentAggRefinement)\n",
        "modelBrierScore.append(agentBrierScore)\n",
        "modelCalibration.append(agentCalibration)\n",
        "modelRefinement.append(agentRefinement)\n",
        "if agentBrierScore < agentAggBrierScore:\n",
        "  modelBetterThanAgg.append(True)\n",
        "else:\n",
        "  modelBetterThanAgg.append(False)\n",
        "\n",
        "model_all, min, max = SetupModel(children_data, uniformAbilitySlack=slack, agent_type='child', sample = None)\n",
        "with model_all:\n",
        "  data_all = pm.sample(pymc_sample_num, target_accept=0.95)\n",
        "mu, sd  = analyzeAgentResults(\"child\", data_all, abilitiesToShow)\n",
        "\n",
        "OPAbilityAllMean.append(mu[\"objPermAbility\"])\n",
        "visualAcuityAbilityAllMean.append(mu[\"visualAcuityAbility\"])\n",
        "flatNavAbilityAllMean.append(mu[\"flatNavAbility\"])\n",
        "lavaAbilityAllMean.append(mu[\"lavaAbility\"])\n",
        "rightAbilityAllMean.append(mu[\"rightAbility\"])\n",
        "leftAbilityAllMean.append(mu[\"leftAbility\"])\n",
        "aheadAbilityAllMean.append(mu[\"aheadAbility\"])\n",
        "CVChickAbilityAllMean.append(mu[\"CVChickAbility\"])\n",
        "PCTBAbilityAllMean.append(mu[\"PCTBAbility\"])\n",
        "lightsOutAbilityAllMean.append(mu[\"lightsOutAbility\"])\n",
        "noiseParAllMean.append(mu[\"noisePar\"])\n",
        "OPAbilityAllSD.append(sd[\"objPermAbility\"])\n",
        "visualAcuityAbilityAllSD.append(sd[\"visualAcuityAbility\"])\n",
        "flatNavAbilityAllSD.append(sd[\"flatNavAbility\"])\n",
        "lavaAbilityAllSD.append(sd[\"lavaAbility\"])\n",
        "rightAbilityAllSD.append(sd[\"rightAbility\"])\n",
        "leftAbilityAllSD.append(sd[\"leftAbility\"])\n",
        "aheadAbilityAllSD.append(sd[\"aheadAbility\"])\n",
        "CVChickAbilityAllSD.append(sd[\"CVChickAbility\"])\n",
        "PCTBAbilityAllSD.append(sd[\"PCTBAbility\"])\n",
        "lightsOutAbilityAllSD.append(sd[\"lightsOutAbility\"])\n",
        "noiseParAllSD.append(sd[\"noisePar\"])\n",
        "OPAbilityAllMin.append(min[\"objPermAbility\"])\n",
        "visualAcuityAbilityAllMin.append(min[\"visualAcuityAbility\"])\n",
        "flatNavAbilityAllMin.append(min[\"flatNavAbility\"])\n",
        "lavaAbilityAllMin.append(min[\"lavaAbility\"])\n",
        "rightAbilityAllMin.append(min[\"rightAbility\"])\n",
        "leftAbilityAllMin.append(min[\"leftAbility\"])\n",
        "aheadAbilityAllMin.append(min[\"aheadAbility\"])\n",
        "CVChickAbilityAllMin.append(min[\"CVChickAbility\"])\n",
        "PCTBAbilityAllMin.append(min[\"PCTBAbility\"])\n",
        "lightsOutAbilityAllMin.append(min[\"lightsOutAbility\"])\n",
        "noiseParAllMin.append(0)\n",
        "OPAbilityAllMax.append(max[\"objPermAbility\"])\n",
        "visualAcuityAbilityAllMax.append(max[\"visualAcuityAbility\"])\n",
        "flatNavAbilityAllMax.append(max[\"flatNavAbility\"])\n",
        "lavaAbilityAllMax.append(max[\"lavaAbility\"])\n",
        "rightAbilityAllMax.append(max[\"rightAbility\"])\n",
        "leftAbilityAllMax.append(max[\"leftAbility\"])\n",
        "aheadAbilityAllMax.append(max[\"aheadAbility\"])\n",
        "CVChickAbilityAllMax.append(max[\"CVChickAbility\"])\n",
        "PCTBAbilityAllMax.append(max[\"PCTBAbility\"])\n",
        "lightsOutAbilityAllMax.append(max[\"lightsOutAbility\"])\n",
        "noiseParAllMax.append(1)\n",
        "\n",
        "meanSuccess.append(np.mean(children_data['success']))\n",
        "agentName.append('children')\n",
        "\n",
        "finalDF = pd.DataFrame({\"Agent Name\": agentName,\n",
        "                        \"Model Brier Score\":modelBrierScore,\n",
        "                        \"Aggregate Brier Scores\": aggregateBrierScore,\n",
        "                        \"Model Calibration\": modelCalibration,\n",
        "                        \"Aggregate Calibration\":aggregateCalibration,\n",
        "                        \"Model Refinement\":modelRefinement,\n",
        "                        \"Aggregate Refinement\":aggregateRefinement,\n",
        "                        \"Model Better? (Based on Brier Score)\":modelBetterThanAgg,\n",
        "                        \"Success Score\":meanSuccess,\n",
        "                        \"Object Permanence Ability Mean (All)\": OPAbilityAllMean,\n",
        "                        \"Visual Acuity Ability Mean (All)\" : visualAcuityAbilityAllMean,\n",
        "                        \"Flat Navigation Ability Mean (All)\" : flatNavAbilityAllMean,\n",
        "                        \"Lava Ability Mean (All)\" : lavaAbilityAllMean,\n",
        "                        \"Right Ability Mean (All)\" : rightAbilityAllMean,\n",
        "                        \"Left Ability Mean (All)\" : leftAbilityAllMean,\n",
        "                        \"Ahead Ability Mean (All)\" : aheadAbilityAllMean,\n",
        "                        \"CVChick Ability Mean (All)\" : CVChickAbilityAllMean,\n",
        "                        \"PCTB Ability Mean (All)\" :  PCTBAbilityAllMean,\n",
        "                        \"Lights Out Ability Mean (All)\" : lightsOutAbilityAllMean,\n",
        "                        \"Noise Parameter Mean (All)\" : noiseParAllMean,\n",
        "                        \"Object Permanence Ability SD (All)\": OPAbilityAllSD,\n",
        "                        \"Visual Acuity Ability SD (All)\" : visualAcuityAbilityAllSD,\n",
        "                        \"Flat Navigation Ability SD (All)\" : flatNavAbilityAllSD,\n",
        "                        \"Lava Ability SD (All)\" : lavaAbilityAllSD,\n",
        "                        \"Right Ability SD (All)\" : rightAbilityAllSD,\n",
        "                        \"Left Ability SD (All)\" : leftAbilityAllSD,\n",
        "                        \"Ahead Ability SD (All)\" : aheadAbilityAllSD,\n",
        "                        \"CVChick Ability SD (All)\" : CVChickAbilityAllSD,\n",
        "                        \"PCTB Ability SD (All)\" :  PCTBAbilityAllSD,\n",
        "                        \"Lights Out Ability SD (All)\" : lightsOutAbilityAllSD,\n",
        "                        \"Noise Parameter SD (All)\" : noiseParAllSD,\n",
        "                        \"Object Permanence Ability Min (All)\": OPAbilityAllMin,\n",
        "                        \"Visual Acuity Ability Min (All)\" : visualAcuityAbilityAllMin,\n",
        "                        \"Flat Navigation Ability Min (All)\" : flatNavAbilityAllMin,\n",
        "                        \"Lava Ability Min (All)\" : lavaAbilityAllMin,\n",
        "                        \"Right Ability Min (All)\" : rightAbilityAllMin,\n",
        "                        \"Left Ability Min (All)\" : leftAbilityAllMin,\n",
        "                        \"Ahead Ability Min (All)\" : aheadAbilityAllMin,\n",
        "                        \"CVChick Ability Min (All)\" : CVChickAbilityAllMin,\n",
        "                        \"PCTB Ability Min (All)\" :  PCTBAbilityAllMin,\n",
        "                        \"Lights Out Ability Min (All)\" : lightsOutAbilityAllMin,\n",
        "                        \"Noise Parameter Min (All)\" : noiseParAllMin,\n",
        "                        \"Object Permanence Ability Max (All)\": OPAbilityAllMax,\n",
        "                        \"Visual Acuity Ability Max (All)\" : visualAcuityAbilityAllMax,\n",
        "                        \"Flat Navigation Ability Max (All)\" : flatNavAbilityAllMax,\n",
        "                        \"Lava Ability Max (All)\" : lavaAbilityAllMax,\n",
        "                        \"Right Ability Max (All)\" : rightAbilityAllMax,\n",
        "                        \"Left Ability Max (All)\" : leftAbilityAllMax,\n",
        "                        \"Ahead Ability Max (All)\" : aheadAbilityAllMax,\n",
        "                        \"CVChick Ability Max (All)\" : CVChickAbilityAllMax,\n",
        "                        \"PCTB Ability Max (All)\" :  PCTBAbilityAllMax,\n",
        "                        \"Lights Out Ability Max (All)\" : lightsOutAbilityAllMax,\n",
        "                        \"Noise Parameter Max (All)\" : noiseParAllMax})\n",
        "#finalDF.to_csv(\"/content/drive/Shareddrives/comparative-object-permanence/finalResults.csv\", index = False)\n"
      ],
      "metadata": {
        "id": "4KFFn5Lwaj5H",
        "outputId": "f40b1120-08c7-40be-b34b-84b2eec4ad73",
        "colab": {
          "base_uri": "https://localhost:8080/",
          "height": 533
        }
      },
      "execution_count": null,
      "outputs": [
        {
          "output_type": "display_data",
          "data": {
            "text/plain": [
              "<IPython.core.display.HTML object>"
            ],
            "text/html": [
              "\n",
              "<style>\n",
              "    /* Turns off some styling */\n",
              "    progress {\n",
              "        /* gets rid of default border in Firefox and Opera. */\n",
              "        border: none;\n",
              "        /* Needs to be in here for Safari polyfill so background images work as expected. */\n",
              "        background-size: auto;\n",
              "    }\n",
              "    progress:not([value]), progress:not([value])::-webkit-progress-bar {\n",
              "        background: repeating-linear-gradient(45deg, #7e7e7e, #7e7e7e 10px, #5c5c5c 10px, #5c5c5c 20px);\n",
              "    }\n",
              "    .progress-bar-interrupted, .progress-bar-interrupted::-webkit-progress-bar {\n",
              "        background: #F44336;\n",
              "    }\n",
              "</style>\n"
            ]
          },
          "metadata": {}
        },
        {
          "output_type": "display_data",
          "data": {
            "text/plain": [
              "<IPython.core.display.HTML object>"
            ],
            "text/html": [
              "\n",
              "    <div>\n",
              "      <progress value='3000' class='' max='3000' style='width:300px; height:20px; vertical-align: middle;'></progress>\n",
              "      100.00% [3000/3000 01:10&lt;00:00 Sampling chain 0, 0 divergences]\n",
              "    </div>\n",
              "    "
            ]
          },
          "metadata": {}
        },
        {
          "output_type": "display_data",
          "data": {
            "text/plain": [
              "<IPython.core.display.HTML object>"
            ],
            "text/html": [
              "\n",
              "<style>\n",
              "    /* Turns off some styling */\n",
              "    progress {\n",
              "        /* gets rid of default border in Firefox and Opera. */\n",
              "        border: none;\n",
              "        /* Needs to be in here for Safari polyfill so background images work as expected. */\n",
              "        background-size: auto;\n",
              "    }\n",
              "    progress:not([value]), progress:not([value])::-webkit-progress-bar {\n",
              "        background: repeating-linear-gradient(45deg, #7e7e7e, #7e7e7e 10px, #5c5c5c 10px, #5c5c5c 20px);\n",
              "    }\n",
              "    .progress-bar-interrupted, .progress-bar-interrupted::-webkit-progress-bar {\n",
              "        background: #F44336;\n",
              "    }\n",
              "</style>\n"
            ]
          },
          "metadata": {}
        },
        {
          "output_type": "display_data",
          "data": {
            "text/plain": [
              "<IPython.core.display.HTML object>"
            ],
            "text/html": [
              "\n",
              "    <div>\n",
              "      <progress value='3000' class='' max='3000' style='width:300px; height:20px; vertical-align: middle;'></progress>\n",
              "      100.00% [3000/3000 01:13&lt;00:00 Sampling chain 1, 0 divergences]\n",
              "    </div>\n",
              "    "
            ]
          },
          "metadata": {}
        },
        {
          "output_type": "stream",
          "name": "stderr",
          "text": [
            "<ipython-input-8-175c2f4f91ba>:23: FutureWarning: The series.append method is deprecated and will be removed from pandas in a future version. Use pandas.concat instead.\n",
            "  return testingData.append(pd.Series(np.zeros(trainingDataSize-len(testingData), dtype=int)))\n",
            "<ipython-input-8-175c2f4f91ba>:23: FutureWarning: The series.append method is deprecated and will be removed from pandas in a future version. Use pandas.concat instead.\n",
            "  return testingData.append(pd.Series(np.zeros(trainingDataSize-len(testingData), dtype=int)))\n",
            "<ipython-input-8-175c2f4f91ba>:23: FutureWarning: The series.append method is deprecated and will be removed from pandas in a future version. Use pandas.concat instead.\n",
            "  return testingData.append(pd.Series(np.zeros(trainingDataSize-len(testingData), dtype=int)))\n",
            "<ipython-input-8-175c2f4f91ba>:23: FutureWarning: The series.append method is deprecated and will be removed from pandas in a future version. Use pandas.concat instead.\n",
            "  return testingData.append(pd.Series(np.zeros(trainingDataSize-len(testingData), dtype=int)))\n",
            "<ipython-input-8-175c2f4f91ba>:23: FutureWarning: The series.append method is deprecated and will be removed from pandas in a future version. Use pandas.concat instead.\n",
            "  return testingData.append(pd.Series(np.zeros(trainingDataSize-len(testingData), dtype=int)))\n",
            "<ipython-input-8-175c2f4f91ba>:23: FutureWarning: The series.append method is deprecated and will be removed from pandas in a future version. Use pandas.concat instead.\n",
            "  return testingData.append(pd.Series(np.zeros(trainingDataSize-len(testingData), dtype=int)))\n",
            "<ipython-input-8-175c2f4f91ba>:23: FutureWarning: The series.append method is deprecated and will be removed from pandas in a future version. Use pandas.concat instead.\n",
            "  return testingData.append(pd.Series(np.zeros(trainingDataSize-len(testingData), dtype=int)))\n",
            "<ipython-input-8-175c2f4f91ba>:23: FutureWarning: The series.append method is deprecated and will be removed from pandas in a future version. Use pandas.concat instead.\n",
            "  return testingData.append(pd.Series(np.zeros(trainingDataSize-len(testingData), dtype=int)))\n",
            "<ipython-input-8-175c2f4f91ba>:23: FutureWarning: The series.append method is deprecated and will be removed from pandas in a future version. Use pandas.concat instead.\n",
            "  return testingData.append(pd.Series(np.zeros(trainingDataSize-len(testingData), dtype=int)))\n",
            "<ipython-input-8-175c2f4f91ba>:23: FutureWarning: The series.append method is deprecated and will be removed from pandas in a future version. Use pandas.concat instead.\n",
            "  return testingData.append(pd.Series(np.zeros(trainingDataSize-len(testingData), dtype=int)))\n",
            "<ipython-input-8-175c2f4f91ba>:23: FutureWarning: The series.append method is deprecated and will be removed from pandas in a future version. Use pandas.concat instead.\n",
            "  return testingData.append(pd.Series(np.zeros(trainingDataSize-len(testingData), dtype=int)))\n",
            "<ipython-input-8-175c2f4f91ba>:23: FutureWarning: The series.append method is deprecated and will be removed from pandas in a future version. Use pandas.concat instead.\n",
            "  return testingData.append(pd.Series(np.zeros(trainingDataSize-len(testingData), dtype=int)))\n"
          ]
        },
        {
          "output_type": "display_data",
          "data": {
            "text/plain": [
              "<IPython.core.display.HTML object>"
            ],
            "text/html": [
              "\n",
              "<style>\n",
              "    /* Turns off some styling */\n",
              "    progress {\n",
              "        /* gets rid of default border in Firefox and Opera. */\n",
              "        border: none;\n",
              "        /* Needs to be in here for Safari polyfill so background images work as expected. */\n",
              "        background-size: auto;\n",
              "    }\n",
              "    progress:not([value]), progress:not([value])::-webkit-progress-bar {\n",
              "        background: repeating-linear-gradient(45deg, #7e7e7e, #7e7e7e 10px, #5c5c5c 10px, #5c5c5c 20px);\n",
              "    }\n",
              "    .progress-bar-interrupted, .progress-bar-interrupted::-webkit-progress-bar {\n",
              "        background: #F44336;\n",
              "    }\n",
              "</style>\n"
            ]
          },
          "metadata": {}
        },
        {
          "output_type": "display_data",
          "data": {
            "text/plain": [
              "<IPython.core.display.HTML object>"
            ],
            "text/html": [
              "\n",
              "    <div>\n",
              "      <progress value='4000' class='' max='4000' style='width:300px; height:20px; vertical-align: middle;'></progress>\n",
              "      100.00% [4000/4000 00:01&lt;00:00]\n",
              "    </div>\n",
              "    "
            ]
          },
          "metadata": {}
        },
        {
          "output_type": "display_data",
          "data": {
            "text/plain": [
              "<IPython.core.display.HTML object>"
            ],
            "text/html": [
              "\n",
              "<style>\n",
              "    /* Turns off some styling */\n",
              "    progress {\n",
              "        /* gets rid of default border in Firefox and Opera. */\n",
              "        border: none;\n",
              "        /* Needs to be in here for Safari polyfill so background images work as expected. */\n",
              "        background-size: auto;\n",
              "    }\n",
              "    progress:not([value]), progress:not([value])::-webkit-progress-bar {\n",
              "        background: repeating-linear-gradient(45deg, #7e7e7e, #7e7e7e 10px, #5c5c5c 10px, #5c5c5c 20px);\n",
              "    }\n",
              "    .progress-bar-interrupted, .progress-bar-interrupted::-webkit-progress-bar {\n",
              "        background: #F44336;\n",
              "    }\n",
              "</style>\n"
            ]
          },
          "metadata": {}
        },
        {
          "output_type": "display_data",
          "data": {
            "text/plain": [
              "<IPython.core.display.HTML object>"
            ],
            "text/html": [
              "\n",
              "    <div>\n",
              "      <progress value='3000' class='' max='3000' style='width:300px; height:20px; vertical-align: middle;'></progress>\n",
              "      100.00% [3000/3000 01:34&lt;00:00 Sampling chain 0, 0 divergences]\n",
              "    </div>\n",
              "    "
            ]
          },
          "metadata": {}
        },
        {
          "output_type": "display_data",
          "data": {
            "text/plain": [
              "<IPython.core.display.HTML object>"
            ],
            "text/html": [
              "\n",
              "<style>\n",
              "    /* Turns off some styling */\n",
              "    progress {\n",
              "        /* gets rid of default border in Firefox and Opera. */\n",
              "        border: none;\n",
              "        /* Needs to be in here for Safari polyfill so background images work as expected. */\n",
              "        background-size: auto;\n",
              "    }\n",
              "    progress:not([value]), progress:not([value])::-webkit-progress-bar {\n",
              "        background: repeating-linear-gradient(45deg, #7e7e7e, #7e7e7e 10px, #5c5c5c 10px, #5c5c5c 20px);\n",
              "    }\n",
              "    .progress-bar-interrupted, .progress-bar-interrupted::-webkit-progress-bar {\n",
              "        background: #F44336;\n",
              "    }\n",
              "</style>\n"
            ]
          },
          "metadata": {}
        },
        {
          "output_type": "display_data",
          "data": {
            "text/plain": [
              "<IPython.core.display.HTML object>"
            ],
            "text/html": [
              "\n",
              "    <div>\n",
              "      <progress value='3000' class='' max='3000' style='width:300px; height:20px; vertical-align: middle;'></progress>\n",
              "      100.00% [3000/3000 01:20&lt;00:00 Sampling chain 1, 0 divergences]\n",
              "    </div>\n",
              "    "
            ]
          },
          "metadata": {}
        }
      ]
    },
    {
      "cell_type": "code",
      "source": [
        "with open('/content/drive/Shareddrives/comparative-object-permanence/finalResults.pkl', 'wb') as f:\n",
        "      pickle.dump(finalDF, f)"
      ],
      "metadata": {
        "id": "yf1a4jo83lBH"
      },
      "execution_count": null,
      "outputs": []
    },
    {
      "cell_type": "code",
      "source": [
        "## Not run: in case evaluation stops.\n",
        "# with open('/content/drive/Shareddrives/comparative-object-permanence/finalResults.pkl', 'rb') as f:\n",
        "#       originaldata = pickle.load(f)\n",
        "# output = pd.concat([originaldata, finalDF], axis = 0)"
      ],
      "metadata": {
        "id": "UFynZd5OBwff"
      },
      "execution_count": null,
      "outputs": []
    },
    {
      "cell_type": "code",
      "source": [
        "model_train, min, max = SetupModel(children_4_5_training, uniformAbilitySlack=slack, agent_type='child', agent_name=\"children_4_5\", sample = None)\n",
        "with model_train:\n",
        "  data_training = pm.sample(pymc_sample_num, target_accept=0.95)\n",
        "\n",
        "predictions, testOutputs = predict(model_train, data_training, children_4_5_test, 'success', len(children_training))\n",
        "agentBrierScore, agentCalibration, agentRefinement = brierDecomp(predictions, testOutputs)\n",
        "agentAggBrierScore, agentAggCalibration, agentAggRefinement = brierDecomp(np.repeat(np.mean(children_4_5_training['success']), len(testOutputs)), testOutputs)\n",
        "aggregateBrierScore.append(agentAggBrierScore)\n",
        "aggregateCalibration.append(agentAggCalibration)\n",
        "aggregateRefinement.append(agentAggRefinement)\n",
        "modelBrierScore.append(agentBrierScore)\n",
        "modelCalibration.append(agentCalibration)\n",
        "modelRefinement.append(agentRefinement)\n",
        "if agentBrierScore < agentAggBrierScore:\n",
        "  modelBetterThanAgg.append(True)\n",
        "else:\n",
        "  modelBetterThanAgg.append(False)\n",
        "\n",
        "model_all, min, max = SetupModel(children_4_5_data, uniformAbilitySlack=slack, agent_type='child', sample = None)\n",
        "with model_all:\n",
        "  data_all = pm.sample(pymc_sample_num, target_accept=0.95)\n",
        "mu, sd  = analyzeAgentResults(\"child_4_5\", data_all, abilitiesToShow)\n",
        "\n",
        "OPAbilityAllMean.append(mu[\"objPermAbility\"])\n",
        "visualAcuityAbilityAllMean.append(mu[\"visualAcuityAbility\"])\n",
        "flatNavAbilityAllMean.append(mu[\"flatNavAbility\"])\n",
        "lavaAbilityAllMean.append(mu[\"lavaAbility\"])\n",
        "rightAbilityAllMean.append(mu[\"rightAbility\"])\n",
        "leftAbilityAllMean.append(mu[\"leftAbility\"])\n",
        "aheadAbilityAllMean.append(mu[\"aheadAbility\"])\n",
        "CVChickAbilityAllMean.append(mu[\"CVChickAbility\"])\n",
        "PCTBAbilityAllMean.append(mu[\"PCTBAbility\"])\n",
        "lightsOutAbilityAllMean.append(mu[\"lightsOutAbility\"])\n",
        "noiseParAllMean.append(mu[\"noisePar\"])\n",
        "OPAbilityAllSD.append(sd[\"objPermAbility\"])\n",
        "visualAcuityAbilityAllSD.append(sd[\"visualAcuityAbility\"])\n",
        "flatNavAbilityAllSD.append(sd[\"flatNavAbility\"])\n",
        "lavaAbilityAllSD.append(sd[\"lavaAbility\"])\n",
        "rightAbilityAllSD.append(sd[\"rightAbility\"])\n",
        "leftAbilityAllSD.append(sd[\"leftAbility\"])\n",
        "aheadAbilityAllSD.append(sd[\"aheadAbility\"])\n",
        "CVChickAbilityAllSD.append(sd[\"CVChickAbility\"])\n",
        "PCTBAbilityAllSD.append(sd[\"PCTBAbility\"])\n",
        "lightsOutAbilityAllSD.append(sd[\"lightsOutAbility\"])\n",
        "noiseParAllSD.append(sd[\"noisePar\"])\n",
        "OPAbilityAllMin.append(min[\"objPermAbility\"])\n",
        "visualAcuityAbilityAllMin.append(min[\"visualAcuityAbility\"])\n",
        "flatNavAbilityAllMin.append(min[\"flatNavAbility\"])\n",
        "lavaAbilityAllMin.append(min[\"lavaAbility\"])\n",
        "rightAbilityAllMin.append(min[\"rightAbility\"])\n",
        "leftAbilityAllMin.append(min[\"leftAbility\"])\n",
        "aheadAbilityAllMin.append(min[\"aheadAbility\"])\n",
        "CVChickAbilityAllMin.append(min[\"CVChickAbility\"])\n",
        "PCTBAbilityAllMin.append(min[\"PCTBAbility\"])\n",
        "lightsOutAbilityAllMin.append(min[\"lightsOutAbility\"])\n",
        "noiseParAllMin.append(0)\n",
        "OPAbilityAllMax.append(max[\"objPermAbility\"])\n",
        "visualAcuityAbilityAllMax.append(max[\"visualAcuityAbility\"])\n",
        "flatNavAbilityAllMax.append(max[\"flatNavAbility\"])\n",
        "lavaAbilityAllMax.append(max[\"lavaAbility\"])\n",
        "rightAbilityAllMax.append(max[\"rightAbility\"])\n",
        "leftAbilityAllMax.append(max[\"leftAbility\"])\n",
        "aheadAbilityAllMax.append(max[\"aheadAbility\"])\n",
        "CVChickAbilityAllMax.append(max[\"CVChickAbility\"])\n",
        "PCTBAbilityAllMax.append(max[\"PCTBAbility\"])\n",
        "lightsOutAbilityAllMax.append(max[\"lightsOutAbility\"])\n",
        "noiseParAllMax.append(1)\n",
        "\n",
        "meanSuccess.append(np.mean(children_4_5_data['success']))\n",
        "agentName.append('children')\n",
        "\n",
        "finalDF = pd.DataFrame({\"Agent Name\": agentName,\n",
        "                        \"Model Brier Score\":modelBrierScore,\n",
        "                        \"Aggregate Brier Scores\": aggregateBrierScore,\n",
        "                        \"Model Calibration\": modelCalibration,\n",
        "                        \"Aggregate Calibration\":aggregateCalibration,\n",
        "                        \"Model Refinement\":modelRefinement,\n",
        "                        \"Aggregate Refinement\":aggregateRefinement,\n",
        "                        \"Model Better? (Based on Brier Score)\":modelBetterThanAgg,\n",
        "                        \"Success Score\":meanSuccess,\n",
        "                        \"Object Permanence Ability Mean (All)\": OPAbilityAllMean,\n",
        "                        \"Visual Acuity Ability Mean (All)\" : visualAcuityAbilityAllMean,\n",
        "                        \"Flat Navigation Ability Mean (All)\" : flatNavAbilityAllMean,\n",
        "                        \"Lava Ability Mean (All)\" : lavaAbilityAllMean,\n",
        "                        \"Right Ability Mean (All)\" : rightAbilityAllMean,\n",
        "                        \"Left Ability Mean (All)\" : leftAbilityAllMean,\n",
        "                        \"Ahead Ability Mean (All)\" : aheadAbilityAllMean,\n",
        "                        \"CVChick Ability Mean (All)\" : CVChickAbilityAllMean,\n",
        "                        \"PCTB Ability Mean (All)\" :  PCTBAbilityAllMean,\n",
        "                        \"Lights Out Ability Mean (All)\" : lightsOutAbilityAllMean,\n",
        "                        \"Noise Parameter Mean (All)\" : noiseParAllMean,\n",
        "                        \"Object Permanence Ability SD (All)\": OPAbilityAllSD,\n",
        "                        \"Visual Acuity Ability SD (All)\" : visualAcuityAbilityAllSD,\n",
        "                        \"Flat Navigation Ability SD (All)\" : flatNavAbilityAllSD,\n",
        "                        \"Lava Ability SD (All)\" : lavaAbilityAllSD,\n",
        "                        \"Right Ability SD (All)\" : rightAbilityAllSD,\n",
        "                        \"Left Ability SD (All)\" : leftAbilityAllSD,\n",
        "                        \"Ahead Ability SD (All)\" : aheadAbilityAllSD,\n",
        "                        \"CVChick Ability SD (All)\" : CVChickAbilityAllSD,\n",
        "                        \"PCTB Ability SD (All)\" :  PCTBAbilityAllSD,\n",
        "                        \"Lights Out Ability SD (All)\" : lightsOutAbilityAllSD,\n",
        "                        \"Noise Parameter SD (All)\" : noiseParAllSD,\n",
        "                        \"Object Permanence Ability Min (All)\": OPAbilityAllMin,\n",
        "                        \"Visual Acuity Ability Min (All)\" : visualAcuityAbilityAllMin,\n",
        "                        \"Flat Navigation Ability Min (All)\" : flatNavAbilityAllMin,\n",
        "                        \"Lava Ability Min (All)\" : lavaAbilityAllMin,\n",
        "                        \"Right Ability Min (All)\" : rightAbilityAllMin,\n",
        "                        \"Left Ability Min (All)\" : leftAbilityAllMin,\n",
        "                        \"Ahead Ability Min (All)\" : aheadAbilityAllMin,\n",
        "                        \"CVChick Ability Min (All)\" : CVChickAbilityAllMin,\n",
        "                        \"PCTB Ability Min (All)\" :  PCTBAbilityAllMin,\n",
        "                        \"Lights Out Ability Min (All)\" : lightsOutAbilityAllMin,\n",
        "                        \"Noise Parameter Min (All)\" : noiseParAllMin,\n",
        "                        \"Object Permanence Ability Max (All)\": OPAbilityAllMax,\n",
        "                        \"Visual Acuity Ability Max (All)\" : visualAcuityAbilityAllMax,\n",
        "                        \"Flat Navigation Ability Max (All)\" : flatNavAbilityAllMax,\n",
        "                        \"Lava Ability Max (All)\" : lavaAbilityAllMax,\n",
        "                        \"Right Ability Max (All)\" : rightAbilityAllMax,\n",
        "                        \"Left Ability Max (All)\" : leftAbilityAllMax,\n",
        "                        \"Ahead Ability Max (All)\" : aheadAbilityAllMax,\n",
        "                        \"CVChick Ability Max (All)\" : CVChickAbilityAllMax,\n",
        "                        \"PCTB Ability Max (All)\" :  PCTBAbilityAllMax,\n",
        "                        \"Lights Out Ability Max (All)\" : lightsOutAbilityAllMax,\n",
        "                        \"Noise Parameter Max (All)\" : noiseParAllMax})\n",
        "#finalDF.to_csv(\"/content/drive/Shareddrives/comparative-object-permanence/finalResults.csv\", index = False)\n"
      ],
      "metadata": {
        "id": "KY8sD75iTHVI",
        "outputId": "c95622e8-b737-45cb-8ea9-4f75547ec38f",
        "colab": {
          "base_uri": "https://localhost:8080/",
          "height": 533
        }
      },
      "execution_count": null,
      "outputs": [
        {
          "output_type": "display_data",
          "data": {
            "text/plain": [
              "<IPython.core.display.HTML object>"
            ],
            "text/html": [
              "\n",
              "<style>\n",
              "    /* Turns off some styling */\n",
              "    progress {\n",
              "        /* gets rid of default border in Firefox and Opera. */\n",
              "        border: none;\n",
              "        /* Needs to be in here for Safari polyfill so background images work as expected. */\n",
              "        background-size: auto;\n",
              "    }\n",
              "    progress:not([value]), progress:not([value])::-webkit-progress-bar {\n",
              "        background: repeating-linear-gradient(45deg, #7e7e7e, #7e7e7e 10px, #5c5c5c 10px, #5c5c5c 20px);\n",
              "    }\n",
              "    .progress-bar-interrupted, .progress-bar-interrupted::-webkit-progress-bar {\n",
              "        background: #F44336;\n",
              "    }\n",
              "</style>\n"
            ]
          },
          "metadata": {}
        },
        {
          "output_type": "display_data",
          "data": {
            "text/plain": [
              "<IPython.core.display.HTML object>"
            ],
            "text/html": [
              "\n",
              "    <div>\n",
              "      <progress value='3000' class='' max='3000' style='width:300px; height:20px; vertical-align: middle;'></progress>\n",
              "      100.00% [3000/3000 00:46&lt;00:00 Sampling chain 0, 0 divergences]\n",
              "    </div>\n",
              "    "
            ]
          },
          "metadata": {}
        },
        {
          "output_type": "display_data",
          "data": {
            "text/plain": [
              "<IPython.core.display.HTML object>"
            ],
            "text/html": [
              "\n",
              "<style>\n",
              "    /* Turns off some styling */\n",
              "    progress {\n",
              "        /* gets rid of default border in Firefox and Opera. */\n",
              "        border: none;\n",
              "        /* Needs to be in here for Safari polyfill so background images work as expected. */\n",
              "        background-size: auto;\n",
              "    }\n",
              "    progress:not([value]), progress:not([value])::-webkit-progress-bar {\n",
              "        background: repeating-linear-gradient(45deg, #7e7e7e, #7e7e7e 10px, #5c5c5c 10px, #5c5c5c 20px);\n",
              "    }\n",
              "    .progress-bar-interrupted, .progress-bar-interrupted::-webkit-progress-bar {\n",
              "        background: #F44336;\n",
              "    }\n",
              "</style>\n"
            ]
          },
          "metadata": {}
        },
        {
          "output_type": "display_data",
          "data": {
            "text/plain": [
              "<IPython.core.display.HTML object>"
            ],
            "text/html": [
              "\n",
              "    <div>\n",
              "      <progress value='3000' class='' max='3000' style='width:300px; height:20px; vertical-align: middle;'></progress>\n",
              "      100.00% [3000/3000 00:46&lt;00:00 Sampling chain 1, 0 divergences]\n",
              "    </div>\n",
              "    "
            ]
          },
          "metadata": {}
        },
        {
          "output_type": "stream",
          "name": "stderr",
          "text": [
            "<ipython-input-14-175c2f4f91ba>:23: FutureWarning: The series.append method is deprecated and will be removed from pandas in a future version. Use pandas.concat instead.\n",
            "  return testingData.append(pd.Series(np.zeros(trainingDataSize-len(testingData), dtype=int)))\n",
            "<ipython-input-14-175c2f4f91ba>:23: FutureWarning: The series.append method is deprecated and will be removed from pandas in a future version. Use pandas.concat instead.\n",
            "  return testingData.append(pd.Series(np.zeros(trainingDataSize-len(testingData), dtype=int)))\n",
            "<ipython-input-14-175c2f4f91ba>:23: FutureWarning: The series.append method is deprecated and will be removed from pandas in a future version. Use pandas.concat instead.\n",
            "  return testingData.append(pd.Series(np.zeros(trainingDataSize-len(testingData), dtype=int)))\n",
            "<ipython-input-14-175c2f4f91ba>:23: FutureWarning: The series.append method is deprecated and will be removed from pandas in a future version. Use pandas.concat instead.\n",
            "  return testingData.append(pd.Series(np.zeros(trainingDataSize-len(testingData), dtype=int)))\n",
            "<ipython-input-14-175c2f4f91ba>:23: FutureWarning: The series.append method is deprecated and will be removed from pandas in a future version. Use pandas.concat instead.\n",
            "  return testingData.append(pd.Series(np.zeros(trainingDataSize-len(testingData), dtype=int)))\n",
            "<ipython-input-14-175c2f4f91ba>:23: FutureWarning: The series.append method is deprecated and will be removed from pandas in a future version. Use pandas.concat instead.\n",
            "  return testingData.append(pd.Series(np.zeros(trainingDataSize-len(testingData), dtype=int)))\n",
            "<ipython-input-14-175c2f4f91ba>:23: FutureWarning: The series.append method is deprecated and will be removed from pandas in a future version. Use pandas.concat instead.\n",
            "  return testingData.append(pd.Series(np.zeros(trainingDataSize-len(testingData), dtype=int)))\n",
            "<ipython-input-14-175c2f4f91ba>:23: FutureWarning: The series.append method is deprecated and will be removed from pandas in a future version. Use pandas.concat instead.\n",
            "  return testingData.append(pd.Series(np.zeros(trainingDataSize-len(testingData), dtype=int)))\n",
            "<ipython-input-14-175c2f4f91ba>:23: FutureWarning: The series.append method is deprecated and will be removed from pandas in a future version. Use pandas.concat instead.\n",
            "  return testingData.append(pd.Series(np.zeros(trainingDataSize-len(testingData), dtype=int)))\n",
            "<ipython-input-14-175c2f4f91ba>:23: FutureWarning: The series.append method is deprecated and will be removed from pandas in a future version. Use pandas.concat instead.\n",
            "  return testingData.append(pd.Series(np.zeros(trainingDataSize-len(testingData), dtype=int)))\n",
            "<ipython-input-14-175c2f4f91ba>:23: FutureWarning: The series.append method is deprecated and will be removed from pandas in a future version. Use pandas.concat instead.\n",
            "  return testingData.append(pd.Series(np.zeros(trainingDataSize-len(testingData), dtype=int)))\n",
            "<ipython-input-14-175c2f4f91ba>:23: FutureWarning: The series.append method is deprecated and will be removed from pandas in a future version. Use pandas.concat instead.\n",
            "  return testingData.append(pd.Series(np.zeros(trainingDataSize-len(testingData), dtype=int)))\n"
          ]
        },
        {
          "output_type": "display_data",
          "data": {
            "text/plain": [
              "<IPython.core.display.HTML object>"
            ],
            "text/html": [
              "\n",
              "<style>\n",
              "    /* Turns off some styling */\n",
              "    progress {\n",
              "        /* gets rid of default border in Firefox and Opera. */\n",
              "        border: none;\n",
              "        /* Needs to be in here for Safari polyfill so background images work as expected. */\n",
              "        background-size: auto;\n",
              "    }\n",
              "    progress:not([value]), progress:not([value])::-webkit-progress-bar {\n",
              "        background: repeating-linear-gradient(45deg, #7e7e7e, #7e7e7e 10px, #5c5c5c 10px, #5c5c5c 20px);\n",
              "    }\n",
              "    .progress-bar-interrupted, .progress-bar-interrupted::-webkit-progress-bar {\n",
              "        background: #F44336;\n",
              "    }\n",
              "</style>\n"
            ]
          },
          "metadata": {}
        },
        {
          "output_type": "display_data",
          "data": {
            "text/plain": [
              "<IPython.core.display.HTML object>"
            ],
            "text/html": [
              "\n",
              "    <div>\n",
              "      <progress value='4000' class='' max='4000' style='width:300px; height:20px; vertical-align: middle;'></progress>\n",
              "      100.00% [4000/4000 00:02&lt;00:00]\n",
              "    </div>\n",
              "    "
            ]
          },
          "metadata": {}
        },
        {
          "output_type": "display_data",
          "data": {
            "text/plain": [
              "<IPython.core.display.HTML object>"
            ],
            "text/html": [
              "\n",
              "<style>\n",
              "    /* Turns off some styling */\n",
              "    progress {\n",
              "        /* gets rid of default border in Firefox and Opera. */\n",
              "        border: none;\n",
              "        /* Needs to be in here for Safari polyfill so background images work as expected. */\n",
              "        background-size: auto;\n",
              "    }\n",
              "    progress:not([value]), progress:not([value])::-webkit-progress-bar {\n",
              "        background: repeating-linear-gradient(45deg, #7e7e7e, #7e7e7e 10px, #5c5c5c 10px, #5c5c5c 20px);\n",
              "    }\n",
              "    .progress-bar-interrupted, .progress-bar-interrupted::-webkit-progress-bar {\n",
              "        background: #F44336;\n",
              "    }\n",
              "</style>\n"
            ]
          },
          "metadata": {}
        },
        {
          "output_type": "display_data",
          "data": {
            "text/plain": [
              "<IPython.core.display.HTML object>"
            ],
            "text/html": [
              "\n",
              "    <div>\n",
              "      <progress value='3000' class='' max='3000' style='width:300px; height:20px; vertical-align: middle;'></progress>\n",
              "      100.00% [3000/3000 01:06&lt;00:00 Sampling chain 0, 0 divergences]\n",
              "    </div>\n",
              "    "
            ]
          },
          "metadata": {}
        },
        {
          "output_type": "display_data",
          "data": {
            "text/plain": [
              "<IPython.core.display.HTML object>"
            ],
            "text/html": [
              "\n",
              "<style>\n",
              "    /* Turns off some styling */\n",
              "    progress {\n",
              "        /* gets rid of default border in Firefox and Opera. */\n",
              "        border: none;\n",
              "        /* Needs to be in here for Safari polyfill so background images work as expected. */\n",
              "        background-size: auto;\n",
              "    }\n",
              "    progress:not([value]), progress:not([value])::-webkit-progress-bar {\n",
              "        background: repeating-linear-gradient(45deg, #7e7e7e, #7e7e7e 10px, #5c5c5c 10px, #5c5c5c 20px);\n",
              "    }\n",
              "    .progress-bar-interrupted, .progress-bar-interrupted::-webkit-progress-bar {\n",
              "        background: #F44336;\n",
              "    }\n",
              "</style>\n"
            ]
          },
          "metadata": {}
        },
        {
          "output_type": "display_data",
          "data": {
            "text/plain": [
              "<IPython.core.display.HTML object>"
            ],
            "text/html": [
              "\n",
              "    <div>\n",
              "      <progress value='3000' class='' max='3000' style='width:300px; height:20px; vertical-align: middle;'></progress>\n",
              "      100.00% [3000/3000 00:59&lt;00:00 Sampling chain 1, 0 divergences]\n",
              "    </div>\n",
              "    "
            ]
          },
          "metadata": {}
        }
      ]
    },
    {
      "cell_type": "code",
      "source": [
        "finalDF"
      ],
      "metadata": {
        "id": "6PBct54UXz6D",
        "outputId": "88a91663-7bb5-4721-95c1-b69400bf08d0",
        "colab": {
          "base_uri": "https://localhost:8080/",
          "height": 217
        }
      },
      "execution_count": null,
      "outputs": [
        {
          "output_type": "execute_result",
          "data": {
            "text/plain": [
              "  Agent Name  Model Brier Score  Aggregate Brier Scores  Model Calibration  \\\n",
              "0   children           0.213122                0.227944           0.010251   \n",
              "\n",
              "   Aggregate Calibration  Model Refinement  Aggregate Refinement  \\\n",
              "0                0.00422          0.202191              0.223723   \n",
              "\n",
              "   Model Better? (Based on Brier Score)  Success Score  \\\n",
              "0                                  True       0.714024   \n",
              "\n",
              "   Object Permanence Ability Mean (All)  ...  Visual Acuity Ability Max (All)  \\\n",
              "0                            677.493221  ...                        78.666667   \n",
              "\n",
              "   Flat Navigation Ability Max (All)  Lava Ability Max (All)  \\\n",
              "0                             1534.0                       2   \n",
              "\n",
              "   Right Ability Max (All)  Left Ability Max (All)  Ahead Ability Max (All)  \\\n",
              "0                        2                       2                        2   \n",
              "\n",
              "   CVChick Ability Max (All)  PCTB Ability Max (All)  \\\n",
              "0                          2                       2   \n",
              "\n",
              "   Lights Out Ability Max (All)  Noise Parameter Max (All)  \n",
              "0                             2                          1  \n",
              "\n",
              "[1 rows x 53 columns]"
            ],
            "text/html": [
              "\n",
              "  <div id=\"df-62c24e19-78e6-43d0-b786-a83caf535526\" class=\"colab-df-container\">\n",
              "    <div>\n",
              "<style scoped>\n",
              "    .dataframe tbody tr th:only-of-type {\n",
              "        vertical-align: middle;\n",
              "    }\n",
              "\n",
              "    .dataframe tbody tr th {\n",
              "        vertical-align: top;\n",
              "    }\n",
              "\n",
              "    .dataframe thead th {\n",
              "        text-align: right;\n",
              "    }\n",
              "</style>\n",
              "<table border=\"1\" class=\"dataframe\">\n",
              "  <thead>\n",
              "    <tr style=\"text-align: right;\">\n",
              "      <th></th>\n",
              "      <th>Agent Name</th>\n",
              "      <th>Model Brier Score</th>\n",
              "      <th>Aggregate Brier Scores</th>\n",
              "      <th>Model Calibration</th>\n",
              "      <th>Aggregate Calibration</th>\n",
              "      <th>Model Refinement</th>\n",
              "      <th>Aggregate Refinement</th>\n",
              "      <th>Model Better? (Based on Brier Score)</th>\n",
              "      <th>Success Score</th>\n",
              "      <th>Object Permanence Ability Mean (All)</th>\n",
              "      <th>...</th>\n",
              "      <th>Visual Acuity Ability Max (All)</th>\n",
              "      <th>Flat Navigation Ability Max (All)</th>\n",
              "      <th>Lava Ability Max (All)</th>\n",
              "      <th>Right Ability Max (All)</th>\n",
              "      <th>Left Ability Max (All)</th>\n",
              "      <th>Ahead Ability Max (All)</th>\n",
              "      <th>CVChick Ability Max (All)</th>\n",
              "      <th>PCTB Ability Max (All)</th>\n",
              "      <th>Lights Out Ability Max (All)</th>\n",
              "      <th>Noise Parameter Max (All)</th>\n",
              "    </tr>\n",
              "  </thead>\n",
              "  <tbody>\n",
              "    <tr>\n",
              "      <th>0</th>\n",
              "      <td>children</td>\n",
              "      <td>0.213122</td>\n",
              "      <td>0.227944</td>\n",
              "      <td>0.010251</td>\n",
              "      <td>0.00422</td>\n",
              "      <td>0.202191</td>\n",
              "      <td>0.223723</td>\n",
              "      <td>True</td>\n",
              "      <td>0.714024</td>\n",
              "      <td>677.493221</td>\n",
              "      <td>...</td>\n",
              "      <td>78.666667</td>\n",
              "      <td>1534.0</td>\n",
              "      <td>2</td>\n",
              "      <td>2</td>\n",
              "      <td>2</td>\n",
              "      <td>2</td>\n",
              "      <td>2</td>\n",
              "      <td>2</td>\n",
              "      <td>2</td>\n",
              "      <td>1</td>\n",
              "    </tr>\n",
              "  </tbody>\n",
              "</table>\n",
              "<p>1 rows × 53 columns</p>\n",
              "</div>\n",
              "    <div class=\"colab-df-buttons\">\n",
              "\n",
              "  <div class=\"colab-df-container\">\n",
              "    <button class=\"colab-df-convert\" onclick=\"convertToInteractive('df-62c24e19-78e6-43d0-b786-a83caf535526')\"\n",
              "            title=\"Convert this dataframe to an interactive table.\"\n",
              "            style=\"display:none;\">\n",
              "\n",
              "  <svg xmlns=\"http://www.w3.org/2000/svg\" height=\"24px\" viewBox=\"0 -960 960 960\">\n",
              "    <path d=\"M120-120v-720h720v720H120Zm60-500h600v-160H180v160Zm220 220h160v-160H400v160Zm0 220h160v-160H400v160ZM180-400h160v-160H180v160Zm440 0h160v-160H620v160ZM180-180h160v-160H180v160Zm440 0h160v-160H620v160Z\"/>\n",
              "  </svg>\n",
              "    </button>\n",
              "\n",
              "  <style>\n",
              "    .colab-df-container {\n",
              "      display:flex;\n",
              "      gap: 12px;\n",
              "    }\n",
              "\n",
              "    .colab-df-convert {\n",
              "      background-color: #E8F0FE;\n",
              "      border: none;\n",
              "      border-radius: 50%;\n",
              "      cursor: pointer;\n",
              "      display: none;\n",
              "      fill: #1967D2;\n",
              "      height: 32px;\n",
              "      padding: 0 0 0 0;\n",
              "      width: 32px;\n",
              "    }\n",
              "\n",
              "    .colab-df-convert:hover {\n",
              "      background-color: #E2EBFA;\n",
              "      box-shadow: 0px 1px 2px rgba(60, 64, 67, 0.3), 0px 1px 3px 1px rgba(60, 64, 67, 0.15);\n",
              "      fill: #174EA6;\n",
              "    }\n",
              "\n",
              "    .colab-df-buttons div {\n",
              "      margin-bottom: 4px;\n",
              "    }\n",
              "\n",
              "    [theme=dark] .colab-df-convert {\n",
              "      background-color: #3B4455;\n",
              "      fill: #D2E3FC;\n",
              "    }\n",
              "\n",
              "    [theme=dark] .colab-df-convert:hover {\n",
              "      background-color: #434B5C;\n",
              "      box-shadow: 0px 1px 3px 1px rgba(0, 0, 0, 0.15);\n",
              "      filter: drop-shadow(0px 1px 2px rgba(0, 0, 0, 0.3));\n",
              "      fill: #FFFFFF;\n",
              "    }\n",
              "  </style>\n",
              "\n",
              "    <script>\n",
              "      const buttonEl =\n",
              "        document.querySelector('#df-62c24e19-78e6-43d0-b786-a83caf535526 button.colab-df-convert');\n",
              "      buttonEl.style.display =\n",
              "        google.colab.kernel.accessAllowed ? 'block' : 'none';\n",
              "\n",
              "      async function convertToInteractive(key) {\n",
              "        const element = document.querySelector('#df-62c24e19-78e6-43d0-b786-a83caf535526');\n",
              "        const dataTable =\n",
              "          await google.colab.kernel.invokeFunction('convertToInteractive',\n",
              "                                                    [key], {});\n",
              "        if (!dataTable) return;\n",
              "\n",
              "        const docLinkHtml = 'Like what you see? Visit the ' +\n",
              "          '<a target=\"_blank\" href=https://colab.research.google.com/notebooks/data_table.ipynb>data table notebook</a>'\n",
              "          + ' to learn more about interactive tables.';\n",
              "        element.innerHTML = '';\n",
              "        dataTable['output_type'] = 'display_data';\n",
              "        await google.colab.output.renderOutput(dataTable, element);\n",
              "        const docLink = document.createElement('div');\n",
              "        docLink.innerHTML = docLinkHtml;\n",
              "        element.appendChild(docLink);\n",
              "      }\n",
              "    </script>\n",
              "  </div>\n",
              "\n",
              "    </div>\n",
              "  </div>\n"
            ]
          },
          "metadata": {},
          "execution_count": 40
        }
      ]
    },
    {
      "cell_type": "code",
      "source": [
        "def SetupHierarchicalModel(taskResultsAll, uniformAbilitySlack, agent_type, agent_name = None, agent_name_choice = None, sample = 500):\n",
        "  \"\"\"\n",
        "  taskResults is the conjunction of the metadata with the successes of the agents on that set of tests.\n",
        "  \"\"\"\n",
        "  assert uniformAbilitySlack >=1, \"Slack must be greater than or equal to 1.\"\n",
        "\n",
        "  if agent_type == \"agent_real\":\n",
        "    taskResults = taskResultsAll.dropna(subset = [agent_name])\n",
        "    if sample is not None:\n",
        "      taskResults = taskResults.sample(n=sample)\n",
        "    results = taskResults[agent_name]\n",
        "    choices = taskResults[agent_name_choice]\n",
        "  elif agent_type == \"agent_synthetic\":\n",
        "    taskResults = taskResultsAll.dropna(subset = [agent_name])\n",
        "    if sample is not None:\n",
        "      taskResults = taskResults.sample(n=sample)\n",
        "    results = taskResults[agent_name]\n",
        "    choices = results\n",
        "  elif agent_type == \"child\":\n",
        "    taskResults = taskResultsAll.dropna(subset = ['success'])\n",
        "    if sample is not None:\n",
        "      taskResults = taskResults.sample(n=sample)\n",
        "    results = taskResults['success']\n",
        "    choices = taskResults['correctChoice']\n",
        "  else:\n",
        "    print(\"Agent not recognised. Quitting.\")\n",
        "    return\n",
        "\n",
        "\n",
        "\n",
        "  abilityMin = {} #Initialize ability Min and max dataframes for plotting ranges\n",
        "  abilityMax = {}\n",
        "\n",
        "  #Decide \"maximum capabilities\" based on the hardest values in the dataset\n",
        "  maxDistance = taskResults[\"cityBlockDistanceToGoal\"].max()\n",
        "  maxTurns = taskResults[\"minNumTurnsRequired\"].max()\n",
        "  maxChoices = taskResults[\"numChoices\"].max()\n",
        "  maxGoalSize = taskResults[\"mainGoalSize\"].max() * uniformAbilitySlack\n",
        "  maxPermAbility = ((taskResults[\"cityBlockDistanceToGoal\"] * taskResults[\"numChoices\"]).max()) * uniformAbilitySlack\n",
        "  maxFlatNav = ((taskResults[\"cityBlockDistanceToGoal\"]*taskResults[\"minNumTurnsRequired\"])).max() * uniformAbilitySlack\n",
        "  #maxPermAbility = maxChoices * uniformAbilitySlack\n",
        "  #maxMemoryAbility = maxDistance * uniformAbilitySlack\n",
        "  #maxPermAbility = 1\n",
        "  #maxMemoryAbility = 1\n",
        "\n",
        "  # Decide 'minimum capabilities' based on easiest values in the dataset\n",
        "  minDistance = taskResults[\"cityBlockDistanceToGoal\"].min()\n",
        "  minTurns = taskResults[\"minNumTurnsRequired\"].min()\n",
        "  minChoices = taskResults[\"numChoices\"].min()\n",
        "  minGoalSize = taskResults[\"mainGoalSize\"].min() * (1-(uniformAbilitySlack-1))\n",
        "  minPermAbility = ((taskResults[\"cityBlockDistanceToGoal\"] * taskResults[\"numChoices\"]).min()) * (1-(uniformAbilitySlack-1))\n",
        "  minFlatNav = ((taskResults[\"cityBlockDistanceToGoal\"]*taskResults[\"minNumTurnsRequired\"])).min() * (1-(uniformAbilitySlack-1))\n",
        "  #minPermAbility = 0\n",
        "\n",
        "  m = pm.Model()\n",
        "  with m:\n",
        "\n",
        "    #### Hyper priors ####\n",
        "    V_nav = pm.Beta('V_nav', 1, 1)\n",
        "    #U_nav = pm.Gamma('U_nav',1, 1/20)\n",
        "    U_nav = pm.HalfNormal('U_nav',sigma = 10)\n",
        "    V_mem = pm.Beta('V_mem', 1, 1)\n",
        "    #U_mem = pm.Gamma('U_mem',1,1/20)\n",
        "    U_mem = pm.HalfNormal('U_mem',sigma = 10)\n",
        "    V_op = pm.Beta('V_op', 1, 1)\n",
        "    #U_op = pm.Gamma('U_op',1,1/20)\n",
        "    U_op = pm.HalfNormal('U_op',sigma = 10)\n",
        "\n",
        "    ### Ability Priors as scaled beta distributions\n",
        "    al_op = pm.Deterministic('al_op',V_op * U_op)\n",
        "    be_op = pm.Deterministic('be_op',(1- V_op) * U_op)\n",
        "    al_mem = pm.Deterministic('al_mem',V_mem * U_mem)\n",
        "    be_mem = pm.Deterministic('be_mem',(1- V_mem) * U_mem)\n",
        "    al_nav = pm.Deterministic('al_nav',V_nav * U_nav)\n",
        "    be_nav = pm.Deterministic('be_nav',(1- V_nav) * U_nav)\n",
        "\n",
        "    #beta_op = pm.Beta(\"beta_op\", al_op, be_op,dims='agent')\n",
        "    z1_op = pm.Gamma(\"z1_op\", alpha=al_op, beta=1,dims='agent')\n",
        "    z2_op = pm.Gamma(\"z2_op\", alpha=be_op, beta=1,dims='agent')\n",
        "\n",
        "    objPermAbility = pm.Uniform(\"objPermAbility\", minPermAbility, maxPermAbility)  # [0,maxPermAbility] This is the same as above, but we have the ability in the right magnitude\n",
        "    abilityMin[\"objPermAbility\"] = minPermAbility\n",
        "    abilityMax[\"objPermAbility\"] = maxPermAbility\n",
        "\n",
        "    #objPermAbility = scaledBeta(\"objPermAbility\", 1,1, minPermAbility, maxPermAbility, simpleGraph=False)\n",
        "    abilityMin[\"objPermAbility\"] = minPermAbility\n",
        "    abilityMax[\"objPermAbility\"] = maxPermAbility\n",
        "\n",
        "    #memoryAbility = pm.Uniform(\"memoryAbility\", 0, maxMemoryAbility)  # [0,maxMemoryAbility] This is the same as above, but we have the ability in the right magnitude\n",
        "    #abilityMin[\"memoryAbility\"] = 0\n",
        "    #abilityMax[\"memoryAbility\"] = maxMemoryAbility\n",
        "\n",
        "    #Visual acuity\n",
        "    visualAcuityAbility = pm.Uniform(\"visualAcuityAbility\", minDistance/maxGoalSize, maxDistance/minGoalSize)\n",
        "    abilityMin[\"visualAcuityAbility\"] = minDistance/maxGoalSize\n",
        "    abilityMax[\"visualAcuityAbility\"] = maxDistance/minGoalSize\n",
        "\n",
        "    # Flat Navigation Ability\n",
        "    flatNavAbility = pm.Uniform(\"flatNavAbility\", minFlatNav, maxFlatNav)      # how much navigation is involved, i.e, how far away and how circuitous is the path to the goal?\n",
        "    #flatNavAbility = pm.Uniform(\"flatNavAbility\", 0, maxTurns*maxDistance)\n",
        "    abilityMin[\"flatNavAbility\"] = minFlatNav\n",
        "    #abilityMax[\"flatNavAbility\"] = maxDistance*maxTurns\n",
        "    abilityMax[\"flatNavAbility\"] = maxFlatNav\n",
        "\n",
        "    # Lava Ability\n",
        "    lavaAbility = scaledBeta(\"lavaAbility\", 1,1, 0, 1, simpleGraph=False)\n",
        "    #lavaAbility = pm.Beta(\"lavaAbility\", 1,1)                        # [0,1] Specific ability with lava\n",
        "    abilityMin[\"lavaAbility\"] = 0\n",
        "    abilityMax[\"lavaAbility\"] = 1\n",
        "\n",
        "    # Ramp Ability\n",
        "    #rampAbility = pm.Beta(\"rampAbility\",1,1)                          # [0,1] Specific ability with ramps\n",
        "    #abilityMin[\"rampAbility\"] = 0\n",
        "    #abilityMax[\"rampAbility\"] = 1\n",
        "\n",
        "    # Goal Right Ability\n",
        "    #rightAbility = pm.Beta(\"rightAbility\", 1, 1)\n",
        "    rightAbility = scaledBeta(\"rightAbility\", 1,1, 0, 1, simpleGraph=False)\n",
        "    abilityMin[\"rightAbility\"] = 0\n",
        "    abilityMax[\"rightAbility\"] = 1\n",
        "\n",
        "    # Goal Left Ability\n",
        "    #leftAbility = pm.Beta(\"leftAbility\", 1, 1)\n",
        "    leftAbility = scaledBeta(\"leftAbility\", 1,1, 0, 1, simpleGraph=False)\n",
        "    abilityMin[\"leftAbility\"] = 0\n",
        "    abilityMax[\"leftAbility\"] = 1\n",
        "\n",
        "    # Goal Ahead Ability\n",
        "    #aheadAbility = pm.Beta(\"aheadAbility\", 1, 1)\n",
        "    aheadAbility = scaledBeta(\"aheadAbility\", 1,1, 0, 1, simpleGraph=False)\n",
        "    abilityMin[\"aheadAbility\"] = 0\n",
        "    abilityMax[\"aheadAbility\"] = 1\n",
        "\n",
        "    # CV Chick Ability\n",
        "    #CVChickAbility = pm.Beta(\"CVChickAbility\", 1, 1)\n",
        "    CVChickAbility = scaledBeta(\"CVChickAbility\", 1,1, 0, 1, simpleGraph=False)\n",
        "    abilityMin[\"CVChickAbility\"] = 0\n",
        "    abilityMax[\"CVChickAbility\"] = 1\n",
        "\n",
        "    # PCTB Ability\n",
        "    #PCTBAbility = pm.Beta(\"PCTBAbility\", 1, 1)\n",
        "    PCTBAbility = scaledBeta(\"PCTBAbility\", 1,1, 0, 1, simpleGraph=False)\n",
        "    abilityMin[\"PCTBAbility\"] = 0\n",
        "    abilityMax[\"PCTBAbility\"] = 1\n",
        "\n",
        "    # Lights Out Ability\n",
        "    #LOAbility = pm.Beta(\"lightsOutAbility\", 1, 1)\n",
        "    LOAbility = scaledBeta(\"lightsOutAbility\", 1,1, 0, 1, simpleGraph=False)\n",
        "    abilityMin[\"lightsOutAbility\"] = 0\n",
        "    abilityMax[\"lightsOutAbility\"] = 1\n",
        "\n",
        "\n",
        "\n",
        "    ## Environment variables as Deterministic (about the instance)\n",
        "\n",
        "    lavaPresence = pm.MutableData(\"lavaPresence\", taskResults[\"lavaPresence\"].values, dims='obs')\n",
        "    #rampPresence = pm.MutableData(\"rampPresence\", taskResults[\"taskCriticalRampPresence\"].values)\n",
        "    lightsOutPresence = pm.MutableData(\"lightsOutPresence\", taskResults[\"lightsOutPresence\"].values, dims='obs')\n",
        "    numGoals = pm.MutableData(\"numberOfGoals\", taskResults[\"numGoalsAll\"].values, dims='obs')\n",
        "    numChoices = pm.MutableData(\"numChoices\", taskResults[\"numChoices\"].values, dims='obs')\n",
        "    goalSize = pm.MutableData(\"goalSize\",taskResults[\"mainGoalSize\"].values, dims='obs')\n",
        "    goalDist = pm.MutableData(\"goalDistance\", taskResults[\"cityBlockDistanceToGoal\"].values, dims='obs')\n",
        "    numTurns = pm.MutableData(\"minTurnsToGoal\", taskResults[\"minNumTurnsRequired\"], dims='obs')\n",
        "    goalRight = pm.MutableData(\"goalRight\", taskResults[\"goalRightRelToStart\"])\n",
        "    goalAhead = pm.MutableData(\"goalAhead\", taskResults[\"goalCentreRelToStart\"], dims='obs')\n",
        "    goalLeft = pm.MutableData(\"goalLeft\", taskResults[\"goalLeftRelToStart\"], dims='obs')\n",
        "    opTest = pm.MutableData(\"allocentricOPTest\", taskResults[\"goalBecomesAllocentricallyOccluded\"].values, dims='obs')\n",
        "    CVTest = pm.MutableData(\"CVChickTest\", taskResults[\"cvchickTask\"], dims='obs')\n",
        "    PCTBTest = pm.MutableData(\"PCTBTest\", taskResults[\"pctbTask\"], dims='obs')\n",
        "    forcedChoice = pm.MutableData(\"forcedChoice\", taskResults[\"forcedChoice\"], dims='obs')\n",
        "    pctb3Cup = pm.MutableData(\"pctb3CupTest\", taskResults['pctb3CupTask'], dims='obs')\n",
        "    pctbGrid = pm.MutableData(\"pctbGridTest\", taskResults['pctbGridTask'], dims='obs')\n",
        "\n",
        "    ## Margins\n",
        "\n",
        "    #goalSmallness = maxGoalSize - goalSize\n",
        "    visualAcuityP = pm.Deterministic(\"visualAcuityP\", logistic(visualAcuityLOMargin(visualAcuityAbility, goalSize, goalDist)))\n",
        "\n",
        "    rightP = pm.Deterministic(\"rightPerformance\", logistic999(SimplePrMargin(rightAbility, goalRight), min = 0, max = 1))\n",
        "    aheadP = pm.Deterministic(\"aheadPerformance\", logistic999(SimplePrMargin(aheadAbility, goalAhead), min = 0, max = 1))\n",
        "    leftP = pm.Deterministic(\"leftPerformance\", logistic999(SimplePrMargin(leftAbility, goalLeft), min = 0, max = 1))\n",
        "\n",
        "    #flatNavP = pm.Deterministic(\"flatNavP\", logistic(flatNavMargin(flatNavAbility, goalDist, numTurns, opTest)))\n",
        "    #flatNavP = pm.Deterministic(\"flatNavP\", logistic(flatNavMargin(flatNavAbility, goalDist, numTurns)))\n",
        "    #flatNavP = pm.Deterministic(\"flatNavP\", logistic(flatNavAbility - (numTurns * goalDist)))\n",
        "    flatNavP = pm.Deterministic(\"flatNavP\", logistic999(flatNavAbility - (numTurns * goalDist), min = minFlatNav, max = maxFlatNav))\n",
        "\n",
        "    lavaP = pm.Deterministic(\"lavaP\", logistic999(SimplePrMargin(lavaAbility, lavaPresence), min = 0, max = 1))\n",
        "\n",
        "    lightsOutP = pm.Deterministic(\"lightsOutP\", logistic999(SimplePrMargin(LOAbility, lightsOutPresence), min = 0, max = 1))\n",
        "\n",
        "    #rampP = pm.Deterministic(\"rampP\", SimplePrMargin(rampAbility, rampPresence))\n",
        "\n",
        "    cvchickP = pm.Deterministic(\"cvChickP\", logistic999(SimplePrMargin(CVChickAbility, CVTest), min = 0, max = 1))\n",
        "    pctbP = pm.Deterministic(\"pctbP\", logistic999(SimplePrMargin(PCTBAbility, PCTBTest), min = 0, max = 1))\n",
        "\n",
        "    #navP = pm.Deterministic(\"navP\", (flatNavP * lavaP * rampP * rightP * aheadP * leftP * cvchickP * pctbP)) #, visualAcuityP))\n",
        "    navP = pm.Deterministic(\"navP\", (flatNavP * lavaP * rightP * aheadP * leftP))\n",
        "\n",
        "    #OPLOM = objPermanenceLOMargin(objPermAbility, opTest, CVTest, PCTBTest, lightsOutPresence, goalDist, numChoices, maxPermAbility, lightsOutPenalisation=(uniformAbilitySlack-0.35), uniformAbilitySlack=uniformAbilitySlack)\n",
        "    #OPLOM = objPermanenceLOMargin(objPermAbility, opTest, lightsOutPresence, goalDist, numChoices, maxPermAbility, lightsOutPenalisation=(uniformAbilitySlack-0.35), uniformAbilitySlack=uniformAbilitySlack)\n",
        "    #OPLOM = objPermanenceLOMargin(objPermAbility, opTest, cvchickP, pctbP, lightsOutPresence, goalDist, numChoices, maxPermAbility, lightsOutPenalisation=(uniformAbilitySlack-0.35), uniformAbilitySlack=uniformAbilitySlack)\n",
        "\n",
        "    #OPPerformance = (objPermAbility  - ((goalDist * numChoices)*opTest)) #this returns a value that is lower when (a) ability is lower, (b) the goal is occluded for longer or there are more positions where it could be occluded, or (c) when the lights go out (by a small penalisation)\n",
        "    #OPPerformance = (objPermAbility  - ((goalDist * numChoices)))\n",
        "    #OPPerformance = (objPermAbility  - numChoices)\n",
        "    #OPPerformance = (objPermAbility  - ((goalDist*opTest) * (numChoices*opTest)))\n",
        "    #OPPerformance = objPermAbility  - ((goalDist * numChoices)*opTest)\n",
        "    #OPability = maxPermAbility - ((maxPermAbility-OPPerformance)*opTest)\n",
        "    #objPermP = pm.Deterministic(\"objPermP\", logistic(OPLOM))\n",
        "    #objPermP = pm.Deterministic(\"objPermP\", logistic(OPPerformance, x_0 = ((maxPermAbility - minPermAbility)/2)+minPermAbility))\n",
        "    #objPermP = pm.Deterministic(\"objPermP\", logistic(SimplePrMargin(objPermAbility, opTest), x_0 = ((maxPermAbility - minPermAbility)/2)+minPermAbility))\n",
        "    OPPerformance = (objPermAbility  - (((goalDist*opTest) * numChoices) + (numChoices * (1-opTest))))\n",
        "    #objPermP = pm.Deterministic(\"objPermP\", logistic(OPPerformance, x_0 = ((maxPermAbility - minPermAbility)/2)+minPermAbility))\n",
        "    #objPermP = pm.Deterministic(\"objPermP\", logistic(OPPerformance))\n",
        "    objPermP = pm.Deterministic(\"objPermP\", (logistic999(OPPerformance, min = minPermAbility, max = maxPermAbility) * cvchickP * pctbP * lightsOutP))\n",
        "\n",
        "    #flatNavP = pm.Deterministic(\"flatNavP\", logistic((flatNavAbility - (numTurns * goalDist)), x_0 = ((maxFlatNav - minFlatNav)/2)+minFlatNav))\n",
        "    noise = 1 - np.mean(results)  # With this noise is complementary to result prior.\n",
        "    noisePar = pm.Uniform(\"noisePar\", 0, 1)\n",
        "    finalP = pm.Deterministic(\"finalP\", (1-noisePar)*(objPermP * navP * visualAcuityP)+(noisePar*noise))\n",
        "\n",
        "    navDecrementer = pm.Deterministic(\"navDecrementer\", (CVTest*navP*(39/1600)) + (pctb3Cup*navP*(1584/1600)) + (pctbGrid*navP*(1-(numGoals*(1/9))))) #decrements navigation according to how much of the space is taken up by the incorrect or no-choice options - intuitively, takes much less navigation to get the CVChick task wrong than the PCTB tasks.\n",
        "    choiceP = pm.Deterministic(\"choiceP\", (1-noisePar)*(objPermP * visualAcuityP * navDecrementer * forcedChoice)+(noisePar*noise))\n",
        "\n",
        "    #finalP = pm.Deterministic(\"finalP\", (objPermP * flatNavP))\n",
        "    #finalP = pm.Deterministic(\"finalP\", (1-((1-objPermP)*(1-flatNavP)))) #compensatory finalPerformance\n",
        "    #finalP = pm.Deterministic(\"finalP\", (objPermP * flatNavP * visualAcuityP))\n",
        "    #finalP = pm.Deterministic(\"finalP\", (objPermP * navP * visualAcuityP))\n",
        "\n",
        "    #taskPerformance = pm.Bernoulli(\"taskPerformance\", flatNavP, observed=results)\n",
        "    taskSuccess = pm.Bernoulli(\"taskSuccess\", finalP, observed=results)\n",
        "    taskChoice = pm.Bernoulli(\"taskChoice\", choiceP, observed=choices)\n",
        "    #taskPerformance = pm.Bernoulli(\"taskPerformance\", objPermP, observed=results)\n",
        "  #pm.model_graph.model_to_graphviz(m)\n",
        "\n",
        "  return m, abilityMin, abilityMax"
      ],
      "metadata": {
        "id": "M1tZERleyyBS"
      },
      "execution_count": null,
      "outputs": []
    },
    {
      "cell_type": "code",
      "source": [
        "with pm.Model(coords=COORDS) as hierarchical_model_2:\n",
        "    #### Hyper priors ####\n",
        "    V_nav = pm.Beta('V_nav', 1, 1)\n",
        "    #U_nav = pm.Gamma('U_nav',1, 1/20)\n",
        "    U_nav = pm.HalfNormal('U_nav',sigma = 10)\n",
        "    V_mem = pm.Beta('V_mem', 1, 1)\n",
        "    #U_mem = pm.Gamma('U_mem',1,1/20)\n",
        "    U_mem = pm.HalfNormal('U_mem',sigma = 10)\n",
        "    V_op = pm.Beta('V_op', 1, 1)\n",
        "    #U_op = pm.Gamma('U_op',1,1/20)\n",
        "    U_op = pm.HalfNormal('U_op',sigma = 10)\n",
        "\n",
        "    ### Task Features (demands) as Deterministic\n",
        "    OPDemands = pm.MutableData(\"OPDemands\", relevantData_melted[\"Object Permanence Demands\"].values,dims='obs')\n",
        "    MemDemands = pm.MutableData(\"MemDemands\", relevantData_melted[\"Memory Demands\"].values,dims='obs')\n",
        "    NavDemands = pm.MutableData(\"NavDemands\", relevantData_melted[\"Navigation Demands\"].values,dims='obs')\n",
        "\n",
        "    ### Ability Priors as scaled beta distributions\n",
        "    al_op = pm.Deterministic('al_op',V_op * U_op)\n",
        "    be_op = pm.Deterministic('be_op',(1- V_op) * U_op)\n",
        "    al_mem = pm.Deterministic('al_mem',V_mem * U_mem)\n",
        "    be_mem = pm.Deterministic('be_mem',(1- V_mem) * U_mem)\n",
        "    al_nav = pm.Deterministic('al_nav',V_nav * U_nav)\n",
        "    be_nav = pm.Deterministic('be_nav',(1- V_nav) * U_nav)\n",
        "\n",
        "    #beta_op = pm.Beta(\"beta_op\", al_op, be_op,dims='agent')\n",
        "    z1_op = pm.Gamma(\"z1_op\", alpha=al_op, beta=1,dims='agent')\n",
        "    z2_op = pm.Gamma(\"z2_op\", alpha=be_op, beta=1,dims='agent')\n",
        "    OPAbility = pm.Deterministic('OPAbility',(z1_op/(z1_op+z2_op))*2,dims='agent')\n",
        "    #OPAbility = pm.Deterministic('OPAbility', beta_op * (2 - 0) + 0,dims='agent')\n",
        "    #OPAbility = scaledBeta(\"OPAbility\", V_op * U_op, (1- V_op) * U_op, 0, 2,dims='agent')  # Abilities are scaled between 0 and 2, because demands can be either 0 or 1, and we want margins to be positive or negative.\n",
        "    #beta_mem = pm.Beta(\"beta_mem\", al_mem, be_mem,dims='agent')\n",
        "    z1_mem = pm.Gamma(\"z1_mem\", alpha=al_mem, beta=1,dims='agent')\n",
        "    z2_mem = pm.Gamma(\"z2_mem\", alpha=be_mem, beta=1,dims='agent')\n",
        "    MemAbility = pm.Deterministic('MemAbility',(z1_mem/(z1_mem+z2_mem))*2,dims='agent')\n",
        "    #MemAbility = pm.Deterministic('MemAbility', beta_mem * (2 - 0) + 0,dims='agent')\n",
        "    #MemAbility = scaledBeta(\"MemAbility\", V_mem * U_mem, (1- V_mem) * U_mem, 0, 2,dims='agent')\n",
        "    #beta_nav = pm.Beta(\"beta_nav\", al_nav, be_nav,dims='agent')\n",
        "    z1_nav = pm.Gamma(\"z1_nav\", alpha=al_nav, beta=1,dims='agent')\n",
        "    z2_nav = pm.Gamma(\"z2_nav\", alpha=be_nav, beta=1,dims='agent')\n",
        "    NavAbility = pm.Deterministic('NavAbility',(z1_nav/(z1_nav+z2_nav))*2,dims='agent')\n",
        "    #NavAbility = pm.Deterministic('NavAbility', beta_nav * (2 - 0) + 0,dims='agent')\n",
        "    #NavAbility = scaledBeta(\"NavAbility\", V_nav * U_nav, (1- V_nav) * U_nav, 0, 2,dims='agent')\n",
        "\n",
        "    ###  Performance\n",
        "    OPP = pm.Deterministic(\"OPP\", logistic(simpleBinMargin(OPAbility[agent_idx], OPDemands)),dims='obs')\n",
        "    MemP = pm.Deterministic(\"MemP\", logistic(simpleBinMargin(MemAbility[agent_idx], MemDemands)),dims='obs')\n",
        "    NavP = pm.Deterministic(\"NavP\", logistic(simpleBinMargin(NavAbility[agent_idx], NavDemands)),dims='obs')\n",
        "\n",
        "    integratedP = nonCompensatory([OPP, MemP, NavP])\n",
        "\n",
        "    integratedP_index = integratedP\n",
        "\n",
        "    TaskPerforamnce = pm.Bernoulli(\"TaskPerformance\",  integratedP_index, observed = relevantData_melted[\"Performance\"].values,dims='obs')"
      ],
      "metadata": {
        "id": "3iRZmBuZxYBX"
      },
      "execution_count": null,
      "outputs": []
    }
  ]
}