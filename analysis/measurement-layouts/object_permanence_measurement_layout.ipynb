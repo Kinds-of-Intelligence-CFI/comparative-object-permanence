{
  "nbformat": 4,
  "nbformat_minor": 0,
  "metadata": {
    "colab": {
      "provenance": [],
      "include_colab_link": true
    },
    "kernelspec": {
      "name": "python3",
      "display_name": "Python 3"
    },
    "language_info": {
      "name": "python"
    }
  },
  "cells": [
    {
      "cell_type": "markdown",
      "metadata": {
        "id": "view-in-github",
        "colab_type": "text"
      },
      "source": [
        "<a href=\"https://colab.research.google.com/github/Kinds-of-Intelligence-CFI/comparative-object-permanence/blob/develop/analysis/measurement-layouts/object_permanence_measurement_layout.ipynb\" target=\"_parent\"><img src=\"https://colab.research.google.com/assets/colab-badge.svg\" alt=\"Open In Colab\"/></a>"
      ]
    },
    {
      "cell_type": "markdown",
      "source": [
        "# Comparative Object Permanence Measurement Layouts\n",
        "\n",
        "Authors: K. Voudouris, J. Burden, J. Hernández-Orallo"
      ],
      "metadata": {
        "id": "U27yVRKBqCpj"
      }
    },
    {
      "cell_type": "markdown",
      "source": [
        "## INIT"
      ],
      "metadata": {
        "id": "95RSQ17Lriav"
      }
    },
    {
      "cell_type": "code",
      "execution_count": 1,
      "metadata": {
        "id": "MLYI9s6Lp3fi",
        "outputId": "e9181194-919b-452f-d113-63b8b08225f1",
        "colab": {
          "base_uri": "https://localhost:8080/"
        }
      },
      "outputs": [
        {
          "output_type": "stream",
          "name": "stdout",
          "text": [
            "\u001b[?25l     \u001b[90m━━━━━━━━━━━━━━━━━━━━━━━━━━━━━━━━━━━━━━━━\u001b[0m \u001b[32m0.0/40.1 kB\u001b[0m \u001b[31m?\u001b[0m eta \u001b[36m-:--:--\u001b[0m\r\u001b[2K     \u001b[90m━━━━━━━━━━━━━━━━━━━━━━━━━━━━━━━━━━━━━━━\u001b[0m \u001b[32m40.1/40.1 kB\u001b[0m \u001b[31m967.4 kB/s\u001b[0m eta \u001b[36m0:00:00\u001b[0m\n",
            "\u001b[?25h"
          ]
        }
      ],
      "source": [
        "!pip install pymc --quiet\n",
        "!pip install numpy --quiet\n",
        "!pip install arviz --quiet\n",
        "!pip install erroranalysis --quiet"
      ]
    },
    {
      "cell_type": "code",
      "source": [
        "import arviz as az\n",
        "import erroranalysis as ea\n",
        "import gc\n",
        "import graphviz\n",
        "import math\n",
        "import matplotlib.pyplot as plt\n",
        "import numpy as np\n",
        "import pandas as pd\n",
        "import pickle\n",
        "import pymc as pm\n",
        "import random as rm\n",
        "import seaborn as sns\n",
        "\n",
        "from IPython.display import Image\n",
        "from scipy import stats\n",
        "from sklearn.model_selection import train_test_split\n",
        "from google.colab import files\n",
        "from pymc import model\n",
        "\n",
        "print(f\"Running on PyMC v{pm.__version__}\")"
      ],
      "metadata": {
        "id": "ehpymOwzrgm7",
        "outputId": "8d3d6f40-aeaa-45df-884d-ca367eedc13c",
        "colab": {
          "base_uri": "https://localhost:8080/"
        }
      },
      "execution_count": 2,
      "outputs": [
        {
          "output_type": "stream",
          "name": "stdout",
          "text": [
            "Running on PyMC v5.7.2\n"
          ]
        }
      ]
    },
    {
      "cell_type": "code",
      "source": [
        "from google.colab import drive\n",
        "drive.mount('/content/drive')"
      ],
      "metadata": {
        "id": "Ga3CMVsXSYRa",
        "outputId": "d552e416-84a1-4d44-a547-054600b0f3fd",
        "colab": {
          "base_uri": "https://localhost:8080/"
        }
      },
      "execution_count": 3,
      "outputs": [
        {
          "output_type": "stream",
          "name": "stdout",
          "text": [
            "Mounted at /content/drive\n"
          ]
        }
      ]
    },
    {
      "cell_type": "markdown",
      "source": [
        "## Load Data\n",
        "\n",
        "While the repo is private, the links break easily due to hashing of the csv location. You need to go to the csv in the repo, click raw, and copy the new link."
      ],
      "metadata": {
        "id": "s5Nsn4LgzVmj"
      }
    },
    {
      "cell_type": "code",
      "source": [
        "agents_url = 'https://raw.githubusercontent.com/Kinds-of-Intelligence-CFI/comparative-object-permanence/develop/analysis/measurement-layouts/results_final_clean_agents_wide.csv?token=GHSAT0AAAAAACEGARGRDI4VUVR4AQ6I7OC6ZHOF2AQ'\n",
        "agent_data = pd.read_csv(agents_url)\n",
        "\n",
        "children_url = 'https://raw.githubusercontent.com/Kinds-of-Intelligence-CFI/comparative-object-permanence/develop/analysis/measurement-layouts/results_final_clean_children_wide.csv?token=GHSAT0AAAAAACEGARGR5SHTZTCA6ZIBYYKUZHOF2JA'\n",
        "children_data = pd.read_csv(children_url)\n",
        "\n",
        "synthetic_agents_url = 'https://raw.githubusercontent.com/Kinds-of-Intelligence-CFI/comparative-object-permanence/develop/analysis/measurement-layouts/results_synthetic_agents_wide.csv?token=GHSAT0AAAAAACEGARGRKVDMRW6GNOJ2B4O2ZHOF2QQ'\n",
        "synthetic_agents_data = pd.read_csv(synthetic_agents_url)\n"
      ],
      "metadata": {
        "id": "1dN0OHAWzVBK"
      },
      "execution_count": 4,
      "outputs": []
    },
    {
      "cell_type": "markdown",
      "source": [
        "## Define the Measurement Layout"
      ],
      "metadata": {
        "id": "C0_GsfhIYZPw"
      }
    },
    {
      "cell_type": "code",
      "source": [
        "## Helper functions\n",
        "\n",
        "def logistic(x, L=1, k=1, x_0=0):\n",
        "  return (L / (1 + np.exp(-k * (x-x_0))))\n",
        "\n",
        "def logistic999(x, min, max):    # This logistic function ensures that if x is at -(max-min), we get prob 0.001, and if x is at (max-min), we get prob 0.999\n",
        "  x = x - min\n",
        "  max = max - min\n",
        "  x = 6.90675478 * x / max\n",
        "  return 1 / (1 + np.exp(-x))\n",
        "\n",
        "def visualAcuityLOMargin(ability, goalSmallness): # must return a value between -inf and inf  (more precisely between -maxVisualAcuityAbility and maxVisualAcuityAbility)\n",
        "  return ability - goalSmallness   # Goes between -inf to inf, with logodds=0 meaning this would lead to 0.5 chance of success\n",
        "\n",
        "def SimplePrMargin(ability, binaryFeature): # must return a value between 0 and 1\n",
        "  return 1-((1-ability)*binaryFeature)  # If binaryFeature is 0 then the margin represents p(success)=1. If binaryFeature = 1 then p(success)=ability\n",
        "\n",
        "#def flatNavMargin(ability, distanceToGoal, numTurns, allocentricOcclusion): # must return a value between -inf and inf  (more precisely between -maxSpatialAbility and maxSpatialAbility)\n",
        "def flatNavMargin(ability, distanceToGoal, numTurns):\n",
        "  #return ability - ((distanceToGoal * numTurns)*allocentricOcclusion)   # Goes between -inf to inf, with logodds=0 meaning this would lead to 0.5 chance of success\n",
        "  return ability - ((distanceToGoal * numTurns))\n",
        "\n",
        "def objPermanenceLOMargin(ability, allocentricOcclusion, cvChickP, pctbP, lightsOut, distanceToGoal, numPositions, maxPermAbility, lightsOutPenalisation, uniformAbilitySlack): #,  visualAcuityP): # must return a value between -inf and inf (more precisely between -maxPermAbility and maxPermAbility)\n",
        "#def objPermanenceLOMargin(ability, allocentricOcclusion, lightsOut, distanceToGoal, numPositions, maxPermAbility, lightsOutPenalisation, uniformAbilitySlack):\n",
        "  assert lightsOutPenalisation < uniformAbilitySlack and lightsOutPenalisation > 1, \"Penalisation for lights out must be lower than the slack on abilities.\"\n",
        "  OPPerformance = ability  - ((distanceToGoal * numPositions)*(lightsOut*lightsOutPenalisation)) #this returns a value that is lower when (a) ability is lower, (b) the goal is occluded for longer or there are more positions where it could be occluded, or (c) when the lights go out (by a small penalisation)\n",
        "  ability = maxPermAbility - ((maxPermAbility-OPPerformance)*allocentricOcclusion) * cvChickP * pctbP # this returns an ability value that is modulated by performance on the different paradigms. The agent needs to be good at both to have a high OP ability\n",
        "  #return maxPermAbility-((maxPermAbility-OPPerformance)*((allocentricOcclusion*cvChick) + (allocentricOcclusion*pctb))) #multiply by a factor that introduces whether the instance is a an OP CV task or an OP PCTB task (independent, so ((allocentricOcclusion*cvChick) + (allocentricOcclusion*pctb)) should be 0 or 1)\n",
        "  #return maxPermAbility - ((maxPermAbility-OPPerformance)*allocentricOcclusion)\n",
        "  return ability\n",
        "\n",
        "def scaledBeta(name, a, b, min, max, simpleGraph = True):\n",
        "  if (simpleGraph):\n",
        "    beta = pm.Beta(name, a, b)\n",
        "    return beta * (max - min) + min\n",
        "  else:\n",
        "    beta = pm.Beta(f\"{name}_raw\", a, b)\n",
        "    return pm.Deterministic(name, beta * (max - min) + min)\n"
      ],
      "metadata": {
        "id": "-uobQpcJiPr2"
      },
      "execution_count": 5,
      "outputs": []
    },
    {
      "cell_type": "code",
      "source": [
        "def SetupModel(taskResultsAll, uniformAbilitySlack, agent_type, agent_name = None, sample = 500):\n",
        "  \"\"\"\n",
        "  taskResults is the conjunction of the metadata with the successes of the agents on that set of tests.\n",
        "  \"\"\"\n",
        "  assert uniformAbilitySlack >=1, \"Slack must be greater than or equal to 1.\"\n",
        "\n",
        "  if agent_type == \"agent\":\n",
        "    taskResults = taskResultsAll.dropna(subset = [agent_name])\n",
        "    if sample is not None:\n",
        "      taskResults = taskResults.sample(n=sample)\n",
        "    results = taskResults[agent_name]\n",
        "  elif agent_type == \"child\":\n",
        "    taskResults = taskResultsAll.dropna(subset = ['success'])\n",
        "    if sample is not None:\n",
        "      taskResults = taskResults.sample(n=sample)\n",
        "    results = taskResults['success']\n",
        "  else:\n",
        "    print(\"Agent not recognised. Quitting.\")\n",
        "    return\n",
        "\n",
        "\n",
        "\n",
        "  abilityMin = {} #Initialize ability Min and max dataframes for plotting ranges\n",
        "  abilityMax = {}\n",
        "\n",
        "  #Decide \"maximum capabilities\" based on the hardest values in the dataset\n",
        "  maxDistance = taskResults[\"cityBlockDistanceToGoal\"].max()\n",
        "  maxTurns = taskResults[\"minNumTurnsRequired\"].max()\n",
        "  maxChoices = taskResults[\"numChoices\"].max()\n",
        "  maxGoalSize = taskResults[\"mainGoalSize\"].max() * uniformAbilitySlack\n",
        "  maxPermAbility = ((taskResults[\"cityBlockDistanceToGoal\"] * taskResults[\"numChoices\"]).max()) * uniformAbilitySlack\n",
        "  maxFlatNav = ((taskResults[\"cityBlockDistanceToGoal\"]*taskResults[\"minNumTurnsRequired\"])).max() * uniformAbilitySlack\n",
        "  #maxPermAbility = maxChoices * uniformAbilitySlack\n",
        "  #maxMemoryAbility = maxDistance * uniformAbilitySlack\n",
        "  #maxPermAbility = 1\n",
        "  #maxMemoryAbility = 1\n",
        "\n",
        "  # Decide 'minimum capabilities' based on easiest values in the dataset\n",
        "  minDistance = taskResults[\"cityBlockDistanceToGoal\"].min()\n",
        "  minTurns = taskResults[\"minNumTurnsRequired\"].min()\n",
        "  minChoices = taskResults[\"numChoices\"].min()\n",
        "  minGoalSize = taskResults[\"mainGoalSize\"].min() * (1-(uniformAbilitySlack-1))\n",
        "  minPermAbility = ((taskResults[\"cityBlockDistanceToGoal\"] * taskResults[\"numChoices\"]).min()) * (1-(uniformAbilitySlack-1))\n",
        "  minFlatNav = ((taskResults[\"cityBlockDistanceToGoal\"]*taskResults[\"minNumTurnsRequired\"])).min() * (1-(uniformAbilitySlack-1))\n",
        "  #minPermAbility = 0\n",
        "\n",
        "  m = pm.Model()\n",
        "  with m:\n",
        "\n",
        "    objPermAbility = pm.Uniform(\"objPermAbility\", minPermAbility, maxPermAbility)  # [0,maxPermAbility] This is the same as above, but we have the ability in the right magnitude\n",
        "    abilityMin[\"objPermAbility\"] = minPermAbility\n",
        "    abilityMax[\"objPermAbility\"] = maxPermAbility\n",
        "\n",
        "    #objPermAbility = scaledBeta(\"objPermAbility\", 1,1, minPermAbility, maxPermAbility, simpleGraph=False)\n",
        "    abilityMin[\"objPermAbility\"] = minPermAbility\n",
        "    abilityMax[\"objPermAbility\"] = maxPermAbility\n",
        "\n",
        "    #memoryAbility = pm.Uniform(\"memoryAbility\", 0, maxMemoryAbility)  # [0,maxMemoryAbility] This is the same as above, but we have the ability in the right magnitude\n",
        "    #abilityMin[\"memoryAbility\"] = 0\n",
        "    #abilityMax[\"memoryAbility\"] = maxMemoryAbility\n",
        "\n",
        "    #Visual acuity\n",
        "    visualAcuityAbility = pm.Uniform(\"visualAcuityAbility\", minGoalSize, maxGoalSize)\n",
        "    abilityMin[\"visualAcuityAbility\"] = minGoalSize\n",
        "    abilityMax[\"visualAcuityAbility\"] = maxGoalSize\n",
        "\n",
        "    # Flat Navigation Ability\n",
        "    flatNavAbility = pm.Uniform(\"flatNavAbility\", minFlatNav, maxFlatNav)      # how much navigation is involved, i.e, how far away and how circuitous is the path to the goal?\n",
        "    #flatNavAbility = pm.Uniform(\"flatNavAbility\", 0, maxTurns*maxDistance)\n",
        "    abilityMin[\"flatNavAbility\"] = minFlatNav\n",
        "    #abilityMax[\"flatNavAbility\"] = maxDistance*maxTurns\n",
        "    abilityMax[\"flatNavAbility\"] = maxFlatNav\n",
        "\n",
        "    # Lava Ability\n",
        "    lavaAbility = scaledBeta(\"lavaAbility\", 1,1, 0, 2, simpleGraph=False)\n",
        "    #lavaAbility = pm.Beta(\"lavaAbility\", 1,1)                        # [0,1] Specific ability with lava\n",
        "    abilityMin[\"lavaAbility\"] = 0\n",
        "    abilityMax[\"lavaAbility\"] = 2\n",
        "\n",
        "    # Ramp Ability\n",
        "    #rampAbility = pm.Beta(\"rampAbility\",1,1)                          # [0,1] Specific ability with ramps\n",
        "    #abilityMin[\"rampAbility\"] = 0\n",
        "    #abilityMax[\"rampAbility\"] = 1\n",
        "\n",
        "    # Goal Right Ability\n",
        "    #rightAbility = pm.Beta(\"rightAbility\", 1, 1)\n",
        "    rightAbility = scaledBeta(\"rightAbility\", 1,1, 0, 2, simpleGraph=False)\n",
        "    abilityMin[\"rightAbility\"] = 0\n",
        "    abilityMax[\"rightAbility\"] = 2\n",
        "\n",
        "    # Goal Left Ability\n",
        "    #leftAbility = pm.Beta(\"leftAbility\", 1, 1)\n",
        "    leftAbility = scaledBeta(\"leftAbility\", 1,1, 0, 2, simpleGraph=False)\n",
        "    abilityMin[\"leftAbility\"] = 0\n",
        "    abilityMax[\"leftAbility\"] = 2\n",
        "\n",
        "    # Goal Ahead Ability\n",
        "    #aheadAbility = pm.Beta(\"aheadAbility\", 1, 1)\n",
        "    aheadAbility = scaledBeta(\"aheadAbility\", 1,1, 0, 2, simpleGraph=False)\n",
        "    abilityMin[\"aheadAbility\"] = 0\n",
        "    abilityMax[\"aheadAbility\"] = 2\n",
        "\n",
        "    # CV Chick Ability\n",
        "    #CVChickAbility = pm.Beta(\"CVChickAbility\", 1, 1)\n",
        "    CVChickAbility = scaledBeta(\"CVChickAbility\", 1,1, 0, 2, simpleGraph=False)\n",
        "    abilityMin[\"CVChickAbility\"] = 0\n",
        "    abilityMax[\"CVChickAbility\"] = 2\n",
        "\n",
        "    # PCTB Ability\n",
        "    #PCTBAbility = pm.Beta(\"PCTBAbility\", 1, 1)\n",
        "    PCTBAbility = scaledBeta(\"PCTBAbility\", 1,1, 0, 2, simpleGraph=False)\n",
        "    abilityMin[\"PCTBAbility\"] = 0\n",
        "    abilityMax[\"PCTBAbility\"] = 2\n",
        "\n",
        "    # Lights Out Ability\n",
        "    #LOAbility = pm.Beta(\"lightsOutAbility\", 1, 1)\n",
        "    LOAbility = scaledBeta(\"lightsOutAbility\", 1,1, 0, 2, simpleGraph=False)\n",
        "    abilityMin[\"lightsOutAbility\"] = 0\n",
        "    abilityMax[\"lightsOutAbility\"] = 2\n",
        "\n",
        "\n",
        "\n",
        "    ## Environment variables as Deterministic (about the instance)\n",
        "\n",
        "    lavaPresence = pm.MutableData(\"lavaPresence\", taskResults[\"lavaPresence\"].values)\n",
        "    #rampPresence = pm.MutableData(\"rampPresence\", taskResults[\"taskCriticalRampPresence\"].values)\n",
        "    lightsOutPresence = pm.MutableData(\"lightsOutPresence\", taskResults[\"lightsOutPresence\"].values)\n",
        "    #numGoals = pm.MutableData(\"numberOfGoals\", taskResults[\"numGoalsAll\"].values)\n",
        "    numChoices = pm.MutableData(\"numChoices\", taskResults[\"numChoices\"].values)\n",
        "    goalSize = pm.MutableData(\"goalSize\",taskResults[\"mainGoalSize\"].values)\n",
        "    goalDist = pm.MutableData(\"goalDistance\", taskResults[\"cityBlockDistanceToGoal\"].values)\n",
        "    numTurns = pm.MutableData(\"minTurnsToGoal\", taskResults[\"minNumTurnsRequired\"])\n",
        "    goalRight = pm.MutableData(\"goalRight\", taskResults[\"goalRightRelToStart\"])\n",
        "    goalAhead = pm.MutableData(\"goalAhead\", taskResults[\"goalCentreRelToStart\"])\n",
        "    goalLeft = pm.MutableData(\"goalLeft\", taskResults[\"goalLeftRelToStart\"])\n",
        "    opTest = pm.MutableData(\"allocentricOPTest\", taskResults[\"goalBecomesAllocentricallyOccluded\"].values)\n",
        "    CVTest = pm.MutableData(\"CVChickTest\", taskResults[\"cvchickTask\"])\n",
        "    PCTBTest = pm.MutableData(\"PCTBTest\", taskResults[\"pctbTask\"])\n",
        "\n",
        "    ## Margins\n",
        "\n",
        "    goalSmallness = maxGoalSize - goalSize\n",
        "    visualAcuityP = pm.Deterministic(\"visualAcuityP\", logistic999(visualAcuityLOMargin(visualAcuityAbility, goalSmallness), min = minGoalSize, max = maxGoalSize))\n",
        "\n",
        "    rightP = pm.Deterministic(\"rightPerformance\", logistic999(SimplePrMargin(rightAbility, goalRight), min = 0, max = 2))\n",
        "    aheadP = pm.Deterministic(\"aheadPerformance\", logistic999(SimplePrMargin(aheadAbility, goalAhead), min = 0, max = 2))\n",
        "    leftP = pm.Deterministic(\"leftPerformance\", logistic999(SimplePrMargin(leftAbility, goalLeft), min = 0, max = 2))\n",
        "\n",
        "    #flatNavP = pm.Deterministic(\"flatNavP\", logistic(flatNavMargin(flatNavAbility, goalDist, numTurns, opTest)))\n",
        "    #flatNavP = pm.Deterministic(\"flatNavP\", logistic(flatNavMargin(flatNavAbility, goalDist, numTurns)))\n",
        "    #flatNavP = pm.Deterministic(\"flatNavP\", logistic(flatNavAbility - (numTurns * goalDist)))\n",
        "    flatNavP = pm.Deterministic(\"flatNavP\", logistic999(flatNavAbility - (numTurns * goalDist), min = minFlatNav, max = maxFlatNav))\n",
        "\n",
        "    lavaP = pm.Deterministic(\"lavaP\", logistic999(SimplePrMargin(lavaAbility, lavaPresence), min = 0, max = 2))\n",
        "\n",
        "    lightsOutP = pm.Deterministic(\"lightsOutP\", logistic999(SimplePrMargin(LOAbility, lightsOutPresence), min = 0, max = 2))\n",
        "\n",
        "    #rampP = pm.Deterministic(\"rampP\", SimplePrMargin(rampAbility, rampPresence))\n",
        "\n",
        "    cvchickP = pm.Deterministic(\"cvChickP\", logistic999(SimplePrMargin(CVChickAbility, CVTest), min = 0, max = 2))\n",
        "    pctbP = pm.Deterministic(\"pctbP\", logistic999(SimplePrMargin(PCTBAbility, PCTBTest), min = 0, max = 2))\n",
        "\n",
        "    #navP = pm.Deterministic(\"navP\", (flatNavP * lavaP * rampP * rightP * aheadP * leftP * cvchickP * pctbP)) #, visualAcuityP))\n",
        "    navP = pm.Deterministic(\"navP\", (flatNavP * lavaP * rightP * aheadP * leftP))\n",
        "\n",
        "    #OPLOM = objPermanenceLOMargin(objPermAbility, opTest, CVTest, PCTBTest, lightsOutPresence, goalDist, numChoices, maxPermAbility, lightsOutPenalisation=(uniformAbilitySlack-0.35), uniformAbilitySlack=uniformAbilitySlack)\n",
        "    #OPLOM = objPermanenceLOMargin(objPermAbility, opTest, lightsOutPresence, goalDist, numChoices, maxPermAbility, lightsOutPenalisation=(uniformAbilitySlack-0.35), uniformAbilitySlack=uniformAbilitySlack)\n",
        "    #OPLOM = objPermanenceLOMargin(objPermAbility, opTest, cvchickP, pctbP, lightsOutPresence, goalDist, numChoices, maxPermAbility, lightsOutPenalisation=(uniformAbilitySlack-0.35), uniformAbilitySlack=uniformAbilitySlack)\n",
        "\n",
        "    #OPPerformance = (objPermAbility  - ((goalDist * numChoices)*opTest)) #this returns a value that is lower when (a) ability is lower, (b) the goal is occluded for longer or there are more positions where it could be occluded, or (c) when the lights go out (by a small penalisation)\n",
        "    #OPPerformance = (objPermAbility  - ((goalDist * numChoices)))\n",
        "    #OPPerformance = (objPermAbility  - numChoices)\n",
        "    #OPPerformance = (objPermAbility  - ((goalDist*opTest) * (numChoices*opTest)))\n",
        "    #OPPerformance = objPermAbility  - ((goalDist * numChoices)*opTest)\n",
        "    #OPability = maxPermAbility - ((maxPermAbility-OPPerformance)*opTest)\n",
        "    #objPermP = pm.Deterministic(\"objPermP\", logistic(OPLOM))\n",
        "    #objPermP = pm.Deterministic(\"objPermP\", logistic(OPPerformance, x_0 = ((maxPermAbility - minPermAbility)/2)+minPermAbility))\n",
        "    #objPermP = pm.Deterministic(\"objPermP\", logistic(SimplePrMargin(objPermAbility, opTest), x_0 = ((maxPermAbility - minPermAbility)/2)+minPermAbility))\n",
        "    OPPerformance = (objPermAbility  - (((goalDist*opTest) * numChoices) + (numChoices * (1-opTest))))\n",
        "    #objPermP = pm.Deterministic(\"objPermP\", logistic(OPPerformance, x_0 = ((maxPermAbility - minPermAbility)/2)+minPermAbility))\n",
        "    #objPermP = pm.Deterministic(\"objPermP\", logistic(OPPerformance))\n",
        "    objPermP = pm.Deterministic(\"objPermP\", (logistic999(OPPerformance, min = minPermAbility, max = maxPermAbility) * cvchickP * pctbP * lightsOutP))\n",
        "\n",
        "    #flatNavP = pm.Deterministic(\"flatNavP\", logistic((flatNavAbility - (numTurns * goalDist)), x_0 = ((maxFlatNav - minFlatNav)/2)+minFlatNav))\n",
        "    noise = 1 - np.mean(results)  # With this noise is complementary to result prior.\n",
        "    noisePar = pm.Uniform(\"noisePar\", 0, 1)\n",
        "    finalP = pm.Deterministic(\"finalP\", (1-noisePar)*(objPermP * navP * visualAcuityP)+(noisePar*noise))\n",
        "\n",
        "    #finalP = pm.Deterministic(\"finalP\", (objPermP * flatNavP))\n",
        "    #finalP = pm.Deterministic(\"finalP\", (1-((1-objPermP)*(1-flatNavP)))) #compensatory finalPerformance\n",
        "    #finalP = pm.Deterministic(\"finalP\", (objPermP * flatNavP * visualAcuityP))\n",
        "    #finalP = pm.Deterministic(\"finalP\", (objPermP * navP * visualAcuityP))\n",
        "\n",
        "    #taskPerformance = pm.Bernoulli(\"taskPerformance\", flatNavP, observed=results)\n",
        "    taskPerformance = pm.Bernoulli(\"taskPerformance\", finalP, observed=results)\n",
        "    #taskPerformance = pm.Bernoulli(\"taskPerformance\", objPermP, observed=results)\n",
        "  #pm.model_graph.model_to_graphviz(m)\n",
        "\n",
        "  return m, abilityMin, abilityMax"
      ],
      "metadata": {
        "id": "edIxFbqFq9V9"
      },
      "execution_count": 6,
      "outputs": []
    },
    {
      "cell_type": "code",
      "source": [
        "m, min, max = SetupModel(synthetic_agents_data, uniformAbilitySlack=1, agent_type='agent', agent_name=\"perfectAgent\", sample = None)\n",
        "gv = pm.model_graph.model_to_graphviz(m)\n",
        "gv.format = \"png\"\n",
        "gv.render(filename='viz/FullMeasurementLayout.gv', directory='/content/drive/Shareddrives/comparative-object-permanence')\n",
        "Image(\"/content/drive/Shareddrives/comparative-object-permanence/FullMeasurementLayout.gv.png\")\n",
        "gv"
      ],
      "metadata": {
        "id": "j-cgtM4msvph",
        "outputId": "9feace00-0c51-40b8-dbd8-a4c4da0d13ec",
        "colab": {
          "base_uri": "https://localhost:8080/",
          "height": 915
        }
      },
      "execution_count": 7,
      "outputs": [
        {
          "output_type": "execute_result",
          "data": {
            "image/svg+xml": "<?xml version=\"1.0\" encoding=\"UTF-8\" standalone=\"no\"?>\n<!DOCTYPE svg PUBLIC \"-//W3C//DTD SVG 1.1//EN\"\n \"http://www.w3.org/Graphics/SVG/1.1/DTD/svg11.dtd\">\n<!-- Generated by graphviz version 2.43.0 (0)\n -->\n<!-- Title: %3 Pages: 1 -->\n<svg width=\"2495pt\" height=\"655pt\"\n viewBox=\"0.00 0.00 2494.79 654.77\" xmlns=\"http://www.w3.org/2000/svg\" xmlns:xlink=\"http://www.w3.org/1999/xlink\">\n<g id=\"graph0\" class=\"graph\" transform=\"scale(1 1) rotate(0) translate(4 650.77)\">\n<title>%3</title>\n<polygon fill=\"white\" stroke=\"transparent\" points=\"-4,4 -4,-650.77 2490.79,-650.77 2490.79,4 -4,4\"/>\n<g id=\"clust1\" class=\"cluster\">\n<title>cluster4214</title>\n<path fill=\"none\" stroke=\"black\" d=\"M110.25,-8C110.25,-8 1384.25,-8 1384.25,-8 1390.25,-8 1396.25,-14 1396.25,-20 1396.25,-20 1396.25,-520.84 1396.25,-520.84 1396.25,-526.84 1390.25,-532.84 1384.25,-532.84 1384.25,-532.84 110.25,-532.84 110.25,-532.84 104.25,-532.84 98.25,-526.84 98.25,-520.84 98.25,-520.84 98.25,-20 98.25,-20 98.25,-14 104.25,-8 110.25,-8\"/>\n<text text-anchor=\"middle\" x=\"1374.25\" y=\"-15.8\" font-family=\"Times,serif\" font-size=\"14.00\">4214</text>\n</g>\n<!-- lavaAbility -->\n<g id=\"node1\" class=\"node\">\n<title>lavaAbility</title>\n<polygon fill=\"none\" stroke=\"black\" points=\"2427.75,-524.84 2336.75,-524.84 2336.75,-471.84 2427.75,-471.84 2427.75,-524.84\"/>\n<text text-anchor=\"middle\" x=\"2382.25\" y=\"-509.64\" font-family=\"Times,serif\" font-size=\"14.00\">lavaAbility</text>\n<text text-anchor=\"middle\" x=\"2382.25\" y=\"-494.64\" font-family=\"Times,serif\" font-size=\"14.00\">~</text>\n<text text-anchor=\"middle\" x=\"2382.25\" y=\"-479.64\" font-family=\"Times,serif\" font-size=\"14.00\">Deterministic</text>\n</g>\n<!-- lavaP -->\n<g id=\"node19\" class=\"node\">\n<title>lavaP</title>\n<polygon fill=\"none\" stroke=\"black\" points=\"1281.75,-413.88 1190.75,-413.88 1190.75,-360.88 1281.75,-360.88 1281.75,-413.88\"/>\n<text text-anchor=\"middle\" x=\"1236.25\" y=\"-398.68\" font-family=\"Times,serif\" font-size=\"14.00\">lavaP</text>\n<text text-anchor=\"middle\" x=\"1236.25\" y=\"-383.68\" font-family=\"Times,serif\" font-size=\"14.00\">~</text>\n<text text-anchor=\"middle\" x=\"1236.25\" y=\"-368.68\" font-family=\"Times,serif\" font-size=\"14.00\">Deterministic</text>\n</g>\n<!-- lavaAbility&#45;&gt;lavaP -->\n<g id=\"edge20\" class=\"edge\">\n<title>lavaAbility&#45;&gt;lavaP</title>\n<path fill=\"none\" stroke=\"black\" d=\"M2336.54,-479.99C2315.21,-472.7 2289.27,-464.97 2265.25,-460.86 2051.77,-424.31 1497.44,-491.2 1291.25,-424.86 1286.59,-423.36 1281.95,-421.34 1277.46,-419.03\"/>\n<polygon fill=\"black\" stroke=\"black\" points=\"1278.9,-415.82 1268.48,-413.91 1275.44,-421.9 1278.9,-415.82\"/>\n</g>\n<!-- PCTBAbility -->\n<g id=\"node2\" class=\"node\">\n<title>PCTBAbility</title>\n<polygon fill=\"none\" stroke=\"black\" points=\"1742.75,-524.84 1651.75,-524.84 1651.75,-471.84 1742.75,-471.84 1742.75,-524.84\"/>\n<text text-anchor=\"middle\" x=\"1697.25\" y=\"-509.64\" font-family=\"Times,serif\" font-size=\"14.00\">PCTBAbility</text>\n<text text-anchor=\"middle\" x=\"1697.25\" y=\"-494.64\" font-family=\"Times,serif\" font-size=\"14.00\">~</text>\n<text text-anchor=\"middle\" x=\"1697.25\" y=\"-479.64\" font-family=\"Times,serif\" font-size=\"14.00\">Deterministic</text>\n</g>\n<!-- pctbP -->\n<g id=\"node23\" class=\"node\">\n<title>pctbP</title>\n<polygon fill=\"none\" stroke=\"black\" points=\"674.75,-413.88 583.75,-413.88 583.75,-360.88 674.75,-360.88 674.75,-413.88\"/>\n<text text-anchor=\"middle\" x=\"629.25\" y=\"-398.68\" font-family=\"Times,serif\" font-size=\"14.00\">pctbP</text>\n<text text-anchor=\"middle\" x=\"629.25\" y=\"-383.68\" font-family=\"Times,serif\" font-size=\"14.00\">~</text>\n<text text-anchor=\"middle\" x=\"629.25\" y=\"-368.68\" font-family=\"Times,serif\" font-size=\"14.00\">Deterministic</text>\n</g>\n<!-- PCTBAbility&#45;&gt;pctbP -->\n<g id=\"edge26\" class=\"edge\">\n<title>PCTBAbility&#45;&gt;pctbP</title>\n<path fill=\"none\" stroke=\"black\" d=\"M1665.67,-471.81C1658.66,-467.38 1651,-463.39 1643.25,-460.86 1440.54,-394.62 887.25,-490.23 684.25,-424.86 679.59,-423.36 674.95,-421.34 670.46,-419.02\"/>\n<polygon fill=\"black\" stroke=\"black\" points=\"671.9,-415.82 661.48,-413.91 668.44,-421.9 671.9,-415.82\"/>\n</g>\n<!-- lightsOutAbility_raw -->\n<g id=\"node3\" class=\"node\">\n<title>lightsOutAbility_raw</title>\n<ellipse fill=\"none\" stroke=\"black\" cx=\"1540.25\" cy=\"-609.29\" rx=\"93.18\" ry=\"37.45\"/>\n<text text-anchor=\"middle\" x=\"1540.25\" y=\"-620.59\" font-family=\"Times,serif\" font-size=\"14.00\">lightsOutAbility_raw</text>\n<text text-anchor=\"middle\" x=\"1540.25\" y=\"-605.59\" font-family=\"Times,serif\" font-size=\"14.00\">~</text>\n<text text-anchor=\"middle\" x=\"1540.25\" y=\"-590.59\" font-family=\"Times,serif\" font-size=\"14.00\">Beta</text>\n</g>\n<!-- lightsOutAbility -->\n<g id=\"node11\" class=\"node\">\n<title>lightsOutAbility</title>\n<polygon fill=\"none\" stroke=\"black\" points=\"1633.75,-524.84 1528.75,-524.84 1528.75,-471.84 1633.75,-471.84 1633.75,-524.84\"/>\n<text text-anchor=\"middle\" x=\"1581.25\" y=\"-509.64\" font-family=\"Times,serif\" font-size=\"14.00\">lightsOutAbility</text>\n<text text-anchor=\"middle\" x=\"1581.25\" y=\"-494.64\" font-family=\"Times,serif\" font-size=\"14.00\">~</text>\n<text text-anchor=\"middle\" x=\"1581.25\" y=\"-479.64\" font-family=\"Times,serif\" font-size=\"14.00\">Deterministic</text>\n</g>\n<!-- lightsOutAbility_raw&#45;&gt;lightsOutAbility -->\n<g id=\"edge7\" class=\"edge\">\n<title>lightsOutAbility_raw&#45;&gt;lightsOutAbility</title>\n<path fill=\"none\" stroke=\"black\" d=\"M1553.91,-572.01C1558.42,-560.02 1563.43,-546.69 1567.92,-534.76\"/>\n<polygon fill=\"black\" stroke=\"black\" points=\"1571.3,-535.72 1571.55,-525.13 1564.75,-533.26 1571.3,-535.72\"/>\n</g>\n<!-- leftAbility -->\n<g id=\"node4\" class=\"node\">\n<title>leftAbility</title>\n<polygon fill=\"none\" stroke=\"black\" points=\"2004.75,-524.84 1913.75,-524.84 1913.75,-471.84 2004.75,-471.84 2004.75,-524.84\"/>\n<text text-anchor=\"middle\" x=\"1959.25\" y=\"-509.64\" font-family=\"Times,serif\" font-size=\"14.00\">leftAbility</text>\n<text text-anchor=\"middle\" x=\"1959.25\" y=\"-494.64\" font-family=\"Times,serif\" font-size=\"14.00\">~</text>\n<text text-anchor=\"middle\" x=\"1959.25\" y=\"-479.64\" font-family=\"Times,serif\" font-size=\"14.00\">Deterministic</text>\n</g>\n<!-- leftPerformance -->\n<g id=\"node29\" class=\"node\">\n<title>leftPerformance</title>\n<polygon fill=\"none\" stroke=\"black\" points=\"906.25,-413.88 802.25,-413.88 802.25,-360.88 906.25,-360.88 906.25,-413.88\"/>\n<text text-anchor=\"middle\" x=\"854.25\" y=\"-398.68\" font-family=\"Times,serif\" font-size=\"14.00\">leftPerformance</text>\n<text text-anchor=\"middle\" x=\"854.25\" y=\"-383.68\" font-family=\"Times,serif\" font-size=\"14.00\">~</text>\n<text text-anchor=\"middle\" x=\"854.25\" y=\"-368.68\" font-family=\"Times,serif\" font-size=\"14.00\">Deterministic</text>\n</g>\n<!-- leftAbility&#45;&gt;leftPerformance -->\n<g id=\"edge14\" class=\"edge\">\n<title>leftAbility&#45;&gt;leftPerformance</title>\n<path fill=\"none\" stroke=\"black\" d=\"M1927.03,-471.81C1919.9,-467.37 1912.11,-463.38 1904.25,-460.86 1694.88,-393.56 1126.14,-487.25 915.25,-424.86 909.93,-423.28 904.59,-421.14 899.41,-418.66\"/>\n<polygon fill=\"black\" stroke=\"black\" points=\"900.78,-415.43 890.29,-413.92 897.55,-421.64 900.78,-415.43\"/>\n</g>\n<!-- CVChickAbility_raw -->\n<g id=\"node5\" class=\"node\">\n<title>CVChickAbility_raw</title>\n<ellipse fill=\"none\" stroke=\"black\" cx=\"1335.25\" cy=\"-609.29\" rx=\"94.09\" ry=\"37.45\"/>\n<text text-anchor=\"middle\" x=\"1335.25\" y=\"-620.59\" font-family=\"Times,serif\" font-size=\"14.00\">CVChickAbility_raw</text>\n<text text-anchor=\"middle\" x=\"1335.25\" y=\"-605.59\" font-family=\"Times,serif\" font-size=\"14.00\">~</text>\n<text text-anchor=\"middle\" x=\"1335.25\" y=\"-590.59\" font-family=\"Times,serif\" font-size=\"14.00\">Beta</text>\n</g>\n<!-- CVChickAbility -->\n<g id=\"node8\" class=\"node\">\n<title>CVChickAbility</title>\n<polygon fill=\"none\" stroke=\"black\" points=\"1510.25,-524.84 1404.25,-524.84 1404.25,-471.84 1510.25,-471.84 1510.25,-524.84\"/>\n<text text-anchor=\"middle\" x=\"1457.25\" y=\"-509.64\" font-family=\"Times,serif\" font-size=\"14.00\">CVChickAbility</text>\n<text text-anchor=\"middle\" x=\"1457.25\" y=\"-494.64\" font-family=\"Times,serif\" font-size=\"14.00\">~</text>\n<text text-anchor=\"middle\" x=\"1457.25\" y=\"-479.64\" font-family=\"Times,serif\" font-size=\"14.00\">Deterministic</text>\n</g>\n<!-- CVChickAbility_raw&#45;&gt;CVChickAbility -->\n<g id=\"edge5\" class=\"edge\">\n<title>CVChickAbility_raw&#45;&gt;CVChickAbility</title>\n<path fill=\"none\" stroke=\"black\" d=\"M1372.85,-574.71C1388.12,-561.08 1405.68,-545.39 1420.83,-531.87\"/>\n<polygon fill=\"black\" stroke=\"black\" points=\"1423.37,-534.29 1428.5,-525.02 1418.71,-529.07 1423.37,-534.29\"/>\n</g>\n<!-- rightAbility -->\n<g id=\"node6\" class=\"node\">\n<title>rightAbility</title>\n<polygon fill=\"none\" stroke=\"black\" points=\"2113.75,-524.84 2022.75,-524.84 2022.75,-471.84 2113.75,-471.84 2113.75,-524.84\"/>\n<text text-anchor=\"middle\" x=\"2068.25\" y=\"-509.64\" font-family=\"Times,serif\" font-size=\"14.00\">rightAbility</text>\n<text text-anchor=\"middle\" x=\"2068.25\" y=\"-494.64\" font-family=\"Times,serif\" font-size=\"14.00\">~</text>\n<text text-anchor=\"middle\" x=\"2068.25\" y=\"-479.64\" font-family=\"Times,serif\" font-size=\"14.00\">Deterministic</text>\n</g>\n<!-- rightPerformance -->\n<g id=\"node27\" class=\"node\">\n<title>rightPerformance</title>\n<polygon fill=\"none\" stroke=\"black\" points=\"1036.25,-413.88 924.25,-413.88 924.25,-360.88 1036.25,-360.88 1036.25,-413.88\"/>\n<text text-anchor=\"middle\" x=\"980.25\" y=\"-398.68\" font-family=\"Times,serif\" font-size=\"14.00\">rightPerformance</text>\n<text text-anchor=\"middle\" x=\"980.25\" y=\"-383.68\" font-family=\"Times,serif\" font-size=\"14.00\">~</text>\n<text text-anchor=\"middle\" x=\"980.25\" y=\"-368.68\" font-family=\"Times,serif\" font-size=\"14.00\">Deterministic</text>\n</g>\n<!-- rightAbility&#45;&gt;rightPerformance -->\n<g id=\"edge11\" class=\"edge\">\n<title>rightAbility&#45;&gt;rightPerformance</title>\n<path fill=\"none\" stroke=\"black\" d=\"M2036.67,-471.81C2029.66,-467.38 2022,-463.39 2014.25,-460.86 1809.42,-393.97 1252.68,-483.22 1045.25,-424.86 1039.51,-423.24 1033.72,-421.03 1028.1,-418.47\"/>\n<polygon fill=\"black\" stroke=\"black\" points=\"1029.34,-415.18 1018.82,-413.92 1026.25,-421.47 1029.34,-415.18\"/>\n</g>\n<!-- aheadAbility_raw -->\n<g id=\"node7\" class=\"node\">\n<title>aheadAbility_raw</title>\n<ellipse fill=\"none\" stroke=\"black\" cx=\"2242.25\" cy=\"-609.29\" rx=\"79.81\" ry=\"37.45\"/>\n<text text-anchor=\"middle\" x=\"2242.25\" y=\"-620.59\" font-family=\"Times,serif\" font-size=\"14.00\">aheadAbility_raw</text>\n<text text-anchor=\"middle\" x=\"2242.25\" y=\"-605.59\" font-family=\"Times,serif\" font-size=\"14.00\">~</text>\n<text text-anchor=\"middle\" x=\"2242.25\" y=\"-590.59\" font-family=\"Times,serif\" font-size=\"14.00\">Beta</text>\n</g>\n<!-- aheadAbility -->\n<g id=\"node13\" class=\"node\">\n<title>aheadAbility</title>\n<polygon fill=\"none\" stroke=\"black\" points=\"2255.75,-524.84 2164.75,-524.84 2164.75,-471.84 2255.75,-471.84 2255.75,-524.84\"/>\n<text text-anchor=\"middle\" x=\"2210.25\" y=\"-509.64\" font-family=\"Times,serif\" font-size=\"14.00\">aheadAbility</text>\n<text text-anchor=\"middle\" x=\"2210.25\" y=\"-494.64\" font-family=\"Times,serif\" font-size=\"14.00\">~</text>\n<text text-anchor=\"middle\" x=\"2210.25\" y=\"-479.64\" font-family=\"Times,serif\" font-size=\"14.00\">Deterministic</text>\n</g>\n<!-- aheadAbility_raw&#45;&gt;aheadAbility -->\n<g id=\"edge4\" class=\"edge\">\n<title>aheadAbility_raw&#45;&gt;aheadAbility</title>\n<path fill=\"none\" stroke=\"black\" d=\"M2231.6,-572.01C2228.08,-560.02 2224.16,-546.69 2220.66,-534.76\"/>\n<polygon fill=\"black\" stroke=\"black\" points=\"2224.01,-533.74 2217.83,-525.13 2217.29,-535.71 2224.01,-533.74\"/>\n</g>\n<!-- cvChickP -->\n<g id=\"node28\" class=\"node\">\n<title>cvChickP</title>\n<polygon fill=\"none\" stroke=\"black\" points=\"197.75,-413.88 106.75,-413.88 106.75,-360.88 197.75,-360.88 197.75,-413.88\"/>\n<text text-anchor=\"middle\" x=\"152.25\" y=\"-398.68\" font-family=\"Times,serif\" font-size=\"14.00\">cvChickP</text>\n<text text-anchor=\"middle\" x=\"152.25\" y=\"-383.68\" font-family=\"Times,serif\" font-size=\"14.00\">~</text>\n<text text-anchor=\"middle\" x=\"152.25\" y=\"-368.68\" font-family=\"Times,serif\" font-size=\"14.00\">Deterministic</text>\n</g>\n<!-- CVChickAbility&#45;&gt;cvChickP -->\n<g id=\"edge24\" class=\"edge\">\n<title>CVChickAbility&#45;&gt;cvChickP</title>\n<path fill=\"none\" stroke=\"black\" d=\"M1423.77,-471.76C1416.38,-467.34 1408.34,-463.36 1400.25,-460.86 1146.85,-382.55 460.01,-505.24 207.25,-424.86 202.59,-423.38 197.94,-421.37 193.45,-419.06\"/>\n<polygon fill=\"black\" stroke=\"black\" points=\"194.89,-415.85 184.47,-413.95 191.43,-421.94 194.89,-415.85\"/>\n</g>\n<!-- lavaAbility_raw -->\n<g id=\"node9\" class=\"node\">\n<title>lavaAbility_raw</title>\n<ellipse fill=\"none\" stroke=\"black\" cx=\"2413.25\" cy=\"-609.29\" rx=\"73.58\" ry=\"37.45\"/>\n<text text-anchor=\"middle\" x=\"2413.25\" y=\"-620.59\" font-family=\"Times,serif\" font-size=\"14.00\">lavaAbility_raw</text>\n<text text-anchor=\"middle\" x=\"2413.25\" y=\"-605.59\" font-family=\"Times,serif\" font-size=\"14.00\">~</text>\n<text text-anchor=\"middle\" x=\"2413.25\" y=\"-590.59\" font-family=\"Times,serif\" font-size=\"14.00\">Beta</text>\n</g>\n<!-- lavaAbility_raw&#45;&gt;lavaAbility -->\n<g id=\"edge1\" class=\"edge\">\n<title>lavaAbility_raw&#45;&gt;lavaAbility</title>\n<path fill=\"none\" stroke=\"black\" d=\"M2402.93,-572.01C2399.52,-560.02 2395.73,-546.69 2392.33,-534.76\"/>\n<polygon fill=\"black\" stroke=\"black\" points=\"2395.7,-533.79 2389.59,-525.13 2388.96,-535.71 2395.7,-533.79\"/>\n</g>\n<!-- objPermAbility -->\n<g id=\"node10\" class=\"node\">\n<title>objPermAbility</title>\n<ellipse fill=\"none\" stroke=\"black\" cx=\"1477.25\" cy=\"-387.38\" rx=\"71.34\" ry=\"37.45\"/>\n<text text-anchor=\"middle\" x=\"1477.25\" y=\"-398.68\" font-family=\"Times,serif\" font-size=\"14.00\">objPermAbility</text>\n<text text-anchor=\"middle\" x=\"1477.25\" y=\"-383.68\" font-family=\"Times,serif\" font-size=\"14.00\">~</text>\n<text text-anchor=\"middle\" x=\"1477.25\" y=\"-368.68\" font-family=\"Times,serif\" font-size=\"14.00\">Uniform</text>\n</g>\n<!-- objPermP -->\n<g id=\"node43\" class=\"node\">\n<title>objPermP</title>\n<polygon fill=\"none\" stroke=\"black\" points=\"532.75,-302.93 441.75,-302.93 441.75,-249.93 532.75,-249.93 532.75,-302.93\"/>\n<text text-anchor=\"middle\" x=\"487.25\" y=\"-287.73\" font-family=\"Times,serif\" font-size=\"14.00\">objPermP</text>\n<text text-anchor=\"middle\" x=\"487.25\" y=\"-272.73\" font-family=\"Times,serif\" font-size=\"14.00\">~</text>\n<text text-anchor=\"middle\" x=\"487.25\" y=\"-257.73\" font-family=\"Times,serif\" font-size=\"14.00\">Deterministic</text>\n</g>\n<!-- objPermAbility&#45;&gt;objPermP -->\n<g id=\"edge34\" class=\"edge\">\n<title>objPermAbility&#45;&gt;objPermP</title>\n<path fill=\"none\" stroke=\"black\" d=\"M1428.16,-359.81C1419.1,-355.87 1409.56,-352.33 1400.25,-349.91 1168.77,-289.64 1101.66,-333.46 863.25,-313.91 749.56,-304.58 616.77,-291.09 543.34,-283.4\"/>\n<polygon fill=\"black\" stroke=\"black\" points=\"543.25,-279.87 532.94,-282.3 542.52,-286.83 543.25,-279.87\"/>\n</g>\n<!-- lightsOutP -->\n<g id=\"node24\" class=\"node\">\n<title>lightsOutP</title>\n<polygon fill=\"none\" stroke=\"black\" points=\"565.75,-413.88 474.75,-413.88 474.75,-360.88 565.75,-360.88 565.75,-413.88\"/>\n<text text-anchor=\"middle\" x=\"520.25\" y=\"-398.68\" font-family=\"Times,serif\" font-size=\"14.00\">lightsOutP</text>\n<text text-anchor=\"middle\" x=\"520.25\" y=\"-383.68\" font-family=\"Times,serif\" font-size=\"14.00\">~</text>\n<text text-anchor=\"middle\" x=\"520.25\" y=\"-368.68\" font-family=\"Times,serif\" font-size=\"14.00\">Deterministic</text>\n</g>\n<!-- lightsOutAbility&#45;&gt;lightsOutP -->\n<g id=\"edge21\" class=\"edge\">\n<title>lightsOutAbility&#45;&gt;lightsOutP</title>\n<path fill=\"none\" stroke=\"black\" d=\"M1544.58,-471.81C1536.56,-467.38 1527.88,-463.39 1519.25,-460.86 1317.79,-401.85 775.06,-489.27 575.25,-424.86 570.59,-423.36 565.95,-421.34 561.46,-419.02\"/>\n<polygon fill=\"black\" stroke=\"black\" points=\"562.9,-415.81 552.48,-413.9 559.44,-421.9 562.9,-415.81\"/>\n</g>\n<!-- visualAcuityAbility -->\n<g id=\"node12\" class=\"node\">\n<title>visualAcuityAbility</title>\n<ellipse fill=\"none\" stroke=\"black\" cx=\"1654.25\" cy=\"-387.38\" rx=\"87.86\" ry=\"37.45\"/>\n<text text-anchor=\"middle\" x=\"1654.25\" y=\"-398.68\" font-family=\"Times,serif\" font-size=\"14.00\">visualAcuityAbility</text>\n<text text-anchor=\"middle\" x=\"1654.25\" y=\"-383.68\" font-family=\"Times,serif\" font-size=\"14.00\">~</text>\n<text text-anchor=\"middle\" x=\"1654.25\" y=\"-368.68\" font-family=\"Times,serif\" font-size=\"14.00\">Uniform</text>\n</g>\n<!-- visualAcuityP -->\n<g id=\"node42\" class=\"node\">\n<title>visualAcuityP</title>\n<polygon fill=\"none\" stroke=\"black\" points=\"1388.75,-302.93 1295.75,-302.93 1295.75,-249.93 1388.75,-249.93 1388.75,-302.93\"/>\n<text text-anchor=\"middle\" x=\"1342.25\" y=\"-287.73\" font-family=\"Times,serif\" font-size=\"14.00\">visualAcuityP</text>\n<text text-anchor=\"middle\" x=\"1342.25\" y=\"-272.73\" font-family=\"Times,serif\" font-size=\"14.00\">~</text>\n<text text-anchor=\"middle\" x=\"1342.25\" y=\"-257.73\" font-family=\"Times,serif\" font-size=\"14.00\">Deterministic</text>\n</g>\n<!-- visualAcuityAbility&#45;&gt;visualAcuityP -->\n<g id=\"edge8\" class=\"edge\">\n<title>visualAcuityAbility&#45;&gt;visualAcuityP</title>\n<path fill=\"none\" stroke=\"black\" d=\"M1589.93,-361.84C1579.05,-357.79 1567.85,-353.68 1557.25,-349.91 1503.62,-330.79 1441.99,-310.15 1398.51,-295.8\"/>\n<polygon fill=\"black\" stroke=\"black\" points=\"1399.56,-292.46 1388.97,-292.66 1397.37,-299.11 1399.56,-292.46\"/>\n</g>\n<!-- aheadPerformance -->\n<g id=\"node30\" class=\"node\">\n<title>aheadPerformance</title>\n<polygon fill=\"none\" stroke=\"black\" points=\"1172.25,-413.88 1054.25,-413.88 1054.25,-360.88 1172.25,-360.88 1172.25,-413.88\"/>\n<text text-anchor=\"middle\" x=\"1113.25\" y=\"-398.68\" font-family=\"Times,serif\" font-size=\"14.00\">aheadPerformance</text>\n<text text-anchor=\"middle\" x=\"1113.25\" y=\"-383.68\" font-family=\"Times,serif\" font-size=\"14.00\">~</text>\n<text text-anchor=\"middle\" x=\"1113.25\" y=\"-368.68\" font-family=\"Times,serif\" font-size=\"14.00\">Deterministic</text>\n</g>\n<!-- aheadAbility&#45;&gt;aheadPerformance -->\n<g id=\"edge12\" class=\"edge\">\n<title>aheadAbility&#45;&gt;aheadPerformance</title>\n<path fill=\"none\" stroke=\"black\" d=\"M2164.31,-474.47C2151.34,-469.02 2137.01,-463.9 2123.25,-460.86 1918.93,-415.68 1384.36,-479.12 1182.25,-424.86 1176.07,-423.2 1169.82,-420.91 1163.74,-418.28\"/>\n<polygon fill=\"black\" stroke=\"black\" points=\"1164.89,-414.96 1154.35,-413.91 1161.94,-421.3 1164.89,-414.96\"/>\n</g>\n<!-- noisePar -->\n<g id=\"node14\" class=\"node\">\n<title>noisePar</title>\n<ellipse fill=\"none\" stroke=\"black\" cx=\"45.25\" cy=\"-276.43\" rx=\"45.01\" ry=\"37.45\"/>\n<text text-anchor=\"middle\" x=\"45.25\" y=\"-287.73\" font-family=\"Times,serif\" font-size=\"14.00\">noisePar</text>\n<text text-anchor=\"middle\" x=\"45.25\" y=\"-272.73\" font-family=\"Times,serif\" font-size=\"14.00\">~</text>\n<text text-anchor=\"middle\" x=\"45.25\" y=\"-257.73\" font-family=\"Times,serif\" font-size=\"14.00\">Uniform</text>\n</g>\n<!-- finalP -->\n<g id=\"node41\" class=\"node\">\n<title>finalP</title>\n<polygon fill=\"none\" stroke=\"black\" points=\"731.75,-202.95 640.75,-202.95 640.75,-149.95 731.75,-149.95 731.75,-202.95\"/>\n<text text-anchor=\"middle\" x=\"686.25\" y=\"-187.75\" font-family=\"Times,serif\" font-size=\"14.00\">finalP</text>\n<text text-anchor=\"middle\" x=\"686.25\" y=\"-172.75\" font-family=\"Times,serif\" font-size=\"14.00\">~</text>\n<text text-anchor=\"middle\" x=\"686.25\" y=\"-157.75\" font-family=\"Times,serif\" font-size=\"14.00\">Deterministic</text>\n</g>\n<!-- noisePar&#45;&gt;finalP -->\n<g id=\"edge42\" class=\"edge\">\n<title>noisePar&#45;&gt;finalP</title>\n<path fill=\"none\" stroke=\"black\" d=\"M75.93,-248.81C81.71,-244.93 87.93,-241.42 94.25,-238.95 191.17,-201.17 501.83,-184.78 630.07,-179.5\"/>\n<polygon fill=\"black\" stroke=\"black\" points=\"630.59,-182.98 640.44,-179.08 630.31,-175.99 630.59,-182.98\"/>\n</g>\n<!-- rightAbility_raw -->\n<g id=\"node15\" class=\"node\">\n<title>rightAbility_raw</title>\n<ellipse fill=\"none\" stroke=\"black\" cx=\"2068.25\" cy=\"-609.29\" rx=\"75.82\" ry=\"37.45\"/>\n<text text-anchor=\"middle\" x=\"2068.25\" y=\"-620.59\" font-family=\"Times,serif\" font-size=\"14.00\">rightAbility_raw</text>\n<text text-anchor=\"middle\" x=\"2068.25\" y=\"-605.59\" font-family=\"Times,serif\" font-size=\"14.00\">~</text>\n<text text-anchor=\"middle\" x=\"2068.25\" y=\"-590.59\" font-family=\"Times,serif\" font-size=\"14.00\">Beta</text>\n</g>\n<!-- rightAbility_raw&#45;&gt;rightAbility -->\n<g id=\"edge2\" class=\"edge\">\n<title>rightAbility_raw&#45;&gt;rightAbility</title>\n<path fill=\"none\" stroke=\"black\" d=\"M2068.25,-571.71C2068.25,-559.97 2068.25,-546.98 2068.25,-535.29\"/>\n<polygon fill=\"black\" stroke=\"black\" points=\"2071.75,-534.99 2068.25,-524.99 2064.75,-534.99 2071.75,-534.99\"/>\n</g>\n<!-- leftAbility_raw -->\n<g id=\"node16\" class=\"node\">\n<title>leftAbility_raw</title>\n<ellipse fill=\"none\" stroke=\"black\" cx=\"1904.25\" cy=\"-609.29\" rx=\"70.92\" ry=\"37.45\"/>\n<text text-anchor=\"middle\" x=\"1904.25\" y=\"-620.59\" font-family=\"Times,serif\" font-size=\"14.00\">leftAbility_raw</text>\n<text text-anchor=\"middle\" x=\"1904.25\" y=\"-605.59\" font-family=\"Times,serif\" font-size=\"14.00\">~</text>\n<text text-anchor=\"middle\" x=\"1904.25\" y=\"-590.59\" font-family=\"Times,serif\" font-size=\"14.00\">Beta</text>\n</g>\n<!-- leftAbility_raw&#45;&gt;leftAbility -->\n<g id=\"edge3\" class=\"edge\">\n<title>leftAbility_raw&#45;&gt;leftAbility</title>\n<path fill=\"none\" stroke=\"black\" d=\"M1922.11,-572.92C1928.41,-560.44 1935.48,-546.43 1941.75,-534.01\"/>\n<polygon fill=\"black\" stroke=\"black\" points=\"1944.98,-535.38 1946.36,-524.87 1938.73,-532.22 1944.98,-535.38\"/>\n</g>\n<!-- PCTBAbility_raw -->\n<g id=\"node17\" class=\"node\">\n<title>PCTBAbility_raw</title>\n<ellipse fill=\"none\" stroke=\"black\" cx=\"1733.25\" cy=\"-609.29\" rx=\"82.05\" ry=\"37.45\"/>\n<text text-anchor=\"middle\" x=\"1733.25\" y=\"-620.59\" font-family=\"Times,serif\" font-size=\"14.00\">PCTBAbility_raw</text>\n<text text-anchor=\"middle\" x=\"1733.25\" y=\"-605.59\" font-family=\"Times,serif\" font-size=\"14.00\">~</text>\n<text text-anchor=\"middle\" x=\"1733.25\" y=\"-590.59\" font-family=\"Times,serif\" font-size=\"14.00\">Beta</text>\n</g>\n<!-- PCTBAbility_raw&#45;&gt;PCTBAbility -->\n<g id=\"edge6\" class=\"edge\">\n<title>PCTBAbility_raw&#45;&gt;PCTBAbility</title>\n<path fill=\"none\" stroke=\"black\" d=\"M1721.27,-572.01C1717.3,-560.02 1712.9,-546.69 1708.96,-534.76\"/>\n<polygon fill=\"black\" stroke=\"black\" points=\"1712.24,-533.53 1705.78,-525.13 1705.59,-535.72 1712.24,-533.53\"/>\n</g>\n<!-- flatNavAbility -->\n<g id=\"node18\" class=\"node\">\n<title>flatNavAbility</title>\n<ellipse fill=\"none\" stroke=\"black\" cx=\"1828.25\" cy=\"-498.34\" rx=\"67.35\" ry=\"37.45\"/>\n<text text-anchor=\"middle\" x=\"1828.25\" y=\"-509.64\" font-family=\"Times,serif\" font-size=\"14.00\">flatNavAbility</text>\n<text text-anchor=\"middle\" x=\"1828.25\" y=\"-494.64\" font-family=\"Times,serif\" font-size=\"14.00\">~</text>\n<text text-anchor=\"middle\" x=\"1828.25\" y=\"-479.64\" font-family=\"Times,serif\" font-size=\"14.00\">Uniform</text>\n</g>\n<!-- flatNavP -->\n<g id=\"node40\" class=\"node\">\n<title>flatNavP</title>\n<polygon fill=\"none\" stroke=\"black\" points=\"783.75,-413.88 692.75,-413.88 692.75,-360.88 783.75,-360.88 783.75,-413.88\"/>\n<text text-anchor=\"middle\" x=\"738.25\" y=\"-398.68\" font-family=\"Times,serif\" font-size=\"14.00\">flatNavP</text>\n<text text-anchor=\"middle\" x=\"738.25\" y=\"-383.68\" font-family=\"Times,serif\" font-size=\"14.00\">~</text>\n<text text-anchor=\"middle\" x=\"738.25\" y=\"-368.68\" font-family=\"Times,serif\" font-size=\"14.00\">Deterministic</text>\n</g>\n<!-- flatNavAbility&#45;&gt;flatNavP -->\n<g id=\"edge18\" class=\"edge\">\n<title>flatNavAbility&#45;&gt;flatNavP</title>\n<path fill=\"none\" stroke=\"black\" d=\"M1781.53,-471.26C1772.1,-467.05 1762.06,-463.28 1752.25,-460.86 1545.23,-409.65 996.25,-490.23 793.25,-424.86 788.59,-423.36 783.95,-421.34 779.46,-419.02\"/>\n<polygon fill=\"black\" stroke=\"black\" points=\"780.9,-415.82 770.48,-413.91 777.44,-421.9 780.9,-415.82\"/>\n</g>\n<!-- navP -->\n<g id=\"node21\" class=\"node\">\n<title>navP</title>\n<polygon fill=\"none\" stroke=\"black\" points=\"962.75,-302.93 871.75,-302.93 871.75,-249.93 962.75,-249.93 962.75,-302.93\"/>\n<text text-anchor=\"middle\" x=\"917.25\" y=\"-287.73\" font-family=\"Times,serif\" font-size=\"14.00\">navP</text>\n<text text-anchor=\"middle\" x=\"917.25\" y=\"-272.73\" font-family=\"Times,serif\" font-size=\"14.00\">~</text>\n<text text-anchor=\"middle\" x=\"917.25\" y=\"-257.73\" font-family=\"Times,serif\" font-size=\"14.00\">Deterministic</text>\n</g>\n<!-- lavaP&#45;&gt;navP -->\n<g id=\"edge30\" class=\"edge\">\n<title>lavaP&#45;&gt;navP</title>\n<path fill=\"none\" stroke=\"black\" d=\"M1201.11,-360.73C1194.71,-356.74 1187.93,-352.94 1181.25,-349.91 1112.62,-318.7 1027.68,-298.34 972.99,-287.37\"/>\n<polygon fill=\"black\" stroke=\"black\" points=\"973.63,-283.92 963.15,-285.42 972.28,-290.79 973.63,-283.92\"/>\n</g>\n<!-- CVChickTest -->\n<g id=\"node20\" class=\"node\">\n<title>CVChickTest</title>\n<path fill=\"lightgrey\" stroke=\"black\" d=\"M185.25,-524.84C185.25,-524.84 119.25,-524.84 119.25,-524.84 113.25,-524.84 107.25,-518.84 107.25,-512.84 107.25,-512.84 107.25,-483.84 107.25,-483.84 107.25,-477.84 113.25,-471.84 119.25,-471.84 119.25,-471.84 185.25,-471.84 185.25,-471.84 191.25,-471.84 197.25,-477.84 197.25,-483.84 197.25,-483.84 197.25,-512.84 197.25,-512.84 197.25,-518.84 191.25,-524.84 185.25,-524.84\"/>\n<text text-anchor=\"middle\" x=\"152.25\" y=\"-509.64\" font-family=\"Times,serif\" font-size=\"14.00\">CVChickTest</text>\n<text text-anchor=\"middle\" x=\"152.25\" y=\"-494.64\" font-family=\"Times,serif\" font-size=\"14.00\">~</text>\n<text text-anchor=\"middle\" x=\"152.25\" y=\"-479.64\" font-family=\"Times,serif\" font-size=\"14.00\">MutableData</text>\n</g>\n<!-- CVChickTest&#45;&gt;cvChickP -->\n<g id=\"edge23\" class=\"edge\">\n<title>CVChickTest&#45;&gt;cvChickP</title>\n<path fill=\"none\" stroke=\"black\" d=\"M152.25,-471.79C152.25,-457.69 152.25,-439.94 152.25,-424.44\"/>\n<polygon fill=\"black\" stroke=\"black\" points=\"155.75,-424.15 152.25,-414.15 148.75,-424.15 155.75,-424.15\"/>\n</g>\n<!-- navP&#45;&gt;finalP -->\n<g id=\"edge41\" class=\"edge\">\n<title>navP&#45;&gt;finalP</title>\n<path fill=\"none\" stroke=\"black\" d=\"M871.62,-256.07C834.12,-240.17 780.9,-217.6 741.1,-200.71\"/>\n<polygon fill=\"black\" stroke=\"black\" points=\"742.37,-197.45 731.8,-196.77 739.64,-203.9 742.37,-197.45\"/>\n</g>\n<!-- goalLeft -->\n<g id=\"node22\" class=\"node\">\n<title>goalLeft</title>\n<path fill=\"lightgrey\" stroke=\"black\" d=\"M891.25,-524.84C891.25,-524.84 827.25,-524.84 827.25,-524.84 821.25,-524.84 815.25,-518.84 815.25,-512.84 815.25,-512.84 815.25,-483.84 815.25,-483.84 815.25,-477.84 821.25,-471.84 827.25,-471.84 827.25,-471.84 891.25,-471.84 891.25,-471.84 897.25,-471.84 903.25,-477.84 903.25,-483.84 903.25,-483.84 903.25,-512.84 903.25,-512.84 903.25,-518.84 897.25,-524.84 891.25,-524.84\"/>\n<text text-anchor=\"middle\" x=\"859.25\" y=\"-509.64\" font-family=\"Times,serif\" font-size=\"14.00\">goalLeft</text>\n<text text-anchor=\"middle\" x=\"859.25\" y=\"-494.64\" font-family=\"Times,serif\" font-size=\"14.00\">~</text>\n<text text-anchor=\"middle\" x=\"859.25\" y=\"-479.64\" font-family=\"Times,serif\" font-size=\"14.00\">MutableData</text>\n</g>\n<!-- goalLeft&#45;&gt;leftPerformance -->\n<g id=\"edge15\" class=\"edge\">\n<title>goalLeft&#45;&gt;leftPerformance</title>\n<path fill=\"none\" stroke=\"black\" d=\"M858.08,-471.79C857.44,-457.69 856.62,-439.94 855.91,-424.44\"/>\n<polygon fill=\"black\" stroke=\"black\" points=\"859.39,-423.97 855.44,-414.15 852.4,-424.3 859.39,-423.97\"/>\n</g>\n<!-- pctbP&#45;&gt;objPermP -->\n<g id=\"edge33\" class=\"edge\">\n<title>pctbP&#45;&gt;objPermP</title>\n<path fill=\"none\" stroke=\"black\" d=\"M595.96,-360.84C575.9,-345.45 550.18,-325.71 528.79,-309.3\"/>\n<polygon fill=\"black\" stroke=\"black\" points=\"530.9,-306.5 520.83,-303.19 526.63,-312.06 530.9,-306.5\"/>\n</g>\n<!-- lightsOutP&#45;&gt;objPermP -->\n<g id=\"edge38\" class=\"edge\">\n<title>lightsOutP&#45;&gt;objPermP</title>\n<path fill=\"none\" stroke=\"black\" d=\"M512.52,-360.84C508.2,-346.6 502.77,-328.64 498.04,-313.04\"/>\n<polygon fill=\"black\" stroke=\"black\" points=\"501.31,-311.75 495.06,-303.19 494.61,-313.78 501.31,-311.75\"/>\n</g>\n<!-- lavaPresence -->\n<g id=\"node25\" class=\"node\">\n<title>lavaPresence</title>\n<path fill=\"lightgrey\" stroke=\"black\" d=\"M1268.25,-524.84C1268.25,-524.84 1204.25,-524.84 1204.25,-524.84 1198.25,-524.84 1192.25,-518.84 1192.25,-512.84 1192.25,-512.84 1192.25,-483.84 1192.25,-483.84 1192.25,-477.84 1198.25,-471.84 1204.25,-471.84 1204.25,-471.84 1268.25,-471.84 1268.25,-471.84 1274.25,-471.84 1280.25,-477.84 1280.25,-483.84 1280.25,-483.84 1280.25,-512.84 1280.25,-512.84 1280.25,-518.84 1274.25,-524.84 1268.25,-524.84\"/>\n<text text-anchor=\"middle\" x=\"1236.25\" y=\"-509.64\" font-family=\"Times,serif\" font-size=\"14.00\">lavaPresence</text>\n<text text-anchor=\"middle\" x=\"1236.25\" y=\"-494.64\" font-family=\"Times,serif\" font-size=\"14.00\">~</text>\n<text text-anchor=\"middle\" x=\"1236.25\" y=\"-479.64\" font-family=\"Times,serif\" font-size=\"14.00\">MutableData</text>\n</g>\n<!-- lavaPresence&#45;&gt;lavaP -->\n<g id=\"edge19\" class=\"edge\">\n<title>lavaPresence&#45;&gt;lavaP</title>\n<path fill=\"none\" stroke=\"black\" d=\"M1236.25,-471.79C1236.25,-457.69 1236.25,-439.94 1236.25,-424.44\"/>\n<polygon fill=\"black\" stroke=\"black\" points=\"1239.75,-424.15 1236.25,-414.15 1232.75,-424.15 1239.75,-424.15\"/>\n</g>\n<!-- PCTBTest -->\n<g id=\"node26\" class=\"node\">\n<title>PCTBTest</title>\n<path fill=\"lightgrey\" stroke=\"black\" d=\"M657.25,-524.84C657.25,-524.84 593.25,-524.84 593.25,-524.84 587.25,-524.84 581.25,-518.84 581.25,-512.84 581.25,-512.84 581.25,-483.84 581.25,-483.84 581.25,-477.84 587.25,-471.84 593.25,-471.84 593.25,-471.84 657.25,-471.84 657.25,-471.84 663.25,-471.84 669.25,-477.84 669.25,-483.84 669.25,-483.84 669.25,-512.84 669.25,-512.84 669.25,-518.84 663.25,-524.84 657.25,-524.84\"/>\n<text text-anchor=\"middle\" x=\"625.25\" y=\"-509.64\" font-family=\"Times,serif\" font-size=\"14.00\">PCTBTest</text>\n<text text-anchor=\"middle\" x=\"625.25\" y=\"-494.64\" font-family=\"Times,serif\" font-size=\"14.00\">~</text>\n<text text-anchor=\"middle\" x=\"625.25\" y=\"-479.64\" font-family=\"Times,serif\" font-size=\"14.00\">MutableData</text>\n</g>\n<!-- PCTBTest&#45;&gt;pctbP -->\n<g id=\"edge25\" class=\"edge\">\n<title>PCTBTest&#45;&gt;pctbP</title>\n<path fill=\"none\" stroke=\"black\" d=\"M626.19,-471.79C626.71,-457.69 627.36,-439.94 627.93,-424.44\"/>\n<polygon fill=\"black\" stroke=\"black\" points=\"631.44,-424.27 628.31,-414.15 624.44,-424.01 631.44,-424.27\"/>\n</g>\n<!-- rightPerformance&#45;&gt;navP -->\n<g id=\"edge29\" class=\"edge\">\n<title>rightPerformance&#45;&gt;navP</title>\n<path fill=\"none\" stroke=\"black\" d=\"M965.48,-360.84C957.09,-346.33 946.47,-327.96 937.33,-312.15\"/>\n<polygon fill=\"black\" stroke=\"black\" points=\"940.19,-310.1 932.15,-303.19 934.13,-313.6 940.19,-310.1\"/>\n</g>\n<!-- cvChickP&#45;&gt;objPermP -->\n<g id=\"edge36\" class=\"edge\">\n<title>cvChickP&#45;&gt;objPermP</title>\n<path fill=\"none\" stroke=\"black\" d=\"M187.06,-360.83C193.56,-356.78 200.45,-352.94 207.25,-349.91 281.45,-316.82 373.7,-296.61 431.55,-286.21\"/>\n<polygon fill=\"black\" stroke=\"black\" points=\"432.34,-289.62 441.58,-284.44 431.13,-282.73 432.34,-289.62\"/>\n</g>\n<!-- leftPerformance&#45;&gt;navP -->\n<g id=\"edge27\" class=\"edge\">\n<title>leftPerformance&#45;&gt;navP</title>\n<path fill=\"none\" stroke=\"black\" d=\"M869.03,-360.84C877.42,-346.33 888.04,-327.96 897.18,-312.15\"/>\n<polygon fill=\"black\" stroke=\"black\" points=\"900.38,-313.6 902.36,-303.19 894.32,-310.1 900.38,-313.6\"/>\n</g>\n<!-- aheadPerformance&#45;&gt;navP -->\n<g id=\"edge28\" class=\"edge\">\n<title>aheadPerformance&#45;&gt;navP</title>\n<path fill=\"none\" stroke=\"black\" d=\"M1067.3,-360.84C1038.8,-344.99 1002.01,-324.55 972,-307.86\"/>\n<polygon fill=\"black\" stroke=\"black\" points=\"973.36,-304.61 962.92,-302.81 969.96,-310.73 973.36,-304.61\"/>\n</g>\n<!-- taskPerformance -->\n<g id=\"node31\" class=\"node\">\n<title>taskPerformance</title>\n<ellipse fill=\"lightgrey\" stroke=\"black\" cx=\"686.25\" cy=\"-76.48\" rx=\"76.24\" ry=\"37.45\"/>\n<text text-anchor=\"middle\" x=\"686.25\" y=\"-87.78\" font-family=\"Times,serif\" font-size=\"14.00\">taskPerformance</text>\n<text text-anchor=\"middle\" x=\"686.25\" y=\"-72.78\" font-family=\"Times,serif\" font-size=\"14.00\">~</text>\n<text text-anchor=\"middle\" x=\"686.25\" y=\"-57.78\" font-family=\"Times,serif\" font-size=\"14.00\">Bernoulli</text>\n</g>\n<!-- goalSize -->\n<g id=\"node32\" class=\"node\">\n<title>goalSize</title>\n<path fill=\"lightgrey\" stroke=\"black\" d=\"M1376.25,-413.88C1376.25,-413.88 1312.25,-413.88 1312.25,-413.88 1306.25,-413.88 1300.25,-407.88 1300.25,-401.88 1300.25,-401.88 1300.25,-372.88 1300.25,-372.88 1300.25,-366.88 1306.25,-360.88 1312.25,-360.88 1312.25,-360.88 1376.25,-360.88 1376.25,-360.88 1382.25,-360.88 1388.25,-366.88 1388.25,-372.88 1388.25,-372.88 1388.25,-401.88 1388.25,-401.88 1388.25,-407.88 1382.25,-413.88 1376.25,-413.88\"/>\n<text text-anchor=\"middle\" x=\"1344.25\" y=\"-398.68\" font-family=\"Times,serif\" font-size=\"14.00\">goalSize</text>\n<text text-anchor=\"middle\" x=\"1344.25\" y=\"-383.68\" font-family=\"Times,serif\" font-size=\"14.00\">~</text>\n<text text-anchor=\"middle\" x=\"1344.25\" y=\"-368.68\" font-family=\"Times,serif\" font-size=\"14.00\">MutableData</text>\n</g>\n<!-- goalSize&#45;&gt;visualAcuityP -->\n<g id=\"edge9\" class=\"edge\">\n<title>goalSize&#45;&gt;visualAcuityP</title>\n<path fill=\"none\" stroke=\"black\" d=\"M1343.79,-360.84C1343.53,-346.73 1343.2,-328.98 1342.92,-313.49\"/>\n<polygon fill=\"black\" stroke=\"black\" points=\"1346.41,-313.13 1342.73,-303.19 1339.41,-313.25 1346.41,-313.13\"/>\n</g>\n<!-- allocentricOPTest -->\n<g id=\"node33\" class=\"node\">\n<title>allocentricOPTest</title>\n<path fill=\"lightgrey\" stroke=\"black\" d=\"M423.75,-413.88C423.75,-413.88 334.75,-413.88 334.75,-413.88 328.75,-413.88 322.75,-407.88 322.75,-401.88 322.75,-401.88 322.75,-372.88 322.75,-372.88 322.75,-366.88 328.75,-360.88 334.75,-360.88 334.75,-360.88 423.75,-360.88 423.75,-360.88 429.75,-360.88 435.75,-366.88 435.75,-372.88 435.75,-372.88 435.75,-401.88 435.75,-401.88 435.75,-407.88 429.75,-413.88 423.75,-413.88\"/>\n<text text-anchor=\"middle\" x=\"379.25\" y=\"-398.68\" font-family=\"Times,serif\" font-size=\"14.00\">allocentricOPTest</text>\n<text text-anchor=\"middle\" x=\"379.25\" y=\"-383.68\" font-family=\"Times,serif\" font-size=\"14.00\">~</text>\n<text text-anchor=\"middle\" x=\"379.25\" y=\"-368.68\" font-family=\"Times,serif\" font-size=\"14.00\">MutableData</text>\n</g>\n<!-- allocentricOPTest&#45;&gt;objPermP -->\n<g id=\"edge32\" class=\"edge\">\n<title>allocentricOPTest&#45;&gt;objPermP</title>\n<path fill=\"none\" stroke=\"black\" d=\"M404.58,-360.84C419.5,-345.78 438.54,-326.58 454.58,-310.39\"/>\n<polygon fill=\"black\" stroke=\"black\" points=\"457.16,-312.76 461.72,-303.19 452.19,-307.83 457.16,-312.76\"/>\n</g>\n<!-- lightsOutPresence -->\n<g id=\"node34\" class=\"node\">\n<title>lightsOutPresence</title>\n<path fill=\"lightgrey\" stroke=\"black\" d=\"M444.75,-524.84C444.75,-524.84 353.75,-524.84 353.75,-524.84 347.75,-524.84 341.75,-518.84 341.75,-512.84 341.75,-512.84 341.75,-483.84 341.75,-483.84 341.75,-477.84 347.75,-471.84 353.75,-471.84 353.75,-471.84 444.75,-471.84 444.75,-471.84 450.75,-471.84 456.75,-477.84 456.75,-483.84 456.75,-483.84 456.75,-512.84 456.75,-512.84 456.75,-518.84 450.75,-524.84 444.75,-524.84\"/>\n<text text-anchor=\"middle\" x=\"399.25\" y=\"-509.64\" font-family=\"Times,serif\" font-size=\"14.00\">lightsOutPresence</text>\n<text text-anchor=\"middle\" x=\"399.25\" y=\"-494.64\" font-family=\"Times,serif\" font-size=\"14.00\">~</text>\n<text text-anchor=\"middle\" x=\"399.25\" y=\"-479.64\" font-family=\"Times,serif\" font-size=\"14.00\">MutableData</text>\n</g>\n<!-- lightsOutPresence&#45;&gt;lightsOutP -->\n<g id=\"edge22\" class=\"edge\">\n<title>lightsOutPresence&#45;&gt;lightsOutP</title>\n<path fill=\"none\" stroke=\"black\" d=\"M427.62,-471.79C444.49,-456.6 466.06,-437.19 484.13,-420.91\"/>\n<polygon fill=\"black\" stroke=\"black\" points=\"486.55,-423.44 491.64,-414.15 481.87,-418.24 486.55,-423.44\"/>\n</g>\n<!-- goalDistance -->\n<g id=\"node35\" class=\"node\">\n<title>goalDistance</title>\n<path fill=\"lightgrey\" stroke=\"black\" d=\"M551.25,-524.84C551.25,-524.84 487.25,-524.84 487.25,-524.84 481.25,-524.84 475.25,-518.84 475.25,-512.84 475.25,-512.84 475.25,-483.84 475.25,-483.84 475.25,-477.84 481.25,-471.84 487.25,-471.84 487.25,-471.84 551.25,-471.84 551.25,-471.84 557.25,-471.84 563.25,-477.84 563.25,-483.84 563.25,-483.84 563.25,-512.84 563.25,-512.84 563.25,-518.84 557.25,-524.84 551.25,-524.84\"/>\n<text text-anchor=\"middle\" x=\"519.25\" y=\"-509.64\" font-family=\"Times,serif\" font-size=\"14.00\">goalDistance</text>\n<text text-anchor=\"middle\" x=\"519.25\" y=\"-494.64\" font-family=\"Times,serif\" font-size=\"14.00\">~</text>\n<text text-anchor=\"middle\" x=\"519.25\" y=\"-479.64\" font-family=\"Times,serif\" font-size=\"14.00\">MutableData</text>\n</g>\n<!-- goalDistance&#45;&gt;flatNavP -->\n<g id=\"edge17\" class=\"edge\">\n<title>goalDistance&#45;&gt;flatNavP</title>\n<path fill=\"none\" stroke=\"black\" d=\"M553.44,-471.69C559.52,-467.75 565.94,-463.96 572.25,-460.86 619.18,-437.79 637.23,-447.72 684.25,-424.86 687.76,-423.16 691.3,-421.25 694.8,-419.23\"/>\n<polygon fill=\"black\" stroke=\"black\" points=\"696.66,-422.19 703.39,-414.01 693.02,-416.21 696.66,-422.19\"/>\n</g>\n<!-- goalDistance&#45;&gt;objPermP -->\n<g id=\"edge35\" class=\"edge\">\n<title>goalDistance&#45;&gt;objPermP</title>\n<path fill=\"none\" stroke=\"black\" d=\"M494.36,-471.77C483.47,-458.83 471.92,-442.2 466.25,-424.86 454.14,-387.77 463.61,-343.16 473.42,-312.8\"/>\n<polygon fill=\"black\" stroke=\"black\" points=\"476.82,-313.67 476.74,-303.08 470.2,-311.42 476.82,-313.67\"/>\n</g>\n<!-- goalAhead -->\n<g id=\"node36\" class=\"node\">\n<title>goalAhead</title>\n<path fill=\"lightgrey\" stroke=\"black\" d=\"M1145.25,-524.84C1145.25,-524.84 1081.25,-524.84 1081.25,-524.84 1075.25,-524.84 1069.25,-518.84 1069.25,-512.84 1069.25,-512.84 1069.25,-483.84 1069.25,-483.84 1069.25,-477.84 1075.25,-471.84 1081.25,-471.84 1081.25,-471.84 1145.25,-471.84 1145.25,-471.84 1151.25,-471.84 1157.25,-477.84 1157.25,-483.84 1157.25,-483.84 1157.25,-512.84 1157.25,-512.84 1157.25,-518.84 1151.25,-524.84 1145.25,-524.84\"/>\n<text text-anchor=\"middle\" x=\"1113.25\" y=\"-509.64\" font-family=\"Times,serif\" font-size=\"14.00\">goalAhead</text>\n<text text-anchor=\"middle\" x=\"1113.25\" y=\"-494.64\" font-family=\"Times,serif\" font-size=\"14.00\">~</text>\n<text text-anchor=\"middle\" x=\"1113.25\" y=\"-479.64\" font-family=\"Times,serif\" font-size=\"14.00\">MutableData</text>\n</g>\n<!-- goalAhead&#45;&gt;aheadPerformance -->\n<g id=\"edge13\" class=\"edge\">\n<title>goalAhead&#45;&gt;aheadPerformance</title>\n<path fill=\"none\" stroke=\"black\" d=\"M1113.25,-471.79C1113.25,-457.69 1113.25,-439.94 1113.25,-424.44\"/>\n<polygon fill=\"black\" stroke=\"black\" points=\"1116.75,-424.15 1113.25,-414.15 1109.75,-424.15 1116.75,-424.15\"/>\n</g>\n<!-- numChoices -->\n<g id=\"node37\" class=\"node\">\n<title>numChoices</title>\n<path fill=\"lightgrey\" stroke=\"black\" d=\"M292.25,-413.88C292.25,-413.88 228.25,-413.88 228.25,-413.88 222.25,-413.88 216.25,-407.88 216.25,-401.88 216.25,-401.88 216.25,-372.88 216.25,-372.88 216.25,-366.88 222.25,-360.88 228.25,-360.88 228.25,-360.88 292.25,-360.88 292.25,-360.88 298.25,-360.88 304.25,-366.88 304.25,-372.88 304.25,-372.88 304.25,-401.88 304.25,-401.88 304.25,-407.88 298.25,-413.88 292.25,-413.88\"/>\n<text text-anchor=\"middle\" x=\"260.25\" y=\"-398.68\" font-family=\"Times,serif\" font-size=\"14.00\">numChoices</text>\n<text text-anchor=\"middle\" x=\"260.25\" y=\"-383.68\" font-family=\"Times,serif\" font-size=\"14.00\">~</text>\n<text text-anchor=\"middle\" x=\"260.25\" y=\"-368.68\" font-family=\"Times,serif\" font-size=\"14.00\">MutableData</text>\n</g>\n<!-- numChoices&#45;&gt;objPermP -->\n<g id=\"edge37\" class=\"edge\">\n<title>numChoices&#45;&gt;objPermP</title>\n<path fill=\"none\" stroke=\"black\" d=\"M295.95,-360.84C301.94,-356.98 308.18,-353.19 314.25,-349.91 352.36,-329.32 397.56,-310.56 432.21,-297.29\"/>\n<polygon fill=\"black\" stroke=\"black\" points=\"433.57,-300.51 441.68,-293.69 431.09,-293.97 433.57,-300.51\"/>\n</g>\n<!-- minTurnsToGoal -->\n<g id=\"node38\" class=\"node\">\n<title>minTurnsToGoal</title>\n<path fill=\"lightgrey\" stroke=\"black\" d=\"M785.25,-524.84C785.25,-524.84 699.25,-524.84 699.25,-524.84 693.25,-524.84 687.25,-518.84 687.25,-512.84 687.25,-512.84 687.25,-483.84 687.25,-483.84 687.25,-477.84 693.25,-471.84 699.25,-471.84 699.25,-471.84 785.25,-471.84 785.25,-471.84 791.25,-471.84 797.25,-477.84 797.25,-483.84 797.25,-483.84 797.25,-512.84 797.25,-512.84 797.25,-518.84 791.25,-524.84 785.25,-524.84\"/>\n<text text-anchor=\"middle\" x=\"742.25\" y=\"-509.64\" font-family=\"Times,serif\" font-size=\"14.00\">minTurnsToGoal</text>\n<text text-anchor=\"middle\" x=\"742.25\" y=\"-494.64\" font-family=\"Times,serif\" font-size=\"14.00\">~</text>\n<text text-anchor=\"middle\" x=\"742.25\" y=\"-479.64\" font-family=\"Times,serif\" font-size=\"14.00\">MutableData</text>\n</g>\n<!-- minTurnsToGoal&#45;&gt;flatNavP -->\n<g id=\"edge16\" class=\"edge\">\n<title>minTurnsToGoal&#45;&gt;flatNavP</title>\n<path fill=\"none\" stroke=\"black\" d=\"M741.32,-471.79C740.8,-457.69 740.15,-439.94 739.58,-424.44\"/>\n<polygon fill=\"black\" stroke=\"black\" points=\"743.07,-424.01 739.2,-414.15 736.07,-424.27 743.07,-424.01\"/>\n</g>\n<!-- goalRight -->\n<g id=\"node39\" class=\"node\">\n<title>goalRight</title>\n<path fill=\"lightgrey\" stroke=\"black\" d=\"M1012.25,-524.84C1012.25,-524.84 948.25,-524.84 948.25,-524.84 942.25,-524.84 936.25,-518.84 936.25,-512.84 936.25,-512.84 936.25,-483.84 936.25,-483.84 936.25,-477.84 942.25,-471.84 948.25,-471.84 948.25,-471.84 1012.25,-471.84 1012.25,-471.84 1018.25,-471.84 1024.25,-477.84 1024.25,-483.84 1024.25,-483.84 1024.25,-512.84 1024.25,-512.84 1024.25,-518.84 1018.25,-524.84 1012.25,-524.84\"/>\n<text text-anchor=\"middle\" x=\"980.25\" y=\"-509.64\" font-family=\"Times,serif\" font-size=\"14.00\">goalRight</text>\n<text text-anchor=\"middle\" x=\"980.25\" y=\"-494.64\" font-family=\"Times,serif\" font-size=\"14.00\">~</text>\n<text text-anchor=\"middle\" x=\"980.25\" y=\"-479.64\" font-family=\"Times,serif\" font-size=\"14.00\">MutableData</text>\n</g>\n<!-- goalRight&#45;&gt;rightPerformance -->\n<g id=\"edge10\" class=\"edge\">\n<title>goalRight&#45;&gt;rightPerformance</title>\n<path fill=\"none\" stroke=\"black\" d=\"M980.25,-471.79C980.25,-457.69 980.25,-439.94 980.25,-424.44\"/>\n<polygon fill=\"black\" stroke=\"black\" points=\"983.75,-424.15 980.25,-414.15 976.75,-424.15 983.75,-424.15\"/>\n</g>\n<!-- flatNavP&#45;&gt;navP -->\n<g id=\"edge31\" class=\"edge\">\n<title>flatNavP&#45;&gt;navP</title>\n<path fill=\"none\" stroke=\"black\" d=\"M776.24,-360.79C781.91,-357.08 787.71,-353.36 793.25,-349.91 815.95,-335.77 841.38,-320.76 863.29,-308.09\"/>\n<polygon fill=\"black\" stroke=\"black\" points=\"865.21,-311.02 872.12,-302.99 861.71,-304.95 865.21,-311.02\"/>\n</g>\n<!-- finalP&#45;&gt;taskPerformance -->\n<g id=\"edge43\" class=\"edge\">\n<title>finalP&#45;&gt;taskPerformance</title>\n<path fill=\"none\" stroke=\"black\" d=\"M686.25,-149.71C686.25,-141.89 686.25,-133.03 686.25,-124.27\"/>\n<polygon fill=\"black\" stroke=\"black\" points=\"689.75,-124.1 686.25,-114.1 682.75,-124.1 689.75,-124.1\"/>\n</g>\n<!-- visualAcuityP&#45;&gt;finalP -->\n<g id=\"edge40\" class=\"edge\">\n<title>visualAcuityP&#45;&gt;finalP</title>\n<path fill=\"none\" stroke=\"black\" d=\"M1295.6,-268.46C1177.76,-250.86 868.48,-204.67 741.69,-185.73\"/>\n<polygon fill=\"black\" stroke=\"black\" points=\"742.2,-182.27 731.8,-184.26 741.17,-189.19 742.2,-182.27\"/>\n</g>\n<!-- objPermP&#45;&gt;finalP -->\n<g id=\"edge39\" class=\"edge\">\n<title>objPermP&#45;&gt;finalP</title>\n<path fill=\"none\" stroke=\"black\" d=\"M532.91,-252.95C562.13,-238.57 600.22,-219.81 631.13,-204.6\"/>\n<polygon fill=\"black\" stroke=\"black\" points=\"633.04,-207.55 640.47,-200 629.95,-201.27 633.04,-207.55\"/>\n</g>\n</g>\n</svg>\n",
            "text/plain": [
              "<graphviz.graphs.Digraph at 0x7fc40f712ad0>"
            ]
          },
          "metadata": {},
          "execution_count": 7
        }
      ]
    },
    {
      "cell_type": "code",
      "source": [
        "# A function for pulling out the means and standard deviations for abilities of interest\n",
        "def analyzeAgentResults(agentName, agentData, abilitiesToShow):\n",
        "\n",
        "  #abilityMeans = [] # empty list to add in ability means to\n",
        "  #abilitySDs = []\n",
        "\n",
        "  abilityMeans = {}\n",
        "  abilitySDs = {}\n",
        "\n",
        "  for a in abilitiesToShow: #iterate through each ability, add posterior mean to dataframe, and plot posterior\n",
        "\n",
        "    posteriorMean = float(np.mean(agentData['posterior'][a])) # calculate posterior mean\n",
        "    posteriorSD = float(np.std(agentData['posterior'][a])) #calculate posterior sd\n",
        "    abilityMeans[a] = posteriorMean\n",
        "    abilitySDs[a] = posteriorSD\n",
        "    #abilityMeans.append(posteriorMean)\n",
        "    #abilitySDs.append(posteriorSD)\n",
        "\n",
        "  return abilityMeans, abilitySDs\n",
        "\n",
        "# A function for padding the testing data with 0s for prediction\n",
        "def pad(testingData, trainingDataSize):\n",
        "    return testingData.append(pd.Series(np.zeros(trainingDataSize-len(testingData), dtype=int)))\n",
        "\n",
        "# A function for making predictions based on a fitted measurement layout\n",
        "def predict(m, agentData, dfTest, agent, len_training):\n",
        "  with m:\n",
        "    # set the data for prediction\n",
        "    pm.set_data({\"lavaPresence\": pad(dfTest[\"lavaPresence\"], len_training)})\n",
        "    pm.set_data({\"lightsOutPresence\": pad(dfTest[\"lightsOutPresence\"], len_training)})\n",
        "    #pm.set_data({\"rampPresence\": pad(dfTest[\"taskCriticalRampPresence\"], len_training)})\n",
        "    pm.set_data({\"numChoices\": pad(dfTest[\"numChoices\"], len_training)})\n",
        "    pm.set_data({\"minTurnsToGoal\": pad(dfTest[\"minNumTurnsRequired\"], len_training)})\n",
        "    pm.set_data({\"goalDistance\": pad(dfTest[\"cityBlockDistanceToGoal\"], len_training)})\n",
        "    pm.set_data({\"goalSize\": pad(dfTest[\"mainGoalSize\"], len_training)})\n",
        "    pm.set_data({\"goalRight\": pad(dfTest[\"goalRightRelToStart\"], len_training)})\n",
        "    pm.set_data({\"goalAhead\": pad(dfTest[\"goalCentreRelToStart\"], len_training)})\n",
        "    pm.set_data({\"goalLeft\": pad(dfTest[\"goalLeftRelToStart\"], len_training)})\n",
        "    pm.set_data({\"CVChickTest\": pad(dfTest[\"cvchickTask\"], len_training)})\n",
        "    pm.set_data({\"PCTBTest\": pad(dfTest[\"pctbTask\"], len_training)})\n",
        "    pm.set_data({\"allocentricOPTest\": pad(dfTest[\"goalBecomesAllocentricallyOccluded\"], len_training)})\n",
        "\n",
        "    predictions=pm.sample_posterior_predictive(agentData, var_names=[\"finalP\"], return_inferencedata=False,predictions=True,extend_inferencedata=False)\n",
        "    predictionChainRuns =predictions[\"finalP\"][:,:,0:len(dfTest)]\n",
        "    predictionsInstance = np.mean(predictionChainRuns, (0,1))\n",
        "\n",
        "    return predictionsInstance,  dfTest[agent].to_numpy()\n",
        "\n",
        "\n",
        "def brierScore(preds, outs):\n",
        "    return 1/len(preds) * sum( (preds-outs)**2 )\n",
        "\n",
        "def brierDecomp(preds, outs):\n",
        "\n",
        "  brier= 1/len(preds) * sum( (preds-outs)**2 )\n",
        "  ## bin predictions\n",
        "  bins = np.linspace(0,1,11)\n",
        "  binCenters = (bins[:-1] +bins[1:]) /2\n",
        "  binPredInds = np.digitize(preds,binCenters)\n",
        "  binnedPreds = bins[binPredInds]\n",
        "\n",
        "  binTrueFreqs = np.zeros(10)\n",
        "  binPredFreqs = np.zeros(10)\n",
        "  binCounts = np.zeros(10)\n",
        "\n",
        "  for i in range(10):\n",
        "      idx = (preds >= bins[i]) & (preds < bins[i+1])\n",
        "\n",
        "      binTrueFreqs[i] = np.sum(outs[idx])/np.sum(idx) if np.sum(idx) > 0 else 0\n",
        "     # print(np.sum(outs[idx]), np.sum(idx), binTrueFreqs[i])\n",
        "      binPredFreqs[i] = np.mean(preds[idx]) if np.sum(idx) > 0 else 0\n",
        "      binCounts[i] = np.sum(idx)\n",
        "\n",
        "  calibration = np.sum(binCounts * (binTrueFreqs - binPredFreqs) ** 2) / np.sum(binCounts) if np.sum(binCounts)>0 else 0\n",
        "  refinement = np.sum(binCounts * (binTrueFreqs *(1 - binTrueFreqs))) / np.sum(binCounts) if np.sum(binCounts)> 0 else 0\n",
        "  # Compute refinement component\n",
        "  #refinement = brier - calibration\n",
        "  return brier, calibration, refinement\n",
        "\n"
      ],
      "metadata": {
        "id": "-Rm-t0AkyvM6"
      },
      "execution_count": 8,
      "outputs": []
    },
    {
      "cell_type": "markdown",
      "source": [
        "## Run Complete Measurement Layout"
      ],
      "metadata": {
        "id": "ivfCdNnU4gel"
      }
    },
    {
      "cell_type": "code",
      "source": [
        "real_agent_names = [\"Random_Walker_Fixed_Forwards_Saccade_15_Angle_10_356\",\n",
        "                   \"Random_Walker_Fixed_Forwards_Saccade_15_Angle_10_1997\",\n",
        "                   \"Random_Walker_Fixed_Forwards_Saccade_15_Angle_10_2023\",\n",
        "                   \"Random_Walker_Fixed_Forwards_Saccade_15_Angle_10_1815\",\n",
        "                   \"Random_Walker_Fixed_Forwards_Saccade_15_Angle_10_3761\",\n",
        "                   \"Random_Walker_Rayleigh_Flight_Norm_Saccade_mu_15_sig_5_Uniform_Angles_1_to_60_356\",\n",
        "                   \"Random_Walker_Rayleigh_Flight_Norm_Saccade_mu_15_sig_5_Uniform_Angles_1_to_60_1997\",\n",
        "                   \"Random_Walker_Rayleigh_Flight_Norm_Saccade_mu_15_sig_5_Uniform_Angles_1_to_60_2023\",\n",
        "                   \"Random_Walker_Rayleigh_Flight_Norm_Saccade_mu_15_sig_5_Uniform_Angles_1_to_60_1815\",\n",
        "                   \"Random_Walker_Rayleigh_Flight_Norm_Saccade_mu_15_sig_5_Uniform_Angles_1_to_60_3761\",\n",
        "                   \"Random_Walker_Levy_Flight_Cauchy_Saccade_mode_15_Uniform_Angles_1_to_60_356\",\n",
        "                   \"Random_Walker_Levy_Flight_Cauchy_Saccade_mode_15_Uniform_Angles_1_to_60_1997\",\n",
        "                   \"Random_Walker_Levy_Flight_Cauchy_Saccade_mode_15_Uniform_Angles_1_to_60_2023\",\n",
        "                   \"Random_Walker_Levy_Flight_Cauchy_Saccade_mode_15_Uniform_Angles_1_to_60_1815\",\n",
        "                   \"Random_Walker_Levy_Flight_Cauchy_Saccade_mode_15_Uniform_Angles_1_to_60_3761\",\n",
        "                   \"Random_Action_Agent_no_bias_no_correlation_uniform_step_length_max_20_356\",\n",
        "                   \"Random_Action_Agent_no_bias_no_correlation_uniform_step_length_max_20_1997\",\n",
        "                    \"Random_Action_Agent_no_bias_no_correlation_uniform_step_length_max_20_2023\",\n",
        "                    \"Random_Action_Agent_no_bias_no_correlation_uniform_step_length_max_20_1815\",\n",
        "                    \"Random_Action_Agent_no_bias_no_correlation_uniform_step_length_max_20_3761\",\n",
        "                    \"Random_Action_Agent_cephalocaudal_bias_cauchy_step_length_mode_15_356\",\n",
        "                    \"Random_Action_Agent_cephalocaudal_bias_cauchy_step_length_mode_15_1997\",\n",
        "                    \"Random_Action_Agent_cephalocaudal_bias_cauchy_step_length_mode_15_2023\",\n",
        "                    \"Random_Action_Agent_cephalocaudal_bias_cauchy_step_length_mode_15_1815\",\n",
        "                    \"Random_Action_Agent_cephalocaudal_bias_cauchy_step_length_mode_15_3761\",\n",
        "                    \"Vanilla_Braitenberg_15_rays_over_60_degs_356\",\n",
        "                    \"Vanilla_Braitenberg_15_rays_over_60_degs_1997\",\n",
        "                    \"Vanilla_Braitenberg_15_rays_over_60_degs_2023\",\n",
        "                    \"Vanilla_Braitenberg_15_rays_over_60_degs_1815\",\n",
        "                    \"Vanilla_Braitenberg_15_rays_over_60_degs_3761\"]\n",
        "\n",
        "synthetic_agent_names = [\"perfectAgent\",\n",
        "                         \"failedAgent\",\n",
        "                         \"noOPAgent\",\n",
        "                         \"lowVisualAcuityAgent\",\n",
        "                         \"poorNavigationOPAgent\",\n",
        "                         \"CVChickBasicSpecificAgent\",\n",
        "                         \"PCTBBasicSpecificAgent\"]"
      ],
      "metadata": {
        "id": "FX62CLal3lQ8"
      },
      "execution_count": 9,
      "outputs": []
    },
    {
      "cell_type": "code",
      "source": [
        "synthetic_agents_training, synthetic_agents_test = train_test_split(synthetic_agents_data, test_size = 0.2)\n",
        "real_agents_training, real_agents_test = train_test_split(agent_data, test_size=0.2)\n",
        "children_training, children_test = train_test_split(children_data, test_size=0.2)\n"
      ],
      "metadata": {
        "id": "Xlfsz3f63lJC"
      },
      "execution_count": 10,
      "outputs": []
    },
    {
      "cell_type": "code",
      "source": [
        "abilitiesToShow = [\"objPermAbility\", \"visualAcuityAbility\", \"flatNavAbility\", \"lavaAbility\", \"rightAbility\", \"leftAbility\", \"aheadAbility\", \"CVChickAbility\", \"PCTBAbility\", \"lightsOutAbility\", \"noisePar\"]\n",
        "\n",
        "pymc_sample_num = 2000\n",
        "\n",
        "slack = 1"
      ],
      "metadata": {
        "id": "LZ2sA86g3lGU"
      },
      "execution_count": 11,
      "outputs": []
    },
    {
      "cell_type": "code",
      "source": [
        "agentName = []\n",
        "modelBrierScore = []\n",
        "aggregateBrierScore = []\n",
        "modelCalibration = []\n",
        "aggregateCalibration = []\n",
        "modelRefinement = []\n",
        "aggregateRefinement = []\n",
        "modelBetterThanAgg = []\n",
        "meanSuccess = []\n",
        "OPAbilityAllMean = []\n",
        "navAbilityAllMean = []\n",
        "visualAcuityAbilityAllMean = []\n",
        "flatNavAbilityAllMean = []\n",
        "lavaAbilityAllMean = []\n",
        "rightAbilityAllMean = []\n",
        "leftAbilityAllMean = []\n",
        "aheadAbilityAllMean = []\n",
        "CVChickAbilityAllMean = []\n",
        "PCTBAbilityAllMean = []\n",
        "lightsOutAbilityAllMean = []\n",
        "noiseParAllMean = []\n",
        "OPAbilityAllSD = []\n",
        "navAbilityAllSD = []\n",
        "visualAcuityAbilityAllSD = []\n",
        "flatNavAbilityAllSD = []\n",
        "lavaAbilityAllSD = []\n",
        "rightAbilityAllSD = []\n",
        "leftAbilityAllSD = []\n",
        "aheadAbilityAllSD = []\n",
        "CVChickAbilityAllSD = []\n",
        "PCTBAbilityAllSD = []\n",
        "lightsOutAbilityAllSD = []\n",
        "noiseParAllSD = []\n",
        "OPAbilityAllMin = []\n",
        "navAbilityAllMin = []\n",
        "visualAcuityAbilityAllMin = []\n",
        "flatNavAbilityAllMin = []\n",
        "lavaAbilityAllMin = []\n",
        "rightAbilityAllMin = []\n",
        "leftAbilityAllMin = []\n",
        "aheadAbilityAllMin = []\n",
        "CVChickAbilityAllMin = []\n",
        "PCTBAbilityAllMin = []\n",
        "lightsOutAbilityAllMin = []\n",
        "noiseParAllMin = []\n",
        "OPAbilityAllMax = []\n",
        "navAbilityAllMax = []\n",
        "visualAcuityAbilityAllMax = []\n",
        "flatNavAbilityAllMax = []\n",
        "lavaAbilityAllMax = []\n",
        "rightAbilityAllMax = []\n",
        "leftAbilityAllMax = []\n",
        "aheadAbilityAllMax = []\n",
        "CVChickAbilityAllMax = []\n",
        "PCTBAbilityAllMax = []\n",
        "lightsOutAbilityAllMax = []\n",
        "noiseParAllMax = []"
      ],
      "metadata": {
        "id": "TVZLICbM-PPp"
      },
      "execution_count": 12,
      "outputs": []
    },
    {
      "cell_type": "code",
      "source": [
        "for agent in synthetic_agent_names:\n",
        "  model_train, min, max = SetupModel(synthetic_agents_training, uniformAbilitySlack=slack, agent_type='agent', agent_name=agent, sample = None)\n",
        "  with model_train:\n",
        "    data_training = pm.sample(pymc_sample_num, target_accept=0.95)\n",
        "\n",
        "  predictions, testOutputs = predict(model_train, data_training, synthetic_agents_test, agent, len(synthetic_agents_training))\n",
        "  agentBrierScore, agentCalibration, agentRefinement = brierDecomp(predictions, testOutputs)\n",
        "  agentAggBrierScore, agentAggCalibration, agentAggRefinement = brierDecomp(np.repeat(np.mean(synthetic_agents_training[agent]), len(testOutputs)), testOutputs)\n",
        "  aggregateBrierScore.append(agentAggBrierScore)\n",
        "  aggregateCalibration.append(agentAggCalibration)\n",
        "  aggregateRefinement.append(agentAggRefinement)\n",
        "  modelBrierScore.append(agentBrierScore)\n",
        "  modelCalibration.append(agentCalibration)\n",
        "  modelRefinement.append(agentRefinement)\n",
        "  if agentBrierScore < agentAggBrierScore:\n",
        "    modelBetterThanAgg.append(True)\n",
        "  else:\n",
        "    modelBetterThanAgg.append(False)\n",
        "\n",
        "  model_all, min, max = SetupModel(synthetic_agents_data, uniformAbilitySlack=slack, agent_type='agent', agent_name=agent, sample = None)\n",
        "  with model_all:\n",
        "    data_all = pm.sample(pymc_sample_num, target_accept=0.95)\n",
        "  mu, sd  = analyzeAgentResults(agent, data_all, abilitiesToShow)\n",
        "\n",
        "  OPAbilityAllMean.append(mu[\"objPermAbility\"])\n",
        "  visualAcuityAbilityAllMean.append(mu[\"visualAcuityAbility\"])\n",
        "  flatNavAbilityAllMean.append(mu[\"flatNavAbility\"])\n",
        "  lavaAbilityAllMean.append(mu[\"lavaAbility\"])\n",
        "  rightAbilityAllMean.append(mu[\"rightAbility\"])\n",
        "  leftAbilityAllMean.append(mu[\"leftAbility\"])\n",
        "  aheadAbilityAllMean.append(mu[\"aheadAbility\"])\n",
        "  CVChickAbilityAllMean.append(mu[\"CVChickAbility\"])\n",
        "  PCTBAbilityAllMean.append(mu[\"PCTBAbility\"])\n",
        "  lightsOutAbilityAllMean.append(mu[\"lightsOutAbility\"])\n",
        "  noiseParAllMean.append(mu[\"noisePar\"])\n",
        "  OPAbilityAllSD.append(sd[\"objPermAbility\"])\n",
        "  visualAcuityAbilityAllSD.append(sd[\"visualAcuityAbility\"])\n",
        "  flatNavAbilityAllSD.append(sd[\"flatNavAbility\"])\n",
        "  lavaAbilityAllSD.append(sd[\"lavaAbility\"])\n",
        "  rightAbilityAllSD.append(sd[\"rightAbility\"])\n",
        "  leftAbilityAllSD.append(sd[\"leftAbility\"])\n",
        "  aheadAbilityAllSD.append(sd[\"aheadAbility\"])\n",
        "  CVChickAbilityAllSD.append(sd[\"CVChickAbility\"])\n",
        "  PCTBAbilityAllSD.append(sd[\"PCTBAbility\"])\n",
        "  lightsOutAbilityAllSD.append(sd[\"lightsOutAbility\"])\n",
        "  noiseParAllSD.append(sd[\"noisePar\"])\n",
        "  OPAbilityAllMin.append(min[\"objPermAbility\"])\n",
        "  visualAcuityAbilityAllMin.append(min[\"visualAcuityAbility\"])\n",
        "  flatNavAbilityAllMin.append(min[\"flatNavAbility\"])\n",
        "  lavaAbilityAllMin.append(min[\"lavaAbility\"])\n",
        "  rightAbilityAllMin.append(min[\"rightAbility\"])\n",
        "  leftAbilityAllMin.append(min[\"leftAbility\"])\n",
        "  aheadAbilityAllMin.append(min[\"aheadAbility\"])\n",
        "  CVChickAbilityAllMin.append(min[\"CVChickAbility\"])\n",
        "  PCTBAbilityAllMin.append(min[\"PCTBAbility\"])\n",
        "  lightsOutAbilityAllMin.append(min[\"lightsOutAbility\"])\n",
        "  noiseParAllMin.append(0)\n",
        "  OPAbilityAllMax.append(max[\"objPermAbility\"])\n",
        "  visualAcuityAbilityAllMax.append(max[\"visualAcuityAbility\"])\n",
        "  flatNavAbilityAllMax.append(max[\"flatNavAbility\"])\n",
        "  lavaAbilityAllMax.append(max[\"lavaAbility\"])\n",
        "  rightAbilityAllMax.append(max[\"rightAbility\"])\n",
        "  leftAbilityAllMax.append(max[\"leftAbility\"])\n",
        "  aheadAbilityAllMax.append(max[\"aheadAbility\"])\n",
        "  CVChickAbilityAllMax.append(max[\"CVChickAbility\"])\n",
        "  PCTBAbilityAllMax.append(max[\"PCTBAbility\"])\n",
        "  lightsOutAbilityAllMax.append(max[\"lightsOutAbility\"])\n",
        "  noiseParAllMax.append(1)\n",
        "\n",
        "  meanSuccess.append(np.mean(synthetic_agents_data[agent]))\n",
        "  agentName.append(agent)\n",
        "\n",
        "  finalDF = pd.DataFrame({\"Agent Name\": agentName,\n",
        "                          \"Model Brier Score\":modelBrierScore,\n",
        "                          \"Aggregate Brier Scores\": aggregateBrierScore,\n",
        "                          \"Model Calibration\": modelCalibration,\n",
        "                          \"Aggregate Calibration\":aggregateCalibration,\n",
        "                          \"Model Refinement\":modelRefinement,\n",
        "                          \"Aggregate Refinement\":aggregateRefinement,\n",
        "                          \"Model Better? (Based on Brier Score)\":modelBetterThanAgg,\n",
        "                          \"Success Score\":meanSuccess,\n",
        "                          \"Object Permanence Ability Mean (All)\": OPAbilityAllMean,\n",
        "                          \"Visual Acuity Ability Mean (All)\" : visualAcuityAbilityAllMean,\n",
        "                          \"Flat Navigation Ability Mean (All)\" : flatNavAbilityAllMean,\n",
        "                          \"Lava Ability Mean (All)\" : lavaAbilityAllMean,\n",
        "                          \"Right Ability Mean (All)\" : rightAbilityAllMean,\n",
        "                          \"Left Ability Mean (All)\" : leftAbilityAllMean,\n",
        "                          \"Ahead Ability Mean (All)\" : aheadAbilityAllMean,\n",
        "                          \"CVChick Ability Mean (All)\" : CVChickAbilityAllMean,\n",
        "                          \"PCTB Ability Mean (All)\" :  PCTBAbilityAllMean,\n",
        "                          \"Lights Out Ability Mean (All)\" : lightsOutAbilityAllMean,\n",
        "                          \"Noise Parameter Mean (All)\" : noiseParAllMean,\n",
        "                          \"Object Permanence Ability SD (All)\": OPAbilityAllSD,\n",
        "                          \"Visual Acuity Ability SD (All)\" : visualAcuityAbilityAllSD,\n",
        "                          \"Flat Navigation Ability SD (All)\" : flatNavAbilityAllSD,\n",
        "                          \"Lava Ability SD (All)\" : lavaAbilityAllSD,\n",
        "                          \"Right Ability SD (All)\" : rightAbilityAllSD,\n",
        "                          \"Left Ability SD (All)\" : leftAbilityAllSD,\n",
        "                          \"Ahead Ability SD (All)\" : aheadAbilityAllSD,\n",
        "                          \"CVChick Ability SD (All)\" : CVChickAbilityAllSD,\n",
        "                          \"PCTB Ability SD (All)\" :  PCTBAbilityAllSD,\n",
        "                          \"Lights Out Ability SD (All)\" : lightsOutAbilityAllSD,\n",
        "                          \"Noise Parameter SD (All)\" : noiseParAllSD,\n",
        "                          \"Object Permanence Ability Min (All)\": OPAbilityAllMin,\n",
        "                          \"Visual Acuity Ability Min (All)\" : visualAcuityAbilityAllMin,\n",
        "                          \"Flat Navigation Ability Min (All)\" : flatNavAbilityAllMin,\n",
        "                          \"Lava Ability Min (All)\" : lavaAbilityAllMin,\n",
        "                          \"Right Ability Min (All)\" : rightAbilityAllMin,\n",
        "                          \"Left Ability Min (All)\" : leftAbilityAllMin,\n",
        "                          \"Ahead Ability Min (All)\" : aheadAbilityAllMin,\n",
        "                          \"CVChick Ability Min (All)\" : CVChickAbilityAllMin,\n",
        "                          \"PCTB Ability Min (All)\" :  PCTBAbilityAllMin,\n",
        "                          \"Lights Out Ability Min (All)\" : lightsOutAbilityAllMin,\n",
        "                          \"Noise Parameter Min (All)\" : noiseParAllMin,\n",
        "                          \"Object Permanence Ability Max (All)\": OPAbilityAllMax,\n",
        "                          \"Visual Acuity Ability Max (All)\" : visualAcuityAbilityAllMax,\n",
        "                          \"Flat Navigation Ability Max (All)\" : flatNavAbilityAllMax,\n",
        "                          \"Lava Ability Max (All)\" : lavaAbilityAllMax,\n",
        "                          \"Right Ability Max (All)\" : rightAbilityAllMax,\n",
        "                          \"Left Ability Max (All)\" : leftAbilityAllMax,\n",
        "                          \"Ahead Ability Max (All)\" : aheadAbilityAllMax,\n",
        "                          \"CVChick Ability Max (All)\" : CVChickAbilityAllMax,\n",
        "                          \"PCTB Ability Max (All)\" :  PCTBAbilityAllMax,\n",
        "                          \"Lights Out Ability Max (All)\" : lightsOutAbilityAllMax,\n",
        "                          \"Noise Parameter Max (All)\" : noiseParAllMax})\n",
        "  finalDF.to_csv(\"/content/drive/Shareddrives/comparative-object-permanence/finalResults.csv\", index = False)"
      ],
      "metadata": {
        "id": "RcYu10Z73lD1"
      },
      "execution_count": null,
      "outputs": []
    },
    {
      "cell_type": "code",
      "source": [
        "for agent in real_agent_names:\n",
        "  model_train, min, max = SetupModel(real_agents_training, uniformAbilitySlack=slack, agent_type='agent', agent_name=agent, sample = None)\n",
        "  with model_train:\n",
        "    data_training = pm.sample(pymc_sample_num, target_accept=0.95)\n",
        "\n",
        "  predictions, testOutputs = predict(model_train, data_training, real_agents_test, agent, len(real_agents_training))\n",
        "  agentBrierScore, agentCalibration, agentRefinement = brierDecomp(predictions, testOutputs)\n",
        "  agentAggBrierScore, agentAggCalibration, agentAggRefinement = brierDecomp(np.repeat(np.mean(real_agents_training[agent]), len(testOutputs)), testOutputs)\n",
        "  aggregateBrierScore.append(agentAggBrierScore)\n",
        "  aggregateCalibration.append(agentAggCalibration)\n",
        "  aggregateRefinement.append(agentAggRefinement)\n",
        "  modelBrierScore.append(agentBrierScore)\n",
        "  modelCalibration.append(agentCalibration)\n",
        "  modelRefinement.append(agentRefinement)\n",
        "  if agentBrierScore < agentAggBrierScore:\n",
        "    modelBetterThanAgg.append(True)\n",
        "  else:\n",
        "    modelBetterThanAgg.append(False)\n",
        "\n",
        "  model_all, min, max = SetupModel(agent_data, uniformAbilitySlack=slack, agent_type='agent', agent_name=agent, sample = None)\n",
        "  with model_all:\n",
        "    data_all = pm.sample(pymc_sample_num, target_accept=0.95)\n",
        "  mu, sd  = analyzeAgentResults(agent, data_all, abilitiesToShow)\n",
        "\n",
        "  OPAbilityAllMean.append(mu[\"objPermAbility\"])\n",
        "  visualAcuityAbilityAllMean.append(mu[\"visualAcuityAbility\"])\n",
        "  flatNavAbilityAllMean.append(mu[\"flatNavAbility\"])\n",
        "  lavaAbilityAllMean.append(mu[\"lavaAbility\"])\n",
        "  rightAbilityAllMean.append(mu[\"rightAbility\"])\n",
        "  leftAbilityAllMean.append(mu[\"leftAbility\"])\n",
        "  aheadAbilityAllMean.append(mu[\"aheadAbility\"])\n",
        "  CVChickAbilityAllMean.append(mu[\"CVChickAbility\"])\n",
        "  PCTBAbilityAllMean.append(mu[\"PCTBAbility\"])\n",
        "  lightsOutAbilityAllMean.append(mu[\"lightsOutAbility\"])\n",
        "  noiseParAllMean.append(mu[\"noisePar\"])\n",
        "  OPAbilityAllSD.append(sd[\"objPermAbility\"])\n",
        "  visualAcuityAbilityAllSD.append(sd[\"visualAcuityAbility\"])\n",
        "  flatNavAbilityAllSD.append(sd[\"flatNavAbility\"])\n",
        "  lavaAbilityAllSD.append(sd[\"lavaAbility\"])\n",
        "  rightAbilityAllSD.append(sd[\"rightAbility\"])\n",
        "  leftAbilityAllSD.append(sd[\"leftAbility\"])\n",
        "  aheadAbilityAllSD.append(sd[\"aheadAbility\"])\n",
        "  CVChickAbilityAllSD.append(sd[\"CVChickAbility\"])\n",
        "  PCTBAbilityAllSD.append(sd[\"PCTBAbility\"])\n",
        "  lightsOutAbilityAllSD.append(sd[\"lightsOutAbility\"])\n",
        "  noiseParAllSD.append(sd[\"noisePar\"])\n",
        "  OPAbilityAllMin.append(min[\"objPermAbility\"])\n",
        "  visualAcuityAbilityAllMin.append(min[\"visualAcuityAbility\"])\n",
        "  flatNavAbilityAllMin.append(min[\"flatNavAbility\"])\n",
        "  lavaAbilityAllMin.append(min[\"lavaAbility\"])\n",
        "  rightAbilityAllMin.append(min[\"rightAbility\"])\n",
        "  leftAbilityAllMin.append(min[\"leftAbility\"])\n",
        "  aheadAbilityAllMin.append(min[\"aheadAbility\"])\n",
        "  CVChickAbilityAllMin.append(min[\"CVChickAbility\"])\n",
        "  PCTBAbilityAllMin.append(min[\"PCTBAbility\"])\n",
        "  lightsOutAbilityAllMin.append(min[\"lightsOutAbility\"])\n",
        "  noiseParAllMin.append(0)\n",
        "  OPAbilityAllMax.append(max[\"objPermAbility\"])\n",
        "  visualAcuityAbilityAllMax.append(max[\"visualAcuityAbility\"])\n",
        "  flatNavAbilityAllMax.append(max[\"flatNavAbility\"])\n",
        "  lavaAbilityAllMax.append(max[\"lavaAbility\"])\n",
        "  rightAbilityAllMax.append(max[\"rightAbility\"])\n",
        "  leftAbilityAllMax.append(max[\"leftAbility\"])\n",
        "  aheadAbilityAllMax.append(max[\"aheadAbility\"])\n",
        "  CVChickAbilityAllMax.append(max[\"CVChickAbility\"])\n",
        "  PCTBAbilityAllMax.append(max[\"PCTBAbility\"])\n",
        "  lightsOutAbilityAllMax.append(max[\"lightsOutAbility\"])\n",
        "  noiseParAllMax.append(1)\n",
        "\n",
        "  meanSuccess.append(np.mean(agent_data[agent]))\n",
        "  agentName.append(agent)\n",
        "\n",
        "  finalDF = pd.DataFrame({\"Agent Name\": agentName,\n",
        "                          \"Model Brier Score\":modelBrierScore,\n",
        "                          \"Aggregate Brier Scores\": aggregateBrierScore,\n",
        "                          \"Model Calibration\": modelCalibration,\n",
        "                          \"Aggregate Calibration\":aggregateCalibration,\n",
        "                          \"Model Refinement\":modelRefinement,\n",
        "                          \"Aggregate Refinement\":aggregateRefinement,\n",
        "                          \"Model Better? (Based on Brier Score)\":modelBetterThanAgg,\n",
        "                          \"Success Score\":meanSuccess,\n",
        "                          \"Object Permanence Ability Mean (All)\": OPAbilityAllMean,\n",
        "                          \"Visual Acuity Ability Mean (All)\" : visualAcuityAbilityAllMean,\n",
        "                          \"Flat Navigation Ability Mean (All)\" : flatNavAbilityAllMean,\n",
        "                          \"Lava Ability Mean (All)\" : lavaAbilityAllMean,\n",
        "                          \"Right Ability Mean (All)\" : rightAbilityAllMean,\n",
        "                          \"Left Ability Mean (All)\" : leftAbilityAllMean,\n",
        "                          \"Ahead Ability Mean (All)\" : aheadAbilityAllMean,\n",
        "                          \"CVChick Ability Mean (All)\" : CVChickAbilityAllMean,\n",
        "                          \"PCTB Ability Mean (All)\" :  PCTBAbilityAllMean,\n",
        "                          \"Lights Out Ability Mean (All)\" : lightsOutAbilityAllMean,\n",
        "                          \"Noise Parameter Mean (All)\" : noiseParAllMean,\n",
        "                          \"Object Permanence Ability SD (All)\": OPAbilityAllSD,\n",
        "                          \"Visual Acuity Ability SD (All)\" : visualAcuityAbilityAllSD,\n",
        "                          \"Flat Navigation Ability SD (All)\" : flatNavAbilityAllSD,\n",
        "                          \"Lava Ability SD (All)\" : lavaAbilityAllSD,\n",
        "                          \"Right Ability SD (All)\" : rightAbilityAllSD,\n",
        "                          \"Left Ability SD (All)\" : leftAbilityAllSD,\n",
        "                          \"Ahead Ability SD (All)\" : aheadAbilityAllSD,\n",
        "                          \"CVChick Ability SD (All)\" : CVChickAbilityAllSD,\n",
        "                          \"PCTB Ability SD (All)\" :  PCTBAbilityAllSD,\n",
        "                          \"Lights Out Ability SD (All)\" : lightsOutAbilityAllSD,\n",
        "                          \"Noise Parameter SD (All)\" : noiseParAllSD,\n",
        "                          \"Object Permanence Ability Min (All)\": OPAbilityAllMin,\n",
        "                          \"Visual Acuity Ability Min (All)\" : visualAcuityAbilityAllMin,\n",
        "                          \"Flat Navigation Ability Min (All)\" : flatNavAbilityAllMin,\n",
        "                          \"Lava Ability Min (All)\" : lavaAbilityAllMin,\n",
        "                          \"Right Ability Min (All)\" : rightAbilityAllMin,\n",
        "                          \"Left Ability Min (All)\" : leftAbilityAllMin,\n",
        "                          \"Ahead Ability Min (All)\" : aheadAbilityAllMin,\n",
        "                          \"CVChick Ability Min (All)\" : CVChickAbilityAllMin,\n",
        "                          \"PCTB Ability Min (All)\" :  PCTBAbilityAllMin,\n",
        "                          \"Lights Out Ability Min (All)\" : lightsOutAbilityAllMin,\n",
        "                          \"Noise Parameter Min (All)\" : noiseParAllMin,\n",
        "                          \"Object Permanence Ability Max (All)\": OPAbilityAllMax,\n",
        "                          \"Visual Acuity Ability Max (All)\" : visualAcuityAbilityAllMax,\n",
        "                          \"Flat Navigation Ability Max (All)\" : flatNavAbilityAllMax,\n",
        "                          \"Lava Ability Max (All)\" : lavaAbilityAllMax,\n",
        "                          \"Right Ability Max (All)\" : rightAbilityAllMax,\n",
        "                          \"Left Ability Max (All)\" : leftAbilityAllMax,\n",
        "                          \"Ahead Ability Max (All)\" : aheadAbilityAllMax,\n",
        "                          \"CVChick Ability Max (All)\" : CVChickAbilityAllMax,\n",
        "                          \"PCTB Ability Max (All)\" :  PCTBAbilityAllMax,\n",
        "                          \"Lights Out Ability Max (All)\" : lightsOutAbilityAllMax,\n",
        "                          \"Noise Parameter Max (All)\" : noiseParAllMax})\n",
        "  finalDF.to_csv(\"/content/drive/Shareddrives/comparative-object-permanence/finalResults.csv\", index = False)"
      ],
      "metadata": {
        "id": "UMRh6EsaaYJY",
        "outputId": "f68d9aec-ca80-4a44-a47c-66411d23a2ad",
        "colab": {
          "base_uri": "https://localhost:8080/",
          "height": 1000
        }
      },
      "execution_count": 13,
      "outputs": [
        {
          "output_type": "display_data",
          "data": {
            "text/plain": [
              "<IPython.core.display.HTML object>"
            ],
            "text/html": [
              "\n",
              "<style>\n",
              "    /* Turns off some styling */\n",
              "    progress {\n",
              "        /* gets rid of default border in Firefox and Opera. */\n",
              "        border: none;\n",
              "        /* Needs to be in here for Safari polyfill so background images work as expected. */\n",
              "        background-size: auto;\n",
              "    }\n",
              "    progress:not([value]), progress:not([value])::-webkit-progress-bar {\n",
              "        background: repeating-linear-gradient(45deg, #7e7e7e, #7e7e7e 10px, #5c5c5c 10px, #5c5c5c 20px);\n",
              "    }\n",
              "    .progress-bar-interrupted, .progress-bar-interrupted::-webkit-progress-bar {\n",
              "        background: #F44336;\n",
              "    }\n",
              "</style>\n"
            ]
          },
          "metadata": {}
        },
        {
          "output_type": "display_data",
          "data": {
            "text/plain": [
              "<IPython.core.display.HTML object>"
            ],
            "text/html": [
              "\n",
              "    <div>\n",
              "      <progress value='3000' class='' max='3000' style='width:300px; height:20px; vertical-align: middle;'></progress>\n",
              "      100.00% [3000/3000 02:09&lt;00:00 Sampling chain 0, 0 divergences]\n",
              "    </div>\n",
              "    "
            ]
          },
          "metadata": {}
        },
        {
          "output_type": "display_data",
          "data": {
            "text/plain": [
              "<IPython.core.display.HTML object>"
            ],
            "text/html": [
              "\n",
              "<style>\n",
              "    /* Turns off some styling */\n",
              "    progress {\n",
              "        /* gets rid of default border in Firefox and Opera. */\n",
              "        border: none;\n",
              "        /* Needs to be in here for Safari polyfill so background images work as expected. */\n",
              "        background-size: auto;\n",
              "    }\n",
              "    progress:not([value]), progress:not([value])::-webkit-progress-bar {\n",
              "        background: repeating-linear-gradient(45deg, #7e7e7e, #7e7e7e 10px, #5c5c5c 10px, #5c5c5c 20px);\n",
              "    }\n",
              "    .progress-bar-interrupted, .progress-bar-interrupted::-webkit-progress-bar {\n",
              "        background: #F44336;\n",
              "    }\n",
              "</style>\n"
            ]
          },
          "metadata": {}
        },
        {
          "output_type": "display_data",
          "data": {
            "text/plain": [
              "<IPython.core.display.HTML object>"
            ],
            "text/html": [
              "\n",
              "    <div>\n",
              "      <progress value='3000' class='' max='3000' style='width:300px; height:20px; vertical-align: middle;'></progress>\n",
              "      100.00% [3000/3000 02:09&lt;00:00 Sampling chain 1, 0 divergences]\n",
              "    </div>\n",
              "    "
            ]
          },
          "metadata": {}
        },
        {
          "output_type": "stream",
          "name": "stderr",
          "text": [
            "<ipython-input-8-175c2f4f91ba>:23: FutureWarning: The series.append method is deprecated and will be removed from pandas in a future version. Use pandas.concat instead.\n",
            "  return testingData.append(pd.Series(np.zeros(trainingDataSize-len(testingData), dtype=int)))\n",
            "<ipython-input-8-175c2f4f91ba>:23: FutureWarning: The series.append method is deprecated and will be removed from pandas in a future version. Use pandas.concat instead.\n",
            "  return testingData.append(pd.Series(np.zeros(trainingDataSize-len(testingData), dtype=int)))\n",
            "<ipython-input-8-175c2f4f91ba>:23: FutureWarning: The series.append method is deprecated and will be removed from pandas in a future version. Use pandas.concat instead.\n",
            "  return testingData.append(pd.Series(np.zeros(trainingDataSize-len(testingData), dtype=int)))\n",
            "<ipython-input-8-175c2f4f91ba>:23: FutureWarning: The series.append method is deprecated and will be removed from pandas in a future version. Use pandas.concat instead.\n",
            "  return testingData.append(pd.Series(np.zeros(trainingDataSize-len(testingData), dtype=int)))\n",
            "<ipython-input-8-175c2f4f91ba>:23: FutureWarning: The series.append method is deprecated and will be removed from pandas in a future version. Use pandas.concat instead.\n",
            "  return testingData.append(pd.Series(np.zeros(trainingDataSize-len(testingData), dtype=int)))\n",
            "<ipython-input-8-175c2f4f91ba>:23: FutureWarning: The series.append method is deprecated and will be removed from pandas in a future version. Use pandas.concat instead.\n",
            "  return testingData.append(pd.Series(np.zeros(trainingDataSize-len(testingData), dtype=int)))\n",
            "<ipython-input-8-175c2f4f91ba>:23: FutureWarning: The series.append method is deprecated and will be removed from pandas in a future version. Use pandas.concat instead.\n",
            "  return testingData.append(pd.Series(np.zeros(trainingDataSize-len(testingData), dtype=int)))\n",
            "<ipython-input-8-175c2f4f91ba>:23: FutureWarning: The series.append method is deprecated and will be removed from pandas in a future version. Use pandas.concat instead.\n",
            "  return testingData.append(pd.Series(np.zeros(trainingDataSize-len(testingData), dtype=int)))\n",
            "<ipython-input-8-175c2f4f91ba>:23: FutureWarning: The series.append method is deprecated and will be removed from pandas in a future version. Use pandas.concat instead.\n",
            "  return testingData.append(pd.Series(np.zeros(trainingDataSize-len(testingData), dtype=int)))\n",
            "<ipython-input-8-175c2f4f91ba>:23: FutureWarning: The series.append method is deprecated and will be removed from pandas in a future version. Use pandas.concat instead.\n",
            "  return testingData.append(pd.Series(np.zeros(trainingDataSize-len(testingData), dtype=int)))\n",
            "<ipython-input-8-175c2f4f91ba>:23: FutureWarning: The series.append method is deprecated and will be removed from pandas in a future version. Use pandas.concat instead.\n",
            "  return testingData.append(pd.Series(np.zeros(trainingDataSize-len(testingData), dtype=int)))\n",
            "<ipython-input-8-175c2f4f91ba>:23: FutureWarning: The series.append method is deprecated and will be removed from pandas in a future version. Use pandas.concat instead.\n",
            "  return testingData.append(pd.Series(np.zeros(trainingDataSize-len(testingData), dtype=int)))\n"
          ]
        },
        {
          "output_type": "display_data",
          "data": {
            "text/plain": [
              "<IPython.core.display.HTML object>"
            ],
            "text/html": [
              "\n",
              "<style>\n",
              "    /* Turns off some styling */\n",
              "    progress {\n",
              "        /* gets rid of default border in Firefox and Opera. */\n",
              "        border: none;\n",
              "        /* Needs to be in here for Safari polyfill so background images work as expected. */\n",
              "        background-size: auto;\n",
              "    }\n",
              "    progress:not([value]), progress:not([value])::-webkit-progress-bar {\n",
              "        background: repeating-linear-gradient(45deg, #7e7e7e, #7e7e7e 10px, #5c5c5c 10px, #5c5c5c 20px);\n",
              "    }\n",
              "    .progress-bar-interrupted, .progress-bar-interrupted::-webkit-progress-bar {\n",
              "        background: #F44336;\n",
              "    }\n",
              "</style>\n"
            ]
          },
          "metadata": {}
        },
        {
          "output_type": "display_data",
          "data": {
            "text/plain": [
              "<IPython.core.display.HTML object>"
            ],
            "text/html": [
              "\n",
              "    <div>\n",
              "      <progress value='4000' class='' max='4000' style='width:300px; height:20px; vertical-align: middle;'></progress>\n",
              "      100.00% [4000/4000 00:02&lt;00:00]\n",
              "    </div>\n",
              "    "
            ]
          },
          "metadata": {}
        },
        {
          "output_type": "display_data",
          "data": {
            "text/plain": [
              "<IPython.core.display.HTML object>"
            ],
            "text/html": [
              "\n",
              "<style>\n",
              "    /* Turns off some styling */\n",
              "    progress {\n",
              "        /* gets rid of default border in Firefox and Opera. */\n",
              "        border: none;\n",
              "        /* Needs to be in here for Safari polyfill so background images work as expected. */\n",
              "        background-size: auto;\n",
              "    }\n",
              "    progress:not([value]), progress:not([value])::-webkit-progress-bar {\n",
              "        background: repeating-linear-gradient(45deg, #7e7e7e, #7e7e7e 10px, #5c5c5c 10px, #5c5c5c 20px);\n",
              "    }\n",
              "    .progress-bar-interrupted, .progress-bar-interrupted::-webkit-progress-bar {\n",
              "        background: #F44336;\n",
              "    }\n",
              "</style>\n"
            ]
          },
          "metadata": {}
        },
        {
          "output_type": "display_data",
          "data": {
            "text/plain": [
              "<IPython.core.display.HTML object>"
            ],
            "text/html": [
              "\n",
              "    <div>\n",
              "      <progress value='3000' class='' max='3000' style='width:300px; height:20px; vertical-align: middle;'></progress>\n",
              "      100.00% [3000/3000 02:33&lt;00:00 Sampling chain 0, 0 divergences]\n",
              "    </div>\n",
              "    "
            ]
          },
          "metadata": {}
        },
        {
          "output_type": "display_data",
          "data": {
            "text/plain": [
              "<IPython.core.display.HTML object>"
            ],
            "text/html": [
              "\n",
              "<style>\n",
              "    /* Turns off some styling */\n",
              "    progress {\n",
              "        /* gets rid of default border in Firefox and Opera. */\n",
              "        border: none;\n",
              "        /* Needs to be in here for Safari polyfill so background images work as expected. */\n",
              "        background-size: auto;\n",
              "    }\n",
              "    progress:not([value]), progress:not([value])::-webkit-progress-bar {\n",
              "        background: repeating-linear-gradient(45deg, #7e7e7e, #7e7e7e 10px, #5c5c5c 10px, #5c5c5c 20px);\n",
              "    }\n",
              "    .progress-bar-interrupted, .progress-bar-interrupted::-webkit-progress-bar {\n",
              "        background: #F44336;\n",
              "    }\n",
              "</style>\n"
            ]
          },
          "metadata": {}
        },
        {
          "output_type": "display_data",
          "data": {
            "text/plain": [
              "<IPython.core.display.HTML object>"
            ],
            "text/html": [
              "\n",
              "    <div>\n",
              "      <progress value='3000' class='' max='3000' style='width:300px; height:20px; vertical-align: middle;'></progress>\n",
              "      100.00% [3000/3000 02:37&lt;00:00 Sampling chain 1, 0 divergences]\n",
              "    </div>\n",
              "    "
            ]
          },
          "metadata": {}
        },
        {
          "output_type": "display_data",
          "data": {
            "text/plain": [
              "<IPython.core.display.HTML object>"
            ],
            "text/html": [
              "\n",
              "<style>\n",
              "    /* Turns off some styling */\n",
              "    progress {\n",
              "        /* gets rid of default border in Firefox and Opera. */\n",
              "        border: none;\n",
              "        /* Needs to be in here for Safari polyfill so background images work as expected. */\n",
              "        background-size: auto;\n",
              "    }\n",
              "    progress:not([value]), progress:not([value])::-webkit-progress-bar {\n",
              "        background: repeating-linear-gradient(45deg, #7e7e7e, #7e7e7e 10px, #5c5c5c 10px, #5c5c5c 20px);\n",
              "    }\n",
              "    .progress-bar-interrupted, .progress-bar-interrupted::-webkit-progress-bar {\n",
              "        background: #F44336;\n",
              "    }\n",
              "</style>\n"
            ]
          },
          "metadata": {}
        },
        {
          "output_type": "display_data",
          "data": {
            "text/plain": [
              "<IPython.core.display.HTML object>"
            ],
            "text/html": [
              "\n",
              "    <div>\n",
              "      <progress value='3000' class='' max='3000' style='width:300px; height:20px; vertical-align: middle;'></progress>\n",
              "      100.00% [3000/3000 02:00&lt;00:00 Sampling chain 0, 0 divergences]\n",
              "    </div>\n",
              "    "
            ]
          },
          "metadata": {}
        },
        {
          "output_type": "display_data",
          "data": {
            "text/plain": [
              "<IPython.core.display.HTML object>"
            ],
            "text/html": [
              "\n",
              "<style>\n",
              "    /* Turns off some styling */\n",
              "    progress {\n",
              "        /* gets rid of default border in Firefox and Opera. */\n",
              "        border: none;\n",
              "        /* Needs to be in here for Safari polyfill so background images work as expected. */\n",
              "        background-size: auto;\n",
              "    }\n",
              "    progress:not([value]), progress:not([value])::-webkit-progress-bar {\n",
              "        background: repeating-linear-gradient(45deg, #7e7e7e, #7e7e7e 10px, #5c5c5c 10px, #5c5c5c 20px);\n",
              "    }\n",
              "    .progress-bar-interrupted, .progress-bar-interrupted::-webkit-progress-bar {\n",
              "        background: #F44336;\n",
              "    }\n",
              "</style>\n"
            ]
          },
          "metadata": {}
        },
        {
          "output_type": "display_data",
          "data": {
            "text/plain": [
              "<IPython.core.display.HTML object>"
            ],
            "text/html": [
              "\n",
              "    <div>\n",
              "      <progress value='3000' class='' max='3000' style='width:300px; height:20px; vertical-align: middle;'></progress>\n",
              "      100.00% [3000/3000 02:17&lt;00:00 Sampling chain 1, 0 divergences]\n",
              "    </div>\n",
              "    "
            ]
          },
          "metadata": {}
        },
        {
          "output_type": "stream",
          "name": "stderr",
          "text": [
            "<ipython-input-8-175c2f4f91ba>:23: FutureWarning: The series.append method is deprecated and will be removed from pandas in a future version. Use pandas.concat instead.\n",
            "  return testingData.append(pd.Series(np.zeros(trainingDataSize-len(testingData), dtype=int)))\n",
            "<ipython-input-8-175c2f4f91ba>:23: FutureWarning: The series.append method is deprecated and will be removed from pandas in a future version. Use pandas.concat instead.\n",
            "  return testingData.append(pd.Series(np.zeros(trainingDataSize-len(testingData), dtype=int)))\n",
            "<ipython-input-8-175c2f4f91ba>:23: FutureWarning: The series.append method is deprecated and will be removed from pandas in a future version. Use pandas.concat instead.\n",
            "  return testingData.append(pd.Series(np.zeros(trainingDataSize-len(testingData), dtype=int)))\n",
            "<ipython-input-8-175c2f4f91ba>:23: FutureWarning: The series.append method is deprecated and will be removed from pandas in a future version. Use pandas.concat instead.\n",
            "  return testingData.append(pd.Series(np.zeros(trainingDataSize-len(testingData), dtype=int)))\n",
            "<ipython-input-8-175c2f4f91ba>:23: FutureWarning: The series.append method is deprecated and will be removed from pandas in a future version. Use pandas.concat instead.\n",
            "  return testingData.append(pd.Series(np.zeros(trainingDataSize-len(testingData), dtype=int)))\n",
            "<ipython-input-8-175c2f4f91ba>:23: FutureWarning: The series.append method is deprecated and will be removed from pandas in a future version. Use pandas.concat instead.\n",
            "  return testingData.append(pd.Series(np.zeros(trainingDataSize-len(testingData), dtype=int)))\n",
            "<ipython-input-8-175c2f4f91ba>:23: FutureWarning: The series.append method is deprecated and will be removed from pandas in a future version. Use pandas.concat instead.\n",
            "  return testingData.append(pd.Series(np.zeros(trainingDataSize-len(testingData), dtype=int)))\n",
            "<ipython-input-8-175c2f4f91ba>:23: FutureWarning: The series.append method is deprecated and will be removed from pandas in a future version. Use pandas.concat instead.\n",
            "  return testingData.append(pd.Series(np.zeros(trainingDataSize-len(testingData), dtype=int)))\n",
            "<ipython-input-8-175c2f4f91ba>:23: FutureWarning: The series.append method is deprecated and will be removed from pandas in a future version. Use pandas.concat instead.\n",
            "  return testingData.append(pd.Series(np.zeros(trainingDataSize-len(testingData), dtype=int)))\n",
            "<ipython-input-8-175c2f4f91ba>:23: FutureWarning: The series.append method is deprecated and will be removed from pandas in a future version. Use pandas.concat instead.\n",
            "  return testingData.append(pd.Series(np.zeros(trainingDataSize-len(testingData), dtype=int)))\n",
            "<ipython-input-8-175c2f4f91ba>:23: FutureWarning: The series.append method is deprecated and will be removed from pandas in a future version. Use pandas.concat instead.\n",
            "  return testingData.append(pd.Series(np.zeros(trainingDataSize-len(testingData), dtype=int)))\n",
            "<ipython-input-8-175c2f4f91ba>:23: FutureWarning: The series.append method is deprecated and will be removed from pandas in a future version. Use pandas.concat instead.\n",
            "  return testingData.append(pd.Series(np.zeros(trainingDataSize-len(testingData), dtype=int)))\n"
          ]
        },
        {
          "output_type": "display_data",
          "data": {
            "text/plain": [
              "<IPython.core.display.HTML object>"
            ],
            "text/html": [
              "\n",
              "<style>\n",
              "    /* Turns off some styling */\n",
              "    progress {\n",
              "        /* gets rid of default border in Firefox and Opera. */\n",
              "        border: none;\n",
              "        /* Needs to be in here for Safari polyfill so background images work as expected. */\n",
              "        background-size: auto;\n",
              "    }\n",
              "    progress:not([value]), progress:not([value])::-webkit-progress-bar {\n",
              "        background: repeating-linear-gradient(45deg, #7e7e7e, #7e7e7e 10px, #5c5c5c 10px, #5c5c5c 20px);\n",
              "    }\n",
              "    .progress-bar-interrupted, .progress-bar-interrupted::-webkit-progress-bar {\n",
              "        background: #F44336;\n",
              "    }\n",
              "</style>\n"
            ]
          },
          "metadata": {}
        },
        {
          "output_type": "display_data",
          "data": {
            "text/plain": [
              "<IPython.core.display.HTML object>"
            ],
            "text/html": [
              "\n",
              "    <div>\n",
              "      <progress value='4000' class='' max='4000' style='width:300px; height:20px; vertical-align: middle;'></progress>\n",
              "      100.00% [4000/4000 00:02&lt;00:00]\n",
              "    </div>\n",
              "    "
            ]
          },
          "metadata": {}
        },
        {
          "output_type": "display_data",
          "data": {
            "text/plain": [
              "<IPython.core.display.HTML object>"
            ],
            "text/html": [
              "\n",
              "<style>\n",
              "    /* Turns off some styling */\n",
              "    progress {\n",
              "        /* gets rid of default border in Firefox and Opera. */\n",
              "        border: none;\n",
              "        /* Needs to be in here for Safari polyfill so background images work as expected. */\n",
              "        background-size: auto;\n",
              "    }\n",
              "    progress:not([value]), progress:not([value])::-webkit-progress-bar {\n",
              "        background: repeating-linear-gradient(45deg, #7e7e7e, #7e7e7e 10px, #5c5c5c 10px, #5c5c5c 20px);\n",
              "    }\n",
              "    .progress-bar-interrupted, .progress-bar-interrupted::-webkit-progress-bar {\n",
              "        background: #F44336;\n",
              "    }\n",
              "</style>\n"
            ]
          },
          "metadata": {}
        },
        {
          "output_type": "display_data",
          "data": {
            "text/plain": [
              "<IPython.core.display.HTML object>"
            ],
            "text/html": [
              "\n",
              "    <div>\n",
              "      <progress value='3000' class='' max='3000' style='width:300px; height:20px; vertical-align: middle;'></progress>\n",
              "      100.00% [3000/3000 02:32&lt;00:00 Sampling chain 0, 0 divergences]\n",
              "    </div>\n",
              "    "
            ]
          },
          "metadata": {}
        },
        {
          "output_type": "display_data",
          "data": {
            "text/plain": [
              "<IPython.core.display.HTML object>"
            ],
            "text/html": [
              "\n",
              "<style>\n",
              "    /* Turns off some styling */\n",
              "    progress {\n",
              "        /* gets rid of default border in Firefox and Opera. */\n",
              "        border: none;\n",
              "        /* Needs to be in here for Safari polyfill so background images work as expected. */\n",
              "        background-size: auto;\n",
              "    }\n",
              "    progress:not([value]), progress:not([value])::-webkit-progress-bar {\n",
              "        background: repeating-linear-gradient(45deg, #7e7e7e, #7e7e7e 10px, #5c5c5c 10px, #5c5c5c 20px);\n",
              "    }\n",
              "    .progress-bar-interrupted, .progress-bar-interrupted::-webkit-progress-bar {\n",
              "        background: #F44336;\n",
              "    }\n",
              "</style>\n"
            ]
          },
          "metadata": {}
        },
        {
          "output_type": "display_data",
          "data": {
            "text/plain": [
              "<IPython.core.display.HTML object>"
            ],
            "text/html": [
              "\n",
              "    <div>\n",
              "      <progress value='3000' class='' max='3000' style='width:300px; height:20px; vertical-align: middle;'></progress>\n",
              "      100.00% [3000/3000 02:18&lt;00:00 Sampling chain 1, 0 divergences]\n",
              "    </div>\n",
              "    "
            ]
          },
          "metadata": {}
        },
        {
          "output_type": "display_data",
          "data": {
            "text/plain": [
              "<IPython.core.display.HTML object>"
            ],
            "text/html": [
              "\n",
              "<style>\n",
              "    /* Turns off some styling */\n",
              "    progress {\n",
              "        /* gets rid of default border in Firefox and Opera. */\n",
              "        border: none;\n",
              "        /* Needs to be in here for Safari polyfill so background images work as expected. */\n",
              "        background-size: auto;\n",
              "    }\n",
              "    progress:not([value]), progress:not([value])::-webkit-progress-bar {\n",
              "        background: repeating-linear-gradient(45deg, #7e7e7e, #7e7e7e 10px, #5c5c5c 10px, #5c5c5c 20px);\n",
              "    }\n",
              "    .progress-bar-interrupted, .progress-bar-interrupted::-webkit-progress-bar {\n",
              "        background: #F44336;\n",
              "    }\n",
              "</style>\n"
            ]
          },
          "metadata": {}
        },
        {
          "output_type": "display_data",
          "data": {
            "text/plain": [
              "<IPython.core.display.HTML object>"
            ],
            "text/html": [
              "\n",
              "    <div>\n",
              "      <progress value='3000' class='' max='3000' style='width:300px; height:20px; vertical-align: middle;'></progress>\n",
              "      100.00% [3000/3000 02:03&lt;00:00 Sampling chain 0, 0 divergences]\n",
              "    </div>\n",
              "    "
            ]
          },
          "metadata": {}
        },
        {
          "output_type": "display_data",
          "data": {
            "text/plain": [
              "<IPython.core.display.HTML object>"
            ],
            "text/html": [
              "\n",
              "<style>\n",
              "    /* Turns off some styling */\n",
              "    progress {\n",
              "        /* gets rid of default border in Firefox and Opera. */\n",
              "        border: none;\n",
              "        /* Needs to be in here for Safari polyfill so background images work as expected. */\n",
              "        background-size: auto;\n",
              "    }\n",
              "    progress:not([value]), progress:not([value])::-webkit-progress-bar {\n",
              "        background: repeating-linear-gradient(45deg, #7e7e7e, #7e7e7e 10px, #5c5c5c 10px, #5c5c5c 20px);\n",
              "    }\n",
              "    .progress-bar-interrupted, .progress-bar-interrupted::-webkit-progress-bar {\n",
              "        background: #F44336;\n",
              "    }\n",
              "</style>\n"
            ]
          },
          "metadata": {}
        },
        {
          "output_type": "display_data",
          "data": {
            "text/plain": [
              "<IPython.core.display.HTML object>"
            ],
            "text/html": [
              "\n",
              "    <div>\n",
              "      <progress value='3000' class='' max='3000' style='width:300px; height:20px; vertical-align: middle;'></progress>\n",
              "      100.00% [3000/3000 02:01&lt;00:00 Sampling chain 1, 0 divergences]\n",
              "    </div>\n",
              "    "
            ]
          },
          "metadata": {}
        },
        {
          "output_type": "stream",
          "name": "stderr",
          "text": [
            "<ipython-input-8-175c2f4f91ba>:23: FutureWarning: The series.append method is deprecated and will be removed from pandas in a future version. Use pandas.concat instead.\n",
            "  return testingData.append(pd.Series(np.zeros(trainingDataSize-len(testingData), dtype=int)))\n",
            "<ipython-input-8-175c2f4f91ba>:23: FutureWarning: The series.append method is deprecated and will be removed from pandas in a future version. Use pandas.concat instead.\n",
            "  return testingData.append(pd.Series(np.zeros(trainingDataSize-len(testingData), dtype=int)))\n",
            "<ipython-input-8-175c2f4f91ba>:23: FutureWarning: The series.append method is deprecated and will be removed from pandas in a future version. Use pandas.concat instead.\n",
            "  return testingData.append(pd.Series(np.zeros(trainingDataSize-len(testingData), dtype=int)))\n",
            "<ipython-input-8-175c2f4f91ba>:23: FutureWarning: The series.append method is deprecated and will be removed from pandas in a future version. Use pandas.concat instead.\n",
            "  return testingData.append(pd.Series(np.zeros(trainingDataSize-len(testingData), dtype=int)))\n",
            "<ipython-input-8-175c2f4f91ba>:23: FutureWarning: The series.append method is deprecated and will be removed from pandas in a future version. Use pandas.concat instead.\n",
            "  return testingData.append(pd.Series(np.zeros(trainingDataSize-len(testingData), dtype=int)))\n",
            "<ipython-input-8-175c2f4f91ba>:23: FutureWarning: The series.append method is deprecated and will be removed from pandas in a future version. Use pandas.concat instead.\n",
            "  return testingData.append(pd.Series(np.zeros(trainingDataSize-len(testingData), dtype=int)))\n",
            "<ipython-input-8-175c2f4f91ba>:23: FutureWarning: The series.append method is deprecated and will be removed from pandas in a future version. Use pandas.concat instead.\n",
            "  return testingData.append(pd.Series(np.zeros(trainingDataSize-len(testingData), dtype=int)))\n",
            "<ipython-input-8-175c2f4f91ba>:23: FutureWarning: The series.append method is deprecated and will be removed from pandas in a future version. Use pandas.concat instead.\n",
            "  return testingData.append(pd.Series(np.zeros(trainingDataSize-len(testingData), dtype=int)))\n",
            "<ipython-input-8-175c2f4f91ba>:23: FutureWarning: The series.append method is deprecated and will be removed from pandas in a future version. Use pandas.concat instead.\n",
            "  return testingData.append(pd.Series(np.zeros(trainingDataSize-len(testingData), dtype=int)))\n",
            "<ipython-input-8-175c2f4f91ba>:23: FutureWarning: The series.append method is deprecated and will be removed from pandas in a future version. Use pandas.concat instead.\n",
            "  return testingData.append(pd.Series(np.zeros(trainingDataSize-len(testingData), dtype=int)))\n",
            "<ipython-input-8-175c2f4f91ba>:23: FutureWarning: The series.append method is deprecated and will be removed from pandas in a future version. Use pandas.concat instead.\n",
            "  return testingData.append(pd.Series(np.zeros(trainingDataSize-len(testingData), dtype=int)))\n",
            "<ipython-input-8-175c2f4f91ba>:23: FutureWarning: The series.append method is deprecated and will be removed from pandas in a future version. Use pandas.concat instead.\n",
            "  return testingData.append(pd.Series(np.zeros(trainingDataSize-len(testingData), dtype=int)))\n"
          ]
        },
        {
          "output_type": "display_data",
          "data": {
            "text/plain": [
              "<IPython.core.display.HTML object>"
            ],
            "text/html": [
              "\n",
              "<style>\n",
              "    /* Turns off some styling */\n",
              "    progress {\n",
              "        /* gets rid of default border in Firefox and Opera. */\n",
              "        border: none;\n",
              "        /* Needs to be in here for Safari polyfill so background images work as expected. */\n",
              "        background-size: auto;\n",
              "    }\n",
              "    progress:not([value]), progress:not([value])::-webkit-progress-bar {\n",
              "        background: repeating-linear-gradient(45deg, #7e7e7e, #7e7e7e 10px, #5c5c5c 10px, #5c5c5c 20px);\n",
              "    }\n",
              "    .progress-bar-interrupted, .progress-bar-interrupted::-webkit-progress-bar {\n",
              "        background: #F44336;\n",
              "    }\n",
              "</style>\n"
            ]
          },
          "metadata": {}
        },
        {
          "output_type": "display_data",
          "data": {
            "text/plain": [
              "<IPython.core.display.HTML object>"
            ],
            "text/html": [
              "\n",
              "    <div>\n",
              "      <progress value='4000' class='' max='4000' style='width:300px; height:20px; vertical-align: middle;'></progress>\n",
              "      100.00% [4000/4000 00:02&lt;00:00]\n",
              "    </div>\n",
              "    "
            ]
          },
          "metadata": {}
        },
        {
          "output_type": "display_data",
          "data": {
            "text/plain": [
              "<IPython.core.display.HTML object>"
            ],
            "text/html": [
              "\n",
              "<style>\n",
              "    /* Turns off some styling */\n",
              "    progress {\n",
              "        /* gets rid of default border in Firefox and Opera. */\n",
              "        border: none;\n",
              "        /* Needs to be in here for Safari polyfill so background images work as expected. */\n",
              "        background-size: auto;\n",
              "    }\n",
              "    progress:not([value]), progress:not([value])::-webkit-progress-bar {\n",
              "        background: repeating-linear-gradient(45deg, #7e7e7e, #7e7e7e 10px, #5c5c5c 10px, #5c5c5c 20px);\n",
              "    }\n",
              "    .progress-bar-interrupted, .progress-bar-interrupted::-webkit-progress-bar {\n",
              "        background: #F44336;\n",
              "    }\n",
              "</style>\n"
            ]
          },
          "metadata": {}
        },
        {
          "output_type": "display_data",
          "data": {
            "text/plain": [
              "<IPython.core.display.HTML object>"
            ],
            "text/html": [
              "\n",
              "    <div>\n",
              "      <progress value='3000' class='' max='3000' style='width:300px; height:20px; vertical-align: middle;'></progress>\n",
              "      100.00% [3000/3000 02:25&lt;00:00 Sampling chain 0, 0 divergences]\n",
              "    </div>\n",
              "    "
            ]
          },
          "metadata": {}
        },
        {
          "output_type": "display_data",
          "data": {
            "text/plain": [
              "<IPython.core.display.HTML object>"
            ],
            "text/html": [
              "\n",
              "<style>\n",
              "    /* Turns off some styling */\n",
              "    progress {\n",
              "        /* gets rid of default border in Firefox and Opera. */\n",
              "        border: none;\n",
              "        /* Needs to be in here for Safari polyfill so background images work as expected. */\n",
              "        background-size: auto;\n",
              "    }\n",
              "    progress:not([value]), progress:not([value])::-webkit-progress-bar {\n",
              "        background: repeating-linear-gradient(45deg, #7e7e7e, #7e7e7e 10px, #5c5c5c 10px, #5c5c5c 20px);\n",
              "    }\n",
              "    .progress-bar-interrupted, .progress-bar-interrupted::-webkit-progress-bar {\n",
              "        background: #F44336;\n",
              "    }\n",
              "</style>\n"
            ]
          },
          "metadata": {}
        },
        {
          "output_type": "display_data",
          "data": {
            "text/plain": [
              "<IPython.core.display.HTML object>"
            ],
            "text/html": [
              "\n",
              "    <div>\n",
              "      <progress value='3000' class='' max='3000' style='width:300px; height:20px; vertical-align: middle;'></progress>\n",
              "      100.00% [3000/3000 02:31&lt;00:00 Sampling chain 1, 0 divergences]\n",
              "    </div>\n",
              "    "
            ]
          },
          "metadata": {}
        },
        {
          "output_type": "display_data",
          "data": {
            "text/plain": [
              "<IPython.core.display.HTML object>"
            ],
            "text/html": [
              "\n",
              "<style>\n",
              "    /* Turns off some styling */\n",
              "    progress {\n",
              "        /* gets rid of default border in Firefox and Opera. */\n",
              "        border: none;\n",
              "        /* Needs to be in here for Safari polyfill so background images work as expected. */\n",
              "        background-size: auto;\n",
              "    }\n",
              "    progress:not([value]), progress:not([value])::-webkit-progress-bar {\n",
              "        background: repeating-linear-gradient(45deg, #7e7e7e, #7e7e7e 10px, #5c5c5c 10px, #5c5c5c 20px);\n",
              "    }\n",
              "    .progress-bar-interrupted, .progress-bar-interrupted::-webkit-progress-bar {\n",
              "        background: #F44336;\n",
              "    }\n",
              "</style>\n"
            ]
          },
          "metadata": {}
        },
        {
          "output_type": "display_data",
          "data": {
            "text/plain": [
              "<IPython.core.display.HTML object>"
            ],
            "text/html": [
              "\n",
              "    <div>\n",
              "      <progress value='3000' class='' max='3000' style='width:300px; height:20px; vertical-align: middle;'></progress>\n",
              "      100.00% [3000/3000 03:05&lt;00:00 Sampling chain 0, 0 divergences]\n",
              "    </div>\n",
              "    "
            ]
          },
          "metadata": {}
        },
        {
          "output_type": "display_data",
          "data": {
            "text/plain": [
              "<IPython.core.display.HTML object>"
            ],
            "text/html": [
              "\n",
              "<style>\n",
              "    /* Turns off some styling */\n",
              "    progress {\n",
              "        /* gets rid of default border in Firefox and Opera. */\n",
              "        border: none;\n",
              "        /* Needs to be in here for Safari polyfill so background images work as expected. */\n",
              "        background-size: auto;\n",
              "    }\n",
              "    progress:not([value]), progress:not([value])::-webkit-progress-bar {\n",
              "        background: repeating-linear-gradient(45deg, #7e7e7e, #7e7e7e 10px, #5c5c5c 10px, #5c5c5c 20px);\n",
              "    }\n",
              "    .progress-bar-interrupted, .progress-bar-interrupted::-webkit-progress-bar {\n",
              "        background: #F44336;\n",
              "    }\n",
              "</style>\n"
            ]
          },
          "metadata": {}
        },
        {
          "output_type": "display_data",
          "data": {
            "text/plain": [
              "<IPython.core.display.HTML object>"
            ],
            "text/html": [
              "\n",
              "    <div>\n",
              "      <progress value='3000' class='' max='3000' style='width:300px; height:20px; vertical-align: middle;'></progress>\n",
              "      100.00% [3000/3000 03:02&lt;00:00 Sampling chain 1, 0 divergences]\n",
              "    </div>\n",
              "    "
            ]
          },
          "metadata": {}
        },
        {
          "output_type": "stream",
          "name": "stderr",
          "text": [
            "<ipython-input-8-175c2f4f91ba>:23: FutureWarning: The series.append method is deprecated and will be removed from pandas in a future version. Use pandas.concat instead.\n",
            "  return testingData.append(pd.Series(np.zeros(trainingDataSize-len(testingData), dtype=int)))\n",
            "<ipython-input-8-175c2f4f91ba>:23: FutureWarning: The series.append method is deprecated and will be removed from pandas in a future version. Use pandas.concat instead.\n",
            "  return testingData.append(pd.Series(np.zeros(trainingDataSize-len(testingData), dtype=int)))\n",
            "<ipython-input-8-175c2f4f91ba>:23: FutureWarning: The series.append method is deprecated and will be removed from pandas in a future version. Use pandas.concat instead.\n",
            "  return testingData.append(pd.Series(np.zeros(trainingDataSize-len(testingData), dtype=int)))\n",
            "<ipython-input-8-175c2f4f91ba>:23: FutureWarning: The series.append method is deprecated and will be removed from pandas in a future version. Use pandas.concat instead.\n",
            "  return testingData.append(pd.Series(np.zeros(trainingDataSize-len(testingData), dtype=int)))\n",
            "<ipython-input-8-175c2f4f91ba>:23: FutureWarning: The series.append method is deprecated and will be removed from pandas in a future version. Use pandas.concat instead.\n",
            "  return testingData.append(pd.Series(np.zeros(trainingDataSize-len(testingData), dtype=int)))\n",
            "<ipython-input-8-175c2f4f91ba>:23: FutureWarning: The series.append method is deprecated and will be removed from pandas in a future version. Use pandas.concat instead.\n",
            "  return testingData.append(pd.Series(np.zeros(trainingDataSize-len(testingData), dtype=int)))\n",
            "<ipython-input-8-175c2f4f91ba>:23: FutureWarning: The series.append method is deprecated and will be removed from pandas in a future version. Use pandas.concat instead.\n",
            "  return testingData.append(pd.Series(np.zeros(trainingDataSize-len(testingData), dtype=int)))\n",
            "<ipython-input-8-175c2f4f91ba>:23: FutureWarning: The series.append method is deprecated and will be removed from pandas in a future version. Use pandas.concat instead.\n",
            "  return testingData.append(pd.Series(np.zeros(trainingDataSize-len(testingData), dtype=int)))\n",
            "<ipython-input-8-175c2f4f91ba>:23: FutureWarning: The series.append method is deprecated and will be removed from pandas in a future version. Use pandas.concat instead.\n",
            "  return testingData.append(pd.Series(np.zeros(trainingDataSize-len(testingData), dtype=int)))\n",
            "<ipython-input-8-175c2f4f91ba>:23: FutureWarning: The series.append method is deprecated and will be removed from pandas in a future version. Use pandas.concat instead.\n",
            "  return testingData.append(pd.Series(np.zeros(trainingDataSize-len(testingData), dtype=int)))\n",
            "<ipython-input-8-175c2f4f91ba>:23: FutureWarning: The series.append method is deprecated and will be removed from pandas in a future version. Use pandas.concat instead.\n",
            "  return testingData.append(pd.Series(np.zeros(trainingDataSize-len(testingData), dtype=int)))\n",
            "<ipython-input-8-175c2f4f91ba>:23: FutureWarning: The series.append method is deprecated and will be removed from pandas in a future version. Use pandas.concat instead.\n",
            "  return testingData.append(pd.Series(np.zeros(trainingDataSize-len(testingData), dtype=int)))\n"
          ]
        },
        {
          "output_type": "display_data",
          "data": {
            "text/plain": [
              "<IPython.core.display.HTML object>"
            ],
            "text/html": [
              "\n",
              "<style>\n",
              "    /* Turns off some styling */\n",
              "    progress {\n",
              "        /* gets rid of default border in Firefox and Opera. */\n",
              "        border: none;\n",
              "        /* Needs to be in here for Safari polyfill so background images work as expected. */\n",
              "        background-size: auto;\n",
              "    }\n",
              "    progress:not([value]), progress:not([value])::-webkit-progress-bar {\n",
              "        background: repeating-linear-gradient(45deg, #7e7e7e, #7e7e7e 10px, #5c5c5c 10px, #5c5c5c 20px);\n",
              "    }\n",
              "    .progress-bar-interrupted, .progress-bar-interrupted::-webkit-progress-bar {\n",
              "        background: #F44336;\n",
              "    }\n",
              "</style>\n"
            ]
          },
          "metadata": {}
        },
        {
          "output_type": "display_data",
          "data": {
            "text/plain": [
              "<IPython.core.display.HTML object>"
            ],
            "text/html": [
              "\n",
              "    <div>\n",
              "      <progress value='4000' class='' max='4000' style='width:300px; height:20px; vertical-align: middle;'></progress>\n",
              "      100.00% [4000/4000 00:02&lt;00:00]\n",
              "    </div>\n",
              "    "
            ]
          },
          "metadata": {}
        },
        {
          "output_type": "display_data",
          "data": {
            "text/plain": [
              "<IPython.core.display.HTML object>"
            ],
            "text/html": [
              "\n",
              "<style>\n",
              "    /* Turns off some styling */\n",
              "    progress {\n",
              "        /* gets rid of default border in Firefox and Opera. */\n",
              "        border: none;\n",
              "        /* Needs to be in here for Safari polyfill so background images work as expected. */\n",
              "        background-size: auto;\n",
              "    }\n",
              "    progress:not([value]), progress:not([value])::-webkit-progress-bar {\n",
              "        background: repeating-linear-gradient(45deg, #7e7e7e, #7e7e7e 10px, #5c5c5c 10px, #5c5c5c 20px);\n",
              "    }\n",
              "    .progress-bar-interrupted, .progress-bar-interrupted::-webkit-progress-bar {\n",
              "        background: #F44336;\n",
              "    }\n",
              "</style>\n"
            ]
          },
          "metadata": {}
        },
        {
          "output_type": "display_data",
          "data": {
            "text/plain": [
              "<IPython.core.display.HTML object>"
            ],
            "text/html": [
              "\n",
              "    <div>\n",
              "      <progress value='3000' class='' max='3000' style='width:300px; height:20px; vertical-align: middle;'></progress>\n",
              "      100.00% [3000/3000 03:17&lt;00:00 Sampling chain 0, 0 divergences]\n",
              "    </div>\n",
              "    "
            ]
          },
          "metadata": {}
        },
        {
          "output_type": "display_data",
          "data": {
            "text/plain": [
              "<IPython.core.display.HTML object>"
            ],
            "text/html": [
              "\n",
              "<style>\n",
              "    /* Turns off some styling */\n",
              "    progress {\n",
              "        /* gets rid of default border in Firefox and Opera. */\n",
              "        border: none;\n",
              "        /* Needs to be in here for Safari polyfill so background images work as expected. */\n",
              "        background-size: auto;\n",
              "    }\n",
              "    progress:not([value]), progress:not([value])::-webkit-progress-bar {\n",
              "        background: repeating-linear-gradient(45deg, #7e7e7e, #7e7e7e 10px, #5c5c5c 10px, #5c5c5c 20px);\n",
              "    }\n",
              "    .progress-bar-interrupted, .progress-bar-interrupted::-webkit-progress-bar {\n",
              "        background: #F44336;\n",
              "    }\n",
              "</style>\n"
            ]
          },
          "metadata": {}
        },
        {
          "output_type": "display_data",
          "data": {
            "text/plain": [
              "<IPython.core.display.HTML object>"
            ],
            "text/html": [
              "\n",
              "    <div>\n",
              "      <progress value='3000' class='' max='3000' style='width:300px; height:20px; vertical-align: middle;'></progress>\n",
              "      100.00% [3000/3000 03:23&lt;00:00 Sampling chain 1, 0 divergences]\n",
              "    </div>\n",
              "    "
            ]
          },
          "metadata": {}
        },
        {
          "output_type": "display_data",
          "data": {
            "text/plain": [
              "<IPython.core.display.HTML object>"
            ],
            "text/html": [
              "\n",
              "<style>\n",
              "    /* Turns off some styling */\n",
              "    progress {\n",
              "        /* gets rid of default border in Firefox and Opera. */\n",
              "        border: none;\n",
              "        /* Needs to be in here for Safari polyfill so background images work as expected. */\n",
              "        background-size: auto;\n",
              "    }\n",
              "    progress:not([value]), progress:not([value])::-webkit-progress-bar {\n",
              "        background: repeating-linear-gradient(45deg, #7e7e7e, #7e7e7e 10px, #5c5c5c 10px, #5c5c5c 20px);\n",
              "    }\n",
              "    .progress-bar-interrupted, .progress-bar-interrupted::-webkit-progress-bar {\n",
              "        background: #F44336;\n",
              "    }\n",
              "</style>\n"
            ]
          },
          "metadata": {}
        },
        {
          "output_type": "display_data",
          "data": {
            "text/plain": [
              "<IPython.core.display.HTML object>"
            ],
            "text/html": [
              "\n",
              "    <div>\n",
              "      <progress value='3000' class='' max='3000' style='width:300px; height:20px; vertical-align: middle;'></progress>\n",
              "      100.00% [3000/3000 03:00&lt;00:00 Sampling chain 0, 0 divergences]\n",
              "    </div>\n",
              "    "
            ]
          },
          "metadata": {}
        },
        {
          "output_type": "display_data",
          "data": {
            "text/plain": [
              "<IPython.core.display.HTML object>"
            ],
            "text/html": [
              "\n",
              "<style>\n",
              "    /* Turns off some styling */\n",
              "    progress {\n",
              "        /* gets rid of default border in Firefox and Opera. */\n",
              "        border: none;\n",
              "        /* Needs to be in here for Safari polyfill so background images work as expected. */\n",
              "        background-size: auto;\n",
              "    }\n",
              "    progress:not([value]), progress:not([value])::-webkit-progress-bar {\n",
              "        background: repeating-linear-gradient(45deg, #7e7e7e, #7e7e7e 10px, #5c5c5c 10px, #5c5c5c 20px);\n",
              "    }\n",
              "    .progress-bar-interrupted, .progress-bar-interrupted::-webkit-progress-bar {\n",
              "        background: #F44336;\n",
              "    }\n",
              "</style>\n"
            ]
          },
          "metadata": {}
        },
        {
          "output_type": "display_data",
          "data": {
            "text/plain": [
              "<IPython.core.display.HTML object>"
            ],
            "text/html": [
              "\n",
              "    <div>\n",
              "      <progress value='3000' class='' max='3000' style='width:300px; height:20px; vertical-align: middle;'></progress>\n",
              "      100.00% [3000/3000 02:39&lt;00:00 Sampling chain 1, 0 divergences]\n",
              "    </div>\n",
              "    "
            ]
          },
          "metadata": {}
        },
        {
          "output_type": "stream",
          "name": "stderr",
          "text": [
            "<ipython-input-8-175c2f4f91ba>:23: FutureWarning: The series.append method is deprecated and will be removed from pandas in a future version. Use pandas.concat instead.\n",
            "  return testingData.append(pd.Series(np.zeros(trainingDataSize-len(testingData), dtype=int)))\n",
            "<ipython-input-8-175c2f4f91ba>:23: FutureWarning: The series.append method is deprecated and will be removed from pandas in a future version. Use pandas.concat instead.\n",
            "  return testingData.append(pd.Series(np.zeros(trainingDataSize-len(testingData), dtype=int)))\n",
            "<ipython-input-8-175c2f4f91ba>:23: FutureWarning: The series.append method is deprecated and will be removed from pandas in a future version. Use pandas.concat instead.\n",
            "  return testingData.append(pd.Series(np.zeros(trainingDataSize-len(testingData), dtype=int)))\n",
            "<ipython-input-8-175c2f4f91ba>:23: FutureWarning: The series.append method is deprecated and will be removed from pandas in a future version. Use pandas.concat instead.\n",
            "  return testingData.append(pd.Series(np.zeros(trainingDataSize-len(testingData), dtype=int)))\n",
            "<ipython-input-8-175c2f4f91ba>:23: FutureWarning: The series.append method is deprecated and will be removed from pandas in a future version. Use pandas.concat instead.\n",
            "  return testingData.append(pd.Series(np.zeros(trainingDataSize-len(testingData), dtype=int)))\n",
            "<ipython-input-8-175c2f4f91ba>:23: FutureWarning: The series.append method is deprecated and will be removed from pandas in a future version. Use pandas.concat instead.\n",
            "  return testingData.append(pd.Series(np.zeros(trainingDataSize-len(testingData), dtype=int)))\n",
            "<ipython-input-8-175c2f4f91ba>:23: FutureWarning: The series.append method is deprecated and will be removed from pandas in a future version. Use pandas.concat instead.\n",
            "  return testingData.append(pd.Series(np.zeros(trainingDataSize-len(testingData), dtype=int)))\n",
            "<ipython-input-8-175c2f4f91ba>:23: FutureWarning: The series.append method is deprecated and will be removed from pandas in a future version. Use pandas.concat instead.\n",
            "  return testingData.append(pd.Series(np.zeros(trainingDataSize-len(testingData), dtype=int)))\n",
            "<ipython-input-8-175c2f4f91ba>:23: FutureWarning: The series.append method is deprecated and will be removed from pandas in a future version. Use pandas.concat instead.\n",
            "  return testingData.append(pd.Series(np.zeros(trainingDataSize-len(testingData), dtype=int)))\n",
            "<ipython-input-8-175c2f4f91ba>:23: FutureWarning: The series.append method is deprecated and will be removed from pandas in a future version. Use pandas.concat instead.\n",
            "  return testingData.append(pd.Series(np.zeros(trainingDataSize-len(testingData), dtype=int)))\n",
            "<ipython-input-8-175c2f4f91ba>:23: FutureWarning: The series.append method is deprecated and will be removed from pandas in a future version. Use pandas.concat instead.\n",
            "  return testingData.append(pd.Series(np.zeros(trainingDataSize-len(testingData), dtype=int)))\n",
            "<ipython-input-8-175c2f4f91ba>:23: FutureWarning: The series.append method is deprecated and will be removed from pandas in a future version. Use pandas.concat instead.\n",
            "  return testingData.append(pd.Series(np.zeros(trainingDataSize-len(testingData), dtype=int)))\n"
          ]
        },
        {
          "output_type": "display_data",
          "data": {
            "text/plain": [
              "<IPython.core.display.HTML object>"
            ],
            "text/html": [
              "\n",
              "<style>\n",
              "    /* Turns off some styling */\n",
              "    progress {\n",
              "        /* gets rid of default border in Firefox and Opera. */\n",
              "        border: none;\n",
              "        /* Needs to be in here for Safari polyfill so background images work as expected. */\n",
              "        background-size: auto;\n",
              "    }\n",
              "    progress:not([value]), progress:not([value])::-webkit-progress-bar {\n",
              "        background: repeating-linear-gradient(45deg, #7e7e7e, #7e7e7e 10px, #5c5c5c 10px, #5c5c5c 20px);\n",
              "    }\n",
              "    .progress-bar-interrupted, .progress-bar-interrupted::-webkit-progress-bar {\n",
              "        background: #F44336;\n",
              "    }\n",
              "</style>\n"
            ]
          },
          "metadata": {}
        },
        {
          "output_type": "display_data",
          "data": {
            "text/plain": [
              "<IPython.core.display.HTML object>"
            ],
            "text/html": [
              "\n",
              "    <div>\n",
              "      <progress value='4000' class='' max='4000' style='width:300px; height:20px; vertical-align: middle;'></progress>\n",
              "      100.00% [4000/4000 00:02&lt;00:00]\n",
              "    </div>\n",
              "    "
            ]
          },
          "metadata": {}
        },
        {
          "output_type": "display_data",
          "data": {
            "text/plain": [
              "<IPython.core.display.HTML object>"
            ],
            "text/html": [
              "\n",
              "<style>\n",
              "    /* Turns off some styling */\n",
              "    progress {\n",
              "        /* gets rid of default border in Firefox and Opera. */\n",
              "        border: none;\n",
              "        /* Needs to be in here for Safari polyfill so background images work as expected. */\n",
              "        background-size: auto;\n",
              "    }\n",
              "    progress:not([value]), progress:not([value])::-webkit-progress-bar {\n",
              "        background: repeating-linear-gradient(45deg, #7e7e7e, #7e7e7e 10px, #5c5c5c 10px, #5c5c5c 20px);\n",
              "    }\n",
              "    .progress-bar-interrupted, .progress-bar-interrupted::-webkit-progress-bar {\n",
              "        background: #F44336;\n",
              "    }\n",
              "</style>\n"
            ]
          },
          "metadata": {}
        },
        {
          "output_type": "display_data",
          "data": {
            "text/plain": [
              "<IPython.core.display.HTML object>"
            ],
            "text/html": [
              "\n",
              "    <div>\n",
              "      <progress value='3000' class='' max='3000' style='width:300px; height:20px; vertical-align: middle;'></progress>\n",
              "      100.00% [3000/3000 02:53&lt;00:00 Sampling chain 0, 0 divergences]\n",
              "    </div>\n",
              "    "
            ]
          },
          "metadata": {}
        },
        {
          "output_type": "display_data",
          "data": {
            "text/plain": [
              "<IPython.core.display.HTML object>"
            ],
            "text/html": [
              "\n",
              "<style>\n",
              "    /* Turns off some styling */\n",
              "    progress {\n",
              "        /* gets rid of default border in Firefox and Opera. */\n",
              "        border: none;\n",
              "        /* Needs to be in here for Safari polyfill so background images work as expected. */\n",
              "        background-size: auto;\n",
              "    }\n",
              "    progress:not([value]), progress:not([value])::-webkit-progress-bar {\n",
              "        background: repeating-linear-gradient(45deg, #7e7e7e, #7e7e7e 10px, #5c5c5c 10px, #5c5c5c 20px);\n",
              "    }\n",
              "    .progress-bar-interrupted, .progress-bar-interrupted::-webkit-progress-bar {\n",
              "        background: #F44336;\n",
              "    }\n",
              "</style>\n"
            ]
          },
          "metadata": {}
        },
        {
          "output_type": "display_data",
          "data": {
            "text/plain": [
              "<IPython.core.display.HTML object>"
            ],
            "text/html": [
              "\n",
              "    <div>\n",
              "      <progress value='3000' class='' max='3000' style='width:300px; height:20px; vertical-align: middle;'></progress>\n",
              "      100.00% [3000/3000 03:20&lt;00:00 Sampling chain 1, 0 divergences]\n",
              "    </div>\n",
              "    "
            ]
          },
          "metadata": {}
        },
        {
          "output_type": "display_data",
          "data": {
            "text/plain": [
              "<IPython.core.display.HTML object>"
            ],
            "text/html": [
              "\n",
              "<style>\n",
              "    /* Turns off some styling */\n",
              "    progress {\n",
              "        /* gets rid of default border in Firefox and Opera. */\n",
              "        border: none;\n",
              "        /* Needs to be in here for Safari polyfill so background images work as expected. */\n",
              "        background-size: auto;\n",
              "    }\n",
              "    progress:not([value]), progress:not([value])::-webkit-progress-bar {\n",
              "        background: repeating-linear-gradient(45deg, #7e7e7e, #7e7e7e 10px, #5c5c5c 10px, #5c5c5c 20px);\n",
              "    }\n",
              "    .progress-bar-interrupted, .progress-bar-interrupted::-webkit-progress-bar {\n",
              "        background: #F44336;\n",
              "    }\n",
              "</style>\n"
            ]
          },
          "metadata": {}
        },
        {
          "output_type": "display_data",
          "data": {
            "text/plain": [
              "<IPython.core.display.HTML object>"
            ],
            "text/html": [
              "\n",
              "    <div>\n",
              "      <progress value='3000' class='' max='3000' style='width:300px; height:20px; vertical-align: middle;'></progress>\n",
              "      100.00% [3000/3000 02:20&lt;00:00 Sampling chain 0, 0 divergences]\n",
              "    </div>\n",
              "    "
            ]
          },
          "metadata": {}
        },
        {
          "output_type": "display_data",
          "data": {
            "text/plain": [
              "<IPython.core.display.HTML object>"
            ],
            "text/html": [
              "\n",
              "<style>\n",
              "    /* Turns off some styling */\n",
              "    progress {\n",
              "        /* gets rid of default border in Firefox and Opera. */\n",
              "        border: none;\n",
              "        /* Needs to be in here for Safari polyfill so background images work as expected. */\n",
              "        background-size: auto;\n",
              "    }\n",
              "    progress:not([value]), progress:not([value])::-webkit-progress-bar {\n",
              "        background: repeating-linear-gradient(45deg, #7e7e7e, #7e7e7e 10px, #5c5c5c 10px, #5c5c5c 20px);\n",
              "    }\n",
              "    .progress-bar-interrupted, .progress-bar-interrupted::-webkit-progress-bar {\n",
              "        background: #F44336;\n",
              "    }\n",
              "</style>\n"
            ]
          },
          "metadata": {}
        },
        {
          "output_type": "display_data",
          "data": {
            "text/plain": [
              "<IPython.core.display.HTML object>"
            ],
            "text/html": [
              "\n",
              "    <div>\n",
              "      <progress value='3000' class='' max='3000' style='width:300px; height:20px; vertical-align: middle;'></progress>\n",
              "      100.00% [3000/3000 02:20&lt;00:00 Sampling chain 1, 0 divergences]\n",
              "    </div>\n",
              "    "
            ]
          },
          "metadata": {}
        },
        {
          "output_type": "stream",
          "name": "stderr",
          "text": [
            "<ipython-input-8-175c2f4f91ba>:23: FutureWarning: The series.append method is deprecated and will be removed from pandas in a future version. Use pandas.concat instead.\n",
            "  return testingData.append(pd.Series(np.zeros(trainingDataSize-len(testingData), dtype=int)))\n",
            "<ipython-input-8-175c2f4f91ba>:23: FutureWarning: The series.append method is deprecated and will be removed from pandas in a future version. Use pandas.concat instead.\n",
            "  return testingData.append(pd.Series(np.zeros(trainingDataSize-len(testingData), dtype=int)))\n",
            "<ipython-input-8-175c2f4f91ba>:23: FutureWarning: The series.append method is deprecated and will be removed from pandas in a future version. Use pandas.concat instead.\n",
            "  return testingData.append(pd.Series(np.zeros(trainingDataSize-len(testingData), dtype=int)))\n",
            "<ipython-input-8-175c2f4f91ba>:23: FutureWarning: The series.append method is deprecated and will be removed from pandas in a future version. Use pandas.concat instead.\n",
            "  return testingData.append(pd.Series(np.zeros(trainingDataSize-len(testingData), dtype=int)))\n",
            "<ipython-input-8-175c2f4f91ba>:23: FutureWarning: The series.append method is deprecated and will be removed from pandas in a future version. Use pandas.concat instead.\n",
            "  return testingData.append(pd.Series(np.zeros(trainingDataSize-len(testingData), dtype=int)))\n",
            "<ipython-input-8-175c2f4f91ba>:23: FutureWarning: The series.append method is deprecated and will be removed from pandas in a future version. Use pandas.concat instead.\n",
            "  return testingData.append(pd.Series(np.zeros(trainingDataSize-len(testingData), dtype=int)))\n",
            "<ipython-input-8-175c2f4f91ba>:23: FutureWarning: The series.append method is deprecated and will be removed from pandas in a future version. Use pandas.concat instead.\n",
            "  return testingData.append(pd.Series(np.zeros(trainingDataSize-len(testingData), dtype=int)))\n",
            "<ipython-input-8-175c2f4f91ba>:23: FutureWarning: The series.append method is deprecated and will be removed from pandas in a future version. Use pandas.concat instead.\n",
            "  return testingData.append(pd.Series(np.zeros(trainingDataSize-len(testingData), dtype=int)))\n",
            "<ipython-input-8-175c2f4f91ba>:23: FutureWarning: The series.append method is deprecated and will be removed from pandas in a future version. Use pandas.concat instead.\n",
            "  return testingData.append(pd.Series(np.zeros(trainingDataSize-len(testingData), dtype=int)))\n",
            "<ipython-input-8-175c2f4f91ba>:23: FutureWarning: The series.append method is deprecated and will be removed from pandas in a future version. Use pandas.concat instead.\n",
            "  return testingData.append(pd.Series(np.zeros(trainingDataSize-len(testingData), dtype=int)))\n",
            "<ipython-input-8-175c2f4f91ba>:23: FutureWarning: The series.append method is deprecated and will be removed from pandas in a future version. Use pandas.concat instead.\n",
            "  return testingData.append(pd.Series(np.zeros(trainingDataSize-len(testingData), dtype=int)))\n",
            "<ipython-input-8-175c2f4f91ba>:23: FutureWarning: The series.append method is deprecated and will be removed from pandas in a future version. Use pandas.concat instead.\n",
            "  return testingData.append(pd.Series(np.zeros(trainingDataSize-len(testingData), dtype=int)))\n"
          ]
        },
        {
          "output_type": "display_data",
          "data": {
            "text/plain": [
              "<IPython.core.display.HTML object>"
            ],
            "text/html": [
              "\n",
              "<style>\n",
              "    /* Turns off some styling */\n",
              "    progress {\n",
              "        /* gets rid of default border in Firefox and Opera. */\n",
              "        border: none;\n",
              "        /* Needs to be in here for Safari polyfill so background images work as expected. */\n",
              "        background-size: auto;\n",
              "    }\n",
              "    progress:not([value]), progress:not([value])::-webkit-progress-bar {\n",
              "        background: repeating-linear-gradient(45deg, #7e7e7e, #7e7e7e 10px, #5c5c5c 10px, #5c5c5c 20px);\n",
              "    }\n",
              "    .progress-bar-interrupted, .progress-bar-interrupted::-webkit-progress-bar {\n",
              "        background: #F44336;\n",
              "    }\n",
              "</style>\n"
            ]
          },
          "metadata": {}
        },
        {
          "output_type": "display_data",
          "data": {
            "text/plain": [
              "<IPython.core.display.HTML object>"
            ],
            "text/html": [
              "\n",
              "    <div>\n",
              "      <progress value='4000' class='' max='4000' style='width:300px; height:20px; vertical-align: middle;'></progress>\n",
              "      100.00% [4000/4000 00:02&lt;00:00]\n",
              "    </div>\n",
              "    "
            ]
          },
          "metadata": {}
        },
        {
          "output_type": "display_data",
          "data": {
            "text/plain": [
              "<IPython.core.display.HTML object>"
            ],
            "text/html": [
              "\n",
              "<style>\n",
              "    /* Turns off some styling */\n",
              "    progress {\n",
              "        /* gets rid of default border in Firefox and Opera. */\n",
              "        border: none;\n",
              "        /* Needs to be in here for Safari polyfill so background images work as expected. */\n",
              "        background-size: auto;\n",
              "    }\n",
              "    progress:not([value]), progress:not([value])::-webkit-progress-bar {\n",
              "        background: repeating-linear-gradient(45deg, #7e7e7e, #7e7e7e 10px, #5c5c5c 10px, #5c5c5c 20px);\n",
              "    }\n",
              "    .progress-bar-interrupted, .progress-bar-interrupted::-webkit-progress-bar {\n",
              "        background: #F44336;\n",
              "    }\n",
              "</style>\n"
            ]
          },
          "metadata": {}
        },
        {
          "output_type": "display_data",
          "data": {
            "text/plain": [
              "<IPython.core.display.HTML object>"
            ],
            "text/html": [
              "\n",
              "    <div>\n",
              "      <progress value='3000' class='' max='3000' style='width:300px; height:20px; vertical-align: middle;'></progress>\n",
              "      100.00% [3000/3000 02:42&lt;00:00 Sampling chain 0, 0 divergences]\n",
              "    </div>\n",
              "    "
            ]
          },
          "metadata": {}
        },
        {
          "output_type": "display_data",
          "data": {
            "text/plain": [
              "<IPython.core.display.HTML object>"
            ],
            "text/html": [
              "\n",
              "<style>\n",
              "    /* Turns off some styling */\n",
              "    progress {\n",
              "        /* gets rid of default border in Firefox and Opera. */\n",
              "        border: none;\n",
              "        /* Needs to be in here for Safari polyfill so background images work as expected. */\n",
              "        background-size: auto;\n",
              "    }\n",
              "    progress:not([value]), progress:not([value])::-webkit-progress-bar {\n",
              "        background: repeating-linear-gradient(45deg, #7e7e7e, #7e7e7e 10px, #5c5c5c 10px, #5c5c5c 20px);\n",
              "    }\n",
              "    .progress-bar-interrupted, .progress-bar-interrupted::-webkit-progress-bar {\n",
              "        background: #F44336;\n",
              "    }\n",
              "</style>\n"
            ]
          },
          "metadata": {}
        },
        {
          "output_type": "display_data",
          "data": {
            "text/plain": [
              "<IPython.core.display.HTML object>"
            ],
            "text/html": [
              "\n",
              "    <div>\n",
              "      <progress value='3000' class='' max='3000' style='width:300px; height:20px; vertical-align: middle;'></progress>\n",
              "      100.00% [3000/3000 02:28&lt;00:00 Sampling chain 1, 0 divergences]\n",
              "    </div>\n",
              "    "
            ]
          },
          "metadata": {}
        },
        {
          "output_type": "display_data",
          "data": {
            "text/plain": [
              "<IPython.core.display.HTML object>"
            ],
            "text/html": [
              "\n",
              "<style>\n",
              "    /* Turns off some styling */\n",
              "    progress {\n",
              "        /* gets rid of default border in Firefox and Opera. */\n",
              "        border: none;\n",
              "        /* Needs to be in here for Safari polyfill so background images work as expected. */\n",
              "        background-size: auto;\n",
              "    }\n",
              "    progress:not([value]), progress:not([value])::-webkit-progress-bar {\n",
              "        background: repeating-linear-gradient(45deg, #7e7e7e, #7e7e7e 10px, #5c5c5c 10px, #5c5c5c 20px);\n",
              "    }\n",
              "    .progress-bar-interrupted, .progress-bar-interrupted::-webkit-progress-bar {\n",
              "        background: #F44336;\n",
              "    }\n",
              "</style>\n"
            ]
          },
          "metadata": {}
        },
        {
          "output_type": "display_data",
          "data": {
            "text/plain": [
              "<IPython.core.display.HTML object>"
            ],
            "text/html": [
              "\n",
              "    <div>\n",
              "      <progress value='3000' class='' max='3000' style='width:300px; height:20px; vertical-align: middle;'></progress>\n",
              "      100.00% [3000/3000 02:58&lt;00:00 Sampling chain 0, 0 divergences]\n",
              "    </div>\n",
              "    "
            ]
          },
          "metadata": {}
        },
        {
          "output_type": "display_data",
          "data": {
            "text/plain": [
              "<IPython.core.display.HTML object>"
            ],
            "text/html": [
              "\n",
              "<style>\n",
              "    /* Turns off some styling */\n",
              "    progress {\n",
              "        /* gets rid of default border in Firefox and Opera. */\n",
              "        border: none;\n",
              "        /* Needs to be in here for Safari polyfill so background images work as expected. */\n",
              "        background-size: auto;\n",
              "    }\n",
              "    progress:not([value]), progress:not([value])::-webkit-progress-bar {\n",
              "        background: repeating-linear-gradient(45deg, #7e7e7e, #7e7e7e 10px, #5c5c5c 10px, #5c5c5c 20px);\n",
              "    }\n",
              "    .progress-bar-interrupted, .progress-bar-interrupted::-webkit-progress-bar {\n",
              "        background: #F44336;\n",
              "    }\n",
              "</style>\n"
            ]
          },
          "metadata": {}
        },
        {
          "output_type": "display_data",
          "data": {
            "text/plain": [
              "<IPython.core.display.HTML object>"
            ],
            "text/html": [
              "\n",
              "    <div>\n",
              "      <progress value='3000' class='' max='3000' style='width:300px; height:20px; vertical-align: middle;'></progress>\n",
              "      100.00% [3000/3000 02:50&lt;00:00 Sampling chain 1, 0 divergences]\n",
              "    </div>\n",
              "    "
            ]
          },
          "metadata": {}
        },
        {
          "output_type": "stream",
          "name": "stderr",
          "text": [
            "<ipython-input-8-175c2f4f91ba>:23: FutureWarning: The series.append method is deprecated and will be removed from pandas in a future version. Use pandas.concat instead.\n",
            "  return testingData.append(pd.Series(np.zeros(trainingDataSize-len(testingData), dtype=int)))\n",
            "<ipython-input-8-175c2f4f91ba>:23: FutureWarning: The series.append method is deprecated and will be removed from pandas in a future version. Use pandas.concat instead.\n",
            "  return testingData.append(pd.Series(np.zeros(trainingDataSize-len(testingData), dtype=int)))\n",
            "<ipython-input-8-175c2f4f91ba>:23: FutureWarning: The series.append method is deprecated and will be removed from pandas in a future version. Use pandas.concat instead.\n",
            "  return testingData.append(pd.Series(np.zeros(trainingDataSize-len(testingData), dtype=int)))\n",
            "<ipython-input-8-175c2f4f91ba>:23: FutureWarning: The series.append method is deprecated and will be removed from pandas in a future version. Use pandas.concat instead.\n",
            "  return testingData.append(pd.Series(np.zeros(trainingDataSize-len(testingData), dtype=int)))\n",
            "<ipython-input-8-175c2f4f91ba>:23: FutureWarning: The series.append method is deprecated and will be removed from pandas in a future version. Use pandas.concat instead.\n",
            "  return testingData.append(pd.Series(np.zeros(trainingDataSize-len(testingData), dtype=int)))\n",
            "<ipython-input-8-175c2f4f91ba>:23: FutureWarning: The series.append method is deprecated and will be removed from pandas in a future version. Use pandas.concat instead.\n",
            "  return testingData.append(pd.Series(np.zeros(trainingDataSize-len(testingData), dtype=int)))\n",
            "<ipython-input-8-175c2f4f91ba>:23: FutureWarning: The series.append method is deprecated and will be removed from pandas in a future version. Use pandas.concat instead.\n",
            "  return testingData.append(pd.Series(np.zeros(trainingDataSize-len(testingData), dtype=int)))\n",
            "<ipython-input-8-175c2f4f91ba>:23: FutureWarning: The series.append method is deprecated and will be removed from pandas in a future version. Use pandas.concat instead.\n",
            "  return testingData.append(pd.Series(np.zeros(trainingDataSize-len(testingData), dtype=int)))\n",
            "<ipython-input-8-175c2f4f91ba>:23: FutureWarning: The series.append method is deprecated and will be removed from pandas in a future version. Use pandas.concat instead.\n",
            "  return testingData.append(pd.Series(np.zeros(trainingDataSize-len(testingData), dtype=int)))\n",
            "<ipython-input-8-175c2f4f91ba>:23: FutureWarning: The series.append method is deprecated and will be removed from pandas in a future version. Use pandas.concat instead.\n",
            "  return testingData.append(pd.Series(np.zeros(trainingDataSize-len(testingData), dtype=int)))\n",
            "<ipython-input-8-175c2f4f91ba>:23: FutureWarning: The series.append method is deprecated and will be removed from pandas in a future version. Use pandas.concat instead.\n",
            "  return testingData.append(pd.Series(np.zeros(trainingDataSize-len(testingData), dtype=int)))\n",
            "<ipython-input-8-175c2f4f91ba>:23: FutureWarning: The series.append method is deprecated and will be removed from pandas in a future version. Use pandas.concat instead.\n",
            "  return testingData.append(pd.Series(np.zeros(trainingDataSize-len(testingData), dtype=int)))\n"
          ]
        },
        {
          "output_type": "display_data",
          "data": {
            "text/plain": [
              "<IPython.core.display.HTML object>"
            ],
            "text/html": [
              "\n",
              "<style>\n",
              "    /* Turns off some styling */\n",
              "    progress {\n",
              "        /* gets rid of default border in Firefox and Opera. */\n",
              "        border: none;\n",
              "        /* Needs to be in here for Safari polyfill so background images work as expected. */\n",
              "        background-size: auto;\n",
              "    }\n",
              "    progress:not([value]), progress:not([value])::-webkit-progress-bar {\n",
              "        background: repeating-linear-gradient(45deg, #7e7e7e, #7e7e7e 10px, #5c5c5c 10px, #5c5c5c 20px);\n",
              "    }\n",
              "    .progress-bar-interrupted, .progress-bar-interrupted::-webkit-progress-bar {\n",
              "        background: #F44336;\n",
              "    }\n",
              "</style>\n"
            ]
          },
          "metadata": {}
        },
        {
          "output_type": "display_data",
          "data": {
            "text/plain": [
              "<IPython.core.display.HTML object>"
            ],
            "text/html": [
              "\n",
              "    <div>\n",
              "      <progress value='4000' class='' max='4000' style='width:300px; height:20px; vertical-align: middle;'></progress>\n",
              "      100.00% [4000/4000 00:02&lt;00:00]\n",
              "    </div>\n",
              "    "
            ]
          },
          "metadata": {}
        },
        {
          "output_type": "display_data",
          "data": {
            "text/plain": [
              "<IPython.core.display.HTML object>"
            ],
            "text/html": [
              "\n",
              "<style>\n",
              "    /* Turns off some styling */\n",
              "    progress {\n",
              "        /* gets rid of default border in Firefox and Opera. */\n",
              "        border: none;\n",
              "        /* Needs to be in here for Safari polyfill so background images work as expected. */\n",
              "        background-size: auto;\n",
              "    }\n",
              "    progress:not([value]), progress:not([value])::-webkit-progress-bar {\n",
              "        background: repeating-linear-gradient(45deg, #7e7e7e, #7e7e7e 10px, #5c5c5c 10px, #5c5c5c 20px);\n",
              "    }\n",
              "    .progress-bar-interrupted, .progress-bar-interrupted::-webkit-progress-bar {\n",
              "        background: #F44336;\n",
              "    }\n",
              "</style>\n"
            ]
          },
          "metadata": {}
        },
        {
          "output_type": "display_data",
          "data": {
            "text/plain": [
              "<IPython.core.display.HTML object>"
            ],
            "text/html": [
              "\n",
              "    <div>\n",
              "      <progress value='3000' class='' max='3000' style='width:300px; height:20px; vertical-align: middle;'></progress>\n",
              "      100.00% [3000/3000 03:25&lt;00:00 Sampling chain 0, 0 divergences]\n",
              "    </div>\n",
              "    "
            ]
          },
          "metadata": {}
        },
        {
          "output_type": "display_data",
          "data": {
            "text/plain": [
              "<IPython.core.display.HTML object>"
            ],
            "text/html": [
              "\n",
              "<style>\n",
              "    /* Turns off some styling */\n",
              "    progress {\n",
              "        /* gets rid of default border in Firefox and Opera. */\n",
              "        border: none;\n",
              "        /* Needs to be in here for Safari polyfill so background images work as expected. */\n",
              "        background-size: auto;\n",
              "    }\n",
              "    progress:not([value]), progress:not([value])::-webkit-progress-bar {\n",
              "        background: repeating-linear-gradient(45deg, #7e7e7e, #7e7e7e 10px, #5c5c5c 10px, #5c5c5c 20px);\n",
              "    }\n",
              "    .progress-bar-interrupted, .progress-bar-interrupted::-webkit-progress-bar {\n",
              "        background: #F44336;\n",
              "    }\n",
              "</style>\n"
            ]
          },
          "metadata": {}
        },
        {
          "output_type": "display_data",
          "data": {
            "text/plain": [
              "<IPython.core.display.HTML object>"
            ],
            "text/html": [
              "\n",
              "    <div>\n",
              "      <progress value='3000' class='' max='3000' style='width:300px; height:20px; vertical-align: middle;'></progress>\n",
              "      100.00% [3000/3000 03:08&lt;00:00 Sampling chain 1, 0 divergences]\n",
              "    </div>\n",
              "    "
            ]
          },
          "metadata": {}
        },
        {
          "output_type": "display_data",
          "data": {
            "text/plain": [
              "<IPython.core.display.HTML object>"
            ],
            "text/html": [
              "\n",
              "<style>\n",
              "    /* Turns off some styling */\n",
              "    progress {\n",
              "        /* gets rid of default border in Firefox and Opera. */\n",
              "        border: none;\n",
              "        /* Needs to be in here for Safari polyfill so background images work as expected. */\n",
              "        background-size: auto;\n",
              "    }\n",
              "    progress:not([value]), progress:not([value])::-webkit-progress-bar {\n",
              "        background: repeating-linear-gradient(45deg, #7e7e7e, #7e7e7e 10px, #5c5c5c 10px, #5c5c5c 20px);\n",
              "    }\n",
              "    .progress-bar-interrupted, .progress-bar-interrupted::-webkit-progress-bar {\n",
              "        background: #F44336;\n",
              "    }\n",
              "</style>\n"
            ]
          },
          "metadata": {}
        },
        {
          "output_type": "display_data",
          "data": {
            "text/plain": [
              "<IPython.core.display.HTML object>"
            ],
            "text/html": [
              "\n",
              "    <div>\n",
              "      <progress value='3000' class='' max='3000' style='width:300px; height:20px; vertical-align: middle;'></progress>\n",
              "      100.00% [3000/3000 03:13&lt;00:00 Sampling chain 0, 0 divergences]\n",
              "    </div>\n",
              "    "
            ]
          },
          "metadata": {}
        },
        {
          "output_type": "display_data",
          "data": {
            "text/plain": [
              "<IPython.core.display.HTML object>"
            ],
            "text/html": [
              "\n",
              "<style>\n",
              "    /* Turns off some styling */\n",
              "    progress {\n",
              "        /* gets rid of default border in Firefox and Opera. */\n",
              "        border: none;\n",
              "        /* Needs to be in here for Safari polyfill so background images work as expected. */\n",
              "        background-size: auto;\n",
              "    }\n",
              "    progress:not([value]), progress:not([value])::-webkit-progress-bar {\n",
              "        background: repeating-linear-gradient(45deg, #7e7e7e, #7e7e7e 10px, #5c5c5c 10px, #5c5c5c 20px);\n",
              "    }\n",
              "    .progress-bar-interrupted, .progress-bar-interrupted::-webkit-progress-bar {\n",
              "        background: #F44336;\n",
              "    }\n",
              "</style>\n"
            ]
          },
          "metadata": {}
        },
        {
          "output_type": "display_data",
          "data": {
            "text/plain": [
              "<IPython.core.display.HTML object>"
            ],
            "text/html": [
              "\n",
              "    <div>\n",
              "      <progress value='3000' class='' max='3000' style='width:300px; height:20px; vertical-align: middle;'></progress>\n",
              "      100.00% [3000/3000 03:08&lt;00:00 Sampling chain 1, 0 divergences]\n",
              "    </div>\n",
              "    "
            ]
          },
          "metadata": {}
        },
        {
          "output_type": "stream",
          "name": "stderr",
          "text": [
            "<ipython-input-8-175c2f4f91ba>:23: FutureWarning: The series.append method is deprecated and will be removed from pandas in a future version. Use pandas.concat instead.\n",
            "  return testingData.append(pd.Series(np.zeros(trainingDataSize-len(testingData), dtype=int)))\n",
            "<ipython-input-8-175c2f4f91ba>:23: FutureWarning: The series.append method is deprecated and will be removed from pandas in a future version. Use pandas.concat instead.\n",
            "  return testingData.append(pd.Series(np.zeros(trainingDataSize-len(testingData), dtype=int)))\n",
            "<ipython-input-8-175c2f4f91ba>:23: FutureWarning: The series.append method is deprecated and will be removed from pandas in a future version. Use pandas.concat instead.\n",
            "  return testingData.append(pd.Series(np.zeros(trainingDataSize-len(testingData), dtype=int)))\n",
            "<ipython-input-8-175c2f4f91ba>:23: FutureWarning: The series.append method is deprecated and will be removed from pandas in a future version. Use pandas.concat instead.\n",
            "  return testingData.append(pd.Series(np.zeros(trainingDataSize-len(testingData), dtype=int)))\n",
            "<ipython-input-8-175c2f4f91ba>:23: FutureWarning: The series.append method is deprecated and will be removed from pandas in a future version. Use pandas.concat instead.\n",
            "  return testingData.append(pd.Series(np.zeros(trainingDataSize-len(testingData), dtype=int)))\n",
            "<ipython-input-8-175c2f4f91ba>:23: FutureWarning: The series.append method is deprecated and will be removed from pandas in a future version. Use pandas.concat instead.\n",
            "  return testingData.append(pd.Series(np.zeros(trainingDataSize-len(testingData), dtype=int)))\n",
            "<ipython-input-8-175c2f4f91ba>:23: FutureWarning: The series.append method is deprecated and will be removed from pandas in a future version. Use pandas.concat instead.\n",
            "  return testingData.append(pd.Series(np.zeros(trainingDataSize-len(testingData), dtype=int)))\n",
            "<ipython-input-8-175c2f4f91ba>:23: FutureWarning: The series.append method is deprecated and will be removed from pandas in a future version. Use pandas.concat instead.\n",
            "  return testingData.append(pd.Series(np.zeros(trainingDataSize-len(testingData), dtype=int)))\n",
            "<ipython-input-8-175c2f4f91ba>:23: FutureWarning: The series.append method is deprecated and will be removed from pandas in a future version. Use pandas.concat instead.\n",
            "  return testingData.append(pd.Series(np.zeros(trainingDataSize-len(testingData), dtype=int)))\n",
            "<ipython-input-8-175c2f4f91ba>:23: FutureWarning: The series.append method is deprecated and will be removed from pandas in a future version. Use pandas.concat instead.\n",
            "  return testingData.append(pd.Series(np.zeros(trainingDataSize-len(testingData), dtype=int)))\n",
            "<ipython-input-8-175c2f4f91ba>:23: FutureWarning: The series.append method is deprecated and will be removed from pandas in a future version. Use pandas.concat instead.\n",
            "  return testingData.append(pd.Series(np.zeros(trainingDataSize-len(testingData), dtype=int)))\n",
            "<ipython-input-8-175c2f4f91ba>:23: FutureWarning: The series.append method is deprecated and will be removed from pandas in a future version. Use pandas.concat instead.\n",
            "  return testingData.append(pd.Series(np.zeros(trainingDataSize-len(testingData), dtype=int)))\n"
          ]
        },
        {
          "output_type": "display_data",
          "data": {
            "text/plain": [
              "<IPython.core.display.HTML object>"
            ],
            "text/html": [
              "\n",
              "<style>\n",
              "    /* Turns off some styling */\n",
              "    progress {\n",
              "        /* gets rid of default border in Firefox and Opera. */\n",
              "        border: none;\n",
              "        /* Needs to be in here for Safari polyfill so background images work as expected. */\n",
              "        background-size: auto;\n",
              "    }\n",
              "    progress:not([value]), progress:not([value])::-webkit-progress-bar {\n",
              "        background: repeating-linear-gradient(45deg, #7e7e7e, #7e7e7e 10px, #5c5c5c 10px, #5c5c5c 20px);\n",
              "    }\n",
              "    .progress-bar-interrupted, .progress-bar-interrupted::-webkit-progress-bar {\n",
              "        background: #F44336;\n",
              "    }\n",
              "</style>\n"
            ]
          },
          "metadata": {}
        },
        {
          "output_type": "display_data",
          "data": {
            "text/plain": [
              "<IPython.core.display.HTML object>"
            ],
            "text/html": [
              "\n",
              "    <div>\n",
              "      <progress value='4000' class='' max='4000' style='width:300px; height:20px; vertical-align: middle;'></progress>\n",
              "      100.00% [4000/4000 00:02&lt;00:00]\n",
              "    </div>\n",
              "    "
            ]
          },
          "metadata": {}
        },
        {
          "output_type": "display_data",
          "data": {
            "text/plain": [
              "<IPython.core.display.HTML object>"
            ],
            "text/html": [
              "\n",
              "<style>\n",
              "    /* Turns off some styling */\n",
              "    progress {\n",
              "        /* gets rid of default border in Firefox and Opera. */\n",
              "        border: none;\n",
              "        /* Needs to be in here for Safari polyfill so background images work as expected. */\n",
              "        background-size: auto;\n",
              "    }\n",
              "    progress:not([value]), progress:not([value])::-webkit-progress-bar {\n",
              "        background: repeating-linear-gradient(45deg, #7e7e7e, #7e7e7e 10px, #5c5c5c 10px, #5c5c5c 20px);\n",
              "    }\n",
              "    .progress-bar-interrupted, .progress-bar-interrupted::-webkit-progress-bar {\n",
              "        background: #F44336;\n",
              "    }\n",
              "</style>\n"
            ]
          },
          "metadata": {}
        },
        {
          "output_type": "display_data",
          "data": {
            "text/plain": [
              "<IPython.core.display.HTML object>"
            ],
            "text/html": [
              "\n",
              "    <div>\n",
              "      <progress value='3000' class='' max='3000' style='width:300px; height:20px; vertical-align: middle;'></progress>\n",
              "      100.00% [3000/3000 03:43&lt;00:00 Sampling chain 0, 0 divergences]\n",
              "    </div>\n",
              "    "
            ]
          },
          "metadata": {}
        },
        {
          "output_type": "display_data",
          "data": {
            "text/plain": [
              "<IPython.core.display.HTML object>"
            ],
            "text/html": [
              "\n",
              "<style>\n",
              "    /* Turns off some styling */\n",
              "    progress {\n",
              "        /* gets rid of default border in Firefox and Opera. */\n",
              "        border: none;\n",
              "        /* Needs to be in here for Safari polyfill so background images work as expected. */\n",
              "        background-size: auto;\n",
              "    }\n",
              "    progress:not([value]), progress:not([value])::-webkit-progress-bar {\n",
              "        background: repeating-linear-gradient(45deg, #7e7e7e, #7e7e7e 10px, #5c5c5c 10px, #5c5c5c 20px);\n",
              "    }\n",
              "    .progress-bar-interrupted, .progress-bar-interrupted::-webkit-progress-bar {\n",
              "        background: #F44336;\n",
              "    }\n",
              "</style>\n"
            ]
          },
          "metadata": {}
        },
        {
          "output_type": "display_data",
          "data": {
            "text/plain": [
              "<IPython.core.display.HTML object>"
            ],
            "text/html": [
              "\n",
              "    <div>\n",
              "      <progress value='3000' class='' max='3000' style='width:300px; height:20px; vertical-align: middle;'></progress>\n",
              "      100.00% [3000/3000 03:24&lt;00:00 Sampling chain 1, 0 divergences]\n",
              "    </div>\n",
              "    "
            ]
          },
          "metadata": {}
        },
        {
          "output_type": "display_data",
          "data": {
            "text/plain": [
              "<IPython.core.display.HTML object>"
            ],
            "text/html": [
              "\n",
              "<style>\n",
              "    /* Turns off some styling */\n",
              "    progress {\n",
              "        /* gets rid of default border in Firefox and Opera. */\n",
              "        border: none;\n",
              "        /* Needs to be in here for Safari polyfill so background images work as expected. */\n",
              "        background-size: auto;\n",
              "    }\n",
              "    progress:not([value]), progress:not([value])::-webkit-progress-bar {\n",
              "        background: repeating-linear-gradient(45deg, #7e7e7e, #7e7e7e 10px, #5c5c5c 10px, #5c5c5c 20px);\n",
              "    }\n",
              "    .progress-bar-interrupted, .progress-bar-interrupted::-webkit-progress-bar {\n",
              "        background: #F44336;\n",
              "    }\n",
              "</style>\n"
            ]
          },
          "metadata": {}
        },
        {
          "output_type": "display_data",
          "data": {
            "text/plain": [
              "<IPython.core.display.HTML object>"
            ],
            "text/html": [
              "\n",
              "    <div>\n",
              "      <progress value='3000' class='' max='3000' style='width:300px; height:20px; vertical-align: middle;'></progress>\n",
              "      100.00% [3000/3000 01:55&lt;00:00 Sampling chain 0, 0 divergences]\n",
              "    </div>\n",
              "    "
            ]
          },
          "metadata": {}
        },
        {
          "output_type": "display_data",
          "data": {
            "text/plain": [
              "<IPython.core.display.HTML object>"
            ],
            "text/html": [
              "\n",
              "<style>\n",
              "    /* Turns off some styling */\n",
              "    progress {\n",
              "        /* gets rid of default border in Firefox and Opera. */\n",
              "        border: none;\n",
              "        /* Needs to be in here for Safari polyfill so background images work as expected. */\n",
              "        background-size: auto;\n",
              "    }\n",
              "    progress:not([value]), progress:not([value])::-webkit-progress-bar {\n",
              "        background: repeating-linear-gradient(45deg, #7e7e7e, #7e7e7e 10px, #5c5c5c 10px, #5c5c5c 20px);\n",
              "    }\n",
              "    .progress-bar-interrupted, .progress-bar-interrupted::-webkit-progress-bar {\n",
              "        background: #F44336;\n",
              "    }\n",
              "</style>\n"
            ]
          },
          "metadata": {}
        },
        {
          "output_type": "display_data",
          "data": {
            "text/plain": [
              "<IPython.core.display.HTML object>"
            ],
            "text/html": [
              "\n",
              "    <div>\n",
              "      <progress value='3000' class='' max='3000' style='width:300px; height:20px; vertical-align: middle;'></progress>\n",
              "      100.00% [3000/3000 01:58&lt;00:00 Sampling chain 1, 0 divergences]\n",
              "    </div>\n",
              "    "
            ]
          },
          "metadata": {}
        },
        {
          "output_type": "stream",
          "name": "stderr",
          "text": [
            "<ipython-input-8-175c2f4f91ba>:23: FutureWarning: The series.append method is deprecated and will be removed from pandas in a future version. Use pandas.concat instead.\n",
            "  return testingData.append(pd.Series(np.zeros(trainingDataSize-len(testingData), dtype=int)))\n",
            "<ipython-input-8-175c2f4f91ba>:23: FutureWarning: The series.append method is deprecated and will be removed from pandas in a future version. Use pandas.concat instead.\n",
            "  return testingData.append(pd.Series(np.zeros(trainingDataSize-len(testingData), dtype=int)))\n",
            "<ipython-input-8-175c2f4f91ba>:23: FutureWarning: The series.append method is deprecated and will be removed from pandas in a future version. Use pandas.concat instead.\n",
            "  return testingData.append(pd.Series(np.zeros(trainingDataSize-len(testingData), dtype=int)))\n",
            "<ipython-input-8-175c2f4f91ba>:23: FutureWarning: The series.append method is deprecated and will be removed from pandas in a future version. Use pandas.concat instead.\n",
            "  return testingData.append(pd.Series(np.zeros(trainingDataSize-len(testingData), dtype=int)))\n",
            "<ipython-input-8-175c2f4f91ba>:23: FutureWarning: The series.append method is deprecated and will be removed from pandas in a future version. Use pandas.concat instead.\n",
            "  return testingData.append(pd.Series(np.zeros(trainingDataSize-len(testingData), dtype=int)))\n",
            "<ipython-input-8-175c2f4f91ba>:23: FutureWarning: The series.append method is deprecated and will be removed from pandas in a future version. Use pandas.concat instead.\n",
            "  return testingData.append(pd.Series(np.zeros(trainingDataSize-len(testingData), dtype=int)))\n",
            "<ipython-input-8-175c2f4f91ba>:23: FutureWarning: The series.append method is deprecated and will be removed from pandas in a future version. Use pandas.concat instead.\n",
            "  return testingData.append(pd.Series(np.zeros(trainingDataSize-len(testingData), dtype=int)))\n",
            "<ipython-input-8-175c2f4f91ba>:23: FutureWarning: The series.append method is deprecated and will be removed from pandas in a future version. Use pandas.concat instead.\n",
            "  return testingData.append(pd.Series(np.zeros(trainingDataSize-len(testingData), dtype=int)))\n",
            "<ipython-input-8-175c2f4f91ba>:23: FutureWarning: The series.append method is deprecated and will be removed from pandas in a future version. Use pandas.concat instead.\n",
            "  return testingData.append(pd.Series(np.zeros(trainingDataSize-len(testingData), dtype=int)))\n",
            "<ipython-input-8-175c2f4f91ba>:23: FutureWarning: The series.append method is deprecated and will be removed from pandas in a future version. Use pandas.concat instead.\n",
            "  return testingData.append(pd.Series(np.zeros(trainingDataSize-len(testingData), dtype=int)))\n",
            "<ipython-input-8-175c2f4f91ba>:23: FutureWarning: The series.append method is deprecated and will be removed from pandas in a future version. Use pandas.concat instead.\n",
            "  return testingData.append(pd.Series(np.zeros(trainingDataSize-len(testingData), dtype=int)))\n",
            "<ipython-input-8-175c2f4f91ba>:23: FutureWarning: The series.append method is deprecated and will be removed from pandas in a future version. Use pandas.concat instead.\n",
            "  return testingData.append(pd.Series(np.zeros(trainingDataSize-len(testingData), dtype=int)))\n"
          ]
        },
        {
          "output_type": "display_data",
          "data": {
            "text/plain": [
              "<IPython.core.display.HTML object>"
            ],
            "text/html": [
              "\n",
              "<style>\n",
              "    /* Turns off some styling */\n",
              "    progress {\n",
              "        /* gets rid of default border in Firefox and Opera. */\n",
              "        border: none;\n",
              "        /* Needs to be in here for Safari polyfill so background images work as expected. */\n",
              "        background-size: auto;\n",
              "    }\n",
              "    progress:not([value]), progress:not([value])::-webkit-progress-bar {\n",
              "        background: repeating-linear-gradient(45deg, #7e7e7e, #7e7e7e 10px, #5c5c5c 10px, #5c5c5c 20px);\n",
              "    }\n",
              "    .progress-bar-interrupted, .progress-bar-interrupted::-webkit-progress-bar {\n",
              "        background: #F44336;\n",
              "    }\n",
              "</style>\n"
            ]
          },
          "metadata": {}
        },
        {
          "output_type": "display_data",
          "data": {
            "text/plain": [
              "<IPython.core.display.HTML object>"
            ],
            "text/html": [
              "\n",
              "    <div>\n",
              "      <progress value='4000' class='' max='4000' style='width:300px; height:20px; vertical-align: middle;'></progress>\n",
              "      100.00% [4000/4000 00:04&lt;00:00]\n",
              "    </div>\n",
              "    "
            ]
          },
          "metadata": {}
        },
        {
          "output_type": "display_data",
          "data": {
            "text/plain": [
              "<IPython.core.display.HTML object>"
            ],
            "text/html": [
              "\n",
              "<style>\n",
              "    /* Turns off some styling */\n",
              "    progress {\n",
              "        /* gets rid of default border in Firefox and Opera. */\n",
              "        border: none;\n",
              "        /* Needs to be in here for Safari polyfill so background images work as expected. */\n",
              "        background-size: auto;\n",
              "    }\n",
              "    progress:not([value]), progress:not([value])::-webkit-progress-bar {\n",
              "        background: repeating-linear-gradient(45deg, #7e7e7e, #7e7e7e 10px, #5c5c5c 10px, #5c5c5c 20px);\n",
              "    }\n",
              "    .progress-bar-interrupted, .progress-bar-interrupted::-webkit-progress-bar {\n",
              "        background: #F44336;\n",
              "    }\n",
              "</style>\n"
            ]
          },
          "metadata": {}
        },
        {
          "output_type": "display_data",
          "data": {
            "text/plain": [
              "<IPython.core.display.HTML object>"
            ],
            "text/html": [
              "\n",
              "    <div>\n",
              "      <progress value='3000' class='' max='3000' style='width:300px; height:20px; vertical-align: middle;'></progress>\n",
              "      100.00% [3000/3000 02:20&lt;00:00 Sampling chain 0, 0 divergences]\n",
              "    </div>\n",
              "    "
            ]
          },
          "metadata": {}
        },
        {
          "output_type": "display_data",
          "data": {
            "text/plain": [
              "<IPython.core.display.HTML object>"
            ],
            "text/html": [
              "\n",
              "<style>\n",
              "    /* Turns off some styling */\n",
              "    progress {\n",
              "        /* gets rid of default border in Firefox and Opera. */\n",
              "        border: none;\n",
              "        /* Needs to be in here for Safari polyfill so background images work as expected. */\n",
              "        background-size: auto;\n",
              "    }\n",
              "    progress:not([value]), progress:not([value])::-webkit-progress-bar {\n",
              "        background: repeating-linear-gradient(45deg, #7e7e7e, #7e7e7e 10px, #5c5c5c 10px, #5c5c5c 20px);\n",
              "    }\n",
              "    .progress-bar-interrupted, .progress-bar-interrupted::-webkit-progress-bar {\n",
              "        background: #F44336;\n",
              "    }\n",
              "</style>\n"
            ]
          },
          "metadata": {}
        },
        {
          "output_type": "display_data",
          "data": {
            "text/plain": [
              "<IPython.core.display.HTML object>"
            ],
            "text/html": [
              "\n",
              "    <div>\n",
              "      <progress value='3000' class='' max='3000' style='width:300px; height:20px; vertical-align: middle;'></progress>\n",
              "      100.00% [3000/3000 02:22&lt;00:00 Sampling chain 1, 0 divergences]\n",
              "    </div>\n",
              "    "
            ]
          },
          "metadata": {}
        },
        {
          "output_type": "display_data",
          "data": {
            "text/plain": [
              "<IPython.core.display.HTML object>"
            ],
            "text/html": [
              "\n",
              "<style>\n",
              "    /* Turns off some styling */\n",
              "    progress {\n",
              "        /* gets rid of default border in Firefox and Opera. */\n",
              "        border: none;\n",
              "        /* Needs to be in here for Safari polyfill so background images work as expected. */\n",
              "        background-size: auto;\n",
              "    }\n",
              "    progress:not([value]), progress:not([value])::-webkit-progress-bar {\n",
              "        background: repeating-linear-gradient(45deg, #7e7e7e, #7e7e7e 10px, #5c5c5c 10px, #5c5c5c 20px);\n",
              "    }\n",
              "    .progress-bar-interrupted, .progress-bar-interrupted::-webkit-progress-bar {\n",
              "        background: #F44336;\n",
              "    }\n",
              "</style>\n"
            ]
          },
          "metadata": {}
        },
        {
          "output_type": "display_data",
          "data": {
            "text/plain": [
              "<IPython.core.display.HTML object>"
            ],
            "text/html": [
              "\n",
              "    <div>\n",
              "      <progress value='3000' class='' max='3000' style='width:300px; height:20px; vertical-align: middle;'></progress>\n",
              "      100.00% [3000/3000 01:59&lt;00:00 Sampling chain 0, 0 divergences]\n",
              "    </div>\n",
              "    "
            ]
          },
          "metadata": {}
        },
        {
          "output_type": "display_data",
          "data": {
            "text/plain": [
              "<IPython.core.display.HTML object>"
            ],
            "text/html": [
              "\n",
              "<style>\n",
              "    /* Turns off some styling */\n",
              "    progress {\n",
              "        /* gets rid of default border in Firefox and Opera. */\n",
              "        border: none;\n",
              "        /* Needs to be in here for Safari polyfill so background images work as expected. */\n",
              "        background-size: auto;\n",
              "    }\n",
              "    progress:not([value]), progress:not([value])::-webkit-progress-bar {\n",
              "        background: repeating-linear-gradient(45deg, #7e7e7e, #7e7e7e 10px, #5c5c5c 10px, #5c5c5c 20px);\n",
              "    }\n",
              "    .progress-bar-interrupted, .progress-bar-interrupted::-webkit-progress-bar {\n",
              "        background: #F44336;\n",
              "    }\n",
              "</style>\n"
            ]
          },
          "metadata": {}
        },
        {
          "output_type": "display_data",
          "data": {
            "text/plain": [
              "<IPython.core.display.HTML object>"
            ],
            "text/html": [
              "\n",
              "    <div>\n",
              "      <progress value='3000' class='' max='3000' style='width:300px; height:20px; vertical-align: middle;'></progress>\n",
              "      100.00% [3000/3000 01:59&lt;00:00 Sampling chain 1, 0 divergences]\n",
              "    </div>\n",
              "    "
            ]
          },
          "metadata": {}
        },
        {
          "output_type": "stream",
          "name": "stderr",
          "text": [
            "<ipython-input-8-175c2f4f91ba>:23: FutureWarning: The series.append method is deprecated and will be removed from pandas in a future version. Use pandas.concat instead.\n",
            "  return testingData.append(pd.Series(np.zeros(trainingDataSize-len(testingData), dtype=int)))\n",
            "<ipython-input-8-175c2f4f91ba>:23: FutureWarning: The series.append method is deprecated and will be removed from pandas in a future version. Use pandas.concat instead.\n",
            "  return testingData.append(pd.Series(np.zeros(trainingDataSize-len(testingData), dtype=int)))\n",
            "<ipython-input-8-175c2f4f91ba>:23: FutureWarning: The series.append method is deprecated and will be removed from pandas in a future version. Use pandas.concat instead.\n",
            "  return testingData.append(pd.Series(np.zeros(trainingDataSize-len(testingData), dtype=int)))\n",
            "<ipython-input-8-175c2f4f91ba>:23: FutureWarning: The series.append method is deprecated and will be removed from pandas in a future version. Use pandas.concat instead.\n",
            "  return testingData.append(pd.Series(np.zeros(trainingDataSize-len(testingData), dtype=int)))\n",
            "<ipython-input-8-175c2f4f91ba>:23: FutureWarning: The series.append method is deprecated and will be removed from pandas in a future version. Use pandas.concat instead.\n",
            "  return testingData.append(pd.Series(np.zeros(trainingDataSize-len(testingData), dtype=int)))\n",
            "<ipython-input-8-175c2f4f91ba>:23: FutureWarning: The series.append method is deprecated and will be removed from pandas in a future version. Use pandas.concat instead.\n",
            "  return testingData.append(pd.Series(np.zeros(trainingDataSize-len(testingData), dtype=int)))\n",
            "<ipython-input-8-175c2f4f91ba>:23: FutureWarning: The series.append method is deprecated and will be removed from pandas in a future version. Use pandas.concat instead.\n",
            "  return testingData.append(pd.Series(np.zeros(trainingDataSize-len(testingData), dtype=int)))\n",
            "<ipython-input-8-175c2f4f91ba>:23: FutureWarning: The series.append method is deprecated and will be removed from pandas in a future version. Use pandas.concat instead.\n",
            "  return testingData.append(pd.Series(np.zeros(trainingDataSize-len(testingData), dtype=int)))\n",
            "<ipython-input-8-175c2f4f91ba>:23: FutureWarning: The series.append method is deprecated and will be removed from pandas in a future version. Use pandas.concat instead.\n",
            "  return testingData.append(pd.Series(np.zeros(trainingDataSize-len(testingData), dtype=int)))\n",
            "<ipython-input-8-175c2f4f91ba>:23: FutureWarning: The series.append method is deprecated and will be removed from pandas in a future version. Use pandas.concat instead.\n",
            "  return testingData.append(pd.Series(np.zeros(trainingDataSize-len(testingData), dtype=int)))\n",
            "<ipython-input-8-175c2f4f91ba>:23: FutureWarning: The series.append method is deprecated and will be removed from pandas in a future version. Use pandas.concat instead.\n",
            "  return testingData.append(pd.Series(np.zeros(trainingDataSize-len(testingData), dtype=int)))\n",
            "<ipython-input-8-175c2f4f91ba>:23: FutureWarning: The series.append method is deprecated and will be removed from pandas in a future version. Use pandas.concat instead.\n",
            "  return testingData.append(pd.Series(np.zeros(trainingDataSize-len(testingData), dtype=int)))\n"
          ]
        },
        {
          "output_type": "display_data",
          "data": {
            "text/plain": [
              "<IPython.core.display.HTML object>"
            ],
            "text/html": [
              "\n",
              "<style>\n",
              "    /* Turns off some styling */\n",
              "    progress {\n",
              "        /* gets rid of default border in Firefox and Opera. */\n",
              "        border: none;\n",
              "        /* Needs to be in here for Safari polyfill so background images work as expected. */\n",
              "        background-size: auto;\n",
              "    }\n",
              "    progress:not([value]), progress:not([value])::-webkit-progress-bar {\n",
              "        background: repeating-linear-gradient(45deg, #7e7e7e, #7e7e7e 10px, #5c5c5c 10px, #5c5c5c 20px);\n",
              "    }\n",
              "    .progress-bar-interrupted, .progress-bar-interrupted::-webkit-progress-bar {\n",
              "        background: #F44336;\n",
              "    }\n",
              "</style>\n"
            ]
          },
          "metadata": {}
        },
        {
          "output_type": "display_data",
          "data": {
            "text/plain": [
              "<IPython.core.display.HTML object>"
            ],
            "text/html": [
              "\n",
              "    <div>\n",
              "      <progress value='4000' class='' max='4000' style='width:300px; height:20px; vertical-align: middle;'></progress>\n",
              "      100.00% [4000/4000 00:02&lt;00:00]\n",
              "    </div>\n",
              "    "
            ]
          },
          "metadata": {}
        },
        {
          "output_type": "display_data",
          "data": {
            "text/plain": [
              "<IPython.core.display.HTML object>"
            ],
            "text/html": [
              "\n",
              "<style>\n",
              "    /* Turns off some styling */\n",
              "    progress {\n",
              "        /* gets rid of default border in Firefox and Opera. */\n",
              "        border: none;\n",
              "        /* Needs to be in here for Safari polyfill so background images work as expected. */\n",
              "        background-size: auto;\n",
              "    }\n",
              "    progress:not([value]), progress:not([value])::-webkit-progress-bar {\n",
              "        background: repeating-linear-gradient(45deg, #7e7e7e, #7e7e7e 10px, #5c5c5c 10px, #5c5c5c 20px);\n",
              "    }\n",
              "    .progress-bar-interrupted, .progress-bar-interrupted::-webkit-progress-bar {\n",
              "        background: #F44336;\n",
              "    }\n",
              "</style>\n"
            ]
          },
          "metadata": {}
        },
        {
          "output_type": "display_data",
          "data": {
            "text/plain": [
              "<IPython.core.display.HTML object>"
            ],
            "text/html": [
              "\n",
              "    <div>\n",
              "      <progress value='3000' class='' max='3000' style='width:300px; height:20px; vertical-align: middle;'></progress>\n",
              "      100.00% [3000/3000 02:19&lt;00:00 Sampling chain 0, 0 divergences]\n",
              "    </div>\n",
              "    "
            ]
          },
          "metadata": {}
        },
        {
          "output_type": "display_data",
          "data": {
            "text/plain": [
              "<IPython.core.display.HTML object>"
            ],
            "text/html": [
              "\n",
              "<style>\n",
              "    /* Turns off some styling */\n",
              "    progress {\n",
              "        /* gets rid of default border in Firefox and Opera. */\n",
              "        border: none;\n",
              "        /* Needs to be in here for Safari polyfill so background images work as expected. */\n",
              "        background-size: auto;\n",
              "    }\n",
              "    progress:not([value]), progress:not([value])::-webkit-progress-bar {\n",
              "        background: repeating-linear-gradient(45deg, #7e7e7e, #7e7e7e 10px, #5c5c5c 10px, #5c5c5c 20px);\n",
              "    }\n",
              "    .progress-bar-interrupted, .progress-bar-interrupted::-webkit-progress-bar {\n",
              "        background: #F44336;\n",
              "    }\n",
              "</style>\n"
            ]
          },
          "metadata": {}
        },
        {
          "output_type": "display_data",
          "data": {
            "text/plain": [
              "<IPython.core.display.HTML object>"
            ],
            "text/html": [
              "\n",
              "    <div>\n",
              "      <progress value='3000' class='' max='3000' style='width:300px; height:20px; vertical-align: middle;'></progress>\n",
              "      100.00% [3000/3000 02:21&lt;00:00 Sampling chain 1, 0 divergences]\n",
              "    </div>\n",
              "    "
            ]
          },
          "metadata": {}
        },
        {
          "output_type": "display_data",
          "data": {
            "text/plain": [
              "<IPython.core.display.HTML object>"
            ],
            "text/html": [
              "\n",
              "<style>\n",
              "    /* Turns off some styling */\n",
              "    progress {\n",
              "        /* gets rid of default border in Firefox and Opera. */\n",
              "        border: none;\n",
              "        /* Needs to be in here for Safari polyfill so background images work as expected. */\n",
              "        background-size: auto;\n",
              "    }\n",
              "    progress:not([value]), progress:not([value])::-webkit-progress-bar {\n",
              "        background: repeating-linear-gradient(45deg, #7e7e7e, #7e7e7e 10px, #5c5c5c 10px, #5c5c5c 20px);\n",
              "    }\n",
              "    .progress-bar-interrupted, .progress-bar-interrupted::-webkit-progress-bar {\n",
              "        background: #F44336;\n",
              "    }\n",
              "</style>\n"
            ]
          },
          "metadata": {}
        },
        {
          "output_type": "display_data",
          "data": {
            "text/plain": [
              "<IPython.core.display.HTML object>"
            ],
            "text/html": [
              "\n",
              "    <div>\n",
              "      <progress value='3000' class='' max='3000' style='width:300px; height:20px; vertical-align: middle;'></progress>\n",
              "      100.00% [3000/3000 01:52&lt;00:00 Sampling chain 0, 0 divergences]\n",
              "    </div>\n",
              "    "
            ]
          },
          "metadata": {}
        },
        {
          "output_type": "display_data",
          "data": {
            "text/plain": [
              "<IPython.core.display.HTML object>"
            ],
            "text/html": [
              "\n",
              "<style>\n",
              "    /* Turns off some styling */\n",
              "    progress {\n",
              "        /* gets rid of default border in Firefox and Opera. */\n",
              "        border: none;\n",
              "        /* Needs to be in here for Safari polyfill so background images work as expected. */\n",
              "        background-size: auto;\n",
              "    }\n",
              "    progress:not([value]), progress:not([value])::-webkit-progress-bar {\n",
              "        background: repeating-linear-gradient(45deg, #7e7e7e, #7e7e7e 10px, #5c5c5c 10px, #5c5c5c 20px);\n",
              "    }\n",
              "    .progress-bar-interrupted, .progress-bar-interrupted::-webkit-progress-bar {\n",
              "        background: #F44336;\n",
              "    }\n",
              "</style>\n"
            ]
          },
          "metadata": {}
        },
        {
          "output_type": "display_data",
          "data": {
            "text/plain": [
              "<IPython.core.display.HTML object>"
            ],
            "text/html": [
              "\n",
              "    <div>\n",
              "      <progress value='3000' class='' max='3000' style='width:300px; height:20px; vertical-align: middle;'></progress>\n",
              "      100.00% [3000/3000 01:51&lt;00:00 Sampling chain 1, 0 divergences]\n",
              "    </div>\n",
              "    "
            ]
          },
          "metadata": {}
        },
        {
          "output_type": "stream",
          "name": "stderr",
          "text": [
            "<ipython-input-8-175c2f4f91ba>:23: FutureWarning: The series.append method is deprecated and will be removed from pandas in a future version. Use pandas.concat instead.\n",
            "  return testingData.append(pd.Series(np.zeros(trainingDataSize-len(testingData), dtype=int)))\n",
            "<ipython-input-8-175c2f4f91ba>:23: FutureWarning: The series.append method is deprecated and will be removed from pandas in a future version. Use pandas.concat instead.\n",
            "  return testingData.append(pd.Series(np.zeros(trainingDataSize-len(testingData), dtype=int)))\n",
            "<ipython-input-8-175c2f4f91ba>:23: FutureWarning: The series.append method is deprecated and will be removed from pandas in a future version. Use pandas.concat instead.\n",
            "  return testingData.append(pd.Series(np.zeros(trainingDataSize-len(testingData), dtype=int)))\n",
            "<ipython-input-8-175c2f4f91ba>:23: FutureWarning: The series.append method is deprecated and will be removed from pandas in a future version. Use pandas.concat instead.\n",
            "  return testingData.append(pd.Series(np.zeros(trainingDataSize-len(testingData), dtype=int)))\n",
            "<ipython-input-8-175c2f4f91ba>:23: FutureWarning: The series.append method is deprecated and will be removed from pandas in a future version. Use pandas.concat instead.\n",
            "  return testingData.append(pd.Series(np.zeros(trainingDataSize-len(testingData), dtype=int)))\n",
            "<ipython-input-8-175c2f4f91ba>:23: FutureWarning: The series.append method is deprecated and will be removed from pandas in a future version. Use pandas.concat instead.\n",
            "  return testingData.append(pd.Series(np.zeros(trainingDataSize-len(testingData), dtype=int)))\n",
            "<ipython-input-8-175c2f4f91ba>:23: FutureWarning: The series.append method is deprecated and will be removed from pandas in a future version. Use pandas.concat instead.\n",
            "  return testingData.append(pd.Series(np.zeros(trainingDataSize-len(testingData), dtype=int)))\n",
            "<ipython-input-8-175c2f4f91ba>:23: FutureWarning: The series.append method is deprecated and will be removed from pandas in a future version. Use pandas.concat instead.\n",
            "  return testingData.append(pd.Series(np.zeros(trainingDataSize-len(testingData), dtype=int)))\n",
            "<ipython-input-8-175c2f4f91ba>:23: FutureWarning: The series.append method is deprecated and will be removed from pandas in a future version. Use pandas.concat instead.\n",
            "  return testingData.append(pd.Series(np.zeros(trainingDataSize-len(testingData), dtype=int)))\n",
            "<ipython-input-8-175c2f4f91ba>:23: FutureWarning: The series.append method is deprecated and will be removed from pandas in a future version. Use pandas.concat instead.\n",
            "  return testingData.append(pd.Series(np.zeros(trainingDataSize-len(testingData), dtype=int)))\n",
            "<ipython-input-8-175c2f4f91ba>:23: FutureWarning: The series.append method is deprecated and will be removed from pandas in a future version. Use pandas.concat instead.\n",
            "  return testingData.append(pd.Series(np.zeros(trainingDataSize-len(testingData), dtype=int)))\n",
            "<ipython-input-8-175c2f4f91ba>:23: FutureWarning: The series.append method is deprecated and will be removed from pandas in a future version. Use pandas.concat instead.\n",
            "  return testingData.append(pd.Series(np.zeros(trainingDataSize-len(testingData), dtype=int)))\n"
          ]
        },
        {
          "output_type": "display_data",
          "data": {
            "text/plain": [
              "<IPython.core.display.HTML object>"
            ],
            "text/html": [
              "\n",
              "<style>\n",
              "    /* Turns off some styling */\n",
              "    progress {\n",
              "        /* gets rid of default border in Firefox and Opera. */\n",
              "        border: none;\n",
              "        /* Needs to be in here for Safari polyfill so background images work as expected. */\n",
              "        background-size: auto;\n",
              "    }\n",
              "    progress:not([value]), progress:not([value])::-webkit-progress-bar {\n",
              "        background: repeating-linear-gradient(45deg, #7e7e7e, #7e7e7e 10px, #5c5c5c 10px, #5c5c5c 20px);\n",
              "    }\n",
              "    .progress-bar-interrupted, .progress-bar-interrupted::-webkit-progress-bar {\n",
              "        background: #F44336;\n",
              "    }\n",
              "</style>\n"
            ]
          },
          "metadata": {}
        },
        {
          "output_type": "display_data",
          "data": {
            "text/plain": [
              "<IPython.core.display.HTML object>"
            ],
            "text/html": [
              "\n",
              "    <div>\n",
              "      <progress value='4000' class='' max='4000' style='width:300px; height:20px; vertical-align: middle;'></progress>\n",
              "      100.00% [4000/4000 00:03&lt;00:00]\n",
              "    </div>\n",
              "    "
            ]
          },
          "metadata": {}
        },
        {
          "output_type": "display_data",
          "data": {
            "text/plain": [
              "<IPython.core.display.HTML object>"
            ],
            "text/html": [
              "\n",
              "<style>\n",
              "    /* Turns off some styling */\n",
              "    progress {\n",
              "        /* gets rid of default border in Firefox and Opera. */\n",
              "        border: none;\n",
              "        /* Needs to be in here for Safari polyfill so background images work as expected. */\n",
              "        background-size: auto;\n",
              "    }\n",
              "    progress:not([value]), progress:not([value])::-webkit-progress-bar {\n",
              "        background: repeating-linear-gradient(45deg, #7e7e7e, #7e7e7e 10px, #5c5c5c 10px, #5c5c5c 20px);\n",
              "    }\n",
              "    .progress-bar-interrupted, .progress-bar-interrupted::-webkit-progress-bar {\n",
              "        background: #F44336;\n",
              "    }\n",
              "</style>\n"
            ]
          },
          "metadata": {}
        },
        {
          "output_type": "display_data",
          "data": {
            "text/plain": [
              "<IPython.core.display.HTML object>"
            ],
            "text/html": [
              "\n",
              "    <div>\n",
              "      <progress value='3000' class='' max='3000' style='width:300px; height:20px; vertical-align: middle;'></progress>\n",
              "      100.00% [3000/3000 02:13&lt;00:00 Sampling chain 0, 0 divergences]\n",
              "    </div>\n",
              "    "
            ]
          },
          "metadata": {}
        },
        {
          "output_type": "display_data",
          "data": {
            "text/plain": [
              "<IPython.core.display.HTML object>"
            ],
            "text/html": [
              "\n",
              "<style>\n",
              "    /* Turns off some styling */\n",
              "    progress {\n",
              "        /* gets rid of default border in Firefox and Opera. */\n",
              "        border: none;\n",
              "        /* Needs to be in here for Safari polyfill so background images work as expected. */\n",
              "        background-size: auto;\n",
              "    }\n",
              "    progress:not([value]), progress:not([value])::-webkit-progress-bar {\n",
              "        background: repeating-linear-gradient(45deg, #7e7e7e, #7e7e7e 10px, #5c5c5c 10px, #5c5c5c 20px);\n",
              "    }\n",
              "    .progress-bar-interrupted, .progress-bar-interrupted::-webkit-progress-bar {\n",
              "        background: #F44336;\n",
              "    }\n",
              "</style>\n"
            ]
          },
          "metadata": {}
        },
        {
          "output_type": "display_data",
          "data": {
            "text/plain": [
              "<IPython.core.display.HTML object>"
            ],
            "text/html": [
              "\n",
              "    <div>\n",
              "      <progress value='3000' class='' max='3000' style='width:300px; height:20px; vertical-align: middle;'></progress>\n",
              "      100.00% [3000/3000 02:00&lt;00:00 Sampling chain 1, 0 divergences]\n",
              "    </div>\n",
              "    "
            ]
          },
          "metadata": {}
        },
        {
          "output_type": "display_data",
          "data": {
            "text/plain": [
              "<IPython.core.display.HTML object>"
            ],
            "text/html": [
              "\n",
              "<style>\n",
              "    /* Turns off some styling */\n",
              "    progress {\n",
              "        /* gets rid of default border in Firefox and Opera. */\n",
              "        border: none;\n",
              "        /* Needs to be in here for Safari polyfill so background images work as expected. */\n",
              "        background-size: auto;\n",
              "    }\n",
              "    progress:not([value]), progress:not([value])::-webkit-progress-bar {\n",
              "        background: repeating-linear-gradient(45deg, #7e7e7e, #7e7e7e 10px, #5c5c5c 10px, #5c5c5c 20px);\n",
              "    }\n",
              "    .progress-bar-interrupted, .progress-bar-interrupted::-webkit-progress-bar {\n",
              "        background: #F44336;\n",
              "    }\n",
              "</style>\n"
            ]
          },
          "metadata": {}
        },
        {
          "output_type": "display_data",
          "data": {
            "text/plain": [
              "<IPython.core.display.HTML object>"
            ],
            "text/html": [
              "\n",
              "    <div>\n",
              "      <progress value='3000' class='' max='3000' style='width:300px; height:20px; vertical-align: middle;'></progress>\n",
              "      100.00% [3000/3000 01:54&lt;00:00 Sampling chain 0, 0 divergences]\n",
              "    </div>\n",
              "    "
            ]
          },
          "metadata": {}
        },
        {
          "output_type": "display_data",
          "data": {
            "text/plain": [
              "<IPython.core.display.HTML object>"
            ],
            "text/html": [
              "\n",
              "<style>\n",
              "    /* Turns off some styling */\n",
              "    progress {\n",
              "        /* gets rid of default border in Firefox and Opera. */\n",
              "        border: none;\n",
              "        /* Needs to be in here for Safari polyfill so background images work as expected. */\n",
              "        background-size: auto;\n",
              "    }\n",
              "    progress:not([value]), progress:not([value])::-webkit-progress-bar {\n",
              "        background: repeating-linear-gradient(45deg, #7e7e7e, #7e7e7e 10px, #5c5c5c 10px, #5c5c5c 20px);\n",
              "    }\n",
              "    .progress-bar-interrupted, .progress-bar-interrupted::-webkit-progress-bar {\n",
              "        background: #F44336;\n",
              "    }\n",
              "</style>\n"
            ]
          },
          "metadata": {}
        },
        {
          "output_type": "display_data",
          "data": {
            "text/plain": [
              "<IPython.core.display.HTML object>"
            ],
            "text/html": [
              "\n",
              "    <div>\n",
              "      <progress value='3000' class='' max='3000' style='width:300px; height:20px; vertical-align: middle;'></progress>\n",
              "      100.00% [3000/3000 02:08&lt;00:00 Sampling chain 1, 0 divergences]\n",
              "    </div>\n",
              "    "
            ]
          },
          "metadata": {}
        },
        {
          "output_type": "stream",
          "name": "stderr",
          "text": [
            "<ipython-input-8-175c2f4f91ba>:23: FutureWarning: The series.append method is deprecated and will be removed from pandas in a future version. Use pandas.concat instead.\n",
            "  return testingData.append(pd.Series(np.zeros(trainingDataSize-len(testingData), dtype=int)))\n",
            "<ipython-input-8-175c2f4f91ba>:23: FutureWarning: The series.append method is deprecated and will be removed from pandas in a future version. Use pandas.concat instead.\n",
            "  return testingData.append(pd.Series(np.zeros(trainingDataSize-len(testingData), dtype=int)))\n",
            "<ipython-input-8-175c2f4f91ba>:23: FutureWarning: The series.append method is deprecated and will be removed from pandas in a future version. Use pandas.concat instead.\n",
            "  return testingData.append(pd.Series(np.zeros(trainingDataSize-len(testingData), dtype=int)))\n",
            "<ipython-input-8-175c2f4f91ba>:23: FutureWarning: The series.append method is deprecated and will be removed from pandas in a future version. Use pandas.concat instead.\n",
            "  return testingData.append(pd.Series(np.zeros(trainingDataSize-len(testingData), dtype=int)))\n",
            "<ipython-input-8-175c2f4f91ba>:23: FutureWarning: The series.append method is deprecated and will be removed from pandas in a future version. Use pandas.concat instead.\n",
            "  return testingData.append(pd.Series(np.zeros(trainingDataSize-len(testingData), dtype=int)))\n",
            "<ipython-input-8-175c2f4f91ba>:23: FutureWarning: The series.append method is deprecated and will be removed from pandas in a future version. Use pandas.concat instead.\n",
            "  return testingData.append(pd.Series(np.zeros(trainingDataSize-len(testingData), dtype=int)))\n",
            "<ipython-input-8-175c2f4f91ba>:23: FutureWarning: The series.append method is deprecated and will be removed from pandas in a future version. Use pandas.concat instead.\n",
            "  return testingData.append(pd.Series(np.zeros(trainingDataSize-len(testingData), dtype=int)))\n",
            "<ipython-input-8-175c2f4f91ba>:23: FutureWarning: The series.append method is deprecated and will be removed from pandas in a future version. Use pandas.concat instead.\n",
            "  return testingData.append(pd.Series(np.zeros(trainingDataSize-len(testingData), dtype=int)))\n",
            "<ipython-input-8-175c2f4f91ba>:23: FutureWarning: The series.append method is deprecated and will be removed from pandas in a future version. Use pandas.concat instead.\n",
            "  return testingData.append(pd.Series(np.zeros(trainingDataSize-len(testingData), dtype=int)))\n",
            "<ipython-input-8-175c2f4f91ba>:23: FutureWarning: The series.append method is deprecated and will be removed from pandas in a future version. Use pandas.concat instead.\n",
            "  return testingData.append(pd.Series(np.zeros(trainingDataSize-len(testingData), dtype=int)))\n",
            "<ipython-input-8-175c2f4f91ba>:23: FutureWarning: The series.append method is deprecated and will be removed from pandas in a future version. Use pandas.concat instead.\n",
            "  return testingData.append(pd.Series(np.zeros(trainingDataSize-len(testingData), dtype=int)))\n",
            "<ipython-input-8-175c2f4f91ba>:23: FutureWarning: The series.append method is deprecated and will be removed from pandas in a future version. Use pandas.concat instead.\n",
            "  return testingData.append(pd.Series(np.zeros(trainingDataSize-len(testingData), dtype=int)))\n"
          ]
        },
        {
          "output_type": "display_data",
          "data": {
            "text/plain": [
              "<IPython.core.display.HTML object>"
            ],
            "text/html": [
              "\n",
              "<style>\n",
              "    /* Turns off some styling */\n",
              "    progress {\n",
              "        /* gets rid of default border in Firefox and Opera. */\n",
              "        border: none;\n",
              "        /* Needs to be in here for Safari polyfill so background images work as expected. */\n",
              "        background-size: auto;\n",
              "    }\n",
              "    progress:not([value]), progress:not([value])::-webkit-progress-bar {\n",
              "        background: repeating-linear-gradient(45deg, #7e7e7e, #7e7e7e 10px, #5c5c5c 10px, #5c5c5c 20px);\n",
              "    }\n",
              "    .progress-bar-interrupted, .progress-bar-interrupted::-webkit-progress-bar {\n",
              "        background: #F44336;\n",
              "    }\n",
              "</style>\n"
            ]
          },
          "metadata": {}
        },
        {
          "output_type": "display_data",
          "data": {
            "text/plain": [
              "<IPython.core.display.HTML object>"
            ],
            "text/html": [
              "\n",
              "    <div>\n",
              "      <progress value='4000' class='' max='4000' style='width:300px; height:20px; vertical-align: middle;'></progress>\n",
              "      100.00% [4000/4000 00:02&lt;00:00]\n",
              "    </div>\n",
              "    "
            ]
          },
          "metadata": {}
        },
        {
          "output_type": "display_data",
          "data": {
            "text/plain": [
              "<IPython.core.display.HTML object>"
            ],
            "text/html": [
              "\n",
              "<style>\n",
              "    /* Turns off some styling */\n",
              "    progress {\n",
              "        /* gets rid of default border in Firefox and Opera. */\n",
              "        border: none;\n",
              "        /* Needs to be in here for Safari polyfill so background images work as expected. */\n",
              "        background-size: auto;\n",
              "    }\n",
              "    progress:not([value]), progress:not([value])::-webkit-progress-bar {\n",
              "        background: repeating-linear-gradient(45deg, #7e7e7e, #7e7e7e 10px, #5c5c5c 10px, #5c5c5c 20px);\n",
              "    }\n",
              "    .progress-bar-interrupted, .progress-bar-interrupted::-webkit-progress-bar {\n",
              "        background: #F44336;\n",
              "    }\n",
              "</style>\n"
            ]
          },
          "metadata": {}
        },
        {
          "output_type": "display_data",
          "data": {
            "text/plain": [
              "<IPython.core.display.HTML object>"
            ],
            "text/html": [
              "\n",
              "    <div>\n",
              "      <progress value='3000' class='' max='3000' style='width:300px; height:20px; vertical-align: middle;'></progress>\n",
              "      100.00% [3000/3000 02:16&lt;00:00 Sampling chain 0, 0 divergences]\n",
              "    </div>\n",
              "    "
            ]
          },
          "metadata": {}
        },
        {
          "output_type": "display_data",
          "data": {
            "text/plain": [
              "<IPython.core.display.HTML object>"
            ],
            "text/html": [
              "\n",
              "<style>\n",
              "    /* Turns off some styling */\n",
              "    progress {\n",
              "        /* gets rid of default border in Firefox and Opera. */\n",
              "        border: none;\n",
              "        /* Needs to be in here for Safari polyfill so background images work as expected. */\n",
              "        background-size: auto;\n",
              "    }\n",
              "    progress:not([value]), progress:not([value])::-webkit-progress-bar {\n",
              "        background: repeating-linear-gradient(45deg, #7e7e7e, #7e7e7e 10px, #5c5c5c 10px, #5c5c5c 20px);\n",
              "    }\n",
              "    .progress-bar-interrupted, .progress-bar-interrupted::-webkit-progress-bar {\n",
              "        background: #F44336;\n",
              "    }\n",
              "</style>\n"
            ]
          },
          "metadata": {}
        },
        {
          "output_type": "display_data",
          "data": {
            "text/plain": [
              "<IPython.core.display.HTML object>"
            ],
            "text/html": [
              "\n",
              "    <div>\n",
              "      <progress value='3000' class='' max='3000' style='width:300px; height:20px; vertical-align: middle;'></progress>\n",
              "      100.00% [3000/3000 02:06&lt;00:00 Sampling chain 1, 0 divergences]\n",
              "    </div>\n",
              "    "
            ]
          },
          "metadata": {}
        },
        {
          "output_type": "display_data",
          "data": {
            "text/plain": [
              "<IPython.core.display.HTML object>"
            ],
            "text/html": [
              "\n",
              "<style>\n",
              "    /* Turns off some styling */\n",
              "    progress {\n",
              "        /* gets rid of default border in Firefox and Opera. */\n",
              "        border: none;\n",
              "        /* Needs to be in here for Safari polyfill so background images work as expected. */\n",
              "        background-size: auto;\n",
              "    }\n",
              "    progress:not([value]), progress:not([value])::-webkit-progress-bar {\n",
              "        background: repeating-linear-gradient(45deg, #7e7e7e, #7e7e7e 10px, #5c5c5c 10px, #5c5c5c 20px);\n",
              "    }\n",
              "    .progress-bar-interrupted, .progress-bar-interrupted::-webkit-progress-bar {\n",
              "        background: #F44336;\n",
              "    }\n",
              "</style>\n"
            ]
          },
          "metadata": {}
        },
        {
          "output_type": "display_data",
          "data": {
            "text/plain": [
              "<IPython.core.display.HTML object>"
            ],
            "text/html": [
              "\n",
              "    <div>\n",
              "      <progress value='3000' class='' max='3000' style='width:300px; height:20px; vertical-align: middle;'></progress>\n",
              "      100.00% [3000/3000 02:06&lt;00:00 Sampling chain 0, 0 divergences]\n",
              "    </div>\n",
              "    "
            ]
          },
          "metadata": {}
        },
        {
          "output_type": "display_data",
          "data": {
            "text/plain": [
              "<IPython.core.display.HTML object>"
            ],
            "text/html": [
              "\n",
              "<style>\n",
              "    /* Turns off some styling */\n",
              "    progress {\n",
              "        /* gets rid of default border in Firefox and Opera. */\n",
              "        border: none;\n",
              "        /* Needs to be in here for Safari polyfill so background images work as expected. */\n",
              "        background-size: auto;\n",
              "    }\n",
              "    progress:not([value]), progress:not([value])::-webkit-progress-bar {\n",
              "        background: repeating-linear-gradient(45deg, #7e7e7e, #7e7e7e 10px, #5c5c5c 10px, #5c5c5c 20px);\n",
              "    }\n",
              "    .progress-bar-interrupted, .progress-bar-interrupted::-webkit-progress-bar {\n",
              "        background: #F44336;\n",
              "    }\n",
              "</style>\n"
            ]
          },
          "metadata": {}
        },
        {
          "output_type": "display_data",
          "data": {
            "text/plain": [
              "<IPython.core.display.HTML object>"
            ],
            "text/html": [
              "\n",
              "    <div>\n",
              "      <progress value='3000' class='' max='3000' style='width:300px; height:20px; vertical-align: middle;'></progress>\n",
              "      100.00% [3000/3000 01:55&lt;00:00 Sampling chain 1, 0 divergences]\n",
              "    </div>\n",
              "    "
            ]
          },
          "metadata": {}
        },
        {
          "output_type": "stream",
          "name": "stderr",
          "text": [
            "<ipython-input-8-175c2f4f91ba>:23: FutureWarning: The series.append method is deprecated and will be removed from pandas in a future version. Use pandas.concat instead.\n",
            "  return testingData.append(pd.Series(np.zeros(trainingDataSize-len(testingData), dtype=int)))\n",
            "<ipython-input-8-175c2f4f91ba>:23: FutureWarning: The series.append method is deprecated and will be removed from pandas in a future version. Use pandas.concat instead.\n",
            "  return testingData.append(pd.Series(np.zeros(trainingDataSize-len(testingData), dtype=int)))\n",
            "<ipython-input-8-175c2f4f91ba>:23: FutureWarning: The series.append method is deprecated and will be removed from pandas in a future version. Use pandas.concat instead.\n",
            "  return testingData.append(pd.Series(np.zeros(trainingDataSize-len(testingData), dtype=int)))\n",
            "<ipython-input-8-175c2f4f91ba>:23: FutureWarning: The series.append method is deprecated and will be removed from pandas in a future version. Use pandas.concat instead.\n",
            "  return testingData.append(pd.Series(np.zeros(trainingDataSize-len(testingData), dtype=int)))\n",
            "<ipython-input-8-175c2f4f91ba>:23: FutureWarning: The series.append method is deprecated and will be removed from pandas in a future version. Use pandas.concat instead.\n",
            "  return testingData.append(pd.Series(np.zeros(trainingDataSize-len(testingData), dtype=int)))\n",
            "<ipython-input-8-175c2f4f91ba>:23: FutureWarning: The series.append method is deprecated and will be removed from pandas in a future version. Use pandas.concat instead.\n",
            "  return testingData.append(pd.Series(np.zeros(trainingDataSize-len(testingData), dtype=int)))\n",
            "<ipython-input-8-175c2f4f91ba>:23: FutureWarning: The series.append method is deprecated and will be removed from pandas in a future version. Use pandas.concat instead.\n",
            "  return testingData.append(pd.Series(np.zeros(trainingDataSize-len(testingData), dtype=int)))\n",
            "<ipython-input-8-175c2f4f91ba>:23: FutureWarning: The series.append method is deprecated and will be removed from pandas in a future version. Use pandas.concat instead.\n",
            "  return testingData.append(pd.Series(np.zeros(trainingDataSize-len(testingData), dtype=int)))\n",
            "<ipython-input-8-175c2f4f91ba>:23: FutureWarning: The series.append method is deprecated and will be removed from pandas in a future version. Use pandas.concat instead.\n",
            "  return testingData.append(pd.Series(np.zeros(trainingDataSize-len(testingData), dtype=int)))\n",
            "<ipython-input-8-175c2f4f91ba>:23: FutureWarning: The series.append method is deprecated and will be removed from pandas in a future version. Use pandas.concat instead.\n",
            "  return testingData.append(pd.Series(np.zeros(trainingDataSize-len(testingData), dtype=int)))\n",
            "<ipython-input-8-175c2f4f91ba>:23: FutureWarning: The series.append method is deprecated and will be removed from pandas in a future version. Use pandas.concat instead.\n",
            "  return testingData.append(pd.Series(np.zeros(trainingDataSize-len(testingData), dtype=int)))\n",
            "<ipython-input-8-175c2f4f91ba>:23: FutureWarning: The series.append method is deprecated and will be removed from pandas in a future version. Use pandas.concat instead.\n",
            "  return testingData.append(pd.Series(np.zeros(trainingDataSize-len(testingData), dtype=int)))\n"
          ]
        },
        {
          "output_type": "display_data",
          "data": {
            "text/plain": [
              "<IPython.core.display.HTML object>"
            ],
            "text/html": [
              "\n",
              "<style>\n",
              "    /* Turns off some styling */\n",
              "    progress {\n",
              "        /* gets rid of default border in Firefox and Opera. */\n",
              "        border: none;\n",
              "        /* Needs to be in here for Safari polyfill so background images work as expected. */\n",
              "        background-size: auto;\n",
              "    }\n",
              "    progress:not([value]), progress:not([value])::-webkit-progress-bar {\n",
              "        background: repeating-linear-gradient(45deg, #7e7e7e, #7e7e7e 10px, #5c5c5c 10px, #5c5c5c 20px);\n",
              "    }\n",
              "    .progress-bar-interrupted, .progress-bar-interrupted::-webkit-progress-bar {\n",
              "        background: #F44336;\n",
              "    }\n",
              "</style>\n"
            ]
          },
          "metadata": {}
        },
        {
          "output_type": "display_data",
          "data": {
            "text/plain": [
              "<IPython.core.display.HTML object>"
            ],
            "text/html": [
              "\n",
              "    <div>\n",
              "      <progress value='4000' class='' max='4000' style='width:300px; height:20px; vertical-align: middle;'></progress>\n",
              "      100.00% [4000/4000 00:02&lt;00:00]\n",
              "    </div>\n",
              "    "
            ]
          },
          "metadata": {}
        },
        {
          "output_type": "display_data",
          "data": {
            "text/plain": [
              "<IPython.core.display.HTML object>"
            ],
            "text/html": [
              "\n",
              "<style>\n",
              "    /* Turns off some styling */\n",
              "    progress {\n",
              "        /* gets rid of default border in Firefox and Opera. */\n",
              "        border: none;\n",
              "        /* Needs to be in here for Safari polyfill so background images work as expected. */\n",
              "        background-size: auto;\n",
              "    }\n",
              "    progress:not([value]), progress:not([value])::-webkit-progress-bar {\n",
              "        background: repeating-linear-gradient(45deg, #7e7e7e, #7e7e7e 10px, #5c5c5c 10px, #5c5c5c 20px);\n",
              "    }\n",
              "    .progress-bar-interrupted, .progress-bar-interrupted::-webkit-progress-bar {\n",
              "        background: #F44336;\n",
              "    }\n",
              "</style>\n"
            ]
          },
          "metadata": {}
        },
        {
          "output_type": "display_data",
          "data": {
            "text/plain": [
              "<IPython.core.display.HTML object>"
            ],
            "text/html": [
              "\n",
              "    <div>\n",
              "      <progress value='3000' class='' max='3000' style='width:300px; height:20px; vertical-align: middle;'></progress>\n",
              "      100.00% [3000/3000 02:28&lt;00:00 Sampling chain 0, 0 divergences]\n",
              "    </div>\n",
              "    "
            ]
          },
          "metadata": {}
        },
        {
          "output_type": "display_data",
          "data": {
            "text/plain": [
              "<IPython.core.display.HTML object>"
            ],
            "text/html": [
              "\n",
              "<style>\n",
              "    /* Turns off some styling */\n",
              "    progress {\n",
              "        /* gets rid of default border in Firefox and Opera. */\n",
              "        border: none;\n",
              "        /* Needs to be in here for Safari polyfill so background images work as expected. */\n",
              "        background-size: auto;\n",
              "    }\n",
              "    progress:not([value]), progress:not([value])::-webkit-progress-bar {\n",
              "        background: repeating-linear-gradient(45deg, #7e7e7e, #7e7e7e 10px, #5c5c5c 10px, #5c5c5c 20px);\n",
              "    }\n",
              "    .progress-bar-interrupted, .progress-bar-interrupted::-webkit-progress-bar {\n",
              "        background: #F44336;\n",
              "    }\n",
              "</style>\n"
            ]
          },
          "metadata": {}
        },
        {
          "output_type": "display_data",
          "data": {
            "text/plain": [
              "<IPython.core.display.HTML object>"
            ],
            "text/html": [
              "\n",
              "    <div>\n",
              "      <progress value='3000' class='' max='3000' style='width:300px; height:20px; vertical-align: middle;'></progress>\n",
              "      100.00% [3000/3000 02:12&lt;00:00 Sampling chain 1, 0 divergences]\n",
              "    </div>\n",
              "    "
            ]
          },
          "metadata": {}
        }
      ]
    },
    {
      "cell_type": "code",
      "source": [
        "model_train, min, max = SetupModel(children_training, uniformAbilitySlack=slack, agent_type='child', agent_name=agent, sample = None)\n",
        "with model_train:\n",
        "  data_training = pm.sample(pymc_sample_num, target_accept=0.95)\n",
        "\n",
        "predictions, testOutputs = predict(model_train, data_training, children_test, 'success', len(children_training))\n",
        "agentBrierScore, agentCalibration, agentRefinement = brierDecomp(predictions, testOutputs)\n",
        "agentAggBrierScore, agentAggCalibration, agentAggRefinement = brierDecomp(np.repeat(np.mean(children_training['success']), len(testOutputs)), testOutputs)\n",
        "aggregateBrierScore.append(agentAggBrierScore)\n",
        "aggregateCalibration.append(agentAggCalibration)\n",
        "aggregateRefinement.append(agentAggRefinement)\n",
        "modelBrierScore.append(agentBrierScore)\n",
        "modelCalibration.append(agentCalibration)\n",
        "modelRefinement.append(agentRefinement)\n",
        "if agentBrierScore < agentAggBrierScore:\n",
        "  modelBetterThanAgg.append(True)\n",
        "else:\n",
        "  modelBetterThanAgg.append(False)\n",
        "\n",
        "model_all, min, max = SetupModel(children_data, uniformAbilitySlack=slack, agent_type='child', sample = None)\n",
        "with model_all:\n",
        "  data_all = pm.sample(pymc_sample_num, target_accept=0.95)\n",
        "mu, sd  = analyzeAgentResults(\"child\", data_all, abilitiesToShow)\n",
        "\n",
        "OPAbilityAllMean.append(mu[\"objPermAbility\"])\n",
        "visualAcuityAbilityAllMean.append(mu[\"visualAcuityAbility\"])\n",
        "flatNavAbilityAllMean.append(mu[\"flatNavAbility\"])\n",
        "lavaAbilityAllMean.append(mu[\"lavaAbility\"])\n",
        "rightAbilityAllMean.append(mu[\"rightAbility\"])\n",
        "leftAbilityAllMean.append(mu[\"leftAbility\"])\n",
        "aheadAbilityAllMean.append(mu[\"aheadAbility\"])\n",
        "CVChickAbilityAllMean.append(mu[\"CVChickAbility\"])\n",
        "PCTBAbilityAllMean.append(mu[\"PCTBAbility\"])\n",
        "lightsOutAbilityAllMean.append(mu[\"lightsOutAbility\"])\n",
        "noiseParAllMean.append(mu[\"noisePar\"])\n",
        "OPAbilityAllSD.append(sd[\"objPermAbility\"])\n",
        "visualAcuityAbilityAllSD.append(sd[\"visualAcuityAbility\"])\n",
        "flatNavAbilityAllSD.append(sd[\"flatNavAbility\"])\n",
        "lavaAbilityAllSD.append(sd[\"lavaAbility\"])\n",
        "rightAbilityAllSD.append(sd[\"rightAbility\"])\n",
        "leftAbilityAllSD.append(sd[\"leftAbility\"])\n",
        "aheadAbilityAllSD.append(sd[\"aheadAbility\"])\n",
        "CVChickAbilityAllSD.append(sd[\"CVChickAbility\"])\n",
        "PCTBAbilityAllSD.append(sd[\"PCTBAbility\"])\n",
        "lightsOutAbilityAllSD.append(sd[\"lightsOutAbility\"])\n",
        "noiseParAllSD.append(sd[\"noisePar\"])\n",
        "OPAbilityAllMin.append(min[\"objPermAbility\"])\n",
        "visualAcuityAbilityAllMin.append(min[\"visualAcuityAbility\"])\n",
        "flatNavAbilityAllMin.append(min[\"flatNavAbility\"])\n",
        "lavaAbilityAllMin.append(min[\"lavaAbility\"])\n",
        "rightAbilityAllMin.append(min[\"rightAbility\"])\n",
        "leftAbilityAllMin.append(min[\"leftAbility\"])\n",
        "aheadAbilityAllMin.append(min[\"aheadAbility\"])\n",
        "CVChickAbilityAllMin.append(min[\"CVChickAbility\"])\n",
        "PCTBAbilityAllMin.append(min[\"PCTBAbility\"])\n",
        "lightsOutAbilityAllMin.append(min[\"lightsOutAbility\"])\n",
        "noiseParAllMin.append(0)\n",
        "OPAbilityAllMax.append(max[\"objPermAbility\"])\n",
        "visualAcuityAbilityAllMax.append(max[\"visualAcuityAbility\"])\n",
        "flatNavAbilityAllMax.append(max[\"flatNavAbility\"])\n",
        "lavaAbilityAllMax.append(max[\"lavaAbility\"])\n",
        "rightAbilityAllMax.append(max[\"rightAbility\"])\n",
        "leftAbilityAllMax.append(max[\"leftAbility\"])\n",
        "aheadAbilityAllMax.append(max[\"aheadAbility\"])\n",
        "CVChickAbilityAllMax.append(max[\"CVChickAbility\"])\n",
        "PCTBAbilityAllMax.append(max[\"PCTBAbility\"])\n",
        "lightsOutAbilityAllMax.append(max[\"lightsOutAbility\"])\n",
        "noiseParAllMax.append(1)\n",
        "\n",
        "meanSuccess.append(np.mean(children_data['success']))\n",
        "agentName.append('children')\n",
        "\n",
        "finalDF = pd.DataFrame({\"Agent Name\": agentName,\n",
        "                        \"Model Brier Score\":modelBrierScore,\n",
        "                        \"Aggregate Brier Scores\": aggregateBrierScore,\n",
        "                        \"Model Calibration\": modelCalibration,\n",
        "                        \"Aggregate Calibration\":aggregateCalibration,\n",
        "                        \"Model Refinement\":modelRefinement,\n",
        "                        \"Aggregate Refinement\":aggregateRefinement,\n",
        "                        \"Model Better? (Based on Brier Score)\":modelBetterThanAgg,\n",
        "                        \"Success Score\":meanSuccess,\n",
        "                        \"Object Permanence Ability Mean (All)\": OPAbilityAllMean,\n",
        "                        \"Visual Acuity Ability Mean (All)\" : visualAcuityAbilityAllMean,\n",
        "                        \"Flat Navigation Ability Mean (All)\" : flatNavAbilityAllMean,\n",
        "                        \"Lava Ability Mean (All)\" : lavaAbilityAllMean,\n",
        "                        \"Right Ability Mean (All)\" : rightAbilityAllMean,\n",
        "                        \"Left Ability Mean (All)\" : leftAbilityAllMean,\n",
        "                        \"Ahead Ability Mean (All)\" : aheadAbilityAllMean,\n",
        "                        \"CVChick Ability Mean (All)\" : CVChickAbilityAllMean,\n",
        "                        \"PCTB Ability Mean (All)\" :  PCTBAbilityAllMean,\n",
        "                        \"Lights Out Ability Mean (All)\" : lightsOutAbilityAllMean,\n",
        "                        \"Noise Parameter Mean (All)\" : noiseParAllMean,\n",
        "                        \"Object Permanence Ability SD (All)\": OPAbilityAllSD,\n",
        "                        \"Visual Acuity Ability SD (All)\" : visualAcuityAbilityAllSD,\n",
        "                        \"Flat Navigation Ability SD (All)\" : flatNavAbilityAllSD,\n",
        "                        \"Lava Ability SD (All)\" : lavaAbilityAllSD,\n",
        "                        \"Right Ability SD (All)\" : rightAbilityAllSD,\n",
        "                        \"Left Ability SD (All)\" : leftAbilityAllSD,\n",
        "                        \"Ahead Ability SD (All)\" : aheadAbilityAllSD,\n",
        "                        \"CVChick Ability SD (All)\" : CVChickAbilityAllSD,\n",
        "                        \"PCTB Ability SD (All)\" :  PCTBAbilityAllSD,\n",
        "                        \"Lights Out Ability SD (All)\" : lightsOutAbilityAllSD,\n",
        "                        \"Noise Parameter SD (All)\" : noiseParAllSD,\n",
        "                        \"Object Permanence Ability Min (All)\": OPAbilityAllMin,\n",
        "                        \"Visual Acuity Ability Min (All)\" : visualAcuityAbilityAllMin,\n",
        "                        \"Flat Navigation Ability Min (All)\" : flatNavAbilityAllMin,\n",
        "                        \"Lava Ability Min (All)\" : lavaAbilityAllMin,\n",
        "                        \"Right Ability Min (All)\" : rightAbilityAllMin,\n",
        "                        \"Left Ability Min (All)\" : leftAbilityAllMin,\n",
        "                        \"Ahead Ability Min (All)\" : aheadAbilityAllMin,\n",
        "                        \"CVChick Ability Min (All)\" : CVChickAbilityAllMin,\n",
        "                        \"PCTB Ability Min (All)\" :  PCTBAbilityAllMin,\n",
        "                        \"Lights Out Ability Min (All)\" : lightsOutAbilityAllMin,\n",
        "                        \"Noise Parameter Min (All)\" : noiseParAllMin,\n",
        "                        \"Object Permanence Ability Max (All)\": OPAbilityAllMax,\n",
        "                        \"Visual Acuity Ability Max (All)\" : visualAcuityAbilityAllMax,\n",
        "                        \"Flat Navigation Ability Max (All)\" : flatNavAbilityAllMax,\n",
        "                        \"Lava Ability Max (All)\" : lavaAbilityAllMax,\n",
        "                        \"Right Ability Max (All)\" : rightAbilityAllMax,\n",
        "                        \"Left Ability Max (All)\" : leftAbilityAllMax,\n",
        "                        \"Ahead Ability Max (All)\" : aheadAbilityAllMax,\n",
        "                        \"CVChick Ability Max (All)\" : CVChickAbilityAllMax,\n",
        "                        \"PCTB Ability Max (All)\" :  PCTBAbilityAllMax,\n",
        "                        \"Lights Out Ability Max (All)\" : lightsOutAbilityAllMax,\n",
        "                        \"Noise Parameter Max (All)\" : noiseParAllMax})\n",
        "#finalDF.to_csv(\"/content/drive/Shareddrives/comparative-object-permanence/finalResults.csv\", index = False)\n"
      ],
      "metadata": {
        "id": "4KFFn5Lwaj5H",
        "outputId": "f40b1120-08c7-40be-b34b-84b2eec4ad73",
        "colab": {
          "base_uri": "https://localhost:8080/",
          "height": 533
        }
      },
      "execution_count": 31,
      "outputs": [
        {
          "output_type": "display_data",
          "data": {
            "text/plain": [
              "<IPython.core.display.HTML object>"
            ],
            "text/html": [
              "\n",
              "<style>\n",
              "    /* Turns off some styling */\n",
              "    progress {\n",
              "        /* gets rid of default border in Firefox and Opera. */\n",
              "        border: none;\n",
              "        /* Needs to be in here for Safari polyfill so background images work as expected. */\n",
              "        background-size: auto;\n",
              "    }\n",
              "    progress:not([value]), progress:not([value])::-webkit-progress-bar {\n",
              "        background: repeating-linear-gradient(45deg, #7e7e7e, #7e7e7e 10px, #5c5c5c 10px, #5c5c5c 20px);\n",
              "    }\n",
              "    .progress-bar-interrupted, .progress-bar-interrupted::-webkit-progress-bar {\n",
              "        background: #F44336;\n",
              "    }\n",
              "</style>\n"
            ]
          },
          "metadata": {}
        },
        {
          "output_type": "display_data",
          "data": {
            "text/plain": [
              "<IPython.core.display.HTML object>"
            ],
            "text/html": [
              "\n",
              "    <div>\n",
              "      <progress value='3000' class='' max='3000' style='width:300px; height:20px; vertical-align: middle;'></progress>\n",
              "      100.00% [3000/3000 01:10&lt;00:00 Sampling chain 0, 0 divergences]\n",
              "    </div>\n",
              "    "
            ]
          },
          "metadata": {}
        },
        {
          "output_type": "display_data",
          "data": {
            "text/plain": [
              "<IPython.core.display.HTML object>"
            ],
            "text/html": [
              "\n",
              "<style>\n",
              "    /* Turns off some styling */\n",
              "    progress {\n",
              "        /* gets rid of default border in Firefox and Opera. */\n",
              "        border: none;\n",
              "        /* Needs to be in here for Safari polyfill so background images work as expected. */\n",
              "        background-size: auto;\n",
              "    }\n",
              "    progress:not([value]), progress:not([value])::-webkit-progress-bar {\n",
              "        background: repeating-linear-gradient(45deg, #7e7e7e, #7e7e7e 10px, #5c5c5c 10px, #5c5c5c 20px);\n",
              "    }\n",
              "    .progress-bar-interrupted, .progress-bar-interrupted::-webkit-progress-bar {\n",
              "        background: #F44336;\n",
              "    }\n",
              "</style>\n"
            ]
          },
          "metadata": {}
        },
        {
          "output_type": "display_data",
          "data": {
            "text/plain": [
              "<IPython.core.display.HTML object>"
            ],
            "text/html": [
              "\n",
              "    <div>\n",
              "      <progress value='3000' class='' max='3000' style='width:300px; height:20px; vertical-align: middle;'></progress>\n",
              "      100.00% [3000/3000 01:13&lt;00:00 Sampling chain 1, 0 divergences]\n",
              "    </div>\n",
              "    "
            ]
          },
          "metadata": {}
        },
        {
          "output_type": "stream",
          "name": "stderr",
          "text": [
            "<ipython-input-8-175c2f4f91ba>:23: FutureWarning: The series.append method is deprecated and will be removed from pandas in a future version. Use pandas.concat instead.\n",
            "  return testingData.append(pd.Series(np.zeros(trainingDataSize-len(testingData), dtype=int)))\n",
            "<ipython-input-8-175c2f4f91ba>:23: FutureWarning: The series.append method is deprecated and will be removed from pandas in a future version. Use pandas.concat instead.\n",
            "  return testingData.append(pd.Series(np.zeros(trainingDataSize-len(testingData), dtype=int)))\n",
            "<ipython-input-8-175c2f4f91ba>:23: FutureWarning: The series.append method is deprecated and will be removed from pandas in a future version. Use pandas.concat instead.\n",
            "  return testingData.append(pd.Series(np.zeros(trainingDataSize-len(testingData), dtype=int)))\n",
            "<ipython-input-8-175c2f4f91ba>:23: FutureWarning: The series.append method is deprecated and will be removed from pandas in a future version. Use pandas.concat instead.\n",
            "  return testingData.append(pd.Series(np.zeros(trainingDataSize-len(testingData), dtype=int)))\n",
            "<ipython-input-8-175c2f4f91ba>:23: FutureWarning: The series.append method is deprecated and will be removed from pandas in a future version. Use pandas.concat instead.\n",
            "  return testingData.append(pd.Series(np.zeros(trainingDataSize-len(testingData), dtype=int)))\n",
            "<ipython-input-8-175c2f4f91ba>:23: FutureWarning: The series.append method is deprecated and will be removed from pandas in a future version. Use pandas.concat instead.\n",
            "  return testingData.append(pd.Series(np.zeros(trainingDataSize-len(testingData), dtype=int)))\n",
            "<ipython-input-8-175c2f4f91ba>:23: FutureWarning: The series.append method is deprecated and will be removed from pandas in a future version. Use pandas.concat instead.\n",
            "  return testingData.append(pd.Series(np.zeros(trainingDataSize-len(testingData), dtype=int)))\n",
            "<ipython-input-8-175c2f4f91ba>:23: FutureWarning: The series.append method is deprecated and will be removed from pandas in a future version. Use pandas.concat instead.\n",
            "  return testingData.append(pd.Series(np.zeros(trainingDataSize-len(testingData), dtype=int)))\n",
            "<ipython-input-8-175c2f4f91ba>:23: FutureWarning: The series.append method is deprecated and will be removed from pandas in a future version. Use pandas.concat instead.\n",
            "  return testingData.append(pd.Series(np.zeros(trainingDataSize-len(testingData), dtype=int)))\n",
            "<ipython-input-8-175c2f4f91ba>:23: FutureWarning: The series.append method is deprecated and will be removed from pandas in a future version. Use pandas.concat instead.\n",
            "  return testingData.append(pd.Series(np.zeros(trainingDataSize-len(testingData), dtype=int)))\n",
            "<ipython-input-8-175c2f4f91ba>:23: FutureWarning: The series.append method is deprecated and will be removed from pandas in a future version. Use pandas.concat instead.\n",
            "  return testingData.append(pd.Series(np.zeros(trainingDataSize-len(testingData), dtype=int)))\n",
            "<ipython-input-8-175c2f4f91ba>:23: FutureWarning: The series.append method is deprecated and will be removed from pandas in a future version. Use pandas.concat instead.\n",
            "  return testingData.append(pd.Series(np.zeros(trainingDataSize-len(testingData), dtype=int)))\n"
          ]
        },
        {
          "output_type": "display_data",
          "data": {
            "text/plain": [
              "<IPython.core.display.HTML object>"
            ],
            "text/html": [
              "\n",
              "<style>\n",
              "    /* Turns off some styling */\n",
              "    progress {\n",
              "        /* gets rid of default border in Firefox and Opera. */\n",
              "        border: none;\n",
              "        /* Needs to be in here for Safari polyfill so background images work as expected. */\n",
              "        background-size: auto;\n",
              "    }\n",
              "    progress:not([value]), progress:not([value])::-webkit-progress-bar {\n",
              "        background: repeating-linear-gradient(45deg, #7e7e7e, #7e7e7e 10px, #5c5c5c 10px, #5c5c5c 20px);\n",
              "    }\n",
              "    .progress-bar-interrupted, .progress-bar-interrupted::-webkit-progress-bar {\n",
              "        background: #F44336;\n",
              "    }\n",
              "</style>\n"
            ]
          },
          "metadata": {}
        },
        {
          "output_type": "display_data",
          "data": {
            "text/plain": [
              "<IPython.core.display.HTML object>"
            ],
            "text/html": [
              "\n",
              "    <div>\n",
              "      <progress value='4000' class='' max='4000' style='width:300px; height:20px; vertical-align: middle;'></progress>\n",
              "      100.00% [4000/4000 00:01&lt;00:00]\n",
              "    </div>\n",
              "    "
            ]
          },
          "metadata": {}
        },
        {
          "output_type": "display_data",
          "data": {
            "text/plain": [
              "<IPython.core.display.HTML object>"
            ],
            "text/html": [
              "\n",
              "<style>\n",
              "    /* Turns off some styling */\n",
              "    progress {\n",
              "        /* gets rid of default border in Firefox and Opera. */\n",
              "        border: none;\n",
              "        /* Needs to be in here for Safari polyfill so background images work as expected. */\n",
              "        background-size: auto;\n",
              "    }\n",
              "    progress:not([value]), progress:not([value])::-webkit-progress-bar {\n",
              "        background: repeating-linear-gradient(45deg, #7e7e7e, #7e7e7e 10px, #5c5c5c 10px, #5c5c5c 20px);\n",
              "    }\n",
              "    .progress-bar-interrupted, .progress-bar-interrupted::-webkit-progress-bar {\n",
              "        background: #F44336;\n",
              "    }\n",
              "</style>\n"
            ]
          },
          "metadata": {}
        },
        {
          "output_type": "display_data",
          "data": {
            "text/plain": [
              "<IPython.core.display.HTML object>"
            ],
            "text/html": [
              "\n",
              "    <div>\n",
              "      <progress value='3000' class='' max='3000' style='width:300px; height:20px; vertical-align: middle;'></progress>\n",
              "      100.00% [3000/3000 01:34&lt;00:00 Sampling chain 0, 0 divergences]\n",
              "    </div>\n",
              "    "
            ]
          },
          "metadata": {}
        },
        {
          "output_type": "display_data",
          "data": {
            "text/plain": [
              "<IPython.core.display.HTML object>"
            ],
            "text/html": [
              "\n",
              "<style>\n",
              "    /* Turns off some styling */\n",
              "    progress {\n",
              "        /* gets rid of default border in Firefox and Opera. */\n",
              "        border: none;\n",
              "        /* Needs to be in here for Safari polyfill so background images work as expected. */\n",
              "        background-size: auto;\n",
              "    }\n",
              "    progress:not([value]), progress:not([value])::-webkit-progress-bar {\n",
              "        background: repeating-linear-gradient(45deg, #7e7e7e, #7e7e7e 10px, #5c5c5c 10px, #5c5c5c 20px);\n",
              "    }\n",
              "    .progress-bar-interrupted, .progress-bar-interrupted::-webkit-progress-bar {\n",
              "        background: #F44336;\n",
              "    }\n",
              "</style>\n"
            ]
          },
          "metadata": {}
        },
        {
          "output_type": "display_data",
          "data": {
            "text/plain": [
              "<IPython.core.display.HTML object>"
            ],
            "text/html": [
              "\n",
              "    <div>\n",
              "      <progress value='3000' class='' max='3000' style='width:300px; height:20px; vertical-align: middle;'></progress>\n",
              "      100.00% [3000/3000 01:20&lt;00:00 Sampling chain 1, 0 divergences]\n",
              "    </div>\n",
              "    "
            ]
          },
          "metadata": {}
        }
      ]
    },
    {
      "cell_type": "code",
      "source": [
        "with open('/content/drive/Shareddrives/comparative-object-permanence/finalResults.pkl', 'wb') as f:\n",
        "      pickle.dump(finalDF, f)"
      ],
      "metadata": {
        "id": "yf1a4jo83lBH"
      },
      "execution_count": 38,
      "outputs": []
    },
    {
      "cell_type": "code",
      "source": [
        "## Not run: in case evaluation stops.\n",
        "# with open('/content/drive/Shareddrives/comparative-object-permanence/finalResults.pkl', 'rb') as f:\n",
        "#       originaldata = pickle.load(f)\n",
        "# output = pd.concat([originaldata, finalDF], axis = 0)"
      ],
      "metadata": {
        "id": "UFynZd5OBwff"
      },
      "execution_count": 32,
      "outputs": []
    }
  ]
}