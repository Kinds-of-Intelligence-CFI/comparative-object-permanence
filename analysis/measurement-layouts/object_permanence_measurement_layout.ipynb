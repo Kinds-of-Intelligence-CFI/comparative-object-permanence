{
  "nbformat": 4,
  "nbformat_minor": 0,
  "metadata": {
    "colab": {
      "provenance": [],
      "include_colab_link": true
    },
    "kernelspec": {
      "name": "python3",
      "display_name": "Python 3"
    },
    "language_info": {
      "name": "python"
    }
  },
  "cells": [
    {
      "cell_type": "markdown",
      "metadata": {
        "id": "view-in-github",
        "colab_type": "text"
      },
      "source": [
        "<a href=\"https://colab.research.google.com/github/Kinds-of-Intelligence-CFI/comparative-object-permanence/blob/measurement-layout/analysis/measurement-layouts/object_permanence_measurement_layout.ipynb\" target=\"_parent\"><img src=\"https://colab.research.google.com/assets/colab-badge.svg\" alt=\"Open In Colab\"/></a>"
      ]
    },
    {
      "cell_type": "markdown",
      "source": [
        "# Comparative Object Permanence Measurement Layouts\n",
        "\n",
        "Authors: K. Voudouris, J. Burden, J. Hernández-Orallo"
      ],
      "metadata": {
        "id": "U27yVRKBqCpj"
      }
    },
    {
      "cell_type": "markdown",
      "source": [
        "## INIT"
      ],
      "metadata": {
        "id": "95RSQ17Lriav"
      }
    },
    {
      "cell_type": "code",
      "execution_count": 142,
      "metadata": {
        "id": "MLYI9s6Lp3fi",
        "outputId": "309960e2-cb99-42f8-8429-c3d32e89bde7",
        "colab": {
          "base_uri": "https://localhost:8080/"
        }
      },
      "outputs": [
        {
          "output_type": "stream",
          "name": "stdout",
          "text": [
            "Requirement already satisfied: pymc in /usr/local/lib/python3.10/dist-packages (5.7.2)\n",
            "Requirement already satisfied: arviz>=0.13.0 in /usr/local/lib/python3.10/dist-packages (from pymc) (0.15.1)\n",
            "Requirement already satisfied: cachetools>=4.2.1 in /usr/local/lib/python3.10/dist-packages (from pymc) (5.3.1)\n",
            "Requirement already satisfied: cloudpickle in /usr/local/lib/python3.10/dist-packages (from pymc) (2.2.1)\n",
            "Requirement already satisfied: fastprogress>=0.2.0 in /usr/local/lib/python3.10/dist-packages (from pymc) (1.0.3)\n",
            "Requirement already satisfied: numpy>=1.15.0 in /usr/local/lib/python3.10/dist-packages (from pymc) (1.23.5)\n",
            "Requirement already satisfied: pandas>=0.24.0 in /usr/local/lib/python3.10/dist-packages (from pymc) (1.5.3)\n",
            "Requirement already satisfied: pytensor<2.15,>=2.14.1 in /usr/local/lib/python3.10/dist-packages (from pymc) (2.14.2)\n",
            "Requirement already satisfied: scipy>=1.4.1 in /usr/local/lib/python3.10/dist-packages (from pymc) (1.10.1)\n",
            "Requirement already satisfied: typing-extensions>=3.7.4 in /usr/local/lib/python3.10/dist-packages (from pymc) (4.7.1)\n",
            "Requirement already satisfied: setuptools>=60.0.0 in /usr/local/lib/python3.10/dist-packages (from arviz>=0.13.0->pymc) (67.7.2)\n",
            "Requirement already satisfied: matplotlib>=3.2 in /usr/local/lib/python3.10/dist-packages (from arviz>=0.13.0->pymc) (3.7.1)\n",
            "Requirement already satisfied: packaging in /usr/local/lib/python3.10/dist-packages (from arviz>=0.13.0->pymc) (23.1)\n",
            "Requirement already satisfied: xarray>=0.21.0 in /usr/local/lib/python3.10/dist-packages (from arviz>=0.13.0->pymc) (2023.7.0)\n",
            "Requirement already satisfied: h5netcdf>=1.0.2 in /usr/local/lib/python3.10/dist-packages (from arviz>=0.13.0->pymc) (1.2.0)\n",
            "Requirement already satisfied: xarray-einstats>=0.3 in /usr/local/lib/python3.10/dist-packages (from arviz>=0.13.0->pymc) (0.6.0)\n",
            "Requirement already satisfied: python-dateutil>=2.8.1 in /usr/local/lib/python3.10/dist-packages (from pandas>=0.24.0->pymc) (2.8.2)\n",
            "Requirement already satisfied: pytz>=2020.1 in /usr/local/lib/python3.10/dist-packages (from pandas>=0.24.0->pymc) (2023.3)\n",
            "Requirement already satisfied: filelock in /usr/local/lib/python3.10/dist-packages (from pytensor<2.15,>=2.14.1->pymc) (3.12.2)\n",
            "Requirement already satisfied: etuples in /usr/local/lib/python3.10/dist-packages (from pytensor<2.15,>=2.14.1->pymc) (0.3.9)\n",
            "Requirement already satisfied: logical-unification in /usr/local/lib/python3.10/dist-packages (from pytensor<2.15,>=2.14.1->pymc) (0.4.6)\n",
            "Requirement already satisfied: miniKanren in /usr/local/lib/python3.10/dist-packages (from pytensor<2.15,>=2.14.1->pymc) (1.0.3)\n",
            "Requirement already satisfied: cons in /usr/local/lib/python3.10/dist-packages (from pytensor<2.15,>=2.14.1->pymc) (0.4.6)\n",
            "Requirement already satisfied: h5py in /usr/local/lib/python3.10/dist-packages (from h5netcdf>=1.0.2->arviz>=0.13.0->pymc) (3.9.0)\n",
            "Requirement already satisfied: contourpy>=1.0.1 in /usr/local/lib/python3.10/dist-packages (from matplotlib>=3.2->arviz>=0.13.0->pymc) (1.1.0)\n",
            "Requirement already satisfied: cycler>=0.10 in /usr/local/lib/python3.10/dist-packages (from matplotlib>=3.2->arviz>=0.13.0->pymc) (0.11.0)\n",
            "Requirement already satisfied: fonttools>=4.22.0 in /usr/local/lib/python3.10/dist-packages (from matplotlib>=3.2->arviz>=0.13.0->pymc) (4.42.0)\n",
            "Requirement already satisfied: kiwisolver>=1.0.1 in /usr/local/lib/python3.10/dist-packages (from matplotlib>=3.2->arviz>=0.13.0->pymc) (1.4.4)\n",
            "Requirement already satisfied: pillow>=6.2.0 in /usr/local/lib/python3.10/dist-packages (from matplotlib>=3.2->arviz>=0.13.0->pymc) (9.4.0)\n",
            "Requirement already satisfied: pyparsing>=2.3.1 in /usr/local/lib/python3.10/dist-packages (from matplotlib>=3.2->arviz>=0.13.0->pymc) (3.1.1)\n",
            "Requirement already satisfied: six>=1.5 in /usr/local/lib/python3.10/dist-packages (from python-dateutil>=2.8.1->pandas>=0.24.0->pymc) (1.16.0)\n",
            "Requirement already satisfied: toolz in /usr/local/lib/python3.10/dist-packages (from logical-unification->pytensor<2.15,>=2.14.1->pymc) (0.12.0)\n",
            "Requirement already satisfied: multipledispatch in /usr/local/lib/python3.10/dist-packages (from logical-unification->pytensor<2.15,>=2.14.1->pymc) (1.0.0)\n",
            "Requirement already satisfied: numpy in /usr/local/lib/python3.10/dist-packages (1.23.5)\n",
            "Requirement already satisfied: arviz in /usr/local/lib/python3.10/dist-packages (0.15.1)\n",
            "Requirement already satisfied: setuptools>=60.0.0 in /usr/local/lib/python3.10/dist-packages (from arviz) (67.7.2)\n",
            "Requirement already satisfied: matplotlib>=3.2 in /usr/local/lib/python3.10/dist-packages (from arviz) (3.7.1)\n",
            "Requirement already satisfied: numpy>=1.20.0 in /usr/local/lib/python3.10/dist-packages (from arviz) (1.23.5)\n",
            "Requirement already satisfied: scipy>=1.8.0 in /usr/local/lib/python3.10/dist-packages (from arviz) (1.10.1)\n",
            "Requirement already satisfied: packaging in /usr/local/lib/python3.10/dist-packages (from arviz) (23.1)\n",
            "Requirement already satisfied: pandas>=1.3.0 in /usr/local/lib/python3.10/dist-packages (from arviz) (1.5.3)\n",
            "Requirement already satisfied: xarray>=0.21.0 in /usr/local/lib/python3.10/dist-packages (from arviz) (2023.7.0)\n",
            "Requirement already satisfied: h5netcdf>=1.0.2 in /usr/local/lib/python3.10/dist-packages (from arviz) (1.2.0)\n",
            "Requirement already satisfied: typing-extensions>=4.1.0 in /usr/local/lib/python3.10/dist-packages (from arviz) (4.7.1)\n",
            "Requirement already satisfied: xarray-einstats>=0.3 in /usr/local/lib/python3.10/dist-packages (from arviz) (0.6.0)\n",
            "Requirement already satisfied: h5py in /usr/local/lib/python3.10/dist-packages (from h5netcdf>=1.0.2->arviz) (3.9.0)\n",
            "Requirement already satisfied: contourpy>=1.0.1 in /usr/local/lib/python3.10/dist-packages (from matplotlib>=3.2->arviz) (1.1.0)\n",
            "Requirement already satisfied: cycler>=0.10 in /usr/local/lib/python3.10/dist-packages (from matplotlib>=3.2->arviz) (0.11.0)\n",
            "Requirement already satisfied: fonttools>=4.22.0 in /usr/local/lib/python3.10/dist-packages (from matplotlib>=3.2->arviz) (4.42.0)\n",
            "Requirement already satisfied: kiwisolver>=1.0.1 in /usr/local/lib/python3.10/dist-packages (from matplotlib>=3.2->arviz) (1.4.4)\n",
            "Requirement already satisfied: pillow>=6.2.0 in /usr/local/lib/python3.10/dist-packages (from matplotlib>=3.2->arviz) (9.4.0)\n",
            "Requirement already satisfied: pyparsing>=2.3.1 in /usr/local/lib/python3.10/dist-packages (from matplotlib>=3.2->arviz) (3.1.1)\n",
            "Requirement already satisfied: python-dateutil>=2.7 in /usr/local/lib/python3.10/dist-packages (from matplotlib>=3.2->arviz) (2.8.2)\n",
            "Requirement already satisfied: pytz>=2020.1 in /usr/local/lib/python3.10/dist-packages (from pandas>=1.3.0->arviz) (2023.3)\n",
            "Requirement already satisfied: six>=1.5 in /usr/local/lib/python3.10/dist-packages (from python-dateutil>=2.7->matplotlib>=3.2->arviz) (1.16.0)\n",
            "Requirement already satisfied: erroranalysis in /usr/local/lib/python3.10/dist-packages (0.4.4)\n",
            "Requirement already satisfied: numpy>=1.17.2 in /usr/local/lib/python3.10/dist-packages (from erroranalysis) (1.23.5)\n",
            "Requirement already satisfied: pandas<2.0.0,>=0.25.1 in /usr/local/lib/python3.10/dist-packages (from erroranalysis) (1.5.3)\n",
            "Requirement already satisfied: scipy>=1.4.1 in /usr/local/lib/python3.10/dist-packages (from erroranalysis) (1.10.1)\n",
            "Requirement already satisfied: scikit-learn>=0.22.1 in /usr/local/lib/python3.10/dist-packages (from erroranalysis) (1.2.2)\n",
            "Requirement already satisfied: lightgbm>=2.0.11 in /usr/local/lib/python3.10/dist-packages (from erroranalysis) (4.0.0)\n",
            "Requirement already satisfied: raiutils>=0.4.0 in /usr/local/lib/python3.10/dist-packages (from erroranalysis) (0.4.1)\n",
            "Requirement already satisfied: python-dateutil>=2.8.1 in /usr/local/lib/python3.10/dist-packages (from pandas<2.0.0,>=0.25.1->erroranalysis) (2.8.2)\n",
            "Requirement already satisfied: pytz>=2020.1 in /usr/local/lib/python3.10/dist-packages (from pandas<2.0.0,>=0.25.1->erroranalysis) (2023.3)\n",
            "Requirement already satisfied: requests in /usr/local/lib/python3.10/dist-packages (from raiutils>=0.4.0->erroranalysis) (2.31.0)\n",
            "Requirement already satisfied: joblib>=1.1.1 in /usr/local/lib/python3.10/dist-packages (from scikit-learn>=0.22.1->erroranalysis) (1.3.2)\n",
            "Requirement already satisfied: threadpoolctl>=2.0.0 in /usr/local/lib/python3.10/dist-packages (from scikit-learn>=0.22.1->erroranalysis) (3.2.0)\n",
            "Requirement already satisfied: six>=1.5 in /usr/local/lib/python3.10/dist-packages (from python-dateutil>=2.8.1->pandas<2.0.0,>=0.25.1->erroranalysis) (1.16.0)\n",
            "Requirement already satisfied: charset-normalizer<4,>=2 in /usr/local/lib/python3.10/dist-packages (from requests->raiutils>=0.4.0->erroranalysis) (3.2.0)\n",
            "Requirement already satisfied: idna<4,>=2.5 in /usr/local/lib/python3.10/dist-packages (from requests->raiutils>=0.4.0->erroranalysis) (3.4)\n",
            "Requirement already satisfied: urllib3<3,>=1.21.1 in /usr/local/lib/python3.10/dist-packages (from requests->raiutils>=0.4.0->erroranalysis) (2.0.4)\n",
            "Requirement already satisfied: certifi>=2017.4.17 in /usr/local/lib/python3.10/dist-packages (from requests->raiutils>=0.4.0->erroranalysis) (2023.7.22)\n"
          ]
        }
      ],
      "source": [
        "!pip install pymc\n",
        "!pip install numpy\n",
        "!pip install arviz\n",
        "!pip install erroranalysis"
      ]
    },
    {
      "cell_type": "code",
      "source": [
        "import pymc as pm\n",
        "import numpy as np\n",
        "import arviz as az\n",
        "import random as rm\n",
        "from scipy import stats\n",
        "import pandas as pd\n",
        "import erroranalysis as ea\n",
        "import matplotlib.pyplot as plt\n",
        "import gc\n",
        "from google.colab import files\n",
        "import math\n",
        "import seaborn as sns\n",
        "print(f\"Running on PyMC v{pm.__version__}\")"
      ],
      "metadata": {
        "id": "ehpymOwzrgm7",
        "outputId": "52bbb033-b816-4261-ca81-771b85b85945",
        "colab": {
          "base_uri": "https://localhost:8080/"
        }
      },
      "execution_count": 143,
      "outputs": [
        {
          "output_type": "stream",
          "name": "stdout",
          "text": [
            "Running on PyMC v5.7.2\n"
          ]
        }
      ]
    },
    {
      "cell_type": "markdown",
      "source": [
        "## Load Data"
      ],
      "metadata": {
        "id": "s5Nsn4LgzVmj"
      }
    },
    {
      "cell_type": "code",
      "source": [
        "agents_url = 'https://raw.githubusercontent.com/Kinds-of-Intelligence-CFI/comparative-object-permanence/measurement-layout/analysis/measurement-layouts/results_final_clean_agents_wide.csv?token=GHSAT0AAAAAACEGARGRSGZZ2PTXVQX4S5KIZG6U5XA'\n",
        "agent_data = pd.read_csv(agents_url)\n",
        "\n",
        "children_url = 'https://raw.githubusercontent.com/Kinds-of-Intelligence-CFI/comparative-object-permanence/measurement-layout/analysis/measurement-layouts/results_final_clean_children_wide.csv?token=GHSAT0AAAAAACEGARGQYUODKKDHQN5QPDVQZG6U6EA'\n",
        "children_data = pd.read_csv(children_url)\n"
      ],
      "metadata": {
        "id": "1dN0OHAWzVBK"
      },
      "execution_count": 144,
      "outputs": []
    },
    {
      "cell_type": "markdown",
      "source": [
        "## Define the Measurement Layout"
      ],
      "metadata": {
        "id": "C0_GsfhIYZPw"
      }
    },
    {
      "cell_type": "code",
      "source": [
        "## Helper functions\n",
        "\n",
        "def logistic(x):\n",
        "  return 1 / (1 + np.exp(-x))\n",
        "\n",
        "def visualAcuityLOMargin(ability, goalSmallness): # must return a value between -inf and inf  (more precisely between -maxVisualAcuityAbility and maxVisualAcuityAbility)\n",
        "  return ability - goalSmallness   # Goes between -inf to inf, with logodds=0 meaning this would lead to 0.5 chance of success\n",
        "\n",
        "def SimplePrMargin(ability, binaryFeature): # must return a value between 0 and 1\n",
        "  return 1-((1-ability)*binaryFeature)  # If binaryFeature is 0 then the margin represents p(success)=1. If binaryFeature = 1 then p(success)=ability\n",
        "\n",
        "def flatNavMargin(ability, distanceToGoal, numTurns, allocentricOcclusion): # must return a value between -inf and inf  (more precisely between -maxSpatialAbility and maxSpatialAbility)\n",
        "  return ability - ((distanceToGoal * numTurns)*allocentricOcclusion)   # Goes between -inf to inf, with logodds=0 meaning this would lead to 0.5 chance of success\n",
        "\n",
        "def objPermanenceLOMargin(ability, allocentricOcclusion, cvChick, pctb, lightsOut, distanceToGoal, numPositions, maxPermAbility, lightsOutPenalisation, uniformAbilitySlack): #,  visualAcuityP): # must return a value between -inf and inf (more precisely between -maxPermAbility and maxPermAbility)\n",
        "  assert lightsOutPenalisation < uniformAbilitySlack and lightsOutPenalisation > 1, \"Penalisation for lights out must be lower than the slack on abilities.\"\n",
        "  OPPerformance = ability  - ((distanceToGoal * numPositions)*(lightsOut*lightsOutPenalisation))\n",
        "  return maxPermAbility-((maxPermAbility-OPPerformance)*((allocentricOcclusion*cvChick) + (allocentricOcclusion*pctb))) #multiply by a factor that introduces whether the instance is a an OP CV task or an OP PCTB task (indepedent, so ((allocentricOcclusion*cvChick) + (allocentricOcclusion*pctb)) should be 0 or 1)\n"
      ],
      "metadata": {
        "id": "-uobQpcJiPr2"
      },
      "execution_count": 160,
      "outputs": []
    },
    {
      "cell_type": "code",
      "source": [
        "def SetupModel(taskResultsAll, uniformAbilitySlack, agent_type, agent_name = None, sample = 500):\n",
        "  \"\"\"\n",
        "  taskResults is the conjunction of the metadata with the successes of the agents on that set of tests.\n",
        "  \"\"\"\n",
        "\n",
        "\n",
        "  if agent_type == \"agent\":\n",
        "    taskResults = taskResultsAll.dropna(subset = [agent_name])\n",
        "    if sample is not None:\n",
        "      taskResults = taskResults.sample(n=sample)\n",
        "    results = taskResults[agent_name]\n",
        "  elif agent_type == \"child\":\n",
        "    taskResults = taskResultsAll.dropna(subset = ['success'])\n",
        "    if sample is not None:\n",
        "      taskResults = taskResults.sample(n=sample)\n",
        "    results = taskResults['success']\n",
        "  else:\n",
        "    print(\"Agent not recognised. Quitting.\")\n",
        "    return\n",
        "\n",
        "\n",
        "\n",
        "  abilityMin = {} #Initialize ability Min and max dataframes for plotting ranges\n",
        "  abilityMax = {}\n",
        "\n",
        "  #Decide \"maximum capabilities\" based on the hardest values in the dataset\n",
        "  maxDistance = taskResults[\"cityBlockDistanceToGoal\"].max()\n",
        "  maxTurns = taskResults[\"minNumTurnsRequired\"].max()\n",
        "  maxChoices = taskResults[\"numChoices\"].max()\n",
        "  maxGoalSize = taskResults[\"mainGoalSize\"].max()\n",
        "  maxPermAbility = maxDistance * maxChoices * uniformAbilitySlack\n",
        "  #maxMemoryAbility = maxDistance * uniformAbilitySlack\n",
        "  m = pm.Model()\n",
        "  with m:\n",
        "\n",
        "    objPermAbility = pm.Uniform(\"objPermAbility\", 0, maxPermAbility)  # [0,maxPermAbility] This is the same as above, but we have the ability in the right magnitude\n",
        "    abilityMin[\"objPermAbility\"] = 0\n",
        "    abilityMax[\"objPermAbility\"] = maxPermAbility\n",
        "\n",
        "    #memoryAbility = pm.Uniform(\"memoryAbility\", 0, maxMemoryAbility)  # [0,maxMemoryAbility] This is the same as above, but we have the ability in the right magnitude\n",
        "    #abilityMin[\"memoryAbility\"] = 0\n",
        "    #abilityMax[\"memoryAbility\"] = maxMemoryAbility\n",
        "\n",
        "    #Visual acuity\n",
        "    maxVisualAcuityAbility = maxGoalSize* uniformAbilitySlack\n",
        "    visualAcuityAbility = pm.Uniform(\"visualAcuityAbility\", 0, maxVisualAcuityAbility)\n",
        "    abilityMin[\"visualAcuityAbility\"] = 0\n",
        "    abilityMax[\"visualAcuityAbility\"] = maxVisualAcuityAbility\n",
        "\n",
        "    # Flat Navigation Ability\n",
        "    flatNavAbility = pm.Uniform(\"flatNavAbility\", 0, maxDistance*maxTurns)      # how much navigation is involved, i.e, how far away and how circuitous is the path to the goal?\n",
        "    abilityMin[\"flatNavAbility\"] =0\n",
        "    abilityMax[\"flatNavAbility\"] = maxDistance*maxTurns\n",
        "\n",
        "    # Lava Ability\n",
        "    lavaAbility = pm.Beta(\"lavaAbility\", 1,1)                        # [0,1] Specific ability with lava\n",
        "    abilityMin[\"lavaAbility\"] = 0\n",
        "    abilityMax[\"lavaAbility\"] = 1\n",
        "\n",
        "    # Ramp Ability\n",
        "    rampAbility = pm.Beta(\"rampAbility\",1,1)                          # [0,1] Specific ability with ramps\n",
        "    abilityMin[\"rampAbility\"] = 0\n",
        "    abilityMax[\"rampAbility\"] = 1\n",
        "\n",
        "    # Goal Right Ability\n",
        "    rightAbility = pm.Beta(\"rightAbility\", 1, 1)\n",
        "    abilityMin[\"rightAbility\"] = 0\n",
        "    abilityMax[\"rightAbility\"] = 1\n",
        "\n",
        "    # Goal Left Ability\n",
        "    leftAbility = pm.Beta(\"leftAbility\", 1, 1)\n",
        "    abilityMin[\"leftAbility\"] = 0\n",
        "    abilityMax[\"leftAbility\"] = 1\n",
        "\n",
        "    # Goal Ahead Ability\n",
        "    aheadAbility = pm.Beta(\"aheadAbility\", 1, 1)\n",
        "    abilityMin[\"aheadAbility\"] = 0\n",
        "    abilityMax[\"aheadAbility\"] = 1\n",
        "\n",
        "    # # CV Chick Ability\n",
        "    # CVChickAbility = pm.Beta(\"CVChickAbility\", 1, 1)\n",
        "    # abilityMin[\"CVChickAbility\"] = 0\n",
        "    # abilityMax[\"CVChickAbility\"] = 1\n",
        "\n",
        "    # # PCTB Ability\n",
        "    # PCTBAbility = pm.Beta(\"PCTBAbility\", 1, 1)\n",
        "    # abilityMin[\"PCTBAbility\"] = 0\n",
        "    # abilityMax[\"PCTBAbility\"] = 1\n",
        "\n",
        "\n",
        "\n",
        "    ## Environment variables as Deterministic (about the instance)\n",
        "\n",
        "    lavaPresence = pm.MutableData(\"lavaPresence\", taskResults[\"lavaPresence\"].values)\n",
        "    rampPresence = pm.MutableData(\"rampPresence\", taskResults[\"taskCriticalRampPresence\"].values)\n",
        "    lightsOutPresence = pm.MutableData(\"lightsOutPresence\", taskResults[\"lightsOutPresence\"].values)\n",
        "    #numGoals = pm.MutableData(\"numberOfGoals\", taskResults[\"numGoalsAll\"].values)\n",
        "    numChoices = pm.MutableData(\"numChoices\", taskResults[\"numChoices\"].values)\n",
        "    goalSize = pm.MutableData(\"goalSize\",taskResults[\"mainGoalSize\"].values)\n",
        "    goalDist = pm.MutableData(\"goalDistance\", taskResults[\"cityBlockDistanceToGoal\"])\n",
        "    numTurns = pm.MutableData(\"minTurnsToGoal\", taskResults[\"minNumTurnsRequired\"])\n",
        "    goalRight = pm.MutableData(\"goalRight\", taskResults[\"goalRightRelToStart\"])\n",
        "    goalAhead = pm.MutableData(\"goalAhead\", taskResults[\"goalCentreRelToStart\"])\n",
        "    goalLeft = pm.MutableData(\"goalLeft\", taskResults[\"goalLeftRelToStart\"])\n",
        "    opTest = pm.MutableData(\"allocentricOPTest\", taskResults[\"goalBecomesAllocentricallyOccluded\"])\n",
        "    CVTest = pm.MutableData(\"CVChickTest\", taskResults[\"cvchickTask\"])\n",
        "    PCTBTest = pm.MutableData(\"PCTBTest\", taskResults[\"pctbTask\"])\n",
        "\n",
        "    ## Margins\n",
        "\n",
        "    goalSmallness = maxGoalSize - goalSize\n",
        "    visualAcuityP = pm.Deterministic(\"visualAcuityP\", logistic(visualAcuityLOMargin(visualAcuityAbility, goalSmallness)))\n",
        "\n",
        "    rightP = pm.Deterministic(\"rightPerformance\", SimplePrMargin(rightAbility, goalRight))\n",
        "    aheadP = pm.Deterministic(\"aheadPerformance\", SimplePrMargin(aheadAbility, goalAhead))\n",
        "    leftP = pm.Deterministic(\"leftPerformance\", SimplePrMargin(leftAbility, goalLeft))\n",
        "\n",
        "    flatNavP = pm.Deterministic(\"flatNavP\", logistic(flatNavMargin(flatNavAbility, goalDist, numTurns, opTest)))\n",
        "\n",
        "    lavaP = pm.Deterministic(\"lavaP\", SimplePrMargin(lavaAbility, lavaPresence))\n",
        "\n",
        "    rampP = pm.Deterministic(\"rampP\", SimplePrMargin(rampAbility, rampPresence))\n",
        "\n",
        "    #cvchickP = pm.Deterministic(\"cvChickP\", SimplePrMargin(CVChickAbility, CVTest))\n",
        "    #pctbP = pm.Deterministic(\"pctbP\", SimplePrMargin(PCTBAbility, PCTBTest))\n",
        "\n",
        "    navP = pm.Deterministic(\"navP\", (flatNavP * lavaP * rampP * rightP * aheadP * leftP)) #, visualAcuityP))\n",
        "\n",
        "    OPLOM = objPermanenceLOMargin(objPermAbility, opTest, CVTest, PCTBTest, lightsOutPresence, goalDist, numChoices, maxPermAbility, lightsOutPenalisation=(uniformAbilitySlack-0.2), uniformAbilitySlack=uniformAbilitySlack)\n",
        "\n",
        "    objPermP = pm.Deterministic(\"objPermP\", logistic(OPLOM))\n",
        "\n",
        "    finalP = pm.Deterministic(\"finalP\", (objPermP * navP * visualAcuityP))\n",
        "\n",
        "    taskPerformance = pm.Bernoulli(\"taskPerformance\", finalP, observed=results)\n",
        "\n",
        "  pm.model_graph.model_to_graphviz(m)\n",
        "\n",
        "  return m, abilityMin, abilityMax"
      ],
      "metadata": {
        "id": "9JrHfqlDYYwb"
      },
      "execution_count": 161,
      "outputs": []
    },
    {
      "cell_type": "code",
      "source": [
        "from IPython.display import Image\n",
        "import graphviz\n",
        "\n",
        "m, min, max = SetupModel(agent_data, uniformAbilitySlack=1.4, agent_type='agent', agent_name=\"Random_Walker_Rayleigh_Flight_Norm_Saccade_mu_15_sig_5_Uniform_Angles_1_to_60_3761\", sample = None)\n",
        "gv = pm.model_graph.model_to_graphviz(m)\n",
        "gv.format=\"png\"\n",
        "gv.render\n",
        "#gv.render(directory='viz')\n",
        "#Image(\"viz/Digraph.gv.png\")\n",
        "gv"
      ],
      "metadata": {
        "id": "6ZxN1nZJm5oP",
        "outputId": "c533f95a-27a3-48ae-b8b1-8df8a3d57297",
        "colab": {
          "base_uri": "https://localhost:8080/",
          "height": 744
        }
      },
      "execution_count": 162,
      "outputs": [
        {
          "output_type": "execute_result",
          "data": {
            "image/svg+xml": "<?xml version=\"1.0\" encoding=\"UTF-8\" standalone=\"no\"?>\n<!DOCTYPE svg PUBLIC \"-//W3C//DTD SVG 1.1//EN\"\n \"http://www.w3.org/Graphics/SVG/1.1/DTD/svg11.dtd\">\n<!-- Generated by graphviz version 2.43.0 (0)\n -->\n<!-- Title: %3 Pages: 1 -->\n<svg width=\"2312pt\" height=\"527pt\"\n viewBox=\"0.00 0.00 2312.38 526.88\" xmlns=\"http://www.w3.org/2000/svg\" xmlns:xlink=\"http://www.w3.org/1999/xlink\">\n<g id=\"graph0\" class=\"graph\" transform=\"scale(1 1) rotate(0) translate(4 522.88)\">\n<title>%3</title>\n<polygon fill=\"white\" stroke=\"transparent\" points=\"-4,4 -4,-522.88 2308.38,-522.88 2308.38,4 -4,4\"/>\n<g id=\"clust1\" class=\"cluster\">\n<title>cluster4190</title>\n<path fill=\"none\" stroke=\"black\" d=\"M135.57,-8C135.57,-8 1464.57,-8 1464.57,-8 1470.57,-8 1476.57,-14 1476.57,-20 1476.57,-20 1476.57,-498.88 1476.57,-498.88 1476.57,-504.88 1470.57,-510.88 1464.57,-510.88 1464.57,-510.88 135.57,-510.88 135.57,-510.88 129.57,-510.88 123.57,-504.88 123.57,-498.88 123.57,-498.88 123.57,-20 123.57,-20 123.57,-14 129.57,-8 135.57,-8\"/>\n<text text-anchor=\"middle\" x=\"1454.57\" y=\"-15.8\" font-family=\"Times,serif\" font-size=\"14.00\">4190</text>\n</g>\n<!-- rightAbility -->\n<g id=\"node1\" class=\"node\">\n<title>rightAbility</title>\n<ellipse fill=\"none\" stroke=\"black\" cx=\"56.57\" cy=\"-476.38\" rx=\"56.64\" ry=\"37.45\"/>\n<text text-anchor=\"middle\" x=\"56.57\" y=\"-487.68\" font-family=\"Times,serif\" font-size=\"14.00\">rightAbility</text>\n<text text-anchor=\"middle\" x=\"56.57\" y=\"-472.68\" font-family=\"Times,serif\" font-size=\"14.00\">~</text>\n<text text-anchor=\"middle\" x=\"56.57\" y=\"-457.68\" font-family=\"Times,serif\" font-size=\"14.00\">Beta</text>\n</g>\n<!-- rightPerformance -->\n<g id=\"node30\" class=\"node\">\n<title>rightPerformance</title>\n<polygon fill=\"none\" stroke=\"black\" points=\"243.57,-391.93 131.57,-391.93 131.57,-338.93 243.57,-338.93 243.57,-391.93\"/>\n<text text-anchor=\"middle\" x=\"187.57\" y=\"-376.73\" font-family=\"Times,serif\" font-size=\"14.00\">rightPerformance</text>\n<text text-anchor=\"middle\" x=\"187.57\" y=\"-361.73\" font-family=\"Times,serif\" font-size=\"14.00\">~</text>\n<text text-anchor=\"middle\" x=\"187.57\" y=\"-346.73\" font-family=\"Times,serif\" font-size=\"14.00\">Deterministic</text>\n</g>\n<!-- rightAbility&#45;&gt;rightPerformance -->\n<g id=\"edge3\" class=\"edge\">\n<title>rightAbility&#45;&gt;rightPerformance</title>\n<path fill=\"none\" stroke=\"black\" d=\"M91.33,-446.47C108.95,-431.82 130.4,-413.98 148.58,-398.86\"/>\n<polygon fill=\"black\" stroke=\"black\" points=\"151.22,-401.21 156.67,-392.13 146.74,-395.83 151.22,-401.21\"/>\n</g>\n<!-- leftAbility -->\n<g id=\"node2\" class=\"node\">\n<title>leftAbility</title>\n<ellipse fill=\"none\" stroke=\"black\" cx=\"2113.57\" cy=\"-476.38\" rx=\"51.74\" ry=\"37.45\"/>\n<text text-anchor=\"middle\" x=\"2113.57\" y=\"-487.68\" font-family=\"Times,serif\" font-size=\"14.00\">leftAbility</text>\n<text text-anchor=\"middle\" x=\"2113.57\" y=\"-472.68\" font-family=\"Times,serif\" font-size=\"14.00\">~</text>\n<text text-anchor=\"middle\" x=\"2113.57\" y=\"-457.68\" font-family=\"Times,serif\" font-size=\"14.00\">Beta</text>\n</g>\n<!-- leftPerformance -->\n<g id=\"node24\" class=\"node\">\n<title>leftPerformance</title>\n<polygon fill=\"none\" stroke=\"black\" points=\"1226.57,-391.93 1122.57,-391.93 1122.57,-338.93 1226.57,-338.93 1226.57,-391.93\"/>\n<text text-anchor=\"middle\" x=\"1174.57\" y=\"-376.73\" font-family=\"Times,serif\" font-size=\"14.00\">leftPerformance</text>\n<text text-anchor=\"middle\" x=\"1174.57\" y=\"-361.73\" font-family=\"Times,serif\" font-size=\"14.00\">~</text>\n<text text-anchor=\"middle\" x=\"1174.57\" y=\"-346.73\" font-family=\"Times,serif\" font-size=\"14.00\">Deterministic</text>\n</g>\n<!-- leftAbility&#45;&gt;leftPerformance -->\n<g id=\"edge7\" class=\"edge\">\n<title>leftAbility&#45;&gt;leftPerformance</title>\n<path fill=\"none\" stroke=\"black\" d=\"M2077.19,-449.71C2069.39,-445.35 2060.96,-441.42 2052.57,-438.91 1704.44,-334.46 1583.7,-507.36 1235.57,-402.91 1230.32,-401.33 1225.06,-399.21 1219.95,-396.77\"/>\n<polygon fill=\"black\" stroke=\"black\" points=\"1221.44,-393.6 1210.95,-392.1 1218.21,-399.81 1221.44,-393.6\"/>\n</g>\n<!-- aheadAbility -->\n<g id=\"node3\" class=\"node\">\n<title>aheadAbility</title>\n<ellipse fill=\"none\" stroke=\"black\" cx=\"2243.57\" cy=\"-476.38\" rx=\"60.62\" ry=\"37.45\"/>\n<text text-anchor=\"middle\" x=\"2243.57\" y=\"-487.68\" font-family=\"Times,serif\" font-size=\"14.00\">aheadAbility</text>\n<text text-anchor=\"middle\" x=\"2243.57\" y=\"-472.68\" font-family=\"Times,serif\" font-size=\"14.00\">~</text>\n<text text-anchor=\"middle\" x=\"2243.57\" y=\"-457.68\" font-family=\"Times,serif\" font-size=\"14.00\">Beta</text>\n</g>\n<!-- aheadPerformance -->\n<g id=\"node31\" class=\"node\">\n<title>aheadPerformance</title>\n<polygon fill=\"none\" stroke=\"black\" points=\"1362.57,-391.93 1244.57,-391.93 1244.57,-338.93 1362.57,-338.93 1362.57,-391.93\"/>\n<text text-anchor=\"middle\" x=\"1303.57\" y=\"-376.73\" font-family=\"Times,serif\" font-size=\"14.00\">aheadPerformance</text>\n<text text-anchor=\"middle\" x=\"1303.57\" y=\"-361.73\" font-family=\"Times,serif\" font-size=\"14.00\">~</text>\n<text text-anchor=\"middle\" x=\"1303.57\" y=\"-346.73\" font-family=\"Times,serif\" font-size=\"14.00\">Deterministic</text>\n</g>\n<!-- aheadAbility&#45;&gt;aheadPerformance -->\n<g id=\"edge5\" class=\"edge\">\n<title>aheadAbility&#45;&gt;aheadPerformance</title>\n<path fill=\"none\" stroke=\"black\" d=\"M2201.35,-449.36C2192.76,-445.14 2183.59,-441.36 2174.57,-438.91 1829.84,-345.15 1716.01,-497.71 1371.57,-402.91 1365.55,-401.25 1359.47,-398.99 1353.55,-396.4\"/>\n<polygon fill=\"black\" stroke=\"black\" points=\"1354.95,-393.19 1344.41,-392.09 1351.97,-399.52 1354.95,-393.19\"/>\n</g>\n<!-- flatNavAbility -->\n<g id=\"node4\" class=\"node\">\n<title>flatNavAbility</title>\n<ellipse fill=\"none\" stroke=\"black\" cx=\"1714.57\" cy=\"-476.38\" rx=\"67.35\" ry=\"37.45\"/>\n<text text-anchor=\"middle\" x=\"1714.57\" y=\"-487.68\" font-family=\"Times,serif\" font-size=\"14.00\">flatNavAbility</text>\n<text text-anchor=\"middle\" x=\"1714.57\" y=\"-472.68\" font-family=\"Times,serif\" font-size=\"14.00\">~</text>\n<text text-anchor=\"middle\" x=\"1714.57\" y=\"-457.68\" font-family=\"Times,serif\" font-size=\"14.00\">Uniform</text>\n</g>\n<!-- flatNavP -->\n<g id=\"node27\" class=\"node\">\n<title>flatNavP</title>\n<polygon fill=\"none\" stroke=\"black\" points=\"886.07,-391.93 795.07,-391.93 795.07,-338.93 886.07,-338.93 886.07,-391.93\"/>\n<text text-anchor=\"middle\" x=\"840.57\" y=\"-376.73\" font-family=\"Times,serif\" font-size=\"14.00\">flatNavP</text>\n<text text-anchor=\"middle\" x=\"840.57\" y=\"-361.73\" font-family=\"Times,serif\" font-size=\"14.00\">~</text>\n<text text-anchor=\"middle\" x=\"840.57\" y=\"-346.73\" font-family=\"Times,serif\" font-size=\"14.00\">Deterministic</text>\n</g>\n<!-- flatNavAbility&#45;&gt;flatNavP -->\n<g id=\"edge9\" class=\"edge\">\n<title>flatNavAbility&#45;&gt;flatNavP</title>\n<path fill=\"none\" stroke=\"black\" d=\"M1667.6,-449.58C1657.92,-445.29 1647.61,-441.42 1637.57,-438.91 1477.43,-398.79 1052.42,-454.37 895.57,-402.91 890.98,-401.4 886.41,-399.4 881.98,-397.11\"/>\n<polygon fill=\"black\" stroke=\"black\" points=\"883.54,-393.97 873.11,-392.07 880.08,-400.06 883.54,-393.97\"/>\n</g>\n<!-- objPermAbility -->\n<g id=\"node5\" class=\"node\">\n<title>objPermAbility</title>\n<ellipse fill=\"none\" stroke=\"black\" cx=\"1557.57\" cy=\"-476.38\" rx=\"71.34\" ry=\"37.45\"/>\n<text text-anchor=\"middle\" x=\"1557.57\" y=\"-487.68\" font-family=\"Times,serif\" font-size=\"14.00\">objPermAbility</text>\n<text text-anchor=\"middle\" x=\"1557.57\" y=\"-472.68\" font-family=\"Times,serif\" font-size=\"14.00\">~</text>\n<text text-anchor=\"middle\" x=\"1557.57\" y=\"-457.68\" font-family=\"Times,serif\" font-size=\"14.00\">Uniform</text>\n</g>\n<!-- objPermP -->\n<g id=\"node15\" class=\"node\">\n<title>objPermP</title>\n<polygon fill=\"none\" stroke=\"black\" points=\"725.07,-391.93 634.07,-391.93 634.07,-338.93 725.07,-338.93 725.07,-391.93\"/>\n<text text-anchor=\"middle\" x=\"679.57\" y=\"-376.73\" font-family=\"Times,serif\" font-size=\"14.00\">objPermP</text>\n<text text-anchor=\"middle\" x=\"679.57\" y=\"-361.73\" font-family=\"Times,serif\" font-size=\"14.00\">~</text>\n<text text-anchor=\"middle\" x=\"679.57\" y=\"-346.73\" font-family=\"Times,serif\" font-size=\"14.00\">Deterministic</text>\n</g>\n<!-- objPermAbility&#45;&gt;objPermP -->\n<g id=\"edge27\" class=\"edge\">\n<title>objPermAbility&#45;&gt;objPermP</title>\n<path fill=\"none\" stroke=\"black\" d=\"M1508.93,-448.88C1499.74,-444.88 1490.03,-441.29 1480.57,-438.91 1181.09,-363.36 1089.86,-461.29 786.57,-402.91 769.33,-399.59 751.08,-394.14 734.62,-388.45\"/>\n<polygon fill=\"black\" stroke=\"black\" points=\"735.75,-385.13 725.16,-385.08 733.41,-391.73 735.75,-385.13\"/>\n</g>\n<!-- rampAbility -->\n<g id=\"node6\" class=\"node\">\n<title>rampAbility</title>\n<ellipse fill=\"none\" stroke=\"black\" cx=\"1858.57\" cy=\"-476.38\" rx=\"58.88\" ry=\"37.45\"/>\n<text text-anchor=\"middle\" x=\"1858.57\" y=\"-487.68\" font-family=\"Times,serif\" font-size=\"14.00\">rampAbility</text>\n<text text-anchor=\"middle\" x=\"1858.57\" y=\"-472.68\" font-family=\"Times,serif\" font-size=\"14.00\">~</text>\n<text text-anchor=\"middle\" x=\"1858.57\" y=\"-457.68\" font-family=\"Times,serif\" font-size=\"14.00\">Beta</text>\n</g>\n<!-- rampP -->\n<g id=\"node23\" class=\"node\">\n<title>rampP</title>\n<polygon fill=\"none\" stroke=\"black\" points=\"995.07,-391.93 904.07,-391.93 904.07,-338.93 995.07,-338.93 995.07,-391.93\"/>\n<text text-anchor=\"middle\" x=\"949.57\" y=\"-376.73\" font-family=\"Times,serif\" font-size=\"14.00\">rampP</text>\n<text text-anchor=\"middle\" x=\"949.57\" y=\"-361.73\" font-family=\"Times,serif\" font-size=\"14.00\">~</text>\n<text text-anchor=\"middle\" x=\"949.57\" y=\"-346.73\" font-family=\"Times,serif\" font-size=\"14.00\">Deterministic</text>\n</g>\n<!-- rampAbility&#45;&gt;rampP -->\n<g id=\"edge16\" class=\"edge\">\n<title>rampAbility&#45;&gt;rampP</title>\n<path fill=\"none\" stroke=\"black\" d=\"M1817.36,-449.54C1808.79,-445.26 1799.61,-441.4 1790.57,-438.91 1622.01,-392.43 1170.78,-457.19 1004.57,-402.91 999.98,-401.41 995.41,-399.41 990.97,-397.13\"/>\n<polygon fill=\"black\" stroke=\"black\" points=\"992.53,-393.99 982.11,-392.09 989.07,-400.07 992.53,-393.99\"/>\n</g>\n<!-- visualAcuityAbility -->\n<g id=\"node7\" class=\"node\">\n<title>visualAcuityAbility</title>\n<ellipse fill=\"none\" stroke=\"black\" cx=\"1574.57\" cy=\"-365.43\" rx=\"87.86\" ry=\"37.45\"/>\n<text text-anchor=\"middle\" x=\"1574.57\" y=\"-376.73\" font-family=\"Times,serif\" font-size=\"14.00\">visualAcuityAbility</text>\n<text text-anchor=\"middle\" x=\"1574.57\" y=\"-361.73\" font-family=\"Times,serif\" font-size=\"14.00\">~</text>\n<text text-anchor=\"middle\" x=\"1574.57\" y=\"-346.73\" font-family=\"Times,serif\" font-size=\"14.00\">Uniform</text>\n</g>\n<!-- visualAcuityP -->\n<g id=\"node18\" class=\"node\">\n<title>visualAcuityP</title>\n<polygon fill=\"none\" stroke=\"black\" points=\"1469.07,-291.95 1376.07,-291.95 1376.07,-238.95 1469.07,-238.95 1469.07,-291.95\"/>\n<text text-anchor=\"middle\" x=\"1422.57\" y=\"-276.75\" font-family=\"Times,serif\" font-size=\"14.00\">visualAcuityP</text>\n<text text-anchor=\"middle\" x=\"1422.57\" y=\"-261.75\" font-family=\"Times,serif\" font-size=\"14.00\">~</text>\n<text text-anchor=\"middle\" x=\"1422.57\" y=\"-246.75\" font-family=\"Times,serif\" font-size=\"14.00\">Deterministic</text>\n</g>\n<!-- visualAcuityAbility&#45;&gt;visualAcuityP -->\n<g id=\"edge2\" class=\"edge\">\n<title>visualAcuityAbility&#45;&gt;visualAcuityP</title>\n<path fill=\"none\" stroke=\"black\" d=\"M1526.89,-333.7C1509.08,-322.22 1488.86,-309.18 1470.98,-297.66\"/>\n<polygon fill=\"black\" stroke=\"black\" points=\"1472.72,-294.62 1462.42,-292.14 1468.93,-300.5 1472.72,-294.62\"/>\n</g>\n<!-- lavaAbility -->\n<g id=\"node8\" class=\"node\">\n<title>lavaAbility</title>\n<ellipse fill=\"none\" stroke=\"black\" cx=\"1989.57\" cy=\"-476.38\" rx=\"54.39\" ry=\"37.45\"/>\n<text text-anchor=\"middle\" x=\"1989.57\" y=\"-487.68\" font-family=\"Times,serif\" font-size=\"14.00\">lavaAbility</text>\n<text text-anchor=\"middle\" x=\"1989.57\" y=\"-472.68\" font-family=\"Times,serif\" font-size=\"14.00\">~</text>\n<text text-anchor=\"middle\" x=\"1989.57\" y=\"-457.68\" font-family=\"Times,serif\" font-size=\"14.00\">Beta</text>\n</g>\n<!-- lavaP -->\n<g id=\"node32\" class=\"node\">\n<title>lavaP</title>\n<polygon fill=\"none\" stroke=\"black\" points=\"1104.07,-391.93 1013.07,-391.93 1013.07,-338.93 1104.07,-338.93 1104.07,-391.93\"/>\n<text text-anchor=\"middle\" x=\"1058.57\" y=\"-376.73\" font-family=\"Times,serif\" font-size=\"14.00\">lavaP</text>\n<text text-anchor=\"middle\" x=\"1058.57\" y=\"-361.73\" font-family=\"Times,serif\" font-size=\"14.00\">~</text>\n<text text-anchor=\"middle\" x=\"1058.57\" y=\"-346.73\" font-family=\"Times,serif\" font-size=\"14.00\">Deterministic</text>\n</g>\n<!-- lavaAbility&#45;&gt;lavaP -->\n<g id=\"edge14\" class=\"edge\">\n<title>lavaAbility&#45;&gt;lavaP</title>\n<path fill=\"none\" stroke=\"black\" d=\"M1951.57,-449.53C1943.62,-445.24 1935.06,-441.39 1926.57,-438.91 1753,-388.14 1285.52,-458.92 1113.57,-402.91 1108.98,-401.41 1104.4,-399.42 1099.97,-397.13\"/>\n<polygon fill=\"black\" stroke=\"black\" points=\"1101.53,-393.99 1091.11,-392.1 1098.07,-400.08 1101.53,-393.99\"/>\n</g>\n<!-- lightsOutPresence -->\n<g id=\"node9\" class=\"node\">\n<title>lightsOutPresence</title>\n<path fill=\"lightgrey\" stroke=\"black\" d=\"M446.07,-502.88C446.07,-502.88 355.07,-502.88 355.07,-502.88 349.07,-502.88 343.07,-496.88 343.07,-490.88 343.07,-490.88 343.07,-461.88 343.07,-461.88 343.07,-455.88 349.07,-449.88 355.07,-449.88 355.07,-449.88 446.07,-449.88 446.07,-449.88 452.07,-449.88 458.07,-455.88 458.07,-461.88 458.07,-461.88 458.07,-490.88 458.07,-490.88 458.07,-496.88 452.07,-502.88 446.07,-502.88\"/>\n<text text-anchor=\"middle\" x=\"400.57\" y=\"-487.68\" font-family=\"Times,serif\" font-size=\"14.00\">lightsOutPresence</text>\n<text text-anchor=\"middle\" x=\"400.57\" y=\"-472.68\" font-family=\"Times,serif\" font-size=\"14.00\">~</text>\n<text text-anchor=\"middle\" x=\"400.57\" y=\"-457.68\" font-family=\"Times,serif\" font-size=\"14.00\">MutableData</text>\n</g>\n<!-- lightsOutPresence&#45;&gt;objPermP -->\n<g id=\"edge24\" class=\"edge\">\n<title>lightsOutPresence&#45;&gt;objPermP</title>\n<path fill=\"none\" stroke=\"black\" d=\"M445.09,-449.79C452.5,-445.93 460.17,-442.16 467.57,-438.91 519.44,-416.12 580.91,-395.8 624.27,-382.52\"/>\n<polygon fill=\"black\" stroke=\"black\" points=\"625.51,-385.8 634.06,-379.54 623.47,-379.1 625.51,-385.8\"/>\n</g>\n<!-- PCTBTest -->\n<g id=\"node10\" class=\"node\">\n<title>PCTBTest</title>\n<path fill=\"lightgrey\" stroke=\"black\" d=\"M313.57,-502.88C313.57,-502.88 249.57,-502.88 249.57,-502.88 243.57,-502.88 237.57,-496.88 237.57,-490.88 237.57,-490.88 237.57,-461.88 237.57,-461.88 237.57,-455.88 243.57,-449.88 249.57,-449.88 249.57,-449.88 313.57,-449.88 313.57,-449.88 319.57,-449.88 325.57,-455.88 325.57,-461.88 325.57,-461.88 325.57,-490.88 325.57,-490.88 325.57,-496.88 319.57,-502.88 313.57,-502.88\"/>\n<text text-anchor=\"middle\" x=\"281.57\" y=\"-487.68\" font-family=\"Times,serif\" font-size=\"14.00\">PCTBTest</text>\n<text text-anchor=\"middle\" x=\"281.57\" y=\"-472.68\" font-family=\"Times,serif\" font-size=\"14.00\">~</text>\n<text text-anchor=\"middle\" x=\"281.57\" y=\"-457.68\" font-family=\"Times,serif\" font-size=\"14.00\">MutableData</text>\n</g>\n<!-- PCTBTest&#45;&gt;objPermP -->\n<g id=\"edge29\" class=\"edge\">\n<title>PCTBTest&#45;&gt;objPermP</title>\n<path fill=\"none\" stroke=\"black\" d=\"M314.62,-449.73C320.99,-445.64 327.79,-441.81 334.57,-438.91 431.28,-397.45 553.7,-378.99 623.67,-371.33\"/>\n<polygon fill=\"black\" stroke=\"black\" points=\"624.45,-374.77 634.02,-370.24 623.71,-367.81 624.45,-374.77\"/>\n</g>\n<!-- goalSize -->\n<g id=\"node11\" class=\"node\">\n<title>goalSize</title>\n<path fill=\"lightgrey\" stroke=\"black\" d=\"M1456.57,-391.93C1456.57,-391.93 1392.57,-391.93 1392.57,-391.93 1386.57,-391.93 1380.57,-385.93 1380.57,-379.93 1380.57,-379.93 1380.57,-350.93 1380.57,-350.93 1380.57,-344.93 1386.57,-338.93 1392.57,-338.93 1392.57,-338.93 1456.57,-338.93 1456.57,-338.93 1462.57,-338.93 1468.57,-344.93 1468.57,-350.93 1468.57,-350.93 1468.57,-379.93 1468.57,-379.93 1468.57,-385.93 1462.57,-391.93 1456.57,-391.93\"/>\n<text text-anchor=\"middle\" x=\"1424.57\" y=\"-376.73\" font-family=\"Times,serif\" font-size=\"14.00\">goalSize</text>\n<text text-anchor=\"middle\" x=\"1424.57\" y=\"-361.73\" font-family=\"Times,serif\" font-size=\"14.00\">~</text>\n<text text-anchor=\"middle\" x=\"1424.57\" y=\"-346.73\" font-family=\"Times,serif\" font-size=\"14.00\">MutableData</text>\n</g>\n<!-- goalSize&#45;&gt;visualAcuityP -->\n<g id=\"edge1\" class=\"edge\">\n<title>goalSize&#45;&gt;visualAcuityP</title>\n<path fill=\"none\" stroke=\"black\" d=\"M1424.04,-338.69C1423.82,-327.55 1423.55,-314.32 1423.3,-302.25\"/>\n<polygon fill=\"black\" stroke=\"black\" points=\"1426.79,-301.95 1423.09,-292.02 1419.8,-302.09 1426.79,-301.95\"/>\n</g>\n<!-- minTurnsToGoal -->\n<g id=\"node12\" class=\"node\">\n<title>minTurnsToGoal</title>\n<path fill=\"lightgrey\" stroke=\"black\" d=\"M1026.57,-502.88C1026.57,-502.88 940.57,-502.88 940.57,-502.88 934.57,-502.88 928.57,-496.88 928.57,-490.88 928.57,-490.88 928.57,-461.88 928.57,-461.88 928.57,-455.88 934.57,-449.88 940.57,-449.88 940.57,-449.88 1026.57,-449.88 1026.57,-449.88 1032.57,-449.88 1038.57,-455.88 1038.57,-461.88 1038.57,-461.88 1038.57,-490.88 1038.57,-490.88 1038.57,-496.88 1032.57,-502.88 1026.57,-502.88\"/>\n<text text-anchor=\"middle\" x=\"983.57\" y=\"-487.68\" font-family=\"Times,serif\" font-size=\"14.00\">minTurnsToGoal</text>\n<text text-anchor=\"middle\" x=\"983.57\" y=\"-472.68\" font-family=\"Times,serif\" font-size=\"14.00\">~</text>\n<text text-anchor=\"middle\" x=\"983.57\" y=\"-457.68\" font-family=\"Times,serif\" font-size=\"14.00\">MutableData</text>\n</g>\n<!-- minTurnsToGoal&#45;&gt;flatNavP -->\n<g id=\"edge12\" class=\"edge\">\n<title>minTurnsToGoal&#45;&gt;flatNavP</title>\n<path fill=\"none\" stroke=\"black\" d=\"M950.04,-449.84C929.84,-434.45 903.94,-414.71 882.4,-398.3\"/>\n<polygon fill=\"black\" stroke=\"black\" points=\"884.46,-395.47 874.38,-392.19 880.21,-401.04 884.46,-395.47\"/>\n</g>\n<!-- CVChickTest -->\n<g id=\"node13\" class=\"node\">\n<title>CVChickTest</title>\n<path fill=\"lightgrey\" stroke=\"black\" d=\"M660.57,-502.88C660.57,-502.88 594.57,-502.88 594.57,-502.88 588.57,-502.88 582.57,-496.88 582.57,-490.88 582.57,-490.88 582.57,-461.88 582.57,-461.88 582.57,-455.88 588.57,-449.88 594.57,-449.88 594.57,-449.88 660.57,-449.88 660.57,-449.88 666.57,-449.88 672.57,-455.88 672.57,-461.88 672.57,-461.88 672.57,-490.88 672.57,-490.88 672.57,-496.88 666.57,-502.88 660.57,-502.88\"/>\n<text text-anchor=\"middle\" x=\"627.57\" y=\"-487.68\" font-family=\"Times,serif\" font-size=\"14.00\">CVChickTest</text>\n<text text-anchor=\"middle\" x=\"627.57\" y=\"-472.68\" font-family=\"Times,serif\" font-size=\"14.00\">~</text>\n<text text-anchor=\"middle\" x=\"627.57\" y=\"-457.68\" font-family=\"Times,serif\" font-size=\"14.00\">MutableData</text>\n</g>\n<!-- CVChickTest&#45;&gt;objPermP -->\n<g id=\"edge23\" class=\"edge\">\n<title>CVChickTest&#45;&gt;objPermP</title>\n<path fill=\"none\" stroke=\"black\" d=\"M639.76,-449.84C646.62,-435.46 655.29,-417.3 662.78,-401.6\"/>\n<polygon fill=\"black\" stroke=\"black\" points=\"666.12,-402.72 667.27,-392.19 659.81,-399.71 666.12,-402.72\"/>\n</g>\n<!-- goalLeft -->\n<g id=\"node14\" class=\"node\">\n<title>goalLeft</title>\n<path fill=\"lightgrey\" stroke=\"black\" d=\"M1350.57,-502.88C1350.57,-502.88 1286.57,-502.88 1286.57,-502.88 1280.57,-502.88 1274.57,-496.88 1274.57,-490.88 1274.57,-490.88 1274.57,-461.88 1274.57,-461.88 1274.57,-455.88 1280.57,-449.88 1286.57,-449.88 1286.57,-449.88 1350.57,-449.88 1350.57,-449.88 1356.57,-449.88 1362.57,-455.88 1362.57,-461.88 1362.57,-461.88 1362.57,-490.88 1362.57,-490.88 1362.57,-496.88 1356.57,-502.88 1350.57,-502.88\"/>\n<text text-anchor=\"middle\" x=\"1318.57\" y=\"-487.68\" font-family=\"Times,serif\" font-size=\"14.00\">goalLeft</text>\n<text text-anchor=\"middle\" x=\"1318.57\" y=\"-472.68\" font-family=\"Times,serif\" font-size=\"14.00\">~</text>\n<text text-anchor=\"middle\" x=\"1318.57\" y=\"-457.68\" font-family=\"Times,serif\" font-size=\"14.00\">MutableData</text>\n</g>\n<!-- goalLeft&#45;&gt;leftPerformance -->\n<g id=\"edge8\" class=\"edge\">\n<title>goalLeft&#45;&gt;leftPerformance</title>\n<path fill=\"none\" stroke=\"black\" d=\"M1284.81,-449.84C1264.46,-434.45 1238.38,-414.71 1216.69,-398.3\"/>\n<polygon fill=\"black\" stroke=\"black\" points=\"1218.7,-395.43 1208.62,-392.19 1214.48,-401.02 1218.7,-395.43\"/>\n</g>\n<!-- finalP -->\n<g id=\"node17\" class=\"node\">\n<title>finalP</title>\n<polygon fill=\"none\" stroke=\"black\" points=\"1049.07,-202.95 958.07,-202.95 958.07,-149.95 1049.07,-149.95 1049.07,-202.95\"/>\n<text text-anchor=\"middle\" x=\"1003.57\" y=\"-187.75\" font-family=\"Times,serif\" font-size=\"14.00\">finalP</text>\n<text text-anchor=\"middle\" x=\"1003.57\" y=\"-172.75\" font-family=\"Times,serif\" font-size=\"14.00\">~</text>\n<text text-anchor=\"middle\" x=\"1003.57\" y=\"-157.75\" font-family=\"Times,serif\" font-size=\"14.00\">Deterministic</text>\n</g>\n<!-- objPermP&#45;&gt;finalP -->\n<g id=\"edge31\" class=\"edge\">\n<title>objPermP&#45;&gt;finalP</title>\n<path fill=\"none\" stroke=\"black\" d=\"M723.94,-338.82C782.91,-304.79 887,-244.72 950.2,-208.25\"/>\n<polygon fill=\"black\" stroke=\"black\" points=\"952.3,-211.08 959.21,-203.05 948.8,-205.02 952.3,-211.08\"/>\n</g>\n<!-- goalRight -->\n<g id=\"node16\" class=\"node\">\n<title>goalRight</title>\n<path fill=\"lightgrey\" stroke=\"black\" d=\"M207.57,-502.88C207.57,-502.88 143.57,-502.88 143.57,-502.88 137.57,-502.88 131.57,-496.88 131.57,-490.88 131.57,-490.88 131.57,-461.88 131.57,-461.88 131.57,-455.88 137.57,-449.88 143.57,-449.88 143.57,-449.88 207.57,-449.88 207.57,-449.88 213.57,-449.88 219.57,-455.88 219.57,-461.88 219.57,-461.88 219.57,-490.88 219.57,-490.88 219.57,-496.88 213.57,-502.88 207.57,-502.88\"/>\n<text text-anchor=\"middle\" x=\"175.57\" y=\"-487.68\" font-family=\"Times,serif\" font-size=\"14.00\">goalRight</text>\n<text text-anchor=\"middle\" x=\"175.57\" y=\"-472.68\" font-family=\"Times,serif\" font-size=\"14.00\">~</text>\n<text text-anchor=\"middle\" x=\"175.57\" y=\"-457.68\" font-family=\"Times,serif\" font-size=\"14.00\">MutableData</text>\n</g>\n<!-- goalRight&#45;&gt;rightPerformance -->\n<g id=\"edge4\" class=\"edge\">\n<title>goalRight&#45;&gt;rightPerformance</title>\n<path fill=\"none\" stroke=\"black\" d=\"M178.38,-449.84C179.94,-435.73 181.89,-417.98 183.6,-402.49\"/>\n<polygon fill=\"black\" stroke=\"black\" points=\"187.12,-402.52 184.73,-392.19 180.16,-401.75 187.12,-402.52\"/>\n</g>\n<!-- taskPerformance -->\n<g id=\"node28\" class=\"node\">\n<title>taskPerformance</title>\n<ellipse fill=\"lightgrey\" stroke=\"black\" cx=\"1003.57\" cy=\"-76.48\" rx=\"76.24\" ry=\"37.45\"/>\n<text text-anchor=\"middle\" x=\"1003.57\" y=\"-87.78\" font-family=\"Times,serif\" font-size=\"14.00\">taskPerformance</text>\n<text text-anchor=\"middle\" x=\"1003.57\" y=\"-72.78\" font-family=\"Times,serif\" font-size=\"14.00\">~</text>\n<text text-anchor=\"middle\" x=\"1003.57\" y=\"-57.78\" font-family=\"Times,serif\" font-size=\"14.00\">Bernoulli</text>\n</g>\n<!-- finalP&#45;&gt;taskPerformance -->\n<g id=\"edge33\" class=\"edge\">\n<title>finalP&#45;&gt;taskPerformance</title>\n<path fill=\"none\" stroke=\"black\" d=\"M1003.57,-149.71C1003.57,-141.89 1003.57,-133.03 1003.57,-124.27\"/>\n<polygon fill=\"black\" stroke=\"black\" points=\"1007.07,-124.1 1003.57,-114.1 1000.07,-124.1 1007.07,-124.1\"/>\n</g>\n<!-- visualAcuityP&#45;&gt;finalP -->\n<g id=\"edge30\" class=\"edge\">\n<title>visualAcuityP&#45;&gt;finalP</title>\n<path fill=\"none\" stroke=\"black\" d=\"M1375.72,-254.73C1297.93,-238.57 1142.43,-206.29 1059.19,-189\"/>\n<polygon fill=\"black\" stroke=\"black\" points=\"1059.66,-185.53 1049.16,-186.92 1058.24,-192.38 1059.66,-185.53\"/>\n</g>\n<!-- numChoices -->\n<g id=\"node19\" class=\"node\">\n<title>numChoices</title>\n<path fill=\"lightgrey\" stroke=\"black\" d=\"M552.57,-502.88C552.57,-502.88 488.57,-502.88 488.57,-502.88 482.57,-502.88 476.57,-496.88 476.57,-490.88 476.57,-490.88 476.57,-461.88 476.57,-461.88 476.57,-455.88 482.57,-449.88 488.57,-449.88 488.57,-449.88 552.57,-449.88 552.57,-449.88 558.57,-449.88 564.57,-455.88 564.57,-461.88 564.57,-461.88 564.57,-490.88 564.57,-490.88 564.57,-496.88 558.57,-502.88 552.57,-502.88\"/>\n<text text-anchor=\"middle\" x=\"520.57\" y=\"-487.68\" font-family=\"Times,serif\" font-size=\"14.00\">numChoices</text>\n<text text-anchor=\"middle\" x=\"520.57\" y=\"-472.68\" font-family=\"Times,serif\" font-size=\"14.00\">~</text>\n<text text-anchor=\"middle\" x=\"520.57\" y=\"-457.68\" font-family=\"Times,serif\" font-size=\"14.00\">MutableData</text>\n</g>\n<!-- numChoices&#45;&gt;objPermP -->\n<g id=\"edge25\" class=\"edge\">\n<title>numChoices&#45;&gt;objPermP</title>\n<path fill=\"none\" stroke=\"black\" d=\"M557.62,-449.86C562.97,-446.18 568.41,-442.45 573.57,-438.91 593.18,-425.46 614.85,-410.63 633.46,-397.91\"/>\n<polygon fill=\"black\" stroke=\"black\" points=\"635.49,-400.76 641.77,-392.23 631.54,-394.98 635.49,-400.76\"/>\n</g>\n<!-- lavaPresence -->\n<g id=\"node20\" class=\"node\">\n<title>lavaPresence</title>\n<path fill=\"lightgrey\" stroke=\"black\" d=\"M1244.57,-502.88C1244.57,-502.88 1180.57,-502.88 1180.57,-502.88 1174.57,-502.88 1168.57,-496.88 1168.57,-490.88 1168.57,-490.88 1168.57,-461.88 1168.57,-461.88 1168.57,-455.88 1174.57,-449.88 1180.57,-449.88 1180.57,-449.88 1244.57,-449.88 1244.57,-449.88 1250.57,-449.88 1256.57,-455.88 1256.57,-461.88 1256.57,-461.88 1256.57,-490.88 1256.57,-490.88 1256.57,-496.88 1250.57,-502.88 1244.57,-502.88\"/>\n<text text-anchor=\"middle\" x=\"1212.57\" y=\"-487.68\" font-family=\"Times,serif\" font-size=\"14.00\">lavaPresence</text>\n<text text-anchor=\"middle\" x=\"1212.57\" y=\"-472.68\" font-family=\"Times,serif\" font-size=\"14.00\">~</text>\n<text text-anchor=\"middle\" x=\"1212.57\" y=\"-457.68\" font-family=\"Times,serif\" font-size=\"14.00\">MutableData</text>\n</g>\n<!-- lavaPresence&#45;&gt;lavaP -->\n<g id=\"edge13\" class=\"edge\">\n<title>lavaPresence&#45;&gt;lavaP</title>\n<path fill=\"none\" stroke=\"black\" d=\"M1176.46,-449.84C1154.53,-434.32 1126.36,-414.39 1103.06,-397.91\"/>\n<polygon fill=\"black\" stroke=\"black\" points=\"1104.9,-394.92 1094.71,-392 1100.86,-400.64 1104.9,-394.92\"/>\n</g>\n<!-- goalAhead -->\n<g id=\"node21\" class=\"node\">\n<title>goalAhead</title>\n<path fill=\"lightgrey\" stroke=\"black\" d=\"M1456.57,-502.88C1456.57,-502.88 1392.57,-502.88 1392.57,-502.88 1386.57,-502.88 1380.57,-496.88 1380.57,-490.88 1380.57,-490.88 1380.57,-461.88 1380.57,-461.88 1380.57,-455.88 1386.57,-449.88 1392.57,-449.88 1392.57,-449.88 1456.57,-449.88 1456.57,-449.88 1462.57,-449.88 1468.57,-455.88 1468.57,-461.88 1468.57,-461.88 1468.57,-490.88 1468.57,-490.88 1468.57,-496.88 1462.57,-502.88 1456.57,-502.88\"/>\n<text text-anchor=\"middle\" x=\"1424.57\" y=\"-487.68\" font-family=\"Times,serif\" font-size=\"14.00\">goalAhead</text>\n<text text-anchor=\"middle\" x=\"1424.57\" y=\"-472.68\" font-family=\"Times,serif\" font-size=\"14.00\">~</text>\n<text text-anchor=\"middle\" x=\"1424.57\" y=\"-457.68\" font-family=\"Times,serif\" font-size=\"14.00\">MutableData</text>\n</g>\n<!-- goalAhead&#45;&gt;aheadPerformance -->\n<g id=\"edge6\" class=\"edge\">\n<title>goalAhead&#45;&gt;aheadPerformance</title>\n<path fill=\"none\" stroke=\"black\" d=\"M1396.2,-449.84C1379.33,-434.65 1357.77,-415.23 1339.69,-398.95\"/>\n<polygon fill=\"black\" stroke=\"black\" points=\"1341.95,-396.28 1332.18,-392.19 1337.27,-401.48 1341.95,-396.28\"/>\n</g>\n<!-- goalDistance -->\n<g id=\"node22\" class=\"node\">\n<title>goalDistance</title>\n<path fill=\"lightgrey\" stroke=\"black\" d=\"M898.57,-502.88C898.57,-502.88 834.57,-502.88 834.57,-502.88 828.57,-502.88 822.57,-496.88 822.57,-490.88 822.57,-490.88 822.57,-461.88 822.57,-461.88 822.57,-455.88 828.57,-449.88 834.57,-449.88 834.57,-449.88 898.57,-449.88 898.57,-449.88 904.57,-449.88 910.57,-455.88 910.57,-461.88 910.57,-461.88 910.57,-490.88 910.57,-490.88 910.57,-496.88 904.57,-502.88 898.57,-502.88\"/>\n<text text-anchor=\"middle\" x=\"866.57\" y=\"-487.68\" font-family=\"Times,serif\" font-size=\"14.00\">goalDistance</text>\n<text text-anchor=\"middle\" x=\"866.57\" y=\"-472.68\" font-family=\"Times,serif\" font-size=\"14.00\">~</text>\n<text text-anchor=\"middle\" x=\"866.57\" y=\"-457.68\" font-family=\"Times,serif\" font-size=\"14.00\">MutableData</text>\n</g>\n<!-- goalDistance&#45;&gt;objPermP -->\n<g id=\"edge28\" class=\"edge\">\n<title>goalDistance&#45;&gt;objPermP</title>\n<path fill=\"none\" stroke=\"black\" d=\"M830.41,-449.75C824.84,-446.01 819.09,-442.29 813.57,-438.91 788.07,-423.3 758.95,-407.34 734.39,-394.38\"/>\n<polygon fill=\"black\" stroke=\"black\" points=\"735.7,-391.12 725.22,-389.57 732.45,-397.32 735.7,-391.12\"/>\n</g>\n<!-- goalDistance&#45;&gt;flatNavP -->\n<g id=\"edge11\" class=\"edge\">\n<title>goalDistance&#45;&gt;flatNavP</title>\n<path fill=\"none\" stroke=\"black\" d=\"M860.47,-449.84C857.07,-435.6 852.79,-417.64 849.07,-402.04\"/>\n<polygon fill=\"black\" stroke=\"black\" points=\"852.44,-401.11 846.72,-392.19 845.63,-402.73 852.44,-401.11\"/>\n</g>\n<!-- navP -->\n<g id=\"node29\" class=\"node\">\n<title>navP</title>\n<polygon fill=\"none\" stroke=\"black\" points=\"1049.07,-291.95 958.07,-291.95 958.07,-238.95 1049.07,-238.95 1049.07,-291.95\"/>\n<text text-anchor=\"middle\" x=\"1003.57\" y=\"-276.75\" font-family=\"Times,serif\" font-size=\"14.00\">navP</text>\n<text text-anchor=\"middle\" x=\"1003.57\" y=\"-261.75\" font-family=\"Times,serif\" font-size=\"14.00\">~</text>\n<text text-anchor=\"middle\" x=\"1003.57\" y=\"-246.75\" font-family=\"Times,serif\" font-size=\"14.00\">Deterministic</text>\n</g>\n<!-- rampP&#45;&gt;navP -->\n<g id=\"edge19\" class=\"edge\">\n<title>rampP&#45;&gt;navP</title>\n<path fill=\"none\" stroke=\"black\" d=\"M963.76,-338.69C970.14,-327.1 977.78,-313.25 984.64,-300.8\"/>\n<polygon fill=\"black\" stroke=\"black\" points=\"987.71,-302.47 989.48,-292.02 981.58,-299.09 987.71,-302.47\"/>\n</g>\n<!-- leftPerformance&#45;&gt;navP -->\n<g id=\"edge20\" class=\"edge\">\n<title>leftPerformance&#45;&gt;navP</title>\n<path fill=\"none\" stroke=\"black\" d=\"M1132,-338.76C1125.83,-335.1 1119.55,-331.41 1113.57,-327.95 1095.67,-317.6 1075.99,-306.51 1058.28,-296.63\"/>\n<polygon fill=\"black\" stroke=\"black\" points=\"1059.67,-293.4 1049.23,-291.59 1056.26,-299.51 1059.67,-293.4\"/>\n</g>\n<!-- rampPresence -->\n<g id=\"node25\" class=\"node\">\n<title>rampPresence</title>\n<path fill=\"lightgrey\" stroke=\"black\" d=\"M1138.07,-502.88C1138.07,-502.88 1069.07,-502.88 1069.07,-502.88 1063.07,-502.88 1057.07,-496.88 1057.07,-490.88 1057.07,-490.88 1057.07,-461.88 1057.07,-461.88 1057.07,-455.88 1063.07,-449.88 1069.07,-449.88 1069.07,-449.88 1138.07,-449.88 1138.07,-449.88 1144.07,-449.88 1150.07,-455.88 1150.07,-461.88 1150.07,-461.88 1150.07,-490.88 1150.07,-490.88 1150.07,-496.88 1144.07,-502.88 1138.07,-502.88\"/>\n<text text-anchor=\"middle\" x=\"1103.57\" y=\"-487.68\" font-family=\"Times,serif\" font-size=\"14.00\">rampPresence</text>\n<text text-anchor=\"middle\" x=\"1103.57\" y=\"-472.68\" font-family=\"Times,serif\" font-size=\"14.00\">~</text>\n<text text-anchor=\"middle\" x=\"1103.57\" y=\"-457.68\" font-family=\"Times,serif\" font-size=\"14.00\">MutableData</text>\n</g>\n<!-- rampPresence&#45;&gt;rampP -->\n<g id=\"edge15\" class=\"edge\">\n<title>rampPresence&#45;&gt;rampP</title>\n<path fill=\"none\" stroke=\"black\" d=\"M1067.46,-449.84C1045.53,-434.32 1017.36,-414.39 994.06,-397.91\"/>\n<polygon fill=\"black\" stroke=\"black\" points=\"995.9,-394.92 985.71,-392 991.86,-400.64 995.9,-394.92\"/>\n</g>\n<!-- allocentricOPTest -->\n<g id=\"node26\" class=\"node\">\n<title>allocentricOPTest</title>\n<path fill=\"lightgrey\" stroke=\"black\" d=\"M792.07,-502.88C792.07,-502.88 703.07,-502.88 703.07,-502.88 697.07,-502.88 691.07,-496.88 691.07,-490.88 691.07,-490.88 691.07,-461.88 691.07,-461.88 691.07,-455.88 697.07,-449.88 703.07,-449.88 703.07,-449.88 792.07,-449.88 792.07,-449.88 798.07,-449.88 804.07,-455.88 804.07,-461.88 804.07,-461.88 804.07,-490.88 804.07,-490.88 804.07,-496.88 798.07,-502.88 792.07,-502.88\"/>\n<text text-anchor=\"middle\" x=\"747.57\" y=\"-487.68\" font-family=\"Times,serif\" font-size=\"14.00\">allocentricOPTest</text>\n<text text-anchor=\"middle\" x=\"747.57\" y=\"-472.68\" font-family=\"Times,serif\" font-size=\"14.00\">~</text>\n<text text-anchor=\"middle\" x=\"747.57\" y=\"-457.68\" font-family=\"Times,serif\" font-size=\"14.00\">MutableData</text>\n</g>\n<!-- allocentricOPTest&#45;&gt;objPermP -->\n<g id=\"edge26\" class=\"edge\">\n<title>allocentricOPTest&#45;&gt;objPermP</title>\n<path fill=\"none\" stroke=\"black\" d=\"M731.63,-449.84C722.48,-435.19 710.89,-416.61 700.96,-400.71\"/>\n<polygon fill=\"black\" stroke=\"black\" points=\"703.91,-398.82 695.65,-392.19 697.97,-402.53 703.91,-398.82\"/>\n</g>\n<!-- allocentricOPTest&#45;&gt;flatNavP -->\n<g id=\"edge10\" class=\"edge\">\n<title>allocentricOPTest&#45;&gt;flatNavP</title>\n<path fill=\"none\" stroke=\"black\" d=\"M769.37,-449.84C782.11,-434.92 798.32,-415.92 812.06,-399.83\"/>\n<polygon fill=\"black\" stroke=\"black\" points=\"814.75,-402.07 818.58,-392.19 809.42,-397.53 814.75,-402.07\"/>\n</g>\n<!-- flatNavP&#45;&gt;navP -->\n<g id=\"edge17\" class=\"edge\">\n<title>flatNavP&#45;&gt;navP</title>\n<path fill=\"none\" stroke=\"black\" d=\"M878.52,-338.78C884.19,-335.08 890.01,-331.38 895.57,-327.95 912.78,-317.36 931.86,-306.29 949.13,-296.5\"/>\n<polygon fill=\"black\" stroke=\"black\" points=\"950.99,-299.47 957.98,-291.51 947.55,-293.37 950.99,-299.47\"/>\n</g>\n<!-- navP&#45;&gt;finalP -->\n<g id=\"edge32\" class=\"edge\">\n<title>navP&#45;&gt;finalP</title>\n<path fill=\"none\" stroke=\"black\" d=\"M1003.57,-238.82C1003.57,-230.84 1003.57,-221.89 1003.57,-213.34\"/>\n<polygon fill=\"black\" stroke=\"black\" points=\"1007.07,-213.2 1003.57,-203.2 1000.07,-213.2 1007.07,-213.2\"/>\n</g>\n<!-- rightPerformance&#45;&gt;navP -->\n<g id=\"edge22\" class=\"edge\">\n<title>rightPerformance&#45;&gt;navP</title>\n<path fill=\"none\" stroke=\"black\" d=\"M243.66,-357.7C392.92,-339.77 798.65,-291.06 947.68,-273.16\"/>\n<polygon fill=\"black\" stroke=\"black\" points=\"948.45,-276.6 957.96,-271.93 947.62,-269.65 948.45,-276.6\"/>\n</g>\n<!-- aheadPerformance&#45;&gt;navP -->\n<g id=\"edge21\" class=\"edge\">\n<title>aheadPerformance&#45;&gt;navP</title>\n<path fill=\"none\" stroke=\"black\" d=\"M1259.28,-338.77C1251.52,-334.83 1243.42,-331.05 1235.57,-327.95 1177.13,-304.9 1107.05,-287.67 1059.31,-277.4\"/>\n<polygon fill=\"black\" stroke=\"black\" points=\"1059.99,-273.96 1049.48,-275.31 1058.53,-280.81 1059.99,-273.96\"/>\n</g>\n<!-- lavaP&#45;&gt;navP -->\n<g id=\"edge18\" class=\"edge\">\n<title>lavaP&#45;&gt;navP</title>\n<path fill=\"none\" stroke=\"black\" d=\"M1044.12,-338.69C1037.61,-327.1 1029.84,-313.25 1022.85,-300.8\"/>\n<polygon fill=\"black\" stroke=\"black\" points=\"1025.87,-299.03 1017.92,-292.02 1019.77,-302.46 1025.87,-299.03\"/>\n</g>\n</g>\n</svg>\n",
            "text/plain": [
              "<graphviz.graphs.Digraph at 0x7a1791b29bd0>"
            ]
          },
          "metadata": {},
          "execution_count": 162
        }
      ]
    },
    {
      "cell_type": "code",
      "source": [
        "# A function for pulling out the means and standard deviations for abilities of interest\n",
        "def analyzeAgentResults(agentName, agentData, abilitiesToShow):\n",
        "\n",
        "  abilityMeans = [] # empty list to add in ability means to\n",
        "  abilitySDs = []\n",
        "  for a in abilitiesToShow: #iterate through each ability, add posterior mean to dataframe, and plot posterior\n",
        "\n",
        "    posteriorMean = float(np.mean(agentData['posterior'][a])) # calculate posterior mean\n",
        "    posteriorSD = float(np.std(agentData['posterior'][a])) #calculate posterior sd\n",
        "    abilityMeans.append(posteriorMean)\n",
        "    abilitySDs.append(posteriorSD)\n",
        "\n",
        "  return abilityMeans, abilitySDs\n",
        "\n",
        "# A function for padding the testing data with 0s for prediction\n",
        "def pad(testingData, trainingDataSize):\n",
        "    return testingData.append(pd.Series(np.zeros(trainingDataSize-len(testingData), dtype=int)))\n",
        "\n",
        "# A function for making predictions based on a fitted measurement layout\n",
        "def predict(m, agentData, dfTest, agent, len_training):\n",
        "  with m:\n",
        "    # set the data for prediction\n",
        "    pm.set_data({\"lavaPresence\": pad(dfTest[\"lavaPresence\"], len_training)})\n",
        "    pm.set_data({\"lightsOutPresence\": pad(dfTest[\"lightsOutPresence\"], len_training)})\n",
        "    pm.set_data({\"rampPresence\": pad(dfTest[\"taskCriticalRampPresence\"], len_training)})\n",
        "    pm.set_data({\"numChoices\": pad(dfTest[\"numChoices\"], len_training)})\n",
        "    pm.set_data({\"minTurnsToGoal\": pad(dfTest[\"minNumTurnsRequired\"], len_training)})\n",
        "    pm.set_data({\"goalDistance\": pad(dfTest[\"cityBlockDistanceToGoal\"], len_training)})\n",
        "    pm.set_data({\"goalSize\": pad(dfTest[\"mainGoalSize\"], len_training)})\n",
        "    pm.set_data({\"goalRight\": pad(dfTest[\"goalRightRelToStart\"], len_training)})\n",
        "    pm.set_data({\"goalAhead\": pad(dfTest[\"goalCentreRelToStart\"], len_training)})\n",
        "    pm.set_data({\"goalLeft\": pad(dfTest[\"goalLeftRelToStart\"], len_training)})\n",
        "    pm.set_data({\"CVChickTest\": pad(dfTest[\"cvchickTask\"], len_training)})\n",
        "    pm.set_data({\"PCTBTest\": pad(dfTest[\"pctbTask\"], len_training)})\n",
        "    pm.set_data({\"allocentricOPTest\": pad(dfTest[\"goalBecomesAllocentricallyOccluded\"], len_training)})\n",
        "\n",
        "    predictions=pm.sample_posterior_predictive(agentData, var_names=[\"finalP\"], return_inferencedata=False,predictions=True,extend_inferencedata=False)\n",
        "    predictionChainRuns =predictions[\"finalP\"][:,:,0:len(dfTest)]\n",
        "    predictionsInstance = np.mean(predictionChainRuns, (0,1))\n",
        "\n",
        "    return predictionsInstance,  dfTest[agent].to_numpy()\n",
        "\n",
        "\n",
        "def brierScore(preds, outs):\n",
        "    return 1/len(preds) * sum( (preds-outs)**2 )\n",
        "\n",
        "def brierDecomp(preds, outs):\n",
        "\n",
        "  brier= 1/len(preds) * sum( (preds-outs)**2 )\n",
        "  ## bin predictions\n",
        "  bins = np.linspace(0,1,11)\n",
        "  binCenters = (bins[:-1] +bins[1:]) /2\n",
        "  binPredInds = np.digitize(preds,binCenters)\n",
        "  binnedPreds = bins[binPredInds]\n",
        "\n",
        "  binTrueFreqs = np.zeros(10)\n",
        "  binPredFreqs = np.zeros(10)\n",
        "  binCounts = np.zeros(10)\n",
        "\n",
        "  for i in range(10):\n",
        "      idx = (preds >= bins[i]) & (preds < bins[i+1])\n",
        "\n",
        "      binTrueFreqs[i] = np.sum(outs[idx])/np.sum(idx) if np.sum(idx) > 0 else 0\n",
        "     # print(np.sum(outs[idx]), np.sum(idx), binTrueFreqs[i])\n",
        "      binPredFreqs[i] = np.mean(preds[idx]) if np.sum(idx) > 0 else 0\n",
        "      binCounts[i] = np.sum(idx)\n",
        "\n",
        "  calibration = np.sum(binCounts * (binTrueFreqs - binPredFreqs) ** 2) / np.sum(binCounts) if np.sum(binCounts)>0 else 0\n",
        "  refinement = np.sum(binCounts * (binTrueFreqs *(1 - binTrueFreqs))) / np.sum(binCounts) if np.sum(binCounts)> 0 else 0\n",
        "  # Compute refinement component\n",
        "  #refinement = brier - calibration\n",
        "  return brier, calibration, refinement\n",
        "\n"
      ],
      "metadata": {
        "id": "-Rm-t0AkyvM6"
      },
      "execution_count": 163,
      "outputs": []
    },
    {
      "cell_type": "code",
      "source": [
        "from sklearn.model_selection import train_test_split\n",
        "\n",
        "agents_training, agents_test = train_test_split(agent_data, test_size=0.2)\n",
        "children_training, children_test = train_test_split(children_data, test_size=0.2)\n"
      ],
      "metadata": {
        "id": "PmzVmxb1Wpm4"
      },
      "execution_count": 164,
      "outputs": []
    },
    {
      "cell_type": "code",
      "source": [
        "m, min, max = SetupModel(agents_training, uniformAbilitySlack=1.4, agent_type='agent', agent_name=\"Random_Walker_Rayleigh_Flight_Norm_Saccade_mu_15_sig_5_Uniform_Angles_1_to_60_3761\", sample = 200)"
      ],
      "metadata": {
        "id": "yFLh92O_et4p"
      },
      "execution_count": 165,
      "outputs": []
    },
    {
      "cell_type": "code",
      "source": [
        "with m:\n",
        "    agentData = pm.sample(500, target_accept=0.95) #Might need more samples to converge"
      ],
      "metadata": {
        "id": "w9aFo8X8eyEg",
        "outputId": "f42a4082-9a64-4841-c93d-87e38ad98577",
        "colab": {
          "base_uri": "https://localhost:8080/",
          "height": 57
        }
      },
      "execution_count": 166,
      "outputs": [
        {
          "output_type": "display_data",
          "data": {
            "text/plain": [
              "<IPython.core.display.HTML object>"
            ],
            "text/html": [
              "\n",
              "<style>\n",
              "    /* Turns off some styling */\n",
              "    progress {\n",
              "        /* gets rid of default border in Firefox and Opera. */\n",
              "        border: none;\n",
              "        /* Needs to be in here for Safari polyfill so background images work as expected. */\n",
              "        background-size: auto;\n",
              "    }\n",
              "    progress:not([value]), progress:not([value])::-webkit-progress-bar {\n",
              "        background: repeating-linear-gradient(45deg, #7e7e7e, #7e7e7e 10px, #5c5c5c 10px, #5c5c5c 20px);\n",
              "    }\n",
              "    .progress-bar-interrupted, .progress-bar-interrupted::-webkit-progress-bar {\n",
              "        background: #F44336;\n",
              "    }\n",
              "</style>\n"
            ]
          },
          "metadata": {}
        },
        {
          "output_type": "display_data",
          "data": {
            "text/plain": [
              "<IPython.core.display.HTML object>"
            ],
            "text/html": [
              "\n",
              "    <div>\n",
              "      <progress value='1500' class='' max='1500' style='width:300px; height:20px; vertical-align: middle;'></progress>\n",
              "      100.00% [1500/1500 01:13&lt;00:00 Sampling chain 0, 0 divergences]\n",
              "    </div>\n",
              "    "
            ]
          },
          "metadata": {}
        },
        {
          "output_type": "display_data",
          "data": {
            "text/plain": [
              "<IPython.core.display.HTML object>"
            ],
            "text/html": [
              "\n",
              "<style>\n",
              "    /* Turns off some styling */\n",
              "    progress {\n",
              "        /* gets rid of default border in Firefox and Opera. */\n",
              "        border: none;\n",
              "        /* Needs to be in here for Safari polyfill so background images work as expected. */\n",
              "        background-size: auto;\n",
              "    }\n",
              "    progress:not([value]), progress:not([value])::-webkit-progress-bar {\n",
              "        background: repeating-linear-gradient(45deg, #7e7e7e, #7e7e7e 10px, #5c5c5c 10px, #5c5c5c 20px);\n",
              "    }\n",
              "    .progress-bar-interrupted, .progress-bar-interrupted::-webkit-progress-bar {\n",
              "        background: #F44336;\n",
              "    }\n",
              "</style>\n"
            ]
          },
          "metadata": {}
        },
        {
          "output_type": "display_data",
          "data": {
            "text/plain": [
              "<IPython.core.display.HTML object>"
            ],
            "text/html": [
              "\n",
              "    <div>\n",
              "      <progress value='1500' class='' max='1500' style='width:300px; height:20px; vertical-align: middle;'></progress>\n",
              "      100.00% [1500/1500 01:03&lt;00:00 Sampling chain 1, 0 divergences]\n",
              "    </div>\n",
              "    "
            ]
          },
          "metadata": {}
        }
      ]
    },
    {
      "cell_type": "code",
      "source": [
        "agentName = \"Random_Walker_Rayleigh_Flight_Norm_Saccade_mu_15_sig_5_Uniform_Angles_1_to_60_3761\"\n",
        "abilitiesToShow = [\"objPermAbility\", \"visualAcuityAbility\", \"flatNavAbility\", \"lavaAbility\", \"rampAbility\", \"rightAbility\", \"leftAbility\", \"aheadAbility\"]\n",
        "\n",
        "m, min, max = SetupModel(agents_test, uniformAbilitySlack=1.4, agent_type='agent', agent_name=agentName)\n",
        "\n",
        "mu, sd  = analyzeAgentResults(agentName, agentData, abilitiesToShow)\n",
        "predictions, testOutputs = predict(m, agentData, agents_test, agentName, len(agents_training[agentName]))"
      ],
      "metadata": {
        "id": "J5xV1fmxb8vQ",
        "outputId": "af0c494e-6a67-4d9d-d289-09b1211e76aa",
        "colab": {
          "base_uri": "https://localhost:8080/",
          "height": 488
        }
      },
      "execution_count": 170,
      "outputs": [
        {
          "output_type": "stream",
          "name": "stderr",
          "text": [
            "<ipython-input-163-e49df24b29d0>:17: FutureWarning: The series.append method is deprecated and will be removed from pandas in a future version. Use pandas.concat instead.\n",
            "  return testingData.append(pd.Series(np.zeros(trainingDataSize-len(testingData), dtype=int)))\n",
            "<ipython-input-163-e49df24b29d0>:17: FutureWarning: The series.append method is deprecated and will be removed from pandas in a future version. Use pandas.concat instead.\n",
            "  return testingData.append(pd.Series(np.zeros(trainingDataSize-len(testingData), dtype=int)))\n",
            "<ipython-input-163-e49df24b29d0>:17: FutureWarning: The series.append method is deprecated and will be removed from pandas in a future version. Use pandas.concat instead.\n",
            "  return testingData.append(pd.Series(np.zeros(trainingDataSize-len(testingData), dtype=int)))\n",
            "<ipython-input-163-e49df24b29d0>:17: FutureWarning: The series.append method is deprecated and will be removed from pandas in a future version. Use pandas.concat instead.\n",
            "  return testingData.append(pd.Series(np.zeros(trainingDataSize-len(testingData), dtype=int)))\n",
            "<ipython-input-163-e49df24b29d0>:17: FutureWarning: The series.append method is deprecated and will be removed from pandas in a future version. Use pandas.concat instead.\n",
            "  return testingData.append(pd.Series(np.zeros(trainingDataSize-len(testingData), dtype=int)))\n",
            "<ipython-input-163-e49df24b29d0>:17: FutureWarning: The series.append method is deprecated and will be removed from pandas in a future version. Use pandas.concat instead.\n",
            "  return testingData.append(pd.Series(np.zeros(trainingDataSize-len(testingData), dtype=int)))\n",
            "<ipython-input-163-e49df24b29d0>:17: FutureWarning: The series.append method is deprecated and will be removed from pandas in a future version. Use pandas.concat instead.\n",
            "  return testingData.append(pd.Series(np.zeros(trainingDataSize-len(testingData), dtype=int)))\n",
            "<ipython-input-163-e49df24b29d0>:17: FutureWarning: The series.append method is deprecated and will be removed from pandas in a future version. Use pandas.concat instead.\n",
            "  return testingData.append(pd.Series(np.zeros(trainingDataSize-len(testingData), dtype=int)))\n",
            "<ipython-input-163-e49df24b29d0>:17: FutureWarning: The series.append method is deprecated and will be removed from pandas in a future version. Use pandas.concat instead.\n",
            "  return testingData.append(pd.Series(np.zeros(trainingDataSize-len(testingData), dtype=int)))\n",
            "<ipython-input-163-e49df24b29d0>:17: FutureWarning: The series.append method is deprecated and will be removed from pandas in a future version. Use pandas.concat instead.\n",
            "  return testingData.append(pd.Series(np.zeros(trainingDataSize-len(testingData), dtype=int)))\n",
            "<ipython-input-163-e49df24b29d0>:17: FutureWarning: The series.append method is deprecated and will be removed from pandas in a future version. Use pandas.concat instead.\n",
            "  return testingData.append(pd.Series(np.zeros(trainingDataSize-len(testingData), dtype=int)))\n",
            "<ipython-input-163-e49df24b29d0>:17: FutureWarning: The series.append method is deprecated and will be removed from pandas in a future version. Use pandas.concat instead.\n",
            "  return testingData.append(pd.Series(np.zeros(trainingDataSize-len(testingData), dtype=int)))\n",
            "<ipython-input-163-e49df24b29d0>:17: FutureWarning: The series.append method is deprecated and will be removed from pandas in a future version. Use pandas.concat instead.\n",
            "  return testingData.append(pd.Series(np.zeros(trainingDataSize-len(testingData), dtype=int)))\n"
          ]
        },
        {
          "output_type": "display_data",
          "data": {
            "text/plain": [
              "<IPython.core.display.HTML object>"
            ],
            "text/html": [
              "\n",
              "<style>\n",
              "    /* Turns off some styling */\n",
              "    progress {\n",
              "        /* gets rid of default border in Firefox and Opera. */\n",
              "        border: none;\n",
              "        /* Needs to be in here for Safari polyfill so background images work as expected. */\n",
              "        background-size: auto;\n",
              "    }\n",
              "    progress:not([value]), progress:not([value])::-webkit-progress-bar {\n",
              "        background: repeating-linear-gradient(45deg, #7e7e7e, #7e7e7e 10px, #5c5c5c 10px, #5c5c5c 20px);\n",
              "    }\n",
              "    .progress-bar-interrupted, .progress-bar-interrupted::-webkit-progress-bar {\n",
              "        background: #F44336;\n",
              "    }\n",
              "</style>\n"
            ]
          },
          "metadata": {}
        },
        {
          "output_type": "display_data",
          "data": {
            "text/plain": [
              "<IPython.core.display.HTML object>"
            ],
            "text/html": [
              "\n",
              "    <div>\n",
              "      <progress value='1000' class='' max='1000' style='width:300px; height:20px; vertical-align: middle;'></progress>\n",
              "      100.00% [1000/1000 00:00&lt;00:00]\n",
              "    </div>\n",
              "    "
            ]
          },
          "metadata": {}
        }
      ]
    },
    {
      "cell_type": "code",
      "source": [
        "\n",
        "abilityDF = pd.DataFrame( {'Ability': abilitiesIncludingSuccess})\n",
        "meansDF = pd.DataFrame({\"Ability\": abilitiesIncludingSuccess})\n",
        "stdDevDF = pd.DataFrame({\"Ability\": abilitiesIncludingSuccess})\n",
        "modelBrierScores = []\n",
        "aggregateBrierScores = []\n",
        "modelCalibrations = []\n",
        "aggregateCalibrations = []\n",
        "modelRefinements = []\n",
        "aggregateRefinements = []\n",
        "\n",
        "agentBrierScore, agentCalibration, agentRefinement = brierDecomp(predictions, testOutputs)\n",
        "agentAggBrierScore, agentAggCalibration, agentAggRefinement = brierDecomp(np.repeat(np.mean(agent_data[agentName]), len(testOutputs)), testOutputs)\n",
        "aggregateBrierScores.append(agentAggBrierScore)\n",
        "aggregateCalibrations.append(agentAggCalibration)\n",
        "aggregateRefinements.append(agentAggRefinement)\n",
        "modelBrierScores.append(agentBrierScore)\n",
        "modelCalibrations.append(agentCalibration)\n",
        "modelRefinements.append(agentRefinement)\n",
        "abilityMeans= [str(round(mu_i, 2))+\" \" for mu_i in mu]  # add ability mean estimate to list for this agent\n",
        "abilitySDs = [\"\"+str(round(sd_i,2)) for sd_i in sd ]"
      ],
      "metadata": {
        "id": "-mqyHbZ8jtia"
      },
      "execution_count": 168,
      "outputs": []
    },
    {
      "cell_type": "code",
      "source": [
        "agentBrierScore, agentCalibration, agentRefinement = brierDecomp(predictions, testOutputs)\n",
        "abilityMeans= [str(round(mu_i, 2))+\" \" for mu_i in mu]  # add ability mean estimate to list for this agent\n",
        "abilitySDs = [\"\"+str(round(sd_i,2)) for sd_i in sd ]\n",
        "print(agentBrierScore)\n",
        "print(agentCalibration)\n",
        "print(agentRefinement)\n",
        "print(abilityMeans)\n",
        "print(abilitySDs)"
      ],
      "metadata": {
        "id": "swLWucBTktOo",
        "outputId": "0ee6ca33-8282-4ab8-a4e9-0b5ae1c1ed91",
        "colab": {
          "base_uri": "https://localhost:8080/"
        }
      },
      "execution_count": 171,
      "outputs": [
        {
          "output_type": "stream",
          "name": "stdout",
          "text": [
            "nan\n",
            "nan\n",
            "nan\n",
            "['990.31 ', '2.88 ', '797.7 ', '0.07 ', '0.26 ', '0.28 ', '0.62 ', '0.66 ']\n",
            "['556.25', '1.19', '428.57', '0.08', '0.17', '0.21', '0.22', '0.2']\n"
          ]
        }
      ]
    },
    {
      "cell_type": "code",
      "source": [
        "brier= 1/len(predictions) * sum( (predictions-testOutputs)**2 )\n",
        "print(sum( (predictions-testOutputs)**2))\n",
        "# ## bin predictions\n",
        "# bins = np.linspace(0,1,11)\n",
        "# binCenters = (bins[:-1] +bins[1:]) /2\n",
        "# binPredInds = np.digitize(preds,binCenters)\n",
        "# binnedPreds = bins[binPredInds]\n",
        "# binTrueFreqs = np.zeros(10)\n",
        "# binPredFreqs = np.zeros(10)\n",
        "# binCounts = np.zeros(10)\n",
        "# for i in range(10):\n",
        "#   idx = (preds >= bins[i]) & (preds < bins[i+1])\n",
        "\n",
        "#   binTrueFreqs[i] = np.sum(outs[idx])/np.sum(idx) if np.sum(idx) > 0 else 0\n",
        "#   # print(np.sum(outs[idx]), np.sum(idx), binTrueFreqs[i])\n",
        "#   binPredFreqs[i] = np.mean(preds[idx]) if np.sum(idx) > 0 else 0\n",
        "#   binCounts[i] = np.sum(idx)\n",
        "\n",
        "# calibration = np.sum(binCounts * (binTrueFreqs - binPredFreqs) ** 2) / np.sum(binCounts) if np.sum(binCounts)>0 else 0\n",
        "# refinement = np.sum(binCounts * (binTrueFreqs *(1 - binTrueFreqs))) / np.sum(binCounts) if np.sum(binCounts)> 0 else 0\n",
        "# # Compute refinement component\n",
        "# #refinement = brier - calibration\n",
        "\n"
      ],
      "metadata": {
        "colab": {
          "base_uri": "https://localhost:8080/"
        },
        "id": "9Q0R-aKC0Feo",
        "outputId": "a010dfba-ccbe-4ea1-d9b6-d1c2dc60cbfe"
      },
      "execution_count": 178,
      "outputs": [
        {
          "output_type": "stream",
          "name": "stdout",
          "text": [
            "nan\n"
          ]
        }
      ]
    },
    {
      "cell_type": "code",
      "source": [
        "brierDF = pd.DataFrame({\"Model Brier Score\":modelBrierScores, \"Aggregate Brier Scores\": aggregateBrierScores, \"Model Calibration\": modelCalibrations, \"Aggregate Calibration\":aggregateCalibrations, \"Model Refinement\":modelRefinements, \"Aggregate Refinement\":aggregateRefinements,  \"Model Better? (Based on Brier Score)\":np.array(modelBrierScores)<np.array(aggregateBrierScores), \"Success Score\":meansDF.iloc[9][1:]})"
      ],
      "metadata": {
        "id": "NMsnjVhVdoTH",
        "outputId": "bf05f06b-9958-499a-d6e3-6002278f9b83",
        "colab": {
          "base_uri": "https://localhost:8080/",
          "height": 355
        }
      },
      "execution_count": null,
      "outputs": [
        {
          "output_type": "error",
          "ename": "IndexError",
          "evalue": "ignored",
          "traceback": [
            "\u001b[0;31m---------------------------------------------------------------------------\u001b[0m",
            "\u001b[0;31mIndexError\u001b[0m                                Traceback (most recent call last)",
            "\u001b[0;32m<ipython-input-135-8eb26a9011e5>\u001b[0m in \u001b[0;36m<cell line: 1>\u001b[0;34m()\u001b[0m\n\u001b[0;32m----> 1\u001b[0;31m \u001b[0mbrierDF\u001b[0m \u001b[0;34m=\u001b[0m \u001b[0mpd\u001b[0m\u001b[0;34m.\u001b[0m\u001b[0mDataFrame\u001b[0m\u001b[0;34m(\u001b[0m\u001b[0;34m{\u001b[0m\u001b[0;34m\"Model Brier Score\"\u001b[0m\u001b[0;34m:\u001b[0m\u001b[0mmodelBrierScores\u001b[0m\u001b[0;34m,\u001b[0m \u001b[0;34m\"Aggregate Brier Scores\"\u001b[0m\u001b[0;34m:\u001b[0m \u001b[0maggregateBrierScores\u001b[0m\u001b[0;34m,\u001b[0m \u001b[0;34m\"Model Calibration\"\u001b[0m\u001b[0;34m:\u001b[0m \u001b[0mmodelCalibrations\u001b[0m\u001b[0;34m,\u001b[0m \u001b[0;34m\"Aggregate Calibration\"\u001b[0m\u001b[0;34m:\u001b[0m\u001b[0maggregateCalibrations\u001b[0m\u001b[0;34m,\u001b[0m \u001b[0;34m\"Model Refinement\"\u001b[0m\u001b[0;34m:\u001b[0m\u001b[0mmodelRefinements\u001b[0m\u001b[0;34m,\u001b[0m \u001b[0;34m\"Aggregate Refinement\"\u001b[0m\u001b[0;34m:\u001b[0m\u001b[0maggregateRefinements\u001b[0m\u001b[0;34m,\u001b[0m  \u001b[0;34m\"Model Better? (Based on Brier Score)\"\u001b[0m\u001b[0;34m:\u001b[0m\u001b[0mnp\u001b[0m\u001b[0;34m.\u001b[0m\u001b[0marray\u001b[0m\u001b[0;34m(\u001b[0m\u001b[0mmodelBrierScores\u001b[0m\u001b[0;34m)\u001b[0m\u001b[0;34m<\u001b[0m\u001b[0mnp\u001b[0m\u001b[0;34m.\u001b[0m\u001b[0marray\u001b[0m\u001b[0;34m(\u001b[0m\u001b[0maggregateBrierScores\u001b[0m\u001b[0;34m)\u001b[0m\u001b[0;34m,\u001b[0m \u001b[0;34m\"Success Score\"\u001b[0m\u001b[0;34m:\u001b[0m\u001b[0mmeansDF\u001b[0m\u001b[0;34m.\u001b[0m\u001b[0miloc\u001b[0m\u001b[0;34m[\u001b[0m\u001b[0;36m9\u001b[0m\u001b[0;34m]\u001b[0m\u001b[0;34m[\u001b[0m\u001b[0;36m1\u001b[0m\u001b[0;34m:\u001b[0m\u001b[0;34m]\u001b[0m\u001b[0;34m}\u001b[0m\u001b[0;34m)\u001b[0m\u001b[0;34m\u001b[0m\u001b[0;34m\u001b[0m\u001b[0m\n\u001b[0m",
            "\u001b[0;32m/usr/local/lib/python3.10/dist-packages/pandas/core/indexing.py\u001b[0m in \u001b[0;36m__getitem__\u001b[0;34m(self, key)\u001b[0m\n\u001b[1;32m   1071\u001b[0m \u001b[0;34m\u001b[0m\u001b[0m\n\u001b[1;32m   1072\u001b[0m             \u001b[0mmaybe_callable\u001b[0m \u001b[0;34m=\u001b[0m \u001b[0mcom\u001b[0m\u001b[0;34m.\u001b[0m\u001b[0mapply_if_callable\u001b[0m\u001b[0;34m(\u001b[0m\u001b[0mkey\u001b[0m\u001b[0;34m,\u001b[0m \u001b[0mself\u001b[0m\u001b[0;34m.\u001b[0m\u001b[0mobj\u001b[0m\u001b[0;34m)\u001b[0m\u001b[0;34m\u001b[0m\u001b[0;34m\u001b[0m\u001b[0m\n\u001b[0;32m-> 1073\u001b[0;31m             \u001b[0;32mreturn\u001b[0m \u001b[0mself\u001b[0m\u001b[0;34m.\u001b[0m\u001b[0m_getitem_axis\u001b[0m\u001b[0;34m(\u001b[0m\u001b[0mmaybe_callable\u001b[0m\u001b[0;34m,\u001b[0m \u001b[0maxis\u001b[0m\u001b[0;34m=\u001b[0m\u001b[0maxis\u001b[0m\u001b[0;34m)\u001b[0m\u001b[0;34m\u001b[0m\u001b[0;34m\u001b[0m\u001b[0m\n\u001b[0m\u001b[1;32m   1074\u001b[0m \u001b[0;34m\u001b[0m\u001b[0m\n\u001b[1;32m   1075\u001b[0m     \u001b[0;32mdef\u001b[0m \u001b[0m_is_scalar_access\u001b[0m\u001b[0;34m(\u001b[0m\u001b[0mself\u001b[0m\u001b[0;34m,\u001b[0m \u001b[0mkey\u001b[0m\u001b[0;34m:\u001b[0m \u001b[0mtuple\u001b[0m\u001b[0;34m)\u001b[0m\u001b[0;34m:\u001b[0m\u001b[0;34m\u001b[0m\u001b[0;34m\u001b[0m\u001b[0m\n",
            "\u001b[0;32m/usr/local/lib/python3.10/dist-packages/pandas/core/indexing.py\u001b[0m in \u001b[0;36m_getitem_axis\u001b[0;34m(self, key, axis)\u001b[0m\n\u001b[1;32m   1623\u001b[0m \u001b[0;34m\u001b[0m\u001b[0m\n\u001b[1;32m   1624\u001b[0m             \u001b[0;31m# validate the location\u001b[0m\u001b[0;34m\u001b[0m\u001b[0;34m\u001b[0m\u001b[0m\n\u001b[0;32m-> 1625\u001b[0;31m             \u001b[0mself\u001b[0m\u001b[0;34m.\u001b[0m\u001b[0m_validate_integer\u001b[0m\u001b[0;34m(\u001b[0m\u001b[0mkey\u001b[0m\u001b[0;34m,\u001b[0m \u001b[0maxis\u001b[0m\u001b[0;34m)\u001b[0m\u001b[0;34m\u001b[0m\u001b[0;34m\u001b[0m\u001b[0m\n\u001b[0m\u001b[1;32m   1626\u001b[0m \u001b[0;34m\u001b[0m\u001b[0m\n\u001b[1;32m   1627\u001b[0m             \u001b[0;32mreturn\u001b[0m \u001b[0mself\u001b[0m\u001b[0;34m.\u001b[0m\u001b[0mobj\u001b[0m\u001b[0;34m.\u001b[0m\u001b[0m_ixs\u001b[0m\u001b[0;34m(\u001b[0m\u001b[0mkey\u001b[0m\u001b[0;34m,\u001b[0m \u001b[0maxis\u001b[0m\u001b[0;34m=\u001b[0m\u001b[0maxis\u001b[0m\u001b[0;34m)\u001b[0m\u001b[0;34m\u001b[0m\u001b[0;34m\u001b[0m\u001b[0m\n",
            "\u001b[0;32m/usr/local/lib/python3.10/dist-packages/pandas/core/indexing.py\u001b[0m in \u001b[0;36m_validate_integer\u001b[0;34m(self, key, axis)\u001b[0m\n\u001b[1;32m   1555\u001b[0m         \u001b[0mlen_axis\u001b[0m \u001b[0;34m=\u001b[0m \u001b[0mlen\u001b[0m\u001b[0;34m(\u001b[0m\u001b[0mself\u001b[0m\u001b[0;34m.\u001b[0m\u001b[0mobj\u001b[0m\u001b[0;34m.\u001b[0m\u001b[0m_get_axis\u001b[0m\u001b[0;34m(\u001b[0m\u001b[0maxis\u001b[0m\u001b[0;34m)\u001b[0m\u001b[0;34m)\u001b[0m\u001b[0;34m\u001b[0m\u001b[0;34m\u001b[0m\u001b[0m\n\u001b[1;32m   1556\u001b[0m         \u001b[0;32mif\u001b[0m \u001b[0mkey\u001b[0m \u001b[0;34m>=\u001b[0m \u001b[0mlen_axis\u001b[0m \u001b[0;32mor\u001b[0m \u001b[0mkey\u001b[0m \u001b[0;34m<\u001b[0m \u001b[0;34m-\u001b[0m\u001b[0mlen_axis\u001b[0m\u001b[0;34m:\u001b[0m\u001b[0;34m\u001b[0m\u001b[0;34m\u001b[0m\u001b[0m\n\u001b[0;32m-> 1557\u001b[0;31m             \u001b[0;32mraise\u001b[0m \u001b[0mIndexError\u001b[0m\u001b[0;34m(\u001b[0m\u001b[0;34m\"single positional indexer is out-of-bounds\"\u001b[0m\u001b[0;34m)\u001b[0m\u001b[0;34m\u001b[0m\u001b[0;34m\u001b[0m\u001b[0m\n\u001b[0m\u001b[1;32m   1558\u001b[0m \u001b[0;34m\u001b[0m\u001b[0m\n\u001b[1;32m   1559\u001b[0m     \u001b[0;31m# -------------------------------------------------------------------\u001b[0m\u001b[0;34m\u001b[0m\u001b[0;34m\u001b[0m\u001b[0m\n",
            "\u001b[0;31mIndexError\u001b[0m: single positional indexer is out-of-bounds"
          ]
        }
      ]
    },
    {
      "cell_type": "code",
      "source": [
        "taskResults = agent_data[agentName] #Grab the column of results for that agent\n",
        "print(agent_data)\n",
        "print(np.mean(taskResults)) #print mean performance for the agent across all tasks\n",
        "m = SetupModel(taskResults) #Define the model using the setupModel function. Needs to be redefined each run after taskResults are updated or PyMC won't use the latest taskResults\n",
        "\n",
        "mu, sd  = analyzeAgentResults(agentName, agentData)\n",
        "predictions, testOutputs = predict(m, agentData, agents_test[agentName], len(agents_test[agentName]))\n",
        "agentBrierScore, agentCalibration, agentRefinement = brierDecomp(predictions, testOutputs)\n",
        "agentAggBrierScore, agentAggCalibration, agentAggRefinement = brierDecomp(np.repeat(np.mean(taskResults), len(testOutputs)), testOutputs)\n",
        "aggregateBrierScores.append(agentAggBrierScore)\n",
        "aggregateCalibrations.append(agentAggCalibration)\n",
        "aggregateRefinements.append(agentAggRefinement)\n",
        "modelBrierScores.append(agentBrierScore)\n",
        "modelCalibrations.append(agentCalibration)\n",
        "modelRefinements.append(agentRefinement)\n",
        "abilityMeans= [str(round(mu_i, 2))+\" \" for mu_i in mu]  # add ability mean estimate to list for this agent\n",
        "abilitySDs = [\"\"+str(round(sd_i,2)) for sd_i in sd ]"
      ],
      "metadata": {
        "id": "T0Z1xKhpa2Yn"
      },
      "execution_count": null,
      "outputs": []
    },
    {
      "cell_type": "code",
      "source": [
        "mu"
      ],
      "metadata": {
        "id": "_5bEjgpv8FIl",
        "outputId": "241321b6-0594-4bbf-a997-f5bf7500cf51",
        "colab": {
          "base_uri": "https://localhost:8080/"
        }
      },
      "execution_count": null,
      "outputs": [
        {
          "output_type": "execute_result",
          "data": {
            "text/plain": [
              "[957.8211534433694,\n",
              " 430.0174585649903,\n",
              " 3.34278797072004,\n",
              " 0.2704157242555865,\n",
              " 0.26270885137591565,\n",
              " 0.5113058990175643,\n",
              " 0.6354539815603858,\n",
              " 0.332816016360568]"
            ]
          },
          "metadata": {},
          "execution_count": 77
        }
      ]
    },
    {
      "cell_type": "code",
      "source": [
        "sd"
      ],
      "metadata": {
        "id": "RqzPIRTI8J7o",
        "outputId": "476e12b5-e828-4546-ae5d-bd1ae0e5b40f",
        "colab": {
          "base_uri": "https://localhost:8080/"
        }
      },
      "execution_count": null,
      "outputs": [
        {
          "output_type": "execute_result",
          "data": {
            "text/plain": [
              "[585.1943134691745,\n",
              " 371.9360326942805,\n",
              " 0.946923322663028,\n",
              " 0.12109347701954246,\n",
              " 0.10101198292049572,\n",
              " 0.1981752512026943,\n",
              " 0.1917904912669476,\n",
              " 0.14964102966304701]"
            ]
          },
          "metadata": {},
          "execution_count": 78
        }
      ]
    },
    {
      "cell_type": "code",
      "source": [
        "max"
      ],
      "metadata": {
        "colab": {
          "base_uri": "https://localhost:8080/"
        },
        "id": "7wsEMrD59wNQ",
        "outputId": "e3135569-05be-4e86-fc82-40e64a0e652a"
      },
      "execution_count": null,
      "outputs": [
        {
          "output_type": "execute_result",
          "data": {
            "text/plain": [
              "{'objPermAbility': 1982.3999999999999,\n",
              " 'visualAcuityAbility': 7.0,\n",
              " 'flatNavAbility': 1534.0,\n",
              " 'lavaAbility': 1,\n",
              " 'rampAbility': 1,\n",
              " 'rightAbility': 1,\n",
              " 'leftAbility': 1,\n",
              " 'aheadAbility': 1}"
            ]
          },
          "metadata": {},
          "execution_count": 61
        }
      ]
    },
    {
      "cell_type": "code",
      "source": [
        "##### Sample results for each agent using the model defined in the function above.\n",
        "allAgentData = [] #blank list for entering the outputs of the pm sampling for each agent\n",
        "agentNames = [] #blank list for the agent names\n",
        "agentColList = agentCols.tolist()\n",
        "print(agentColList)\n",
        "numAgents = len(agentColList) #Number of agents, replace with a small number for testing to save time\n",
        "print(numAgents)\n",
        "#numAgents=3\n",
        "abilitiesToShow = [\"objPermAbility\", \"flatNavAbility\", \"visualAcuityAbility\",\"lavaAbility\", \"platformAbility\", \"rampAbility\", \"memoryAbility\", \"rightLeftBias\", \"noisePar\"]\n",
        "\n",
        "abilitiesIncludingSuccess = abilitiesToShow + [\"Success\"]\n",
        "abilityDF = pd.DataFrame( {'Ability': abilitiesIncludingSuccess})\n",
        "meansDF = pd.DataFrame({\"Ability\": abilitiesIncludingSuccess})\n",
        "stdDevDF = pd.DataFrame({\"Ability\": abilitiesIncludingSuccess})\n",
        "modelBrierScores = []\n",
        "aggregateBrierScores = []\n",
        "modelCalibrations = []\n",
        "aggregateCalibrations = []\n",
        "modelRefinements = []\n",
        "aggregateRefinements = []\n",
        "\n",
        "\n",
        "for i in range(numAgents): # Iterate through each agent.\n",
        "  agent = agentCols[i] #Get the agent name\n",
        "  taskResults = df[agent] #Grab the column of results for that agent\n",
        "  print(agent)\n",
        "  print(np.mean(taskResults)) #print mean performance for the agent across all tasks\n",
        "  m = SetupModel(taskResults) #Define the model using the setupModel function. Needs to be redefined each run after taskResults are updated or PyMC won't use the latest taskResults\n",
        "\n",
        "  #Now sample based on this agent's performance\n",
        "  with m:\n",
        "    agentData = pm.sample(1000, target_accept=0.95) #Might need more samples to converge\n",
        "\n",
        "  mu, sd  = analyzeAgentResults(agent, agentData)\n",
        "  predictions, testOutputs = predict(m, agentData, dfTest, agent)\n",
        "  agentBrierScore, agentCalibration, agentRefinement = brierDecomp(predictions, testOutputs)\n",
        "  agentAggBrierScore, agentAggCalibration, agentAggRefinement = brierDecomp(np.repeat(np.mean(taskResults), len(testOutputs)), testOutputs)\n",
        "  aggregateBrierScores.append(agentAggBrierScore)\n",
        "  aggregateCalibrations.append(agentAggCalibration)\n",
        "  aggregateRefinements.append(agentAggRefinement)\n",
        "  modelBrierScores.append(agentBrierScore)\n",
        "  modelCalibrations.append(agentCalibration)\n",
        "  modelRefinements.append(agentRefinement)\n",
        "  abilityMeans= [str(round(mu_i, 2))+\" \" for mu_i in mu]  # add ability mean estimate to list for this agent\n",
        "  abilitySDs = [\"\"+str(round(sd_i,2)) for sd_i in sd ]\n",
        "\n",
        "\n",
        "  abilityMeans = abilityMeans + [str(round(np.mean(taskResults),2))+\" \"]\n",
        "  abilitySDs = abilitySDs + [str(round(np.std(taskResults), 2))]\n",
        "  abilityDF[agent] = list(zip(abilityMeans, abilitySDs))\n",
        "  mu=mu+[np.mean(taskResults)]\n",
        "  sd=sd+[np.std(taskResults)]\n",
        "  meansDF[agent]=[round(mu_i,2) for mu_i in mu]\n",
        "  stdDevDF[agent]=[round(sd_i,2) for sd_i in sd]"
      ],
      "metadata": {
        "id": "PTu7cUuuagVW"
      },
      "execution_count": null,
      "outputs": []
    }
  ]
}