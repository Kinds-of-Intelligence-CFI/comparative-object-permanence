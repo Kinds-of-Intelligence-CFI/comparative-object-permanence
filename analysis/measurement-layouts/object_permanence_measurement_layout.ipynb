{
  "nbformat": 4,
  "nbformat_minor": 0,
  "metadata": {
    "colab": {
      "provenance": [],
      "include_colab_link": true
    },
    "kernelspec": {
      "name": "python3",
      "display_name": "Python 3"
    },
    "language_info": {
      "name": "python"
    }
  },
  "cells": [
    {
      "cell_type": "markdown",
      "metadata": {
        "id": "view-in-github",
        "colab_type": "text"
      },
      "source": [
        "<a href=\"https://colab.research.google.com/github/Kinds-of-Intelligence-CFI/comparative-object-permanence/blob/multivariate-measurement-layout/analysis/measurement-layouts/object_permanence_measurement_layout.ipynb\" target=\"_parent\"><img src=\"https://colab.research.google.com/assets/colab-badge.svg\" alt=\"Open In Colab\"/></a>"
      ]
    },
    {
      "cell_type": "markdown",
      "source": [
        "# Comparative Object Permanence Measurement Layouts\n",
        "\n",
        "Authors: K. Voudouris, J. Burden, J. Hernández-Orallo"
      ],
      "metadata": {
        "id": "U27yVRKBqCpj"
      }
    },
    {
      "cell_type": "markdown",
      "source": [
        "## INIT"
      ],
      "metadata": {
        "id": "95RSQ17Lriav"
      }
    },
    {
      "cell_type": "code",
      "execution_count": 1,
      "metadata": {
        "id": "MLYI9s6Lp3fi",
        "outputId": "48451ca0-5d9f-4ad6-b534-6446b576f588",
        "colab": {
          "base_uri": "https://localhost:8080/"
        }
      },
      "outputs": [
        {
          "output_type": "stream",
          "name": "stdout",
          "text": [
            "\u001b[?25l     \u001b[90m━━━━━━━━━━━━━━━━━━━━━━━━━━━━━━━━━━━━━━━━\u001b[0m \u001b[32m0.0/41.4 kB\u001b[0m \u001b[31m?\u001b[0m eta \u001b[36m-:--:--\u001b[0m\r\u001b[2K     \u001b[90m━━━━━━━━━━━━━━━━━━━━━━━━━━━━━━━━━━━━━━━━\u001b[0m \u001b[32m41.4/41.4 kB\u001b[0m \u001b[31m1.4 MB/s\u001b[0m eta \u001b[36m0:00:00\u001b[0m\n",
            "\u001b[?25h"
          ]
        }
      ],
      "source": [
        "!pip install pymc --quiet\n",
        "!pip install numpy --quiet\n",
        "!pip install arviz --quiet\n",
        "!pip install erroranalysis --quiet"
      ]
    },
    {
      "cell_type": "code",
      "source": [
        "import arviz as az\n",
        "import erroranalysis as ea\n",
        "import gc\n",
        "import graphviz\n",
        "import math\n",
        "import matplotlib.pyplot as plt\n",
        "import numpy as np\n",
        "import pandas as pd\n",
        "import pickle\n",
        "import pymc as pm\n",
        "import random as rm\n",
        "import seaborn as sns\n",
        "\n",
        "from IPython.display import Image\n",
        "from scipy import stats\n",
        "from sklearn.model_selection import train_test_split\n",
        "from google.colab import files\n",
        "from pymc import model\n",
        "\n",
        "print(f\"Running on PyMC v{pm.__version__}\")"
      ],
      "metadata": {
        "id": "ehpymOwzrgm7",
        "outputId": "04ce8cc4-27b7-42f5-a84f-da46e0cc663d",
        "colab": {
          "base_uri": "https://localhost:8080/"
        }
      },
      "execution_count": 2,
      "outputs": [
        {
          "output_type": "stream",
          "name": "stdout",
          "text": [
            "Running on PyMC v5.7.2\n"
          ]
        }
      ]
    },
    {
      "cell_type": "code",
      "source": [
        "from google.colab import drive\n",
        "drive.mount('/content/drive')"
      ],
      "metadata": {
        "id": "Ga3CMVsXSYRa",
        "outputId": "fbc6b5ac-27bf-4305-bb20-3f7a47e95eb1",
        "colab": {
          "base_uri": "https://localhost:8080/"
        }
      },
      "execution_count": 3,
      "outputs": [
        {
          "output_type": "stream",
          "name": "stdout",
          "text": [
            "Mounted at /content/drive\n"
          ]
        }
      ]
    },
    {
      "cell_type": "markdown",
      "source": [
        "## Load Data\n",
        "\n",
        "While the repo is private, the links break easily due to hashing of the csv location. You need to go to the csv in the repo, click raw, and copy the new link."
      ],
      "metadata": {
        "id": "s5Nsn4LgzVmj"
      }
    },
    {
      "cell_type": "code",
      "source": [
        "agents_url = 'https://raw.githubusercontent.com/Kinds-of-Intelligence-CFI/comparative-object-permanence/develop/analysis/measurement-layouts/results_final_clean_agents_wide.csv'\n",
        "agent_data = pd.read_csv(agents_url)\n",
        "\n",
        "children_url = 'https://raw.githubusercontent.com/Kinds-of-Intelligence-CFI/comparative-object-permanence/develop/analysis/measurement-layouts/results_final_clean_children_wide.csv'\n",
        "children_data = pd.read_csv(children_url)\n",
        "\n",
        "synthetic_agents_url = 'https://raw.githubusercontent.com/Kinds-of-Intelligence-CFI/comparative-object-permanence/develop/analysis/measurement-layouts/results_synthetic_agents_wide.csv'\n",
        "synthetic_agents_data = pd.read_csv(synthetic_agents_url)\n"
      ],
      "metadata": {
        "id": "1dN0OHAWzVBK"
      },
      "execution_count": 4,
      "outputs": []
    },
    {
      "cell_type": "code",
      "source": [
        "agent_data"
      ],
      "metadata": {
        "id": "LIh6bP6KZZNd"
      },
      "execution_count": null,
      "outputs": []
    },
    {
      "cell_type": "markdown",
      "source": [
        "## Define the Measurement Layout"
      ],
      "metadata": {
        "id": "C0_GsfhIYZPw"
      }
    },
    {
      "cell_type": "code",
      "source": [
        "## Helper functions\n",
        "\n",
        "def logistic(x, L=1, k=1, x_0=0):\n",
        "  return (L / (1 + np.exp(-k * (x-x_0))))\n",
        "\n",
        "def logistic999(x, min, max):    # This logistic function ensures that if x is at -(max-min), we get prob 0.001, and if x is at (max-min), we get prob 0.999\n",
        "  x = x - min\n",
        "  max = max - min\n",
        "  x = 6.90675478 * x / max\n",
        "  return 1 / (1 + np.exp(-x))\n",
        "\n",
        "def visualAcuityLOMargin(ability, goalSmallness): # must return a value between -inf and inf  (more precisely between -maxVisualAcuityAbility and maxVisualAcuityAbility)\n",
        "  return ability - goalSmallness   # Goes between -inf to inf, with logodds=0 meaning this would lead to 0.5 chance of success\n",
        "\n",
        "def SimplePrMargin(ability, binaryFeature): # must return a value between 0 and 1\n",
        "  return 1-((1-ability)*binaryFeature)  # If binaryFeature is 0 then the margin represents p(success)=1. If binaryFeature = 1 then p(success)=ability\n",
        "\n",
        "#def flatNavMargin(ability, distanceToGoal, numTurns, allocentricOcclusion): # must return a value between -inf and inf  (more precisely between -maxSpatialAbility and maxSpatialAbility)\n",
        "def flatNavMargin(ability, distanceToGoal, numTurns):\n",
        "  #return ability - ((distanceToGoal * numTurns)*allocentricOcclusion)   # Goes between -inf to inf, with logodds=0 meaning this would lead to 0.5 chance of success\n",
        "  return ability - ((distanceToGoal * numTurns))\n",
        "\n",
        "def objPermanenceLOMargin(ability, allocentricOcclusion, cvChickP, pctbP, lightsOut, distanceToGoal, numPositions, maxPermAbility, lightsOutPenalisation, uniformAbilitySlack): #,  visualAcuityP): # must return a value between -inf and inf (more precisely between -maxPermAbility and maxPermAbility)\n",
        "#def objPermanenceLOMargin(ability, allocentricOcclusion, lightsOut, distanceToGoal, numPositions, maxPermAbility, lightsOutPenalisation, uniformAbilitySlack):\n",
        "  assert lightsOutPenalisation < uniformAbilitySlack and lightsOutPenalisation > 1, \"Penalisation for lights out must be lower than the slack on abilities.\"\n",
        "  OPPerformance = ability  - ((distanceToGoal * numPositions)*(lightsOut*lightsOutPenalisation)) #this returns a value that is lower when (a) ability is lower, (b) the goal is occluded for longer or there are more positions where it could be occluded, or (c) when the lights go out (by a small penalisation)\n",
        "  ability = maxPermAbility - ((maxPermAbility-OPPerformance)*allocentricOcclusion) * cvChickP * pctbP # this returns an ability value that is modulated by performance on the different paradigms. The agent needs to be good at both to have a high OP ability\n",
        "  #return maxPermAbility-((maxPermAbility-OPPerformance)*((allocentricOcclusion*cvChick) + (allocentricOcclusion*pctb))) #multiply by a factor that introduces whether the instance is a an OP CV task or an OP PCTB task (independent, so ((allocentricOcclusion*cvChick) + (allocentricOcclusion*pctb)) should be 0 or 1)\n",
        "  #return maxPermAbility - ((maxPermAbility-OPPerformance)*allocentricOcclusion)\n",
        "  return ability\n",
        "\n",
        "def scaledBeta(name, a, b, min, max, simpleGraph = True):\n",
        "  if (simpleGraph):\n",
        "    beta = pm.Beta(name, a, b)\n",
        "    return beta * (max - min) + min\n",
        "  else:\n",
        "    beta = pm.Beta(f\"{name}_raw\", a, b)\n",
        "    return pm.Deterministic(name, beta * (max - min) + min)\n"
      ],
      "metadata": {
        "id": "-uobQpcJiPr2"
      },
      "execution_count": 5,
      "outputs": []
    },
    {
      "cell_type": "code",
      "source": [
        "def SetupModel(taskResultsAll, uniformAbilitySlack, agent_type, agent_name = None, agent_name_choice = None, sample = 500):\n",
        "  \"\"\"\n",
        "  taskResults is the conjunction of the metadata with the successes of the agents on that set of tests.\n",
        "  \"\"\"\n",
        "  assert uniformAbilitySlack >=1, \"Slack must be greater than or equal to 1.\"\n",
        "\n",
        "  if agent_type == \"agent_real\":\n",
        "    taskResults = taskResultsAll.dropna(subset = [agent_name])\n",
        "    if sample is not None:\n",
        "      taskResults = taskResults.sample(n=sample)\n",
        "    results = taskResults[agent_name]\n",
        "    choices = taskResults[agent_name_choice]\n",
        "  elif agent_type == \"agent_synthetic\":\n",
        "    taskResults = taskResultsAll.dropna(subset = [agent_name])\n",
        "    if sample is not None:\n",
        "      taskResults = taskResults.sample(n=sample)\n",
        "    results = taskResults[agent_name]\n",
        "    choices = results\n",
        "  elif agent_type == \"child\":\n",
        "    taskResults = taskResultsAll.dropna(subset = ['success'])\n",
        "    if sample is not None:\n",
        "      taskResults = taskResults.sample(n=sample)\n",
        "    results = taskResults['success']\n",
        "    choices = taskResults['correctChoice']\n",
        "  else:\n",
        "    print(\"Agent not recognised. Quitting.\")\n",
        "    return\n",
        "\n",
        "\n",
        "\n",
        "  abilityMin = {} #Initialize ability Min and max dataframes for plotting ranges\n",
        "  abilityMax = {}\n",
        "\n",
        "  #Decide \"maximum capabilities\" based on the hardest values in the dataset\n",
        "  maxDistance = taskResults[\"cityBlockDistanceToGoal\"].max()\n",
        "  maxTurns = taskResults[\"minNumTurnsRequired\"].max()\n",
        "  maxChoices = taskResults[\"numChoices\"].max()\n",
        "  maxGoalSize = taskResults[\"mainGoalSize\"].max() * uniformAbilitySlack\n",
        "  maxPermAbility = ((taskResults[\"cityBlockDistanceToGoal\"] * taskResults[\"numChoices\"]).max()) * uniformAbilitySlack\n",
        "  maxFlatNav = ((taskResults[\"cityBlockDistanceToGoal\"]*taskResults[\"minNumTurnsRequired\"])).max() * uniformAbilitySlack\n",
        "  #maxPermAbility = maxChoices * uniformAbilitySlack\n",
        "  #maxMemoryAbility = maxDistance * uniformAbilitySlack\n",
        "  #maxPermAbility = 1\n",
        "  #maxMemoryAbility = 1\n",
        "\n",
        "  # Decide 'minimum capabilities' based on easiest values in the dataset\n",
        "  minDistance = taskResults[\"cityBlockDistanceToGoal\"].min()\n",
        "  minTurns = taskResults[\"minNumTurnsRequired\"].min()\n",
        "  minChoices = taskResults[\"numChoices\"].min()\n",
        "  minGoalSize = taskResults[\"mainGoalSize\"].min() * (1-(uniformAbilitySlack-1))\n",
        "  minPermAbility = ((taskResults[\"cityBlockDistanceToGoal\"] * taskResults[\"numChoices\"]).min()) * (1-(uniformAbilitySlack-1))\n",
        "  minFlatNav = ((taskResults[\"cityBlockDistanceToGoal\"]*taskResults[\"minNumTurnsRequired\"])).min() * (1-(uniformAbilitySlack-1))\n",
        "  #minPermAbility = 0\n",
        "\n",
        "  m = pm.Model()\n",
        "  with m:\n",
        "\n",
        "    objPermAbility = pm.Uniform(\"objPermAbility\", minPermAbility, maxPermAbility)  # [0,maxPermAbility] This is the same as above, but we have the ability in the right magnitude\n",
        "    abilityMin[\"objPermAbility\"] = minPermAbility\n",
        "    abilityMax[\"objPermAbility\"] = maxPermAbility\n",
        "\n",
        "    #objPermAbility = scaledBeta(\"objPermAbility\", 1,1, minPermAbility, maxPermAbility, simpleGraph=False)\n",
        "    abilityMin[\"objPermAbility\"] = minPermAbility\n",
        "    abilityMax[\"objPermAbility\"] = maxPermAbility\n",
        "\n",
        "    #memoryAbility = pm.Uniform(\"memoryAbility\", 0, maxMemoryAbility)  # [0,maxMemoryAbility] This is the same as above, but we have the ability in the right magnitude\n",
        "    #abilityMin[\"memoryAbility\"] = 0\n",
        "    #abilityMax[\"memoryAbility\"] = maxMemoryAbility\n",
        "\n",
        "    #Visual acuity\n",
        "    visualAcuityAbility = pm.Uniform(\"visualAcuityAbility\", minGoalSize, maxGoalSize)\n",
        "    abilityMin[\"visualAcuityAbility\"] = minGoalSize\n",
        "    abilityMax[\"visualAcuityAbility\"] = maxGoalSize\n",
        "\n",
        "    # Flat Navigation Ability\n",
        "    flatNavAbility = pm.Uniform(\"flatNavAbility\", minFlatNav, maxFlatNav)      # how much navigation is involved, i.e, how far away and how circuitous is the path to the goal?\n",
        "    #flatNavAbility = pm.Uniform(\"flatNavAbility\", 0, maxTurns*maxDistance)\n",
        "    abilityMin[\"flatNavAbility\"] = minFlatNav\n",
        "    #abilityMax[\"flatNavAbility\"] = maxDistance*maxTurns\n",
        "    abilityMax[\"flatNavAbility\"] = maxFlatNav\n",
        "\n",
        "    # Lava Ability\n",
        "    lavaAbility = scaledBeta(\"lavaAbility\", 1,1, 0, 2, simpleGraph=False)\n",
        "    #lavaAbility = pm.Beta(\"lavaAbility\", 1,1)                        # [0,1] Specific ability with lava\n",
        "    abilityMin[\"lavaAbility\"] = 0\n",
        "    abilityMax[\"lavaAbility\"] = 2\n",
        "\n",
        "    # Ramp Ability\n",
        "    #rampAbility = pm.Beta(\"rampAbility\",1,1)                          # [0,1] Specific ability with ramps\n",
        "    #abilityMin[\"rampAbility\"] = 0\n",
        "    #abilityMax[\"rampAbility\"] = 1\n",
        "\n",
        "    # Goal Right Ability\n",
        "    #rightAbility = pm.Beta(\"rightAbility\", 1, 1)\n",
        "    rightAbility = scaledBeta(\"rightAbility\", 1,1, 0, 2, simpleGraph=False)\n",
        "    abilityMin[\"rightAbility\"] = 0\n",
        "    abilityMax[\"rightAbility\"] = 2\n",
        "\n",
        "    # Goal Left Ability\n",
        "    #leftAbility = pm.Beta(\"leftAbility\", 1, 1)\n",
        "    leftAbility = scaledBeta(\"leftAbility\", 1,1, 0, 2, simpleGraph=False)\n",
        "    abilityMin[\"leftAbility\"] = 0\n",
        "    abilityMax[\"leftAbility\"] = 2\n",
        "\n",
        "    # Goal Ahead Ability\n",
        "    #aheadAbility = pm.Beta(\"aheadAbility\", 1, 1)\n",
        "    aheadAbility = scaledBeta(\"aheadAbility\", 1,1, 0, 2, simpleGraph=False)\n",
        "    abilityMin[\"aheadAbility\"] = 0\n",
        "    abilityMax[\"aheadAbility\"] = 2\n",
        "\n",
        "    # CV Chick Ability\n",
        "    #CVChickAbility = pm.Beta(\"CVChickAbility\", 1, 1)\n",
        "    CVChickAbility = scaledBeta(\"CVChickAbility\", 1,1, 0, 2, simpleGraph=False)\n",
        "    abilityMin[\"CVChickAbility\"] = 0\n",
        "    abilityMax[\"CVChickAbility\"] = 2\n",
        "\n",
        "    # PCTB Ability\n",
        "    #PCTBAbility = pm.Beta(\"PCTBAbility\", 1, 1)\n",
        "    PCTBAbility = scaledBeta(\"PCTBAbility\", 1,1, 0, 2, simpleGraph=False)\n",
        "    abilityMin[\"PCTBAbility\"] = 0\n",
        "    abilityMax[\"PCTBAbility\"] = 2\n",
        "\n",
        "    # Lights Out Ability\n",
        "    #LOAbility = pm.Beta(\"lightsOutAbility\", 1, 1)\n",
        "    LOAbility = scaledBeta(\"lightsOutAbility\", 1,1, 0, 2, simpleGraph=False)\n",
        "    abilityMin[\"lightsOutAbility\"] = 0\n",
        "    abilityMax[\"lightsOutAbility\"] = 2\n",
        "\n",
        "\n",
        "\n",
        "    ## Environment variables as Deterministic (about the instance)\n",
        "\n",
        "    lavaPresence = pm.MutableData(\"lavaPresence\", taskResults[\"lavaPresence\"].values)\n",
        "    #rampPresence = pm.MutableData(\"rampPresence\", taskResults[\"taskCriticalRampPresence\"].values)\n",
        "    lightsOutPresence = pm.MutableData(\"lightsOutPresence\", taskResults[\"lightsOutPresence\"].values)\n",
        "    #numGoals = pm.MutableData(\"numberOfGoals\", taskResults[\"numGoalsAll\"].values)\n",
        "    numChoices = pm.MutableData(\"numChoices\", taskResults[\"numChoices\"].values)\n",
        "    goalSize = pm.MutableData(\"goalSize\",taskResults[\"mainGoalSize\"].values)\n",
        "    goalDist = pm.MutableData(\"goalDistance\", taskResults[\"cityBlockDistanceToGoal\"].values)\n",
        "    numTurns = pm.MutableData(\"minTurnsToGoal\", taskResults[\"minNumTurnsRequired\"])\n",
        "    goalRight = pm.MutableData(\"goalRight\", taskResults[\"goalRightRelToStart\"])\n",
        "    goalAhead = pm.MutableData(\"goalAhead\", taskResults[\"goalCentreRelToStart\"])\n",
        "    goalLeft = pm.MutableData(\"goalLeft\", taskResults[\"goalLeftRelToStart\"])\n",
        "    opTest = pm.MutableData(\"allocentricOPTest\", taskResults[\"goalBecomesAllocentricallyOccluded\"].values)\n",
        "    CVTest = pm.MutableData(\"CVChickTest\", taskResults[\"cvchickTask\"])\n",
        "    PCTBTest = pm.MutableData(\"PCTBTest\", taskResults[\"pctbTask\"])\n",
        "\n",
        "    ## Margins\n",
        "\n",
        "    goalSmallness = maxGoalSize - goalSize\n",
        "    visualAcuityP = pm.Deterministic(\"visualAcuityP\", logistic999(visualAcuityLOMargin(visualAcuityAbility, goalSmallness), min = minGoalSize, max = maxGoalSize))\n",
        "\n",
        "    rightP = pm.Deterministic(\"rightPerformance\", logistic999(SimplePrMargin(rightAbility, goalRight), min = 0, max = 2))\n",
        "    aheadP = pm.Deterministic(\"aheadPerformance\", logistic999(SimplePrMargin(aheadAbility, goalAhead), min = 0, max = 2))\n",
        "    leftP = pm.Deterministic(\"leftPerformance\", logistic999(SimplePrMargin(leftAbility, goalLeft), min = 0, max = 2))\n",
        "\n",
        "    #flatNavP = pm.Deterministic(\"flatNavP\", logistic(flatNavMargin(flatNavAbility, goalDist, numTurns, opTest)))\n",
        "    #flatNavP = pm.Deterministic(\"flatNavP\", logistic(flatNavMargin(flatNavAbility, goalDist, numTurns)))\n",
        "    #flatNavP = pm.Deterministic(\"flatNavP\", logistic(flatNavAbility - (numTurns * goalDist)))\n",
        "    flatNavP = pm.Deterministic(\"flatNavP\", logistic999(flatNavAbility - (numTurns * goalDist), min = minFlatNav, max = maxFlatNav))\n",
        "\n",
        "    lavaP = pm.Deterministic(\"lavaP\", logistic999(SimplePrMargin(lavaAbility, lavaPresence), min = 0, max = 2))\n",
        "\n",
        "    lightsOutP = pm.Deterministic(\"lightsOutP\", logistic999(SimplePrMargin(LOAbility, lightsOutPresence), min = 0, max = 2))\n",
        "\n",
        "    #rampP = pm.Deterministic(\"rampP\", SimplePrMargin(rampAbility, rampPresence))\n",
        "\n",
        "    cvchickP = pm.Deterministic(\"cvChickP\", logistic999(SimplePrMargin(CVChickAbility, CVTest), min = 0, max = 2))\n",
        "    pctbP = pm.Deterministic(\"pctbP\", logistic999(SimplePrMargin(PCTBAbility, PCTBTest), min = 0, max = 2))\n",
        "\n",
        "    #navP = pm.Deterministic(\"navP\", (flatNavP * lavaP * rampP * rightP * aheadP * leftP * cvchickP * pctbP)) #, visualAcuityP))\n",
        "    navP = pm.Deterministic(\"navP\", (flatNavP * lavaP * rightP * aheadP * leftP))\n",
        "\n",
        "    #OPLOM = objPermanenceLOMargin(objPermAbility, opTest, CVTest, PCTBTest, lightsOutPresence, goalDist, numChoices, maxPermAbility, lightsOutPenalisation=(uniformAbilitySlack-0.35), uniformAbilitySlack=uniformAbilitySlack)\n",
        "    #OPLOM = objPermanenceLOMargin(objPermAbility, opTest, lightsOutPresence, goalDist, numChoices, maxPermAbility, lightsOutPenalisation=(uniformAbilitySlack-0.35), uniformAbilitySlack=uniformAbilitySlack)\n",
        "    #OPLOM = objPermanenceLOMargin(objPermAbility, opTest, cvchickP, pctbP, lightsOutPresence, goalDist, numChoices, maxPermAbility, lightsOutPenalisation=(uniformAbilitySlack-0.35), uniformAbilitySlack=uniformAbilitySlack)\n",
        "\n",
        "    #OPPerformance = (objPermAbility  - ((goalDist * numChoices)*opTest)) #this returns a value that is lower when (a) ability is lower, (b) the goal is occluded for longer or there are more positions where it could be occluded, or (c) when the lights go out (by a small penalisation)\n",
        "    #OPPerformance = (objPermAbility  - ((goalDist * numChoices)))\n",
        "    #OPPerformance = (objPermAbility  - numChoices)\n",
        "    #OPPerformance = (objPermAbility  - ((goalDist*opTest) * (numChoices*opTest)))\n",
        "    #OPPerformance = objPermAbility  - ((goalDist * numChoices)*opTest)\n",
        "    #OPability = maxPermAbility - ((maxPermAbility-OPPerformance)*opTest)\n",
        "    #objPermP = pm.Deterministic(\"objPermP\", logistic(OPLOM))\n",
        "    #objPermP = pm.Deterministic(\"objPermP\", logistic(OPPerformance, x_0 = ((maxPermAbility - minPermAbility)/2)+minPermAbility))\n",
        "    #objPermP = pm.Deterministic(\"objPermP\", logistic(SimplePrMargin(objPermAbility, opTest), x_0 = ((maxPermAbility - minPermAbility)/2)+minPermAbility))\n",
        "    OPPerformance = (objPermAbility  - (((goalDist*opTest) * numChoices) + (numChoices * (1-opTest))))\n",
        "    #objPermP = pm.Deterministic(\"objPermP\", logistic(OPPerformance, x_0 = ((maxPermAbility - minPermAbility)/2)+minPermAbility))\n",
        "    #objPermP = pm.Deterministic(\"objPermP\", logistic(OPPerformance))\n",
        "    objPermP = pm.Deterministic(\"objPermP\", (logistic999(OPPerformance, min = minPermAbility, max = maxPermAbility) * cvchickP * pctbP * lightsOutP))\n",
        "\n",
        "    #flatNavP = pm.Deterministic(\"flatNavP\", logistic((flatNavAbility - (numTurns * goalDist)), x_0 = ((maxFlatNav - minFlatNav)/2)+minFlatNav))\n",
        "    noise = 1 - np.mean(results)  # With this noise is complementary to result prior.\n",
        "    noisePar = pm.Uniform(\"noisePar\", 0, 1)\n",
        "    finalP = pm.Deterministic(\"finalP\", (1-noisePar)*(objPermP * navP * visualAcuityP)+(noisePar*noise))\n",
        "\n",
        "    choiceP = pm.Deterministic(\"choiceP\", (1-noisePar)*(objPermP * visualAcuityP)+(noisePar*noise))\n",
        "\n",
        "    #finalP = pm.Deterministic(\"finalP\", (objPermP * flatNavP))\n",
        "    #finalP = pm.Deterministic(\"finalP\", (1-((1-objPermP)*(1-flatNavP)))) #compensatory finalPerformance\n",
        "    #finalP = pm.Deterministic(\"finalP\", (objPermP * flatNavP * visualAcuityP))\n",
        "    #finalP = pm.Deterministic(\"finalP\", (objPermP * navP * visualAcuityP))\n",
        "\n",
        "    #taskPerformance = pm.Bernoulli(\"taskPerformance\", flatNavP, observed=results)\n",
        "    taskSuccess = pm.Bernoulli(\"taskSuccess\", finalP, observed=results)\n",
        "    taskChoice = pm.Bernoulli(\"taskChoice\", choiceP, observed=choices)\n",
        "    #taskPerformance = pm.Bernoulli(\"taskPerformance\", objPermP, observed=results)\n",
        "  #pm.model_graph.model_to_graphviz(m)\n",
        "\n",
        "  return m, abilityMin, abilityMax"
      ],
      "metadata": {
        "id": "edIxFbqFq9V9"
      },
      "execution_count": 8,
      "outputs": []
    },
    {
      "cell_type": "code",
      "source": [
        "m, min, max = SetupModel(agent_data, uniformAbilitySlack=1, agent_type='agent_real', agent_name=\"success_Vanilla_Braitenberg_15_rays_over_60_degs_356\", agent_name_choice=\"correctChoice_Vanilla_Braitenberg_15_rays_over_60_degs_356\", sample = None)\n",
        "gv = pm.model_graph.model_to_graphviz(m)\n",
        "gv.format = \"png\"\n",
        "gv.render(filename='viz/FullMeasurementLayout.gv', directory='/content/drive/Shareddrives/comparative-object-permanence')\n",
        "Image(\"/content/drive/Shareddrives/comparative-object-permanence/FullMeasurementLayout.gv.png\")\n",
        "gv"
      ],
      "metadata": {
        "id": "j-cgtM4msvph",
        "outputId": "6a92c4f7-e533-45f3-b6c3-aa5cd37aad97",
        "colab": {
          "base_uri": "https://localhost:8080/",
          "height": 915
        }
      },
      "execution_count": 10,
      "outputs": [
        {
          "output_type": "execute_result",
          "data": {
            "image/svg+xml": "<?xml version=\"1.0\" encoding=\"UTF-8\" standalone=\"no\"?>\n<!DOCTYPE svg PUBLIC \"-//W3C//DTD SVG 1.1//EN\"\n \"http://www.w3.org/Graphics/SVG/1.1/DTD/svg11.dtd\">\n<!-- Generated by graphviz version 2.43.0 (0)\n -->\n<!-- Title: %3 Pages: 1 -->\n<svg width=\"2599pt\" height=\"655pt\"\n viewBox=\"0.00 0.00 2599.28 654.77\" xmlns=\"http://www.w3.org/2000/svg\" xmlns:xlink=\"http://www.w3.org/1999/xlink\">\n<g id=\"graph0\" class=\"graph\" transform=\"scale(1 1) rotate(0) translate(4 650.77)\">\n<title>%3</title>\n<polygon fill=\"white\" stroke=\"transparent\" points=\"-4,4 -4,-650.77 2595.28,-650.77 2595.28,4 -4,4\"/>\n<g id=\"clust1\" class=\"cluster\">\n<title>cluster4202</title>\n<path fill=\"none\" stroke=\"black\" d=\"M110.25,-8C110.25,-8 1383.25,-8 1383.25,-8 1389.25,-8 1395.25,-14 1395.25,-20 1395.25,-20 1395.25,-520.84 1395.25,-520.84 1395.25,-526.84 1389.25,-532.84 1383.25,-532.84 1383.25,-532.84 110.25,-532.84 110.25,-532.84 104.25,-532.84 98.25,-526.84 98.25,-520.84 98.25,-520.84 98.25,-20 98.25,-20 98.25,-14 104.25,-8 110.25,-8\"/>\n<text text-anchor=\"middle\" x=\"1373.25\" y=\"-15.8\" font-family=\"Times,serif\" font-size=\"14.00\">4202</text>\n</g>\n<!-- PCTBAbility -->\n<g id=\"node1\" class=\"node\">\n<title>PCTBAbility</title>\n<polygon fill=\"none\" stroke=\"black\" points=\"2516.75,-524.84 2425.75,-524.84 2425.75,-471.84 2516.75,-471.84 2516.75,-524.84\"/>\n<text text-anchor=\"middle\" x=\"2471.25\" y=\"-509.64\" font-family=\"Times,serif\" font-size=\"14.00\">PCTBAbility</text>\n<text text-anchor=\"middle\" x=\"2471.25\" y=\"-494.64\" font-family=\"Times,serif\" font-size=\"14.00\">~</text>\n<text text-anchor=\"middle\" x=\"2471.25\" y=\"-479.64\" font-family=\"Times,serif\" font-size=\"14.00\">Deterministic</text>\n</g>\n<!-- pctbP -->\n<g id=\"node25\" class=\"node\">\n<title>pctbP</title>\n<polygon fill=\"none\" stroke=\"black\" points=\"1043.75,-413.88 952.75,-413.88 952.75,-360.88 1043.75,-360.88 1043.75,-413.88\"/>\n<text text-anchor=\"middle\" x=\"998.25\" y=\"-398.68\" font-family=\"Times,serif\" font-size=\"14.00\">pctbP</text>\n<text text-anchor=\"middle\" x=\"998.25\" y=\"-383.68\" font-family=\"Times,serif\" font-size=\"14.00\">~</text>\n<text text-anchor=\"middle\" x=\"998.25\" y=\"-368.68\" font-family=\"Times,serif\" font-size=\"14.00\">Deterministic</text>\n</g>\n<!-- PCTBAbility&#45;&gt;pctbP -->\n<g id=\"edge26\" class=\"edge\">\n<title>PCTBAbility&#45;&gt;pctbP</title>\n<path fill=\"none\" stroke=\"black\" d=\"M2425.47,-483.64C2395.77,-475.41 2356.08,-465.64 2320.25,-460.86 2180.66,-442.22 1187.5,-467.42 1053.25,-424.86 1048.59,-423.38 1043.94,-421.38 1039.45,-419.07\"/>\n<polygon fill=\"black\" stroke=\"black\" points=\"1040.89,-415.86 1030.46,-413.96 1037.43,-421.95 1040.89,-415.86\"/>\n</g>\n<!-- rightAbility_raw -->\n<g id=\"node2\" class=\"node\">\n<title>rightAbility_raw</title>\n<ellipse fill=\"none\" stroke=\"black\" cx=\"1585.25\" cy=\"-609.29\" rx=\"75.82\" ry=\"37.45\"/>\n<text text-anchor=\"middle\" x=\"1585.25\" y=\"-620.59\" font-family=\"Times,serif\" font-size=\"14.00\">rightAbility_raw</text>\n<text text-anchor=\"middle\" x=\"1585.25\" y=\"-605.59\" font-family=\"Times,serif\" font-size=\"14.00\">~</text>\n<text text-anchor=\"middle\" x=\"1585.25\" y=\"-590.59\" font-family=\"Times,serif\" font-size=\"14.00\">Beta</text>\n</g>\n<!-- rightAbility -->\n<g id=\"node10\" class=\"node\">\n<title>rightAbility</title>\n<polygon fill=\"none\" stroke=\"black\" points=\"1755.75,-524.84 1664.75,-524.84 1664.75,-471.84 1755.75,-471.84 1755.75,-524.84\"/>\n<text text-anchor=\"middle\" x=\"1710.25\" y=\"-509.64\" font-family=\"Times,serif\" font-size=\"14.00\">rightAbility</text>\n<text text-anchor=\"middle\" x=\"1710.25\" y=\"-494.64\" font-family=\"Times,serif\" font-size=\"14.00\">~</text>\n<text text-anchor=\"middle\" x=\"1710.25\" y=\"-479.64\" font-family=\"Times,serif\" font-size=\"14.00\">Deterministic</text>\n</g>\n<!-- rightAbility_raw&#45;&gt;rightAbility -->\n<g id=\"edge2\" class=\"edge\">\n<title>rightAbility_raw&#45;&gt;rightAbility</title>\n<path fill=\"none\" stroke=\"black\" d=\"M1622.08,-576.19C1638.17,-562.16 1657.01,-545.74 1673.14,-531.69\"/>\n<polygon fill=\"black\" stroke=\"black\" points=\"1675.57,-534.21 1680.81,-525 1670.97,-528.93 1675.57,-534.21\"/>\n</g>\n<!-- lightsOutAbility_raw -->\n<g id=\"node3\" class=\"node\">\n<title>lightsOutAbility_raw</title>\n<ellipse fill=\"none\" stroke=\"black\" cx=\"2110.25\" cy=\"-609.29\" rx=\"93.18\" ry=\"37.45\"/>\n<text text-anchor=\"middle\" x=\"2110.25\" y=\"-620.59\" font-family=\"Times,serif\" font-size=\"14.00\">lightsOutAbility_raw</text>\n<text text-anchor=\"middle\" x=\"2110.25\" y=\"-605.59\" font-family=\"Times,serif\" font-size=\"14.00\">~</text>\n<text text-anchor=\"middle\" x=\"2110.25\" y=\"-590.59\" font-family=\"Times,serif\" font-size=\"14.00\">Beta</text>\n</g>\n<!-- lightsOutAbility -->\n<g id=\"node4\" class=\"node\">\n<title>lightsOutAbility</title>\n<polygon fill=\"none\" stroke=\"black\" points=\"2129.75,-524.84 2024.75,-524.84 2024.75,-471.84 2129.75,-471.84 2129.75,-524.84\"/>\n<text text-anchor=\"middle\" x=\"2077.25\" y=\"-509.64\" font-family=\"Times,serif\" font-size=\"14.00\">lightsOutAbility</text>\n<text text-anchor=\"middle\" x=\"2077.25\" y=\"-494.64\" font-family=\"Times,serif\" font-size=\"14.00\">~</text>\n<text text-anchor=\"middle\" x=\"2077.25\" y=\"-479.64\" font-family=\"Times,serif\" font-size=\"14.00\">Deterministic</text>\n</g>\n<!-- lightsOutAbility_raw&#45;&gt;lightsOutAbility -->\n<g id=\"edge7\" class=\"edge\">\n<title>lightsOutAbility_raw&#45;&gt;lightsOutAbility</title>\n<path fill=\"none\" stroke=\"black\" d=\"M2099.27,-572.01C2095.63,-560.02 2091.6,-546.69 2087.99,-534.76\"/>\n<polygon fill=\"black\" stroke=\"black\" points=\"2091.32,-533.69 2085.07,-525.13 2084.62,-535.72 2091.32,-533.69\"/>\n</g>\n<!-- lightsOutP -->\n<g id=\"node27\" class=\"node\">\n<title>lightsOutP</title>\n<polygon fill=\"none\" stroke=\"black\" points=\"825.75,-413.88 734.75,-413.88 734.75,-360.88 825.75,-360.88 825.75,-413.88\"/>\n<text text-anchor=\"middle\" x=\"780.25\" y=\"-398.68\" font-family=\"Times,serif\" font-size=\"14.00\">lightsOutP</text>\n<text text-anchor=\"middle\" x=\"780.25\" y=\"-383.68\" font-family=\"Times,serif\" font-size=\"14.00\">~</text>\n<text text-anchor=\"middle\" x=\"780.25\" y=\"-368.68\" font-family=\"Times,serif\" font-size=\"14.00\">Deterministic</text>\n</g>\n<!-- lightsOutAbility&#45;&gt;lightsOutP -->\n<g id=\"edge21\" class=\"edge\">\n<title>lightsOutAbility&#45;&gt;lightsOutP</title>\n<path fill=\"none\" stroke=\"black\" d=\"M2024.52,-473.28C2011.3,-468.26 1996.98,-463.65 1983.25,-460.86 1733.14,-409.96 1078.44,-502.35 835.25,-424.86 830.59,-423.37 825.95,-421.37 821.45,-419.05\"/>\n<polygon fill=\"black\" stroke=\"black\" points=\"822.89,-415.85 812.47,-413.95 819.43,-421.93 822.89,-415.85\"/>\n</g>\n<!-- leftAbility -->\n<g id=\"node5\" class=\"node\">\n<title>leftAbility</title>\n<polygon fill=\"none\" stroke=\"black\" points=\"1973.75,-524.84 1882.75,-524.84 1882.75,-471.84 1973.75,-471.84 1973.75,-524.84\"/>\n<text text-anchor=\"middle\" x=\"1928.25\" y=\"-509.64\" font-family=\"Times,serif\" font-size=\"14.00\">leftAbility</text>\n<text text-anchor=\"middle\" x=\"1928.25\" y=\"-494.64\" font-family=\"Times,serif\" font-size=\"14.00\">~</text>\n<text text-anchor=\"middle\" x=\"1928.25\" y=\"-479.64\" font-family=\"Times,serif\" font-size=\"14.00\">Deterministic</text>\n</g>\n<!-- leftPerformance -->\n<g id=\"node35\" class=\"node\">\n<title>leftPerformance</title>\n<polygon fill=\"none\" stroke=\"black\" points=\"716.25,-413.88 612.25,-413.88 612.25,-360.88 716.25,-360.88 716.25,-413.88\"/>\n<text text-anchor=\"middle\" x=\"664.25\" y=\"-398.68\" font-family=\"Times,serif\" font-size=\"14.00\">leftPerformance</text>\n<text text-anchor=\"middle\" x=\"664.25\" y=\"-383.68\" font-family=\"Times,serif\" font-size=\"14.00\">~</text>\n<text text-anchor=\"middle\" x=\"664.25\" y=\"-368.68\" font-family=\"Times,serif\" font-size=\"14.00\">Deterministic</text>\n</g>\n<!-- leftAbility&#45;&gt;leftPerformance -->\n<g id=\"edge14\" class=\"edge\">\n<title>leftAbility&#45;&gt;leftPerformance</title>\n<path fill=\"none\" stroke=\"black\" d=\"M1896.68,-471.78C1889.67,-467.35 1882.01,-463.37 1874.25,-460.86 1631.4,-382.34 971.44,-495.78 726.25,-424.86 720.86,-423.3 715.44,-421.16 710.18,-418.69\"/>\n<polygon fill=\"black\" stroke=\"black\" points=\"711.41,-415.39 700.91,-413.95 708.22,-421.62 711.41,-415.39\"/>\n</g>\n<!-- aheadAbility -->\n<g id=\"node6\" class=\"node\">\n<title>aheadAbility</title>\n<polygon fill=\"none\" stroke=\"black\" points=\"1864.75,-524.84 1773.75,-524.84 1773.75,-471.84 1864.75,-471.84 1864.75,-524.84\"/>\n<text text-anchor=\"middle\" x=\"1819.25\" y=\"-509.64\" font-family=\"Times,serif\" font-size=\"14.00\">aheadAbility</text>\n<text text-anchor=\"middle\" x=\"1819.25\" y=\"-494.64\" font-family=\"Times,serif\" font-size=\"14.00\">~</text>\n<text text-anchor=\"middle\" x=\"1819.25\" y=\"-479.64\" font-family=\"Times,serif\" font-size=\"14.00\">Deterministic</text>\n</g>\n<!-- aheadPerformance -->\n<g id=\"node23\" class=\"node\">\n<title>aheadPerformance</title>\n<polygon fill=\"none\" stroke=\"black\" points=\"594.25,-413.88 476.25,-413.88 476.25,-360.88 594.25,-360.88 594.25,-413.88\"/>\n<text text-anchor=\"middle\" x=\"535.25\" y=\"-398.68\" font-family=\"Times,serif\" font-size=\"14.00\">aheadPerformance</text>\n<text text-anchor=\"middle\" x=\"535.25\" y=\"-383.68\" font-family=\"Times,serif\" font-size=\"14.00\">~</text>\n<text text-anchor=\"middle\" x=\"535.25\" y=\"-368.68\" font-family=\"Times,serif\" font-size=\"14.00\">Deterministic</text>\n</g>\n<!-- aheadAbility&#45;&gt;aheadPerformance -->\n<g id=\"edge12\" class=\"edge\">\n<title>aheadAbility&#45;&gt;aheadPerformance</title>\n<path fill=\"none\" stroke=\"black\" d=\"M1787.68,-471.77C1780.67,-467.35 1773.01,-463.36 1765.25,-460.86 1519.42,-381.43 852.81,-491.69 603.25,-424.86 597.14,-423.22 590.97,-420.95 584.96,-418.32\"/>\n<polygon fill=\"black\" stroke=\"black\" points=\"586.24,-415.06 575.7,-413.96 583.26,-421.39 586.24,-415.06\"/>\n</g>\n<!-- visualAcuityAbility -->\n<g id=\"node7\" class=\"node\">\n<title>visualAcuityAbility</title>\n<ellipse fill=\"none\" stroke=\"black\" cx=\"1653.25\" cy=\"-387.38\" rx=\"87.86\" ry=\"37.45\"/>\n<text text-anchor=\"middle\" x=\"1653.25\" y=\"-398.68\" font-family=\"Times,serif\" font-size=\"14.00\">visualAcuityAbility</text>\n<text text-anchor=\"middle\" x=\"1653.25\" y=\"-383.68\" font-family=\"Times,serif\" font-size=\"14.00\">~</text>\n<text text-anchor=\"middle\" x=\"1653.25\" y=\"-368.68\" font-family=\"Times,serif\" font-size=\"14.00\">Uniform</text>\n</g>\n<!-- visualAcuityP -->\n<g id=\"node21\" class=\"node\">\n<title>visualAcuityP</title>\n<polygon fill=\"none\" stroke=\"black\" points=\"1270.75,-302.93 1177.75,-302.93 1177.75,-249.93 1270.75,-249.93 1270.75,-302.93\"/>\n<text text-anchor=\"middle\" x=\"1224.25\" y=\"-287.73\" font-family=\"Times,serif\" font-size=\"14.00\">visualAcuityP</text>\n<text text-anchor=\"middle\" x=\"1224.25\" y=\"-272.73\" font-family=\"Times,serif\" font-size=\"14.00\">~</text>\n<text text-anchor=\"middle\" x=\"1224.25\" y=\"-257.73\" font-family=\"Times,serif\" font-size=\"14.00\">Deterministic</text>\n</g>\n<!-- visualAcuityAbility&#45;&gt;visualAcuityP -->\n<g id=\"edge8\" class=\"edge\">\n<title>visualAcuityAbility&#45;&gt;visualAcuityP</title>\n<path fill=\"none\" stroke=\"black\" d=\"M1590.31,-361.21C1579.06,-357.14 1567.38,-353.2 1556.25,-349.91 1461,-321.76 1347.44,-299.29 1280.86,-287.2\"/>\n<polygon fill=\"black\" stroke=\"black\" points=\"1281.44,-283.75 1270.98,-285.42 1280.2,-290.64 1281.44,-283.75\"/>\n</g>\n<!-- aheadAbility_raw -->\n<g id=\"node8\" class=\"node\">\n<title>aheadAbility_raw</title>\n<ellipse fill=\"none\" stroke=\"black\" cx=\"1759.25\" cy=\"-609.29\" rx=\"79.81\" ry=\"37.45\"/>\n<text text-anchor=\"middle\" x=\"1759.25\" y=\"-620.59\" font-family=\"Times,serif\" font-size=\"14.00\">aheadAbility_raw</text>\n<text text-anchor=\"middle\" x=\"1759.25\" y=\"-605.59\" font-family=\"Times,serif\" font-size=\"14.00\">~</text>\n<text text-anchor=\"middle\" x=\"1759.25\" y=\"-590.59\" font-family=\"Times,serif\" font-size=\"14.00\">Beta</text>\n</g>\n<!-- aheadAbility_raw&#45;&gt;aheadAbility -->\n<g id=\"edge4\" class=\"edge\">\n<title>aheadAbility_raw&#45;&gt;aheadAbility</title>\n<path fill=\"none\" stroke=\"black\" d=\"M1778.74,-572.92C1785.67,-560.32 1793.47,-546.15 1800.36,-533.65\"/>\n<polygon fill=\"black\" stroke=\"black\" points=\"1803.43,-535.32 1805.19,-524.87 1797.3,-531.95 1803.43,-535.32\"/>\n</g>\n<!-- objPermAbility -->\n<g id=\"node9\" class=\"node\">\n<title>objPermAbility</title>\n<ellipse fill=\"none\" stroke=\"black\" cx=\"1476.25\" cy=\"-387.38\" rx=\"71.34\" ry=\"37.45\"/>\n<text text-anchor=\"middle\" x=\"1476.25\" y=\"-398.68\" font-family=\"Times,serif\" font-size=\"14.00\">objPermAbility</text>\n<text text-anchor=\"middle\" x=\"1476.25\" y=\"-383.68\" font-family=\"Times,serif\" font-size=\"14.00\">~</text>\n<text text-anchor=\"middle\" x=\"1476.25\" y=\"-368.68\" font-family=\"Times,serif\" font-size=\"14.00\">Uniform</text>\n</g>\n<!-- objPermP -->\n<g id=\"node40\" class=\"node\">\n<title>objPermP</title>\n<polygon fill=\"none\" stroke=\"black\" points=\"988.75,-302.93 897.75,-302.93 897.75,-249.93 988.75,-249.93 988.75,-302.93\"/>\n<text text-anchor=\"middle\" x=\"943.25\" y=\"-287.73\" font-family=\"Times,serif\" font-size=\"14.00\">objPermP</text>\n<text text-anchor=\"middle\" x=\"943.25\" y=\"-272.73\" font-family=\"Times,serif\" font-size=\"14.00\">~</text>\n<text text-anchor=\"middle\" x=\"943.25\" y=\"-257.73\" font-family=\"Times,serif\" font-size=\"14.00\">Deterministic</text>\n</g>\n<!-- objPermAbility&#45;&gt;objPermP -->\n<g id=\"edge37\" class=\"edge\">\n<title>objPermAbility&#45;&gt;objPermP</title>\n<path fill=\"none\" stroke=\"black\" d=\"M1426.55,-360.31C1417.64,-356.37 1408.3,-352.69 1399.25,-349.91 1300.37,-319.45 1271.44,-330.15 1169.25,-313.91 1111.23,-304.68 1044.87,-293.95 999.14,-286.53\"/>\n<polygon fill=\"black\" stroke=\"black\" points=\"999.56,-283.05 989.13,-284.9 998.44,-289.96 999.56,-283.05\"/>\n</g>\n<!-- rightPerformance -->\n<g id=\"node42\" class=\"node\">\n<title>rightPerformance</title>\n<polygon fill=\"none\" stroke=\"black\" points=\"458.25,-413.88 346.25,-413.88 346.25,-360.88 458.25,-360.88 458.25,-413.88\"/>\n<text text-anchor=\"middle\" x=\"402.25\" y=\"-398.68\" font-family=\"Times,serif\" font-size=\"14.00\">rightPerformance</text>\n<text text-anchor=\"middle\" x=\"402.25\" y=\"-383.68\" font-family=\"Times,serif\" font-size=\"14.00\">~</text>\n<text text-anchor=\"middle\" x=\"402.25\" y=\"-368.68\" font-family=\"Times,serif\" font-size=\"14.00\">Deterministic</text>\n</g>\n<!-- rightAbility&#45;&gt;rightPerformance -->\n<g id=\"edge11\" class=\"edge\">\n<title>rightAbility&#45;&gt;rightPerformance</title>\n<path fill=\"none\" stroke=\"black\" d=\"M1678.68,-471.77C1671.67,-467.34 1664.01,-463.36 1656.25,-460.86 1404.69,-379.67 721.96,-495.58 467.25,-424.86 461.5,-423.26 455.71,-421.06 450.09,-418.51\"/>\n<polygon fill=\"black\" stroke=\"black\" points=\"451.33,-415.22 440.81,-413.96 448.25,-421.51 451.33,-415.22\"/>\n</g>\n<!-- leftAbility_raw -->\n<g id=\"node11\" class=\"node\">\n<title>leftAbility_raw</title>\n<ellipse fill=\"none\" stroke=\"black\" cx=\"1928.25\" cy=\"-609.29\" rx=\"70.92\" ry=\"37.45\"/>\n<text text-anchor=\"middle\" x=\"1928.25\" y=\"-620.59\" font-family=\"Times,serif\" font-size=\"14.00\">leftAbility_raw</text>\n<text text-anchor=\"middle\" x=\"1928.25\" y=\"-605.59\" font-family=\"Times,serif\" font-size=\"14.00\">~</text>\n<text text-anchor=\"middle\" x=\"1928.25\" y=\"-590.59\" font-family=\"Times,serif\" font-size=\"14.00\">Beta</text>\n</g>\n<!-- leftAbility_raw&#45;&gt;leftAbility -->\n<g id=\"edge3\" class=\"edge\">\n<title>leftAbility_raw&#45;&gt;leftAbility</title>\n<path fill=\"none\" stroke=\"black\" d=\"M1928.25,-571.71C1928.25,-559.97 1928.25,-546.98 1928.25,-535.29\"/>\n<polygon fill=\"black\" stroke=\"black\" points=\"1931.75,-534.99 1928.25,-524.99 1924.75,-534.99 1931.75,-534.99\"/>\n</g>\n<!-- noisePar -->\n<g id=\"node12\" class=\"node\">\n<title>noisePar</title>\n<ellipse fill=\"none\" stroke=\"black\" cx=\"45.25\" cy=\"-276.43\" rx=\"45.01\" ry=\"37.45\"/>\n<text text-anchor=\"middle\" x=\"45.25\" y=\"-287.73\" font-family=\"Times,serif\" font-size=\"14.00\">noisePar</text>\n<text text-anchor=\"middle\" x=\"45.25\" y=\"-272.73\" font-family=\"Times,serif\" font-size=\"14.00\">~</text>\n<text text-anchor=\"middle\" x=\"45.25\" y=\"-257.73\" font-family=\"Times,serif\" font-size=\"14.00\">Uniform</text>\n</g>\n<!-- finalP -->\n<g id=\"node24\" class=\"node\">\n<title>finalP</title>\n<polygon fill=\"none\" stroke=\"black\" points=\"691.75,-202.95 600.75,-202.95 600.75,-149.95 691.75,-149.95 691.75,-202.95\"/>\n<text text-anchor=\"middle\" x=\"646.25\" y=\"-187.75\" font-family=\"Times,serif\" font-size=\"14.00\">finalP</text>\n<text text-anchor=\"middle\" x=\"646.25\" y=\"-172.75\" font-family=\"Times,serif\" font-size=\"14.00\">~</text>\n<text text-anchor=\"middle\" x=\"646.25\" y=\"-157.75\" font-family=\"Times,serif\" font-size=\"14.00\">Deterministic</text>\n</g>\n<!-- noisePar&#45;&gt;finalP -->\n<g id=\"edge41\" class=\"edge\">\n<title>noisePar&#45;&gt;finalP</title>\n<path fill=\"none\" stroke=\"black\" d=\"M75.94,-248.85C81.72,-244.97 87.94,-241.44 94.25,-238.95 183.71,-203.7 468.81,-186.05 590.42,-179.97\"/>\n<polygon fill=\"black\" stroke=\"black\" points=\"590.81,-183.45 600.63,-179.47 590.47,-176.46 590.81,-183.45\"/>\n</g>\n<!-- choiceP -->\n<g id=\"node26\" class=\"node\">\n<title>choiceP</title>\n<polygon fill=\"none\" stroke=\"black\" points=\"988.75,-202.95 897.75,-202.95 897.75,-149.95 988.75,-149.95 988.75,-202.95\"/>\n<text text-anchor=\"middle\" x=\"943.25\" y=\"-187.75\" font-family=\"Times,serif\" font-size=\"14.00\">choiceP</text>\n<text text-anchor=\"middle\" x=\"943.25\" y=\"-172.75\" font-family=\"Times,serif\" font-size=\"14.00\">~</text>\n<text text-anchor=\"middle\" x=\"943.25\" y=\"-157.75\" font-family=\"Times,serif\" font-size=\"14.00\">Deterministic</text>\n</g>\n<!-- noisePar&#45;&gt;choiceP -->\n<g id=\"edge44\" class=\"edge\">\n<title>noisePar&#45;&gt;choiceP</title>\n<path fill=\"none\" stroke=\"black\" d=\"M75.84,-248.58C81.63,-244.72 87.88,-241.28 94.25,-238.95 221.21,-192.67 566.58,-214.04 701.25,-202.95 765.13,-197.7 838.29,-189.71 887.29,-184.08\"/>\n<polygon fill=\"black\" stroke=\"black\" points=\"887.84,-187.54 897.37,-182.92 887.04,-180.59 887.84,-187.54\"/>\n</g>\n<!-- lavaAbility_raw -->\n<g id=\"node13\" class=\"node\">\n<title>lavaAbility_raw</title>\n<ellipse fill=\"none\" stroke=\"black\" cx=\"1418.25\" cy=\"-609.29\" rx=\"73.58\" ry=\"37.45\"/>\n<text text-anchor=\"middle\" x=\"1418.25\" y=\"-620.59\" font-family=\"Times,serif\" font-size=\"14.00\">lavaAbility_raw</text>\n<text text-anchor=\"middle\" x=\"1418.25\" y=\"-605.59\" font-family=\"Times,serif\" font-size=\"14.00\">~</text>\n<text text-anchor=\"middle\" x=\"1418.25\" y=\"-590.59\" font-family=\"Times,serif\" font-size=\"14.00\">Beta</text>\n</g>\n<!-- lavaAbility -->\n<g id=\"node17\" class=\"node\">\n<title>lavaAbility</title>\n<polygon fill=\"none\" stroke=\"black\" points=\"1646.75,-524.84 1555.75,-524.84 1555.75,-471.84 1646.75,-471.84 1646.75,-524.84\"/>\n<text text-anchor=\"middle\" x=\"1601.25\" y=\"-509.64\" font-family=\"Times,serif\" font-size=\"14.00\">lavaAbility</text>\n<text text-anchor=\"middle\" x=\"1601.25\" y=\"-494.64\" font-family=\"Times,serif\" font-size=\"14.00\">~</text>\n<text text-anchor=\"middle\" x=\"1601.25\" y=\"-479.64\" font-family=\"Times,serif\" font-size=\"14.00\">Deterministic</text>\n</g>\n<!-- lavaAbility_raw&#45;&gt;lavaAbility -->\n<g id=\"edge1\" class=\"edge\">\n<title>lavaAbility_raw&#45;&gt;lavaAbility</title>\n<path fill=\"none\" stroke=\"black\" d=\"M1467.66,-581.38C1491.62,-568.06 1520.68,-551.51 1546.25,-535.81 1549.04,-534.11 1551.88,-532.33 1554.74,-530.51\"/>\n<polygon fill=\"black\" stroke=\"black\" points=\"1556.79,-533.35 1563.31,-525 1553.01,-527.47 1556.79,-533.35\"/>\n</g>\n<!-- CVChickAbility_raw -->\n<g id=\"node14\" class=\"node\">\n<title>CVChickAbility_raw</title>\n<ellipse fill=\"none\" stroke=\"black\" cx=\"2315.25\" cy=\"-609.29\" rx=\"94.09\" ry=\"37.45\"/>\n<text text-anchor=\"middle\" x=\"2315.25\" y=\"-620.59\" font-family=\"Times,serif\" font-size=\"14.00\">CVChickAbility_raw</text>\n<text text-anchor=\"middle\" x=\"2315.25\" y=\"-605.59\" font-family=\"Times,serif\" font-size=\"14.00\">~</text>\n<text text-anchor=\"middle\" x=\"2315.25\" y=\"-590.59\" font-family=\"Times,serif\" font-size=\"14.00\">Beta</text>\n</g>\n<!-- CVChickAbility -->\n<g id=\"node18\" class=\"node\">\n<title>CVChickAbility</title>\n<polygon fill=\"none\" stroke=\"black\" points=\"2311.25,-524.84 2205.25,-524.84 2205.25,-471.84 2311.25,-471.84 2311.25,-524.84\"/>\n<text text-anchor=\"middle\" x=\"2258.25\" y=\"-509.64\" font-family=\"Times,serif\" font-size=\"14.00\">CVChickAbility</text>\n<text text-anchor=\"middle\" x=\"2258.25\" y=\"-494.64\" font-family=\"Times,serif\" font-size=\"14.00\">~</text>\n<text text-anchor=\"middle\" x=\"2258.25\" y=\"-479.64\" font-family=\"Times,serif\" font-size=\"14.00\">Deterministic</text>\n</g>\n<!-- CVChickAbility_raw&#45;&gt;CVChickAbility -->\n<g id=\"edge5\" class=\"edge\">\n<title>CVChickAbility_raw&#45;&gt;CVChickAbility</title>\n<path fill=\"none\" stroke=\"black\" d=\"M2296.43,-572.31C2289.97,-559.96 2282.76,-546.18 2276.36,-533.94\"/>\n<polygon fill=\"black\" stroke=\"black\" points=\"2279.38,-532.17 2271.65,-524.93 2273.18,-535.42 2279.38,-532.17\"/>\n</g>\n<!-- flatNavAbility -->\n<g id=\"node15\" class=\"node\">\n<title>flatNavAbility</title>\n<ellipse fill=\"none\" stroke=\"black\" cx=\"1470.25\" cy=\"-498.34\" rx=\"67.35\" ry=\"37.45\"/>\n<text text-anchor=\"middle\" x=\"1470.25\" y=\"-509.64\" font-family=\"Times,serif\" font-size=\"14.00\">flatNavAbility</text>\n<text text-anchor=\"middle\" x=\"1470.25\" y=\"-494.64\" font-family=\"Times,serif\" font-size=\"14.00\">~</text>\n<text text-anchor=\"middle\" x=\"1470.25\" y=\"-479.64\" font-family=\"Times,serif\" font-size=\"14.00\">Uniform</text>\n</g>\n<!-- flatNavP -->\n<g id=\"node32\" class=\"node\">\n<title>flatNavP</title>\n<polygon fill=\"none\" stroke=\"black\" points=\"197.75,-413.88 106.75,-413.88 106.75,-360.88 197.75,-360.88 197.75,-413.88\"/>\n<text text-anchor=\"middle\" x=\"152.25\" y=\"-398.68\" font-family=\"Times,serif\" font-size=\"14.00\">flatNavP</text>\n<text text-anchor=\"middle\" x=\"152.25\" y=\"-383.68\" font-family=\"Times,serif\" font-size=\"14.00\">~</text>\n<text text-anchor=\"middle\" x=\"152.25\" y=\"-368.68\" font-family=\"Times,serif\" font-size=\"14.00\">Deterministic</text>\n</g>\n<!-- flatNavAbility&#45;&gt;flatNavP -->\n<g id=\"edge16\" class=\"edge\">\n<title>flatNavAbility&#45;&gt;flatNavP</title>\n<path fill=\"none\" stroke=\"black\" d=\"M1425.23,-470.48C1416.85,-466.57 1407.98,-463.11 1399.25,-460.86 1147.18,-395.78 481.19,-486.52 228.25,-424.86 221.22,-423.14 214.06,-420.73 207.09,-417.95\"/>\n<polygon fill=\"black\" stroke=\"black\" points=\"208.31,-414.66 197.73,-413.96 205.56,-421.1 208.31,-414.66\"/>\n</g>\n<!-- PCTBAbility_raw -->\n<g id=\"node16\" class=\"node\">\n<title>PCTBAbility_raw</title>\n<ellipse fill=\"none\" stroke=\"black\" cx=\"2509.25\" cy=\"-609.29\" rx=\"82.05\" ry=\"37.45\"/>\n<text text-anchor=\"middle\" x=\"2509.25\" y=\"-620.59\" font-family=\"Times,serif\" font-size=\"14.00\">PCTBAbility_raw</text>\n<text text-anchor=\"middle\" x=\"2509.25\" y=\"-605.59\" font-family=\"Times,serif\" font-size=\"14.00\">~</text>\n<text text-anchor=\"middle\" x=\"2509.25\" y=\"-590.59\" font-family=\"Times,serif\" font-size=\"14.00\">Beta</text>\n</g>\n<!-- PCTBAbility_raw&#45;&gt;PCTBAbility -->\n<g id=\"edge6\" class=\"edge\">\n<title>PCTBAbility_raw&#45;&gt;PCTBAbility</title>\n<path fill=\"none\" stroke=\"black\" d=\"M2496.6,-572.01C2492.42,-560.02 2487.77,-546.69 2483.61,-534.76\"/>\n<polygon fill=\"black\" stroke=\"black\" points=\"2486.85,-533.42 2480.25,-525.13 2480.24,-535.73 2486.85,-533.42\"/>\n</g>\n<!-- lavaP -->\n<g id=\"node33\" class=\"node\">\n<title>lavaP</title>\n<polygon fill=\"none\" stroke=\"black\" points=\"327.75,-413.88 236.75,-413.88 236.75,-360.88 327.75,-360.88 327.75,-413.88\"/>\n<text text-anchor=\"middle\" x=\"282.25\" y=\"-398.68\" font-family=\"Times,serif\" font-size=\"14.00\">lavaP</text>\n<text text-anchor=\"middle\" x=\"282.25\" y=\"-383.68\" font-family=\"Times,serif\" font-size=\"14.00\">~</text>\n<text text-anchor=\"middle\" x=\"282.25\" y=\"-368.68\" font-family=\"Times,serif\" font-size=\"14.00\">Deterministic</text>\n</g>\n<!-- lavaAbility&#45;&gt;lavaP -->\n<g id=\"edge20\" class=\"edge\">\n<title>lavaAbility&#45;&gt;lavaP</title>\n<path fill=\"none\" stroke=\"black\" d=\"M1569.04,-471.77C1561.91,-467.34 1554.12,-463.36 1546.25,-460.86 1290.09,-379.46 593.42,-506.26 337.25,-424.86 332.59,-423.38 327.94,-421.37 323.45,-419.06\"/>\n<polygon fill=\"black\" stroke=\"black\" points=\"324.89,-415.85 314.47,-413.95 321.43,-421.94 324.89,-415.85\"/>\n</g>\n<!-- cvChickP -->\n<g id=\"node36\" class=\"node\">\n<title>cvChickP</title>\n<polygon fill=\"none\" stroke=\"black\" points=\"934.75,-413.88 843.75,-413.88 843.75,-360.88 934.75,-360.88 934.75,-413.88\"/>\n<text text-anchor=\"middle\" x=\"889.25\" y=\"-398.68\" font-family=\"Times,serif\" font-size=\"14.00\">cvChickP</text>\n<text text-anchor=\"middle\" x=\"889.25\" y=\"-383.68\" font-family=\"Times,serif\" font-size=\"14.00\">~</text>\n<text text-anchor=\"middle\" x=\"889.25\" y=\"-368.68\" font-family=\"Times,serif\" font-size=\"14.00\">Deterministic</text>\n</g>\n<!-- CVChickAbility&#45;&gt;cvChickP -->\n<g id=\"edge24\" class=\"edge\">\n<title>CVChickAbility&#45;&gt;cvChickP</title>\n<path fill=\"none\" stroke=\"black\" d=\"M2205.08,-477.71C2184.77,-471.1 2161.21,-464.49 2139.25,-460.86 1877.13,-417.54 1197.44,-505.37 944.25,-424.86 939.59,-423.38 934.94,-421.37 930.45,-419.06\"/>\n<polygon fill=\"black\" stroke=\"black\" points=\"931.89,-415.85 921.47,-413.95 928.43,-421.94 931.89,-415.85\"/>\n</g>\n<!-- taskSuccess -->\n<g id=\"node19\" class=\"node\">\n<title>taskSuccess</title>\n<ellipse fill=\"lightgrey\" stroke=\"black\" cx=\"646.25\" cy=\"-76.48\" rx=\"57.05\" ry=\"37.45\"/>\n<text text-anchor=\"middle\" x=\"646.25\" y=\"-87.78\" font-family=\"Times,serif\" font-size=\"14.00\">taskSuccess</text>\n<text text-anchor=\"middle\" x=\"646.25\" y=\"-72.78\" font-family=\"Times,serif\" font-size=\"14.00\">~</text>\n<text text-anchor=\"middle\" x=\"646.25\" y=\"-57.78\" font-family=\"Times,serif\" font-size=\"14.00\">Bernoulli</text>\n</g>\n<!-- goalDistance -->\n<g id=\"node20\" class=\"node\">\n<title>goalDistance</title>\n<path fill=\"lightgrey\" stroke=\"black\" d=\"M310.25,-524.84C310.25,-524.84 246.25,-524.84 246.25,-524.84 240.25,-524.84 234.25,-518.84 234.25,-512.84 234.25,-512.84 234.25,-483.84 234.25,-483.84 234.25,-477.84 240.25,-471.84 246.25,-471.84 246.25,-471.84 310.25,-471.84 310.25,-471.84 316.25,-471.84 322.25,-477.84 322.25,-483.84 322.25,-483.84 322.25,-512.84 322.25,-512.84 322.25,-518.84 316.25,-524.84 310.25,-524.84\"/>\n<text text-anchor=\"middle\" x=\"278.25\" y=\"-509.64\" font-family=\"Times,serif\" font-size=\"14.00\">goalDistance</text>\n<text text-anchor=\"middle\" x=\"278.25\" y=\"-494.64\" font-family=\"Times,serif\" font-size=\"14.00\">~</text>\n<text text-anchor=\"middle\" x=\"278.25\" y=\"-479.64\" font-family=\"Times,serif\" font-size=\"14.00\">MutableData</text>\n</g>\n<!-- goalDistance&#45;&gt;flatNavP -->\n<g id=\"edge17\" class=\"edge\">\n<title>goalDistance&#45;&gt;flatNavP</title>\n<path fill=\"none\" stroke=\"black\" d=\"M248.71,-471.79C231.07,-456.53 208.49,-437.01 189.62,-420.69\"/>\n<polygon fill=\"black\" stroke=\"black\" points=\"191.9,-418.04 182.05,-414.15 187.32,-423.33 191.9,-418.04\"/>\n</g>\n<!-- goalDistance&#45;&gt;objPermP -->\n<g id=\"edge35\" class=\"edge\">\n<title>goalDistance&#45;&gt;objPermP</title>\n<path fill=\"none\" stroke=\"black\" d=\"M256.01,-471.83C230.76,-439.73 196.9,-384.6 228.25,-349.91 239.33,-337.65 721.56,-296.06 887.7,-282.07\"/>\n<polygon fill=\"black\" stroke=\"black\" points=\"888.04,-285.55 897.71,-281.22 887.45,-278.58 888.04,-285.55\"/>\n</g>\n<!-- visualAcuityP&#45;&gt;finalP -->\n<g id=\"edge42\" class=\"edge\">\n<title>visualAcuityP&#45;&gt;finalP</title>\n<path fill=\"none\" stroke=\"black\" d=\"M1177.44,-267.5C1071.79,-249.59 815.21,-206.09 701.77,-186.86\"/>\n<polygon fill=\"black\" stroke=\"black\" points=\"702.34,-183.41 691.9,-185.19 701.17,-190.31 702.34,-183.41\"/>\n</g>\n<!-- visualAcuityP&#45;&gt;choiceP -->\n<g id=\"edge45\" class=\"edge\">\n<title>visualAcuityP&#45;&gt;choiceP</title>\n<path fill=\"none\" stroke=\"black\" d=\"M1177.54,-259.14C1128.32,-241.98 1050.85,-214.97 998.6,-196.75\"/>\n<polygon fill=\"black\" stroke=\"black\" points=\"999.74,-193.44 989.15,-193.46 997.44,-200.05 999.74,-193.44\"/>\n</g>\n<!-- taskChoice -->\n<g id=\"node22\" class=\"node\">\n<title>taskChoice</title>\n<ellipse fill=\"lightgrey\" stroke=\"black\" cx=\"943.25\" cy=\"-76.48\" rx=\"54.39\" ry=\"37.45\"/>\n<text text-anchor=\"middle\" x=\"943.25\" y=\"-87.78\" font-family=\"Times,serif\" font-size=\"14.00\">taskChoice</text>\n<text text-anchor=\"middle\" x=\"943.25\" y=\"-72.78\" font-family=\"Times,serif\" font-size=\"14.00\">~</text>\n<text text-anchor=\"middle\" x=\"943.25\" y=\"-57.78\" font-family=\"Times,serif\" font-size=\"14.00\">Bernoulli</text>\n</g>\n<!-- navP -->\n<g id=\"node29\" class=\"node\">\n<title>navP</title>\n<polygon fill=\"none\" stroke=\"black\" points=\"513.75,-302.93 422.75,-302.93 422.75,-249.93 513.75,-249.93 513.75,-302.93\"/>\n<text text-anchor=\"middle\" x=\"468.25\" y=\"-287.73\" font-family=\"Times,serif\" font-size=\"14.00\">navP</text>\n<text text-anchor=\"middle\" x=\"468.25\" y=\"-272.73\" font-family=\"Times,serif\" font-size=\"14.00\">~</text>\n<text text-anchor=\"middle\" x=\"468.25\" y=\"-257.73\" font-family=\"Times,serif\" font-size=\"14.00\">Deterministic</text>\n</g>\n<!-- aheadPerformance&#45;&gt;navP -->\n<g id=\"edge28\" class=\"edge\">\n<title>aheadPerformance&#45;&gt;navP</title>\n<path fill=\"none\" stroke=\"black\" d=\"M519.55,-360.84C510.62,-346.33 499.33,-327.96 489.61,-312.15\"/>\n<polygon fill=\"black\" stroke=\"black\" points=\"492.32,-309.88 484.1,-303.19 486.35,-313.54 492.32,-309.88\"/>\n</g>\n<!-- finalP&#45;&gt;taskSuccess -->\n<g id=\"edge46\" class=\"edge\">\n<title>finalP&#45;&gt;taskSuccess</title>\n<path fill=\"none\" stroke=\"black\" d=\"M646.25,-149.71C646.25,-141.89 646.25,-133.03 646.25,-124.27\"/>\n<polygon fill=\"black\" stroke=\"black\" points=\"649.75,-124.1 646.25,-114.1 642.75,-124.1 649.75,-124.1\"/>\n</g>\n<!-- pctbP&#45;&gt;objPermP -->\n<g id=\"edge33\" class=\"edge\">\n<title>pctbP&#45;&gt;objPermP</title>\n<path fill=\"none\" stroke=\"black\" d=\"M985.36,-360.84C978.03,-346.33 968.76,-327.96 960.78,-312.15\"/>\n<polygon fill=\"black\" stroke=\"black\" points=\"963.89,-310.54 956.26,-303.19 957.64,-313.7 963.89,-310.54\"/>\n</g>\n<!-- choiceP&#45;&gt;taskChoice -->\n<g id=\"edge47\" class=\"edge\">\n<title>choiceP&#45;&gt;taskChoice</title>\n<path fill=\"none\" stroke=\"black\" d=\"M943.25,-149.71C943.25,-141.89 943.25,-133.03 943.25,-124.27\"/>\n<polygon fill=\"black\" stroke=\"black\" points=\"946.75,-124.1 943.25,-114.1 939.75,-124.1 946.75,-124.1\"/>\n</g>\n<!-- lightsOutP&#45;&gt;objPermP -->\n<g id=\"edge34\" class=\"edge\">\n<title>lightsOutP&#45;&gt;objPermP</title>\n<path fill=\"none\" stroke=\"black\" d=\"M818.47,-360.84C841.79,-345.25 871.76,-325.22 896.49,-308.69\"/>\n<polygon fill=\"black\" stroke=\"black\" points=\"898.63,-311.47 905,-303 894.74,-305.65 898.63,-311.47\"/>\n</g>\n<!-- CVChickTest -->\n<g id=\"node28\" class=\"node\">\n<title>CVChickTest</title>\n<path fill=\"lightgrey\" stroke=\"black\" d=\"M975.25,-524.84C975.25,-524.84 909.25,-524.84 909.25,-524.84 903.25,-524.84 897.25,-518.84 897.25,-512.84 897.25,-512.84 897.25,-483.84 897.25,-483.84 897.25,-477.84 903.25,-471.84 909.25,-471.84 909.25,-471.84 975.25,-471.84 975.25,-471.84 981.25,-471.84 987.25,-477.84 987.25,-483.84 987.25,-483.84 987.25,-512.84 987.25,-512.84 987.25,-518.84 981.25,-524.84 975.25,-524.84\"/>\n<text text-anchor=\"middle\" x=\"942.25\" y=\"-509.64\" font-family=\"Times,serif\" font-size=\"14.00\">CVChickTest</text>\n<text text-anchor=\"middle\" x=\"942.25\" y=\"-494.64\" font-family=\"Times,serif\" font-size=\"14.00\">~</text>\n<text text-anchor=\"middle\" x=\"942.25\" y=\"-479.64\" font-family=\"Times,serif\" font-size=\"14.00\">MutableData</text>\n</g>\n<!-- CVChickTest&#45;&gt;cvChickP -->\n<g id=\"edge23\" class=\"edge\">\n<title>CVChickTest&#45;&gt;cvChickP</title>\n<path fill=\"none\" stroke=\"black\" d=\"M929.83,-471.79C922.84,-457.42 914,-439.25 906.36,-423.55\"/>\n<polygon fill=\"black\" stroke=\"black\" points=\"909.31,-421.61 901.79,-414.15 903.01,-424.67 909.31,-421.61\"/>\n</g>\n<!-- navP&#45;&gt;finalP -->\n<g id=\"edge40\" class=\"edge\">\n<title>navP&#45;&gt;finalP</title>\n<path fill=\"none\" stroke=\"black\" d=\"M514.09,-250.2C537.76,-237.17 566.81,-221.18 591.63,-207.52\"/>\n<polygon fill=\"black\" stroke=\"black\" points=\"593.5,-210.49 600.57,-202.6 590.12,-204.36 593.5,-210.49\"/>\n</g>\n<!-- lightsOutPresence -->\n<g id=\"node30\" class=\"node\">\n<title>lightsOutPresence</title>\n<path fill=\"lightgrey\" stroke=\"black\" d=\"M866.75,-524.84C866.75,-524.84 775.75,-524.84 775.75,-524.84 769.75,-524.84 763.75,-518.84 763.75,-512.84 763.75,-512.84 763.75,-483.84 763.75,-483.84 763.75,-477.84 769.75,-471.84 775.75,-471.84 775.75,-471.84 866.75,-471.84 866.75,-471.84 872.75,-471.84 878.75,-477.84 878.75,-483.84 878.75,-483.84 878.75,-512.84 878.75,-512.84 878.75,-518.84 872.75,-524.84 866.75,-524.84\"/>\n<text text-anchor=\"middle\" x=\"821.25\" y=\"-509.64\" font-family=\"Times,serif\" font-size=\"14.00\">lightsOutPresence</text>\n<text text-anchor=\"middle\" x=\"821.25\" y=\"-494.64\" font-family=\"Times,serif\" font-size=\"14.00\">~</text>\n<text text-anchor=\"middle\" x=\"821.25\" y=\"-479.64\" font-family=\"Times,serif\" font-size=\"14.00\">MutableData</text>\n</g>\n<!-- lightsOutPresence&#45;&gt;lightsOutP -->\n<g id=\"edge22\" class=\"edge\">\n<title>lightsOutPresence&#45;&gt;lightsOutP</title>\n<path fill=\"none\" stroke=\"black\" d=\"M811.64,-471.79C806.23,-457.42 799.4,-439.25 793.49,-423.55\"/>\n<polygon fill=\"black\" stroke=\"black\" points=\"796.75,-422.27 789.95,-414.15 790.2,-424.74 796.75,-422.27\"/>\n</g>\n<!-- goalRight -->\n<g id=\"node31\" class=\"node\">\n<title>goalRight</title>\n<path fill=\"lightgrey\" stroke=\"black\" d=\"M522.25,-524.84C522.25,-524.84 458.25,-524.84 458.25,-524.84 452.25,-524.84 446.25,-518.84 446.25,-512.84 446.25,-512.84 446.25,-483.84 446.25,-483.84 446.25,-477.84 452.25,-471.84 458.25,-471.84 458.25,-471.84 522.25,-471.84 522.25,-471.84 528.25,-471.84 534.25,-477.84 534.25,-483.84 534.25,-483.84 534.25,-512.84 534.25,-512.84 534.25,-518.84 528.25,-524.84 522.25,-524.84\"/>\n<text text-anchor=\"middle\" x=\"490.25\" y=\"-509.64\" font-family=\"Times,serif\" font-size=\"14.00\">goalRight</text>\n<text text-anchor=\"middle\" x=\"490.25\" y=\"-494.64\" font-family=\"Times,serif\" font-size=\"14.00\">~</text>\n<text text-anchor=\"middle\" x=\"490.25\" y=\"-479.64\" font-family=\"Times,serif\" font-size=\"14.00\">MutableData</text>\n</g>\n<!-- goalRight&#45;&gt;rightPerformance -->\n<g id=\"edge10\" class=\"edge\">\n<title>goalRight&#45;&gt;rightPerformance</title>\n<path fill=\"none\" stroke=\"black\" d=\"M469.62,-471.79C457.68,-457.01 442.51,-438.22 429.59,-422.22\"/>\n<polygon fill=\"black\" stroke=\"black\" points=\"432.07,-419.73 423.06,-414.15 426.62,-424.12 432.07,-419.73\"/>\n</g>\n<!-- flatNavP&#45;&gt;navP -->\n<g id=\"edge29\" class=\"edge\">\n<title>flatNavP&#45;&gt;navP</title>\n<path fill=\"none\" stroke=\"black\" d=\"M190.81,-360.87C197.78,-356.86 205.1,-353.02 212.25,-349.91 278.69,-320.95 359.84,-300.26 412.72,-288.59\"/>\n<polygon fill=\"black\" stroke=\"black\" points=\"413.56,-291.99 422.58,-286.44 412.07,-285.15 413.56,-291.99\"/>\n</g>\n<!-- lavaP&#45;&gt;navP -->\n<g id=\"edge30\" class=\"edge\">\n<title>lavaP&#45;&gt;navP</title>\n<path fill=\"none\" stroke=\"black\" d=\"M319.87,-360.86C325.64,-357.11 331.57,-353.35 337.25,-349.91 361.98,-334.9 389.97,-319.24 413.7,-306.34\"/>\n<polygon fill=\"black\" stroke=\"black\" points=\"415.45,-309.38 422.58,-301.54 412.12,-303.22 415.45,-309.38\"/>\n</g>\n<!-- numChoices -->\n<g id=\"node34\" class=\"node\">\n<title>numChoices</title>\n<path fill=\"lightgrey\" stroke=\"black\" d=\"M1269.25,-413.88C1269.25,-413.88 1205.25,-413.88 1205.25,-413.88 1199.25,-413.88 1193.25,-407.88 1193.25,-401.88 1193.25,-401.88 1193.25,-372.88 1193.25,-372.88 1193.25,-366.88 1199.25,-360.88 1205.25,-360.88 1205.25,-360.88 1269.25,-360.88 1269.25,-360.88 1275.25,-360.88 1281.25,-366.88 1281.25,-372.88 1281.25,-372.88 1281.25,-401.88 1281.25,-401.88 1281.25,-407.88 1275.25,-413.88 1269.25,-413.88\"/>\n<text text-anchor=\"middle\" x=\"1237.25\" y=\"-398.68\" font-family=\"Times,serif\" font-size=\"14.00\">numChoices</text>\n<text text-anchor=\"middle\" x=\"1237.25\" y=\"-383.68\" font-family=\"Times,serif\" font-size=\"14.00\">~</text>\n<text text-anchor=\"middle\" x=\"1237.25\" y=\"-368.68\" font-family=\"Times,serif\" font-size=\"14.00\">MutableData</text>\n</g>\n<!-- numChoices&#45;&gt;objPermP -->\n<g id=\"edge38\" class=\"edge\">\n<title>numChoices&#45;&gt;objPermP</title>\n<path fill=\"none\" stroke=\"black\" d=\"M1203.41,-360.83C1197.23,-356.83 1190.7,-353 1184.25,-349.91 1123.63,-320.81 1048.8,-300.51 998.75,-288.94\"/>\n<polygon fill=\"black\" stroke=\"black\" points=\"999.3,-285.47 988.78,-286.67 997.75,-292.3 999.3,-285.47\"/>\n</g>\n<!-- leftPerformance&#45;&gt;navP -->\n<g id=\"edge27\" class=\"edge\">\n<title>leftPerformance&#45;&gt;navP</title>\n<path fill=\"none\" stroke=\"black\" d=\"M622.07,-360.82C615.79,-357.11 609.37,-353.38 603.25,-349.91 576.98,-335.01 547.45,-319.07 522.73,-305.94\"/>\n<polygon fill=\"black\" stroke=\"black\" points=\"524.32,-302.82 513.85,-301.24 521.05,-309.01 524.32,-302.82\"/>\n</g>\n<!-- cvChickP&#45;&gt;objPermP -->\n<g id=\"edge32\" class=\"edge\">\n<title>cvChickP&#45;&gt;objPermP</title>\n<path fill=\"none\" stroke=\"black\" d=\"M901.92,-360.84C909.11,-346.33 918.21,-327.96 926.05,-312.15\"/>\n<polygon fill=\"black\" stroke=\"black\" points=\"929.18,-313.71 930.49,-303.19 922.91,-310.6 929.18,-313.71\"/>\n</g>\n<!-- minTurnsToGoal -->\n<g id=\"node37\" class=\"node\">\n<title>minTurnsToGoal</title>\n<path fill=\"lightgrey\" stroke=\"black\" d=\"M204.25,-524.84C204.25,-524.84 118.25,-524.84 118.25,-524.84 112.25,-524.84 106.25,-518.84 106.25,-512.84 106.25,-512.84 106.25,-483.84 106.25,-483.84 106.25,-477.84 112.25,-471.84 118.25,-471.84 118.25,-471.84 204.25,-471.84 204.25,-471.84 210.25,-471.84 216.25,-477.84 216.25,-483.84 216.25,-483.84 216.25,-512.84 216.25,-512.84 216.25,-518.84 210.25,-524.84 204.25,-524.84\"/>\n<text text-anchor=\"middle\" x=\"161.25\" y=\"-509.64\" font-family=\"Times,serif\" font-size=\"14.00\">minTurnsToGoal</text>\n<text text-anchor=\"middle\" x=\"161.25\" y=\"-494.64\" font-family=\"Times,serif\" font-size=\"14.00\">~</text>\n<text text-anchor=\"middle\" x=\"161.25\" y=\"-479.64\" font-family=\"Times,serif\" font-size=\"14.00\">MutableData</text>\n</g>\n<!-- minTurnsToGoal&#45;&gt;flatNavP -->\n<g id=\"edge18\" class=\"edge\">\n<title>minTurnsToGoal&#45;&gt;flatNavP</title>\n<path fill=\"none\" stroke=\"black\" d=\"M159.14,-471.79C157.98,-457.69 156.51,-439.94 155.23,-424.44\"/>\n<polygon fill=\"black\" stroke=\"black\" points=\"158.69,-423.82 154.38,-414.15 151.72,-424.4 158.69,-423.82\"/>\n</g>\n<!-- goalSize -->\n<g id=\"node38\" class=\"node\">\n<title>goalSize</title>\n<path fill=\"lightgrey\" stroke=\"black\" d=\"M1375.25,-413.88C1375.25,-413.88 1311.25,-413.88 1311.25,-413.88 1305.25,-413.88 1299.25,-407.88 1299.25,-401.88 1299.25,-401.88 1299.25,-372.88 1299.25,-372.88 1299.25,-366.88 1305.25,-360.88 1311.25,-360.88 1311.25,-360.88 1375.25,-360.88 1375.25,-360.88 1381.25,-360.88 1387.25,-366.88 1387.25,-372.88 1387.25,-372.88 1387.25,-401.88 1387.25,-401.88 1387.25,-407.88 1381.25,-413.88 1375.25,-413.88\"/>\n<text text-anchor=\"middle\" x=\"1343.25\" y=\"-398.68\" font-family=\"Times,serif\" font-size=\"14.00\">goalSize</text>\n<text text-anchor=\"middle\" x=\"1343.25\" y=\"-383.68\" font-family=\"Times,serif\" font-size=\"14.00\">~</text>\n<text text-anchor=\"middle\" x=\"1343.25\" y=\"-368.68\" font-family=\"Times,serif\" font-size=\"14.00\">MutableData</text>\n</g>\n<!-- goalSize&#45;&gt;visualAcuityP -->\n<g id=\"edge9\" class=\"edge\">\n<title>goalSize&#45;&gt;visualAcuityP</title>\n<path fill=\"none\" stroke=\"black\" d=\"M1315.35,-360.84C1298.76,-345.65 1277.56,-326.23 1259.78,-309.95\"/>\n<polygon fill=\"black\" stroke=\"black\" points=\"1262.13,-307.36 1252.39,-303.19 1257.4,-312.53 1262.13,-307.36\"/>\n</g>\n<!-- lavaPresence -->\n<g id=\"node39\" class=\"node\">\n<title>lavaPresence</title>\n<path fill=\"lightgrey\" stroke=\"black\" d=\"M416.25,-524.84C416.25,-524.84 352.25,-524.84 352.25,-524.84 346.25,-524.84 340.25,-518.84 340.25,-512.84 340.25,-512.84 340.25,-483.84 340.25,-483.84 340.25,-477.84 346.25,-471.84 352.25,-471.84 352.25,-471.84 416.25,-471.84 416.25,-471.84 422.25,-471.84 428.25,-477.84 428.25,-483.84 428.25,-483.84 428.25,-512.84 428.25,-512.84 428.25,-518.84 422.25,-524.84 416.25,-524.84\"/>\n<text text-anchor=\"middle\" x=\"384.25\" y=\"-509.64\" font-family=\"Times,serif\" font-size=\"14.00\">lavaPresence</text>\n<text text-anchor=\"middle\" x=\"384.25\" y=\"-494.64\" font-family=\"Times,serif\" font-size=\"14.00\">~</text>\n<text text-anchor=\"middle\" x=\"384.25\" y=\"-479.64\" font-family=\"Times,serif\" font-size=\"14.00\">MutableData</text>\n</g>\n<!-- lavaPresence&#45;&gt;lavaP -->\n<g id=\"edge19\" class=\"edge\">\n<title>lavaPresence&#45;&gt;lavaP</title>\n<path fill=\"none\" stroke=\"black\" d=\"M360.34,-471.79C346.37,-456.87 328.59,-437.88 313.52,-421.78\"/>\n<polygon fill=\"black\" stroke=\"black\" points=\"315.76,-419.05 306.37,-414.15 310.65,-423.84 315.76,-419.05\"/>\n</g>\n<!-- objPermP&#45;&gt;finalP -->\n<g id=\"edge39\" class=\"edge\">\n<title>objPermP&#45;&gt;finalP</title>\n<path fill=\"none\" stroke=\"black\" d=\"M897.5,-260.34C844.85,-242.97 758.4,-214.45 701.9,-195.81\"/>\n<polygon fill=\"black\" stroke=\"black\" points=\"702.66,-192.37 692.06,-192.56 700.46,-199.02 702.66,-192.37\"/>\n</g>\n<!-- objPermP&#45;&gt;choiceP -->\n<g id=\"edge43\" class=\"edge\">\n<title>objPermP&#45;&gt;choiceP</title>\n<path fill=\"none\" stroke=\"black\" d=\"M943.25,-249.69C943.25,-238.55 943.25,-225.32 943.25,-213.25\"/>\n<polygon fill=\"black\" stroke=\"black\" points=\"946.75,-213.02 943.25,-203.02 939.75,-213.02 946.75,-213.02\"/>\n</g>\n<!-- PCTBTest -->\n<g id=\"node41\" class=\"node\">\n<title>PCTBTest</title>\n<path fill=\"lightgrey\" stroke=\"black\" d=\"M1081.25,-524.84C1081.25,-524.84 1017.25,-524.84 1017.25,-524.84 1011.25,-524.84 1005.25,-518.84 1005.25,-512.84 1005.25,-512.84 1005.25,-483.84 1005.25,-483.84 1005.25,-477.84 1011.25,-471.84 1017.25,-471.84 1017.25,-471.84 1081.25,-471.84 1081.25,-471.84 1087.25,-471.84 1093.25,-477.84 1093.25,-483.84 1093.25,-483.84 1093.25,-512.84 1093.25,-512.84 1093.25,-518.84 1087.25,-524.84 1081.25,-524.84\"/>\n<text text-anchor=\"middle\" x=\"1049.25\" y=\"-509.64\" font-family=\"Times,serif\" font-size=\"14.00\">PCTBTest</text>\n<text text-anchor=\"middle\" x=\"1049.25\" y=\"-494.64\" font-family=\"Times,serif\" font-size=\"14.00\">~</text>\n<text text-anchor=\"middle\" x=\"1049.25\" y=\"-479.64\" font-family=\"Times,serif\" font-size=\"14.00\">MutableData</text>\n</g>\n<!-- PCTBTest&#45;&gt;pctbP -->\n<g id=\"edge25\" class=\"edge\">\n<title>PCTBTest&#45;&gt;pctbP</title>\n<path fill=\"none\" stroke=\"black\" d=\"M1037.3,-471.79C1030.57,-457.42 1022.07,-439.25 1014.72,-423.55\"/>\n<polygon fill=\"black\" stroke=\"black\" points=\"1017.72,-421.72 1010.31,-414.15 1011.38,-424.69 1017.72,-421.72\"/>\n</g>\n<!-- rightPerformance&#45;&gt;navP -->\n<g id=\"edge31\" class=\"edge\">\n<title>rightPerformance&#45;&gt;navP</title>\n<path fill=\"none\" stroke=\"black\" d=\"M417.73,-360.84C426.52,-346.33 437.65,-327.96 447.22,-312.15\"/>\n<polygon fill=\"black\" stroke=\"black\" points=\"450.46,-313.56 452.65,-303.19 444.47,-309.93 450.46,-313.56\"/>\n</g>\n<!-- allocentricOPTest -->\n<g id=\"node43\" class=\"node\">\n<title>allocentricOPTest</title>\n<path fill=\"lightgrey\" stroke=\"black\" d=\"M1162.75,-413.88C1162.75,-413.88 1073.75,-413.88 1073.75,-413.88 1067.75,-413.88 1061.75,-407.88 1061.75,-401.88 1061.75,-401.88 1061.75,-372.88 1061.75,-372.88 1061.75,-366.88 1067.75,-360.88 1073.75,-360.88 1073.75,-360.88 1162.75,-360.88 1162.75,-360.88 1168.75,-360.88 1174.75,-366.88 1174.75,-372.88 1174.75,-372.88 1174.75,-401.88 1174.75,-401.88 1174.75,-407.88 1168.75,-413.88 1162.75,-413.88\"/>\n<text text-anchor=\"middle\" x=\"1118.25\" y=\"-398.68\" font-family=\"Times,serif\" font-size=\"14.00\">allocentricOPTest</text>\n<text text-anchor=\"middle\" x=\"1118.25\" y=\"-383.68\" font-family=\"Times,serif\" font-size=\"14.00\">~</text>\n<text text-anchor=\"middle\" x=\"1118.25\" y=\"-368.68\" font-family=\"Times,serif\" font-size=\"14.00\">MutableData</text>\n</g>\n<!-- allocentricOPTest&#45;&gt;objPermP -->\n<g id=\"edge36\" class=\"edge\">\n<title>allocentricOPTest&#45;&gt;objPermP</title>\n<path fill=\"none\" stroke=\"black\" d=\"M1077.23,-360.84C1052.08,-345.19 1019.73,-325.04 993.12,-308.47\"/>\n<polygon fill=\"black\" stroke=\"black\" points=\"994.67,-305.32 984.33,-303 990.97,-311.26 994.67,-305.32\"/>\n</g>\n<!-- goalLeft -->\n<g id=\"node44\" class=\"node\">\n<title>goalLeft</title>\n<path fill=\"lightgrey\" stroke=\"black\" d=\"M734.25,-524.84C734.25,-524.84 670.25,-524.84 670.25,-524.84 664.25,-524.84 658.25,-518.84 658.25,-512.84 658.25,-512.84 658.25,-483.84 658.25,-483.84 658.25,-477.84 664.25,-471.84 670.25,-471.84 670.25,-471.84 734.25,-471.84 734.25,-471.84 740.25,-471.84 746.25,-477.84 746.25,-483.84 746.25,-483.84 746.25,-512.84 746.25,-512.84 746.25,-518.84 740.25,-524.84 734.25,-524.84\"/>\n<text text-anchor=\"middle\" x=\"702.25\" y=\"-509.64\" font-family=\"Times,serif\" font-size=\"14.00\">goalLeft</text>\n<text text-anchor=\"middle\" x=\"702.25\" y=\"-494.64\" font-family=\"Times,serif\" font-size=\"14.00\">~</text>\n<text text-anchor=\"middle\" x=\"702.25\" y=\"-479.64\" font-family=\"Times,serif\" font-size=\"14.00\">MutableData</text>\n</g>\n<!-- goalLeft&#45;&gt;leftPerformance -->\n<g id=\"edge15\" class=\"edge\">\n<title>goalLeft&#45;&gt;leftPerformance</title>\n<path fill=\"none\" stroke=\"black\" d=\"M693.35,-471.79C688.38,-457.55 682.12,-439.6 676.68,-423.99\"/>\n<polygon fill=\"black\" stroke=\"black\" points=\"679.84,-422.44 673.24,-414.15 673.23,-424.74 679.84,-422.44\"/>\n</g>\n<!-- goalAhead -->\n<g id=\"node45\" class=\"node\">\n<title>goalAhead</title>\n<path fill=\"lightgrey\" stroke=\"black\" d=\"M628.25,-524.84C628.25,-524.84 564.25,-524.84 564.25,-524.84 558.25,-524.84 552.25,-518.84 552.25,-512.84 552.25,-512.84 552.25,-483.84 552.25,-483.84 552.25,-477.84 558.25,-471.84 564.25,-471.84 564.25,-471.84 628.25,-471.84 628.25,-471.84 634.25,-471.84 640.25,-477.84 640.25,-483.84 640.25,-483.84 640.25,-512.84 640.25,-512.84 640.25,-518.84 634.25,-524.84 628.25,-524.84\"/>\n<text text-anchor=\"middle\" x=\"596.25\" y=\"-509.64\" font-family=\"Times,serif\" font-size=\"14.00\">goalAhead</text>\n<text text-anchor=\"middle\" x=\"596.25\" y=\"-494.64\" font-family=\"Times,serif\" font-size=\"14.00\">~</text>\n<text text-anchor=\"middle\" x=\"596.25\" y=\"-479.64\" font-family=\"Times,serif\" font-size=\"14.00\">MutableData</text>\n</g>\n<!-- goalAhead&#45;&gt;aheadPerformance -->\n<g id=\"edge13\" class=\"edge\">\n<title>goalAhead&#45;&gt;aheadPerformance</title>\n<path fill=\"none\" stroke=\"black\" d=\"M581.95,-471.79C573.83,-457.28 563.54,-438.91 554.7,-423.11\"/>\n<polygon fill=\"black\" stroke=\"black\" points=\"557.62,-421.16 549.68,-414.15 551.51,-424.58 557.62,-421.16\"/>\n</g>\n</g>\n</svg>\n",
            "text/plain": [
              "<graphviz.graphs.Digraph at 0x7c2230550310>"
            ]
          },
          "metadata": {},
          "execution_count": 10
        }
      ]
    },
    {
      "cell_type": "code",
      "source": [
        "abilitiesToShow = [\"objPermAbility\", \"visualAcuityAbility\", \"flatNavAbility\", \"lavaAbility\", \"rightAbility\", \"leftAbility\", \"aheadAbility\", \"CVChickAbility\", \"PCTBAbility\", \"lightsOutAbility\", \"noisePar\"]\n",
        "model_all, min, max = SetupModel(agent_data, uniformAbilitySlack=1, agent_type='agent_real', agent_name=\"success_Vanilla_Braitenberg_15_rays_over_60_degs_356\", agent_name_choice=\"correctChoice_Vanilla_Braitenberg_15_rays_over_60_degs_356\", sample = None)\n",
        "with model_all:\n",
        "  data_all = pm.sample(2000, target_accept=0.95)\n",
        "mu, sd  = analyzeAgentResults(\"Vanilla_Braitenberg_15_rays_over_60_degs_356\", data_all, abilitiesToShow)"
      ],
      "metadata": {
        "id": "EPXW-BKdcKU3",
        "outputId": "60ac9580-162e-4083-fe95-3ea72fde6eeb",
        "colab": {
          "base_uri": "https://localhost:8080/",
          "height": 57
        }
      },
      "execution_count": 13,
      "outputs": [
        {
          "output_type": "display_data",
          "data": {
            "text/plain": [
              "<IPython.core.display.HTML object>"
            ],
            "text/html": [
              "\n",
              "<style>\n",
              "    /* Turns off some styling */\n",
              "    progress {\n",
              "        /* gets rid of default border in Firefox and Opera. */\n",
              "        border: none;\n",
              "        /* Needs to be in here for Safari polyfill so background images work as expected. */\n",
              "        background-size: auto;\n",
              "    }\n",
              "    progress:not([value]), progress:not([value])::-webkit-progress-bar {\n",
              "        background: repeating-linear-gradient(45deg, #7e7e7e, #7e7e7e 10px, #5c5c5c 10px, #5c5c5c 20px);\n",
              "    }\n",
              "    .progress-bar-interrupted, .progress-bar-interrupted::-webkit-progress-bar {\n",
              "        background: #F44336;\n",
              "    }\n",
              "</style>\n"
            ]
          },
          "metadata": {}
        },
        {
          "output_type": "display_data",
          "data": {
            "text/plain": [
              "<IPython.core.display.HTML object>"
            ],
            "text/html": [
              "\n",
              "    <div>\n",
              "      <progress value='3000' class='' max='3000' style='width:300px; height:20px; vertical-align: middle;'></progress>\n",
              "      100.00% [3000/3000 02:56&lt;00:00 Sampling chain 0, 0 divergences]\n",
              "    </div>\n",
              "    "
            ]
          },
          "metadata": {}
        },
        {
          "output_type": "display_data",
          "data": {
            "text/plain": [
              "<IPython.core.display.HTML object>"
            ],
            "text/html": [
              "\n",
              "<style>\n",
              "    /* Turns off some styling */\n",
              "    progress {\n",
              "        /* gets rid of default border in Firefox and Opera. */\n",
              "        border: none;\n",
              "        /* Needs to be in here for Safari polyfill so background images work as expected. */\n",
              "        background-size: auto;\n",
              "    }\n",
              "    progress:not([value]), progress:not([value])::-webkit-progress-bar {\n",
              "        background: repeating-linear-gradient(45deg, #7e7e7e, #7e7e7e 10px, #5c5c5c 10px, #5c5c5c 20px);\n",
              "    }\n",
              "    .progress-bar-interrupted, .progress-bar-interrupted::-webkit-progress-bar {\n",
              "        background: #F44336;\n",
              "    }\n",
              "</style>\n"
            ]
          },
          "metadata": {}
        },
        {
          "output_type": "display_data",
          "data": {
            "text/plain": [
              "<IPython.core.display.HTML object>"
            ],
            "text/html": [
              "\n",
              "    <div>\n",
              "      <progress value='3000' class='' max='3000' style='width:300px; height:20px; vertical-align: middle;'></progress>\n",
              "      100.00% [3000/3000 03:10&lt;00:00 Sampling chain 1, 0 divergences]\n",
              "    </div>\n",
              "    "
            ]
          },
          "metadata": {}
        }
      ]
    },
    {
      "cell_type": "code",
      "source": [
        "# A function for pulling out the means and standard deviations for abilities of interest\n",
        "def analyzeAgentResults(agentName, agentData, abilitiesToShow):\n",
        "\n",
        "  #abilityMeans = [] # empty list to add in ability means to\n",
        "  #abilitySDs = []\n",
        "\n",
        "  abilityMeans = {}\n",
        "  abilitySDs = {}\n",
        "\n",
        "  for a in abilitiesToShow: #iterate through each ability, add posterior mean to dataframe, and plot posterior\n",
        "\n",
        "    posteriorMean = float(np.mean(agentData['posterior'][a])) # calculate posterior mean\n",
        "    posteriorSD = float(np.std(agentData['posterior'][a])) #calculate posterior sd\n",
        "    abilityMeans[a] = posteriorMean\n",
        "    abilitySDs[a] = posteriorSD\n",
        "    #abilityMeans.append(posteriorMean)\n",
        "    #abilitySDs.append(posteriorSD)\n",
        "\n",
        "  return abilityMeans, abilitySDs\n",
        "\n",
        "# A function for padding the testing data with 0s for prediction\n",
        "def pad(testingData, trainingDataSize):\n",
        "    return testingData.append(pd.Series(np.zeros(trainingDataSize-len(testingData), dtype=int)))\n",
        "\n",
        "# A function for making predictions based on a fitted measurement layout\n",
        "def predict(m, agentData, dfTest, agent, len_training):\n",
        "  with m:\n",
        "    # set the data for prediction\n",
        "    pm.set_data({\"lavaPresence\": pad(dfTest[\"lavaPresence\"], len_training)})\n",
        "    pm.set_data({\"lightsOutPresence\": pad(dfTest[\"lightsOutPresence\"], len_training)})\n",
        "    #pm.set_data({\"rampPresence\": pad(dfTest[\"taskCriticalRampPresence\"], len_training)})\n",
        "    pm.set_data({\"numChoices\": pad(dfTest[\"numChoices\"], len_training)})\n",
        "    pm.set_data({\"minTurnsToGoal\": pad(dfTest[\"minNumTurnsRequired\"], len_training)})\n",
        "    pm.set_data({\"goalDistance\": pad(dfTest[\"cityBlockDistanceToGoal\"], len_training)})\n",
        "    pm.set_data({\"goalSize\": pad(dfTest[\"mainGoalSize\"], len_training)})\n",
        "    pm.set_data({\"goalRight\": pad(dfTest[\"goalRightRelToStart\"], len_training)})\n",
        "    pm.set_data({\"goalAhead\": pad(dfTest[\"goalCentreRelToStart\"], len_training)})\n",
        "    pm.set_data({\"goalLeft\": pad(dfTest[\"goalLeftRelToStart\"], len_training)})\n",
        "    pm.set_data({\"CVChickTest\": pad(dfTest[\"cvchickTask\"], len_training)})\n",
        "    pm.set_data({\"PCTBTest\": pad(dfTest[\"pctbTask\"], len_training)})\n",
        "    pm.set_data({\"allocentricOPTest\": pad(dfTest[\"goalBecomesAllocentricallyOccluded\"], len_training)})\n",
        "\n",
        "    predictions=pm.sample_posterior_predictive(agentData, var_names=[\"finalP\"], return_inferencedata=False,predictions=True,extend_inferencedata=False)\n",
        "    predictionChainRuns =predictions[\"finalP\"][:,:,0:len(dfTest)]\n",
        "    predictionsInstance = np.mean(predictionChainRuns, (0,1))\n",
        "\n",
        "    return predictionsInstance,  dfTest[agent].to_numpy()\n",
        "\n",
        "\n",
        "def brierScore(preds, outs):\n",
        "    return 1/len(preds) * sum( (preds-outs)**2 )\n",
        "\n",
        "def brierDecomp(preds, outs):\n",
        "\n",
        "  brier= 1/len(preds) * sum( (preds-outs)**2 )\n",
        "  ## bin predictions\n",
        "  bins = np.linspace(0,1,11)\n",
        "  binCenters = (bins[:-1] +bins[1:]) /2\n",
        "  binPredInds = np.digitize(preds,binCenters)\n",
        "  binnedPreds = bins[binPredInds]\n",
        "\n",
        "  binTrueFreqs = np.zeros(10)\n",
        "  binPredFreqs = np.zeros(10)\n",
        "  binCounts = np.zeros(10)\n",
        "\n",
        "  for i in range(10):\n",
        "      idx = (preds >= bins[i]) & (preds < bins[i+1])\n",
        "\n",
        "      binTrueFreqs[i] = np.sum(outs[idx])/np.sum(idx) if np.sum(idx) > 0 else 0\n",
        "     # print(np.sum(outs[idx]), np.sum(idx), binTrueFreqs[i])\n",
        "      binPredFreqs[i] = np.mean(preds[idx]) if np.sum(idx) > 0 else 0\n",
        "      binCounts[i] = np.sum(idx)\n",
        "\n",
        "  calibration = np.sum(binCounts * (binTrueFreqs - binPredFreqs) ** 2) / np.sum(binCounts) if np.sum(binCounts)>0 else 0\n",
        "  refinement = np.sum(binCounts * (binTrueFreqs *(1 - binTrueFreqs))) / np.sum(binCounts) if np.sum(binCounts)> 0 else 0\n",
        "  # Compute refinement component\n",
        "  #refinement = brier - calibration\n",
        "  return brier, calibration, refinement\n",
        "\n"
      ],
      "metadata": {
        "id": "-Rm-t0AkyvM6"
      },
      "execution_count": 12,
      "outputs": []
    },
    {
      "cell_type": "markdown",
      "source": [
        "## Run Complete Measurement Layout"
      ],
      "metadata": {
        "id": "ivfCdNnU4gel"
      }
    },
    {
      "cell_type": "code",
      "source": [
        "real_agent_names = [\"Random_Walker_Fixed_Forwards_Saccade_15_Angle_10_356\",\n",
        "                   \"Random_Walker_Fixed_Forwards_Saccade_15_Angle_10_1997\",\n",
        "                   \"Random_Walker_Fixed_Forwards_Saccade_15_Angle_10_2023\",\n",
        "                   \"Random_Walker_Fixed_Forwards_Saccade_15_Angle_10_1815\",\n",
        "                   \"Random_Walker_Fixed_Forwards_Saccade_15_Angle_10_3761\",\n",
        "                   \"Random_Walker_Rayleigh_Flight_Norm_Saccade_mu_15_sig_5_Uniform_Angles_1_to_60_356\",\n",
        "                   \"Random_Walker_Rayleigh_Flight_Norm_Saccade_mu_15_sig_5_Uniform_Angles_1_to_60_1997\",\n",
        "                   \"Random_Walker_Rayleigh_Flight_Norm_Saccade_mu_15_sig_5_Uniform_Angles_1_to_60_2023\",\n",
        "                   \"Random_Walker_Rayleigh_Flight_Norm_Saccade_mu_15_sig_5_Uniform_Angles_1_to_60_1815\",\n",
        "                   \"Random_Walker_Rayleigh_Flight_Norm_Saccade_mu_15_sig_5_Uniform_Angles_1_to_60_3761\",\n",
        "                   \"Random_Walker_Levy_Flight_Cauchy_Saccade_mode_15_Uniform_Angles_1_to_60_356\",\n",
        "                   \"Random_Walker_Levy_Flight_Cauchy_Saccade_mode_15_Uniform_Angles_1_to_60_1997\",\n",
        "                   \"Random_Walker_Levy_Flight_Cauchy_Saccade_mode_15_Uniform_Angles_1_to_60_2023\",\n",
        "                   \"Random_Walker_Levy_Flight_Cauchy_Saccade_mode_15_Uniform_Angles_1_to_60_1815\",\n",
        "                   \"Random_Walker_Levy_Flight_Cauchy_Saccade_mode_15_Uniform_Angles_1_to_60_3761\",\n",
        "                   \"Random_Action_Agent_no_bias_no_correlation_uniform_step_length_max_20_356\",\n",
        "                   \"Random_Action_Agent_no_bias_no_correlation_uniform_step_length_max_20_1997\",\n",
        "                    \"Random_Action_Agent_no_bias_no_correlation_uniform_step_length_max_20_2023\",\n",
        "                    \"Random_Action_Agent_no_bias_no_correlation_uniform_step_length_max_20_1815\",\n",
        "                    \"Random_Action_Agent_no_bias_no_correlation_uniform_step_length_max_20_3761\",\n",
        "                    \"Random_Action_Agent_cephalocaudal_bias_cauchy_step_length_mode_15_356\",\n",
        "                    \"Random_Action_Agent_cephalocaudal_bias_cauchy_step_length_mode_15_1997\",\n",
        "                    \"Random_Action_Agent_cephalocaudal_bias_cauchy_step_length_mode_15_2023\",\n",
        "                    \"Random_Action_Agent_cephalocaudal_bias_cauchy_step_length_mode_15_1815\",\n",
        "                    \"Random_Action_Agent_cephalocaudal_bias_cauchy_step_length_mode_15_3761\",\n",
        "                    \"Vanilla_Braitenberg_15_rays_over_60_degs_356\",\n",
        "                    \"Vanilla_Braitenberg_15_rays_over_60_degs_1997\",\n",
        "                    \"Vanilla_Braitenberg_15_rays_over_60_degs_2023\",\n",
        "                    \"Vanilla_Braitenberg_15_rays_over_60_degs_1815\",\n",
        "                    \"Vanilla_Braitenberg_15_rays_over_60_degs_3761\"]\n",
        "\n",
        "synthetic_agent_names = [\"perfectAgent\",\n",
        "                         \"failedAgent\",\n",
        "                         \"noOPAgent\",\n",
        "                         \"lowVisualAcuityAgent\",\n",
        "                         \"poorNavigationOPAgent\",\n",
        "                         \"CVChickBasicSpecificAgent\",\n",
        "                         \"PCTBBasicSpecificAgent\"]"
      ],
      "metadata": {
        "id": "FX62CLal3lQ8"
      },
      "execution_count": null,
      "outputs": []
    },
    {
      "cell_type": "code",
      "source": [
        "synthetic_agents_training, synthetic_agents_test = train_test_split(synthetic_agents_data, test_size = 0.2)\n",
        "real_agents_training, real_agents_test = train_test_split(agent_data, test_size=0.2)\n",
        "children_training, children_test = train_test_split(children_data, test_size=0.2)\n"
      ],
      "metadata": {
        "id": "Xlfsz3f63lJC"
      },
      "execution_count": null,
      "outputs": []
    },
    {
      "cell_type": "code",
      "source": [
        "abilitiesToShow = [\"objPermAbility\", \"visualAcuityAbility\", \"flatNavAbility\", \"lavaAbility\", \"rightAbility\", \"leftAbility\", \"aheadAbility\", \"CVChickAbility\", \"PCTBAbility\", \"lightsOutAbility\", \"noisePar\"]\n",
        "\n",
        "pymc_sample_num = 2000\n",
        "\n",
        "slack = 1"
      ],
      "metadata": {
        "id": "LZ2sA86g3lGU"
      },
      "execution_count": null,
      "outputs": []
    },
    {
      "cell_type": "code",
      "source": [
        "agentName = []\n",
        "modelBrierScore = []\n",
        "aggregateBrierScore = []\n",
        "modelCalibration = []\n",
        "aggregateCalibration = []\n",
        "modelRefinement = []\n",
        "aggregateRefinement = []\n",
        "modelBetterThanAgg = []\n",
        "meanSuccess = []\n",
        "OPAbilityAllMean = []\n",
        "navAbilityAllMean = []\n",
        "visualAcuityAbilityAllMean = []\n",
        "flatNavAbilityAllMean = []\n",
        "lavaAbilityAllMean = []\n",
        "rightAbilityAllMean = []\n",
        "leftAbilityAllMean = []\n",
        "aheadAbilityAllMean = []\n",
        "CVChickAbilityAllMean = []\n",
        "PCTBAbilityAllMean = []\n",
        "lightsOutAbilityAllMean = []\n",
        "noiseParAllMean = []\n",
        "OPAbilityAllSD = []\n",
        "navAbilityAllSD = []\n",
        "visualAcuityAbilityAllSD = []\n",
        "flatNavAbilityAllSD = []\n",
        "lavaAbilityAllSD = []\n",
        "rightAbilityAllSD = []\n",
        "leftAbilityAllSD = []\n",
        "aheadAbilityAllSD = []\n",
        "CVChickAbilityAllSD = []\n",
        "PCTBAbilityAllSD = []\n",
        "lightsOutAbilityAllSD = []\n",
        "noiseParAllSD = []\n",
        "OPAbilityAllMin = []\n",
        "navAbilityAllMin = []\n",
        "visualAcuityAbilityAllMin = []\n",
        "flatNavAbilityAllMin = []\n",
        "lavaAbilityAllMin = []\n",
        "rightAbilityAllMin = []\n",
        "leftAbilityAllMin = []\n",
        "aheadAbilityAllMin = []\n",
        "CVChickAbilityAllMin = []\n",
        "PCTBAbilityAllMin = []\n",
        "lightsOutAbilityAllMin = []\n",
        "noiseParAllMin = []\n",
        "OPAbilityAllMax = []\n",
        "navAbilityAllMax = []\n",
        "visualAcuityAbilityAllMax = []\n",
        "flatNavAbilityAllMax = []\n",
        "lavaAbilityAllMax = []\n",
        "rightAbilityAllMax = []\n",
        "leftAbilityAllMax = []\n",
        "aheadAbilityAllMax = []\n",
        "CVChickAbilityAllMax = []\n",
        "PCTBAbilityAllMax = []\n",
        "lightsOutAbilityAllMax = []\n",
        "noiseParAllMax = []"
      ],
      "metadata": {
        "id": "TVZLICbM-PPp"
      },
      "execution_count": null,
      "outputs": []
    },
    {
      "cell_type": "code",
      "source": [
        "for agent in synthetic_agent_names:\n",
        "  model_train, min, max = SetupModel(synthetic_agents_training, uniformAbilitySlack=slack, agent_type='agent', agent_name=agent, sample = None)\n",
        "  with model_train:\n",
        "    data_training = pm.sample(pymc_sample_num, target_accept=0.95)\n",
        "\n",
        "  predictions, testOutputs = predict(model_train, data_training, synthetic_agents_test, agent, len(synthetic_agents_training))\n",
        "  agentBrierScore, agentCalibration, agentRefinement = brierDecomp(predictions, testOutputs)\n",
        "  agentAggBrierScore, agentAggCalibration, agentAggRefinement = brierDecomp(np.repeat(np.mean(synthetic_agents_training[agent]), len(testOutputs)), testOutputs)\n",
        "  aggregateBrierScore.append(agentAggBrierScore)\n",
        "  aggregateCalibration.append(agentAggCalibration)\n",
        "  aggregateRefinement.append(agentAggRefinement)\n",
        "  modelBrierScore.append(agentBrierScore)\n",
        "  modelCalibration.append(agentCalibration)\n",
        "  modelRefinement.append(agentRefinement)\n",
        "  if agentBrierScore < agentAggBrierScore:\n",
        "    modelBetterThanAgg.append(True)\n",
        "  else:\n",
        "    modelBetterThanAgg.append(False)\n",
        "\n",
        "  model_all, min, max = SetupModel(synthetic_agents_data, uniformAbilitySlack=slack, agent_type='agent', agent_name=agent, sample = None)\n",
        "  with model_all:\n",
        "    data_all = pm.sample(pymc_sample_num, target_accept=0.95)\n",
        "  mu, sd  = analyzeAgentResults(agent, data_all, abilitiesToShow)\n",
        "\n",
        "  OPAbilityAllMean.append(mu[\"objPermAbility\"])\n",
        "  visualAcuityAbilityAllMean.append(mu[\"visualAcuityAbility\"])\n",
        "  flatNavAbilityAllMean.append(mu[\"flatNavAbility\"])\n",
        "  lavaAbilityAllMean.append(mu[\"lavaAbility\"])\n",
        "  rightAbilityAllMean.append(mu[\"rightAbility\"])\n",
        "  leftAbilityAllMean.append(mu[\"leftAbility\"])\n",
        "  aheadAbilityAllMean.append(mu[\"aheadAbility\"])\n",
        "  CVChickAbilityAllMean.append(mu[\"CVChickAbility\"])\n",
        "  PCTBAbilityAllMean.append(mu[\"PCTBAbility\"])\n",
        "  lightsOutAbilityAllMean.append(mu[\"lightsOutAbility\"])\n",
        "  noiseParAllMean.append(mu[\"noisePar\"])\n",
        "  OPAbilityAllSD.append(sd[\"objPermAbility\"])\n",
        "  visualAcuityAbilityAllSD.append(sd[\"visualAcuityAbility\"])\n",
        "  flatNavAbilityAllSD.append(sd[\"flatNavAbility\"])\n",
        "  lavaAbilityAllSD.append(sd[\"lavaAbility\"])\n",
        "  rightAbilityAllSD.append(sd[\"rightAbility\"])\n",
        "  leftAbilityAllSD.append(sd[\"leftAbility\"])\n",
        "  aheadAbilityAllSD.append(sd[\"aheadAbility\"])\n",
        "  CVChickAbilityAllSD.append(sd[\"CVChickAbility\"])\n",
        "  PCTBAbilityAllSD.append(sd[\"PCTBAbility\"])\n",
        "  lightsOutAbilityAllSD.append(sd[\"lightsOutAbility\"])\n",
        "  noiseParAllSD.append(sd[\"noisePar\"])\n",
        "  OPAbilityAllMin.append(min[\"objPermAbility\"])\n",
        "  visualAcuityAbilityAllMin.append(min[\"visualAcuityAbility\"])\n",
        "  flatNavAbilityAllMin.append(min[\"flatNavAbility\"])\n",
        "  lavaAbilityAllMin.append(min[\"lavaAbility\"])\n",
        "  rightAbilityAllMin.append(min[\"rightAbility\"])\n",
        "  leftAbilityAllMin.append(min[\"leftAbility\"])\n",
        "  aheadAbilityAllMin.append(min[\"aheadAbility\"])\n",
        "  CVChickAbilityAllMin.append(min[\"CVChickAbility\"])\n",
        "  PCTBAbilityAllMin.append(min[\"PCTBAbility\"])\n",
        "  lightsOutAbilityAllMin.append(min[\"lightsOutAbility\"])\n",
        "  noiseParAllMin.append(0)\n",
        "  OPAbilityAllMax.append(max[\"objPermAbility\"])\n",
        "  visualAcuityAbilityAllMax.append(max[\"visualAcuityAbility\"])\n",
        "  flatNavAbilityAllMax.append(max[\"flatNavAbility\"])\n",
        "  lavaAbilityAllMax.append(max[\"lavaAbility\"])\n",
        "  rightAbilityAllMax.append(max[\"rightAbility\"])\n",
        "  leftAbilityAllMax.append(max[\"leftAbility\"])\n",
        "  aheadAbilityAllMax.append(max[\"aheadAbility\"])\n",
        "  CVChickAbilityAllMax.append(max[\"CVChickAbility\"])\n",
        "  PCTBAbilityAllMax.append(max[\"PCTBAbility\"])\n",
        "  lightsOutAbilityAllMax.append(max[\"lightsOutAbility\"])\n",
        "  noiseParAllMax.append(1)\n",
        "\n",
        "  meanSuccess.append(np.mean(synthetic_agents_data[agent]))\n",
        "  agentName.append(agent)\n",
        "\n",
        "  finalDF = pd.DataFrame({\"Agent Name\": agentName,\n",
        "                          \"Model Brier Score\":modelBrierScore,\n",
        "                          \"Aggregate Brier Scores\": aggregateBrierScore,\n",
        "                          \"Model Calibration\": modelCalibration,\n",
        "                          \"Aggregate Calibration\":aggregateCalibration,\n",
        "                          \"Model Refinement\":modelRefinement,\n",
        "                          \"Aggregate Refinement\":aggregateRefinement,\n",
        "                          \"Model Better? (Based on Brier Score)\":modelBetterThanAgg,\n",
        "                          \"Success Score\":meanSuccess,\n",
        "                          \"Object Permanence Ability Mean (All)\": OPAbilityAllMean,\n",
        "                          \"Visual Acuity Ability Mean (All)\" : visualAcuityAbilityAllMean,\n",
        "                          \"Flat Navigation Ability Mean (All)\" : flatNavAbilityAllMean,\n",
        "                          \"Lava Ability Mean (All)\" : lavaAbilityAllMean,\n",
        "                          \"Right Ability Mean (All)\" : rightAbilityAllMean,\n",
        "                          \"Left Ability Mean (All)\" : leftAbilityAllMean,\n",
        "                          \"Ahead Ability Mean (All)\" : aheadAbilityAllMean,\n",
        "                          \"CVChick Ability Mean (All)\" : CVChickAbilityAllMean,\n",
        "                          \"PCTB Ability Mean (All)\" :  PCTBAbilityAllMean,\n",
        "                          \"Lights Out Ability Mean (All)\" : lightsOutAbilityAllMean,\n",
        "                          \"Noise Parameter Mean (All)\" : noiseParAllMean,\n",
        "                          \"Object Permanence Ability SD (All)\": OPAbilityAllSD,\n",
        "                          \"Visual Acuity Ability SD (All)\" : visualAcuityAbilityAllSD,\n",
        "                          \"Flat Navigation Ability SD (All)\" : flatNavAbilityAllSD,\n",
        "                          \"Lava Ability SD (All)\" : lavaAbilityAllSD,\n",
        "                          \"Right Ability SD (All)\" : rightAbilityAllSD,\n",
        "                          \"Left Ability SD (All)\" : leftAbilityAllSD,\n",
        "                          \"Ahead Ability SD (All)\" : aheadAbilityAllSD,\n",
        "                          \"CVChick Ability SD (All)\" : CVChickAbilityAllSD,\n",
        "                          \"PCTB Ability SD (All)\" :  PCTBAbilityAllSD,\n",
        "                          \"Lights Out Ability SD (All)\" : lightsOutAbilityAllSD,\n",
        "                          \"Noise Parameter SD (All)\" : noiseParAllSD,\n",
        "                          \"Object Permanence Ability Min (All)\": OPAbilityAllMin,\n",
        "                          \"Visual Acuity Ability Min (All)\" : visualAcuityAbilityAllMin,\n",
        "                          \"Flat Navigation Ability Min (All)\" : flatNavAbilityAllMin,\n",
        "                          \"Lava Ability Min (All)\" : lavaAbilityAllMin,\n",
        "                          \"Right Ability Min (All)\" : rightAbilityAllMin,\n",
        "                          \"Left Ability Min (All)\" : leftAbilityAllMin,\n",
        "                          \"Ahead Ability Min (All)\" : aheadAbilityAllMin,\n",
        "                          \"CVChick Ability Min (All)\" : CVChickAbilityAllMin,\n",
        "                          \"PCTB Ability Min (All)\" :  PCTBAbilityAllMin,\n",
        "                          \"Lights Out Ability Min (All)\" : lightsOutAbilityAllMin,\n",
        "                          \"Noise Parameter Min (All)\" : noiseParAllMin,\n",
        "                          \"Object Permanence Ability Max (All)\": OPAbilityAllMax,\n",
        "                          \"Visual Acuity Ability Max (All)\" : visualAcuityAbilityAllMax,\n",
        "                          \"Flat Navigation Ability Max (All)\" : flatNavAbilityAllMax,\n",
        "                          \"Lava Ability Max (All)\" : lavaAbilityAllMax,\n",
        "                          \"Right Ability Max (All)\" : rightAbilityAllMax,\n",
        "                          \"Left Ability Max (All)\" : leftAbilityAllMax,\n",
        "                          \"Ahead Ability Max (All)\" : aheadAbilityAllMax,\n",
        "                          \"CVChick Ability Max (All)\" : CVChickAbilityAllMax,\n",
        "                          \"PCTB Ability Max (All)\" :  PCTBAbilityAllMax,\n",
        "                          \"Lights Out Ability Max (All)\" : lightsOutAbilityAllMax,\n",
        "                          \"Noise Parameter Max (All)\" : noiseParAllMax})\n",
        "  finalDF.to_csv(\"/content/drive/Shareddrives/comparative-object-permanence/finalResults.csv\", index = False)"
      ],
      "metadata": {
        "id": "RcYu10Z73lD1"
      },
      "execution_count": null,
      "outputs": []
    },
    {
      "cell_type": "code",
      "source": [
        "for agent in real_agent_names:\n",
        "  model_train, min, max = SetupModel(real_agents_training, uniformAbilitySlack=slack, agent_type='agent', agent_name=agent, sample = None)\n",
        "  with model_train:\n",
        "    data_training = pm.sample(pymc_sample_num, target_accept=0.95)\n",
        "\n",
        "  predictions, testOutputs = predict(model_train, data_training, real_agents_test, agent, len(real_agents_training))\n",
        "  agentBrierScore, agentCalibration, agentRefinement = brierDecomp(predictions, testOutputs)\n",
        "  agentAggBrierScore, agentAggCalibration, agentAggRefinement = brierDecomp(np.repeat(np.mean(real_agents_training[agent]), len(testOutputs)), testOutputs)\n",
        "  aggregateBrierScore.append(agentAggBrierScore)\n",
        "  aggregateCalibration.append(agentAggCalibration)\n",
        "  aggregateRefinement.append(agentAggRefinement)\n",
        "  modelBrierScore.append(agentBrierScore)\n",
        "  modelCalibration.append(agentCalibration)\n",
        "  modelRefinement.append(agentRefinement)\n",
        "  if agentBrierScore < agentAggBrierScore:\n",
        "    modelBetterThanAgg.append(True)\n",
        "  else:\n",
        "    modelBetterThanAgg.append(False)\n",
        "\n",
        "  model_all, min, max = SetupModel(agent_data, uniformAbilitySlack=slack, agent_type='agent', agent_name=agent, sample = None)\n",
        "  with model_all:\n",
        "    data_all = pm.sample(pymc_sample_num, target_accept=0.95)\n",
        "  mu, sd  = analyzeAgentResults(agent, data_all, abilitiesToShow)\n",
        "\n",
        "  OPAbilityAllMean.append(mu[\"objPermAbility\"])\n",
        "  visualAcuityAbilityAllMean.append(mu[\"visualAcuityAbility\"])\n",
        "  flatNavAbilityAllMean.append(mu[\"flatNavAbility\"])\n",
        "  lavaAbilityAllMean.append(mu[\"lavaAbility\"])\n",
        "  rightAbilityAllMean.append(mu[\"rightAbility\"])\n",
        "  leftAbilityAllMean.append(mu[\"leftAbility\"])\n",
        "  aheadAbilityAllMean.append(mu[\"aheadAbility\"])\n",
        "  CVChickAbilityAllMean.append(mu[\"CVChickAbility\"])\n",
        "  PCTBAbilityAllMean.append(mu[\"PCTBAbility\"])\n",
        "  lightsOutAbilityAllMean.append(mu[\"lightsOutAbility\"])\n",
        "  noiseParAllMean.append(mu[\"noisePar\"])\n",
        "  OPAbilityAllSD.append(sd[\"objPermAbility\"])\n",
        "  visualAcuityAbilityAllSD.append(sd[\"visualAcuityAbility\"])\n",
        "  flatNavAbilityAllSD.append(sd[\"flatNavAbility\"])\n",
        "  lavaAbilityAllSD.append(sd[\"lavaAbility\"])\n",
        "  rightAbilityAllSD.append(sd[\"rightAbility\"])\n",
        "  leftAbilityAllSD.append(sd[\"leftAbility\"])\n",
        "  aheadAbilityAllSD.append(sd[\"aheadAbility\"])\n",
        "  CVChickAbilityAllSD.append(sd[\"CVChickAbility\"])\n",
        "  PCTBAbilityAllSD.append(sd[\"PCTBAbility\"])\n",
        "  lightsOutAbilityAllSD.append(sd[\"lightsOutAbility\"])\n",
        "  noiseParAllSD.append(sd[\"noisePar\"])\n",
        "  OPAbilityAllMin.append(min[\"objPermAbility\"])\n",
        "  visualAcuityAbilityAllMin.append(min[\"visualAcuityAbility\"])\n",
        "  flatNavAbilityAllMin.append(min[\"flatNavAbility\"])\n",
        "  lavaAbilityAllMin.append(min[\"lavaAbility\"])\n",
        "  rightAbilityAllMin.append(min[\"rightAbility\"])\n",
        "  leftAbilityAllMin.append(min[\"leftAbility\"])\n",
        "  aheadAbilityAllMin.append(min[\"aheadAbility\"])\n",
        "  CVChickAbilityAllMin.append(min[\"CVChickAbility\"])\n",
        "  PCTBAbilityAllMin.append(min[\"PCTBAbility\"])\n",
        "  lightsOutAbilityAllMin.append(min[\"lightsOutAbility\"])\n",
        "  noiseParAllMin.append(0)\n",
        "  OPAbilityAllMax.append(max[\"objPermAbility\"])\n",
        "  visualAcuityAbilityAllMax.append(max[\"visualAcuityAbility\"])\n",
        "  flatNavAbilityAllMax.append(max[\"flatNavAbility\"])\n",
        "  lavaAbilityAllMax.append(max[\"lavaAbility\"])\n",
        "  rightAbilityAllMax.append(max[\"rightAbility\"])\n",
        "  leftAbilityAllMax.append(max[\"leftAbility\"])\n",
        "  aheadAbilityAllMax.append(max[\"aheadAbility\"])\n",
        "  CVChickAbilityAllMax.append(max[\"CVChickAbility\"])\n",
        "  PCTBAbilityAllMax.append(max[\"PCTBAbility\"])\n",
        "  lightsOutAbilityAllMax.append(max[\"lightsOutAbility\"])\n",
        "  noiseParAllMax.append(1)\n",
        "\n",
        "  meanSuccess.append(np.mean(agent_data[agent]))\n",
        "  agentName.append(agent)\n",
        "\n",
        "  finalDF = pd.DataFrame({\"Agent Name\": agentName,\n",
        "                          \"Model Brier Score\":modelBrierScore,\n",
        "                          \"Aggregate Brier Scores\": aggregateBrierScore,\n",
        "                          \"Model Calibration\": modelCalibration,\n",
        "                          \"Aggregate Calibration\":aggregateCalibration,\n",
        "                          \"Model Refinement\":modelRefinement,\n",
        "                          \"Aggregate Refinement\":aggregateRefinement,\n",
        "                          \"Model Better? (Based on Brier Score)\":modelBetterThanAgg,\n",
        "                          \"Success Score\":meanSuccess,\n",
        "                          \"Object Permanence Ability Mean (All)\": OPAbilityAllMean,\n",
        "                          \"Visual Acuity Ability Mean (All)\" : visualAcuityAbilityAllMean,\n",
        "                          \"Flat Navigation Ability Mean (All)\" : flatNavAbilityAllMean,\n",
        "                          \"Lava Ability Mean (All)\" : lavaAbilityAllMean,\n",
        "                          \"Right Ability Mean (All)\" : rightAbilityAllMean,\n",
        "                          \"Left Ability Mean (All)\" : leftAbilityAllMean,\n",
        "                          \"Ahead Ability Mean (All)\" : aheadAbilityAllMean,\n",
        "                          \"CVChick Ability Mean (All)\" : CVChickAbilityAllMean,\n",
        "                          \"PCTB Ability Mean (All)\" :  PCTBAbilityAllMean,\n",
        "                          \"Lights Out Ability Mean (All)\" : lightsOutAbilityAllMean,\n",
        "                          \"Noise Parameter Mean (All)\" : noiseParAllMean,\n",
        "                          \"Object Permanence Ability SD (All)\": OPAbilityAllSD,\n",
        "                          \"Visual Acuity Ability SD (All)\" : visualAcuityAbilityAllSD,\n",
        "                          \"Flat Navigation Ability SD (All)\" : flatNavAbilityAllSD,\n",
        "                          \"Lava Ability SD (All)\" : lavaAbilityAllSD,\n",
        "                          \"Right Ability SD (All)\" : rightAbilityAllSD,\n",
        "                          \"Left Ability SD (All)\" : leftAbilityAllSD,\n",
        "                          \"Ahead Ability SD (All)\" : aheadAbilityAllSD,\n",
        "                          \"CVChick Ability SD (All)\" : CVChickAbilityAllSD,\n",
        "                          \"PCTB Ability SD (All)\" :  PCTBAbilityAllSD,\n",
        "                          \"Lights Out Ability SD (All)\" : lightsOutAbilityAllSD,\n",
        "                          \"Noise Parameter SD (All)\" : noiseParAllSD,\n",
        "                          \"Object Permanence Ability Min (All)\": OPAbilityAllMin,\n",
        "                          \"Visual Acuity Ability Min (All)\" : visualAcuityAbilityAllMin,\n",
        "                          \"Flat Navigation Ability Min (All)\" : flatNavAbilityAllMin,\n",
        "                          \"Lava Ability Min (All)\" : lavaAbilityAllMin,\n",
        "                          \"Right Ability Min (All)\" : rightAbilityAllMin,\n",
        "                          \"Left Ability Min (All)\" : leftAbilityAllMin,\n",
        "                          \"Ahead Ability Min (All)\" : aheadAbilityAllMin,\n",
        "                          \"CVChick Ability Min (All)\" : CVChickAbilityAllMin,\n",
        "                          \"PCTB Ability Min (All)\" :  PCTBAbilityAllMin,\n",
        "                          \"Lights Out Ability Min (All)\" : lightsOutAbilityAllMin,\n",
        "                          \"Noise Parameter Min (All)\" : noiseParAllMin,\n",
        "                          \"Object Permanence Ability Max (All)\": OPAbilityAllMax,\n",
        "                          \"Visual Acuity Ability Max (All)\" : visualAcuityAbilityAllMax,\n",
        "                          \"Flat Navigation Ability Max (All)\" : flatNavAbilityAllMax,\n",
        "                          \"Lava Ability Max (All)\" : lavaAbilityAllMax,\n",
        "                          \"Right Ability Max (All)\" : rightAbilityAllMax,\n",
        "                          \"Left Ability Max (All)\" : leftAbilityAllMax,\n",
        "                          \"Ahead Ability Max (All)\" : aheadAbilityAllMax,\n",
        "                          \"CVChick Ability Max (All)\" : CVChickAbilityAllMax,\n",
        "                          \"PCTB Ability Max (All)\" :  PCTBAbilityAllMax,\n",
        "                          \"Lights Out Ability Max (All)\" : lightsOutAbilityAllMax,\n",
        "                          \"Noise Parameter Max (All)\" : noiseParAllMax})\n",
        "  finalDF.to_csv(\"/content/drive/Shareddrives/comparative-object-permanence/finalResults.csv\", index = False)"
      ],
      "metadata": {
        "id": "UMRh6EsaaYJY",
        "outputId": "f68d9aec-ca80-4a44-a47c-66411d23a2ad",
        "colab": {
          "base_uri": "https://localhost:8080/",
          "height": 1000
        }
      },
      "execution_count": null,
      "outputs": [
        {
          "output_type": "display_data",
          "data": {
            "text/plain": [
              "<IPython.core.display.HTML object>"
            ],
            "text/html": [
              "\n",
              "<style>\n",
              "    /* Turns off some styling */\n",
              "    progress {\n",
              "        /* gets rid of default border in Firefox and Opera. */\n",
              "        border: none;\n",
              "        /* Needs to be in here for Safari polyfill so background images work as expected. */\n",
              "        background-size: auto;\n",
              "    }\n",
              "    progress:not([value]), progress:not([value])::-webkit-progress-bar {\n",
              "        background: repeating-linear-gradient(45deg, #7e7e7e, #7e7e7e 10px, #5c5c5c 10px, #5c5c5c 20px);\n",
              "    }\n",
              "    .progress-bar-interrupted, .progress-bar-interrupted::-webkit-progress-bar {\n",
              "        background: #F44336;\n",
              "    }\n",
              "</style>\n"
            ]
          },
          "metadata": {}
        },
        {
          "output_type": "display_data",
          "data": {
            "text/plain": [
              "<IPython.core.display.HTML object>"
            ],
            "text/html": [
              "\n",
              "    <div>\n",
              "      <progress value='3000' class='' max='3000' style='width:300px; height:20px; vertical-align: middle;'></progress>\n",
              "      100.00% [3000/3000 02:09&lt;00:00 Sampling chain 0, 0 divergences]\n",
              "    </div>\n",
              "    "
            ]
          },
          "metadata": {}
        },
        {
          "output_type": "display_data",
          "data": {
            "text/plain": [
              "<IPython.core.display.HTML object>"
            ],
            "text/html": [
              "\n",
              "<style>\n",
              "    /* Turns off some styling */\n",
              "    progress {\n",
              "        /* gets rid of default border in Firefox and Opera. */\n",
              "        border: none;\n",
              "        /* Needs to be in here for Safari polyfill so background images work as expected. */\n",
              "        background-size: auto;\n",
              "    }\n",
              "    progress:not([value]), progress:not([value])::-webkit-progress-bar {\n",
              "        background: repeating-linear-gradient(45deg, #7e7e7e, #7e7e7e 10px, #5c5c5c 10px, #5c5c5c 20px);\n",
              "    }\n",
              "    .progress-bar-interrupted, .progress-bar-interrupted::-webkit-progress-bar {\n",
              "        background: #F44336;\n",
              "    }\n",
              "</style>\n"
            ]
          },
          "metadata": {}
        },
        {
          "output_type": "display_data",
          "data": {
            "text/plain": [
              "<IPython.core.display.HTML object>"
            ],
            "text/html": [
              "\n",
              "    <div>\n",
              "      <progress value='3000' class='' max='3000' style='width:300px; height:20px; vertical-align: middle;'></progress>\n",
              "      100.00% [3000/3000 02:09&lt;00:00 Sampling chain 1, 0 divergences]\n",
              "    </div>\n",
              "    "
            ]
          },
          "metadata": {}
        },
        {
          "output_type": "stream",
          "name": "stderr",
          "text": [
            "<ipython-input-8-175c2f4f91ba>:23: FutureWarning: The series.append method is deprecated and will be removed from pandas in a future version. Use pandas.concat instead.\n",
            "  return testingData.append(pd.Series(np.zeros(trainingDataSize-len(testingData), dtype=int)))\n",
            "<ipython-input-8-175c2f4f91ba>:23: FutureWarning: The series.append method is deprecated and will be removed from pandas in a future version. Use pandas.concat instead.\n",
            "  return testingData.append(pd.Series(np.zeros(trainingDataSize-len(testingData), dtype=int)))\n",
            "<ipython-input-8-175c2f4f91ba>:23: FutureWarning: The series.append method is deprecated and will be removed from pandas in a future version. Use pandas.concat instead.\n",
            "  return testingData.append(pd.Series(np.zeros(trainingDataSize-len(testingData), dtype=int)))\n",
            "<ipython-input-8-175c2f4f91ba>:23: FutureWarning: The series.append method is deprecated and will be removed from pandas in a future version. Use pandas.concat instead.\n",
            "  return testingData.append(pd.Series(np.zeros(trainingDataSize-len(testingData), dtype=int)))\n",
            "<ipython-input-8-175c2f4f91ba>:23: FutureWarning: The series.append method is deprecated and will be removed from pandas in a future version. Use pandas.concat instead.\n",
            "  return testingData.append(pd.Series(np.zeros(trainingDataSize-len(testingData), dtype=int)))\n",
            "<ipython-input-8-175c2f4f91ba>:23: FutureWarning: The series.append method is deprecated and will be removed from pandas in a future version. Use pandas.concat instead.\n",
            "  return testingData.append(pd.Series(np.zeros(trainingDataSize-len(testingData), dtype=int)))\n",
            "<ipython-input-8-175c2f4f91ba>:23: FutureWarning: The series.append method is deprecated and will be removed from pandas in a future version. Use pandas.concat instead.\n",
            "  return testingData.append(pd.Series(np.zeros(trainingDataSize-len(testingData), dtype=int)))\n",
            "<ipython-input-8-175c2f4f91ba>:23: FutureWarning: The series.append method is deprecated and will be removed from pandas in a future version. Use pandas.concat instead.\n",
            "  return testingData.append(pd.Series(np.zeros(trainingDataSize-len(testingData), dtype=int)))\n",
            "<ipython-input-8-175c2f4f91ba>:23: FutureWarning: The series.append method is deprecated and will be removed from pandas in a future version. Use pandas.concat instead.\n",
            "  return testingData.append(pd.Series(np.zeros(trainingDataSize-len(testingData), dtype=int)))\n",
            "<ipython-input-8-175c2f4f91ba>:23: FutureWarning: The series.append method is deprecated and will be removed from pandas in a future version. Use pandas.concat instead.\n",
            "  return testingData.append(pd.Series(np.zeros(trainingDataSize-len(testingData), dtype=int)))\n",
            "<ipython-input-8-175c2f4f91ba>:23: FutureWarning: The series.append method is deprecated and will be removed from pandas in a future version. Use pandas.concat instead.\n",
            "  return testingData.append(pd.Series(np.zeros(trainingDataSize-len(testingData), dtype=int)))\n",
            "<ipython-input-8-175c2f4f91ba>:23: FutureWarning: The series.append method is deprecated and will be removed from pandas in a future version. Use pandas.concat instead.\n",
            "  return testingData.append(pd.Series(np.zeros(trainingDataSize-len(testingData), dtype=int)))\n"
          ]
        },
        {
          "output_type": "display_data",
          "data": {
            "text/plain": [
              "<IPython.core.display.HTML object>"
            ],
            "text/html": [
              "\n",
              "<style>\n",
              "    /* Turns off some styling */\n",
              "    progress {\n",
              "        /* gets rid of default border in Firefox and Opera. */\n",
              "        border: none;\n",
              "        /* Needs to be in here for Safari polyfill so background images work as expected. */\n",
              "        background-size: auto;\n",
              "    }\n",
              "    progress:not([value]), progress:not([value])::-webkit-progress-bar {\n",
              "        background: repeating-linear-gradient(45deg, #7e7e7e, #7e7e7e 10px, #5c5c5c 10px, #5c5c5c 20px);\n",
              "    }\n",
              "    .progress-bar-interrupted, .progress-bar-interrupted::-webkit-progress-bar {\n",
              "        background: #F44336;\n",
              "    }\n",
              "</style>\n"
            ]
          },
          "metadata": {}
        },
        {
          "output_type": "display_data",
          "data": {
            "text/plain": [
              "<IPython.core.display.HTML object>"
            ],
            "text/html": [
              "\n",
              "    <div>\n",
              "      <progress value='4000' class='' max='4000' style='width:300px; height:20px; vertical-align: middle;'></progress>\n",
              "      100.00% [4000/4000 00:02&lt;00:00]\n",
              "    </div>\n",
              "    "
            ]
          },
          "metadata": {}
        },
        {
          "output_type": "display_data",
          "data": {
            "text/plain": [
              "<IPython.core.display.HTML object>"
            ],
            "text/html": [
              "\n",
              "<style>\n",
              "    /* Turns off some styling */\n",
              "    progress {\n",
              "        /* gets rid of default border in Firefox and Opera. */\n",
              "        border: none;\n",
              "        /* Needs to be in here for Safari polyfill so background images work as expected. */\n",
              "        background-size: auto;\n",
              "    }\n",
              "    progress:not([value]), progress:not([value])::-webkit-progress-bar {\n",
              "        background: repeating-linear-gradient(45deg, #7e7e7e, #7e7e7e 10px, #5c5c5c 10px, #5c5c5c 20px);\n",
              "    }\n",
              "    .progress-bar-interrupted, .progress-bar-interrupted::-webkit-progress-bar {\n",
              "        background: #F44336;\n",
              "    }\n",
              "</style>\n"
            ]
          },
          "metadata": {}
        },
        {
          "output_type": "display_data",
          "data": {
            "text/plain": [
              "<IPython.core.display.HTML object>"
            ],
            "text/html": [
              "\n",
              "    <div>\n",
              "      <progress value='3000' class='' max='3000' style='width:300px; height:20px; vertical-align: middle;'></progress>\n",
              "      100.00% [3000/3000 02:33&lt;00:00 Sampling chain 0, 0 divergences]\n",
              "    </div>\n",
              "    "
            ]
          },
          "metadata": {}
        },
        {
          "output_type": "display_data",
          "data": {
            "text/plain": [
              "<IPython.core.display.HTML object>"
            ],
            "text/html": [
              "\n",
              "<style>\n",
              "    /* Turns off some styling */\n",
              "    progress {\n",
              "        /* gets rid of default border in Firefox and Opera. */\n",
              "        border: none;\n",
              "        /* Needs to be in here for Safari polyfill so background images work as expected. */\n",
              "        background-size: auto;\n",
              "    }\n",
              "    progress:not([value]), progress:not([value])::-webkit-progress-bar {\n",
              "        background: repeating-linear-gradient(45deg, #7e7e7e, #7e7e7e 10px, #5c5c5c 10px, #5c5c5c 20px);\n",
              "    }\n",
              "    .progress-bar-interrupted, .progress-bar-interrupted::-webkit-progress-bar {\n",
              "        background: #F44336;\n",
              "    }\n",
              "</style>\n"
            ]
          },
          "metadata": {}
        },
        {
          "output_type": "display_data",
          "data": {
            "text/plain": [
              "<IPython.core.display.HTML object>"
            ],
            "text/html": [
              "\n",
              "    <div>\n",
              "      <progress value='3000' class='' max='3000' style='width:300px; height:20px; vertical-align: middle;'></progress>\n",
              "      100.00% [3000/3000 02:37&lt;00:00 Sampling chain 1, 0 divergences]\n",
              "    </div>\n",
              "    "
            ]
          },
          "metadata": {}
        },
        {
          "output_type": "display_data",
          "data": {
            "text/plain": [
              "<IPython.core.display.HTML object>"
            ],
            "text/html": [
              "\n",
              "<style>\n",
              "    /* Turns off some styling */\n",
              "    progress {\n",
              "        /* gets rid of default border in Firefox and Opera. */\n",
              "        border: none;\n",
              "        /* Needs to be in here for Safari polyfill so background images work as expected. */\n",
              "        background-size: auto;\n",
              "    }\n",
              "    progress:not([value]), progress:not([value])::-webkit-progress-bar {\n",
              "        background: repeating-linear-gradient(45deg, #7e7e7e, #7e7e7e 10px, #5c5c5c 10px, #5c5c5c 20px);\n",
              "    }\n",
              "    .progress-bar-interrupted, .progress-bar-interrupted::-webkit-progress-bar {\n",
              "        background: #F44336;\n",
              "    }\n",
              "</style>\n"
            ]
          },
          "metadata": {}
        },
        {
          "output_type": "display_data",
          "data": {
            "text/plain": [
              "<IPython.core.display.HTML object>"
            ],
            "text/html": [
              "\n",
              "    <div>\n",
              "      <progress value='3000' class='' max='3000' style='width:300px; height:20px; vertical-align: middle;'></progress>\n",
              "      100.00% [3000/3000 02:00&lt;00:00 Sampling chain 0, 0 divergences]\n",
              "    </div>\n",
              "    "
            ]
          },
          "metadata": {}
        },
        {
          "output_type": "display_data",
          "data": {
            "text/plain": [
              "<IPython.core.display.HTML object>"
            ],
            "text/html": [
              "\n",
              "<style>\n",
              "    /* Turns off some styling */\n",
              "    progress {\n",
              "        /* gets rid of default border in Firefox and Opera. */\n",
              "        border: none;\n",
              "        /* Needs to be in here for Safari polyfill so background images work as expected. */\n",
              "        background-size: auto;\n",
              "    }\n",
              "    progress:not([value]), progress:not([value])::-webkit-progress-bar {\n",
              "        background: repeating-linear-gradient(45deg, #7e7e7e, #7e7e7e 10px, #5c5c5c 10px, #5c5c5c 20px);\n",
              "    }\n",
              "    .progress-bar-interrupted, .progress-bar-interrupted::-webkit-progress-bar {\n",
              "        background: #F44336;\n",
              "    }\n",
              "</style>\n"
            ]
          },
          "metadata": {}
        },
        {
          "output_type": "display_data",
          "data": {
            "text/plain": [
              "<IPython.core.display.HTML object>"
            ],
            "text/html": [
              "\n",
              "    <div>\n",
              "      <progress value='3000' class='' max='3000' style='width:300px; height:20px; vertical-align: middle;'></progress>\n",
              "      100.00% [3000/3000 02:17&lt;00:00 Sampling chain 1, 0 divergences]\n",
              "    </div>\n",
              "    "
            ]
          },
          "metadata": {}
        },
        {
          "output_type": "stream",
          "name": "stderr",
          "text": [
            "<ipython-input-8-175c2f4f91ba>:23: FutureWarning: The series.append method is deprecated and will be removed from pandas in a future version. Use pandas.concat instead.\n",
            "  return testingData.append(pd.Series(np.zeros(trainingDataSize-len(testingData), dtype=int)))\n",
            "<ipython-input-8-175c2f4f91ba>:23: FutureWarning: The series.append method is deprecated and will be removed from pandas in a future version. Use pandas.concat instead.\n",
            "  return testingData.append(pd.Series(np.zeros(trainingDataSize-len(testingData), dtype=int)))\n",
            "<ipython-input-8-175c2f4f91ba>:23: FutureWarning: The series.append method is deprecated and will be removed from pandas in a future version. Use pandas.concat instead.\n",
            "  return testingData.append(pd.Series(np.zeros(trainingDataSize-len(testingData), dtype=int)))\n",
            "<ipython-input-8-175c2f4f91ba>:23: FutureWarning: The series.append method is deprecated and will be removed from pandas in a future version. Use pandas.concat instead.\n",
            "  return testingData.append(pd.Series(np.zeros(trainingDataSize-len(testingData), dtype=int)))\n",
            "<ipython-input-8-175c2f4f91ba>:23: FutureWarning: The series.append method is deprecated and will be removed from pandas in a future version. Use pandas.concat instead.\n",
            "  return testingData.append(pd.Series(np.zeros(trainingDataSize-len(testingData), dtype=int)))\n",
            "<ipython-input-8-175c2f4f91ba>:23: FutureWarning: The series.append method is deprecated and will be removed from pandas in a future version. Use pandas.concat instead.\n",
            "  return testingData.append(pd.Series(np.zeros(trainingDataSize-len(testingData), dtype=int)))\n",
            "<ipython-input-8-175c2f4f91ba>:23: FutureWarning: The series.append method is deprecated and will be removed from pandas in a future version. Use pandas.concat instead.\n",
            "  return testingData.append(pd.Series(np.zeros(trainingDataSize-len(testingData), dtype=int)))\n",
            "<ipython-input-8-175c2f4f91ba>:23: FutureWarning: The series.append method is deprecated and will be removed from pandas in a future version. Use pandas.concat instead.\n",
            "  return testingData.append(pd.Series(np.zeros(trainingDataSize-len(testingData), dtype=int)))\n",
            "<ipython-input-8-175c2f4f91ba>:23: FutureWarning: The series.append method is deprecated and will be removed from pandas in a future version. Use pandas.concat instead.\n",
            "  return testingData.append(pd.Series(np.zeros(trainingDataSize-len(testingData), dtype=int)))\n",
            "<ipython-input-8-175c2f4f91ba>:23: FutureWarning: The series.append method is deprecated and will be removed from pandas in a future version. Use pandas.concat instead.\n",
            "  return testingData.append(pd.Series(np.zeros(trainingDataSize-len(testingData), dtype=int)))\n",
            "<ipython-input-8-175c2f4f91ba>:23: FutureWarning: The series.append method is deprecated and will be removed from pandas in a future version. Use pandas.concat instead.\n",
            "  return testingData.append(pd.Series(np.zeros(trainingDataSize-len(testingData), dtype=int)))\n",
            "<ipython-input-8-175c2f4f91ba>:23: FutureWarning: The series.append method is deprecated and will be removed from pandas in a future version. Use pandas.concat instead.\n",
            "  return testingData.append(pd.Series(np.zeros(trainingDataSize-len(testingData), dtype=int)))\n"
          ]
        },
        {
          "output_type": "display_data",
          "data": {
            "text/plain": [
              "<IPython.core.display.HTML object>"
            ],
            "text/html": [
              "\n",
              "<style>\n",
              "    /* Turns off some styling */\n",
              "    progress {\n",
              "        /* gets rid of default border in Firefox and Opera. */\n",
              "        border: none;\n",
              "        /* Needs to be in here for Safari polyfill so background images work as expected. */\n",
              "        background-size: auto;\n",
              "    }\n",
              "    progress:not([value]), progress:not([value])::-webkit-progress-bar {\n",
              "        background: repeating-linear-gradient(45deg, #7e7e7e, #7e7e7e 10px, #5c5c5c 10px, #5c5c5c 20px);\n",
              "    }\n",
              "    .progress-bar-interrupted, .progress-bar-interrupted::-webkit-progress-bar {\n",
              "        background: #F44336;\n",
              "    }\n",
              "</style>\n"
            ]
          },
          "metadata": {}
        },
        {
          "output_type": "display_data",
          "data": {
            "text/plain": [
              "<IPython.core.display.HTML object>"
            ],
            "text/html": [
              "\n",
              "    <div>\n",
              "      <progress value='4000' class='' max='4000' style='width:300px; height:20px; vertical-align: middle;'></progress>\n",
              "      100.00% [4000/4000 00:02&lt;00:00]\n",
              "    </div>\n",
              "    "
            ]
          },
          "metadata": {}
        },
        {
          "output_type": "display_data",
          "data": {
            "text/plain": [
              "<IPython.core.display.HTML object>"
            ],
            "text/html": [
              "\n",
              "<style>\n",
              "    /* Turns off some styling */\n",
              "    progress {\n",
              "        /* gets rid of default border in Firefox and Opera. */\n",
              "        border: none;\n",
              "        /* Needs to be in here for Safari polyfill so background images work as expected. */\n",
              "        background-size: auto;\n",
              "    }\n",
              "    progress:not([value]), progress:not([value])::-webkit-progress-bar {\n",
              "        background: repeating-linear-gradient(45deg, #7e7e7e, #7e7e7e 10px, #5c5c5c 10px, #5c5c5c 20px);\n",
              "    }\n",
              "    .progress-bar-interrupted, .progress-bar-interrupted::-webkit-progress-bar {\n",
              "        background: #F44336;\n",
              "    }\n",
              "</style>\n"
            ]
          },
          "metadata": {}
        },
        {
          "output_type": "display_data",
          "data": {
            "text/plain": [
              "<IPython.core.display.HTML object>"
            ],
            "text/html": [
              "\n",
              "    <div>\n",
              "      <progress value='3000' class='' max='3000' style='width:300px; height:20px; vertical-align: middle;'></progress>\n",
              "      100.00% [3000/3000 02:32&lt;00:00 Sampling chain 0, 0 divergences]\n",
              "    </div>\n",
              "    "
            ]
          },
          "metadata": {}
        },
        {
          "output_type": "display_data",
          "data": {
            "text/plain": [
              "<IPython.core.display.HTML object>"
            ],
            "text/html": [
              "\n",
              "<style>\n",
              "    /* Turns off some styling */\n",
              "    progress {\n",
              "        /* gets rid of default border in Firefox and Opera. */\n",
              "        border: none;\n",
              "        /* Needs to be in here for Safari polyfill so background images work as expected. */\n",
              "        background-size: auto;\n",
              "    }\n",
              "    progress:not([value]), progress:not([value])::-webkit-progress-bar {\n",
              "        background: repeating-linear-gradient(45deg, #7e7e7e, #7e7e7e 10px, #5c5c5c 10px, #5c5c5c 20px);\n",
              "    }\n",
              "    .progress-bar-interrupted, .progress-bar-interrupted::-webkit-progress-bar {\n",
              "        background: #F44336;\n",
              "    }\n",
              "</style>\n"
            ]
          },
          "metadata": {}
        },
        {
          "output_type": "display_data",
          "data": {
            "text/plain": [
              "<IPython.core.display.HTML object>"
            ],
            "text/html": [
              "\n",
              "    <div>\n",
              "      <progress value='3000' class='' max='3000' style='width:300px; height:20px; vertical-align: middle;'></progress>\n",
              "      100.00% [3000/3000 02:18&lt;00:00 Sampling chain 1, 0 divergences]\n",
              "    </div>\n",
              "    "
            ]
          },
          "metadata": {}
        },
        {
          "output_type": "display_data",
          "data": {
            "text/plain": [
              "<IPython.core.display.HTML object>"
            ],
            "text/html": [
              "\n",
              "<style>\n",
              "    /* Turns off some styling */\n",
              "    progress {\n",
              "        /* gets rid of default border in Firefox and Opera. */\n",
              "        border: none;\n",
              "        /* Needs to be in here for Safari polyfill so background images work as expected. */\n",
              "        background-size: auto;\n",
              "    }\n",
              "    progress:not([value]), progress:not([value])::-webkit-progress-bar {\n",
              "        background: repeating-linear-gradient(45deg, #7e7e7e, #7e7e7e 10px, #5c5c5c 10px, #5c5c5c 20px);\n",
              "    }\n",
              "    .progress-bar-interrupted, .progress-bar-interrupted::-webkit-progress-bar {\n",
              "        background: #F44336;\n",
              "    }\n",
              "</style>\n"
            ]
          },
          "metadata": {}
        },
        {
          "output_type": "display_data",
          "data": {
            "text/plain": [
              "<IPython.core.display.HTML object>"
            ],
            "text/html": [
              "\n",
              "    <div>\n",
              "      <progress value='3000' class='' max='3000' style='width:300px; height:20px; vertical-align: middle;'></progress>\n",
              "      100.00% [3000/3000 02:03&lt;00:00 Sampling chain 0, 0 divergences]\n",
              "    </div>\n",
              "    "
            ]
          },
          "metadata": {}
        },
        {
          "output_type": "display_data",
          "data": {
            "text/plain": [
              "<IPython.core.display.HTML object>"
            ],
            "text/html": [
              "\n",
              "<style>\n",
              "    /* Turns off some styling */\n",
              "    progress {\n",
              "        /* gets rid of default border in Firefox and Opera. */\n",
              "        border: none;\n",
              "        /* Needs to be in here for Safari polyfill so background images work as expected. */\n",
              "        background-size: auto;\n",
              "    }\n",
              "    progress:not([value]), progress:not([value])::-webkit-progress-bar {\n",
              "        background: repeating-linear-gradient(45deg, #7e7e7e, #7e7e7e 10px, #5c5c5c 10px, #5c5c5c 20px);\n",
              "    }\n",
              "    .progress-bar-interrupted, .progress-bar-interrupted::-webkit-progress-bar {\n",
              "        background: #F44336;\n",
              "    }\n",
              "</style>\n"
            ]
          },
          "metadata": {}
        },
        {
          "output_type": "display_data",
          "data": {
            "text/plain": [
              "<IPython.core.display.HTML object>"
            ],
            "text/html": [
              "\n",
              "    <div>\n",
              "      <progress value='3000' class='' max='3000' style='width:300px; height:20px; vertical-align: middle;'></progress>\n",
              "      100.00% [3000/3000 02:01&lt;00:00 Sampling chain 1, 0 divergences]\n",
              "    </div>\n",
              "    "
            ]
          },
          "metadata": {}
        },
        {
          "output_type": "stream",
          "name": "stderr",
          "text": [
            "<ipython-input-8-175c2f4f91ba>:23: FutureWarning: The series.append method is deprecated and will be removed from pandas in a future version. Use pandas.concat instead.\n",
            "  return testingData.append(pd.Series(np.zeros(trainingDataSize-len(testingData), dtype=int)))\n",
            "<ipython-input-8-175c2f4f91ba>:23: FutureWarning: The series.append method is deprecated and will be removed from pandas in a future version. Use pandas.concat instead.\n",
            "  return testingData.append(pd.Series(np.zeros(trainingDataSize-len(testingData), dtype=int)))\n",
            "<ipython-input-8-175c2f4f91ba>:23: FutureWarning: The series.append method is deprecated and will be removed from pandas in a future version. Use pandas.concat instead.\n",
            "  return testingData.append(pd.Series(np.zeros(trainingDataSize-len(testingData), dtype=int)))\n",
            "<ipython-input-8-175c2f4f91ba>:23: FutureWarning: The series.append method is deprecated and will be removed from pandas in a future version. Use pandas.concat instead.\n",
            "  return testingData.append(pd.Series(np.zeros(trainingDataSize-len(testingData), dtype=int)))\n",
            "<ipython-input-8-175c2f4f91ba>:23: FutureWarning: The series.append method is deprecated and will be removed from pandas in a future version. Use pandas.concat instead.\n",
            "  return testingData.append(pd.Series(np.zeros(trainingDataSize-len(testingData), dtype=int)))\n",
            "<ipython-input-8-175c2f4f91ba>:23: FutureWarning: The series.append method is deprecated and will be removed from pandas in a future version. Use pandas.concat instead.\n",
            "  return testingData.append(pd.Series(np.zeros(trainingDataSize-len(testingData), dtype=int)))\n",
            "<ipython-input-8-175c2f4f91ba>:23: FutureWarning: The series.append method is deprecated and will be removed from pandas in a future version. Use pandas.concat instead.\n",
            "  return testingData.append(pd.Series(np.zeros(trainingDataSize-len(testingData), dtype=int)))\n",
            "<ipython-input-8-175c2f4f91ba>:23: FutureWarning: The series.append method is deprecated and will be removed from pandas in a future version. Use pandas.concat instead.\n",
            "  return testingData.append(pd.Series(np.zeros(trainingDataSize-len(testingData), dtype=int)))\n",
            "<ipython-input-8-175c2f4f91ba>:23: FutureWarning: The series.append method is deprecated and will be removed from pandas in a future version. Use pandas.concat instead.\n",
            "  return testingData.append(pd.Series(np.zeros(trainingDataSize-len(testingData), dtype=int)))\n",
            "<ipython-input-8-175c2f4f91ba>:23: FutureWarning: The series.append method is deprecated and will be removed from pandas in a future version. Use pandas.concat instead.\n",
            "  return testingData.append(pd.Series(np.zeros(trainingDataSize-len(testingData), dtype=int)))\n",
            "<ipython-input-8-175c2f4f91ba>:23: FutureWarning: The series.append method is deprecated and will be removed from pandas in a future version. Use pandas.concat instead.\n",
            "  return testingData.append(pd.Series(np.zeros(trainingDataSize-len(testingData), dtype=int)))\n",
            "<ipython-input-8-175c2f4f91ba>:23: FutureWarning: The series.append method is deprecated and will be removed from pandas in a future version. Use pandas.concat instead.\n",
            "  return testingData.append(pd.Series(np.zeros(trainingDataSize-len(testingData), dtype=int)))\n"
          ]
        },
        {
          "output_type": "display_data",
          "data": {
            "text/plain": [
              "<IPython.core.display.HTML object>"
            ],
            "text/html": [
              "\n",
              "<style>\n",
              "    /* Turns off some styling */\n",
              "    progress {\n",
              "        /* gets rid of default border in Firefox and Opera. */\n",
              "        border: none;\n",
              "        /* Needs to be in here for Safari polyfill so background images work as expected. */\n",
              "        background-size: auto;\n",
              "    }\n",
              "    progress:not([value]), progress:not([value])::-webkit-progress-bar {\n",
              "        background: repeating-linear-gradient(45deg, #7e7e7e, #7e7e7e 10px, #5c5c5c 10px, #5c5c5c 20px);\n",
              "    }\n",
              "    .progress-bar-interrupted, .progress-bar-interrupted::-webkit-progress-bar {\n",
              "        background: #F44336;\n",
              "    }\n",
              "</style>\n"
            ]
          },
          "metadata": {}
        },
        {
          "output_type": "display_data",
          "data": {
            "text/plain": [
              "<IPython.core.display.HTML object>"
            ],
            "text/html": [
              "\n",
              "    <div>\n",
              "      <progress value='4000' class='' max='4000' style='width:300px; height:20px; vertical-align: middle;'></progress>\n",
              "      100.00% [4000/4000 00:02&lt;00:00]\n",
              "    </div>\n",
              "    "
            ]
          },
          "metadata": {}
        },
        {
          "output_type": "display_data",
          "data": {
            "text/plain": [
              "<IPython.core.display.HTML object>"
            ],
            "text/html": [
              "\n",
              "<style>\n",
              "    /* Turns off some styling */\n",
              "    progress {\n",
              "        /* gets rid of default border in Firefox and Opera. */\n",
              "        border: none;\n",
              "        /* Needs to be in here for Safari polyfill so background images work as expected. */\n",
              "        background-size: auto;\n",
              "    }\n",
              "    progress:not([value]), progress:not([value])::-webkit-progress-bar {\n",
              "        background: repeating-linear-gradient(45deg, #7e7e7e, #7e7e7e 10px, #5c5c5c 10px, #5c5c5c 20px);\n",
              "    }\n",
              "    .progress-bar-interrupted, .progress-bar-interrupted::-webkit-progress-bar {\n",
              "        background: #F44336;\n",
              "    }\n",
              "</style>\n"
            ]
          },
          "metadata": {}
        },
        {
          "output_type": "display_data",
          "data": {
            "text/plain": [
              "<IPython.core.display.HTML object>"
            ],
            "text/html": [
              "\n",
              "    <div>\n",
              "      <progress value='3000' class='' max='3000' style='width:300px; height:20px; vertical-align: middle;'></progress>\n",
              "      100.00% [3000/3000 02:25&lt;00:00 Sampling chain 0, 0 divergences]\n",
              "    </div>\n",
              "    "
            ]
          },
          "metadata": {}
        },
        {
          "output_type": "display_data",
          "data": {
            "text/plain": [
              "<IPython.core.display.HTML object>"
            ],
            "text/html": [
              "\n",
              "<style>\n",
              "    /* Turns off some styling */\n",
              "    progress {\n",
              "        /* gets rid of default border in Firefox and Opera. */\n",
              "        border: none;\n",
              "        /* Needs to be in here for Safari polyfill so background images work as expected. */\n",
              "        background-size: auto;\n",
              "    }\n",
              "    progress:not([value]), progress:not([value])::-webkit-progress-bar {\n",
              "        background: repeating-linear-gradient(45deg, #7e7e7e, #7e7e7e 10px, #5c5c5c 10px, #5c5c5c 20px);\n",
              "    }\n",
              "    .progress-bar-interrupted, .progress-bar-interrupted::-webkit-progress-bar {\n",
              "        background: #F44336;\n",
              "    }\n",
              "</style>\n"
            ]
          },
          "metadata": {}
        },
        {
          "output_type": "display_data",
          "data": {
            "text/plain": [
              "<IPython.core.display.HTML object>"
            ],
            "text/html": [
              "\n",
              "    <div>\n",
              "      <progress value='3000' class='' max='3000' style='width:300px; height:20px; vertical-align: middle;'></progress>\n",
              "      100.00% [3000/3000 02:31&lt;00:00 Sampling chain 1, 0 divergences]\n",
              "    </div>\n",
              "    "
            ]
          },
          "metadata": {}
        },
        {
          "output_type": "display_data",
          "data": {
            "text/plain": [
              "<IPython.core.display.HTML object>"
            ],
            "text/html": [
              "\n",
              "<style>\n",
              "    /* Turns off some styling */\n",
              "    progress {\n",
              "        /* gets rid of default border in Firefox and Opera. */\n",
              "        border: none;\n",
              "        /* Needs to be in here for Safari polyfill so background images work as expected. */\n",
              "        background-size: auto;\n",
              "    }\n",
              "    progress:not([value]), progress:not([value])::-webkit-progress-bar {\n",
              "        background: repeating-linear-gradient(45deg, #7e7e7e, #7e7e7e 10px, #5c5c5c 10px, #5c5c5c 20px);\n",
              "    }\n",
              "    .progress-bar-interrupted, .progress-bar-interrupted::-webkit-progress-bar {\n",
              "        background: #F44336;\n",
              "    }\n",
              "</style>\n"
            ]
          },
          "metadata": {}
        },
        {
          "output_type": "display_data",
          "data": {
            "text/plain": [
              "<IPython.core.display.HTML object>"
            ],
            "text/html": [
              "\n",
              "    <div>\n",
              "      <progress value='3000' class='' max='3000' style='width:300px; height:20px; vertical-align: middle;'></progress>\n",
              "      100.00% [3000/3000 03:05&lt;00:00 Sampling chain 0, 0 divergences]\n",
              "    </div>\n",
              "    "
            ]
          },
          "metadata": {}
        },
        {
          "output_type": "display_data",
          "data": {
            "text/plain": [
              "<IPython.core.display.HTML object>"
            ],
            "text/html": [
              "\n",
              "<style>\n",
              "    /* Turns off some styling */\n",
              "    progress {\n",
              "        /* gets rid of default border in Firefox and Opera. */\n",
              "        border: none;\n",
              "        /* Needs to be in here for Safari polyfill so background images work as expected. */\n",
              "        background-size: auto;\n",
              "    }\n",
              "    progress:not([value]), progress:not([value])::-webkit-progress-bar {\n",
              "        background: repeating-linear-gradient(45deg, #7e7e7e, #7e7e7e 10px, #5c5c5c 10px, #5c5c5c 20px);\n",
              "    }\n",
              "    .progress-bar-interrupted, .progress-bar-interrupted::-webkit-progress-bar {\n",
              "        background: #F44336;\n",
              "    }\n",
              "</style>\n"
            ]
          },
          "metadata": {}
        },
        {
          "output_type": "display_data",
          "data": {
            "text/plain": [
              "<IPython.core.display.HTML object>"
            ],
            "text/html": [
              "\n",
              "    <div>\n",
              "      <progress value='3000' class='' max='3000' style='width:300px; height:20px; vertical-align: middle;'></progress>\n",
              "      100.00% [3000/3000 03:02&lt;00:00 Sampling chain 1, 0 divergences]\n",
              "    </div>\n",
              "    "
            ]
          },
          "metadata": {}
        },
        {
          "output_type": "stream",
          "name": "stderr",
          "text": [
            "<ipython-input-8-175c2f4f91ba>:23: FutureWarning: The series.append method is deprecated and will be removed from pandas in a future version. Use pandas.concat instead.\n",
            "  return testingData.append(pd.Series(np.zeros(trainingDataSize-len(testingData), dtype=int)))\n",
            "<ipython-input-8-175c2f4f91ba>:23: FutureWarning: The series.append method is deprecated and will be removed from pandas in a future version. Use pandas.concat instead.\n",
            "  return testingData.append(pd.Series(np.zeros(trainingDataSize-len(testingData), dtype=int)))\n",
            "<ipython-input-8-175c2f4f91ba>:23: FutureWarning: The series.append method is deprecated and will be removed from pandas in a future version. Use pandas.concat instead.\n",
            "  return testingData.append(pd.Series(np.zeros(trainingDataSize-len(testingData), dtype=int)))\n",
            "<ipython-input-8-175c2f4f91ba>:23: FutureWarning: The series.append method is deprecated and will be removed from pandas in a future version. Use pandas.concat instead.\n",
            "  return testingData.append(pd.Series(np.zeros(trainingDataSize-len(testingData), dtype=int)))\n",
            "<ipython-input-8-175c2f4f91ba>:23: FutureWarning: The series.append method is deprecated and will be removed from pandas in a future version. Use pandas.concat instead.\n",
            "  return testingData.append(pd.Series(np.zeros(trainingDataSize-len(testingData), dtype=int)))\n",
            "<ipython-input-8-175c2f4f91ba>:23: FutureWarning: The series.append method is deprecated and will be removed from pandas in a future version. Use pandas.concat instead.\n",
            "  return testingData.append(pd.Series(np.zeros(trainingDataSize-len(testingData), dtype=int)))\n",
            "<ipython-input-8-175c2f4f91ba>:23: FutureWarning: The series.append method is deprecated and will be removed from pandas in a future version. Use pandas.concat instead.\n",
            "  return testingData.append(pd.Series(np.zeros(trainingDataSize-len(testingData), dtype=int)))\n",
            "<ipython-input-8-175c2f4f91ba>:23: FutureWarning: The series.append method is deprecated and will be removed from pandas in a future version. Use pandas.concat instead.\n",
            "  return testingData.append(pd.Series(np.zeros(trainingDataSize-len(testingData), dtype=int)))\n",
            "<ipython-input-8-175c2f4f91ba>:23: FutureWarning: The series.append method is deprecated and will be removed from pandas in a future version. Use pandas.concat instead.\n",
            "  return testingData.append(pd.Series(np.zeros(trainingDataSize-len(testingData), dtype=int)))\n",
            "<ipython-input-8-175c2f4f91ba>:23: FutureWarning: The series.append method is deprecated and will be removed from pandas in a future version. Use pandas.concat instead.\n",
            "  return testingData.append(pd.Series(np.zeros(trainingDataSize-len(testingData), dtype=int)))\n",
            "<ipython-input-8-175c2f4f91ba>:23: FutureWarning: The series.append method is deprecated and will be removed from pandas in a future version. Use pandas.concat instead.\n",
            "  return testingData.append(pd.Series(np.zeros(trainingDataSize-len(testingData), dtype=int)))\n",
            "<ipython-input-8-175c2f4f91ba>:23: FutureWarning: The series.append method is deprecated and will be removed from pandas in a future version. Use pandas.concat instead.\n",
            "  return testingData.append(pd.Series(np.zeros(trainingDataSize-len(testingData), dtype=int)))\n"
          ]
        },
        {
          "output_type": "display_data",
          "data": {
            "text/plain": [
              "<IPython.core.display.HTML object>"
            ],
            "text/html": [
              "\n",
              "<style>\n",
              "    /* Turns off some styling */\n",
              "    progress {\n",
              "        /* gets rid of default border in Firefox and Opera. */\n",
              "        border: none;\n",
              "        /* Needs to be in here for Safari polyfill so background images work as expected. */\n",
              "        background-size: auto;\n",
              "    }\n",
              "    progress:not([value]), progress:not([value])::-webkit-progress-bar {\n",
              "        background: repeating-linear-gradient(45deg, #7e7e7e, #7e7e7e 10px, #5c5c5c 10px, #5c5c5c 20px);\n",
              "    }\n",
              "    .progress-bar-interrupted, .progress-bar-interrupted::-webkit-progress-bar {\n",
              "        background: #F44336;\n",
              "    }\n",
              "</style>\n"
            ]
          },
          "metadata": {}
        },
        {
          "output_type": "display_data",
          "data": {
            "text/plain": [
              "<IPython.core.display.HTML object>"
            ],
            "text/html": [
              "\n",
              "    <div>\n",
              "      <progress value='4000' class='' max='4000' style='width:300px; height:20px; vertical-align: middle;'></progress>\n",
              "      100.00% [4000/4000 00:02&lt;00:00]\n",
              "    </div>\n",
              "    "
            ]
          },
          "metadata": {}
        },
        {
          "output_type": "display_data",
          "data": {
            "text/plain": [
              "<IPython.core.display.HTML object>"
            ],
            "text/html": [
              "\n",
              "<style>\n",
              "    /* Turns off some styling */\n",
              "    progress {\n",
              "        /* gets rid of default border in Firefox and Opera. */\n",
              "        border: none;\n",
              "        /* Needs to be in here for Safari polyfill so background images work as expected. */\n",
              "        background-size: auto;\n",
              "    }\n",
              "    progress:not([value]), progress:not([value])::-webkit-progress-bar {\n",
              "        background: repeating-linear-gradient(45deg, #7e7e7e, #7e7e7e 10px, #5c5c5c 10px, #5c5c5c 20px);\n",
              "    }\n",
              "    .progress-bar-interrupted, .progress-bar-interrupted::-webkit-progress-bar {\n",
              "        background: #F44336;\n",
              "    }\n",
              "</style>\n"
            ]
          },
          "metadata": {}
        },
        {
          "output_type": "display_data",
          "data": {
            "text/plain": [
              "<IPython.core.display.HTML object>"
            ],
            "text/html": [
              "\n",
              "    <div>\n",
              "      <progress value='3000' class='' max='3000' style='width:300px; height:20px; vertical-align: middle;'></progress>\n",
              "      100.00% [3000/3000 03:17&lt;00:00 Sampling chain 0, 0 divergences]\n",
              "    </div>\n",
              "    "
            ]
          },
          "metadata": {}
        },
        {
          "output_type": "display_data",
          "data": {
            "text/plain": [
              "<IPython.core.display.HTML object>"
            ],
            "text/html": [
              "\n",
              "<style>\n",
              "    /* Turns off some styling */\n",
              "    progress {\n",
              "        /* gets rid of default border in Firefox and Opera. */\n",
              "        border: none;\n",
              "        /* Needs to be in here for Safari polyfill so background images work as expected. */\n",
              "        background-size: auto;\n",
              "    }\n",
              "    progress:not([value]), progress:not([value])::-webkit-progress-bar {\n",
              "        background: repeating-linear-gradient(45deg, #7e7e7e, #7e7e7e 10px, #5c5c5c 10px, #5c5c5c 20px);\n",
              "    }\n",
              "    .progress-bar-interrupted, .progress-bar-interrupted::-webkit-progress-bar {\n",
              "        background: #F44336;\n",
              "    }\n",
              "</style>\n"
            ]
          },
          "metadata": {}
        },
        {
          "output_type": "display_data",
          "data": {
            "text/plain": [
              "<IPython.core.display.HTML object>"
            ],
            "text/html": [
              "\n",
              "    <div>\n",
              "      <progress value='3000' class='' max='3000' style='width:300px; height:20px; vertical-align: middle;'></progress>\n",
              "      100.00% [3000/3000 03:23&lt;00:00 Sampling chain 1, 0 divergences]\n",
              "    </div>\n",
              "    "
            ]
          },
          "metadata": {}
        },
        {
          "output_type": "display_data",
          "data": {
            "text/plain": [
              "<IPython.core.display.HTML object>"
            ],
            "text/html": [
              "\n",
              "<style>\n",
              "    /* Turns off some styling */\n",
              "    progress {\n",
              "        /* gets rid of default border in Firefox and Opera. */\n",
              "        border: none;\n",
              "        /* Needs to be in here for Safari polyfill so background images work as expected. */\n",
              "        background-size: auto;\n",
              "    }\n",
              "    progress:not([value]), progress:not([value])::-webkit-progress-bar {\n",
              "        background: repeating-linear-gradient(45deg, #7e7e7e, #7e7e7e 10px, #5c5c5c 10px, #5c5c5c 20px);\n",
              "    }\n",
              "    .progress-bar-interrupted, .progress-bar-interrupted::-webkit-progress-bar {\n",
              "        background: #F44336;\n",
              "    }\n",
              "</style>\n"
            ]
          },
          "metadata": {}
        },
        {
          "output_type": "display_data",
          "data": {
            "text/plain": [
              "<IPython.core.display.HTML object>"
            ],
            "text/html": [
              "\n",
              "    <div>\n",
              "      <progress value='3000' class='' max='3000' style='width:300px; height:20px; vertical-align: middle;'></progress>\n",
              "      100.00% [3000/3000 03:00&lt;00:00 Sampling chain 0, 0 divergences]\n",
              "    </div>\n",
              "    "
            ]
          },
          "metadata": {}
        },
        {
          "output_type": "display_data",
          "data": {
            "text/plain": [
              "<IPython.core.display.HTML object>"
            ],
            "text/html": [
              "\n",
              "<style>\n",
              "    /* Turns off some styling */\n",
              "    progress {\n",
              "        /* gets rid of default border in Firefox and Opera. */\n",
              "        border: none;\n",
              "        /* Needs to be in here for Safari polyfill so background images work as expected. */\n",
              "        background-size: auto;\n",
              "    }\n",
              "    progress:not([value]), progress:not([value])::-webkit-progress-bar {\n",
              "        background: repeating-linear-gradient(45deg, #7e7e7e, #7e7e7e 10px, #5c5c5c 10px, #5c5c5c 20px);\n",
              "    }\n",
              "    .progress-bar-interrupted, .progress-bar-interrupted::-webkit-progress-bar {\n",
              "        background: #F44336;\n",
              "    }\n",
              "</style>\n"
            ]
          },
          "metadata": {}
        },
        {
          "output_type": "display_data",
          "data": {
            "text/plain": [
              "<IPython.core.display.HTML object>"
            ],
            "text/html": [
              "\n",
              "    <div>\n",
              "      <progress value='3000' class='' max='3000' style='width:300px; height:20px; vertical-align: middle;'></progress>\n",
              "      100.00% [3000/3000 02:39&lt;00:00 Sampling chain 1, 0 divergences]\n",
              "    </div>\n",
              "    "
            ]
          },
          "metadata": {}
        },
        {
          "output_type": "stream",
          "name": "stderr",
          "text": [
            "<ipython-input-8-175c2f4f91ba>:23: FutureWarning: The series.append method is deprecated and will be removed from pandas in a future version. Use pandas.concat instead.\n",
            "  return testingData.append(pd.Series(np.zeros(trainingDataSize-len(testingData), dtype=int)))\n",
            "<ipython-input-8-175c2f4f91ba>:23: FutureWarning: The series.append method is deprecated and will be removed from pandas in a future version. Use pandas.concat instead.\n",
            "  return testingData.append(pd.Series(np.zeros(trainingDataSize-len(testingData), dtype=int)))\n",
            "<ipython-input-8-175c2f4f91ba>:23: FutureWarning: The series.append method is deprecated and will be removed from pandas in a future version. Use pandas.concat instead.\n",
            "  return testingData.append(pd.Series(np.zeros(trainingDataSize-len(testingData), dtype=int)))\n",
            "<ipython-input-8-175c2f4f91ba>:23: FutureWarning: The series.append method is deprecated and will be removed from pandas in a future version. Use pandas.concat instead.\n",
            "  return testingData.append(pd.Series(np.zeros(trainingDataSize-len(testingData), dtype=int)))\n",
            "<ipython-input-8-175c2f4f91ba>:23: FutureWarning: The series.append method is deprecated and will be removed from pandas in a future version. Use pandas.concat instead.\n",
            "  return testingData.append(pd.Series(np.zeros(trainingDataSize-len(testingData), dtype=int)))\n",
            "<ipython-input-8-175c2f4f91ba>:23: FutureWarning: The series.append method is deprecated and will be removed from pandas in a future version. Use pandas.concat instead.\n",
            "  return testingData.append(pd.Series(np.zeros(trainingDataSize-len(testingData), dtype=int)))\n",
            "<ipython-input-8-175c2f4f91ba>:23: FutureWarning: The series.append method is deprecated and will be removed from pandas in a future version. Use pandas.concat instead.\n",
            "  return testingData.append(pd.Series(np.zeros(trainingDataSize-len(testingData), dtype=int)))\n",
            "<ipython-input-8-175c2f4f91ba>:23: FutureWarning: The series.append method is deprecated and will be removed from pandas in a future version. Use pandas.concat instead.\n",
            "  return testingData.append(pd.Series(np.zeros(trainingDataSize-len(testingData), dtype=int)))\n",
            "<ipython-input-8-175c2f4f91ba>:23: FutureWarning: The series.append method is deprecated and will be removed from pandas in a future version. Use pandas.concat instead.\n",
            "  return testingData.append(pd.Series(np.zeros(trainingDataSize-len(testingData), dtype=int)))\n",
            "<ipython-input-8-175c2f4f91ba>:23: FutureWarning: The series.append method is deprecated and will be removed from pandas in a future version. Use pandas.concat instead.\n",
            "  return testingData.append(pd.Series(np.zeros(trainingDataSize-len(testingData), dtype=int)))\n",
            "<ipython-input-8-175c2f4f91ba>:23: FutureWarning: The series.append method is deprecated and will be removed from pandas in a future version. Use pandas.concat instead.\n",
            "  return testingData.append(pd.Series(np.zeros(trainingDataSize-len(testingData), dtype=int)))\n",
            "<ipython-input-8-175c2f4f91ba>:23: FutureWarning: The series.append method is deprecated and will be removed from pandas in a future version. Use pandas.concat instead.\n",
            "  return testingData.append(pd.Series(np.zeros(trainingDataSize-len(testingData), dtype=int)))\n"
          ]
        },
        {
          "output_type": "display_data",
          "data": {
            "text/plain": [
              "<IPython.core.display.HTML object>"
            ],
            "text/html": [
              "\n",
              "<style>\n",
              "    /* Turns off some styling */\n",
              "    progress {\n",
              "        /* gets rid of default border in Firefox and Opera. */\n",
              "        border: none;\n",
              "        /* Needs to be in here for Safari polyfill so background images work as expected. */\n",
              "        background-size: auto;\n",
              "    }\n",
              "    progress:not([value]), progress:not([value])::-webkit-progress-bar {\n",
              "        background: repeating-linear-gradient(45deg, #7e7e7e, #7e7e7e 10px, #5c5c5c 10px, #5c5c5c 20px);\n",
              "    }\n",
              "    .progress-bar-interrupted, .progress-bar-interrupted::-webkit-progress-bar {\n",
              "        background: #F44336;\n",
              "    }\n",
              "</style>\n"
            ]
          },
          "metadata": {}
        },
        {
          "output_type": "display_data",
          "data": {
            "text/plain": [
              "<IPython.core.display.HTML object>"
            ],
            "text/html": [
              "\n",
              "    <div>\n",
              "      <progress value='4000' class='' max='4000' style='width:300px; height:20px; vertical-align: middle;'></progress>\n",
              "      100.00% [4000/4000 00:02&lt;00:00]\n",
              "    </div>\n",
              "    "
            ]
          },
          "metadata": {}
        },
        {
          "output_type": "display_data",
          "data": {
            "text/plain": [
              "<IPython.core.display.HTML object>"
            ],
            "text/html": [
              "\n",
              "<style>\n",
              "    /* Turns off some styling */\n",
              "    progress {\n",
              "        /* gets rid of default border in Firefox and Opera. */\n",
              "        border: none;\n",
              "        /* Needs to be in here for Safari polyfill so background images work as expected. */\n",
              "        background-size: auto;\n",
              "    }\n",
              "    progress:not([value]), progress:not([value])::-webkit-progress-bar {\n",
              "        background: repeating-linear-gradient(45deg, #7e7e7e, #7e7e7e 10px, #5c5c5c 10px, #5c5c5c 20px);\n",
              "    }\n",
              "    .progress-bar-interrupted, .progress-bar-interrupted::-webkit-progress-bar {\n",
              "        background: #F44336;\n",
              "    }\n",
              "</style>\n"
            ]
          },
          "metadata": {}
        },
        {
          "output_type": "display_data",
          "data": {
            "text/plain": [
              "<IPython.core.display.HTML object>"
            ],
            "text/html": [
              "\n",
              "    <div>\n",
              "      <progress value='3000' class='' max='3000' style='width:300px; height:20px; vertical-align: middle;'></progress>\n",
              "      100.00% [3000/3000 02:53&lt;00:00 Sampling chain 0, 0 divergences]\n",
              "    </div>\n",
              "    "
            ]
          },
          "metadata": {}
        },
        {
          "output_type": "display_data",
          "data": {
            "text/plain": [
              "<IPython.core.display.HTML object>"
            ],
            "text/html": [
              "\n",
              "<style>\n",
              "    /* Turns off some styling */\n",
              "    progress {\n",
              "        /* gets rid of default border in Firefox and Opera. */\n",
              "        border: none;\n",
              "        /* Needs to be in here for Safari polyfill so background images work as expected. */\n",
              "        background-size: auto;\n",
              "    }\n",
              "    progress:not([value]), progress:not([value])::-webkit-progress-bar {\n",
              "        background: repeating-linear-gradient(45deg, #7e7e7e, #7e7e7e 10px, #5c5c5c 10px, #5c5c5c 20px);\n",
              "    }\n",
              "    .progress-bar-interrupted, .progress-bar-interrupted::-webkit-progress-bar {\n",
              "        background: #F44336;\n",
              "    }\n",
              "</style>\n"
            ]
          },
          "metadata": {}
        },
        {
          "output_type": "display_data",
          "data": {
            "text/plain": [
              "<IPython.core.display.HTML object>"
            ],
            "text/html": [
              "\n",
              "    <div>\n",
              "      <progress value='3000' class='' max='3000' style='width:300px; height:20px; vertical-align: middle;'></progress>\n",
              "      100.00% [3000/3000 03:20&lt;00:00 Sampling chain 1, 0 divergences]\n",
              "    </div>\n",
              "    "
            ]
          },
          "metadata": {}
        },
        {
          "output_type": "display_data",
          "data": {
            "text/plain": [
              "<IPython.core.display.HTML object>"
            ],
            "text/html": [
              "\n",
              "<style>\n",
              "    /* Turns off some styling */\n",
              "    progress {\n",
              "        /* gets rid of default border in Firefox and Opera. */\n",
              "        border: none;\n",
              "        /* Needs to be in here for Safari polyfill so background images work as expected. */\n",
              "        background-size: auto;\n",
              "    }\n",
              "    progress:not([value]), progress:not([value])::-webkit-progress-bar {\n",
              "        background: repeating-linear-gradient(45deg, #7e7e7e, #7e7e7e 10px, #5c5c5c 10px, #5c5c5c 20px);\n",
              "    }\n",
              "    .progress-bar-interrupted, .progress-bar-interrupted::-webkit-progress-bar {\n",
              "        background: #F44336;\n",
              "    }\n",
              "</style>\n"
            ]
          },
          "metadata": {}
        },
        {
          "output_type": "display_data",
          "data": {
            "text/plain": [
              "<IPython.core.display.HTML object>"
            ],
            "text/html": [
              "\n",
              "    <div>\n",
              "      <progress value='3000' class='' max='3000' style='width:300px; height:20px; vertical-align: middle;'></progress>\n",
              "      100.00% [3000/3000 02:20&lt;00:00 Sampling chain 0, 0 divergences]\n",
              "    </div>\n",
              "    "
            ]
          },
          "metadata": {}
        },
        {
          "output_type": "display_data",
          "data": {
            "text/plain": [
              "<IPython.core.display.HTML object>"
            ],
            "text/html": [
              "\n",
              "<style>\n",
              "    /* Turns off some styling */\n",
              "    progress {\n",
              "        /* gets rid of default border in Firefox and Opera. */\n",
              "        border: none;\n",
              "        /* Needs to be in here for Safari polyfill so background images work as expected. */\n",
              "        background-size: auto;\n",
              "    }\n",
              "    progress:not([value]), progress:not([value])::-webkit-progress-bar {\n",
              "        background: repeating-linear-gradient(45deg, #7e7e7e, #7e7e7e 10px, #5c5c5c 10px, #5c5c5c 20px);\n",
              "    }\n",
              "    .progress-bar-interrupted, .progress-bar-interrupted::-webkit-progress-bar {\n",
              "        background: #F44336;\n",
              "    }\n",
              "</style>\n"
            ]
          },
          "metadata": {}
        },
        {
          "output_type": "display_data",
          "data": {
            "text/plain": [
              "<IPython.core.display.HTML object>"
            ],
            "text/html": [
              "\n",
              "    <div>\n",
              "      <progress value='3000' class='' max='3000' style='width:300px; height:20px; vertical-align: middle;'></progress>\n",
              "      100.00% [3000/3000 02:20&lt;00:00 Sampling chain 1, 0 divergences]\n",
              "    </div>\n",
              "    "
            ]
          },
          "metadata": {}
        },
        {
          "output_type": "stream",
          "name": "stderr",
          "text": [
            "<ipython-input-8-175c2f4f91ba>:23: FutureWarning: The series.append method is deprecated and will be removed from pandas in a future version. Use pandas.concat instead.\n",
            "  return testingData.append(pd.Series(np.zeros(trainingDataSize-len(testingData), dtype=int)))\n",
            "<ipython-input-8-175c2f4f91ba>:23: FutureWarning: The series.append method is deprecated and will be removed from pandas in a future version. Use pandas.concat instead.\n",
            "  return testingData.append(pd.Series(np.zeros(trainingDataSize-len(testingData), dtype=int)))\n",
            "<ipython-input-8-175c2f4f91ba>:23: FutureWarning: The series.append method is deprecated and will be removed from pandas in a future version. Use pandas.concat instead.\n",
            "  return testingData.append(pd.Series(np.zeros(trainingDataSize-len(testingData), dtype=int)))\n",
            "<ipython-input-8-175c2f4f91ba>:23: FutureWarning: The series.append method is deprecated and will be removed from pandas in a future version. Use pandas.concat instead.\n",
            "  return testingData.append(pd.Series(np.zeros(trainingDataSize-len(testingData), dtype=int)))\n",
            "<ipython-input-8-175c2f4f91ba>:23: FutureWarning: The series.append method is deprecated and will be removed from pandas in a future version. Use pandas.concat instead.\n",
            "  return testingData.append(pd.Series(np.zeros(trainingDataSize-len(testingData), dtype=int)))\n",
            "<ipython-input-8-175c2f4f91ba>:23: FutureWarning: The series.append method is deprecated and will be removed from pandas in a future version. Use pandas.concat instead.\n",
            "  return testingData.append(pd.Series(np.zeros(trainingDataSize-len(testingData), dtype=int)))\n",
            "<ipython-input-8-175c2f4f91ba>:23: FutureWarning: The series.append method is deprecated and will be removed from pandas in a future version. Use pandas.concat instead.\n",
            "  return testingData.append(pd.Series(np.zeros(trainingDataSize-len(testingData), dtype=int)))\n",
            "<ipython-input-8-175c2f4f91ba>:23: FutureWarning: The series.append method is deprecated and will be removed from pandas in a future version. Use pandas.concat instead.\n",
            "  return testingData.append(pd.Series(np.zeros(trainingDataSize-len(testingData), dtype=int)))\n",
            "<ipython-input-8-175c2f4f91ba>:23: FutureWarning: The series.append method is deprecated and will be removed from pandas in a future version. Use pandas.concat instead.\n",
            "  return testingData.append(pd.Series(np.zeros(trainingDataSize-len(testingData), dtype=int)))\n",
            "<ipython-input-8-175c2f4f91ba>:23: FutureWarning: The series.append method is deprecated and will be removed from pandas in a future version. Use pandas.concat instead.\n",
            "  return testingData.append(pd.Series(np.zeros(trainingDataSize-len(testingData), dtype=int)))\n",
            "<ipython-input-8-175c2f4f91ba>:23: FutureWarning: The series.append method is deprecated and will be removed from pandas in a future version. Use pandas.concat instead.\n",
            "  return testingData.append(pd.Series(np.zeros(trainingDataSize-len(testingData), dtype=int)))\n",
            "<ipython-input-8-175c2f4f91ba>:23: FutureWarning: The series.append method is deprecated and will be removed from pandas in a future version. Use pandas.concat instead.\n",
            "  return testingData.append(pd.Series(np.zeros(trainingDataSize-len(testingData), dtype=int)))\n"
          ]
        },
        {
          "output_type": "display_data",
          "data": {
            "text/plain": [
              "<IPython.core.display.HTML object>"
            ],
            "text/html": [
              "\n",
              "<style>\n",
              "    /* Turns off some styling */\n",
              "    progress {\n",
              "        /* gets rid of default border in Firefox and Opera. */\n",
              "        border: none;\n",
              "        /* Needs to be in here for Safari polyfill so background images work as expected. */\n",
              "        background-size: auto;\n",
              "    }\n",
              "    progress:not([value]), progress:not([value])::-webkit-progress-bar {\n",
              "        background: repeating-linear-gradient(45deg, #7e7e7e, #7e7e7e 10px, #5c5c5c 10px, #5c5c5c 20px);\n",
              "    }\n",
              "    .progress-bar-interrupted, .progress-bar-interrupted::-webkit-progress-bar {\n",
              "        background: #F44336;\n",
              "    }\n",
              "</style>\n"
            ]
          },
          "metadata": {}
        },
        {
          "output_type": "display_data",
          "data": {
            "text/plain": [
              "<IPython.core.display.HTML object>"
            ],
            "text/html": [
              "\n",
              "    <div>\n",
              "      <progress value='4000' class='' max='4000' style='width:300px; height:20px; vertical-align: middle;'></progress>\n",
              "      100.00% [4000/4000 00:02&lt;00:00]\n",
              "    </div>\n",
              "    "
            ]
          },
          "metadata": {}
        },
        {
          "output_type": "display_data",
          "data": {
            "text/plain": [
              "<IPython.core.display.HTML object>"
            ],
            "text/html": [
              "\n",
              "<style>\n",
              "    /* Turns off some styling */\n",
              "    progress {\n",
              "        /* gets rid of default border in Firefox and Opera. */\n",
              "        border: none;\n",
              "        /* Needs to be in here for Safari polyfill so background images work as expected. */\n",
              "        background-size: auto;\n",
              "    }\n",
              "    progress:not([value]), progress:not([value])::-webkit-progress-bar {\n",
              "        background: repeating-linear-gradient(45deg, #7e7e7e, #7e7e7e 10px, #5c5c5c 10px, #5c5c5c 20px);\n",
              "    }\n",
              "    .progress-bar-interrupted, .progress-bar-interrupted::-webkit-progress-bar {\n",
              "        background: #F44336;\n",
              "    }\n",
              "</style>\n"
            ]
          },
          "metadata": {}
        },
        {
          "output_type": "display_data",
          "data": {
            "text/plain": [
              "<IPython.core.display.HTML object>"
            ],
            "text/html": [
              "\n",
              "    <div>\n",
              "      <progress value='3000' class='' max='3000' style='width:300px; height:20px; vertical-align: middle;'></progress>\n",
              "      100.00% [3000/3000 02:42&lt;00:00 Sampling chain 0, 0 divergences]\n",
              "    </div>\n",
              "    "
            ]
          },
          "metadata": {}
        },
        {
          "output_type": "display_data",
          "data": {
            "text/plain": [
              "<IPython.core.display.HTML object>"
            ],
            "text/html": [
              "\n",
              "<style>\n",
              "    /* Turns off some styling */\n",
              "    progress {\n",
              "        /* gets rid of default border in Firefox and Opera. */\n",
              "        border: none;\n",
              "        /* Needs to be in here for Safari polyfill so background images work as expected. */\n",
              "        background-size: auto;\n",
              "    }\n",
              "    progress:not([value]), progress:not([value])::-webkit-progress-bar {\n",
              "        background: repeating-linear-gradient(45deg, #7e7e7e, #7e7e7e 10px, #5c5c5c 10px, #5c5c5c 20px);\n",
              "    }\n",
              "    .progress-bar-interrupted, .progress-bar-interrupted::-webkit-progress-bar {\n",
              "        background: #F44336;\n",
              "    }\n",
              "</style>\n"
            ]
          },
          "metadata": {}
        },
        {
          "output_type": "display_data",
          "data": {
            "text/plain": [
              "<IPython.core.display.HTML object>"
            ],
            "text/html": [
              "\n",
              "    <div>\n",
              "      <progress value='3000' class='' max='3000' style='width:300px; height:20px; vertical-align: middle;'></progress>\n",
              "      100.00% [3000/3000 02:28&lt;00:00 Sampling chain 1, 0 divergences]\n",
              "    </div>\n",
              "    "
            ]
          },
          "metadata": {}
        },
        {
          "output_type": "display_data",
          "data": {
            "text/plain": [
              "<IPython.core.display.HTML object>"
            ],
            "text/html": [
              "\n",
              "<style>\n",
              "    /* Turns off some styling */\n",
              "    progress {\n",
              "        /* gets rid of default border in Firefox and Opera. */\n",
              "        border: none;\n",
              "        /* Needs to be in here for Safari polyfill so background images work as expected. */\n",
              "        background-size: auto;\n",
              "    }\n",
              "    progress:not([value]), progress:not([value])::-webkit-progress-bar {\n",
              "        background: repeating-linear-gradient(45deg, #7e7e7e, #7e7e7e 10px, #5c5c5c 10px, #5c5c5c 20px);\n",
              "    }\n",
              "    .progress-bar-interrupted, .progress-bar-interrupted::-webkit-progress-bar {\n",
              "        background: #F44336;\n",
              "    }\n",
              "</style>\n"
            ]
          },
          "metadata": {}
        },
        {
          "output_type": "display_data",
          "data": {
            "text/plain": [
              "<IPython.core.display.HTML object>"
            ],
            "text/html": [
              "\n",
              "    <div>\n",
              "      <progress value='3000' class='' max='3000' style='width:300px; height:20px; vertical-align: middle;'></progress>\n",
              "      100.00% [3000/3000 02:58&lt;00:00 Sampling chain 0, 0 divergences]\n",
              "    </div>\n",
              "    "
            ]
          },
          "metadata": {}
        },
        {
          "output_type": "display_data",
          "data": {
            "text/plain": [
              "<IPython.core.display.HTML object>"
            ],
            "text/html": [
              "\n",
              "<style>\n",
              "    /* Turns off some styling */\n",
              "    progress {\n",
              "        /* gets rid of default border in Firefox and Opera. */\n",
              "        border: none;\n",
              "        /* Needs to be in here for Safari polyfill so background images work as expected. */\n",
              "        background-size: auto;\n",
              "    }\n",
              "    progress:not([value]), progress:not([value])::-webkit-progress-bar {\n",
              "        background: repeating-linear-gradient(45deg, #7e7e7e, #7e7e7e 10px, #5c5c5c 10px, #5c5c5c 20px);\n",
              "    }\n",
              "    .progress-bar-interrupted, .progress-bar-interrupted::-webkit-progress-bar {\n",
              "        background: #F44336;\n",
              "    }\n",
              "</style>\n"
            ]
          },
          "metadata": {}
        },
        {
          "output_type": "display_data",
          "data": {
            "text/plain": [
              "<IPython.core.display.HTML object>"
            ],
            "text/html": [
              "\n",
              "    <div>\n",
              "      <progress value='3000' class='' max='3000' style='width:300px; height:20px; vertical-align: middle;'></progress>\n",
              "      100.00% [3000/3000 02:50&lt;00:00 Sampling chain 1, 0 divergences]\n",
              "    </div>\n",
              "    "
            ]
          },
          "metadata": {}
        },
        {
          "output_type": "stream",
          "name": "stderr",
          "text": [
            "<ipython-input-8-175c2f4f91ba>:23: FutureWarning: The series.append method is deprecated and will be removed from pandas in a future version. Use pandas.concat instead.\n",
            "  return testingData.append(pd.Series(np.zeros(trainingDataSize-len(testingData), dtype=int)))\n",
            "<ipython-input-8-175c2f4f91ba>:23: FutureWarning: The series.append method is deprecated and will be removed from pandas in a future version. Use pandas.concat instead.\n",
            "  return testingData.append(pd.Series(np.zeros(trainingDataSize-len(testingData), dtype=int)))\n",
            "<ipython-input-8-175c2f4f91ba>:23: FutureWarning: The series.append method is deprecated and will be removed from pandas in a future version. Use pandas.concat instead.\n",
            "  return testingData.append(pd.Series(np.zeros(trainingDataSize-len(testingData), dtype=int)))\n",
            "<ipython-input-8-175c2f4f91ba>:23: FutureWarning: The series.append method is deprecated and will be removed from pandas in a future version. Use pandas.concat instead.\n",
            "  return testingData.append(pd.Series(np.zeros(trainingDataSize-len(testingData), dtype=int)))\n",
            "<ipython-input-8-175c2f4f91ba>:23: FutureWarning: The series.append method is deprecated and will be removed from pandas in a future version. Use pandas.concat instead.\n",
            "  return testingData.append(pd.Series(np.zeros(trainingDataSize-len(testingData), dtype=int)))\n",
            "<ipython-input-8-175c2f4f91ba>:23: FutureWarning: The series.append method is deprecated and will be removed from pandas in a future version. Use pandas.concat instead.\n",
            "  return testingData.append(pd.Series(np.zeros(trainingDataSize-len(testingData), dtype=int)))\n",
            "<ipython-input-8-175c2f4f91ba>:23: FutureWarning: The series.append method is deprecated and will be removed from pandas in a future version. Use pandas.concat instead.\n",
            "  return testingData.append(pd.Series(np.zeros(trainingDataSize-len(testingData), dtype=int)))\n",
            "<ipython-input-8-175c2f4f91ba>:23: FutureWarning: The series.append method is deprecated and will be removed from pandas in a future version. Use pandas.concat instead.\n",
            "  return testingData.append(pd.Series(np.zeros(trainingDataSize-len(testingData), dtype=int)))\n",
            "<ipython-input-8-175c2f4f91ba>:23: FutureWarning: The series.append method is deprecated and will be removed from pandas in a future version. Use pandas.concat instead.\n",
            "  return testingData.append(pd.Series(np.zeros(trainingDataSize-len(testingData), dtype=int)))\n",
            "<ipython-input-8-175c2f4f91ba>:23: FutureWarning: The series.append method is deprecated and will be removed from pandas in a future version. Use pandas.concat instead.\n",
            "  return testingData.append(pd.Series(np.zeros(trainingDataSize-len(testingData), dtype=int)))\n",
            "<ipython-input-8-175c2f4f91ba>:23: FutureWarning: The series.append method is deprecated and will be removed from pandas in a future version. Use pandas.concat instead.\n",
            "  return testingData.append(pd.Series(np.zeros(trainingDataSize-len(testingData), dtype=int)))\n",
            "<ipython-input-8-175c2f4f91ba>:23: FutureWarning: The series.append method is deprecated and will be removed from pandas in a future version. Use pandas.concat instead.\n",
            "  return testingData.append(pd.Series(np.zeros(trainingDataSize-len(testingData), dtype=int)))\n"
          ]
        },
        {
          "output_type": "display_data",
          "data": {
            "text/plain": [
              "<IPython.core.display.HTML object>"
            ],
            "text/html": [
              "\n",
              "<style>\n",
              "    /* Turns off some styling */\n",
              "    progress {\n",
              "        /* gets rid of default border in Firefox and Opera. */\n",
              "        border: none;\n",
              "        /* Needs to be in here for Safari polyfill so background images work as expected. */\n",
              "        background-size: auto;\n",
              "    }\n",
              "    progress:not([value]), progress:not([value])::-webkit-progress-bar {\n",
              "        background: repeating-linear-gradient(45deg, #7e7e7e, #7e7e7e 10px, #5c5c5c 10px, #5c5c5c 20px);\n",
              "    }\n",
              "    .progress-bar-interrupted, .progress-bar-interrupted::-webkit-progress-bar {\n",
              "        background: #F44336;\n",
              "    }\n",
              "</style>\n"
            ]
          },
          "metadata": {}
        },
        {
          "output_type": "display_data",
          "data": {
            "text/plain": [
              "<IPython.core.display.HTML object>"
            ],
            "text/html": [
              "\n",
              "    <div>\n",
              "      <progress value='4000' class='' max='4000' style='width:300px; height:20px; vertical-align: middle;'></progress>\n",
              "      100.00% [4000/4000 00:02&lt;00:00]\n",
              "    </div>\n",
              "    "
            ]
          },
          "metadata": {}
        },
        {
          "output_type": "display_data",
          "data": {
            "text/plain": [
              "<IPython.core.display.HTML object>"
            ],
            "text/html": [
              "\n",
              "<style>\n",
              "    /* Turns off some styling */\n",
              "    progress {\n",
              "        /* gets rid of default border in Firefox and Opera. */\n",
              "        border: none;\n",
              "        /* Needs to be in here for Safari polyfill so background images work as expected. */\n",
              "        background-size: auto;\n",
              "    }\n",
              "    progress:not([value]), progress:not([value])::-webkit-progress-bar {\n",
              "        background: repeating-linear-gradient(45deg, #7e7e7e, #7e7e7e 10px, #5c5c5c 10px, #5c5c5c 20px);\n",
              "    }\n",
              "    .progress-bar-interrupted, .progress-bar-interrupted::-webkit-progress-bar {\n",
              "        background: #F44336;\n",
              "    }\n",
              "</style>\n"
            ]
          },
          "metadata": {}
        },
        {
          "output_type": "display_data",
          "data": {
            "text/plain": [
              "<IPython.core.display.HTML object>"
            ],
            "text/html": [
              "\n",
              "    <div>\n",
              "      <progress value='3000' class='' max='3000' style='width:300px; height:20px; vertical-align: middle;'></progress>\n",
              "      100.00% [3000/3000 03:25&lt;00:00 Sampling chain 0, 0 divergences]\n",
              "    </div>\n",
              "    "
            ]
          },
          "metadata": {}
        },
        {
          "output_type": "display_data",
          "data": {
            "text/plain": [
              "<IPython.core.display.HTML object>"
            ],
            "text/html": [
              "\n",
              "<style>\n",
              "    /* Turns off some styling */\n",
              "    progress {\n",
              "        /* gets rid of default border in Firefox and Opera. */\n",
              "        border: none;\n",
              "        /* Needs to be in here for Safari polyfill so background images work as expected. */\n",
              "        background-size: auto;\n",
              "    }\n",
              "    progress:not([value]), progress:not([value])::-webkit-progress-bar {\n",
              "        background: repeating-linear-gradient(45deg, #7e7e7e, #7e7e7e 10px, #5c5c5c 10px, #5c5c5c 20px);\n",
              "    }\n",
              "    .progress-bar-interrupted, .progress-bar-interrupted::-webkit-progress-bar {\n",
              "        background: #F44336;\n",
              "    }\n",
              "</style>\n"
            ]
          },
          "metadata": {}
        },
        {
          "output_type": "display_data",
          "data": {
            "text/plain": [
              "<IPython.core.display.HTML object>"
            ],
            "text/html": [
              "\n",
              "    <div>\n",
              "      <progress value='3000' class='' max='3000' style='width:300px; height:20px; vertical-align: middle;'></progress>\n",
              "      100.00% [3000/3000 03:08&lt;00:00 Sampling chain 1, 0 divergences]\n",
              "    </div>\n",
              "    "
            ]
          },
          "metadata": {}
        },
        {
          "output_type": "display_data",
          "data": {
            "text/plain": [
              "<IPython.core.display.HTML object>"
            ],
            "text/html": [
              "\n",
              "<style>\n",
              "    /* Turns off some styling */\n",
              "    progress {\n",
              "        /* gets rid of default border in Firefox and Opera. */\n",
              "        border: none;\n",
              "        /* Needs to be in here for Safari polyfill so background images work as expected. */\n",
              "        background-size: auto;\n",
              "    }\n",
              "    progress:not([value]), progress:not([value])::-webkit-progress-bar {\n",
              "        background: repeating-linear-gradient(45deg, #7e7e7e, #7e7e7e 10px, #5c5c5c 10px, #5c5c5c 20px);\n",
              "    }\n",
              "    .progress-bar-interrupted, .progress-bar-interrupted::-webkit-progress-bar {\n",
              "        background: #F44336;\n",
              "    }\n",
              "</style>\n"
            ]
          },
          "metadata": {}
        },
        {
          "output_type": "display_data",
          "data": {
            "text/plain": [
              "<IPython.core.display.HTML object>"
            ],
            "text/html": [
              "\n",
              "    <div>\n",
              "      <progress value='3000' class='' max='3000' style='width:300px; height:20px; vertical-align: middle;'></progress>\n",
              "      100.00% [3000/3000 03:13&lt;00:00 Sampling chain 0, 0 divergences]\n",
              "    </div>\n",
              "    "
            ]
          },
          "metadata": {}
        },
        {
          "output_type": "display_data",
          "data": {
            "text/plain": [
              "<IPython.core.display.HTML object>"
            ],
            "text/html": [
              "\n",
              "<style>\n",
              "    /* Turns off some styling */\n",
              "    progress {\n",
              "        /* gets rid of default border in Firefox and Opera. */\n",
              "        border: none;\n",
              "        /* Needs to be in here for Safari polyfill so background images work as expected. */\n",
              "        background-size: auto;\n",
              "    }\n",
              "    progress:not([value]), progress:not([value])::-webkit-progress-bar {\n",
              "        background: repeating-linear-gradient(45deg, #7e7e7e, #7e7e7e 10px, #5c5c5c 10px, #5c5c5c 20px);\n",
              "    }\n",
              "    .progress-bar-interrupted, .progress-bar-interrupted::-webkit-progress-bar {\n",
              "        background: #F44336;\n",
              "    }\n",
              "</style>\n"
            ]
          },
          "metadata": {}
        },
        {
          "output_type": "display_data",
          "data": {
            "text/plain": [
              "<IPython.core.display.HTML object>"
            ],
            "text/html": [
              "\n",
              "    <div>\n",
              "      <progress value='3000' class='' max='3000' style='width:300px; height:20px; vertical-align: middle;'></progress>\n",
              "      100.00% [3000/3000 03:08&lt;00:00 Sampling chain 1, 0 divergences]\n",
              "    </div>\n",
              "    "
            ]
          },
          "metadata": {}
        },
        {
          "output_type": "stream",
          "name": "stderr",
          "text": [
            "<ipython-input-8-175c2f4f91ba>:23: FutureWarning: The series.append method is deprecated and will be removed from pandas in a future version. Use pandas.concat instead.\n",
            "  return testingData.append(pd.Series(np.zeros(trainingDataSize-len(testingData), dtype=int)))\n",
            "<ipython-input-8-175c2f4f91ba>:23: FutureWarning: The series.append method is deprecated and will be removed from pandas in a future version. Use pandas.concat instead.\n",
            "  return testingData.append(pd.Series(np.zeros(trainingDataSize-len(testingData), dtype=int)))\n",
            "<ipython-input-8-175c2f4f91ba>:23: FutureWarning: The series.append method is deprecated and will be removed from pandas in a future version. Use pandas.concat instead.\n",
            "  return testingData.append(pd.Series(np.zeros(trainingDataSize-len(testingData), dtype=int)))\n",
            "<ipython-input-8-175c2f4f91ba>:23: FutureWarning: The series.append method is deprecated and will be removed from pandas in a future version. Use pandas.concat instead.\n",
            "  return testingData.append(pd.Series(np.zeros(trainingDataSize-len(testingData), dtype=int)))\n",
            "<ipython-input-8-175c2f4f91ba>:23: FutureWarning: The series.append method is deprecated and will be removed from pandas in a future version. Use pandas.concat instead.\n",
            "  return testingData.append(pd.Series(np.zeros(trainingDataSize-len(testingData), dtype=int)))\n",
            "<ipython-input-8-175c2f4f91ba>:23: FutureWarning: The series.append method is deprecated and will be removed from pandas in a future version. Use pandas.concat instead.\n",
            "  return testingData.append(pd.Series(np.zeros(trainingDataSize-len(testingData), dtype=int)))\n",
            "<ipython-input-8-175c2f4f91ba>:23: FutureWarning: The series.append method is deprecated and will be removed from pandas in a future version. Use pandas.concat instead.\n",
            "  return testingData.append(pd.Series(np.zeros(trainingDataSize-len(testingData), dtype=int)))\n",
            "<ipython-input-8-175c2f4f91ba>:23: FutureWarning: The series.append method is deprecated and will be removed from pandas in a future version. Use pandas.concat instead.\n",
            "  return testingData.append(pd.Series(np.zeros(trainingDataSize-len(testingData), dtype=int)))\n",
            "<ipython-input-8-175c2f4f91ba>:23: FutureWarning: The series.append method is deprecated and will be removed from pandas in a future version. Use pandas.concat instead.\n",
            "  return testingData.append(pd.Series(np.zeros(trainingDataSize-len(testingData), dtype=int)))\n",
            "<ipython-input-8-175c2f4f91ba>:23: FutureWarning: The series.append method is deprecated and will be removed from pandas in a future version. Use pandas.concat instead.\n",
            "  return testingData.append(pd.Series(np.zeros(trainingDataSize-len(testingData), dtype=int)))\n",
            "<ipython-input-8-175c2f4f91ba>:23: FutureWarning: The series.append method is deprecated and will be removed from pandas in a future version. Use pandas.concat instead.\n",
            "  return testingData.append(pd.Series(np.zeros(trainingDataSize-len(testingData), dtype=int)))\n",
            "<ipython-input-8-175c2f4f91ba>:23: FutureWarning: The series.append method is deprecated and will be removed from pandas in a future version. Use pandas.concat instead.\n",
            "  return testingData.append(pd.Series(np.zeros(trainingDataSize-len(testingData), dtype=int)))\n"
          ]
        },
        {
          "output_type": "display_data",
          "data": {
            "text/plain": [
              "<IPython.core.display.HTML object>"
            ],
            "text/html": [
              "\n",
              "<style>\n",
              "    /* Turns off some styling */\n",
              "    progress {\n",
              "        /* gets rid of default border in Firefox and Opera. */\n",
              "        border: none;\n",
              "        /* Needs to be in here for Safari polyfill so background images work as expected. */\n",
              "        background-size: auto;\n",
              "    }\n",
              "    progress:not([value]), progress:not([value])::-webkit-progress-bar {\n",
              "        background: repeating-linear-gradient(45deg, #7e7e7e, #7e7e7e 10px, #5c5c5c 10px, #5c5c5c 20px);\n",
              "    }\n",
              "    .progress-bar-interrupted, .progress-bar-interrupted::-webkit-progress-bar {\n",
              "        background: #F44336;\n",
              "    }\n",
              "</style>\n"
            ]
          },
          "metadata": {}
        },
        {
          "output_type": "display_data",
          "data": {
            "text/plain": [
              "<IPython.core.display.HTML object>"
            ],
            "text/html": [
              "\n",
              "    <div>\n",
              "      <progress value='4000' class='' max='4000' style='width:300px; height:20px; vertical-align: middle;'></progress>\n",
              "      100.00% [4000/4000 00:02&lt;00:00]\n",
              "    </div>\n",
              "    "
            ]
          },
          "metadata": {}
        },
        {
          "output_type": "display_data",
          "data": {
            "text/plain": [
              "<IPython.core.display.HTML object>"
            ],
            "text/html": [
              "\n",
              "<style>\n",
              "    /* Turns off some styling */\n",
              "    progress {\n",
              "        /* gets rid of default border in Firefox and Opera. */\n",
              "        border: none;\n",
              "        /* Needs to be in here for Safari polyfill so background images work as expected. */\n",
              "        background-size: auto;\n",
              "    }\n",
              "    progress:not([value]), progress:not([value])::-webkit-progress-bar {\n",
              "        background: repeating-linear-gradient(45deg, #7e7e7e, #7e7e7e 10px, #5c5c5c 10px, #5c5c5c 20px);\n",
              "    }\n",
              "    .progress-bar-interrupted, .progress-bar-interrupted::-webkit-progress-bar {\n",
              "        background: #F44336;\n",
              "    }\n",
              "</style>\n"
            ]
          },
          "metadata": {}
        },
        {
          "output_type": "display_data",
          "data": {
            "text/plain": [
              "<IPython.core.display.HTML object>"
            ],
            "text/html": [
              "\n",
              "    <div>\n",
              "      <progress value='3000' class='' max='3000' style='width:300px; height:20px; vertical-align: middle;'></progress>\n",
              "      100.00% [3000/3000 03:43&lt;00:00 Sampling chain 0, 0 divergences]\n",
              "    </div>\n",
              "    "
            ]
          },
          "metadata": {}
        },
        {
          "output_type": "display_data",
          "data": {
            "text/plain": [
              "<IPython.core.display.HTML object>"
            ],
            "text/html": [
              "\n",
              "<style>\n",
              "    /* Turns off some styling */\n",
              "    progress {\n",
              "        /* gets rid of default border in Firefox and Opera. */\n",
              "        border: none;\n",
              "        /* Needs to be in here for Safari polyfill so background images work as expected. */\n",
              "        background-size: auto;\n",
              "    }\n",
              "    progress:not([value]), progress:not([value])::-webkit-progress-bar {\n",
              "        background: repeating-linear-gradient(45deg, #7e7e7e, #7e7e7e 10px, #5c5c5c 10px, #5c5c5c 20px);\n",
              "    }\n",
              "    .progress-bar-interrupted, .progress-bar-interrupted::-webkit-progress-bar {\n",
              "        background: #F44336;\n",
              "    }\n",
              "</style>\n"
            ]
          },
          "metadata": {}
        },
        {
          "output_type": "display_data",
          "data": {
            "text/plain": [
              "<IPython.core.display.HTML object>"
            ],
            "text/html": [
              "\n",
              "    <div>\n",
              "      <progress value='3000' class='' max='3000' style='width:300px; height:20px; vertical-align: middle;'></progress>\n",
              "      100.00% [3000/3000 03:24&lt;00:00 Sampling chain 1, 0 divergences]\n",
              "    </div>\n",
              "    "
            ]
          },
          "metadata": {}
        },
        {
          "output_type": "display_data",
          "data": {
            "text/plain": [
              "<IPython.core.display.HTML object>"
            ],
            "text/html": [
              "\n",
              "<style>\n",
              "    /* Turns off some styling */\n",
              "    progress {\n",
              "        /* gets rid of default border in Firefox and Opera. */\n",
              "        border: none;\n",
              "        /* Needs to be in here for Safari polyfill so background images work as expected. */\n",
              "        background-size: auto;\n",
              "    }\n",
              "    progress:not([value]), progress:not([value])::-webkit-progress-bar {\n",
              "        background: repeating-linear-gradient(45deg, #7e7e7e, #7e7e7e 10px, #5c5c5c 10px, #5c5c5c 20px);\n",
              "    }\n",
              "    .progress-bar-interrupted, .progress-bar-interrupted::-webkit-progress-bar {\n",
              "        background: #F44336;\n",
              "    }\n",
              "</style>\n"
            ]
          },
          "metadata": {}
        },
        {
          "output_type": "display_data",
          "data": {
            "text/plain": [
              "<IPython.core.display.HTML object>"
            ],
            "text/html": [
              "\n",
              "    <div>\n",
              "      <progress value='3000' class='' max='3000' style='width:300px; height:20px; vertical-align: middle;'></progress>\n",
              "      100.00% [3000/3000 01:55&lt;00:00 Sampling chain 0, 0 divergences]\n",
              "    </div>\n",
              "    "
            ]
          },
          "metadata": {}
        },
        {
          "output_type": "display_data",
          "data": {
            "text/plain": [
              "<IPython.core.display.HTML object>"
            ],
            "text/html": [
              "\n",
              "<style>\n",
              "    /* Turns off some styling */\n",
              "    progress {\n",
              "        /* gets rid of default border in Firefox and Opera. */\n",
              "        border: none;\n",
              "        /* Needs to be in here for Safari polyfill so background images work as expected. */\n",
              "        background-size: auto;\n",
              "    }\n",
              "    progress:not([value]), progress:not([value])::-webkit-progress-bar {\n",
              "        background: repeating-linear-gradient(45deg, #7e7e7e, #7e7e7e 10px, #5c5c5c 10px, #5c5c5c 20px);\n",
              "    }\n",
              "    .progress-bar-interrupted, .progress-bar-interrupted::-webkit-progress-bar {\n",
              "        background: #F44336;\n",
              "    }\n",
              "</style>\n"
            ]
          },
          "metadata": {}
        },
        {
          "output_type": "display_data",
          "data": {
            "text/plain": [
              "<IPython.core.display.HTML object>"
            ],
            "text/html": [
              "\n",
              "    <div>\n",
              "      <progress value='3000' class='' max='3000' style='width:300px; height:20px; vertical-align: middle;'></progress>\n",
              "      100.00% [3000/3000 01:58&lt;00:00 Sampling chain 1, 0 divergences]\n",
              "    </div>\n",
              "    "
            ]
          },
          "metadata": {}
        },
        {
          "output_type": "stream",
          "name": "stderr",
          "text": [
            "<ipython-input-8-175c2f4f91ba>:23: FutureWarning: The series.append method is deprecated and will be removed from pandas in a future version. Use pandas.concat instead.\n",
            "  return testingData.append(pd.Series(np.zeros(trainingDataSize-len(testingData), dtype=int)))\n",
            "<ipython-input-8-175c2f4f91ba>:23: FutureWarning: The series.append method is deprecated and will be removed from pandas in a future version. Use pandas.concat instead.\n",
            "  return testingData.append(pd.Series(np.zeros(trainingDataSize-len(testingData), dtype=int)))\n",
            "<ipython-input-8-175c2f4f91ba>:23: FutureWarning: The series.append method is deprecated and will be removed from pandas in a future version. Use pandas.concat instead.\n",
            "  return testingData.append(pd.Series(np.zeros(trainingDataSize-len(testingData), dtype=int)))\n",
            "<ipython-input-8-175c2f4f91ba>:23: FutureWarning: The series.append method is deprecated and will be removed from pandas in a future version. Use pandas.concat instead.\n",
            "  return testingData.append(pd.Series(np.zeros(trainingDataSize-len(testingData), dtype=int)))\n",
            "<ipython-input-8-175c2f4f91ba>:23: FutureWarning: The series.append method is deprecated and will be removed from pandas in a future version. Use pandas.concat instead.\n",
            "  return testingData.append(pd.Series(np.zeros(trainingDataSize-len(testingData), dtype=int)))\n",
            "<ipython-input-8-175c2f4f91ba>:23: FutureWarning: The series.append method is deprecated and will be removed from pandas in a future version. Use pandas.concat instead.\n",
            "  return testingData.append(pd.Series(np.zeros(trainingDataSize-len(testingData), dtype=int)))\n",
            "<ipython-input-8-175c2f4f91ba>:23: FutureWarning: The series.append method is deprecated and will be removed from pandas in a future version. Use pandas.concat instead.\n",
            "  return testingData.append(pd.Series(np.zeros(trainingDataSize-len(testingData), dtype=int)))\n",
            "<ipython-input-8-175c2f4f91ba>:23: FutureWarning: The series.append method is deprecated and will be removed from pandas in a future version. Use pandas.concat instead.\n",
            "  return testingData.append(pd.Series(np.zeros(trainingDataSize-len(testingData), dtype=int)))\n",
            "<ipython-input-8-175c2f4f91ba>:23: FutureWarning: The series.append method is deprecated and will be removed from pandas in a future version. Use pandas.concat instead.\n",
            "  return testingData.append(pd.Series(np.zeros(trainingDataSize-len(testingData), dtype=int)))\n",
            "<ipython-input-8-175c2f4f91ba>:23: FutureWarning: The series.append method is deprecated and will be removed from pandas in a future version. Use pandas.concat instead.\n",
            "  return testingData.append(pd.Series(np.zeros(trainingDataSize-len(testingData), dtype=int)))\n",
            "<ipython-input-8-175c2f4f91ba>:23: FutureWarning: The series.append method is deprecated and will be removed from pandas in a future version. Use pandas.concat instead.\n",
            "  return testingData.append(pd.Series(np.zeros(trainingDataSize-len(testingData), dtype=int)))\n",
            "<ipython-input-8-175c2f4f91ba>:23: FutureWarning: The series.append method is deprecated and will be removed from pandas in a future version. Use pandas.concat instead.\n",
            "  return testingData.append(pd.Series(np.zeros(trainingDataSize-len(testingData), dtype=int)))\n"
          ]
        },
        {
          "output_type": "display_data",
          "data": {
            "text/plain": [
              "<IPython.core.display.HTML object>"
            ],
            "text/html": [
              "\n",
              "<style>\n",
              "    /* Turns off some styling */\n",
              "    progress {\n",
              "        /* gets rid of default border in Firefox and Opera. */\n",
              "        border: none;\n",
              "        /* Needs to be in here for Safari polyfill so background images work as expected. */\n",
              "        background-size: auto;\n",
              "    }\n",
              "    progress:not([value]), progress:not([value])::-webkit-progress-bar {\n",
              "        background: repeating-linear-gradient(45deg, #7e7e7e, #7e7e7e 10px, #5c5c5c 10px, #5c5c5c 20px);\n",
              "    }\n",
              "    .progress-bar-interrupted, .progress-bar-interrupted::-webkit-progress-bar {\n",
              "        background: #F44336;\n",
              "    }\n",
              "</style>\n"
            ]
          },
          "metadata": {}
        },
        {
          "output_type": "display_data",
          "data": {
            "text/plain": [
              "<IPython.core.display.HTML object>"
            ],
            "text/html": [
              "\n",
              "    <div>\n",
              "      <progress value='4000' class='' max='4000' style='width:300px; height:20px; vertical-align: middle;'></progress>\n",
              "      100.00% [4000/4000 00:04&lt;00:00]\n",
              "    </div>\n",
              "    "
            ]
          },
          "metadata": {}
        },
        {
          "output_type": "display_data",
          "data": {
            "text/plain": [
              "<IPython.core.display.HTML object>"
            ],
            "text/html": [
              "\n",
              "<style>\n",
              "    /* Turns off some styling */\n",
              "    progress {\n",
              "        /* gets rid of default border in Firefox and Opera. */\n",
              "        border: none;\n",
              "        /* Needs to be in here for Safari polyfill so background images work as expected. */\n",
              "        background-size: auto;\n",
              "    }\n",
              "    progress:not([value]), progress:not([value])::-webkit-progress-bar {\n",
              "        background: repeating-linear-gradient(45deg, #7e7e7e, #7e7e7e 10px, #5c5c5c 10px, #5c5c5c 20px);\n",
              "    }\n",
              "    .progress-bar-interrupted, .progress-bar-interrupted::-webkit-progress-bar {\n",
              "        background: #F44336;\n",
              "    }\n",
              "</style>\n"
            ]
          },
          "metadata": {}
        },
        {
          "output_type": "display_data",
          "data": {
            "text/plain": [
              "<IPython.core.display.HTML object>"
            ],
            "text/html": [
              "\n",
              "    <div>\n",
              "      <progress value='3000' class='' max='3000' style='width:300px; height:20px; vertical-align: middle;'></progress>\n",
              "      100.00% [3000/3000 02:20&lt;00:00 Sampling chain 0, 0 divergences]\n",
              "    </div>\n",
              "    "
            ]
          },
          "metadata": {}
        },
        {
          "output_type": "display_data",
          "data": {
            "text/plain": [
              "<IPython.core.display.HTML object>"
            ],
            "text/html": [
              "\n",
              "<style>\n",
              "    /* Turns off some styling */\n",
              "    progress {\n",
              "        /* gets rid of default border in Firefox and Opera. */\n",
              "        border: none;\n",
              "        /* Needs to be in here for Safari polyfill so background images work as expected. */\n",
              "        background-size: auto;\n",
              "    }\n",
              "    progress:not([value]), progress:not([value])::-webkit-progress-bar {\n",
              "        background: repeating-linear-gradient(45deg, #7e7e7e, #7e7e7e 10px, #5c5c5c 10px, #5c5c5c 20px);\n",
              "    }\n",
              "    .progress-bar-interrupted, .progress-bar-interrupted::-webkit-progress-bar {\n",
              "        background: #F44336;\n",
              "    }\n",
              "</style>\n"
            ]
          },
          "metadata": {}
        },
        {
          "output_type": "display_data",
          "data": {
            "text/plain": [
              "<IPython.core.display.HTML object>"
            ],
            "text/html": [
              "\n",
              "    <div>\n",
              "      <progress value='3000' class='' max='3000' style='width:300px; height:20px; vertical-align: middle;'></progress>\n",
              "      100.00% [3000/3000 02:22&lt;00:00 Sampling chain 1, 0 divergences]\n",
              "    </div>\n",
              "    "
            ]
          },
          "metadata": {}
        },
        {
          "output_type": "display_data",
          "data": {
            "text/plain": [
              "<IPython.core.display.HTML object>"
            ],
            "text/html": [
              "\n",
              "<style>\n",
              "    /* Turns off some styling */\n",
              "    progress {\n",
              "        /* gets rid of default border in Firefox and Opera. */\n",
              "        border: none;\n",
              "        /* Needs to be in here for Safari polyfill so background images work as expected. */\n",
              "        background-size: auto;\n",
              "    }\n",
              "    progress:not([value]), progress:not([value])::-webkit-progress-bar {\n",
              "        background: repeating-linear-gradient(45deg, #7e7e7e, #7e7e7e 10px, #5c5c5c 10px, #5c5c5c 20px);\n",
              "    }\n",
              "    .progress-bar-interrupted, .progress-bar-interrupted::-webkit-progress-bar {\n",
              "        background: #F44336;\n",
              "    }\n",
              "</style>\n"
            ]
          },
          "metadata": {}
        },
        {
          "output_type": "display_data",
          "data": {
            "text/plain": [
              "<IPython.core.display.HTML object>"
            ],
            "text/html": [
              "\n",
              "    <div>\n",
              "      <progress value='3000' class='' max='3000' style='width:300px; height:20px; vertical-align: middle;'></progress>\n",
              "      100.00% [3000/3000 01:59&lt;00:00 Sampling chain 0, 0 divergences]\n",
              "    </div>\n",
              "    "
            ]
          },
          "metadata": {}
        },
        {
          "output_type": "display_data",
          "data": {
            "text/plain": [
              "<IPython.core.display.HTML object>"
            ],
            "text/html": [
              "\n",
              "<style>\n",
              "    /* Turns off some styling */\n",
              "    progress {\n",
              "        /* gets rid of default border in Firefox and Opera. */\n",
              "        border: none;\n",
              "        /* Needs to be in here for Safari polyfill so background images work as expected. */\n",
              "        background-size: auto;\n",
              "    }\n",
              "    progress:not([value]), progress:not([value])::-webkit-progress-bar {\n",
              "        background: repeating-linear-gradient(45deg, #7e7e7e, #7e7e7e 10px, #5c5c5c 10px, #5c5c5c 20px);\n",
              "    }\n",
              "    .progress-bar-interrupted, .progress-bar-interrupted::-webkit-progress-bar {\n",
              "        background: #F44336;\n",
              "    }\n",
              "</style>\n"
            ]
          },
          "metadata": {}
        },
        {
          "output_type": "display_data",
          "data": {
            "text/plain": [
              "<IPython.core.display.HTML object>"
            ],
            "text/html": [
              "\n",
              "    <div>\n",
              "      <progress value='3000' class='' max='3000' style='width:300px; height:20px; vertical-align: middle;'></progress>\n",
              "      100.00% [3000/3000 01:59&lt;00:00 Sampling chain 1, 0 divergences]\n",
              "    </div>\n",
              "    "
            ]
          },
          "metadata": {}
        },
        {
          "output_type": "stream",
          "name": "stderr",
          "text": [
            "<ipython-input-8-175c2f4f91ba>:23: FutureWarning: The series.append method is deprecated and will be removed from pandas in a future version. Use pandas.concat instead.\n",
            "  return testingData.append(pd.Series(np.zeros(trainingDataSize-len(testingData), dtype=int)))\n",
            "<ipython-input-8-175c2f4f91ba>:23: FutureWarning: The series.append method is deprecated and will be removed from pandas in a future version. Use pandas.concat instead.\n",
            "  return testingData.append(pd.Series(np.zeros(trainingDataSize-len(testingData), dtype=int)))\n",
            "<ipython-input-8-175c2f4f91ba>:23: FutureWarning: The series.append method is deprecated and will be removed from pandas in a future version. Use pandas.concat instead.\n",
            "  return testingData.append(pd.Series(np.zeros(trainingDataSize-len(testingData), dtype=int)))\n",
            "<ipython-input-8-175c2f4f91ba>:23: FutureWarning: The series.append method is deprecated and will be removed from pandas in a future version. Use pandas.concat instead.\n",
            "  return testingData.append(pd.Series(np.zeros(trainingDataSize-len(testingData), dtype=int)))\n",
            "<ipython-input-8-175c2f4f91ba>:23: FutureWarning: The series.append method is deprecated and will be removed from pandas in a future version. Use pandas.concat instead.\n",
            "  return testingData.append(pd.Series(np.zeros(trainingDataSize-len(testingData), dtype=int)))\n",
            "<ipython-input-8-175c2f4f91ba>:23: FutureWarning: The series.append method is deprecated and will be removed from pandas in a future version. Use pandas.concat instead.\n",
            "  return testingData.append(pd.Series(np.zeros(trainingDataSize-len(testingData), dtype=int)))\n",
            "<ipython-input-8-175c2f4f91ba>:23: FutureWarning: The series.append method is deprecated and will be removed from pandas in a future version. Use pandas.concat instead.\n",
            "  return testingData.append(pd.Series(np.zeros(trainingDataSize-len(testingData), dtype=int)))\n",
            "<ipython-input-8-175c2f4f91ba>:23: FutureWarning: The series.append method is deprecated and will be removed from pandas in a future version. Use pandas.concat instead.\n",
            "  return testingData.append(pd.Series(np.zeros(trainingDataSize-len(testingData), dtype=int)))\n",
            "<ipython-input-8-175c2f4f91ba>:23: FutureWarning: The series.append method is deprecated and will be removed from pandas in a future version. Use pandas.concat instead.\n",
            "  return testingData.append(pd.Series(np.zeros(trainingDataSize-len(testingData), dtype=int)))\n",
            "<ipython-input-8-175c2f4f91ba>:23: FutureWarning: The series.append method is deprecated and will be removed from pandas in a future version. Use pandas.concat instead.\n",
            "  return testingData.append(pd.Series(np.zeros(trainingDataSize-len(testingData), dtype=int)))\n",
            "<ipython-input-8-175c2f4f91ba>:23: FutureWarning: The series.append method is deprecated and will be removed from pandas in a future version. Use pandas.concat instead.\n",
            "  return testingData.append(pd.Series(np.zeros(trainingDataSize-len(testingData), dtype=int)))\n",
            "<ipython-input-8-175c2f4f91ba>:23: FutureWarning: The series.append method is deprecated and will be removed from pandas in a future version. Use pandas.concat instead.\n",
            "  return testingData.append(pd.Series(np.zeros(trainingDataSize-len(testingData), dtype=int)))\n"
          ]
        },
        {
          "output_type": "display_data",
          "data": {
            "text/plain": [
              "<IPython.core.display.HTML object>"
            ],
            "text/html": [
              "\n",
              "<style>\n",
              "    /* Turns off some styling */\n",
              "    progress {\n",
              "        /* gets rid of default border in Firefox and Opera. */\n",
              "        border: none;\n",
              "        /* Needs to be in here for Safari polyfill so background images work as expected. */\n",
              "        background-size: auto;\n",
              "    }\n",
              "    progress:not([value]), progress:not([value])::-webkit-progress-bar {\n",
              "        background: repeating-linear-gradient(45deg, #7e7e7e, #7e7e7e 10px, #5c5c5c 10px, #5c5c5c 20px);\n",
              "    }\n",
              "    .progress-bar-interrupted, .progress-bar-interrupted::-webkit-progress-bar {\n",
              "        background: #F44336;\n",
              "    }\n",
              "</style>\n"
            ]
          },
          "metadata": {}
        },
        {
          "output_type": "display_data",
          "data": {
            "text/plain": [
              "<IPython.core.display.HTML object>"
            ],
            "text/html": [
              "\n",
              "    <div>\n",
              "      <progress value='4000' class='' max='4000' style='width:300px; height:20px; vertical-align: middle;'></progress>\n",
              "      100.00% [4000/4000 00:02&lt;00:00]\n",
              "    </div>\n",
              "    "
            ]
          },
          "metadata": {}
        },
        {
          "output_type": "display_data",
          "data": {
            "text/plain": [
              "<IPython.core.display.HTML object>"
            ],
            "text/html": [
              "\n",
              "<style>\n",
              "    /* Turns off some styling */\n",
              "    progress {\n",
              "        /* gets rid of default border in Firefox and Opera. */\n",
              "        border: none;\n",
              "        /* Needs to be in here for Safari polyfill so background images work as expected. */\n",
              "        background-size: auto;\n",
              "    }\n",
              "    progress:not([value]), progress:not([value])::-webkit-progress-bar {\n",
              "        background: repeating-linear-gradient(45deg, #7e7e7e, #7e7e7e 10px, #5c5c5c 10px, #5c5c5c 20px);\n",
              "    }\n",
              "    .progress-bar-interrupted, .progress-bar-interrupted::-webkit-progress-bar {\n",
              "        background: #F44336;\n",
              "    }\n",
              "</style>\n"
            ]
          },
          "metadata": {}
        },
        {
          "output_type": "display_data",
          "data": {
            "text/plain": [
              "<IPython.core.display.HTML object>"
            ],
            "text/html": [
              "\n",
              "    <div>\n",
              "      <progress value='3000' class='' max='3000' style='width:300px; height:20px; vertical-align: middle;'></progress>\n",
              "      100.00% [3000/3000 02:19&lt;00:00 Sampling chain 0, 0 divergences]\n",
              "    </div>\n",
              "    "
            ]
          },
          "metadata": {}
        },
        {
          "output_type": "display_data",
          "data": {
            "text/plain": [
              "<IPython.core.display.HTML object>"
            ],
            "text/html": [
              "\n",
              "<style>\n",
              "    /* Turns off some styling */\n",
              "    progress {\n",
              "        /* gets rid of default border in Firefox and Opera. */\n",
              "        border: none;\n",
              "        /* Needs to be in here for Safari polyfill so background images work as expected. */\n",
              "        background-size: auto;\n",
              "    }\n",
              "    progress:not([value]), progress:not([value])::-webkit-progress-bar {\n",
              "        background: repeating-linear-gradient(45deg, #7e7e7e, #7e7e7e 10px, #5c5c5c 10px, #5c5c5c 20px);\n",
              "    }\n",
              "    .progress-bar-interrupted, .progress-bar-interrupted::-webkit-progress-bar {\n",
              "        background: #F44336;\n",
              "    }\n",
              "</style>\n"
            ]
          },
          "metadata": {}
        },
        {
          "output_type": "display_data",
          "data": {
            "text/plain": [
              "<IPython.core.display.HTML object>"
            ],
            "text/html": [
              "\n",
              "    <div>\n",
              "      <progress value='3000' class='' max='3000' style='width:300px; height:20px; vertical-align: middle;'></progress>\n",
              "      100.00% [3000/3000 02:21&lt;00:00 Sampling chain 1, 0 divergences]\n",
              "    </div>\n",
              "    "
            ]
          },
          "metadata": {}
        },
        {
          "output_type": "display_data",
          "data": {
            "text/plain": [
              "<IPython.core.display.HTML object>"
            ],
            "text/html": [
              "\n",
              "<style>\n",
              "    /* Turns off some styling */\n",
              "    progress {\n",
              "        /* gets rid of default border in Firefox and Opera. */\n",
              "        border: none;\n",
              "        /* Needs to be in here for Safari polyfill so background images work as expected. */\n",
              "        background-size: auto;\n",
              "    }\n",
              "    progress:not([value]), progress:not([value])::-webkit-progress-bar {\n",
              "        background: repeating-linear-gradient(45deg, #7e7e7e, #7e7e7e 10px, #5c5c5c 10px, #5c5c5c 20px);\n",
              "    }\n",
              "    .progress-bar-interrupted, .progress-bar-interrupted::-webkit-progress-bar {\n",
              "        background: #F44336;\n",
              "    }\n",
              "</style>\n"
            ]
          },
          "metadata": {}
        },
        {
          "output_type": "display_data",
          "data": {
            "text/plain": [
              "<IPython.core.display.HTML object>"
            ],
            "text/html": [
              "\n",
              "    <div>\n",
              "      <progress value='3000' class='' max='3000' style='width:300px; height:20px; vertical-align: middle;'></progress>\n",
              "      100.00% [3000/3000 01:52&lt;00:00 Sampling chain 0, 0 divergences]\n",
              "    </div>\n",
              "    "
            ]
          },
          "metadata": {}
        },
        {
          "output_type": "display_data",
          "data": {
            "text/plain": [
              "<IPython.core.display.HTML object>"
            ],
            "text/html": [
              "\n",
              "<style>\n",
              "    /* Turns off some styling */\n",
              "    progress {\n",
              "        /* gets rid of default border in Firefox and Opera. */\n",
              "        border: none;\n",
              "        /* Needs to be in here for Safari polyfill so background images work as expected. */\n",
              "        background-size: auto;\n",
              "    }\n",
              "    progress:not([value]), progress:not([value])::-webkit-progress-bar {\n",
              "        background: repeating-linear-gradient(45deg, #7e7e7e, #7e7e7e 10px, #5c5c5c 10px, #5c5c5c 20px);\n",
              "    }\n",
              "    .progress-bar-interrupted, .progress-bar-interrupted::-webkit-progress-bar {\n",
              "        background: #F44336;\n",
              "    }\n",
              "</style>\n"
            ]
          },
          "metadata": {}
        },
        {
          "output_type": "display_data",
          "data": {
            "text/plain": [
              "<IPython.core.display.HTML object>"
            ],
            "text/html": [
              "\n",
              "    <div>\n",
              "      <progress value='3000' class='' max='3000' style='width:300px; height:20px; vertical-align: middle;'></progress>\n",
              "      100.00% [3000/3000 01:51&lt;00:00 Sampling chain 1, 0 divergences]\n",
              "    </div>\n",
              "    "
            ]
          },
          "metadata": {}
        },
        {
          "output_type": "stream",
          "name": "stderr",
          "text": [
            "<ipython-input-8-175c2f4f91ba>:23: FutureWarning: The series.append method is deprecated and will be removed from pandas in a future version. Use pandas.concat instead.\n",
            "  return testingData.append(pd.Series(np.zeros(trainingDataSize-len(testingData), dtype=int)))\n",
            "<ipython-input-8-175c2f4f91ba>:23: FutureWarning: The series.append method is deprecated and will be removed from pandas in a future version. Use pandas.concat instead.\n",
            "  return testingData.append(pd.Series(np.zeros(trainingDataSize-len(testingData), dtype=int)))\n",
            "<ipython-input-8-175c2f4f91ba>:23: FutureWarning: The series.append method is deprecated and will be removed from pandas in a future version. Use pandas.concat instead.\n",
            "  return testingData.append(pd.Series(np.zeros(trainingDataSize-len(testingData), dtype=int)))\n",
            "<ipython-input-8-175c2f4f91ba>:23: FutureWarning: The series.append method is deprecated and will be removed from pandas in a future version. Use pandas.concat instead.\n",
            "  return testingData.append(pd.Series(np.zeros(trainingDataSize-len(testingData), dtype=int)))\n",
            "<ipython-input-8-175c2f4f91ba>:23: FutureWarning: The series.append method is deprecated and will be removed from pandas in a future version. Use pandas.concat instead.\n",
            "  return testingData.append(pd.Series(np.zeros(trainingDataSize-len(testingData), dtype=int)))\n",
            "<ipython-input-8-175c2f4f91ba>:23: FutureWarning: The series.append method is deprecated and will be removed from pandas in a future version. Use pandas.concat instead.\n",
            "  return testingData.append(pd.Series(np.zeros(trainingDataSize-len(testingData), dtype=int)))\n",
            "<ipython-input-8-175c2f4f91ba>:23: FutureWarning: The series.append method is deprecated and will be removed from pandas in a future version. Use pandas.concat instead.\n",
            "  return testingData.append(pd.Series(np.zeros(trainingDataSize-len(testingData), dtype=int)))\n",
            "<ipython-input-8-175c2f4f91ba>:23: FutureWarning: The series.append method is deprecated and will be removed from pandas in a future version. Use pandas.concat instead.\n",
            "  return testingData.append(pd.Series(np.zeros(trainingDataSize-len(testingData), dtype=int)))\n",
            "<ipython-input-8-175c2f4f91ba>:23: FutureWarning: The series.append method is deprecated and will be removed from pandas in a future version. Use pandas.concat instead.\n",
            "  return testingData.append(pd.Series(np.zeros(trainingDataSize-len(testingData), dtype=int)))\n",
            "<ipython-input-8-175c2f4f91ba>:23: FutureWarning: The series.append method is deprecated and will be removed from pandas in a future version. Use pandas.concat instead.\n",
            "  return testingData.append(pd.Series(np.zeros(trainingDataSize-len(testingData), dtype=int)))\n",
            "<ipython-input-8-175c2f4f91ba>:23: FutureWarning: The series.append method is deprecated and will be removed from pandas in a future version. Use pandas.concat instead.\n",
            "  return testingData.append(pd.Series(np.zeros(trainingDataSize-len(testingData), dtype=int)))\n",
            "<ipython-input-8-175c2f4f91ba>:23: FutureWarning: The series.append method is deprecated and will be removed from pandas in a future version. Use pandas.concat instead.\n",
            "  return testingData.append(pd.Series(np.zeros(trainingDataSize-len(testingData), dtype=int)))\n"
          ]
        },
        {
          "output_type": "display_data",
          "data": {
            "text/plain": [
              "<IPython.core.display.HTML object>"
            ],
            "text/html": [
              "\n",
              "<style>\n",
              "    /* Turns off some styling */\n",
              "    progress {\n",
              "        /* gets rid of default border in Firefox and Opera. */\n",
              "        border: none;\n",
              "        /* Needs to be in here for Safari polyfill so background images work as expected. */\n",
              "        background-size: auto;\n",
              "    }\n",
              "    progress:not([value]), progress:not([value])::-webkit-progress-bar {\n",
              "        background: repeating-linear-gradient(45deg, #7e7e7e, #7e7e7e 10px, #5c5c5c 10px, #5c5c5c 20px);\n",
              "    }\n",
              "    .progress-bar-interrupted, .progress-bar-interrupted::-webkit-progress-bar {\n",
              "        background: #F44336;\n",
              "    }\n",
              "</style>\n"
            ]
          },
          "metadata": {}
        },
        {
          "output_type": "display_data",
          "data": {
            "text/plain": [
              "<IPython.core.display.HTML object>"
            ],
            "text/html": [
              "\n",
              "    <div>\n",
              "      <progress value='4000' class='' max='4000' style='width:300px; height:20px; vertical-align: middle;'></progress>\n",
              "      100.00% [4000/4000 00:03&lt;00:00]\n",
              "    </div>\n",
              "    "
            ]
          },
          "metadata": {}
        },
        {
          "output_type": "display_data",
          "data": {
            "text/plain": [
              "<IPython.core.display.HTML object>"
            ],
            "text/html": [
              "\n",
              "<style>\n",
              "    /* Turns off some styling */\n",
              "    progress {\n",
              "        /* gets rid of default border in Firefox and Opera. */\n",
              "        border: none;\n",
              "        /* Needs to be in here for Safari polyfill so background images work as expected. */\n",
              "        background-size: auto;\n",
              "    }\n",
              "    progress:not([value]), progress:not([value])::-webkit-progress-bar {\n",
              "        background: repeating-linear-gradient(45deg, #7e7e7e, #7e7e7e 10px, #5c5c5c 10px, #5c5c5c 20px);\n",
              "    }\n",
              "    .progress-bar-interrupted, .progress-bar-interrupted::-webkit-progress-bar {\n",
              "        background: #F44336;\n",
              "    }\n",
              "</style>\n"
            ]
          },
          "metadata": {}
        },
        {
          "output_type": "display_data",
          "data": {
            "text/plain": [
              "<IPython.core.display.HTML object>"
            ],
            "text/html": [
              "\n",
              "    <div>\n",
              "      <progress value='3000' class='' max='3000' style='width:300px; height:20px; vertical-align: middle;'></progress>\n",
              "      100.00% [3000/3000 02:13&lt;00:00 Sampling chain 0, 0 divergences]\n",
              "    </div>\n",
              "    "
            ]
          },
          "metadata": {}
        },
        {
          "output_type": "display_data",
          "data": {
            "text/plain": [
              "<IPython.core.display.HTML object>"
            ],
            "text/html": [
              "\n",
              "<style>\n",
              "    /* Turns off some styling */\n",
              "    progress {\n",
              "        /* gets rid of default border in Firefox and Opera. */\n",
              "        border: none;\n",
              "        /* Needs to be in here for Safari polyfill so background images work as expected. */\n",
              "        background-size: auto;\n",
              "    }\n",
              "    progress:not([value]), progress:not([value])::-webkit-progress-bar {\n",
              "        background: repeating-linear-gradient(45deg, #7e7e7e, #7e7e7e 10px, #5c5c5c 10px, #5c5c5c 20px);\n",
              "    }\n",
              "    .progress-bar-interrupted, .progress-bar-interrupted::-webkit-progress-bar {\n",
              "        background: #F44336;\n",
              "    }\n",
              "</style>\n"
            ]
          },
          "metadata": {}
        },
        {
          "output_type": "display_data",
          "data": {
            "text/plain": [
              "<IPython.core.display.HTML object>"
            ],
            "text/html": [
              "\n",
              "    <div>\n",
              "      <progress value='3000' class='' max='3000' style='width:300px; height:20px; vertical-align: middle;'></progress>\n",
              "      100.00% [3000/3000 02:00&lt;00:00 Sampling chain 1, 0 divergences]\n",
              "    </div>\n",
              "    "
            ]
          },
          "metadata": {}
        },
        {
          "output_type": "display_data",
          "data": {
            "text/plain": [
              "<IPython.core.display.HTML object>"
            ],
            "text/html": [
              "\n",
              "<style>\n",
              "    /* Turns off some styling */\n",
              "    progress {\n",
              "        /* gets rid of default border in Firefox and Opera. */\n",
              "        border: none;\n",
              "        /* Needs to be in here for Safari polyfill so background images work as expected. */\n",
              "        background-size: auto;\n",
              "    }\n",
              "    progress:not([value]), progress:not([value])::-webkit-progress-bar {\n",
              "        background: repeating-linear-gradient(45deg, #7e7e7e, #7e7e7e 10px, #5c5c5c 10px, #5c5c5c 20px);\n",
              "    }\n",
              "    .progress-bar-interrupted, .progress-bar-interrupted::-webkit-progress-bar {\n",
              "        background: #F44336;\n",
              "    }\n",
              "</style>\n"
            ]
          },
          "metadata": {}
        },
        {
          "output_type": "display_data",
          "data": {
            "text/plain": [
              "<IPython.core.display.HTML object>"
            ],
            "text/html": [
              "\n",
              "    <div>\n",
              "      <progress value='3000' class='' max='3000' style='width:300px; height:20px; vertical-align: middle;'></progress>\n",
              "      100.00% [3000/3000 01:54&lt;00:00 Sampling chain 0, 0 divergences]\n",
              "    </div>\n",
              "    "
            ]
          },
          "metadata": {}
        },
        {
          "output_type": "display_data",
          "data": {
            "text/plain": [
              "<IPython.core.display.HTML object>"
            ],
            "text/html": [
              "\n",
              "<style>\n",
              "    /* Turns off some styling */\n",
              "    progress {\n",
              "        /* gets rid of default border in Firefox and Opera. */\n",
              "        border: none;\n",
              "        /* Needs to be in here for Safari polyfill so background images work as expected. */\n",
              "        background-size: auto;\n",
              "    }\n",
              "    progress:not([value]), progress:not([value])::-webkit-progress-bar {\n",
              "        background: repeating-linear-gradient(45deg, #7e7e7e, #7e7e7e 10px, #5c5c5c 10px, #5c5c5c 20px);\n",
              "    }\n",
              "    .progress-bar-interrupted, .progress-bar-interrupted::-webkit-progress-bar {\n",
              "        background: #F44336;\n",
              "    }\n",
              "</style>\n"
            ]
          },
          "metadata": {}
        },
        {
          "output_type": "display_data",
          "data": {
            "text/plain": [
              "<IPython.core.display.HTML object>"
            ],
            "text/html": [
              "\n",
              "    <div>\n",
              "      <progress value='3000' class='' max='3000' style='width:300px; height:20px; vertical-align: middle;'></progress>\n",
              "      100.00% [3000/3000 02:08&lt;00:00 Sampling chain 1, 0 divergences]\n",
              "    </div>\n",
              "    "
            ]
          },
          "metadata": {}
        },
        {
          "output_type": "stream",
          "name": "stderr",
          "text": [
            "<ipython-input-8-175c2f4f91ba>:23: FutureWarning: The series.append method is deprecated and will be removed from pandas in a future version. Use pandas.concat instead.\n",
            "  return testingData.append(pd.Series(np.zeros(trainingDataSize-len(testingData), dtype=int)))\n",
            "<ipython-input-8-175c2f4f91ba>:23: FutureWarning: The series.append method is deprecated and will be removed from pandas in a future version. Use pandas.concat instead.\n",
            "  return testingData.append(pd.Series(np.zeros(trainingDataSize-len(testingData), dtype=int)))\n",
            "<ipython-input-8-175c2f4f91ba>:23: FutureWarning: The series.append method is deprecated and will be removed from pandas in a future version. Use pandas.concat instead.\n",
            "  return testingData.append(pd.Series(np.zeros(trainingDataSize-len(testingData), dtype=int)))\n",
            "<ipython-input-8-175c2f4f91ba>:23: FutureWarning: The series.append method is deprecated and will be removed from pandas in a future version. Use pandas.concat instead.\n",
            "  return testingData.append(pd.Series(np.zeros(trainingDataSize-len(testingData), dtype=int)))\n",
            "<ipython-input-8-175c2f4f91ba>:23: FutureWarning: The series.append method is deprecated and will be removed from pandas in a future version. Use pandas.concat instead.\n",
            "  return testingData.append(pd.Series(np.zeros(trainingDataSize-len(testingData), dtype=int)))\n",
            "<ipython-input-8-175c2f4f91ba>:23: FutureWarning: The series.append method is deprecated and will be removed from pandas in a future version. Use pandas.concat instead.\n",
            "  return testingData.append(pd.Series(np.zeros(trainingDataSize-len(testingData), dtype=int)))\n",
            "<ipython-input-8-175c2f4f91ba>:23: FutureWarning: The series.append method is deprecated and will be removed from pandas in a future version. Use pandas.concat instead.\n",
            "  return testingData.append(pd.Series(np.zeros(trainingDataSize-len(testingData), dtype=int)))\n",
            "<ipython-input-8-175c2f4f91ba>:23: FutureWarning: The series.append method is deprecated and will be removed from pandas in a future version. Use pandas.concat instead.\n",
            "  return testingData.append(pd.Series(np.zeros(trainingDataSize-len(testingData), dtype=int)))\n",
            "<ipython-input-8-175c2f4f91ba>:23: FutureWarning: The series.append method is deprecated and will be removed from pandas in a future version. Use pandas.concat instead.\n",
            "  return testingData.append(pd.Series(np.zeros(trainingDataSize-len(testingData), dtype=int)))\n",
            "<ipython-input-8-175c2f4f91ba>:23: FutureWarning: The series.append method is deprecated and will be removed from pandas in a future version. Use pandas.concat instead.\n",
            "  return testingData.append(pd.Series(np.zeros(trainingDataSize-len(testingData), dtype=int)))\n",
            "<ipython-input-8-175c2f4f91ba>:23: FutureWarning: The series.append method is deprecated and will be removed from pandas in a future version. Use pandas.concat instead.\n",
            "  return testingData.append(pd.Series(np.zeros(trainingDataSize-len(testingData), dtype=int)))\n",
            "<ipython-input-8-175c2f4f91ba>:23: FutureWarning: The series.append method is deprecated and will be removed from pandas in a future version. Use pandas.concat instead.\n",
            "  return testingData.append(pd.Series(np.zeros(trainingDataSize-len(testingData), dtype=int)))\n"
          ]
        },
        {
          "output_type": "display_data",
          "data": {
            "text/plain": [
              "<IPython.core.display.HTML object>"
            ],
            "text/html": [
              "\n",
              "<style>\n",
              "    /* Turns off some styling */\n",
              "    progress {\n",
              "        /* gets rid of default border in Firefox and Opera. */\n",
              "        border: none;\n",
              "        /* Needs to be in here for Safari polyfill so background images work as expected. */\n",
              "        background-size: auto;\n",
              "    }\n",
              "    progress:not([value]), progress:not([value])::-webkit-progress-bar {\n",
              "        background: repeating-linear-gradient(45deg, #7e7e7e, #7e7e7e 10px, #5c5c5c 10px, #5c5c5c 20px);\n",
              "    }\n",
              "    .progress-bar-interrupted, .progress-bar-interrupted::-webkit-progress-bar {\n",
              "        background: #F44336;\n",
              "    }\n",
              "</style>\n"
            ]
          },
          "metadata": {}
        },
        {
          "output_type": "display_data",
          "data": {
            "text/plain": [
              "<IPython.core.display.HTML object>"
            ],
            "text/html": [
              "\n",
              "    <div>\n",
              "      <progress value='4000' class='' max='4000' style='width:300px; height:20px; vertical-align: middle;'></progress>\n",
              "      100.00% [4000/4000 00:02&lt;00:00]\n",
              "    </div>\n",
              "    "
            ]
          },
          "metadata": {}
        },
        {
          "output_type": "display_data",
          "data": {
            "text/plain": [
              "<IPython.core.display.HTML object>"
            ],
            "text/html": [
              "\n",
              "<style>\n",
              "    /* Turns off some styling */\n",
              "    progress {\n",
              "        /* gets rid of default border in Firefox and Opera. */\n",
              "        border: none;\n",
              "        /* Needs to be in here for Safari polyfill so background images work as expected. */\n",
              "        background-size: auto;\n",
              "    }\n",
              "    progress:not([value]), progress:not([value])::-webkit-progress-bar {\n",
              "        background: repeating-linear-gradient(45deg, #7e7e7e, #7e7e7e 10px, #5c5c5c 10px, #5c5c5c 20px);\n",
              "    }\n",
              "    .progress-bar-interrupted, .progress-bar-interrupted::-webkit-progress-bar {\n",
              "        background: #F44336;\n",
              "    }\n",
              "</style>\n"
            ]
          },
          "metadata": {}
        },
        {
          "output_type": "display_data",
          "data": {
            "text/plain": [
              "<IPython.core.display.HTML object>"
            ],
            "text/html": [
              "\n",
              "    <div>\n",
              "      <progress value='3000' class='' max='3000' style='width:300px; height:20px; vertical-align: middle;'></progress>\n",
              "      100.00% [3000/3000 02:16&lt;00:00 Sampling chain 0, 0 divergences]\n",
              "    </div>\n",
              "    "
            ]
          },
          "metadata": {}
        },
        {
          "output_type": "display_data",
          "data": {
            "text/plain": [
              "<IPython.core.display.HTML object>"
            ],
            "text/html": [
              "\n",
              "<style>\n",
              "    /* Turns off some styling */\n",
              "    progress {\n",
              "        /* gets rid of default border in Firefox and Opera. */\n",
              "        border: none;\n",
              "        /* Needs to be in here for Safari polyfill so background images work as expected. */\n",
              "        background-size: auto;\n",
              "    }\n",
              "    progress:not([value]), progress:not([value])::-webkit-progress-bar {\n",
              "        background: repeating-linear-gradient(45deg, #7e7e7e, #7e7e7e 10px, #5c5c5c 10px, #5c5c5c 20px);\n",
              "    }\n",
              "    .progress-bar-interrupted, .progress-bar-interrupted::-webkit-progress-bar {\n",
              "        background: #F44336;\n",
              "    }\n",
              "</style>\n"
            ]
          },
          "metadata": {}
        },
        {
          "output_type": "display_data",
          "data": {
            "text/plain": [
              "<IPython.core.display.HTML object>"
            ],
            "text/html": [
              "\n",
              "    <div>\n",
              "      <progress value='3000' class='' max='3000' style='width:300px; height:20px; vertical-align: middle;'></progress>\n",
              "      100.00% [3000/3000 02:06&lt;00:00 Sampling chain 1, 0 divergences]\n",
              "    </div>\n",
              "    "
            ]
          },
          "metadata": {}
        },
        {
          "output_type": "display_data",
          "data": {
            "text/plain": [
              "<IPython.core.display.HTML object>"
            ],
            "text/html": [
              "\n",
              "<style>\n",
              "    /* Turns off some styling */\n",
              "    progress {\n",
              "        /* gets rid of default border in Firefox and Opera. */\n",
              "        border: none;\n",
              "        /* Needs to be in here for Safari polyfill so background images work as expected. */\n",
              "        background-size: auto;\n",
              "    }\n",
              "    progress:not([value]), progress:not([value])::-webkit-progress-bar {\n",
              "        background: repeating-linear-gradient(45deg, #7e7e7e, #7e7e7e 10px, #5c5c5c 10px, #5c5c5c 20px);\n",
              "    }\n",
              "    .progress-bar-interrupted, .progress-bar-interrupted::-webkit-progress-bar {\n",
              "        background: #F44336;\n",
              "    }\n",
              "</style>\n"
            ]
          },
          "metadata": {}
        },
        {
          "output_type": "display_data",
          "data": {
            "text/plain": [
              "<IPython.core.display.HTML object>"
            ],
            "text/html": [
              "\n",
              "    <div>\n",
              "      <progress value='3000' class='' max='3000' style='width:300px; height:20px; vertical-align: middle;'></progress>\n",
              "      100.00% [3000/3000 02:06&lt;00:00 Sampling chain 0, 0 divergences]\n",
              "    </div>\n",
              "    "
            ]
          },
          "metadata": {}
        },
        {
          "output_type": "display_data",
          "data": {
            "text/plain": [
              "<IPython.core.display.HTML object>"
            ],
            "text/html": [
              "\n",
              "<style>\n",
              "    /* Turns off some styling */\n",
              "    progress {\n",
              "        /* gets rid of default border in Firefox and Opera. */\n",
              "        border: none;\n",
              "        /* Needs to be in here for Safari polyfill so background images work as expected. */\n",
              "        background-size: auto;\n",
              "    }\n",
              "    progress:not([value]), progress:not([value])::-webkit-progress-bar {\n",
              "        background: repeating-linear-gradient(45deg, #7e7e7e, #7e7e7e 10px, #5c5c5c 10px, #5c5c5c 20px);\n",
              "    }\n",
              "    .progress-bar-interrupted, .progress-bar-interrupted::-webkit-progress-bar {\n",
              "        background: #F44336;\n",
              "    }\n",
              "</style>\n"
            ]
          },
          "metadata": {}
        },
        {
          "output_type": "display_data",
          "data": {
            "text/plain": [
              "<IPython.core.display.HTML object>"
            ],
            "text/html": [
              "\n",
              "    <div>\n",
              "      <progress value='3000' class='' max='3000' style='width:300px; height:20px; vertical-align: middle;'></progress>\n",
              "      100.00% [3000/3000 01:55&lt;00:00 Sampling chain 1, 0 divergences]\n",
              "    </div>\n",
              "    "
            ]
          },
          "metadata": {}
        },
        {
          "output_type": "stream",
          "name": "stderr",
          "text": [
            "<ipython-input-8-175c2f4f91ba>:23: FutureWarning: The series.append method is deprecated and will be removed from pandas in a future version. Use pandas.concat instead.\n",
            "  return testingData.append(pd.Series(np.zeros(trainingDataSize-len(testingData), dtype=int)))\n",
            "<ipython-input-8-175c2f4f91ba>:23: FutureWarning: The series.append method is deprecated and will be removed from pandas in a future version. Use pandas.concat instead.\n",
            "  return testingData.append(pd.Series(np.zeros(trainingDataSize-len(testingData), dtype=int)))\n",
            "<ipython-input-8-175c2f4f91ba>:23: FutureWarning: The series.append method is deprecated and will be removed from pandas in a future version. Use pandas.concat instead.\n",
            "  return testingData.append(pd.Series(np.zeros(trainingDataSize-len(testingData), dtype=int)))\n",
            "<ipython-input-8-175c2f4f91ba>:23: FutureWarning: The series.append method is deprecated and will be removed from pandas in a future version. Use pandas.concat instead.\n",
            "  return testingData.append(pd.Series(np.zeros(trainingDataSize-len(testingData), dtype=int)))\n",
            "<ipython-input-8-175c2f4f91ba>:23: FutureWarning: The series.append method is deprecated and will be removed from pandas in a future version. Use pandas.concat instead.\n",
            "  return testingData.append(pd.Series(np.zeros(trainingDataSize-len(testingData), dtype=int)))\n",
            "<ipython-input-8-175c2f4f91ba>:23: FutureWarning: The series.append method is deprecated and will be removed from pandas in a future version. Use pandas.concat instead.\n",
            "  return testingData.append(pd.Series(np.zeros(trainingDataSize-len(testingData), dtype=int)))\n",
            "<ipython-input-8-175c2f4f91ba>:23: FutureWarning: The series.append method is deprecated and will be removed from pandas in a future version. Use pandas.concat instead.\n",
            "  return testingData.append(pd.Series(np.zeros(trainingDataSize-len(testingData), dtype=int)))\n",
            "<ipython-input-8-175c2f4f91ba>:23: FutureWarning: The series.append method is deprecated and will be removed from pandas in a future version. Use pandas.concat instead.\n",
            "  return testingData.append(pd.Series(np.zeros(trainingDataSize-len(testingData), dtype=int)))\n",
            "<ipython-input-8-175c2f4f91ba>:23: FutureWarning: The series.append method is deprecated and will be removed from pandas in a future version. Use pandas.concat instead.\n",
            "  return testingData.append(pd.Series(np.zeros(trainingDataSize-len(testingData), dtype=int)))\n",
            "<ipython-input-8-175c2f4f91ba>:23: FutureWarning: The series.append method is deprecated and will be removed from pandas in a future version. Use pandas.concat instead.\n",
            "  return testingData.append(pd.Series(np.zeros(trainingDataSize-len(testingData), dtype=int)))\n",
            "<ipython-input-8-175c2f4f91ba>:23: FutureWarning: The series.append method is deprecated and will be removed from pandas in a future version. Use pandas.concat instead.\n",
            "  return testingData.append(pd.Series(np.zeros(trainingDataSize-len(testingData), dtype=int)))\n",
            "<ipython-input-8-175c2f4f91ba>:23: FutureWarning: The series.append method is deprecated and will be removed from pandas in a future version. Use pandas.concat instead.\n",
            "  return testingData.append(pd.Series(np.zeros(trainingDataSize-len(testingData), dtype=int)))\n"
          ]
        },
        {
          "output_type": "display_data",
          "data": {
            "text/plain": [
              "<IPython.core.display.HTML object>"
            ],
            "text/html": [
              "\n",
              "<style>\n",
              "    /* Turns off some styling */\n",
              "    progress {\n",
              "        /* gets rid of default border in Firefox and Opera. */\n",
              "        border: none;\n",
              "        /* Needs to be in here for Safari polyfill so background images work as expected. */\n",
              "        background-size: auto;\n",
              "    }\n",
              "    progress:not([value]), progress:not([value])::-webkit-progress-bar {\n",
              "        background: repeating-linear-gradient(45deg, #7e7e7e, #7e7e7e 10px, #5c5c5c 10px, #5c5c5c 20px);\n",
              "    }\n",
              "    .progress-bar-interrupted, .progress-bar-interrupted::-webkit-progress-bar {\n",
              "        background: #F44336;\n",
              "    }\n",
              "</style>\n"
            ]
          },
          "metadata": {}
        },
        {
          "output_type": "display_data",
          "data": {
            "text/plain": [
              "<IPython.core.display.HTML object>"
            ],
            "text/html": [
              "\n",
              "    <div>\n",
              "      <progress value='4000' class='' max='4000' style='width:300px; height:20px; vertical-align: middle;'></progress>\n",
              "      100.00% [4000/4000 00:02&lt;00:00]\n",
              "    </div>\n",
              "    "
            ]
          },
          "metadata": {}
        },
        {
          "output_type": "display_data",
          "data": {
            "text/plain": [
              "<IPython.core.display.HTML object>"
            ],
            "text/html": [
              "\n",
              "<style>\n",
              "    /* Turns off some styling */\n",
              "    progress {\n",
              "        /* gets rid of default border in Firefox and Opera. */\n",
              "        border: none;\n",
              "        /* Needs to be in here for Safari polyfill so background images work as expected. */\n",
              "        background-size: auto;\n",
              "    }\n",
              "    progress:not([value]), progress:not([value])::-webkit-progress-bar {\n",
              "        background: repeating-linear-gradient(45deg, #7e7e7e, #7e7e7e 10px, #5c5c5c 10px, #5c5c5c 20px);\n",
              "    }\n",
              "    .progress-bar-interrupted, .progress-bar-interrupted::-webkit-progress-bar {\n",
              "        background: #F44336;\n",
              "    }\n",
              "</style>\n"
            ]
          },
          "metadata": {}
        },
        {
          "output_type": "display_data",
          "data": {
            "text/plain": [
              "<IPython.core.display.HTML object>"
            ],
            "text/html": [
              "\n",
              "    <div>\n",
              "      <progress value='3000' class='' max='3000' style='width:300px; height:20px; vertical-align: middle;'></progress>\n",
              "      100.00% [3000/3000 02:28&lt;00:00 Sampling chain 0, 0 divergences]\n",
              "    </div>\n",
              "    "
            ]
          },
          "metadata": {}
        },
        {
          "output_type": "display_data",
          "data": {
            "text/plain": [
              "<IPython.core.display.HTML object>"
            ],
            "text/html": [
              "\n",
              "<style>\n",
              "    /* Turns off some styling */\n",
              "    progress {\n",
              "        /* gets rid of default border in Firefox and Opera. */\n",
              "        border: none;\n",
              "        /* Needs to be in here for Safari polyfill so background images work as expected. */\n",
              "        background-size: auto;\n",
              "    }\n",
              "    progress:not([value]), progress:not([value])::-webkit-progress-bar {\n",
              "        background: repeating-linear-gradient(45deg, #7e7e7e, #7e7e7e 10px, #5c5c5c 10px, #5c5c5c 20px);\n",
              "    }\n",
              "    .progress-bar-interrupted, .progress-bar-interrupted::-webkit-progress-bar {\n",
              "        background: #F44336;\n",
              "    }\n",
              "</style>\n"
            ]
          },
          "metadata": {}
        },
        {
          "output_type": "display_data",
          "data": {
            "text/plain": [
              "<IPython.core.display.HTML object>"
            ],
            "text/html": [
              "\n",
              "    <div>\n",
              "      <progress value='3000' class='' max='3000' style='width:300px; height:20px; vertical-align: middle;'></progress>\n",
              "      100.00% [3000/3000 02:12&lt;00:00 Sampling chain 1, 0 divergences]\n",
              "    </div>\n",
              "    "
            ]
          },
          "metadata": {}
        }
      ]
    },
    {
      "cell_type": "code",
      "source": [
        "model_train, min, max = SetupModel(children_training, uniformAbilitySlack=slack, agent_type='child', agent_name=agent, sample = None)\n",
        "with model_train:\n",
        "  data_training = pm.sample(pymc_sample_num, target_accept=0.95)\n",
        "\n",
        "predictions, testOutputs = predict(model_train, data_training, children_test, 'success', len(children_training))\n",
        "agentBrierScore, agentCalibration, agentRefinement = brierDecomp(predictions, testOutputs)\n",
        "agentAggBrierScore, agentAggCalibration, agentAggRefinement = brierDecomp(np.repeat(np.mean(children_training['success']), len(testOutputs)), testOutputs)\n",
        "aggregateBrierScore.append(agentAggBrierScore)\n",
        "aggregateCalibration.append(agentAggCalibration)\n",
        "aggregateRefinement.append(agentAggRefinement)\n",
        "modelBrierScore.append(agentBrierScore)\n",
        "modelCalibration.append(agentCalibration)\n",
        "modelRefinement.append(agentRefinement)\n",
        "if agentBrierScore < agentAggBrierScore:\n",
        "  modelBetterThanAgg.append(True)\n",
        "else:\n",
        "  modelBetterThanAgg.append(False)\n",
        "\n",
        "model_all, min, max = SetupModel(children_data, uniformAbilitySlack=slack, agent_type='child', sample = None)\n",
        "with model_all:\n",
        "  data_all = pm.sample(pymc_sample_num, target_accept=0.95)\n",
        "mu, sd  = analyzeAgentResults(\"child\", data_all, abilitiesToShow)\n",
        "\n",
        "OPAbilityAllMean.append(mu[\"objPermAbility\"])\n",
        "visualAcuityAbilityAllMean.append(mu[\"visualAcuityAbility\"])\n",
        "flatNavAbilityAllMean.append(mu[\"flatNavAbility\"])\n",
        "lavaAbilityAllMean.append(mu[\"lavaAbility\"])\n",
        "rightAbilityAllMean.append(mu[\"rightAbility\"])\n",
        "leftAbilityAllMean.append(mu[\"leftAbility\"])\n",
        "aheadAbilityAllMean.append(mu[\"aheadAbility\"])\n",
        "CVChickAbilityAllMean.append(mu[\"CVChickAbility\"])\n",
        "PCTBAbilityAllMean.append(mu[\"PCTBAbility\"])\n",
        "lightsOutAbilityAllMean.append(mu[\"lightsOutAbility\"])\n",
        "noiseParAllMean.append(mu[\"noisePar\"])\n",
        "OPAbilityAllSD.append(sd[\"objPermAbility\"])\n",
        "visualAcuityAbilityAllSD.append(sd[\"visualAcuityAbility\"])\n",
        "flatNavAbilityAllSD.append(sd[\"flatNavAbility\"])\n",
        "lavaAbilityAllSD.append(sd[\"lavaAbility\"])\n",
        "rightAbilityAllSD.append(sd[\"rightAbility\"])\n",
        "leftAbilityAllSD.append(sd[\"leftAbility\"])\n",
        "aheadAbilityAllSD.append(sd[\"aheadAbility\"])\n",
        "CVChickAbilityAllSD.append(sd[\"CVChickAbility\"])\n",
        "PCTBAbilityAllSD.append(sd[\"PCTBAbility\"])\n",
        "lightsOutAbilityAllSD.append(sd[\"lightsOutAbility\"])\n",
        "noiseParAllSD.append(sd[\"noisePar\"])\n",
        "OPAbilityAllMin.append(min[\"objPermAbility\"])\n",
        "visualAcuityAbilityAllMin.append(min[\"visualAcuityAbility\"])\n",
        "flatNavAbilityAllMin.append(min[\"flatNavAbility\"])\n",
        "lavaAbilityAllMin.append(min[\"lavaAbility\"])\n",
        "rightAbilityAllMin.append(min[\"rightAbility\"])\n",
        "leftAbilityAllMin.append(min[\"leftAbility\"])\n",
        "aheadAbilityAllMin.append(min[\"aheadAbility\"])\n",
        "CVChickAbilityAllMin.append(min[\"CVChickAbility\"])\n",
        "PCTBAbilityAllMin.append(min[\"PCTBAbility\"])\n",
        "lightsOutAbilityAllMin.append(min[\"lightsOutAbility\"])\n",
        "noiseParAllMin.append(0)\n",
        "OPAbilityAllMax.append(max[\"objPermAbility\"])\n",
        "visualAcuityAbilityAllMax.append(max[\"visualAcuityAbility\"])\n",
        "flatNavAbilityAllMax.append(max[\"flatNavAbility\"])\n",
        "lavaAbilityAllMax.append(max[\"lavaAbility\"])\n",
        "rightAbilityAllMax.append(max[\"rightAbility\"])\n",
        "leftAbilityAllMax.append(max[\"leftAbility\"])\n",
        "aheadAbilityAllMax.append(max[\"aheadAbility\"])\n",
        "CVChickAbilityAllMax.append(max[\"CVChickAbility\"])\n",
        "PCTBAbilityAllMax.append(max[\"PCTBAbility\"])\n",
        "lightsOutAbilityAllMax.append(max[\"lightsOutAbility\"])\n",
        "noiseParAllMax.append(1)\n",
        "\n",
        "meanSuccess.append(np.mean(children_data['success']))\n",
        "agentName.append('children')\n",
        "\n",
        "finalDF = pd.DataFrame({\"Agent Name\": agentName,\n",
        "                        \"Model Brier Score\":modelBrierScore,\n",
        "                        \"Aggregate Brier Scores\": aggregateBrierScore,\n",
        "                        \"Model Calibration\": modelCalibration,\n",
        "                        \"Aggregate Calibration\":aggregateCalibration,\n",
        "                        \"Model Refinement\":modelRefinement,\n",
        "                        \"Aggregate Refinement\":aggregateRefinement,\n",
        "                        \"Model Better? (Based on Brier Score)\":modelBetterThanAgg,\n",
        "                        \"Success Score\":meanSuccess,\n",
        "                        \"Object Permanence Ability Mean (All)\": OPAbilityAllMean,\n",
        "                        \"Visual Acuity Ability Mean (All)\" : visualAcuityAbilityAllMean,\n",
        "                        \"Flat Navigation Ability Mean (All)\" : flatNavAbilityAllMean,\n",
        "                        \"Lava Ability Mean (All)\" : lavaAbilityAllMean,\n",
        "                        \"Right Ability Mean (All)\" : rightAbilityAllMean,\n",
        "                        \"Left Ability Mean (All)\" : leftAbilityAllMean,\n",
        "                        \"Ahead Ability Mean (All)\" : aheadAbilityAllMean,\n",
        "                        \"CVChick Ability Mean (All)\" : CVChickAbilityAllMean,\n",
        "                        \"PCTB Ability Mean (All)\" :  PCTBAbilityAllMean,\n",
        "                        \"Lights Out Ability Mean (All)\" : lightsOutAbilityAllMean,\n",
        "                        \"Noise Parameter Mean (All)\" : noiseParAllMean,\n",
        "                        \"Object Permanence Ability SD (All)\": OPAbilityAllSD,\n",
        "                        \"Visual Acuity Ability SD (All)\" : visualAcuityAbilityAllSD,\n",
        "                        \"Flat Navigation Ability SD (All)\" : flatNavAbilityAllSD,\n",
        "                        \"Lava Ability SD (All)\" : lavaAbilityAllSD,\n",
        "                        \"Right Ability SD (All)\" : rightAbilityAllSD,\n",
        "                        \"Left Ability SD (All)\" : leftAbilityAllSD,\n",
        "                        \"Ahead Ability SD (All)\" : aheadAbilityAllSD,\n",
        "                        \"CVChick Ability SD (All)\" : CVChickAbilityAllSD,\n",
        "                        \"PCTB Ability SD (All)\" :  PCTBAbilityAllSD,\n",
        "                        \"Lights Out Ability SD (All)\" : lightsOutAbilityAllSD,\n",
        "                        \"Noise Parameter SD (All)\" : noiseParAllSD,\n",
        "                        \"Object Permanence Ability Min (All)\": OPAbilityAllMin,\n",
        "                        \"Visual Acuity Ability Min (All)\" : visualAcuityAbilityAllMin,\n",
        "                        \"Flat Navigation Ability Min (All)\" : flatNavAbilityAllMin,\n",
        "                        \"Lava Ability Min (All)\" : lavaAbilityAllMin,\n",
        "                        \"Right Ability Min (All)\" : rightAbilityAllMin,\n",
        "                        \"Left Ability Min (All)\" : leftAbilityAllMin,\n",
        "                        \"Ahead Ability Min (All)\" : aheadAbilityAllMin,\n",
        "                        \"CVChick Ability Min (All)\" : CVChickAbilityAllMin,\n",
        "                        \"PCTB Ability Min (All)\" :  PCTBAbilityAllMin,\n",
        "                        \"Lights Out Ability Min (All)\" : lightsOutAbilityAllMin,\n",
        "                        \"Noise Parameter Min (All)\" : noiseParAllMin,\n",
        "                        \"Object Permanence Ability Max (All)\": OPAbilityAllMax,\n",
        "                        \"Visual Acuity Ability Max (All)\" : visualAcuityAbilityAllMax,\n",
        "                        \"Flat Navigation Ability Max (All)\" : flatNavAbilityAllMax,\n",
        "                        \"Lava Ability Max (All)\" : lavaAbilityAllMax,\n",
        "                        \"Right Ability Max (All)\" : rightAbilityAllMax,\n",
        "                        \"Left Ability Max (All)\" : leftAbilityAllMax,\n",
        "                        \"Ahead Ability Max (All)\" : aheadAbilityAllMax,\n",
        "                        \"CVChick Ability Max (All)\" : CVChickAbilityAllMax,\n",
        "                        \"PCTB Ability Max (All)\" :  PCTBAbilityAllMax,\n",
        "                        \"Lights Out Ability Max (All)\" : lightsOutAbilityAllMax,\n",
        "                        \"Noise Parameter Max (All)\" : noiseParAllMax})\n",
        "#finalDF.to_csv(\"/content/drive/Shareddrives/comparative-object-permanence/finalResults.csv\", index = False)\n"
      ],
      "metadata": {
        "id": "4KFFn5Lwaj5H",
        "outputId": "f40b1120-08c7-40be-b34b-84b2eec4ad73",
        "colab": {
          "base_uri": "https://localhost:8080/",
          "height": 533
        }
      },
      "execution_count": null,
      "outputs": [
        {
          "output_type": "display_data",
          "data": {
            "text/plain": [
              "<IPython.core.display.HTML object>"
            ],
            "text/html": [
              "\n",
              "<style>\n",
              "    /* Turns off some styling */\n",
              "    progress {\n",
              "        /* gets rid of default border in Firefox and Opera. */\n",
              "        border: none;\n",
              "        /* Needs to be in here for Safari polyfill so background images work as expected. */\n",
              "        background-size: auto;\n",
              "    }\n",
              "    progress:not([value]), progress:not([value])::-webkit-progress-bar {\n",
              "        background: repeating-linear-gradient(45deg, #7e7e7e, #7e7e7e 10px, #5c5c5c 10px, #5c5c5c 20px);\n",
              "    }\n",
              "    .progress-bar-interrupted, .progress-bar-interrupted::-webkit-progress-bar {\n",
              "        background: #F44336;\n",
              "    }\n",
              "</style>\n"
            ]
          },
          "metadata": {}
        },
        {
          "output_type": "display_data",
          "data": {
            "text/plain": [
              "<IPython.core.display.HTML object>"
            ],
            "text/html": [
              "\n",
              "    <div>\n",
              "      <progress value='3000' class='' max='3000' style='width:300px; height:20px; vertical-align: middle;'></progress>\n",
              "      100.00% [3000/3000 01:10&lt;00:00 Sampling chain 0, 0 divergences]\n",
              "    </div>\n",
              "    "
            ]
          },
          "metadata": {}
        },
        {
          "output_type": "display_data",
          "data": {
            "text/plain": [
              "<IPython.core.display.HTML object>"
            ],
            "text/html": [
              "\n",
              "<style>\n",
              "    /* Turns off some styling */\n",
              "    progress {\n",
              "        /* gets rid of default border in Firefox and Opera. */\n",
              "        border: none;\n",
              "        /* Needs to be in here for Safari polyfill so background images work as expected. */\n",
              "        background-size: auto;\n",
              "    }\n",
              "    progress:not([value]), progress:not([value])::-webkit-progress-bar {\n",
              "        background: repeating-linear-gradient(45deg, #7e7e7e, #7e7e7e 10px, #5c5c5c 10px, #5c5c5c 20px);\n",
              "    }\n",
              "    .progress-bar-interrupted, .progress-bar-interrupted::-webkit-progress-bar {\n",
              "        background: #F44336;\n",
              "    }\n",
              "</style>\n"
            ]
          },
          "metadata": {}
        },
        {
          "output_type": "display_data",
          "data": {
            "text/plain": [
              "<IPython.core.display.HTML object>"
            ],
            "text/html": [
              "\n",
              "    <div>\n",
              "      <progress value='3000' class='' max='3000' style='width:300px; height:20px; vertical-align: middle;'></progress>\n",
              "      100.00% [3000/3000 01:13&lt;00:00 Sampling chain 1, 0 divergences]\n",
              "    </div>\n",
              "    "
            ]
          },
          "metadata": {}
        },
        {
          "output_type": "stream",
          "name": "stderr",
          "text": [
            "<ipython-input-8-175c2f4f91ba>:23: FutureWarning: The series.append method is deprecated and will be removed from pandas in a future version. Use pandas.concat instead.\n",
            "  return testingData.append(pd.Series(np.zeros(trainingDataSize-len(testingData), dtype=int)))\n",
            "<ipython-input-8-175c2f4f91ba>:23: FutureWarning: The series.append method is deprecated and will be removed from pandas in a future version. Use pandas.concat instead.\n",
            "  return testingData.append(pd.Series(np.zeros(trainingDataSize-len(testingData), dtype=int)))\n",
            "<ipython-input-8-175c2f4f91ba>:23: FutureWarning: The series.append method is deprecated and will be removed from pandas in a future version. Use pandas.concat instead.\n",
            "  return testingData.append(pd.Series(np.zeros(trainingDataSize-len(testingData), dtype=int)))\n",
            "<ipython-input-8-175c2f4f91ba>:23: FutureWarning: The series.append method is deprecated and will be removed from pandas in a future version. Use pandas.concat instead.\n",
            "  return testingData.append(pd.Series(np.zeros(trainingDataSize-len(testingData), dtype=int)))\n",
            "<ipython-input-8-175c2f4f91ba>:23: FutureWarning: The series.append method is deprecated and will be removed from pandas in a future version. Use pandas.concat instead.\n",
            "  return testingData.append(pd.Series(np.zeros(trainingDataSize-len(testingData), dtype=int)))\n",
            "<ipython-input-8-175c2f4f91ba>:23: FutureWarning: The series.append method is deprecated and will be removed from pandas in a future version. Use pandas.concat instead.\n",
            "  return testingData.append(pd.Series(np.zeros(trainingDataSize-len(testingData), dtype=int)))\n",
            "<ipython-input-8-175c2f4f91ba>:23: FutureWarning: The series.append method is deprecated and will be removed from pandas in a future version. Use pandas.concat instead.\n",
            "  return testingData.append(pd.Series(np.zeros(trainingDataSize-len(testingData), dtype=int)))\n",
            "<ipython-input-8-175c2f4f91ba>:23: FutureWarning: The series.append method is deprecated and will be removed from pandas in a future version. Use pandas.concat instead.\n",
            "  return testingData.append(pd.Series(np.zeros(trainingDataSize-len(testingData), dtype=int)))\n",
            "<ipython-input-8-175c2f4f91ba>:23: FutureWarning: The series.append method is deprecated and will be removed from pandas in a future version. Use pandas.concat instead.\n",
            "  return testingData.append(pd.Series(np.zeros(trainingDataSize-len(testingData), dtype=int)))\n",
            "<ipython-input-8-175c2f4f91ba>:23: FutureWarning: The series.append method is deprecated and will be removed from pandas in a future version. Use pandas.concat instead.\n",
            "  return testingData.append(pd.Series(np.zeros(trainingDataSize-len(testingData), dtype=int)))\n",
            "<ipython-input-8-175c2f4f91ba>:23: FutureWarning: The series.append method is deprecated and will be removed from pandas in a future version. Use pandas.concat instead.\n",
            "  return testingData.append(pd.Series(np.zeros(trainingDataSize-len(testingData), dtype=int)))\n",
            "<ipython-input-8-175c2f4f91ba>:23: FutureWarning: The series.append method is deprecated and will be removed from pandas in a future version. Use pandas.concat instead.\n",
            "  return testingData.append(pd.Series(np.zeros(trainingDataSize-len(testingData), dtype=int)))\n"
          ]
        },
        {
          "output_type": "display_data",
          "data": {
            "text/plain": [
              "<IPython.core.display.HTML object>"
            ],
            "text/html": [
              "\n",
              "<style>\n",
              "    /* Turns off some styling */\n",
              "    progress {\n",
              "        /* gets rid of default border in Firefox and Opera. */\n",
              "        border: none;\n",
              "        /* Needs to be in here for Safari polyfill so background images work as expected. */\n",
              "        background-size: auto;\n",
              "    }\n",
              "    progress:not([value]), progress:not([value])::-webkit-progress-bar {\n",
              "        background: repeating-linear-gradient(45deg, #7e7e7e, #7e7e7e 10px, #5c5c5c 10px, #5c5c5c 20px);\n",
              "    }\n",
              "    .progress-bar-interrupted, .progress-bar-interrupted::-webkit-progress-bar {\n",
              "        background: #F44336;\n",
              "    }\n",
              "</style>\n"
            ]
          },
          "metadata": {}
        },
        {
          "output_type": "display_data",
          "data": {
            "text/plain": [
              "<IPython.core.display.HTML object>"
            ],
            "text/html": [
              "\n",
              "    <div>\n",
              "      <progress value='4000' class='' max='4000' style='width:300px; height:20px; vertical-align: middle;'></progress>\n",
              "      100.00% [4000/4000 00:01&lt;00:00]\n",
              "    </div>\n",
              "    "
            ]
          },
          "metadata": {}
        },
        {
          "output_type": "display_data",
          "data": {
            "text/plain": [
              "<IPython.core.display.HTML object>"
            ],
            "text/html": [
              "\n",
              "<style>\n",
              "    /* Turns off some styling */\n",
              "    progress {\n",
              "        /* gets rid of default border in Firefox and Opera. */\n",
              "        border: none;\n",
              "        /* Needs to be in here for Safari polyfill so background images work as expected. */\n",
              "        background-size: auto;\n",
              "    }\n",
              "    progress:not([value]), progress:not([value])::-webkit-progress-bar {\n",
              "        background: repeating-linear-gradient(45deg, #7e7e7e, #7e7e7e 10px, #5c5c5c 10px, #5c5c5c 20px);\n",
              "    }\n",
              "    .progress-bar-interrupted, .progress-bar-interrupted::-webkit-progress-bar {\n",
              "        background: #F44336;\n",
              "    }\n",
              "</style>\n"
            ]
          },
          "metadata": {}
        },
        {
          "output_type": "display_data",
          "data": {
            "text/plain": [
              "<IPython.core.display.HTML object>"
            ],
            "text/html": [
              "\n",
              "    <div>\n",
              "      <progress value='3000' class='' max='3000' style='width:300px; height:20px; vertical-align: middle;'></progress>\n",
              "      100.00% [3000/3000 01:34&lt;00:00 Sampling chain 0, 0 divergences]\n",
              "    </div>\n",
              "    "
            ]
          },
          "metadata": {}
        },
        {
          "output_type": "display_data",
          "data": {
            "text/plain": [
              "<IPython.core.display.HTML object>"
            ],
            "text/html": [
              "\n",
              "<style>\n",
              "    /* Turns off some styling */\n",
              "    progress {\n",
              "        /* gets rid of default border in Firefox and Opera. */\n",
              "        border: none;\n",
              "        /* Needs to be in here for Safari polyfill so background images work as expected. */\n",
              "        background-size: auto;\n",
              "    }\n",
              "    progress:not([value]), progress:not([value])::-webkit-progress-bar {\n",
              "        background: repeating-linear-gradient(45deg, #7e7e7e, #7e7e7e 10px, #5c5c5c 10px, #5c5c5c 20px);\n",
              "    }\n",
              "    .progress-bar-interrupted, .progress-bar-interrupted::-webkit-progress-bar {\n",
              "        background: #F44336;\n",
              "    }\n",
              "</style>\n"
            ]
          },
          "metadata": {}
        },
        {
          "output_type": "display_data",
          "data": {
            "text/plain": [
              "<IPython.core.display.HTML object>"
            ],
            "text/html": [
              "\n",
              "    <div>\n",
              "      <progress value='3000' class='' max='3000' style='width:300px; height:20px; vertical-align: middle;'></progress>\n",
              "      100.00% [3000/3000 01:20&lt;00:00 Sampling chain 1, 0 divergences]\n",
              "    </div>\n",
              "    "
            ]
          },
          "metadata": {}
        }
      ]
    },
    {
      "cell_type": "code",
      "source": [
        "with open('/content/drive/Shareddrives/comparative-object-permanence/finalResults.pkl', 'wb') as f:\n",
        "      pickle.dump(finalDF, f)"
      ],
      "metadata": {
        "id": "yf1a4jo83lBH"
      },
      "execution_count": null,
      "outputs": []
    },
    {
      "cell_type": "code",
      "source": [
        "## Not run: in case evaluation stops.\n",
        "# with open('/content/drive/Shareddrives/comparative-object-permanence/finalResults.pkl', 'rb') as f:\n",
        "#       originaldata = pickle.load(f)\n",
        "# output = pd.concat([originaldata, finalDF], axis = 0)"
      ],
      "metadata": {
        "id": "UFynZd5OBwff"
      },
      "execution_count": null,
      "outputs": []
    }
  ]
}