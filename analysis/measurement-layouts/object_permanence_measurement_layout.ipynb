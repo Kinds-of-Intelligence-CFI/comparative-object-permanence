{
  "nbformat": 4,
  "nbformat_minor": 0,
  "metadata": {
    "colab": {
      "provenance": [],
      "include_colab_link": true
    },
    "kernelspec": {
      "name": "python3",
      "display_name": "Python 3"
    },
    "language_info": {
      "name": "python"
    }
  },
  "cells": [
    {
      "cell_type": "markdown",
      "metadata": {
        "id": "view-in-github",
        "colab_type": "text"
      },
      "source": [
        "<a href=\"https://colab.research.google.com/github/Kinds-of-Intelligence-CFI/comparative-object-permanence/blob/multivariate-measurement-layout/analysis/measurement-layouts/object_permanence_measurement_layout.ipynb\" target=\"_parent\"><img src=\"https://colab.research.google.com/assets/colab-badge.svg\" alt=\"Open In Colab\"/></a>"
      ]
    },
    {
      "cell_type": "markdown",
      "source": [
        "# Comparative Object Permanence Measurement Layouts\n",
        "\n",
        "Authors: K. Voudouris, J. Burden, J. Hernández-Orallo"
      ],
      "metadata": {
        "id": "U27yVRKBqCpj"
      }
    },
    {
      "cell_type": "markdown",
      "source": [
        "## INIT"
      ],
      "metadata": {
        "id": "95RSQ17Lriav"
      }
    },
    {
      "cell_type": "code",
      "execution_count": 1,
      "metadata": {
        "id": "MLYI9s6Lp3fi",
        "outputId": "63da30a9-329e-47b4-c491-15377cd0260f",
        "colab": {
          "base_uri": "https://localhost:8080/"
        }
      },
      "outputs": [
        {
          "output_type": "stream",
          "name": "stdout",
          "text": [
            "\u001b[?25l     \u001b[90m━━━━━━━━━━━━━━━━━━━━━━━━━━━━━━━━━━━━━━━━\u001b[0m \u001b[32m0.0/41.4 kB\u001b[0m \u001b[31m?\u001b[0m eta \u001b[36m-:--:--\u001b[0m\r\u001b[2K     \u001b[90m━━━━━━━━━━━━━━━━━━━━━━━━━━━━━━━━━━━━━━━━\u001b[0m \u001b[32m41.4/41.4 kB\u001b[0m \u001b[31m1.3 MB/s\u001b[0m eta \u001b[36m0:00:00\u001b[0m\n",
            "\u001b[?25h"
          ]
        }
      ],
      "source": [
        "!pip install pymc --quiet\n",
        "!pip install numpy --quiet\n",
        "!pip install arviz --quiet\n",
        "!pip install erroranalysis --quiet"
      ]
    },
    {
      "cell_type": "code",
      "source": [
        "import arviz as az\n",
        "import erroranalysis as ea\n",
        "import gc\n",
        "import graphviz\n",
        "import math\n",
        "import matplotlib.pyplot as plt\n",
        "import numpy as np\n",
        "import pandas as pd\n",
        "import pickle\n",
        "import pymc as pm\n",
        "import random as rm\n",
        "import seaborn as sns\n",
        "\n",
        "from IPython.display import Image\n",
        "from scipy import stats\n",
        "from sklearn.model_selection import train_test_split\n",
        "from google.colab import files\n",
        "from pymc import model\n",
        "\n",
        "print(f\"Running on PyMC v{pm.__version__}\")"
      ],
      "metadata": {
        "id": "ehpymOwzrgm7",
        "outputId": "bd690a07-dee4-4be3-860b-061512da7cec",
        "colab": {
          "base_uri": "https://localhost:8080/"
        }
      },
      "execution_count": 2,
      "outputs": [
        {
          "output_type": "stream",
          "name": "stdout",
          "text": [
            "Running on PyMC v5.7.2\n"
          ]
        }
      ]
    },
    {
      "cell_type": "code",
      "source": [
        "from google.colab import drive\n",
        "drive.mount('/content/drive')"
      ],
      "metadata": {
        "id": "Ga3CMVsXSYRa",
        "outputId": "ac805be1-df29-4988-fbbc-38753e5868a1",
        "colab": {
          "base_uri": "https://localhost:8080/"
        }
      },
      "execution_count": 3,
      "outputs": [
        {
          "output_type": "stream",
          "name": "stdout",
          "text": [
            "Mounted at /content/drive\n"
          ]
        }
      ]
    },
    {
      "cell_type": "markdown",
      "source": [
        "## Load Data\n",
        "\n",
        "While the repo is private, the links break easily due to hashing of the csv location. You need to go to the csv in the repo, click raw, and copy the new link."
      ],
      "metadata": {
        "id": "s5Nsn4LgzVmj"
      }
    },
    {
      "cell_type": "code",
      "source": [
        "agents_url = 'https://raw.githubusercontent.com/Kinds-of-Intelligence-CFI/comparative-object-permanence/develop/analysis/measurement-layouts/results_final_clean_agents_wide.csv?token=GHSAT0AAAAAACEGARGRDI4VUVR4AQ6I7OC6ZHOF2AQ'\n",
        "agent_data = pd.read_csv(agents_url)\n",
        "\n",
        "children_url = 'https://raw.githubusercontent.com/Kinds-of-Intelligence-CFI/comparative-object-permanence/develop/analysis/measurement-layouts/results_final_clean_children_wide.csv?token=GHSAT0AAAAAACEGARGR5SHTZTCA6ZIBYYKUZHOF2JA'\n",
        "children_data = pd.read_csv(children_url)\n",
        "\n",
        "children_4_5_data = children_data[(children_data['agent_tag'].str.contains(\"4M|4F|5M|5F\"))]\n",
        "children_6_7_data = children_data[(children_data['agent_tag'].str.contains(\"6M|6F|7M|7F\"))]\n",
        "\n",
        "synthetic_agents_url = 'https://raw.githubusercontent.com/Kinds-of-Intelligence-CFI/comparative-object-permanence/develop/analysis/measurement-layouts/results_synthetic_agents_wide.csv?token=GHSAT0AAAAAACEGARGRKVDMRW6GNOJ2B4O2ZHOF2QQ'\n",
        "synthetic_agents_data = pd.read_csv(synthetic_agents_url)\n"
      ],
      "metadata": {
        "id": "1dN0OHAWzVBK"
      },
      "execution_count": 4,
      "outputs": []
    },
    {
      "cell_type": "markdown",
      "source": [
        "## Define the Measurement Layout"
      ],
      "metadata": {
        "id": "C0_GsfhIYZPw"
      }
    },
    {
      "cell_type": "code",
      "source": [
        "## Helper functions\n",
        "\n",
        "def logistic(x, L=1, k=1, x_0=0):\n",
        "  return (L / (1 + np.exp(-k * (x-x_0))))\n",
        "\n",
        "def logistic999(x, min, max):    # This logistic function ensures that if x is at -(max-min), we get prob 0.001, and if x is at (max-min), we get prob 0.999\n",
        "  x = x - min\n",
        "  max = max - min\n",
        "  x = 6.90675478 * x / max\n",
        "  return 1 / (1 + np.exp(-x))\n",
        "\n",
        "def visualAcuityLOMargin(ability, goalSize, goalDistance): # must return a value between -inf and inf  (more precisely between -maxVisualAcuityAbility and maxVisualAcuityAbility)\n",
        "  margin = np.log(ability)-np.log((goalDistance/goalSize))\n",
        "\n",
        "  return margin   # Goes between -inf to inf, with logodds=0 meaning this would lead to 0.5 chance of success\n",
        "\n",
        "def SimplePrMargin(ability, binaryFeature): # must return a value between 0 and 1\n",
        "  return 1-((1-ability)*binaryFeature)  # If binaryFeature is 0 then the margin represents p(success)=1. If binaryFeature = 1 then p(success)=ability\n",
        "\n",
        "#def flatNavMargin(ability, distanceToGoal, numTurns, allocentricOcclusion): # must return a value between -inf and inf  (more precisely between -maxSpatialAbility and maxSpatialAbility)\n",
        "def flatNavMargin(ability, distanceToGoal, numTurns):\n",
        "  #return ability - ((distanceToGoal * numTurns)*allocentricOcclusion)   # Goes between -inf to inf, with logodds=0 meaning this would lead to 0.5 chance of success\n",
        "  return ability - ((distanceToGoal * numTurns))\n",
        "\n",
        "def objPermanenceLOMargin(ability, allocentricOcclusion, cvChickP, pctbP, lightsOut, distanceToGoal, numPositions, maxPermAbility, lightsOutPenalisation, uniformAbilitySlack): #,  visualAcuityP): # must return a value between -inf and inf (more precisely between -maxPermAbility and maxPermAbility)\n",
        "#def objPermanenceLOMargin(ability, allocentricOcclusion, lightsOut, distanceToGoal, numPositions, maxPermAbility, lightsOutPenalisation, uniformAbilitySlack):\n",
        "  assert lightsOutPenalisation < uniformAbilitySlack and lightsOutPenalisation > 1, \"Penalisation for lights out must be lower than the slack on abilities.\"\n",
        "  OPPerformance = ability  - ((distanceToGoal * numPositions)*(lightsOut*lightsOutPenalisation)) #this returns a value that is lower when (a) ability is lower, (b) the goal is occluded for longer or there are more positions where it could be occluded, or (c) when the lights go out (by a small penalisation)\n",
        "  ability = maxPermAbility - ((maxPermAbility-OPPerformance)*allocentricOcclusion) * cvChickP * pctbP # this returns an ability value that is modulated by performance on the different paradigms. The agent needs to be good at both to have a high OP ability\n",
        "  #return maxPermAbility-((maxPermAbility-OPPerformance)*((allocentricOcclusion*cvChick) + (allocentricOcclusion*pctb))) #multiply by a factor that introduces whether the instance is a an OP CV task or an OP PCTB task (independent, so ((allocentricOcclusion*cvChick) + (allocentricOcclusion*pctb)) should be 0 or 1)\n",
        "  #return maxPermAbility - ((maxPermAbility-OPPerformance)*allocentricOcclusion)\n",
        "  return ability\n",
        "\n",
        "def scaledBeta(name, a, b, min, max, simpleGraph = True):\n",
        "  if (simpleGraph):\n",
        "    beta = pm.Beta(name, a, b)\n",
        "    return beta * (max - min) + min\n",
        "  else:\n",
        "    beta = pm.Beta(f\"{name}_raw\", a, b)\n",
        "    return pm.Deterministic(name, beta * (max - min) + min)\n"
      ],
      "metadata": {
        "id": "-uobQpcJiPr2"
      },
      "execution_count": 31,
      "outputs": []
    },
    {
      "cell_type": "code",
      "source": [
        "def SetupModel(taskResultsAll, uniformAbilitySlack, agent_type, agent_name = None, agent_name_choice = None, sample = 500):\n",
        "  \"\"\"\n",
        "  taskResults is the conjunction of the metadata with the successes of the agents on that set of tests.\n",
        "  \"\"\"\n",
        "  assert uniformAbilitySlack >=1, \"Slack must be greater than or equal to 1.\"\n",
        "\n",
        "  if agent_type == \"agent_real\":\n",
        "    taskResults = taskResultsAll.dropna(subset = [agent_name])\n",
        "    if sample is not None:\n",
        "      taskResults = taskResults.sample(n=sample)\n",
        "    results = taskResults[agent_name]\n",
        "    choices = taskResults[agent_name_choice]\n",
        "  elif agent_type == \"agent_synthetic\":\n",
        "    taskResults = taskResultsAll.dropna(subset = [agent_name])\n",
        "    if sample is not None:\n",
        "      taskResults = taskResults.sample(n=sample)\n",
        "    results = taskResults[agent_name]\n",
        "    choices = results\n",
        "  elif agent_type == \"child\":\n",
        "    taskResults = taskResultsAll.dropna(subset = ['success'])\n",
        "    if sample is not None:\n",
        "      taskResults = taskResults.sample(n=sample)\n",
        "    results = taskResults['success']\n",
        "    choices = taskResults['correctChoice']\n",
        "  else:\n",
        "    print(\"Agent not recognised. Quitting.\")\n",
        "    return\n",
        "\n",
        "\n",
        "\n",
        "  abilityMin = {} #Initialize ability Min and max dataframes for plotting ranges\n",
        "  abilityMax = {}\n",
        "\n",
        "  #Decide \"maximum capabilities\" based on the hardest values in the dataset\n",
        "  maxDistance = taskResults[\"cityBlockDistanceToGoal\"].max()\n",
        "  maxTurns = taskResults[\"minNumTurnsRequired\"].max()\n",
        "  maxChoices = taskResults[\"numChoices\"].max()\n",
        "  maxGoalSize = taskResults[\"mainGoalSize\"].max() * uniformAbilitySlack\n",
        "  maxPermAbility = ((taskResults[\"cityBlockDistanceToGoal\"] * taskResults[\"numChoices\"]).max()) * uniformAbilitySlack\n",
        "  maxFlatNav = ((taskResults[\"cityBlockDistanceToGoal\"]*taskResults[\"minNumTurnsRequired\"])).max() * uniformAbilitySlack\n",
        "  #maxPermAbility = maxChoices * uniformAbilitySlack\n",
        "  #maxMemoryAbility = maxDistance * uniformAbilitySlack\n",
        "  #maxPermAbility = 1\n",
        "  #maxMemoryAbility = 1\n",
        "\n",
        "  # Decide 'minimum capabilities' based on easiest values in the dataset\n",
        "  minDistance = taskResults[\"cityBlockDistanceToGoal\"].min()\n",
        "  minTurns = taskResults[\"minNumTurnsRequired\"].min()\n",
        "  minChoices = taskResults[\"numChoices\"].min()\n",
        "  minGoalSize = taskResults[\"mainGoalSize\"].min() * (1-(uniformAbilitySlack-1))\n",
        "  minPermAbility = ((taskResults[\"cityBlockDistanceToGoal\"] * taskResults[\"numChoices\"]).min()) * (1-(uniformAbilitySlack-1))\n",
        "  minFlatNav = ((taskResults[\"cityBlockDistanceToGoal\"]*taskResults[\"minNumTurnsRequired\"])).min() * (1-(uniformAbilitySlack-1))\n",
        "  #minPermAbility = 0\n",
        "\n",
        "  m = pm.Model()\n",
        "  with m:\n",
        "\n",
        "    objPermAbility = pm.Uniform(\"objPermAbility\", minPermAbility, maxPermAbility)  # [0,maxPermAbility] This is the same as above, but we have the ability in the right magnitude\n",
        "    abilityMin[\"objPermAbility\"] = minPermAbility\n",
        "    abilityMax[\"objPermAbility\"] = maxPermAbility\n",
        "\n",
        "    #objPermAbility = scaledBeta(\"objPermAbility\", 1,1, minPermAbility, maxPermAbility, simpleGraph=False)\n",
        "    abilityMin[\"objPermAbility\"] = minPermAbility\n",
        "    abilityMax[\"objPermAbility\"] = maxPermAbility\n",
        "\n",
        "    #memoryAbility = pm.Uniform(\"memoryAbility\", 0, maxMemoryAbility)  # [0,maxMemoryAbility] This is the same as above, but we have the ability in the right magnitude\n",
        "    #abilityMin[\"memoryAbility\"] = 0\n",
        "    #abilityMax[\"memoryAbility\"] = maxMemoryAbility\n",
        "\n",
        "    #Visual acuity\n",
        "    visualAcuityAbility = pm.Uniform(\"visualAcuityAbility\", minDistance/maxGoalSize, maxDistance/minGoalSize)\n",
        "    abilityMin[\"visualAcuityAbility\"] = minDistance/maxGoalSize\n",
        "    abilityMax[\"visualAcuityAbility\"] = maxDistance/minGoalSize\n",
        "\n",
        "    # Flat Navigation Ability\n",
        "    flatNavAbility = pm.Uniform(\"flatNavAbility\", minFlatNav, maxFlatNav)      # how much navigation is involved, i.e, how far away and how circuitous is the path to the goal?\n",
        "    #flatNavAbility = pm.Uniform(\"flatNavAbility\", 0, maxTurns*maxDistance)\n",
        "    abilityMin[\"flatNavAbility\"] = minFlatNav\n",
        "    #abilityMax[\"flatNavAbility\"] = maxDistance*maxTurns\n",
        "    abilityMax[\"flatNavAbility\"] = maxFlatNav\n",
        "\n",
        "    # Lava Ability\n",
        "    lavaAbility = scaledBeta(\"lavaAbility\", 1,1, 0, 2, simpleGraph=False)\n",
        "    #lavaAbility = pm.Beta(\"lavaAbility\", 1,1)                        # [0,1] Specific ability with lava\n",
        "    abilityMin[\"lavaAbility\"] = 0\n",
        "    abilityMax[\"lavaAbility\"] = 2\n",
        "\n",
        "    # Ramp Ability\n",
        "    #rampAbility = pm.Beta(\"rampAbility\",1,1)                          # [0,1] Specific ability with ramps\n",
        "    #abilityMin[\"rampAbility\"] = 0\n",
        "    #abilityMax[\"rampAbility\"] = 1\n",
        "\n",
        "    # Goal Right Ability\n",
        "    #rightAbility = pm.Beta(\"rightAbility\", 1, 1)\n",
        "    rightAbility = scaledBeta(\"rightAbility\", 1,1, 0, 2, simpleGraph=False)\n",
        "    abilityMin[\"rightAbility\"] = 0\n",
        "    abilityMax[\"rightAbility\"] = 2\n",
        "\n",
        "    # Goal Left Ability\n",
        "    #leftAbility = pm.Beta(\"leftAbility\", 1, 1)\n",
        "    leftAbility = scaledBeta(\"leftAbility\", 1,1, 0, 2, simpleGraph=False)\n",
        "    abilityMin[\"leftAbility\"] = 0\n",
        "    abilityMax[\"leftAbility\"] = 2\n",
        "\n",
        "    # Goal Ahead Ability\n",
        "    #aheadAbility = pm.Beta(\"aheadAbility\", 1, 1)\n",
        "    aheadAbility = scaledBeta(\"aheadAbility\", 1,1, 0, 2, simpleGraph=False)\n",
        "    abilityMin[\"aheadAbility\"] = 0\n",
        "    abilityMax[\"aheadAbility\"] = 2\n",
        "\n",
        "    # CV Chick Ability\n",
        "    #CVChickAbility = pm.Beta(\"CVChickAbility\", 1, 1)\n",
        "    CVChickAbility = scaledBeta(\"CVChickAbility\", 1,1, 0, 2, simpleGraph=False)\n",
        "    abilityMin[\"CVChickAbility\"] = 0\n",
        "    abilityMax[\"CVChickAbility\"] = 2\n",
        "\n",
        "    # PCTB Ability\n",
        "    #PCTBAbility = pm.Beta(\"PCTBAbility\", 1, 1)\n",
        "    PCTBAbility = scaledBeta(\"PCTBAbility\", 1,1, 0, 2, simpleGraph=False)\n",
        "    abilityMin[\"PCTBAbility\"] = 0\n",
        "    abilityMax[\"PCTBAbility\"] = 2\n",
        "\n",
        "    # Lights Out Ability\n",
        "    #LOAbility = pm.Beta(\"lightsOutAbility\", 1, 1)\n",
        "    LOAbility = scaledBeta(\"lightsOutAbility\", 1,1, 0, 2, simpleGraph=False)\n",
        "    abilityMin[\"lightsOutAbility\"] = 0\n",
        "    abilityMax[\"lightsOutAbility\"] = 2\n",
        "\n",
        "\n",
        "\n",
        "    ## Environment variables as Deterministic (about the instance)\n",
        "\n",
        "    lavaPresence = pm.MutableData(\"lavaPresence\", taskResults[\"lavaPresence\"].values)\n",
        "    #rampPresence = pm.MutableData(\"rampPresence\", taskResults[\"taskCriticalRampPresence\"].values)\n",
        "    lightsOutPresence = pm.MutableData(\"lightsOutPresence\", taskResults[\"lightsOutPresence\"].values)\n",
        "    #numGoals = pm.MutableData(\"numberOfGoals\", taskResults[\"numGoalsAll\"].values)\n",
        "    numChoices = pm.MutableData(\"numChoices\", taskResults[\"numChoices\"].values)\n",
        "    goalSize = pm.MutableData(\"goalSize\",taskResults[\"mainGoalSize\"].values)\n",
        "    goalDist = pm.MutableData(\"goalDistance\", taskResults[\"cityBlockDistanceToGoal\"].values)\n",
        "    numTurns = pm.MutableData(\"minTurnsToGoal\", taskResults[\"minNumTurnsRequired\"])\n",
        "    goalRight = pm.MutableData(\"goalRight\", taskResults[\"goalRightRelToStart\"])\n",
        "    goalAhead = pm.MutableData(\"goalAhead\", taskResults[\"goalCentreRelToStart\"])\n",
        "    goalLeft = pm.MutableData(\"goalLeft\", taskResults[\"goalLeftRelToStart\"])\n",
        "    opTest = pm.MutableData(\"allocentricOPTest\", taskResults[\"goalBecomesAllocentricallyOccluded\"].values)\n",
        "    CVTest = pm.MutableData(\"CVChickTest\", taskResults[\"cvchickTask\"])\n",
        "    PCTBTest = pm.MutableData(\"PCTBTest\", taskResults[\"pctbTask\"])\n",
        "\n",
        "    ## Margins\n",
        "\n",
        "    #goalSmallness = maxGoalSize - goalSize\n",
        "    visualAcuityP = pm.Deterministic(\"visualAcuityP\", logistic(visualAcuityLOMargin(visualAcuityAbility, goalSize, goalDist)))\n",
        "\n",
        "    rightP = pm.Deterministic(\"rightPerformance\", logistic999(SimplePrMargin(rightAbility, goalRight), min = 0, max = 2))\n",
        "    aheadP = pm.Deterministic(\"aheadPerformance\", logistic999(SimplePrMargin(aheadAbility, goalAhead), min = 0, max = 2))\n",
        "    leftP = pm.Deterministic(\"leftPerformance\", logistic999(SimplePrMargin(leftAbility, goalLeft), min = 0, max = 2))\n",
        "\n",
        "    #flatNavP = pm.Deterministic(\"flatNavP\", logistic(flatNavMargin(flatNavAbility, goalDist, numTurns, opTest)))\n",
        "    #flatNavP = pm.Deterministic(\"flatNavP\", logistic(flatNavMargin(flatNavAbility, goalDist, numTurns)))\n",
        "    #flatNavP = pm.Deterministic(\"flatNavP\", logistic(flatNavAbility - (numTurns * goalDist)))\n",
        "    flatNavP = pm.Deterministic(\"flatNavP\", logistic999(flatNavAbility - (numTurns * goalDist), min = minFlatNav, max = maxFlatNav))\n",
        "\n",
        "    lavaP = pm.Deterministic(\"lavaP\", logistic999(SimplePrMargin(lavaAbility, lavaPresence), min = 0, max = 2))\n",
        "\n",
        "    lightsOutP = pm.Deterministic(\"lightsOutP\", logistic999(SimplePrMargin(LOAbility, lightsOutPresence), min = 0, max = 2))\n",
        "\n",
        "    #rampP = pm.Deterministic(\"rampP\", SimplePrMargin(rampAbility, rampPresence))\n",
        "\n",
        "    cvchickP = pm.Deterministic(\"cvChickP\", logistic999(SimplePrMargin(CVChickAbility, CVTest), min = 0, max = 2))\n",
        "    pctbP = pm.Deterministic(\"pctbP\", logistic999(SimplePrMargin(PCTBAbility, PCTBTest), min = 0, max = 2))\n",
        "\n",
        "    #navP = pm.Deterministic(\"navP\", (flatNavP * lavaP * rampP * rightP * aheadP * leftP * cvchickP * pctbP)) #, visualAcuityP))\n",
        "    navP = pm.Deterministic(\"navP\", (flatNavP * lavaP * rightP * aheadP * leftP))\n",
        "\n",
        "    #OPLOM = objPermanenceLOMargin(objPermAbility, opTest, CVTest, PCTBTest, lightsOutPresence, goalDist, numChoices, maxPermAbility, lightsOutPenalisation=(uniformAbilitySlack-0.35), uniformAbilitySlack=uniformAbilitySlack)\n",
        "    #OPLOM = objPermanenceLOMargin(objPermAbility, opTest, lightsOutPresence, goalDist, numChoices, maxPermAbility, lightsOutPenalisation=(uniformAbilitySlack-0.35), uniformAbilitySlack=uniformAbilitySlack)\n",
        "    #OPLOM = objPermanenceLOMargin(objPermAbility, opTest, cvchickP, pctbP, lightsOutPresence, goalDist, numChoices, maxPermAbility, lightsOutPenalisation=(uniformAbilitySlack-0.35), uniformAbilitySlack=uniformAbilitySlack)\n",
        "\n",
        "    #OPPerformance = (objPermAbility  - ((goalDist * numChoices)*opTest)) #this returns a value that is lower when (a) ability is lower, (b) the goal is occluded for longer or there are more positions where it could be occluded, or (c) when the lights go out (by a small penalisation)\n",
        "    #OPPerformance = (objPermAbility  - ((goalDist * numChoices)))\n",
        "    #OPPerformance = (objPermAbility  - numChoices)\n",
        "    #OPPerformance = (objPermAbility  - ((goalDist*opTest) * (numChoices*opTest)))\n",
        "    #OPPerformance = objPermAbility  - ((goalDist * numChoices)*opTest)\n",
        "    #OPability = maxPermAbility - ((maxPermAbility-OPPerformance)*opTest)\n",
        "    #objPermP = pm.Deterministic(\"objPermP\", logistic(OPLOM))\n",
        "    #objPermP = pm.Deterministic(\"objPermP\", logistic(OPPerformance, x_0 = ((maxPermAbility - minPermAbility)/2)+minPermAbility))\n",
        "    #objPermP = pm.Deterministic(\"objPermP\", logistic(SimplePrMargin(objPermAbility, opTest), x_0 = ((maxPermAbility - minPermAbility)/2)+minPermAbility))\n",
        "    OPPerformance = (objPermAbility  - (((goalDist*opTest) * numChoices) + (numChoices * (1-opTest))))\n",
        "    #objPermP = pm.Deterministic(\"objPermP\", logistic(OPPerformance, x_0 = ((maxPermAbility - minPermAbility)/2)+minPermAbility))\n",
        "    #objPermP = pm.Deterministic(\"objPermP\", logistic(OPPerformance))\n",
        "    objPermP = pm.Deterministic(\"objPermP\", (logistic999(OPPerformance, min = minPermAbility, max = maxPermAbility) * cvchickP * pctbP * lightsOutP))\n",
        "\n",
        "    #flatNavP = pm.Deterministic(\"flatNavP\", logistic((flatNavAbility - (numTurns * goalDist)), x_0 = ((maxFlatNav - minFlatNav)/2)+minFlatNav))\n",
        "    noise = 1 - np.mean(results)  # With this noise is complementary to result prior.\n",
        "    noisePar = pm.Uniform(\"noisePar\", 0, 1)\n",
        "    finalP = pm.Deterministic(\"finalP\", (1-noisePar)*(objPermP * navP * visualAcuityP)+(noisePar*noise))\n",
        "\n",
        "    #choiceP = pm.Deterministic(\"choiceP\", (1-noisePar)*(objPermP * visualAcuityP)+(noisePar*noise))\n",
        "\n",
        "    #finalP = pm.Deterministic(\"finalP\", (objPermP * flatNavP))\n",
        "    #finalP = pm.Deterministic(\"finalP\", (1-((1-objPermP)*(1-flatNavP)))) #compensatory finalPerformance\n",
        "    #finalP = pm.Deterministic(\"finalP\", (objPermP * flatNavP * visualAcuityP))\n",
        "    #finalP = pm.Deterministic(\"finalP\", (objPermP * navP * visualAcuityP))\n",
        "\n",
        "    #taskPerformance = pm.Bernoulli(\"taskPerformance\", flatNavP, observed=results)\n",
        "    taskSuccess = pm.Bernoulli(\"taskSuccess\", finalP, observed=results)\n",
        "    #taskChoice = pm.Bernoulli(\"taskChoice\", choiceP, observed=choices)\n",
        "    #taskPerformance = pm.Bernoulli(\"taskPerformance\", objPermP, observed=results)\n",
        "  #pm.model_graph.model_to_graphviz(m)\n",
        "\n",
        "  return m, abilityMin, abilityMax"
      ],
      "metadata": {
        "id": "edIxFbqFq9V9"
      },
      "execution_count": 32,
      "outputs": []
    },
    {
      "cell_type": "code",
      "source": [
        "m, min, max = SetupModel(agent_data, uniformAbilitySlack=1, agent_type='agent_real', agent_name=\"success_Vanilla_Braitenberg_15_rays_over_60_degs_356\", agent_name_choice=\"correctChoice_Vanilla_Braitenberg_15_rays_over_60_degs_356\", sample = None)\n",
        "gv = pm.model_graph.model_to_graphviz(m)\n",
        "gv.format = \"png\"\n",
        "gv.render(filename='viz/FullMeasurementLayout.gv', directory='/content/drive/Shareddrives/comparative-object-permanence')\n",
        "Image(\"/content/drive/Shareddrives/comparative-object-permanence/FullMeasurementLayout.gv.png\")\n",
        "gv"
      ],
      "metadata": {
        "id": "j-cgtM4msvph",
        "outputId": "7ac240d3-80e9-4918-e9f3-45af43472434",
        "colab": {
          "base_uri": "https://localhost:8080/",
          "height": 915
        }
      },
      "execution_count": 33,
      "outputs": [
        {
          "output_type": "execute_result",
          "data": {
            "image/svg+xml": "<?xml version=\"1.0\" encoding=\"UTF-8\" standalone=\"no\"?>\n<!DOCTYPE svg PUBLIC \"-//W3C//DTD SVG 1.1//EN\"\n \"http://www.w3.org/Graphics/SVG/1.1/DTD/svg11.dtd\">\n<!-- Generated by graphviz version 2.43.0 (0)\n -->\n<!-- Title: %3 Pages: 1 -->\n<svg width=\"2765pt\" height=\"655pt\"\n viewBox=\"0.00 0.00 2764.92 654.77\" xmlns=\"http://www.w3.org/2000/svg\" xmlns:xlink=\"http://www.w3.org/1999/xlink\">\n<g id=\"graph0\" class=\"graph\" transform=\"scale(1 1) rotate(0) translate(4 650.77)\">\n<title>%3</title>\n<polygon fill=\"white\" stroke=\"transparent\" points=\"-4,4 -4,-650.77 2760.92,-650.77 2760.92,4 -4,4\"/>\n<g id=\"clust1\" class=\"cluster\">\n<title>cluster4202</title>\n<path fill=\"none\" stroke=\"black\" d=\"M110.25,-8C110.25,-8 1390.25,-8 1390.25,-8 1396.25,-8 1402.25,-14 1402.25,-20 1402.25,-20 1402.25,-520.84 1402.25,-520.84 1402.25,-526.84 1396.25,-532.84 1390.25,-532.84 1390.25,-532.84 110.25,-532.84 110.25,-532.84 104.25,-532.84 98.25,-526.84 98.25,-520.84 98.25,-520.84 98.25,-20 98.25,-20 98.25,-14 104.25,-8 110.25,-8\"/>\n<text text-anchor=\"middle\" x=\"1380.25\" y=\"-15.8\" font-family=\"Times,serif\" font-size=\"14.00\">4202</text>\n</g>\n<!-- rightAbility -->\n<g id=\"node1\" class=\"node\">\n<title>rightAbility</title>\n<polygon fill=\"none\" stroke=\"black\" points=\"2697.75,-524.84 2606.75,-524.84 2606.75,-471.84 2697.75,-471.84 2697.75,-524.84\"/>\n<text text-anchor=\"middle\" x=\"2652.25\" y=\"-509.64\" font-family=\"Times,serif\" font-size=\"14.00\">rightAbility</text>\n<text text-anchor=\"middle\" x=\"2652.25\" y=\"-494.64\" font-family=\"Times,serif\" font-size=\"14.00\">~</text>\n<text text-anchor=\"middle\" x=\"2652.25\" y=\"-479.64\" font-family=\"Times,serif\" font-size=\"14.00\">Deterministic</text>\n</g>\n<!-- rightPerformance -->\n<g id=\"node30\" class=\"node\">\n<title>rightPerformance</title>\n<polygon fill=\"none\" stroke=\"black\" points=\"937.25,-413.88 825.25,-413.88 825.25,-360.88 937.25,-360.88 937.25,-413.88\"/>\n<text text-anchor=\"middle\" x=\"881.25\" y=\"-398.68\" font-family=\"Times,serif\" font-size=\"14.00\">rightPerformance</text>\n<text text-anchor=\"middle\" x=\"881.25\" y=\"-383.68\" font-family=\"Times,serif\" font-size=\"14.00\">~</text>\n<text text-anchor=\"middle\" x=\"881.25\" y=\"-368.68\" font-family=\"Times,serif\" font-size=\"14.00\">Deterministic</text>\n</g>\n<!-- rightAbility&#45;&gt;rightPerformance -->\n<g id=\"edge12\" class=\"edge\">\n<title>rightAbility&#45;&gt;rightPerformance</title>\n<path fill=\"none\" stroke=\"black\" d=\"M2606.73,-481.76C2581.56,-473.92 2549.54,-465.17 2520.25,-460.86 2347.3,-435.38 1116.03,-470.46 947.25,-424.86 941.43,-423.28 935.55,-421.09 929.84,-418.56\"/>\n<polygon fill=\"black\" stroke=\"black\" points=\"930.95,-415.21 920.43,-414.02 927.91,-421.51 930.95,-415.21\"/>\n</g>\n<!-- visualAcuityAbility -->\n<g id=\"node2\" class=\"node\">\n<title>visualAcuityAbility</title>\n<ellipse fill=\"none\" stroke=\"black\" cx=\"1498.25\" cy=\"-498.34\" rx=\"87.86\" ry=\"37.45\"/>\n<text text-anchor=\"middle\" x=\"1498.25\" y=\"-509.64\" font-family=\"Times,serif\" font-size=\"14.00\">visualAcuityAbility</text>\n<text text-anchor=\"middle\" x=\"1498.25\" y=\"-494.64\" font-family=\"Times,serif\" font-size=\"14.00\">~</text>\n<text text-anchor=\"middle\" x=\"1498.25\" y=\"-479.64\" font-family=\"Times,serif\" font-size=\"14.00\">Uniform</text>\n</g>\n<!-- visualAcuityP -->\n<g id=\"node34\" class=\"node\">\n<title>visualAcuityP</title>\n<polygon fill=\"none\" stroke=\"black\" points=\"198.75,-413.88 105.75,-413.88 105.75,-360.88 198.75,-360.88 198.75,-413.88\"/>\n<text text-anchor=\"middle\" x=\"152.25\" y=\"-398.68\" font-family=\"Times,serif\" font-size=\"14.00\">visualAcuityP</text>\n<text text-anchor=\"middle\" x=\"152.25\" y=\"-383.68\" font-family=\"Times,serif\" font-size=\"14.00\">~</text>\n<text text-anchor=\"middle\" x=\"152.25\" y=\"-368.68\" font-family=\"Times,serif\" font-size=\"14.00\">Deterministic</text>\n</g>\n<!-- visualAcuityAbility&#45;&gt;visualAcuityP -->\n<g id=\"edge10\" class=\"edge\">\n<title>visualAcuityAbility&#45;&gt;visualAcuityP</title>\n<path fill=\"none\" stroke=\"black\" d=\"M1439.3,-470.5C1428.51,-466.59 1417.19,-463.12 1406.25,-460.86 1150,-407.84 483.65,-486.17 229.25,-424.86 222.14,-423.14 214.89,-420.73 207.84,-417.95\"/>\n<polygon fill=\"black\" stroke=\"black\" points=\"208.94,-414.61 198.36,-413.96 206.22,-421.06 208.94,-414.61\"/>\n</g>\n<!-- leftAbility -->\n<g id=\"node3\" class=\"node\">\n<title>leftAbility</title>\n<polygon fill=\"none\" stroke=\"black\" points=\"1847.75,-524.84 1756.75,-524.84 1756.75,-471.84 1847.75,-471.84 1847.75,-524.84\"/>\n<text text-anchor=\"middle\" x=\"1802.25\" y=\"-509.64\" font-family=\"Times,serif\" font-size=\"14.00\">leftAbility</text>\n<text text-anchor=\"middle\" x=\"1802.25\" y=\"-494.64\" font-family=\"Times,serif\" font-size=\"14.00\">~</text>\n<text text-anchor=\"middle\" x=\"1802.25\" y=\"-479.64\" font-family=\"Times,serif\" font-size=\"14.00\">Deterministic</text>\n</g>\n<!-- leftPerformance -->\n<g id=\"node43\" class=\"node\">\n<title>leftPerformance</title>\n<polygon fill=\"none\" stroke=\"black\" points=\"451.25,-413.88 347.25,-413.88 347.25,-360.88 451.25,-360.88 451.25,-413.88\"/>\n<text text-anchor=\"middle\" x=\"399.25\" y=\"-398.68\" font-family=\"Times,serif\" font-size=\"14.00\">leftPerformance</text>\n<text text-anchor=\"middle\" x=\"399.25\" y=\"-383.68\" font-family=\"Times,serif\" font-size=\"14.00\">~</text>\n<text text-anchor=\"middle\" x=\"399.25\" y=\"-368.68\" font-family=\"Times,serif\" font-size=\"14.00\">Deterministic</text>\n</g>\n<!-- leftAbility&#45;&gt;leftPerformance -->\n<g id=\"edge15\" class=\"edge\">\n<title>leftAbility&#45;&gt;leftPerformance</title>\n<path fill=\"none\" stroke=\"black\" d=\"M1770.05,-471.75C1762.91,-467.33 1755.12,-463.35 1747.25,-460.86 1474.71,-374.52 736.02,-503.84 461.25,-424.86 455.85,-423.31 450.44,-421.17 445.17,-418.71\"/>\n<polygon fill=\"black\" stroke=\"black\" points=\"446.4,-415.41 435.91,-413.98 443.22,-421.64 446.4,-415.41\"/>\n</g>\n<!-- CVChickAbility -->\n<g id=\"node4\" class=\"node\">\n<title>CVChickAbility</title>\n<polygon fill=\"none\" stroke=\"black\" points=\"1972.25,-524.84 1866.25,-524.84 1866.25,-471.84 1972.25,-471.84 1972.25,-524.84\"/>\n<text text-anchor=\"middle\" x=\"1919.25\" y=\"-509.64\" font-family=\"Times,serif\" font-size=\"14.00\">CVChickAbility</text>\n<text text-anchor=\"middle\" x=\"1919.25\" y=\"-494.64\" font-family=\"Times,serif\" font-size=\"14.00\">~</text>\n<text text-anchor=\"middle\" x=\"1919.25\" y=\"-479.64\" font-family=\"Times,serif\" font-size=\"14.00\">Deterministic</text>\n</g>\n<!-- cvChickP -->\n<g id=\"node39\" class=\"node\">\n<title>cvChickP</title>\n<polygon fill=\"none\" stroke=\"black\" points=\"560.75,-413.88 469.75,-413.88 469.75,-360.88 560.75,-360.88 560.75,-413.88\"/>\n<text text-anchor=\"middle\" x=\"515.25\" y=\"-398.68\" font-family=\"Times,serif\" font-size=\"14.00\">cvChickP</text>\n<text text-anchor=\"middle\" x=\"515.25\" y=\"-383.68\" font-family=\"Times,serif\" font-size=\"14.00\">~</text>\n<text text-anchor=\"middle\" x=\"515.25\" y=\"-368.68\" font-family=\"Times,serif\" font-size=\"14.00\">Deterministic</text>\n</g>\n<!-- CVChickAbility&#45;&gt;cvChickP -->\n<g id=\"edge25\" class=\"edge\">\n<title>CVChickAbility&#45;&gt;cvChickP</title>\n<path fill=\"none\" stroke=\"black\" d=\"M1882.6,-471.74C1874.58,-467.32 1865.9,-463.34 1857.25,-460.86 1582.28,-381.82 843.01,-511.26 570.25,-424.86 565.59,-423.38 560.94,-421.38 556.45,-419.07\"/>\n<polygon fill=\"black\" stroke=\"black\" points=\"557.89,-415.86 547.46,-413.97 554.43,-421.95 557.89,-415.86\"/>\n</g>\n<!-- PCTBAbility -->\n<g id=\"node5\" class=\"node\">\n<title>PCTBAbility</title>\n<polygon fill=\"none\" stroke=\"black\" points=\"2081.75,-524.84 1990.75,-524.84 1990.75,-471.84 2081.75,-471.84 2081.75,-524.84\"/>\n<text text-anchor=\"middle\" x=\"2036.25\" y=\"-509.64\" font-family=\"Times,serif\" font-size=\"14.00\">PCTBAbility</text>\n<text text-anchor=\"middle\" x=\"2036.25\" y=\"-494.64\" font-family=\"Times,serif\" font-size=\"14.00\">~</text>\n<text text-anchor=\"middle\" x=\"2036.25\" y=\"-479.64\" font-family=\"Times,serif\" font-size=\"14.00\">Deterministic</text>\n</g>\n<!-- pctbP -->\n<g id=\"node19\" class=\"node\">\n<title>pctbP</title>\n<polygon fill=\"none\" stroke=\"black\" points=\"1284.75,-413.88 1193.75,-413.88 1193.75,-360.88 1284.75,-360.88 1284.75,-413.88\"/>\n<text text-anchor=\"middle\" x=\"1239.25\" y=\"-398.68\" font-family=\"Times,serif\" font-size=\"14.00\">pctbP</text>\n<text text-anchor=\"middle\" x=\"1239.25\" y=\"-383.68\" font-family=\"Times,serif\" font-size=\"14.00\">~</text>\n<text text-anchor=\"middle\" x=\"1239.25\" y=\"-368.68\" font-family=\"Times,serif\" font-size=\"14.00\">Deterministic</text>\n</g>\n<!-- PCTBAbility&#45;&gt;pctbP -->\n<g id=\"edge27\" class=\"edge\">\n<title>PCTBAbility&#45;&gt;pctbP</title>\n<path fill=\"none\" stroke=\"black\" d=\"M2003.7,-471.72C1996.65,-467.35 1988.98,-463.41 1981.25,-460.86 1690.93,-364.98 1584.58,-520.74 1294.25,-424.86 1289.67,-423.35 1285.1,-421.34 1280.67,-419.05\"/>\n<polygon fill=\"black\" stroke=\"black\" points=\"1282.23,-415.91 1271.81,-414 1278.77,-421.99 1282.23,-415.91\"/>\n</g>\n<!-- objPermAbility -->\n<g id=\"node6\" class=\"node\">\n<title>objPermAbility</title>\n<ellipse fill=\"none\" stroke=\"black\" cx=\"1483.25\" cy=\"-387.38\" rx=\"71.34\" ry=\"37.45\"/>\n<text text-anchor=\"middle\" x=\"1483.25\" y=\"-398.68\" font-family=\"Times,serif\" font-size=\"14.00\">objPermAbility</text>\n<text text-anchor=\"middle\" x=\"1483.25\" y=\"-383.68\" font-family=\"Times,serif\" font-size=\"14.00\">~</text>\n<text text-anchor=\"middle\" x=\"1483.25\" y=\"-368.68\" font-family=\"Times,serif\" font-size=\"14.00\">Uniform</text>\n</g>\n<!-- objPermP -->\n<g id=\"node31\" class=\"node\">\n<title>objPermP</title>\n<polygon fill=\"none\" stroke=\"black\" points=\"1116.75,-302.93 1025.75,-302.93 1025.75,-249.93 1116.75,-249.93 1116.75,-302.93\"/>\n<text text-anchor=\"middle\" x=\"1071.25\" y=\"-287.73\" font-family=\"Times,serif\" font-size=\"14.00\">objPermP</text>\n<text text-anchor=\"middle\" x=\"1071.25\" y=\"-272.73\" font-family=\"Times,serif\" font-size=\"14.00\">~</text>\n<text text-anchor=\"middle\" x=\"1071.25\" y=\"-257.73\" font-family=\"Times,serif\" font-size=\"14.00\">Deterministic</text>\n</g>\n<!-- objPermAbility&#45;&gt;objPermP -->\n<g id=\"edge35\" class=\"edge\">\n<title>objPermAbility&#45;&gt;objPermP</title>\n<path fill=\"none\" stroke=\"black\" d=\"M1432.99,-360.56C1424.22,-356.64 1415.08,-352.91 1406.25,-349.91 1310.47,-317.34 1194.15,-296.06 1126.82,-285.44\"/>\n<polygon fill=\"black\" stroke=\"black\" points=\"1127.27,-281.97 1116.85,-283.89 1126.19,-288.89 1127.27,-281.97\"/>\n</g>\n<!-- lightsOutAbility -->\n<g id=\"node7\" class=\"node\">\n<title>lightsOutAbility</title>\n<polygon fill=\"none\" stroke=\"black\" points=\"2204.75,-524.84 2099.75,-524.84 2099.75,-471.84 2204.75,-471.84 2204.75,-524.84\"/>\n<text text-anchor=\"middle\" x=\"2152.25\" y=\"-509.64\" font-family=\"Times,serif\" font-size=\"14.00\">lightsOutAbility</text>\n<text text-anchor=\"middle\" x=\"2152.25\" y=\"-494.64\" font-family=\"Times,serif\" font-size=\"14.00\">~</text>\n<text text-anchor=\"middle\" x=\"2152.25\" y=\"-479.64\" font-family=\"Times,serif\" font-size=\"14.00\">Deterministic</text>\n</g>\n<!-- lightsOutP -->\n<g id=\"node23\" class=\"node\">\n<title>lightsOutP</title>\n<polygon fill=\"none\" stroke=\"black\" points=\"1393.75,-413.88 1302.75,-413.88 1302.75,-360.88 1393.75,-360.88 1393.75,-413.88\"/>\n<text text-anchor=\"middle\" x=\"1348.25\" y=\"-398.68\" font-family=\"Times,serif\" font-size=\"14.00\">lightsOutP</text>\n<text text-anchor=\"middle\" x=\"1348.25\" y=\"-383.68\" font-family=\"Times,serif\" font-size=\"14.00\">~</text>\n<text text-anchor=\"middle\" x=\"1348.25\" y=\"-368.68\" font-family=\"Times,serif\" font-size=\"14.00\">Deterministic</text>\n</g>\n<!-- lightsOutAbility&#45;&gt;lightsOutP -->\n<g id=\"edge23\" class=\"edge\">\n<title>lightsOutAbility&#45;&gt;lightsOutP</title>\n<path fill=\"none\" stroke=\"black\" d=\"M2115.86,-471.72C2108.06,-467.35 2099.64,-463.41 2091.25,-460.86 1798.34,-371.66 1694.01,-520.87 1403.25,-424.86 1398.67,-423.35 1394.1,-421.34 1389.67,-419.05\"/>\n<polygon fill=\"black\" stroke=\"black\" points=\"1391.23,-415.91 1380.81,-414 1387.77,-421.99 1391.23,-415.91\"/>\n</g>\n<!-- noisePar -->\n<g id=\"node8\" class=\"node\">\n<title>noisePar</title>\n<ellipse fill=\"none\" stroke=\"black\" cx=\"45.25\" cy=\"-276.43\" rx=\"45.01\" ry=\"37.45\"/>\n<text text-anchor=\"middle\" x=\"45.25\" y=\"-287.73\" font-family=\"Times,serif\" font-size=\"14.00\">noisePar</text>\n<text text-anchor=\"middle\" x=\"45.25\" y=\"-272.73\" font-family=\"Times,serif\" font-size=\"14.00\">~</text>\n<text text-anchor=\"middle\" x=\"45.25\" y=\"-257.73\" font-family=\"Times,serif\" font-size=\"14.00\">Uniform</text>\n</g>\n<!-- finalP -->\n<g id=\"node32\" class=\"node\">\n<title>finalP</title>\n<polygon fill=\"none\" stroke=\"black\" points=\"296.75,-202.95 205.75,-202.95 205.75,-149.95 296.75,-149.95 296.75,-202.95\"/>\n<text text-anchor=\"middle\" x=\"251.25\" y=\"-187.75\" font-family=\"Times,serif\" font-size=\"14.00\">finalP</text>\n<text text-anchor=\"middle\" x=\"251.25\" y=\"-172.75\" font-family=\"Times,serif\" font-size=\"14.00\">~</text>\n<text text-anchor=\"middle\" x=\"251.25\" y=\"-157.75\" font-family=\"Times,serif\" font-size=\"14.00\">Deterministic</text>\n</g>\n<!-- noisePar&#45;&gt;finalP -->\n<g id=\"edge41\" class=\"edge\">\n<title>noisePar&#45;&gt;finalP</title>\n<path fill=\"none\" stroke=\"black\" d=\"M77.39,-249.64C82.86,-245.81 88.6,-242.09 94.25,-238.95 126.47,-221.07 164.97,-205.91 195.78,-195.11\"/>\n<polygon fill=\"black\" stroke=\"black\" points=\"197.18,-198.33 205.49,-191.76 194.89,-191.71 197.18,-198.33\"/>\n</g>\n<!-- rightAbility_raw -->\n<g id=\"node9\" class=\"node\">\n<title>rightAbility_raw</title>\n<ellipse fill=\"none\" stroke=\"black\" cx=\"2681.25\" cy=\"-609.29\" rx=\"75.82\" ry=\"37.45\"/>\n<text text-anchor=\"middle\" x=\"2681.25\" y=\"-620.59\" font-family=\"Times,serif\" font-size=\"14.00\">rightAbility_raw</text>\n<text text-anchor=\"middle\" x=\"2681.25\" y=\"-605.59\" font-family=\"Times,serif\" font-size=\"14.00\">~</text>\n<text text-anchor=\"middle\" x=\"2681.25\" y=\"-590.59\" font-family=\"Times,serif\" font-size=\"14.00\">Beta</text>\n</g>\n<!-- rightAbility_raw&#45;&gt;rightAbility -->\n<g id=\"edge2\" class=\"edge\">\n<title>rightAbility_raw&#45;&gt;rightAbility</title>\n<path fill=\"none\" stroke=\"black\" d=\"M2671.6,-572.01C2668.44,-560.14 2664.93,-546.96 2661.78,-535.12\"/>\n<polygon fill=\"black\" stroke=\"black\" points=\"2665.07,-533.89 2659.12,-525.13 2658.31,-535.69 2665.07,-533.89\"/>\n</g>\n<!-- leftAbility_raw -->\n<g id=\"node10\" class=\"node\">\n<title>leftAbility_raw</title>\n<ellipse fill=\"none\" stroke=\"black\" cx=\"1582.25\" cy=\"-609.29\" rx=\"70.92\" ry=\"37.45\"/>\n<text text-anchor=\"middle\" x=\"1582.25\" y=\"-620.59\" font-family=\"Times,serif\" font-size=\"14.00\">leftAbility_raw</text>\n<text text-anchor=\"middle\" x=\"1582.25\" y=\"-605.59\" font-family=\"Times,serif\" font-size=\"14.00\">~</text>\n<text text-anchor=\"middle\" x=\"1582.25\" y=\"-590.59\" font-family=\"Times,serif\" font-size=\"14.00\">Beta</text>\n</g>\n<!-- leftAbility_raw&#45;&gt;leftAbility -->\n<g id=\"edge3\" class=\"edge\">\n<title>leftAbility_raw&#45;&gt;leftAbility</title>\n<path fill=\"none\" stroke=\"black\" d=\"M1635.09,-583.95C1644.14,-579.86 1653.45,-575.68 1662.25,-571.81 1699.81,-555.3 1711.12,-555.23 1747.25,-535.81 1750.47,-534.08 1753.74,-532.22 1757,-530.28\"/>\n<polygon fill=\"black\" stroke=\"black\" points=\"1758.87,-533.24 1765.55,-525.02 1755.2,-527.28 1758.87,-533.24\"/>\n</g>\n<!-- aheadAbility -->\n<g id=\"node11\" class=\"node\">\n<title>aheadAbility</title>\n<polygon fill=\"none\" stroke=\"black\" points=\"2351.75,-524.84 2260.75,-524.84 2260.75,-471.84 2351.75,-471.84 2351.75,-524.84\"/>\n<text text-anchor=\"middle\" x=\"2306.25\" y=\"-509.64\" font-family=\"Times,serif\" font-size=\"14.00\">aheadAbility</text>\n<text text-anchor=\"middle\" x=\"2306.25\" y=\"-494.64\" font-family=\"Times,serif\" font-size=\"14.00\">~</text>\n<text text-anchor=\"middle\" x=\"2306.25\" y=\"-479.64\" font-family=\"Times,serif\" font-size=\"14.00\">Deterministic</text>\n</g>\n<!-- aheadPerformance -->\n<g id=\"node33\" class=\"node\">\n<title>aheadPerformance</title>\n<polygon fill=\"none\" stroke=\"black\" points=\"697.25,-413.88 579.25,-413.88 579.25,-360.88 697.25,-360.88 697.25,-413.88\"/>\n<text text-anchor=\"middle\" x=\"638.25\" y=\"-398.68\" font-family=\"Times,serif\" font-size=\"14.00\">aheadPerformance</text>\n<text text-anchor=\"middle\" x=\"638.25\" y=\"-383.68\" font-family=\"Times,serif\" font-size=\"14.00\">~</text>\n<text text-anchor=\"middle\" x=\"638.25\" y=\"-368.68\" font-family=\"Times,serif\" font-size=\"14.00\">Deterministic</text>\n</g>\n<!-- aheadAbility&#45;&gt;aheadPerformance -->\n<g id=\"edge13\" class=\"edge\">\n<title>aheadAbility&#45;&gt;aheadPerformance</title>\n<path fill=\"none\" stroke=\"black\" d=\"M2260.43,-475.49C2245.98,-469.61 2229.74,-464.01 2214.25,-460.86 1885.99,-394.09 1031.4,-509.39 707.25,-424.86 701.06,-423.24 694.8,-420.98 688.71,-418.37\"/>\n<polygon fill=\"black\" stroke=\"black\" points=\"689.86,-415.04 679.32,-414.01 686.92,-421.39 689.86,-415.04\"/>\n</g>\n<!-- lightsOutAbility_raw -->\n<g id=\"node12\" class=\"node\">\n<title>lightsOutAbility_raw</title>\n<ellipse fill=\"none\" stroke=\"black\" cx=\"2152.25\" cy=\"-609.29\" rx=\"93.18\" ry=\"37.45\"/>\n<text text-anchor=\"middle\" x=\"2152.25\" y=\"-620.59\" font-family=\"Times,serif\" font-size=\"14.00\">lightsOutAbility_raw</text>\n<text text-anchor=\"middle\" x=\"2152.25\" y=\"-605.59\" font-family=\"Times,serif\" font-size=\"14.00\">~</text>\n<text text-anchor=\"middle\" x=\"2152.25\" y=\"-590.59\" font-family=\"Times,serif\" font-size=\"14.00\">Beta</text>\n</g>\n<!-- lightsOutAbility_raw&#45;&gt;lightsOutAbility -->\n<g id=\"edge7\" class=\"edge\">\n<title>lightsOutAbility_raw&#45;&gt;lightsOutAbility</title>\n<path fill=\"none\" stroke=\"black\" d=\"M2152.25,-571.71C2152.25,-559.97 2152.25,-546.98 2152.25,-535.29\"/>\n<polygon fill=\"black\" stroke=\"black\" points=\"2155.75,-534.99 2152.25,-524.99 2148.75,-534.99 2155.75,-534.99\"/>\n</g>\n<!-- PCTBAbility_raw -->\n<g id=\"node13\" class=\"node\">\n<title>PCTBAbility_raw</title>\n<ellipse fill=\"none\" stroke=\"black\" cx=\"1959.25\" cy=\"-609.29\" rx=\"82.05\" ry=\"37.45\"/>\n<text text-anchor=\"middle\" x=\"1959.25\" y=\"-620.59\" font-family=\"Times,serif\" font-size=\"14.00\">PCTBAbility_raw</text>\n<text text-anchor=\"middle\" x=\"1959.25\" y=\"-605.59\" font-family=\"Times,serif\" font-size=\"14.00\">~</text>\n<text text-anchor=\"middle\" x=\"1959.25\" y=\"-590.59\" font-family=\"Times,serif\" font-size=\"14.00\">Beta</text>\n</g>\n<!-- PCTBAbility_raw&#45;&gt;PCTBAbility -->\n<g id=\"edge6\" class=\"edge\">\n<title>PCTBAbility_raw&#45;&gt;PCTBAbility</title>\n<path fill=\"none\" stroke=\"black\" d=\"M1983.83,-573.52C1992.84,-560.77 2003.03,-546.35 2012.01,-533.64\"/>\n<polygon fill=\"black\" stroke=\"black\" points=\"2015.1,-535.34 2018.01,-525.15 2009.38,-531.3 2015.1,-535.34\"/>\n</g>\n<!-- CVChickAbility_raw -->\n<g id=\"node14\" class=\"node\">\n<title>CVChickAbility_raw</title>\n<ellipse fill=\"none\" stroke=\"black\" cx=\"1765.25\" cy=\"-609.29\" rx=\"94.09\" ry=\"37.45\"/>\n<text text-anchor=\"middle\" x=\"1765.25\" y=\"-620.59\" font-family=\"Times,serif\" font-size=\"14.00\">CVChickAbility_raw</text>\n<text text-anchor=\"middle\" x=\"1765.25\" y=\"-605.59\" font-family=\"Times,serif\" font-size=\"14.00\">~</text>\n<text text-anchor=\"middle\" x=\"1765.25\" y=\"-590.59\" font-family=\"Times,serif\" font-size=\"14.00\">Beta</text>\n</g>\n<!-- CVChickAbility_raw&#45;&gt;CVChickAbility -->\n<g id=\"edge5\" class=\"edge\">\n<title>CVChickAbility_raw&#45;&gt;CVChickAbility</title>\n<path fill=\"none\" stroke=\"black\" d=\"M1810.63,-576.19C1830.81,-561.91 1854.51,-545.15 1874.61,-530.93\"/>\n<polygon fill=\"black\" stroke=\"black\" points=\"1876.84,-533.63 1882.98,-525 1872.79,-527.92 1876.84,-533.63\"/>\n</g>\n<!-- aheadAbility_raw -->\n<g id=\"node15\" class=\"node\">\n<title>aheadAbility_raw</title>\n<ellipse fill=\"none\" stroke=\"black\" cx=\"2343.25\" cy=\"-609.29\" rx=\"79.81\" ry=\"37.45\"/>\n<text text-anchor=\"middle\" x=\"2343.25\" y=\"-620.59\" font-family=\"Times,serif\" font-size=\"14.00\">aheadAbility_raw</text>\n<text text-anchor=\"middle\" x=\"2343.25\" y=\"-605.59\" font-family=\"Times,serif\" font-size=\"14.00\">~</text>\n<text text-anchor=\"middle\" x=\"2343.25\" y=\"-590.59\" font-family=\"Times,serif\" font-size=\"14.00\">Beta</text>\n</g>\n<!-- aheadAbility_raw&#45;&gt;aheadAbility -->\n<g id=\"edge4\" class=\"edge\">\n<title>aheadAbility_raw&#45;&gt;aheadAbility</title>\n<path fill=\"none\" stroke=\"black\" d=\"M2330.93,-572.01C2326.86,-560.02 2322.34,-546.69 2318.29,-534.76\"/>\n<polygon fill=\"black\" stroke=\"black\" points=\"2321.54,-533.47 2315.01,-525.13 2314.92,-535.73 2321.54,-533.47\"/>\n</g>\n<!-- lavaAbility_raw -->\n<g id=\"node16\" class=\"node\">\n<title>lavaAbility_raw</title>\n<ellipse fill=\"none\" stroke=\"black\" cx=\"2514.25\" cy=\"-609.29\" rx=\"73.58\" ry=\"37.45\"/>\n<text text-anchor=\"middle\" x=\"2514.25\" y=\"-620.59\" font-family=\"Times,serif\" font-size=\"14.00\">lavaAbility_raw</text>\n<text text-anchor=\"middle\" x=\"2514.25\" y=\"-605.59\" font-family=\"Times,serif\" font-size=\"14.00\">~</text>\n<text text-anchor=\"middle\" x=\"2514.25\" y=\"-590.59\" font-family=\"Times,serif\" font-size=\"14.00\">Beta</text>\n</g>\n<!-- lavaAbility -->\n<g id=\"node18\" class=\"node\">\n<title>lavaAbility</title>\n<polygon fill=\"none\" stroke=\"black\" points=\"2510.75,-524.84 2419.75,-524.84 2419.75,-471.84 2510.75,-471.84 2510.75,-524.84\"/>\n<text text-anchor=\"middle\" x=\"2465.25\" y=\"-509.64\" font-family=\"Times,serif\" font-size=\"14.00\">lavaAbility</text>\n<text text-anchor=\"middle\" x=\"2465.25\" y=\"-494.64\" font-family=\"Times,serif\" font-size=\"14.00\">~</text>\n<text text-anchor=\"middle\" x=\"2465.25\" y=\"-479.64\" font-family=\"Times,serif\" font-size=\"14.00\">Deterministic</text>\n</g>\n<!-- lavaAbility_raw&#45;&gt;lavaAbility -->\n<g id=\"edge1\" class=\"edge\">\n<title>lavaAbility_raw&#45;&gt;lavaAbility</title>\n<path fill=\"none\" stroke=\"black\" d=\"M2498.21,-572.61C2492.7,-560.37 2486.55,-546.69 2481.06,-534.49\"/>\n<polygon fill=\"black\" stroke=\"black\" points=\"2484.12,-532.76 2476.83,-525.08 2477.74,-535.63 2484.12,-532.76\"/>\n</g>\n<!-- flatNavAbility -->\n<g id=\"node17\" class=\"node\">\n<title>flatNavAbility</title>\n<ellipse fill=\"none\" stroke=\"black\" cx=\"1671.25\" cy=\"-498.34\" rx=\"67.35\" ry=\"37.45\"/>\n<text text-anchor=\"middle\" x=\"1671.25\" y=\"-509.64\" font-family=\"Times,serif\" font-size=\"14.00\">flatNavAbility</text>\n<text text-anchor=\"middle\" x=\"1671.25\" y=\"-494.64\" font-family=\"Times,serif\" font-size=\"14.00\">~</text>\n<text text-anchor=\"middle\" x=\"1671.25\" y=\"-479.64\" font-family=\"Times,serif\" font-size=\"14.00\">Uniform</text>\n</g>\n<!-- flatNavP -->\n<g id=\"node20\" class=\"node\">\n<title>flatNavP</title>\n<polygon fill=\"none\" stroke=\"black\" points=\"328.75,-413.88 237.75,-413.88 237.75,-360.88 328.75,-360.88 328.75,-413.88\"/>\n<text text-anchor=\"middle\" x=\"283.25\" y=\"-398.68\" font-family=\"Times,serif\" font-size=\"14.00\">flatNavP</text>\n<text text-anchor=\"middle\" x=\"283.25\" y=\"-383.68\" font-family=\"Times,serif\" font-size=\"14.00\">~</text>\n<text text-anchor=\"middle\" x=\"283.25\" y=\"-368.68\" font-family=\"Times,serif\" font-size=\"14.00\">Deterministic</text>\n</g>\n<!-- flatNavAbility&#45;&gt;flatNavP -->\n<g id=\"edge19\" class=\"edge\">\n<title>flatNavAbility&#45;&gt;flatNavP</title>\n<path fill=\"none\" stroke=\"black\" d=\"M1624.55,-471.19C1615.11,-466.99 1605.07,-463.24 1595.25,-460.86 1323.69,-394.96 604.63,-509.34 338.25,-424.86 333.59,-423.38 328.94,-421.38 324.45,-419.07\"/>\n<polygon fill=\"black\" stroke=\"black\" points=\"325.89,-415.86 315.46,-413.96 322.43,-421.94 325.89,-415.86\"/>\n</g>\n<!-- lavaP -->\n<g id=\"node41\" class=\"node\">\n<title>lavaP</title>\n<polygon fill=\"none\" stroke=\"black\" points=\"806.75,-413.88 715.75,-413.88 715.75,-360.88 806.75,-360.88 806.75,-413.88\"/>\n<text text-anchor=\"middle\" x=\"761.25\" y=\"-398.68\" font-family=\"Times,serif\" font-size=\"14.00\">lavaP</text>\n<text text-anchor=\"middle\" x=\"761.25\" y=\"-383.68\" font-family=\"Times,serif\" font-size=\"14.00\">~</text>\n<text text-anchor=\"middle\" x=\"761.25\" y=\"-368.68\" font-family=\"Times,serif\" font-size=\"14.00\">Deterministic</text>\n</g>\n<!-- lavaAbility&#45;&gt;lavaP -->\n<g id=\"edge21\" class=\"edge\">\n<title>lavaAbility&#45;&gt;lavaP</title>\n<path fill=\"none\" stroke=\"black\" d=\"M2419.51,-477.8C2401.67,-471.12 2380.83,-464.43 2361.25,-460.86 2192.33,-430.07 980.07,-476.33 816.25,-424.86 811.58,-423.39 806.94,-421.4 802.44,-419.09\"/>\n<polygon fill=\"black\" stroke=\"black\" points=\"803.88,-415.88 793.45,-413.99 800.42,-421.97 803.88,-415.88\"/>\n</g>\n<!-- pctbP&#45;&gt;objPermP -->\n<g id=\"edge33\" class=\"edge\">\n<title>pctbP&#45;&gt;objPermP</title>\n<path fill=\"none\" stroke=\"black\" d=\"M1200.84,-360.8C1195.28,-357.13 1189.63,-353.41 1184.25,-349.91 1163.25,-336.21 1139.95,-321.22 1119.98,-308.45\"/>\n<polygon fill=\"black\" stroke=\"black\" points=\"1121.67,-305.38 1111.36,-302.94 1117.9,-311.28 1121.67,-305.38\"/>\n</g>\n<!-- navP -->\n<g id=\"node37\" class=\"node\">\n<title>navP</title>\n<polygon fill=\"none\" stroke=\"black\" points=\"563.75,-302.93 472.75,-302.93 472.75,-249.93 563.75,-249.93 563.75,-302.93\"/>\n<text text-anchor=\"middle\" x=\"518.25\" y=\"-287.73\" font-family=\"Times,serif\" font-size=\"14.00\">navP</text>\n<text text-anchor=\"middle\" x=\"518.25\" y=\"-272.73\" font-family=\"Times,serif\" font-size=\"14.00\">~</text>\n<text text-anchor=\"middle\" x=\"518.25\" y=\"-257.73\" font-family=\"Times,serif\" font-size=\"14.00\">Deterministic</text>\n</g>\n<!-- flatNavP&#45;&gt;navP -->\n<g id=\"edge32\" class=\"edge\">\n<title>flatNavP&#45;&gt;navP</title>\n<path fill=\"none\" stroke=\"black\" d=\"M319.61,-360.8C325.71,-356.93 332.07,-353.16 338.25,-349.91 378.76,-328.6 426.97,-309.5 463.3,-296.26\"/>\n<polygon fill=\"black\" stroke=\"black\" points=\"464.52,-299.54 472.74,-292.85 462.14,-292.95 464.52,-299.54\"/>\n</g>\n<!-- taskSuccess -->\n<g id=\"node21\" class=\"node\">\n<title>taskSuccess</title>\n<ellipse fill=\"lightgrey\" stroke=\"black\" cx=\"251.25\" cy=\"-76.48\" rx=\"57.05\" ry=\"37.45\"/>\n<text text-anchor=\"middle\" x=\"251.25\" y=\"-87.78\" font-family=\"Times,serif\" font-size=\"14.00\">taskSuccess</text>\n<text text-anchor=\"middle\" x=\"251.25\" y=\"-72.78\" font-family=\"Times,serif\" font-size=\"14.00\">~</text>\n<text text-anchor=\"middle\" x=\"251.25\" y=\"-57.78\" font-family=\"Times,serif\" font-size=\"14.00\">Bernoulli</text>\n</g>\n<!-- PCTBTest -->\n<g id=\"node22\" class=\"node\">\n<title>PCTBTest</title>\n<path fill=\"lightgrey\" stroke=\"black\" d=\"M1248.25,-524.84C1248.25,-524.84 1184.25,-524.84 1184.25,-524.84 1178.25,-524.84 1172.25,-518.84 1172.25,-512.84 1172.25,-512.84 1172.25,-483.84 1172.25,-483.84 1172.25,-477.84 1178.25,-471.84 1184.25,-471.84 1184.25,-471.84 1248.25,-471.84 1248.25,-471.84 1254.25,-471.84 1260.25,-477.84 1260.25,-483.84 1260.25,-483.84 1260.25,-512.84 1260.25,-512.84 1260.25,-518.84 1254.25,-524.84 1248.25,-524.84\"/>\n<text text-anchor=\"middle\" x=\"1216.25\" y=\"-509.64\" font-family=\"Times,serif\" font-size=\"14.00\">PCTBTest</text>\n<text text-anchor=\"middle\" x=\"1216.25\" y=\"-494.64\" font-family=\"Times,serif\" font-size=\"14.00\">~</text>\n<text text-anchor=\"middle\" x=\"1216.25\" y=\"-479.64\" font-family=\"Times,serif\" font-size=\"14.00\">MutableData</text>\n</g>\n<!-- PCTBTest&#45;&gt;pctbP -->\n<g id=\"edge26\" class=\"edge\">\n<title>PCTBTest&#45;&gt;pctbP</title>\n<path fill=\"none\" stroke=\"black\" d=\"M1221.65,-471.79C1224.65,-457.55 1228.44,-439.6 1231.74,-423.99\"/>\n<polygon fill=\"black\" stroke=\"black\" points=\"1235.18,-424.65 1233.82,-414.15 1228.33,-423.21 1235.18,-424.65\"/>\n</g>\n<!-- lightsOutP&#45;&gt;objPermP -->\n<g id=\"edge34\" class=\"edge\">\n<title>lightsOutP&#45;&gt;objPermP</title>\n<path fill=\"none\" stroke=\"black\" d=\"M1313.38,-360.78C1307.18,-356.83 1300.66,-353.03 1294.25,-349.91 1239.72,-323.29 1173.09,-303.09 1126.94,-290.87\"/>\n<polygon fill=\"black\" stroke=\"black\" points=\"1127.68,-287.45 1117.12,-288.31 1125.91,-294.22 1127.68,-287.45\"/>\n</g>\n<!-- CVChickTest -->\n<g id=\"node24\" class=\"node\">\n<title>CVChickTest</title>\n<path fill=\"lightgrey\" stroke=\"black\" d=\"M630.25,-524.84C630.25,-524.84 564.25,-524.84 564.25,-524.84 558.25,-524.84 552.25,-518.84 552.25,-512.84 552.25,-512.84 552.25,-483.84 552.25,-483.84 552.25,-477.84 558.25,-471.84 564.25,-471.84 564.25,-471.84 630.25,-471.84 630.25,-471.84 636.25,-471.84 642.25,-477.84 642.25,-483.84 642.25,-483.84 642.25,-512.84 642.25,-512.84 642.25,-518.84 636.25,-524.84 630.25,-524.84\"/>\n<text text-anchor=\"middle\" x=\"597.25\" y=\"-509.64\" font-family=\"Times,serif\" font-size=\"14.00\">CVChickTest</text>\n<text text-anchor=\"middle\" x=\"597.25\" y=\"-494.64\" font-family=\"Times,serif\" font-size=\"14.00\">~</text>\n<text text-anchor=\"middle\" x=\"597.25\" y=\"-479.64\" font-family=\"Times,serif\" font-size=\"14.00\">MutableData</text>\n</g>\n<!-- CVChickTest&#45;&gt;cvChickP -->\n<g id=\"edge24\" class=\"edge\">\n<title>CVChickTest&#45;&gt;cvChickP</title>\n<path fill=\"none\" stroke=\"black\" d=\"M578.03,-471.79C566.9,-457.01 552.76,-438.22 540.72,-422.22\"/>\n<polygon fill=\"black\" stroke=\"black\" points=\"543.45,-420.03 534.64,-414.15 537.86,-424.24 543.45,-420.03\"/>\n</g>\n<!-- lightsOutPresence -->\n<g id=\"node25\" class=\"node\">\n<title>lightsOutPresence</title>\n<path fill=\"lightgrey\" stroke=\"black\" d=\"M1380.75,-524.84C1380.75,-524.84 1289.75,-524.84 1289.75,-524.84 1283.75,-524.84 1277.75,-518.84 1277.75,-512.84 1277.75,-512.84 1277.75,-483.84 1277.75,-483.84 1277.75,-477.84 1283.75,-471.84 1289.75,-471.84 1289.75,-471.84 1380.75,-471.84 1380.75,-471.84 1386.75,-471.84 1392.75,-477.84 1392.75,-483.84 1392.75,-483.84 1392.75,-512.84 1392.75,-512.84 1392.75,-518.84 1386.75,-524.84 1380.75,-524.84\"/>\n<text text-anchor=\"middle\" x=\"1335.25\" y=\"-509.64\" font-family=\"Times,serif\" font-size=\"14.00\">lightsOutPresence</text>\n<text text-anchor=\"middle\" x=\"1335.25\" y=\"-494.64\" font-family=\"Times,serif\" font-size=\"14.00\">~</text>\n<text text-anchor=\"middle\" x=\"1335.25\" y=\"-479.64\" font-family=\"Times,serif\" font-size=\"14.00\">MutableData</text>\n</g>\n<!-- lightsOutPresence&#45;&gt;lightsOutP -->\n<g id=\"edge22\" class=\"edge\">\n<title>lightsOutPresence&#45;&gt;lightsOutP</title>\n<path fill=\"none\" stroke=\"black\" d=\"M1338.3,-471.79C1339.99,-457.69 1342.1,-439.94 1343.95,-424.44\"/>\n<polygon fill=\"black\" stroke=\"black\" points=\"1347.47,-424.49 1345.18,-414.15 1340.52,-423.66 1347.47,-424.49\"/>\n</g>\n<!-- minTurnsToGoal -->\n<g id=\"node26\" class=\"node\">\n<title>minTurnsToGoal</title>\n<path fill=\"lightgrey\" stroke=\"black\" d=\"M416.25,-524.84C416.25,-524.84 330.25,-524.84 330.25,-524.84 324.25,-524.84 318.25,-518.84 318.25,-512.84 318.25,-512.84 318.25,-483.84 318.25,-483.84 318.25,-477.84 324.25,-471.84 330.25,-471.84 330.25,-471.84 416.25,-471.84 416.25,-471.84 422.25,-471.84 428.25,-477.84 428.25,-483.84 428.25,-483.84 428.25,-512.84 428.25,-512.84 428.25,-518.84 422.25,-524.84 416.25,-524.84\"/>\n<text text-anchor=\"middle\" x=\"373.25\" y=\"-509.64\" font-family=\"Times,serif\" font-size=\"14.00\">minTurnsToGoal</text>\n<text text-anchor=\"middle\" x=\"373.25\" y=\"-494.64\" font-family=\"Times,serif\" font-size=\"14.00\">~</text>\n<text text-anchor=\"middle\" x=\"373.25\" y=\"-479.64\" font-family=\"Times,serif\" font-size=\"14.00\">MutableData</text>\n</g>\n<!-- minTurnsToGoal&#45;&gt;flatNavP -->\n<g id=\"edge18\" class=\"edge\">\n<title>minTurnsToGoal&#45;&gt;flatNavP</title>\n<path fill=\"none\" stroke=\"black\" d=\"M352.15,-471.79C339.94,-457.01 324.42,-438.22 311.21,-422.22\"/>\n<polygon fill=\"black\" stroke=\"black\" points=\"313.6,-419.63 304.54,-414.15 308.21,-424.08 313.6,-419.63\"/>\n</g>\n<!-- numChoices -->\n<g id=\"node27\" class=\"node\">\n<title>numChoices</title>\n<path fill=\"lightgrey\" stroke=\"black\" d=\"M1163.25,-413.88C1163.25,-413.88 1099.25,-413.88 1099.25,-413.88 1093.25,-413.88 1087.25,-407.88 1087.25,-401.88 1087.25,-401.88 1087.25,-372.88 1087.25,-372.88 1087.25,-366.88 1093.25,-360.88 1099.25,-360.88 1099.25,-360.88 1163.25,-360.88 1163.25,-360.88 1169.25,-360.88 1175.25,-366.88 1175.25,-372.88 1175.25,-372.88 1175.25,-401.88 1175.25,-401.88 1175.25,-407.88 1169.25,-413.88 1163.25,-413.88\"/>\n<text text-anchor=\"middle\" x=\"1131.25\" y=\"-398.68\" font-family=\"Times,serif\" font-size=\"14.00\">numChoices</text>\n<text text-anchor=\"middle\" x=\"1131.25\" y=\"-383.68\" font-family=\"Times,serif\" font-size=\"14.00\">~</text>\n<text text-anchor=\"middle\" x=\"1131.25\" y=\"-368.68\" font-family=\"Times,serif\" font-size=\"14.00\">MutableData</text>\n</g>\n<!-- numChoices&#45;&gt;objPermP -->\n<g id=\"edge38\" class=\"edge\">\n<title>numChoices&#45;&gt;objPermP</title>\n<path fill=\"none\" stroke=\"black\" d=\"M1117.19,-360.84C1109.2,-346.33 1099.08,-327.96 1090.38,-312.15\"/>\n<polygon fill=\"black\" stroke=\"black\" points=\"1093.33,-310.26 1085.44,-303.19 1087.2,-313.64 1093.33,-310.26\"/>\n</g>\n<!-- goalLeft -->\n<g id=\"node28\" class=\"node\">\n<title>goalLeft</title>\n<path fill=\"lightgrey\" stroke=\"black\" d=\"M522.25,-524.84C522.25,-524.84 458.25,-524.84 458.25,-524.84 452.25,-524.84 446.25,-518.84 446.25,-512.84 446.25,-512.84 446.25,-483.84 446.25,-483.84 446.25,-477.84 452.25,-471.84 458.25,-471.84 458.25,-471.84 522.25,-471.84 522.25,-471.84 528.25,-471.84 534.25,-477.84 534.25,-483.84 534.25,-483.84 534.25,-512.84 534.25,-512.84 534.25,-518.84 528.25,-524.84 522.25,-524.84\"/>\n<text text-anchor=\"middle\" x=\"490.25\" y=\"-509.64\" font-family=\"Times,serif\" font-size=\"14.00\">goalLeft</text>\n<text text-anchor=\"middle\" x=\"490.25\" y=\"-494.64\" font-family=\"Times,serif\" font-size=\"14.00\">~</text>\n<text text-anchor=\"middle\" x=\"490.25\" y=\"-479.64\" font-family=\"Times,serif\" font-size=\"14.00\">MutableData</text>\n</g>\n<!-- goalLeft&#45;&gt;leftPerformance -->\n<g id=\"edge16\" class=\"edge\">\n<title>goalLeft&#45;&gt;leftPerformance</title>\n<path fill=\"none\" stroke=\"black\" d=\"M468.92,-471.79C456.57,-457.01 440.88,-438.22 427.52,-422.22\"/>\n<polygon fill=\"black\" stroke=\"black\" points=\"429.87,-419.58 420.77,-414.15 424.5,-424.06 429.87,-419.58\"/>\n</g>\n<!-- goalRight -->\n<g id=\"node29\" class=\"node\">\n<title>goalRight</title>\n<path fill=\"lightgrey\" stroke=\"black\" d=\"M948.25,-524.84C948.25,-524.84 884.25,-524.84 884.25,-524.84 878.25,-524.84 872.25,-518.84 872.25,-512.84 872.25,-512.84 872.25,-483.84 872.25,-483.84 872.25,-477.84 878.25,-471.84 884.25,-471.84 884.25,-471.84 948.25,-471.84 948.25,-471.84 954.25,-471.84 960.25,-477.84 960.25,-483.84 960.25,-483.84 960.25,-512.84 960.25,-512.84 960.25,-518.84 954.25,-524.84 948.25,-524.84\"/>\n<text text-anchor=\"middle\" x=\"916.25\" y=\"-509.64\" font-family=\"Times,serif\" font-size=\"14.00\">goalRight</text>\n<text text-anchor=\"middle\" x=\"916.25\" y=\"-494.64\" font-family=\"Times,serif\" font-size=\"14.00\">~</text>\n<text text-anchor=\"middle\" x=\"916.25\" y=\"-479.64\" font-family=\"Times,serif\" font-size=\"14.00\">MutableData</text>\n</g>\n<!-- goalRight&#45;&gt;rightPerformance -->\n<g id=\"edge11\" class=\"edge\">\n<title>goalRight&#45;&gt;rightPerformance</title>\n<path fill=\"none\" stroke=\"black\" d=\"M908.05,-471.79C903.47,-457.55 897.71,-439.6 892.69,-423.99\"/>\n<polygon fill=\"black\" stroke=\"black\" points=\"895.92,-422.6 889.53,-414.15 889.26,-424.74 895.92,-422.6\"/>\n</g>\n<!-- rightPerformance&#45;&gt;navP -->\n<g id=\"edge28\" class=\"edge\">\n<title>rightPerformance&#45;&gt;navP</title>\n<path fill=\"none\" stroke=\"black\" d=\"M839.42,-360.72C831.88,-356.74 823.96,-352.94 816.25,-349.91 734.76,-317.83 634.97,-297.05 574.03,-286.3\"/>\n<polygon fill=\"black\" stroke=\"black\" points=\"574.31,-282.79 563.86,-284.53 573.11,-289.69 574.31,-282.79\"/>\n</g>\n<!-- objPermP&#45;&gt;finalP -->\n<g id=\"edge43\" class=\"edge\">\n<title>objPermP&#45;&gt;finalP</title>\n<path fill=\"none\" stroke=\"black\" d=\"M1025.71,-269.99C885.41,-253.22 460.07,-202.4 306.94,-184.11\"/>\n<polygon fill=\"black\" stroke=\"black\" points=\"307.17,-180.61 296.82,-182.9 306.34,-187.56 307.17,-180.61\"/>\n</g>\n<!-- finalP&#45;&gt;taskSuccess -->\n<g id=\"edge44\" class=\"edge\">\n<title>finalP&#45;&gt;taskSuccess</title>\n<path fill=\"none\" stroke=\"black\" d=\"M251.25,-149.71C251.25,-141.89 251.25,-133.03 251.25,-124.27\"/>\n<polygon fill=\"black\" stroke=\"black\" points=\"254.75,-124.1 251.25,-114.1 247.75,-124.1 254.75,-124.1\"/>\n</g>\n<!-- aheadPerformance&#45;&gt;navP -->\n<g id=\"edge31\" class=\"edge\">\n<title>aheadPerformance&#45;&gt;navP</title>\n<path fill=\"none\" stroke=\"black\" d=\"M610.12,-360.84C593.39,-345.65 572,-326.23 554.08,-309.95\"/>\n<polygon fill=\"black\" stroke=\"black\" points=\"556.39,-307.32 546.63,-303.19 551.68,-312.51 556.39,-307.32\"/>\n</g>\n<!-- visualAcuityP&#45;&gt;finalP -->\n<g id=\"edge40\" class=\"edge\">\n<title>visualAcuityP&#45;&gt;finalP</title>\n<path fill=\"none\" stroke=\"black\" d=\"M164.39,-360.76C182.07,-323.46 214.94,-254.09 234.78,-212.21\"/>\n<polygon fill=\"black\" stroke=\"black\" points=\"238.05,-213.49 239.17,-202.95 231.73,-210.49 238.05,-213.49\"/>\n</g>\n<!-- goalSize -->\n<g id=\"node35\" class=\"node\">\n<title>goalSize</title>\n<path fill=\"lightgrey\" stroke=\"black\" d=\"M182.25,-524.84C182.25,-524.84 118.25,-524.84 118.25,-524.84 112.25,-524.84 106.25,-518.84 106.25,-512.84 106.25,-512.84 106.25,-483.84 106.25,-483.84 106.25,-477.84 112.25,-471.84 118.25,-471.84 118.25,-471.84 182.25,-471.84 182.25,-471.84 188.25,-471.84 194.25,-477.84 194.25,-483.84 194.25,-483.84 194.25,-512.84 194.25,-512.84 194.25,-518.84 188.25,-524.84 182.25,-524.84\"/>\n<text text-anchor=\"middle\" x=\"150.25\" y=\"-509.64\" font-family=\"Times,serif\" font-size=\"14.00\">goalSize</text>\n<text text-anchor=\"middle\" x=\"150.25\" y=\"-494.64\" font-family=\"Times,serif\" font-size=\"14.00\">~</text>\n<text text-anchor=\"middle\" x=\"150.25\" y=\"-479.64\" font-family=\"Times,serif\" font-size=\"14.00\">MutableData</text>\n</g>\n<!-- goalSize&#45;&gt;visualAcuityP -->\n<g id=\"edge8\" class=\"edge\">\n<title>goalSize&#45;&gt;visualAcuityP</title>\n<path fill=\"none\" stroke=\"black\" d=\"M150.72,-471.79C150.98,-457.69 151.31,-439.94 151.59,-424.44\"/>\n<polygon fill=\"black\" stroke=\"black\" points=\"155.1,-424.21 151.78,-414.15 148.1,-424.08 155.1,-424.21\"/>\n</g>\n<!-- goalDistance -->\n<g id=\"node36\" class=\"node\">\n<title>goalDistance</title>\n<path fill=\"lightgrey\" stroke=\"black\" d=\"M288.25,-524.84C288.25,-524.84 224.25,-524.84 224.25,-524.84 218.25,-524.84 212.25,-518.84 212.25,-512.84 212.25,-512.84 212.25,-483.84 212.25,-483.84 212.25,-477.84 218.25,-471.84 224.25,-471.84 224.25,-471.84 288.25,-471.84 288.25,-471.84 294.25,-471.84 300.25,-477.84 300.25,-483.84 300.25,-483.84 300.25,-512.84 300.25,-512.84 300.25,-518.84 294.25,-524.84 288.25,-524.84\"/>\n<text text-anchor=\"middle\" x=\"256.25\" y=\"-509.64\" font-family=\"Times,serif\" font-size=\"14.00\">goalDistance</text>\n<text text-anchor=\"middle\" x=\"256.25\" y=\"-494.64\" font-family=\"Times,serif\" font-size=\"14.00\">~</text>\n<text text-anchor=\"middle\" x=\"256.25\" y=\"-479.64\" font-family=\"Times,serif\" font-size=\"14.00\">MutableData</text>\n</g>\n<!-- goalDistance&#45;&gt;flatNavP -->\n<g id=\"edge17\" class=\"edge\">\n<title>goalDistance&#45;&gt;flatNavP</title>\n<path fill=\"none\" stroke=\"black\" d=\"M262.59,-471.79C266.11,-457.55 270.56,-439.6 274.43,-423.99\"/>\n<polygon fill=\"black\" stroke=\"black\" points=\"277.86,-424.69 276.87,-414.15 271.07,-423.01 277.86,-424.69\"/>\n</g>\n<!-- goalDistance&#45;&gt;objPermP -->\n<g id=\"edge37\" class=\"edge\">\n<title>goalDistance&#45;&gt;objPermP</title>\n<path fill=\"none\" stroke=\"black\" d=\"M240.14,-471.64C221.98,-439.06 198.73,-383.17 229.25,-349.91 235.94,-342.62 828.3,-296.22 1015.33,-281.74\"/>\n<polygon fill=\"black\" stroke=\"black\" points=\"1015.8,-285.22 1025.5,-280.95 1015.26,-278.24 1015.8,-285.22\"/>\n</g>\n<!-- goalDistance&#45;&gt;visualAcuityP -->\n<g id=\"edge9\" class=\"edge\">\n<title>goalDistance&#45;&gt;visualAcuityP</title>\n<path fill=\"none\" stroke=\"black\" d=\"M231.87,-471.79C217.63,-456.87 199.5,-437.88 184.14,-421.78\"/>\n<polygon fill=\"black\" stroke=\"black\" points=\"186.28,-418.96 176.85,-414.15 181.22,-423.8 186.28,-418.96\"/>\n</g>\n<!-- navP&#45;&gt;finalP -->\n<g id=\"edge42\" class=\"edge\">\n<title>navP&#45;&gt;finalP</title>\n<path fill=\"none\" stroke=\"black\" d=\"M472.66,-258.7C426.72,-241.84 355.78,-215.81 306.63,-197.77\"/>\n<polygon fill=\"black\" stroke=\"black\" points=\"307.7,-194.44 297.11,-194.28 305.29,-201.01 307.7,-194.44\"/>\n</g>\n<!-- lavaPresence -->\n<g id=\"node38\" class=\"node\">\n<title>lavaPresence</title>\n<path fill=\"lightgrey\" stroke=\"black\" d=\"M842.25,-524.84C842.25,-524.84 778.25,-524.84 778.25,-524.84 772.25,-524.84 766.25,-518.84 766.25,-512.84 766.25,-512.84 766.25,-483.84 766.25,-483.84 766.25,-477.84 772.25,-471.84 778.25,-471.84 778.25,-471.84 842.25,-471.84 842.25,-471.84 848.25,-471.84 854.25,-477.84 854.25,-483.84 854.25,-483.84 854.25,-512.84 854.25,-512.84 854.25,-518.84 848.25,-524.84 842.25,-524.84\"/>\n<text text-anchor=\"middle\" x=\"810.25\" y=\"-509.64\" font-family=\"Times,serif\" font-size=\"14.00\">lavaPresence</text>\n<text text-anchor=\"middle\" x=\"810.25\" y=\"-494.64\" font-family=\"Times,serif\" font-size=\"14.00\">~</text>\n<text text-anchor=\"middle\" x=\"810.25\" y=\"-479.64\" font-family=\"Times,serif\" font-size=\"14.00\">MutableData</text>\n</g>\n<!-- lavaPresence&#45;&gt;lavaP -->\n<g id=\"edge20\" class=\"edge\">\n<title>lavaPresence&#45;&gt;lavaP</title>\n<path fill=\"none\" stroke=\"black\" d=\"M798.77,-471.79C792.3,-457.42 784.13,-439.25 777.07,-423.55\"/>\n<polygon fill=\"black\" stroke=\"black\" points=\"780.13,-421.83 772.84,-414.15 773.75,-424.7 780.13,-421.83\"/>\n</g>\n<!-- cvChickP&#45;&gt;objPermP -->\n<g id=\"edge39\" class=\"edge\">\n<title>cvChickP&#45;&gt;objPermP</title>\n<path fill=\"none\" stroke=\"black\" d=\"M548.9,-360.76C555.68,-356.56 562.98,-352.69 570.25,-349.91 723.98,-291.23 920.83,-279.61 1015.5,-277.61\"/>\n<polygon fill=\"black\" stroke=\"black\" points=\"1015.77,-281.1 1025.71,-277.42 1015.65,-274.1 1015.77,-281.1\"/>\n</g>\n<!-- goalAhead -->\n<g id=\"node40\" class=\"node\">\n<title>goalAhead</title>\n<path fill=\"lightgrey\" stroke=\"black\" d=\"M736.25,-524.84C736.25,-524.84 672.25,-524.84 672.25,-524.84 666.25,-524.84 660.25,-518.84 660.25,-512.84 660.25,-512.84 660.25,-483.84 660.25,-483.84 660.25,-477.84 666.25,-471.84 672.25,-471.84 672.25,-471.84 736.25,-471.84 736.25,-471.84 742.25,-471.84 748.25,-477.84 748.25,-483.84 748.25,-483.84 748.25,-512.84 748.25,-512.84 748.25,-518.84 742.25,-524.84 736.25,-524.84\"/>\n<text text-anchor=\"middle\" x=\"704.25\" y=\"-509.64\" font-family=\"Times,serif\" font-size=\"14.00\">goalAhead</text>\n<text text-anchor=\"middle\" x=\"704.25\" y=\"-494.64\" font-family=\"Times,serif\" font-size=\"14.00\">~</text>\n<text text-anchor=\"middle\" x=\"704.25\" y=\"-479.64\" font-family=\"Times,serif\" font-size=\"14.00\">MutableData</text>\n</g>\n<!-- goalAhead&#45;&gt;aheadPerformance -->\n<g id=\"edge14\" class=\"edge\">\n<title>goalAhead&#45;&gt;aheadPerformance</title>\n<path fill=\"none\" stroke=\"black\" d=\"M688.78,-471.79C679.99,-457.28 668.86,-438.91 659.29,-423.11\"/>\n<polygon fill=\"black\" stroke=\"black\" points=\"662.04,-420.89 653.86,-414.15 656.05,-424.51 662.04,-420.89\"/>\n</g>\n<!-- lavaP&#45;&gt;navP -->\n<g id=\"edge30\" class=\"edge\">\n<title>lavaP&#45;&gt;navP</title>\n<path fill=\"none\" stroke=\"black\" d=\"M724.94,-360.72C718.84,-356.86 712.46,-353.11 706.25,-349.91 663.32,-327.73 611.97,-308.38 573.8,-295.27\"/>\n<polygon fill=\"black\" stroke=\"black\" points=\"574.49,-291.8 563.89,-291.9 572.24,-298.43 574.49,-291.8\"/>\n</g>\n<!-- allocentricOPTest -->\n<g id=\"node42\" class=\"node\">\n<title>allocentricOPTest</title>\n<path fill=\"lightgrey\" stroke=\"black\" d=\"M1056.75,-413.88C1056.75,-413.88 967.75,-413.88 967.75,-413.88 961.75,-413.88 955.75,-407.88 955.75,-401.88 955.75,-401.88 955.75,-372.88 955.75,-372.88 955.75,-366.88 961.75,-360.88 967.75,-360.88 967.75,-360.88 1056.75,-360.88 1056.75,-360.88 1062.75,-360.88 1068.75,-366.88 1068.75,-372.88 1068.75,-372.88 1068.75,-401.88 1068.75,-401.88 1068.75,-407.88 1062.75,-413.88 1056.75,-413.88\"/>\n<text text-anchor=\"middle\" x=\"1012.25\" y=\"-398.68\" font-family=\"Times,serif\" font-size=\"14.00\">allocentricOPTest</text>\n<text text-anchor=\"middle\" x=\"1012.25\" y=\"-383.68\" font-family=\"Times,serif\" font-size=\"14.00\">~</text>\n<text text-anchor=\"middle\" x=\"1012.25\" y=\"-368.68\" font-family=\"Times,serif\" font-size=\"14.00\">MutableData</text>\n</g>\n<!-- allocentricOPTest&#45;&gt;objPermP -->\n<g id=\"edge36\" class=\"edge\">\n<title>allocentricOPTest&#45;&gt;objPermP</title>\n<path fill=\"none\" stroke=\"black\" d=\"M1026.09,-360.84C1033.95,-346.33 1043.89,-327.96 1052.45,-312.15\"/>\n<polygon fill=\"black\" stroke=\"black\" points=\"1055.62,-313.65 1057.3,-303.19 1049.46,-310.32 1055.62,-313.65\"/>\n</g>\n<!-- leftPerformance&#45;&gt;navP -->\n<g id=\"edge29\" class=\"edge\">\n<title>leftPerformance&#45;&gt;navP</title>\n<path fill=\"none\" stroke=\"black\" d=\"M427.16,-360.84C443.75,-345.65 464.95,-326.23 482.73,-309.95\"/>\n<polygon fill=\"black\" stroke=\"black\" points=\"485.11,-312.53 490.12,-303.19 480.38,-307.36 485.11,-312.53\"/>\n</g>\n</g>\n</svg>\n",
            "text/plain": [
              "<graphviz.graphs.Digraph at 0x7e85fcd2a830>"
            ]
          },
          "metadata": {},
          "execution_count": 33
        }
      ]
    },
    {
      "cell_type": "code",
      "source": [
        "abilitiesToShow = [\"objPermAbility\", \"visualAcuityAbility\", \"flatNavAbility\", \"lavaAbility\", \"rightAbility\", \"leftAbility\", \"aheadAbility\", \"CVChickAbility\", \"PCTBAbility\", \"lightsOutAbility\", \"noisePar\"]\n",
        "model_all, min, max = SetupModel(agent_data, uniformAbilitySlack=1, agent_type='agent_real', agent_name=\"success_Vanilla_Braitenberg_15_rays_over_60_degs_356\", agent_name_choice=\"correctChoice_Vanilla_Braitenberg_15_rays_over_60_degs_356\", sample = None)\n",
        "with model_all:\n",
        "  data_all = pm.sample(2000, target_accept=0.95)\n",
        "mu, sd  = analyzeAgentResults(\"Vanilla_Braitenberg_15_rays_over_60_degs_356\", data_all, abilitiesToShow)"
      ],
      "metadata": {
        "id": "EPXW-BKdcKU3",
        "outputId": "60ac9580-162e-4083-fe95-3ea72fde6eeb",
        "colab": {
          "base_uri": "https://localhost:8080/",
          "height": 57
        }
      },
      "execution_count": null,
      "outputs": [
        {
          "output_type": "display_data",
          "data": {
            "text/plain": [
              "<IPython.core.display.HTML object>"
            ],
            "text/html": [
              "\n",
              "<style>\n",
              "    /* Turns off some styling */\n",
              "    progress {\n",
              "        /* gets rid of default border in Firefox and Opera. */\n",
              "        border: none;\n",
              "        /* Needs to be in here for Safari polyfill so background images work as expected. */\n",
              "        background-size: auto;\n",
              "    }\n",
              "    progress:not([value]), progress:not([value])::-webkit-progress-bar {\n",
              "        background: repeating-linear-gradient(45deg, #7e7e7e, #7e7e7e 10px, #5c5c5c 10px, #5c5c5c 20px);\n",
              "    }\n",
              "    .progress-bar-interrupted, .progress-bar-interrupted::-webkit-progress-bar {\n",
              "        background: #F44336;\n",
              "    }\n",
              "</style>\n"
            ]
          },
          "metadata": {}
        },
        {
          "output_type": "display_data",
          "data": {
            "text/plain": [
              "<IPython.core.display.HTML object>"
            ],
            "text/html": [
              "\n",
              "    <div>\n",
              "      <progress value='3000' class='' max='3000' style='width:300px; height:20px; vertical-align: middle;'></progress>\n",
              "      100.00% [3000/3000 02:56&lt;00:00 Sampling chain 0, 0 divergences]\n",
              "    </div>\n",
              "    "
            ]
          },
          "metadata": {}
        },
        {
          "output_type": "display_data",
          "data": {
            "text/plain": [
              "<IPython.core.display.HTML object>"
            ],
            "text/html": [
              "\n",
              "<style>\n",
              "    /* Turns off some styling */\n",
              "    progress {\n",
              "        /* gets rid of default border in Firefox and Opera. */\n",
              "        border: none;\n",
              "        /* Needs to be in here for Safari polyfill so background images work as expected. */\n",
              "        background-size: auto;\n",
              "    }\n",
              "    progress:not([value]), progress:not([value])::-webkit-progress-bar {\n",
              "        background: repeating-linear-gradient(45deg, #7e7e7e, #7e7e7e 10px, #5c5c5c 10px, #5c5c5c 20px);\n",
              "    }\n",
              "    .progress-bar-interrupted, .progress-bar-interrupted::-webkit-progress-bar {\n",
              "        background: #F44336;\n",
              "    }\n",
              "</style>\n"
            ]
          },
          "metadata": {}
        },
        {
          "output_type": "display_data",
          "data": {
            "text/plain": [
              "<IPython.core.display.HTML object>"
            ],
            "text/html": [
              "\n",
              "    <div>\n",
              "      <progress value='3000' class='' max='3000' style='width:300px; height:20px; vertical-align: middle;'></progress>\n",
              "      100.00% [3000/3000 03:10&lt;00:00 Sampling chain 1, 0 divergences]\n",
              "    </div>\n",
              "    "
            ]
          },
          "metadata": {}
        }
      ]
    },
    {
      "cell_type": "code",
      "source": [
        "# A function for pulling out the means and standard deviations for abilities of interest\n",
        "def analyzeAgentResults(agentName, agentData, abilitiesToShow):\n",
        "\n",
        "  #abilityMeans = [] # empty list to add in ability means to\n",
        "  #abilitySDs = []\n",
        "\n",
        "  abilityMeans = {}\n",
        "  abilitySDs = {}\n",
        "\n",
        "  for a in abilitiesToShow: #iterate through each ability, add posterior mean to dataframe, and plot posterior\n",
        "\n",
        "    posteriorMean = float(np.mean(agentData['posterior'][a])) # calculate posterior mean\n",
        "    posteriorSD = float(np.std(agentData['posterior'][a])) #calculate posterior sd\n",
        "    abilityMeans[a] = posteriorMean\n",
        "    abilitySDs[a] = posteriorSD\n",
        "    #abilityMeans.append(posteriorMean)\n",
        "    #abilitySDs.append(posteriorSD)\n",
        "\n",
        "  return abilityMeans, abilitySDs\n",
        "\n",
        "# A function for padding the testing data with 0s for prediction\n",
        "def pad(testingData, trainingDataSize):\n",
        "    return testingData.append(pd.Series(np.zeros(trainingDataSize-len(testingData), dtype=int)))\n",
        "\n",
        "# A function for making predictions based on a fitted measurement layout\n",
        "def predict(m, agentData, dfTest, agent, len_training):\n",
        "  with m:\n",
        "    # set the data for prediction\n",
        "    pm.set_data({\"lavaPresence\": pad(dfTest[\"lavaPresence\"], len_training)})\n",
        "    pm.set_data({\"lightsOutPresence\": pad(dfTest[\"lightsOutPresence\"], len_training)})\n",
        "    #pm.set_data({\"rampPresence\": pad(dfTest[\"taskCriticalRampPresence\"], len_training)})\n",
        "    pm.set_data({\"numChoices\": pad(dfTest[\"numChoices\"], len_training)})\n",
        "    pm.set_data({\"minTurnsToGoal\": pad(dfTest[\"minNumTurnsRequired\"], len_training)})\n",
        "    pm.set_data({\"goalDistance\": pad(dfTest[\"cityBlockDistanceToGoal\"], len_training)})\n",
        "    pm.set_data({\"goalSize\": pad(dfTest[\"mainGoalSize\"], len_training)})\n",
        "    pm.set_data({\"goalRight\": pad(dfTest[\"goalRightRelToStart\"], len_training)})\n",
        "    pm.set_data({\"goalAhead\": pad(dfTest[\"goalCentreRelToStart\"], len_training)})\n",
        "    pm.set_data({\"goalLeft\": pad(dfTest[\"goalLeftRelToStart\"], len_training)})\n",
        "    pm.set_data({\"CVChickTest\": pad(dfTest[\"cvchickTask\"], len_training)})\n",
        "    pm.set_data({\"PCTBTest\": pad(dfTest[\"pctbTask\"], len_training)})\n",
        "    pm.set_data({\"allocentricOPTest\": pad(dfTest[\"goalBecomesAllocentricallyOccluded\"], len_training)})\n",
        "\n",
        "    predictions=pm.sample_posterior_predictive(agentData, var_names=[\"finalP\"], return_inferencedata=False,predictions=True,extend_inferencedata=False)\n",
        "    predictionChainRuns =predictions[\"finalP\"][:,:,0:len(dfTest)]\n",
        "    predictionsInstance = np.mean(predictionChainRuns, (0,1))\n",
        "\n",
        "    return predictionsInstance,  dfTest[agent].to_numpy()\n",
        "\n",
        "\n",
        "def brierScore(preds, outs):\n",
        "    return 1/len(preds) * sum( (preds-outs)**2 )\n",
        "\n",
        "def brierDecomp(preds, outs):\n",
        "\n",
        "  brier= 1/len(preds) * sum( (preds-outs)**2 )\n",
        "  ## bin predictions\n",
        "  bins = np.linspace(0,1,11)\n",
        "  binCenters = (bins[:-1] +bins[1:]) /2\n",
        "  binPredInds = np.digitize(preds,binCenters)\n",
        "  binnedPreds = bins[binPredInds]\n",
        "\n",
        "  binTrueFreqs = np.zeros(10)\n",
        "  binPredFreqs = np.zeros(10)\n",
        "  binCounts = np.zeros(10)\n",
        "\n",
        "  for i in range(10):\n",
        "      idx = (preds >= bins[i]) & (preds < bins[i+1])\n",
        "\n",
        "      binTrueFreqs[i] = np.sum(outs[idx])/np.sum(idx) if np.sum(idx) > 0 else 0\n",
        "     # print(np.sum(outs[idx]), np.sum(idx), binTrueFreqs[i])\n",
        "      binPredFreqs[i] = np.mean(preds[idx]) if np.sum(idx) > 0 else 0\n",
        "      binCounts[i] = np.sum(idx)\n",
        "\n",
        "  calibration = np.sum(binCounts * (binTrueFreqs - binPredFreqs) ** 2) / np.sum(binCounts) if np.sum(binCounts)>0 else 0\n",
        "  refinement = np.sum(binCounts * (binTrueFreqs *(1 - binTrueFreqs))) / np.sum(binCounts) if np.sum(binCounts)> 0 else 0\n",
        "  # Compute refinement component\n",
        "  #refinement = brier - calibration\n",
        "  return brier, calibration, refinement\n",
        "\n"
      ],
      "metadata": {
        "id": "-Rm-t0AkyvM6"
      },
      "execution_count": 14,
      "outputs": []
    },
    {
      "cell_type": "markdown",
      "source": [
        "## Run Complete Measurement Layout"
      ],
      "metadata": {
        "id": "ivfCdNnU4gel"
      }
    },
    {
      "cell_type": "code",
      "source": [
        "real_agent_names = [\"Random_Walker_Fixed_Forwards_Saccade_15_Angle_10_356\",\n",
        "                   \"Random_Walker_Fixed_Forwards_Saccade_15_Angle_10_1997\",\n",
        "                   \"Random_Walker_Fixed_Forwards_Saccade_15_Angle_10_2023\",\n",
        "                   \"Random_Walker_Fixed_Forwards_Saccade_15_Angle_10_1815\",\n",
        "                   \"Random_Walker_Fixed_Forwards_Saccade_15_Angle_10_3761\",\n",
        "                   \"Random_Walker_Rayleigh_Flight_Norm_Saccade_mu_15_sig_5_Uniform_Angles_1_to_60_356\",\n",
        "                   \"Random_Walker_Rayleigh_Flight_Norm_Saccade_mu_15_sig_5_Uniform_Angles_1_to_60_1997\",\n",
        "                   \"Random_Walker_Rayleigh_Flight_Norm_Saccade_mu_15_sig_5_Uniform_Angles_1_to_60_2023\",\n",
        "                   \"Random_Walker_Rayleigh_Flight_Norm_Saccade_mu_15_sig_5_Uniform_Angles_1_to_60_1815\",\n",
        "                   \"Random_Walker_Rayleigh_Flight_Norm_Saccade_mu_15_sig_5_Uniform_Angles_1_to_60_3761\",\n",
        "                   \"Random_Walker_Levy_Flight_Cauchy_Saccade_mode_15_Uniform_Angles_1_to_60_356\",\n",
        "                   \"Random_Walker_Levy_Flight_Cauchy_Saccade_mode_15_Uniform_Angles_1_to_60_1997\",\n",
        "                   \"Random_Walker_Levy_Flight_Cauchy_Saccade_mode_15_Uniform_Angles_1_to_60_2023\",\n",
        "                   \"Random_Walker_Levy_Flight_Cauchy_Saccade_mode_15_Uniform_Angles_1_to_60_1815\",\n",
        "                   \"Random_Walker_Levy_Flight_Cauchy_Saccade_mode_15_Uniform_Angles_1_to_60_3761\",\n",
        "                   \"Random_Action_Agent_no_bias_no_correlation_uniform_step_length_max_20_356\",\n",
        "                   \"Random_Action_Agent_no_bias_no_correlation_uniform_step_length_max_20_1997\",\n",
        "                    \"Random_Action_Agent_no_bias_no_correlation_uniform_step_length_max_20_2023\",\n",
        "                    \"Random_Action_Agent_no_bias_no_correlation_uniform_step_length_max_20_1815\",\n",
        "                    \"Random_Action_Agent_no_bias_no_correlation_uniform_step_length_max_20_3761\",\n",
        "                    \"Random_Action_Agent_cephalocaudal_bias_cauchy_step_length_mode_15_356\",\n",
        "                    \"Random_Action_Agent_cephalocaudal_bias_cauchy_step_length_mode_15_1997\",\n",
        "                    \"Random_Action_Agent_cephalocaudal_bias_cauchy_step_length_mode_15_2023\",\n",
        "                    \"Random_Action_Agent_cephalocaudal_bias_cauchy_step_length_mode_15_1815\",\n",
        "                    \"Random_Action_Agent_cephalocaudal_bias_cauchy_step_length_mode_15_3761\",\n",
        "                    \"Vanilla_Braitenberg_15_rays_over_60_degs_356\",\n",
        "                    \"Vanilla_Braitenberg_15_rays_over_60_degs_1997\",\n",
        "                    \"Vanilla_Braitenberg_15_rays_over_60_degs_2023\",\n",
        "                    \"Vanilla_Braitenberg_15_rays_over_60_degs_1815\",\n",
        "                    \"Vanilla_Braitenberg_15_rays_over_60_degs_3761\"]\n",
        "\n",
        "synthetic_agent_names = [\"perfectAgent\",\n",
        "                         \"failedAgent\",\n",
        "                         \"noOPAgent\",\n",
        "                         \"lowVisualAcuityAgent\",\n",
        "                         \"poorNavigationOPAgent\",\n",
        "                         \"CVChickBasicSpecificAgent\",\n",
        "                         \"PCTBBasicSpecificAgent\"]"
      ],
      "metadata": {
        "id": "FX62CLal3lQ8"
      },
      "execution_count": null,
      "outputs": []
    },
    {
      "cell_type": "code",
      "source": [
        "synthetic_agents_training, synthetic_agents_test = train_test_split(synthetic_agents_data, test_size = 0.2)\n",
        "real_agents_training, real_agents_test = train_test_split(agent_data, test_size=0.2)\n",
        "children_training, children_test = train_test_split(children_data, test_size=0.2)\n",
        "children_4_5_training, children_4_5_test = train_test_split(children_4_5_data, test_size=0.2)\n",
        "children_6_7_training, children_6_7_test = train_test_split(children_6_7_data, test_size=0.2)\n"
      ],
      "metadata": {
        "id": "Xlfsz3f63lJC"
      },
      "execution_count": 11,
      "outputs": []
    },
    {
      "cell_type": "code",
      "source": [
        "abilitiesToShow = [\"objPermAbility\", \"visualAcuityAbility\", \"flatNavAbility\", \"lavaAbility\", \"rightAbility\", \"leftAbility\", \"aheadAbility\", \"CVChickAbility\", \"PCTBAbility\", \"lightsOutAbility\", \"noisePar\"]\n",
        "\n",
        "pymc_sample_num = 2000\n",
        "\n",
        "slack = 1"
      ],
      "metadata": {
        "id": "LZ2sA86g3lGU"
      },
      "execution_count": 10,
      "outputs": []
    },
    {
      "cell_type": "code",
      "source": [
        "agentName = []\n",
        "modelBrierScore = []\n",
        "aggregateBrierScore = []\n",
        "modelCalibration = []\n",
        "aggregateCalibration = []\n",
        "modelRefinement = []\n",
        "aggregateRefinement = []\n",
        "modelBetterThanAgg = []\n",
        "meanSuccess = []\n",
        "OPAbilityAllMean = []\n",
        "navAbilityAllMean = []\n",
        "visualAcuityAbilityAllMean = []\n",
        "flatNavAbilityAllMean = []\n",
        "lavaAbilityAllMean = []\n",
        "rightAbilityAllMean = []\n",
        "leftAbilityAllMean = []\n",
        "aheadAbilityAllMean = []\n",
        "CVChickAbilityAllMean = []\n",
        "PCTBAbilityAllMean = []\n",
        "lightsOutAbilityAllMean = []\n",
        "noiseParAllMean = []\n",
        "OPAbilityAllSD = []\n",
        "navAbilityAllSD = []\n",
        "visualAcuityAbilityAllSD = []\n",
        "flatNavAbilityAllSD = []\n",
        "lavaAbilityAllSD = []\n",
        "rightAbilityAllSD = []\n",
        "leftAbilityAllSD = []\n",
        "aheadAbilityAllSD = []\n",
        "CVChickAbilityAllSD = []\n",
        "PCTBAbilityAllSD = []\n",
        "lightsOutAbilityAllSD = []\n",
        "noiseParAllSD = []\n",
        "OPAbilityAllMin = []\n",
        "navAbilityAllMin = []\n",
        "visualAcuityAbilityAllMin = []\n",
        "flatNavAbilityAllMin = []\n",
        "lavaAbilityAllMin = []\n",
        "rightAbilityAllMin = []\n",
        "leftAbilityAllMin = []\n",
        "aheadAbilityAllMin = []\n",
        "CVChickAbilityAllMin = []\n",
        "PCTBAbilityAllMin = []\n",
        "lightsOutAbilityAllMin = []\n",
        "noiseParAllMin = []\n",
        "OPAbilityAllMax = []\n",
        "navAbilityAllMax = []\n",
        "visualAcuityAbilityAllMax = []\n",
        "flatNavAbilityAllMax = []\n",
        "lavaAbilityAllMax = []\n",
        "rightAbilityAllMax = []\n",
        "leftAbilityAllMax = []\n",
        "aheadAbilityAllMax = []\n",
        "CVChickAbilityAllMax = []\n",
        "PCTBAbilityAllMax = []\n",
        "lightsOutAbilityAllMax = []\n",
        "noiseParAllMax = []"
      ],
      "metadata": {
        "id": "TVZLICbM-PPp"
      },
      "execution_count": 34,
      "outputs": []
    },
    {
      "cell_type": "code",
      "source": [
        "for agent in synthetic_agent_names:\n",
        "  model_train, min, max = SetupModel(synthetic_agents_training, uniformAbilitySlack=slack, agent_type='agent', agent_name=agent, sample = None)\n",
        "  with model_train:\n",
        "    data_training = pm.sample(pymc_sample_num, target_accept=0.95)\n",
        "\n",
        "  predictions, testOutputs = predict(model_train, data_training, synthetic_agents_test, agent, len(synthetic_agents_training))\n",
        "  agentBrierScore, agentCalibration, agentRefinement = brierDecomp(predictions, testOutputs)\n",
        "  agentAggBrierScore, agentAggCalibration, agentAggRefinement = brierDecomp(np.repeat(np.mean(synthetic_agents_training[agent]), len(testOutputs)), testOutputs)\n",
        "  aggregateBrierScore.append(agentAggBrierScore)\n",
        "  aggregateCalibration.append(agentAggCalibration)\n",
        "  aggregateRefinement.append(agentAggRefinement)\n",
        "  modelBrierScore.append(agentBrierScore)\n",
        "  modelCalibration.append(agentCalibration)\n",
        "  modelRefinement.append(agentRefinement)\n",
        "  if agentBrierScore < agentAggBrierScore:\n",
        "    modelBetterThanAgg.append(True)\n",
        "  else:\n",
        "    modelBetterThanAgg.append(False)\n",
        "\n",
        "  model_all, min, max = SetupModel(synthetic_agents_data, uniformAbilitySlack=slack, agent_type='agent', agent_name=agent, sample = None)\n",
        "  with model_all:\n",
        "    data_all = pm.sample(pymc_sample_num, target_accept=0.95)\n",
        "  mu, sd  = analyzeAgentResults(agent, data_all, abilitiesToShow)\n",
        "\n",
        "  OPAbilityAllMean.append(mu[\"objPermAbility\"])\n",
        "  visualAcuityAbilityAllMean.append(mu[\"visualAcuityAbility\"])\n",
        "  flatNavAbilityAllMean.append(mu[\"flatNavAbility\"])\n",
        "  lavaAbilityAllMean.append(mu[\"lavaAbility\"])\n",
        "  rightAbilityAllMean.append(mu[\"rightAbility\"])\n",
        "  leftAbilityAllMean.append(mu[\"leftAbility\"])\n",
        "  aheadAbilityAllMean.append(mu[\"aheadAbility\"])\n",
        "  CVChickAbilityAllMean.append(mu[\"CVChickAbility\"])\n",
        "  PCTBAbilityAllMean.append(mu[\"PCTBAbility\"])\n",
        "  lightsOutAbilityAllMean.append(mu[\"lightsOutAbility\"])\n",
        "  noiseParAllMean.append(mu[\"noisePar\"])\n",
        "  OPAbilityAllSD.append(sd[\"objPermAbility\"])\n",
        "  visualAcuityAbilityAllSD.append(sd[\"visualAcuityAbility\"])\n",
        "  flatNavAbilityAllSD.append(sd[\"flatNavAbility\"])\n",
        "  lavaAbilityAllSD.append(sd[\"lavaAbility\"])\n",
        "  rightAbilityAllSD.append(sd[\"rightAbility\"])\n",
        "  leftAbilityAllSD.append(sd[\"leftAbility\"])\n",
        "  aheadAbilityAllSD.append(sd[\"aheadAbility\"])\n",
        "  CVChickAbilityAllSD.append(sd[\"CVChickAbility\"])\n",
        "  PCTBAbilityAllSD.append(sd[\"PCTBAbility\"])\n",
        "  lightsOutAbilityAllSD.append(sd[\"lightsOutAbility\"])\n",
        "  noiseParAllSD.append(sd[\"noisePar\"])\n",
        "  OPAbilityAllMin.append(min[\"objPermAbility\"])\n",
        "  visualAcuityAbilityAllMin.append(min[\"visualAcuityAbility\"])\n",
        "  flatNavAbilityAllMin.append(min[\"flatNavAbility\"])\n",
        "  lavaAbilityAllMin.append(min[\"lavaAbility\"])\n",
        "  rightAbilityAllMin.append(min[\"rightAbility\"])\n",
        "  leftAbilityAllMin.append(min[\"leftAbility\"])\n",
        "  aheadAbilityAllMin.append(min[\"aheadAbility\"])\n",
        "  CVChickAbilityAllMin.append(min[\"CVChickAbility\"])\n",
        "  PCTBAbilityAllMin.append(min[\"PCTBAbility\"])\n",
        "  lightsOutAbilityAllMin.append(min[\"lightsOutAbility\"])\n",
        "  noiseParAllMin.append(0)\n",
        "  OPAbilityAllMax.append(max[\"objPermAbility\"])\n",
        "  visualAcuityAbilityAllMax.append(max[\"visualAcuityAbility\"])\n",
        "  flatNavAbilityAllMax.append(max[\"flatNavAbility\"])\n",
        "  lavaAbilityAllMax.append(max[\"lavaAbility\"])\n",
        "  rightAbilityAllMax.append(max[\"rightAbility\"])\n",
        "  leftAbilityAllMax.append(max[\"leftAbility\"])\n",
        "  aheadAbilityAllMax.append(max[\"aheadAbility\"])\n",
        "  CVChickAbilityAllMax.append(max[\"CVChickAbility\"])\n",
        "  PCTBAbilityAllMax.append(max[\"PCTBAbility\"])\n",
        "  lightsOutAbilityAllMax.append(max[\"lightsOutAbility\"])\n",
        "  noiseParAllMax.append(1)\n",
        "\n",
        "  meanSuccess.append(np.mean(synthetic_agents_data[agent]))\n",
        "  agentName.append(agent)\n",
        "\n",
        "  finalDF = pd.DataFrame({\"Agent Name\": agentName,\n",
        "                          \"Model Brier Score\":modelBrierScore,\n",
        "                          \"Aggregate Brier Scores\": aggregateBrierScore,\n",
        "                          \"Model Calibration\": modelCalibration,\n",
        "                          \"Aggregate Calibration\":aggregateCalibration,\n",
        "                          \"Model Refinement\":modelRefinement,\n",
        "                          \"Aggregate Refinement\":aggregateRefinement,\n",
        "                          \"Model Better? (Based on Brier Score)\":modelBetterThanAgg,\n",
        "                          \"Success Score\":meanSuccess,\n",
        "                          \"Object Permanence Ability Mean (All)\": OPAbilityAllMean,\n",
        "                          \"Visual Acuity Ability Mean (All)\" : visualAcuityAbilityAllMean,\n",
        "                          \"Flat Navigation Ability Mean (All)\" : flatNavAbilityAllMean,\n",
        "                          \"Lava Ability Mean (All)\" : lavaAbilityAllMean,\n",
        "                          \"Right Ability Mean (All)\" : rightAbilityAllMean,\n",
        "                          \"Left Ability Mean (All)\" : leftAbilityAllMean,\n",
        "                          \"Ahead Ability Mean (All)\" : aheadAbilityAllMean,\n",
        "                          \"CVChick Ability Mean (All)\" : CVChickAbilityAllMean,\n",
        "                          \"PCTB Ability Mean (All)\" :  PCTBAbilityAllMean,\n",
        "                          \"Lights Out Ability Mean (All)\" : lightsOutAbilityAllMean,\n",
        "                          \"Noise Parameter Mean (All)\" : noiseParAllMean,\n",
        "                          \"Object Permanence Ability SD (All)\": OPAbilityAllSD,\n",
        "                          \"Visual Acuity Ability SD (All)\" : visualAcuityAbilityAllSD,\n",
        "                          \"Flat Navigation Ability SD (All)\" : flatNavAbilityAllSD,\n",
        "                          \"Lava Ability SD (All)\" : lavaAbilityAllSD,\n",
        "                          \"Right Ability SD (All)\" : rightAbilityAllSD,\n",
        "                          \"Left Ability SD (All)\" : leftAbilityAllSD,\n",
        "                          \"Ahead Ability SD (All)\" : aheadAbilityAllSD,\n",
        "                          \"CVChick Ability SD (All)\" : CVChickAbilityAllSD,\n",
        "                          \"PCTB Ability SD (All)\" :  PCTBAbilityAllSD,\n",
        "                          \"Lights Out Ability SD (All)\" : lightsOutAbilityAllSD,\n",
        "                          \"Noise Parameter SD (All)\" : noiseParAllSD,\n",
        "                          \"Object Permanence Ability Min (All)\": OPAbilityAllMin,\n",
        "                          \"Visual Acuity Ability Min (All)\" : visualAcuityAbilityAllMin,\n",
        "                          \"Flat Navigation Ability Min (All)\" : flatNavAbilityAllMin,\n",
        "                          \"Lava Ability Min (All)\" : lavaAbilityAllMin,\n",
        "                          \"Right Ability Min (All)\" : rightAbilityAllMin,\n",
        "                          \"Left Ability Min (All)\" : leftAbilityAllMin,\n",
        "                          \"Ahead Ability Min (All)\" : aheadAbilityAllMin,\n",
        "                          \"CVChick Ability Min (All)\" : CVChickAbilityAllMin,\n",
        "                          \"PCTB Ability Min (All)\" :  PCTBAbilityAllMin,\n",
        "                          \"Lights Out Ability Min (All)\" : lightsOutAbilityAllMin,\n",
        "                          \"Noise Parameter Min (All)\" : noiseParAllMin,\n",
        "                          \"Object Permanence Ability Max (All)\": OPAbilityAllMax,\n",
        "                          \"Visual Acuity Ability Max (All)\" : visualAcuityAbilityAllMax,\n",
        "                          \"Flat Navigation Ability Max (All)\" : flatNavAbilityAllMax,\n",
        "                          \"Lava Ability Max (All)\" : lavaAbilityAllMax,\n",
        "                          \"Right Ability Max (All)\" : rightAbilityAllMax,\n",
        "                          \"Left Ability Max (All)\" : leftAbilityAllMax,\n",
        "                          \"Ahead Ability Max (All)\" : aheadAbilityAllMax,\n",
        "                          \"CVChick Ability Max (All)\" : CVChickAbilityAllMax,\n",
        "                          \"PCTB Ability Max (All)\" :  PCTBAbilityAllMax,\n",
        "                          \"Lights Out Ability Max (All)\" : lightsOutAbilityAllMax,\n",
        "                          \"Noise Parameter Max (All)\" : noiseParAllMax})\n",
        "  finalDF.to_csv(\"/content/drive/Shareddrives/comparative-object-permanence/finalResults.csv\", index = False)"
      ],
      "metadata": {
        "id": "RcYu10Z73lD1"
      },
      "execution_count": null,
      "outputs": []
    },
    {
      "cell_type": "code",
      "source": [
        "for agent in real_agent_names:\n",
        "  model_train, min, max = SetupModel(real_agents_training, uniformAbilitySlack=slack, agent_type='agent', agent_name=agent, sample = None)\n",
        "  with model_train:\n",
        "    data_training = pm.sample(pymc_sample_num, target_accept=0.95)\n",
        "\n",
        "  predictions, testOutputs = predict(model_train, data_training, real_agents_test, agent, len(real_agents_training))\n",
        "  agentBrierScore, agentCalibration, agentRefinement = brierDecomp(predictions, testOutputs)\n",
        "  agentAggBrierScore, agentAggCalibration, agentAggRefinement = brierDecomp(np.repeat(np.mean(real_agents_training[agent]), len(testOutputs)), testOutputs)\n",
        "  aggregateBrierScore.append(agentAggBrierScore)\n",
        "  aggregateCalibration.append(agentAggCalibration)\n",
        "  aggregateRefinement.append(agentAggRefinement)\n",
        "  modelBrierScore.append(agentBrierScore)\n",
        "  modelCalibration.append(agentCalibration)\n",
        "  modelRefinement.append(agentRefinement)\n",
        "  if agentBrierScore < agentAggBrierScore:\n",
        "    modelBetterThanAgg.append(True)\n",
        "  else:\n",
        "    modelBetterThanAgg.append(False)\n",
        "\n",
        "  model_all, min, max = SetupModel(agent_data, uniformAbilitySlack=slack, agent_type='agent', agent_name=agent, sample = None)\n",
        "  with model_all:\n",
        "    data_all = pm.sample(pymc_sample_num, target_accept=0.95)\n",
        "  mu, sd  = analyzeAgentResults(agent, data_all, abilitiesToShow)\n",
        "\n",
        "  OPAbilityAllMean.append(mu[\"objPermAbility\"])\n",
        "  visualAcuityAbilityAllMean.append(mu[\"visualAcuityAbility\"])\n",
        "  flatNavAbilityAllMean.append(mu[\"flatNavAbility\"])\n",
        "  lavaAbilityAllMean.append(mu[\"lavaAbility\"])\n",
        "  rightAbilityAllMean.append(mu[\"rightAbility\"])\n",
        "  leftAbilityAllMean.append(mu[\"leftAbility\"])\n",
        "  aheadAbilityAllMean.append(mu[\"aheadAbility\"])\n",
        "  CVChickAbilityAllMean.append(mu[\"CVChickAbility\"])\n",
        "  PCTBAbilityAllMean.append(mu[\"PCTBAbility\"])\n",
        "  lightsOutAbilityAllMean.append(mu[\"lightsOutAbility\"])\n",
        "  noiseParAllMean.append(mu[\"noisePar\"])\n",
        "  OPAbilityAllSD.append(sd[\"objPermAbility\"])\n",
        "  visualAcuityAbilityAllSD.append(sd[\"visualAcuityAbility\"])\n",
        "  flatNavAbilityAllSD.append(sd[\"flatNavAbility\"])\n",
        "  lavaAbilityAllSD.append(sd[\"lavaAbility\"])\n",
        "  rightAbilityAllSD.append(sd[\"rightAbility\"])\n",
        "  leftAbilityAllSD.append(sd[\"leftAbility\"])\n",
        "  aheadAbilityAllSD.append(sd[\"aheadAbility\"])\n",
        "  CVChickAbilityAllSD.append(sd[\"CVChickAbility\"])\n",
        "  PCTBAbilityAllSD.append(sd[\"PCTBAbility\"])\n",
        "  lightsOutAbilityAllSD.append(sd[\"lightsOutAbility\"])\n",
        "  noiseParAllSD.append(sd[\"noisePar\"])\n",
        "  OPAbilityAllMin.append(min[\"objPermAbility\"])\n",
        "  visualAcuityAbilityAllMin.append(min[\"visualAcuityAbility\"])\n",
        "  flatNavAbilityAllMin.append(min[\"flatNavAbility\"])\n",
        "  lavaAbilityAllMin.append(min[\"lavaAbility\"])\n",
        "  rightAbilityAllMin.append(min[\"rightAbility\"])\n",
        "  leftAbilityAllMin.append(min[\"leftAbility\"])\n",
        "  aheadAbilityAllMin.append(min[\"aheadAbility\"])\n",
        "  CVChickAbilityAllMin.append(min[\"CVChickAbility\"])\n",
        "  PCTBAbilityAllMin.append(min[\"PCTBAbility\"])\n",
        "  lightsOutAbilityAllMin.append(min[\"lightsOutAbility\"])\n",
        "  noiseParAllMin.append(0)\n",
        "  OPAbilityAllMax.append(max[\"objPermAbility\"])\n",
        "  visualAcuityAbilityAllMax.append(max[\"visualAcuityAbility\"])\n",
        "  flatNavAbilityAllMax.append(max[\"flatNavAbility\"])\n",
        "  lavaAbilityAllMax.append(max[\"lavaAbility\"])\n",
        "  rightAbilityAllMax.append(max[\"rightAbility\"])\n",
        "  leftAbilityAllMax.append(max[\"leftAbility\"])\n",
        "  aheadAbilityAllMax.append(max[\"aheadAbility\"])\n",
        "  CVChickAbilityAllMax.append(max[\"CVChickAbility\"])\n",
        "  PCTBAbilityAllMax.append(max[\"PCTBAbility\"])\n",
        "  lightsOutAbilityAllMax.append(max[\"lightsOutAbility\"])\n",
        "  noiseParAllMax.append(1)\n",
        "\n",
        "  meanSuccess.append(np.mean(agent_data[agent]))\n",
        "  agentName.append(agent)\n",
        "\n",
        "  finalDF = pd.DataFrame({\"Agent Name\": agentName,\n",
        "                          \"Model Brier Score\":modelBrierScore,\n",
        "                          \"Aggregate Brier Scores\": aggregateBrierScore,\n",
        "                          \"Model Calibration\": modelCalibration,\n",
        "                          \"Aggregate Calibration\":aggregateCalibration,\n",
        "                          \"Model Refinement\":modelRefinement,\n",
        "                          \"Aggregate Refinement\":aggregateRefinement,\n",
        "                          \"Model Better? (Based on Brier Score)\":modelBetterThanAgg,\n",
        "                          \"Success Score\":meanSuccess,\n",
        "                          \"Object Permanence Ability Mean (All)\": OPAbilityAllMean,\n",
        "                          \"Visual Acuity Ability Mean (All)\" : visualAcuityAbilityAllMean,\n",
        "                          \"Flat Navigation Ability Mean (All)\" : flatNavAbilityAllMean,\n",
        "                          \"Lava Ability Mean (All)\" : lavaAbilityAllMean,\n",
        "                          \"Right Ability Mean (All)\" : rightAbilityAllMean,\n",
        "                          \"Left Ability Mean (All)\" : leftAbilityAllMean,\n",
        "                          \"Ahead Ability Mean (All)\" : aheadAbilityAllMean,\n",
        "                          \"CVChick Ability Mean (All)\" : CVChickAbilityAllMean,\n",
        "                          \"PCTB Ability Mean (All)\" :  PCTBAbilityAllMean,\n",
        "                          \"Lights Out Ability Mean (All)\" : lightsOutAbilityAllMean,\n",
        "                          \"Noise Parameter Mean (All)\" : noiseParAllMean,\n",
        "                          \"Object Permanence Ability SD (All)\": OPAbilityAllSD,\n",
        "                          \"Visual Acuity Ability SD (All)\" : visualAcuityAbilityAllSD,\n",
        "                          \"Flat Navigation Ability SD (All)\" : flatNavAbilityAllSD,\n",
        "                          \"Lava Ability SD (All)\" : lavaAbilityAllSD,\n",
        "                          \"Right Ability SD (All)\" : rightAbilityAllSD,\n",
        "                          \"Left Ability SD (All)\" : leftAbilityAllSD,\n",
        "                          \"Ahead Ability SD (All)\" : aheadAbilityAllSD,\n",
        "                          \"CVChick Ability SD (All)\" : CVChickAbilityAllSD,\n",
        "                          \"PCTB Ability SD (All)\" :  PCTBAbilityAllSD,\n",
        "                          \"Lights Out Ability SD (All)\" : lightsOutAbilityAllSD,\n",
        "                          \"Noise Parameter SD (All)\" : noiseParAllSD,\n",
        "                          \"Object Permanence Ability Min (All)\": OPAbilityAllMin,\n",
        "                          \"Visual Acuity Ability Min (All)\" : visualAcuityAbilityAllMin,\n",
        "                          \"Flat Navigation Ability Min (All)\" : flatNavAbilityAllMin,\n",
        "                          \"Lava Ability Min (All)\" : lavaAbilityAllMin,\n",
        "                          \"Right Ability Min (All)\" : rightAbilityAllMin,\n",
        "                          \"Left Ability Min (All)\" : leftAbilityAllMin,\n",
        "                          \"Ahead Ability Min (All)\" : aheadAbilityAllMin,\n",
        "                          \"CVChick Ability Min (All)\" : CVChickAbilityAllMin,\n",
        "                          \"PCTB Ability Min (All)\" :  PCTBAbilityAllMin,\n",
        "                          \"Lights Out Ability Min (All)\" : lightsOutAbilityAllMin,\n",
        "                          \"Noise Parameter Min (All)\" : noiseParAllMin,\n",
        "                          \"Object Permanence Ability Max (All)\": OPAbilityAllMax,\n",
        "                          \"Visual Acuity Ability Max (All)\" : visualAcuityAbilityAllMax,\n",
        "                          \"Flat Navigation Ability Max (All)\" : flatNavAbilityAllMax,\n",
        "                          \"Lava Ability Max (All)\" : lavaAbilityAllMax,\n",
        "                          \"Right Ability Max (All)\" : rightAbilityAllMax,\n",
        "                          \"Left Ability Max (All)\" : leftAbilityAllMax,\n",
        "                          \"Ahead Ability Max (All)\" : aheadAbilityAllMax,\n",
        "                          \"CVChick Ability Max (All)\" : CVChickAbilityAllMax,\n",
        "                          \"PCTB Ability Max (All)\" :  PCTBAbilityAllMax,\n",
        "                          \"Lights Out Ability Max (All)\" : lightsOutAbilityAllMax,\n",
        "                          \"Noise Parameter Max (All)\" : noiseParAllMax})\n",
        "  finalDF.to_csv(\"/content/drive/Shareddrives/comparative-object-permanence/finalResults.csv\", index = False)"
      ],
      "metadata": {
        "id": "UMRh6EsaaYJY",
        "outputId": "f68d9aec-ca80-4a44-a47c-66411d23a2ad",
        "colab": {
          "base_uri": "https://localhost:8080/",
          "height": 1000
        }
      },
      "execution_count": null,
      "outputs": [
        {
          "output_type": "display_data",
          "data": {
            "text/plain": [
              "<IPython.core.display.HTML object>"
            ],
            "text/html": [
              "\n",
              "<style>\n",
              "    /* Turns off some styling */\n",
              "    progress {\n",
              "        /* gets rid of default border in Firefox and Opera. */\n",
              "        border: none;\n",
              "        /* Needs to be in here for Safari polyfill so background images work as expected. */\n",
              "        background-size: auto;\n",
              "    }\n",
              "    progress:not([value]), progress:not([value])::-webkit-progress-bar {\n",
              "        background: repeating-linear-gradient(45deg, #7e7e7e, #7e7e7e 10px, #5c5c5c 10px, #5c5c5c 20px);\n",
              "    }\n",
              "    .progress-bar-interrupted, .progress-bar-interrupted::-webkit-progress-bar {\n",
              "        background: #F44336;\n",
              "    }\n",
              "</style>\n"
            ]
          },
          "metadata": {}
        },
        {
          "output_type": "display_data",
          "data": {
            "text/plain": [
              "<IPython.core.display.HTML object>"
            ],
            "text/html": [
              "\n",
              "    <div>\n",
              "      <progress value='3000' class='' max='3000' style='width:300px; height:20px; vertical-align: middle;'></progress>\n",
              "      100.00% [3000/3000 02:09&lt;00:00 Sampling chain 0, 0 divergences]\n",
              "    </div>\n",
              "    "
            ]
          },
          "metadata": {}
        },
        {
          "output_type": "display_data",
          "data": {
            "text/plain": [
              "<IPython.core.display.HTML object>"
            ],
            "text/html": [
              "\n",
              "<style>\n",
              "    /* Turns off some styling */\n",
              "    progress {\n",
              "        /* gets rid of default border in Firefox and Opera. */\n",
              "        border: none;\n",
              "        /* Needs to be in here for Safari polyfill so background images work as expected. */\n",
              "        background-size: auto;\n",
              "    }\n",
              "    progress:not([value]), progress:not([value])::-webkit-progress-bar {\n",
              "        background: repeating-linear-gradient(45deg, #7e7e7e, #7e7e7e 10px, #5c5c5c 10px, #5c5c5c 20px);\n",
              "    }\n",
              "    .progress-bar-interrupted, .progress-bar-interrupted::-webkit-progress-bar {\n",
              "        background: #F44336;\n",
              "    }\n",
              "</style>\n"
            ]
          },
          "metadata": {}
        },
        {
          "output_type": "display_data",
          "data": {
            "text/plain": [
              "<IPython.core.display.HTML object>"
            ],
            "text/html": [
              "\n",
              "    <div>\n",
              "      <progress value='3000' class='' max='3000' style='width:300px; height:20px; vertical-align: middle;'></progress>\n",
              "      100.00% [3000/3000 02:09&lt;00:00 Sampling chain 1, 0 divergences]\n",
              "    </div>\n",
              "    "
            ]
          },
          "metadata": {}
        },
        {
          "output_type": "stream",
          "name": "stderr",
          "text": [
            "<ipython-input-8-175c2f4f91ba>:23: FutureWarning: The series.append method is deprecated and will be removed from pandas in a future version. Use pandas.concat instead.\n",
            "  return testingData.append(pd.Series(np.zeros(trainingDataSize-len(testingData), dtype=int)))\n",
            "<ipython-input-8-175c2f4f91ba>:23: FutureWarning: The series.append method is deprecated and will be removed from pandas in a future version. Use pandas.concat instead.\n",
            "  return testingData.append(pd.Series(np.zeros(trainingDataSize-len(testingData), dtype=int)))\n",
            "<ipython-input-8-175c2f4f91ba>:23: FutureWarning: The series.append method is deprecated and will be removed from pandas in a future version. Use pandas.concat instead.\n",
            "  return testingData.append(pd.Series(np.zeros(trainingDataSize-len(testingData), dtype=int)))\n",
            "<ipython-input-8-175c2f4f91ba>:23: FutureWarning: The series.append method is deprecated and will be removed from pandas in a future version. Use pandas.concat instead.\n",
            "  return testingData.append(pd.Series(np.zeros(trainingDataSize-len(testingData), dtype=int)))\n",
            "<ipython-input-8-175c2f4f91ba>:23: FutureWarning: The series.append method is deprecated and will be removed from pandas in a future version. Use pandas.concat instead.\n",
            "  return testingData.append(pd.Series(np.zeros(trainingDataSize-len(testingData), dtype=int)))\n",
            "<ipython-input-8-175c2f4f91ba>:23: FutureWarning: The series.append method is deprecated and will be removed from pandas in a future version. Use pandas.concat instead.\n",
            "  return testingData.append(pd.Series(np.zeros(trainingDataSize-len(testingData), dtype=int)))\n",
            "<ipython-input-8-175c2f4f91ba>:23: FutureWarning: The series.append method is deprecated and will be removed from pandas in a future version. Use pandas.concat instead.\n",
            "  return testingData.append(pd.Series(np.zeros(trainingDataSize-len(testingData), dtype=int)))\n",
            "<ipython-input-8-175c2f4f91ba>:23: FutureWarning: The series.append method is deprecated and will be removed from pandas in a future version. Use pandas.concat instead.\n",
            "  return testingData.append(pd.Series(np.zeros(trainingDataSize-len(testingData), dtype=int)))\n",
            "<ipython-input-8-175c2f4f91ba>:23: FutureWarning: The series.append method is deprecated and will be removed from pandas in a future version. Use pandas.concat instead.\n",
            "  return testingData.append(pd.Series(np.zeros(trainingDataSize-len(testingData), dtype=int)))\n",
            "<ipython-input-8-175c2f4f91ba>:23: FutureWarning: The series.append method is deprecated and will be removed from pandas in a future version. Use pandas.concat instead.\n",
            "  return testingData.append(pd.Series(np.zeros(trainingDataSize-len(testingData), dtype=int)))\n",
            "<ipython-input-8-175c2f4f91ba>:23: FutureWarning: The series.append method is deprecated and will be removed from pandas in a future version. Use pandas.concat instead.\n",
            "  return testingData.append(pd.Series(np.zeros(trainingDataSize-len(testingData), dtype=int)))\n",
            "<ipython-input-8-175c2f4f91ba>:23: FutureWarning: The series.append method is deprecated and will be removed from pandas in a future version. Use pandas.concat instead.\n",
            "  return testingData.append(pd.Series(np.zeros(trainingDataSize-len(testingData), dtype=int)))\n"
          ]
        },
        {
          "output_type": "display_data",
          "data": {
            "text/plain": [
              "<IPython.core.display.HTML object>"
            ],
            "text/html": [
              "\n",
              "<style>\n",
              "    /* Turns off some styling */\n",
              "    progress {\n",
              "        /* gets rid of default border in Firefox and Opera. */\n",
              "        border: none;\n",
              "        /* Needs to be in here for Safari polyfill so background images work as expected. */\n",
              "        background-size: auto;\n",
              "    }\n",
              "    progress:not([value]), progress:not([value])::-webkit-progress-bar {\n",
              "        background: repeating-linear-gradient(45deg, #7e7e7e, #7e7e7e 10px, #5c5c5c 10px, #5c5c5c 20px);\n",
              "    }\n",
              "    .progress-bar-interrupted, .progress-bar-interrupted::-webkit-progress-bar {\n",
              "        background: #F44336;\n",
              "    }\n",
              "</style>\n"
            ]
          },
          "metadata": {}
        },
        {
          "output_type": "display_data",
          "data": {
            "text/plain": [
              "<IPython.core.display.HTML object>"
            ],
            "text/html": [
              "\n",
              "    <div>\n",
              "      <progress value='4000' class='' max='4000' style='width:300px; height:20px; vertical-align: middle;'></progress>\n",
              "      100.00% [4000/4000 00:02&lt;00:00]\n",
              "    </div>\n",
              "    "
            ]
          },
          "metadata": {}
        },
        {
          "output_type": "display_data",
          "data": {
            "text/plain": [
              "<IPython.core.display.HTML object>"
            ],
            "text/html": [
              "\n",
              "<style>\n",
              "    /* Turns off some styling */\n",
              "    progress {\n",
              "        /* gets rid of default border in Firefox and Opera. */\n",
              "        border: none;\n",
              "        /* Needs to be in here for Safari polyfill so background images work as expected. */\n",
              "        background-size: auto;\n",
              "    }\n",
              "    progress:not([value]), progress:not([value])::-webkit-progress-bar {\n",
              "        background: repeating-linear-gradient(45deg, #7e7e7e, #7e7e7e 10px, #5c5c5c 10px, #5c5c5c 20px);\n",
              "    }\n",
              "    .progress-bar-interrupted, .progress-bar-interrupted::-webkit-progress-bar {\n",
              "        background: #F44336;\n",
              "    }\n",
              "</style>\n"
            ]
          },
          "metadata": {}
        },
        {
          "output_type": "display_data",
          "data": {
            "text/plain": [
              "<IPython.core.display.HTML object>"
            ],
            "text/html": [
              "\n",
              "    <div>\n",
              "      <progress value='3000' class='' max='3000' style='width:300px; height:20px; vertical-align: middle;'></progress>\n",
              "      100.00% [3000/3000 02:33&lt;00:00 Sampling chain 0, 0 divergences]\n",
              "    </div>\n",
              "    "
            ]
          },
          "metadata": {}
        },
        {
          "output_type": "display_data",
          "data": {
            "text/plain": [
              "<IPython.core.display.HTML object>"
            ],
            "text/html": [
              "\n",
              "<style>\n",
              "    /* Turns off some styling */\n",
              "    progress {\n",
              "        /* gets rid of default border in Firefox and Opera. */\n",
              "        border: none;\n",
              "        /* Needs to be in here for Safari polyfill so background images work as expected. */\n",
              "        background-size: auto;\n",
              "    }\n",
              "    progress:not([value]), progress:not([value])::-webkit-progress-bar {\n",
              "        background: repeating-linear-gradient(45deg, #7e7e7e, #7e7e7e 10px, #5c5c5c 10px, #5c5c5c 20px);\n",
              "    }\n",
              "    .progress-bar-interrupted, .progress-bar-interrupted::-webkit-progress-bar {\n",
              "        background: #F44336;\n",
              "    }\n",
              "</style>\n"
            ]
          },
          "metadata": {}
        },
        {
          "output_type": "display_data",
          "data": {
            "text/plain": [
              "<IPython.core.display.HTML object>"
            ],
            "text/html": [
              "\n",
              "    <div>\n",
              "      <progress value='3000' class='' max='3000' style='width:300px; height:20px; vertical-align: middle;'></progress>\n",
              "      100.00% [3000/3000 02:37&lt;00:00 Sampling chain 1, 0 divergences]\n",
              "    </div>\n",
              "    "
            ]
          },
          "metadata": {}
        },
        {
          "output_type": "display_data",
          "data": {
            "text/plain": [
              "<IPython.core.display.HTML object>"
            ],
            "text/html": [
              "\n",
              "<style>\n",
              "    /* Turns off some styling */\n",
              "    progress {\n",
              "        /* gets rid of default border in Firefox and Opera. */\n",
              "        border: none;\n",
              "        /* Needs to be in here for Safari polyfill so background images work as expected. */\n",
              "        background-size: auto;\n",
              "    }\n",
              "    progress:not([value]), progress:not([value])::-webkit-progress-bar {\n",
              "        background: repeating-linear-gradient(45deg, #7e7e7e, #7e7e7e 10px, #5c5c5c 10px, #5c5c5c 20px);\n",
              "    }\n",
              "    .progress-bar-interrupted, .progress-bar-interrupted::-webkit-progress-bar {\n",
              "        background: #F44336;\n",
              "    }\n",
              "</style>\n"
            ]
          },
          "metadata": {}
        },
        {
          "output_type": "display_data",
          "data": {
            "text/plain": [
              "<IPython.core.display.HTML object>"
            ],
            "text/html": [
              "\n",
              "    <div>\n",
              "      <progress value='3000' class='' max='3000' style='width:300px; height:20px; vertical-align: middle;'></progress>\n",
              "      100.00% [3000/3000 02:00&lt;00:00 Sampling chain 0, 0 divergences]\n",
              "    </div>\n",
              "    "
            ]
          },
          "metadata": {}
        },
        {
          "output_type": "display_data",
          "data": {
            "text/plain": [
              "<IPython.core.display.HTML object>"
            ],
            "text/html": [
              "\n",
              "<style>\n",
              "    /* Turns off some styling */\n",
              "    progress {\n",
              "        /* gets rid of default border in Firefox and Opera. */\n",
              "        border: none;\n",
              "        /* Needs to be in here for Safari polyfill so background images work as expected. */\n",
              "        background-size: auto;\n",
              "    }\n",
              "    progress:not([value]), progress:not([value])::-webkit-progress-bar {\n",
              "        background: repeating-linear-gradient(45deg, #7e7e7e, #7e7e7e 10px, #5c5c5c 10px, #5c5c5c 20px);\n",
              "    }\n",
              "    .progress-bar-interrupted, .progress-bar-interrupted::-webkit-progress-bar {\n",
              "        background: #F44336;\n",
              "    }\n",
              "</style>\n"
            ]
          },
          "metadata": {}
        },
        {
          "output_type": "display_data",
          "data": {
            "text/plain": [
              "<IPython.core.display.HTML object>"
            ],
            "text/html": [
              "\n",
              "    <div>\n",
              "      <progress value='3000' class='' max='3000' style='width:300px; height:20px; vertical-align: middle;'></progress>\n",
              "      100.00% [3000/3000 02:17&lt;00:00 Sampling chain 1, 0 divergences]\n",
              "    </div>\n",
              "    "
            ]
          },
          "metadata": {}
        },
        {
          "output_type": "stream",
          "name": "stderr",
          "text": [
            "<ipython-input-8-175c2f4f91ba>:23: FutureWarning: The series.append method is deprecated and will be removed from pandas in a future version. Use pandas.concat instead.\n",
            "  return testingData.append(pd.Series(np.zeros(trainingDataSize-len(testingData), dtype=int)))\n",
            "<ipython-input-8-175c2f4f91ba>:23: FutureWarning: The series.append method is deprecated and will be removed from pandas in a future version. Use pandas.concat instead.\n",
            "  return testingData.append(pd.Series(np.zeros(trainingDataSize-len(testingData), dtype=int)))\n",
            "<ipython-input-8-175c2f4f91ba>:23: FutureWarning: The series.append method is deprecated and will be removed from pandas in a future version. Use pandas.concat instead.\n",
            "  return testingData.append(pd.Series(np.zeros(trainingDataSize-len(testingData), dtype=int)))\n",
            "<ipython-input-8-175c2f4f91ba>:23: FutureWarning: The series.append method is deprecated and will be removed from pandas in a future version. Use pandas.concat instead.\n",
            "  return testingData.append(pd.Series(np.zeros(trainingDataSize-len(testingData), dtype=int)))\n",
            "<ipython-input-8-175c2f4f91ba>:23: FutureWarning: The series.append method is deprecated and will be removed from pandas in a future version. Use pandas.concat instead.\n",
            "  return testingData.append(pd.Series(np.zeros(trainingDataSize-len(testingData), dtype=int)))\n",
            "<ipython-input-8-175c2f4f91ba>:23: FutureWarning: The series.append method is deprecated and will be removed from pandas in a future version. Use pandas.concat instead.\n",
            "  return testingData.append(pd.Series(np.zeros(trainingDataSize-len(testingData), dtype=int)))\n",
            "<ipython-input-8-175c2f4f91ba>:23: FutureWarning: The series.append method is deprecated and will be removed from pandas in a future version. Use pandas.concat instead.\n",
            "  return testingData.append(pd.Series(np.zeros(trainingDataSize-len(testingData), dtype=int)))\n",
            "<ipython-input-8-175c2f4f91ba>:23: FutureWarning: The series.append method is deprecated and will be removed from pandas in a future version. Use pandas.concat instead.\n",
            "  return testingData.append(pd.Series(np.zeros(trainingDataSize-len(testingData), dtype=int)))\n",
            "<ipython-input-8-175c2f4f91ba>:23: FutureWarning: The series.append method is deprecated and will be removed from pandas in a future version. Use pandas.concat instead.\n",
            "  return testingData.append(pd.Series(np.zeros(trainingDataSize-len(testingData), dtype=int)))\n",
            "<ipython-input-8-175c2f4f91ba>:23: FutureWarning: The series.append method is deprecated and will be removed from pandas in a future version. Use pandas.concat instead.\n",
            "  return testingData.append(pd.Series(np.zeros(trainingDataSize-len(testingData), dtype=int)))\n",
            "<ipython-input-8-175c2f4f91ba>:23: FutureWarning: The series.append method is deprecated and will be removed from pandas in a future version. Use pandas.concat instead.\n",
            "  return testingData.append(pd.Series(np.zeros(trainingDataSize-len(testingData), dtype=int)))\n",
            "<ipython-input-8-175c2f4f91ba>:23: FutureWarning: The series.append method is deprecated and will be removed from pandas in a future version. Use pandas.concat instead.\n",
            "  return testingData.append(pd.Series(np.zeros(trainingDataSize-len(testingData), dtype=int)))\n"
          ]
        },
        {
          "output_type": "display_data",
          "data": {
            "text/plain": [
              "<IPython.core.display.HTML object>"
            ],
            "text/html": [
              "\n",
              "<style>\n",
              "    /* Turns off some styling */\n",
              "    progress {\n",
              "        /* gets rid of default border in Firefox and Opera. */\n",
              "        border: none;\n",
              "        /* Needs to be in here for Safari polyfill so background images work as expected. */\n",
              "        background-size: auto;\n",
              "    }\n",
              "    progress:not([value]), progress:not([value])::-webkit-progress-bar {\n",
              "        background: repeating-linear-gradient(45deg, #7e7e7e, #7e7e7e 10px, #5c5c5c 10px, #5c5c5c 20px);\n",
              "    }\n",
              "    .progress-bar-interrupted, .progress-bar-interrupted::-webkit-progress-bar {\n",
              "        background: #F44336;\n",
              "    }\n",
              "</style>\n"
            ]
          },
          "metadata": {}
        },
        {
          "output_type": "display_data",
          "data": {
            "text/plain": [
              "<IPython.core.display.HTML object>"
            ],
            "text/html": [
              "\n",
              "    <div>\n",
              "      <progress value='4000' class='' max='4000' style='width:300px; height:20px; vertical-align: middle;'></progress>\n",
              "      100.00% [4000/4000 00:02&lt;00:00]\n",
              "    </div>\n",
              "    "
            ]
          },
          "metadata": {}
        },
        {
          "output_type": "display_data",
          "data": {
            "text/plain": [
              "<IPython.core.display.HTML object>"
            ],
            "text/html": [
              "\n",
              "<style>\n",
              "    /* Turns off some styling */\n",
              "    progress {\n",
              "        /* gets rid of default border in Firefox and Opera. */\n",
              "        border: none;\n",
              "        /* Needs to be in here for Safari polyfill so background images work as expected. */\n",
              "        background-size: auto;\n",
              "    }\n",
              "    progress:not([value]), progress:not([value])::-webkit-progress-bar {\n",
              "        background: repeating-linear-gradient(45deg, #7e7e7e, #7e7e7e 10px, #5c5c5c 10px, #5c5c5c 20px);\n",
              "    }\n",
              "    .progress-bar-interrupted, .progress-bar-interrupted::-webkit-progress-bar {\n",
              "        background: #F44336;\n",
              "    }\n",
              "</style>\n"
            ]
          },
          "metadata": {}
        },
        {
          "output_type": "display_data",
          "data": {
            "text/plain": [
              "<IPython.core.display.HTML object>"
            ],
            "text/html": [
              "\n",
              "    <div>\n",
              "      <progress value='3000' class='' max='3000' style='width:300px; height:20px; vertical-align: middle;'></progress>\n",
              "      100.00% [3000/3000 02:32&lt;00:00 Sampling chain 0, 0 divergences]\n",
              "    </div>\n",
              "    "
            ]
          },
          "metadata": {}
        },
        {
          "output_type": "display_data",
          "data": {
            "text/plain": [
              "<IPython.core.display.HTML object>"
            ],
            "text/html": [
              "\n",
              "<style>\n",
              "    /* Turns off some styling */\n",
              "    progress {\n",
              "        /* gets rid of default border in Firefox and Opera. */\n",
              "        border: none;\n",
              "        /* Needs to be in here for Safari polyfill so background images work as expected. */\n",
              "        background-size: auto;\n",
              "    }\n",
              "    progress:not([value]), progress:not([value])::-webkit-progress-bar {\n",
              "        background: repeating-linear-gradient(45deg, #7e7e7e, #7e7e7e 10px, #5c5c5c 10px, #5c5c5c 20px);\n",
              "    }\n",
              "    .progress-bar-interrupted, .progress-bar-interrupted::-webkit-progress-bar {\n",
              "        background: #F44336;\n",
              "    }\n",
              "</style>\n"
            ]
          },
          "metadata": {}
        },
        {
          "output_type": "display_data",
          "data": {
            "text/plain": [
              "<IPython.core.display.HTML object>"
            ],
            "text/html": [
              "\n",
              "    <div>\n",
              "      <progress value='3000' class='' max='3000' style='width:300px; height:20px; vertical-align: middle;'></progress>\n",
              "      100.00% [3000/3000 02:18&lt;00:00 Sampling chain 1, 0 divergences]\n",
              "    </div>\n",
              "    "
            ]
          },
          "metadata": {}
        },
        {
          "output_type": "display_data",
          "data": {
            "text/plain": [
              "<IPython.core.display.HTML object>"
            ],
            "text/html": [
              "\n",
              "<style>\n",
              "    /* Turns off some styling */\n",
              "    progress {\n",
              "        /* gets rid of default border in Firefox and Opera. */\n",
              "        border: none;\n",
              "        /* Needs to be in here for Safari polyfill so background images work as expected. */\n",
              "        background-size: auto;\n",
              "    }\n",
              "    progress:not([value]), progress:not([value])::-webkit-progress-bar {\n",
              "        background: repeating-linear-gradient(45deg, #7e7e7e, #7e7e7e 10px, #5c5c5c 10px, #5c5c5c 20px);\n",
              "    }\n",
              "    .progress-bar-interrupted, .progress-bar-interrupted::-webkit-progress-bar {\n",
              "        background: #F44336;\n",
              "    }\n",
              "</style>\n"
            ]
          },
          "metadata": {}
        },
        {
          "output_type": "display_data",
          "data": {
            "text/plain": [
              "<IPython.core.display.HTML object>"
            ],
            "text/html": [
              "\n",
              "    <div>\n",
              "      <progress value='3000' class='' max='3000' style='width:300px; height:20px; vertical-align: middle;'></progress>\n",
              "      100.00% [3000/3000 02:03&lt;00:00 Sampling chain 0, 0 divergences]\n",
              "    </div>\n",
              "    "
            ]
          },
          "metadata": {}
        },
        {
          "output_type": "display_data",
          "data": {
            "text/plain": [
              "<IPython.core.display.HTML object>"
            ],
            "text/html": [
              "\n",
              "<style>\n",
              "    /* Turns off some styling */\n",
              "    progress {\n",
              "        /* gets rid of default border in Firefox and Opera. */\n",
              "        border: none;\n",
              "        /* Needs to be in here for Safari polyfill so background images work as expected. */\n",
              "        background-size: auto;\n",
              "    }\n",
              "    progress:not([value]), progress:not([value])::-webkit-progress-bar {\n",
              "        background: repeating-linear-gradient(45deg, #7e7e7e, #7e7e7e 10px, #5c5c5c 10px, #5c5c5c 20px);\n",
              "    }\n",
              "    .progress-bar-interrupted, .progress-bar-interrupted::-webkit-progress-bar {\n",
              "        background: #F44336;\n",
              "    }\n",
              "</style>\n"
            ]
          },
          "metadata": {}
        },
        {
          "output_type": "display_data",
          "data": {
            "text/plain": [
              "<IPython.core.display.HTML object>"
            ],
            "text/html": [
              "\n",
              "    <div>\n",
              "      <progress value='3000' class='' max='3000' style='width:300px; height:20px; vertical-align: middle;'></progress>\n",
              "      100.00% [3000/3000 02:01&lt;00:00 Sampling chain 1, 0 divergences]\n",
              "    </div>\n",
              "    "
            ]
          },
          "metadata": {}
        },
        {
          "output_type": "stream",
          "name": "stderr",
          "text": [
            "<ipython-input-8-175c2f4f91ba>:23: FutureWarning: The series.append method is deprecated and will be removed from pandas in a future version. Use pandas.concat instead.\n",
            "  return testingData.append(pd.Series(np.zeros(trainingDataSize-len(testingData), dtype=int)))\n",
            "<ipython-input-8-175c2f4f91ba>:23: FutureWarning: The series.append method is deprecated and will be removed from pandas in a future version. Use pandas.concat instead.\n",
            "  return testingData.append(pd.Series(np.zeros(trainingDataSize-len(testingData), dtype=int)))\n",
            "<ipython-input-8-175c2f4f91ba>:23: FutureWarning: The series.append method is deprecated and will be removed from pandas in a future version. Use pandas.concat instead.\n",
            "  return testingData.append(pd.Series(np.zeros(trainingDataSize-len(testingData), dtype=int)))\n",
            "<ipython-input-8-175c2f4f91ba>:23: FutureWarning: The series.append method is deprecated and will be removed from pandas in a future version. Use pandas.concat instead.\n",
            "  return testingData.append(pd.Series(np.zeros(trainingDataSize-len(testingData), dtype=int)))\n",
            "<ipython-input-8-175c2f4f91ba>:23: FutureWarning: The series.append method is deprecated and will be removed from pandas in a future version. Use pandas.concat instead.\n",
            "  return testingData.append(pd.Series(np.zeros(trainingDataSize-len(testingData), dtype=int)))\n",
            "<ipython-input-8-175c2f4f91ba>:23: FutureWarning: The series.append method is deprecated and will be removed from pandas in a future version. Use pandas.concat instead.\n",
            "  return testingData.append(pd.Series(np.zeros(trainingDataSize-len(testingData), dtype=int)))\n",
            "<ipython-input-8-175c2f4f91ba>:23: FutureWarning: The series.append method is deprecated and will be removed from pandas in a future version. Use pandas.concat instead.\n",
            "  return testingData.append(pd.Series(np.zeros(trainingDataSize-len(testingData), dtype=int)))\n",
            "<ipython-input-8-175c2f4f91ba>:23: FutureWarning: The series.append method is deprecated and will be removed from pandas in a future version. Use pandas.concat instead.\n",
            "  return testingData.append(pd.Series(np.zeros(trainingDataSize-len(testingData), dtype=int)))\n",
            "<ipython-input-8-175c2f4f91ba>:23: FutureWarning: The series.append method is deprecated and will be removed from pandas in a future version. Use pandas.concat instead.\n",
            "  return testingData.append(pd.Series(np.zeros(trainingDataSize-len(testingData), dtype=int)))\n",
            "<ipython-input-8-175c2f4f91ba>:23: FutureWarning: The series.append method is deprecated and will be removed from pandas in a future version. Use pandas.concat instead.\n",
            "  return testingData.append(pd.Series(np.zeros(trainingDataSize-len(testingData), dtype=int)))\n",
            "<ipython-input-8-175c2f4f91ba>:23: FutureWarning: The series.append method is deprecated and will be removed from pandas in a future version. Use pandas.concat instead.\n",
            "  return testingData.append(pd.Series(np.zeros(trainingDataSize-len(testingData), dtype=int)))\n",
            "<ipython-input-8-175c2f4f91ba>:23: FutureWarning: The series.append method is deprecated and will be removed from pandas in a future version. Use pandas.concat instead.\n",
            "  return testingData.append(pd.Series(np.zeros(trainingDataSize-len(testingData), dtype=int)))\n"
          ]
        },
        {
          "output_type": "display_data",
          "data": {
            "text/plain": [
              "<IPython.core.display.HTML object>"
            ],
            "text/html": [
              "\n",
              "<style>\n",
              "    /* Turns off some styling */\n",
              "    progress {\n",
              "        /* gets rid of default border in Firefox and Opera. */\n",
              "        border: none;\n",
              "        /* Needs to be in here for Safari polyfill so background images work as expected. */\n",
              "        background-size: auto;\n",
              "    }\n",
              "    progress:not([value]), progress:not([value])::-webkit-progress-bar {\n",
              "        background: repeating-linear-gradient(45deg, #7e7e7e, #7e7e7e 10px, #5c5c5c 10px, #5c5c5c 20px);\n",
              "    }\n",
              "    .progress-bar-interrupted, .progress-bar-interrupted::-webkit-progress-bar {\n",
              "        background: #F44336;\n",
              "    }\n",
              "</style>\n"
            ]
          },
          "metadata": {}
        },
        {
          "output_type": "display_data",
          "data": {
            "text/plain": [
              "<IPython.core.display.HTML object>"
            ],
            "text/html": [
              "\n",
              "    <div>\n",
              "      <progress value='4000' class='' max='4000' style='width:300px; height:20px; vertical-align: middle;'></progress>\n",
              "      100.00% [4000/4000 00:02&lt;00:00]\n",
              "    </div>\n",
              "    "
            ]
          },
          "metadata": {}
        },
        {
          "output_type": "display_data",
          "data": {
            "text/plain": [
              "<IPython.core.display.HTML object>"
            ],
            "text/html": [
              "\n",
              "<style>\n",
              "    /* Turns off some styling */\n",
              "    progress {\n",
              "        /* gets rid of default border in Firefox and Opera. */\n",
              "        border: none;\n",
              "        /* Needs to be in here for Safari polyfill so background images work as expected. */\n",
              "        background-size: auto;\n",
              "    }\n",
              "    progress:not([value]), progress:not([value])::-webkit-progress-bar {\n",
              "        background: repeating-linear-gradient(45deg, #7e7e7e, #7e7e7e 10px, #5c5c5c 10px, #5c5c5c 20px);\n",
              "    }\n",
              "    .progress-bar-interrupted, .progress-bar-interrupted::-webkit-progress-bar {\n",
              "        background: #F44336;\n",
              "    }\n",
              "</style>\n"
            ]
          },
          "metadata": {}
        },
        {
          "output_type": "display_data",
          "data": {
            "text/plain": [
              "<IPython.core.display.HTML object>"
            ],
            "text/html": [
              "\n",
              "    <div>\n",
              "      <progress value='3000' class='' max='3000' style='width:300px; height:20px; vertical-align: middle;'></progress>\n",
              "      100.00% [3000/3000 02:25&lt;00:00 Sampling chain 0, 0 divergences]\n",
              "    </div>\n",
              "    "
            ]
          },
          "metadata": {}
        },
        {
          "output_type": "display_data",
          "data": {
            "text/plain": [
              "<IPython.core.display.HTML object>"
            ],
            "text/html": [
              "\n",
              "<style>\n",
              "    /* Turns off some styling */\n",
              "    progress {\n",
              "        /* gets rid of default border in Firefox and Opera. */\n",
              "        border: none;\n",
              "        /* Needs to be in here for Safari polyfill so background images work as expected. */\n",
              "        background-size: auto;\n",
              "    }\n",
              "    progress:not([value]), progress:not([value])::-webkit-progress-bar {\n",
              "        background: repeating-linear-gradient(45deg, #7e7e7e, #7e7e7e 10px, #5c5c5c 10px, #5c5c5c 20px);\n",
              "    }\n",
              "    .progress-bar-interrupted, .progress-bar-interrupted::-webkit-progress-bar {\n",
              "        background: #F44336;\n",
              "    }\n",
              "</style>\n"
            ]
          },
          "metadata": {}
        },
        {
          "output_type": "display_data",
          "data": {
            "text/plain": [
              "<IPython.core.display.HTML object>"
            ],
            "text/html": [
              "\n",
              "    <div>\n",
              "      <progress value='3000' class='' max='3000' style='width:300px; height:20px; vertical-align: middle;'></progress>\n",
              "      100.00% [3000/3000 02:31&lt;00:00 Sampling chain 1, 0 divergences]\n",
              "    </div>\n",
              "    "
            ]
          },
          "metadata": {}
        },
        {
          "output_type": "display_data",
          "data": {
            "text/plain": [
              "<IPython.core.display.HTML object>"
            ],
            "text/html": [
              "\n",
              "<style>\n",
              "    /* Turns off some styling */\n",
              "    progress {\n",
              "        /* gets rid of default border in Firefox and Opera. */\n",
              "        border: none;\n",
              "        /* Needs to be in here for Safari polyfill so background images work as expected. */\n",
              "        background-size: auto;\n",
              "    }\n",
              "    progress:not([value]), progress:not([value])::-webkit-progress-bar {\n",
              "        background: repeating-linear-gradient(45deg, #7e7e7e, #7e7e7e 10px, #5c5c5c 10px, #5c5c5c 20px);\n",
              "    }\n",
              "    .progress-bar-interrupted, .progress-bar-interrupted::-webkit-progress-bar {\n",
              "        background: #F44336;\n",
              "    }\n",
              "</style>\n"
            ]
          },
          "metadata": {}
        },
        {
          "output_type": "display_data",
          "data": {
            "text/plain": [
              "<IPython.core.display.HTML object>"
            ],
            "text/html": [
              "\n",
              "    <div>\n",
              "      <progress value='3000' class='' max='3000' style='width:300px; height:20px; vertical-align: middle;'></progress>\n",
              "      100.00% [3000/3000 03:05&lt;00:00 Sampling chain 0, 0 divergences]\n",
              "    </div>\n",
              "    "
            ]
          },
          "metadata": {}
        },
        {
          "output_type": "display_data",
          "data": {
            "text/plain": [
              "<IPython.core.display.HTML object>"
            ],
            "text/html": [
              "\n",
              "<style>\n",
              "    /* Turns off some styling */\n",
              "    progress {\n",
              "        /* gets rid of default border in Firefox and Opera. */\n",
              "        border: none;\n",
              "        /* Needs to be in here for Safari polyfill so background images work as expected. */\n",
              "        background-size: auto;\n",
              "    }\n",
              "    progress:not([value]), progress:not([value])::-webkit-progress-bar {\n",
              "        background: repeating-linear-gradient(45deg, #7e7e7e, #7e7e7e 10px, #5c5c5c 10px, #5c5c5c 20px);\n",
              "    }\n",
              "    .progress-bar-interrupted, .progress-bar-interrupted::-webkit-progress-bar {\n",
              "        background: #F44336;\n",
              "    }\n",
              "</style>\n"
            ]
          },
          "metadata": {}
        },
        {
          "output_type": "display_data",
          "data": {
            "text/plain": [
              "<IPython.core.display.HTML object>"
            ],
            "text/html": [
              "\n",
              "    <div>\n",
              "      <progress value='3000' class='' max='3000' style='width:300px; height:20px; vertical-align: middle;'></progress>\n",
              "      100.00% [3000/3000 03:02&lt;00:00 Sampling chain 1, 0 divergences]\n",
              "    </div>\n",
              "    "
            ]
          },
          "metadata": {}
        },
        {
          "output_type": "stream",
          "name": "stderr",
          "text": [
            "<ipython-input-8-175c2f4f91ba>:23: FutureWarning: The series.append method is deprecated and will be removed from pandas in a future version. Use pandas.concat instead.\n",
            "  return testingData.append(pd.Series(np.zeros(trainingDataSize-len(testingData), dtype=int)))\n",
            "<ipython-input-8-175c2f4f91ba>:23: FutureWarning: The series.append method is deprecated and will be removed from pandas in a future version. Use pandas.concat instead.\n",
            "  return testingData.append(pd.Series(np.zeros(trainingDataSize-len(testingData), dtype=int)))\n",
            "<ipython-input-8-175c2f4f91ba>:23: FutureWarning: The series.append method is deprecated and will be removed from pandas in a future version. Use pandas.concat instead.\n",
            "  return testingData.append(pd.Series(np.zeros(trainingDataSize-len(testingData), dtype=int)))\n",
            "<ipython-input-8-175c2f4f91ba>:23: FutureWarning: The series.append method is deprecated and will be removed from pandas in a future version. Use pandas.concat instead.\n",
            "  return testingData.append(pd.Series(np.zeros(trainingDataSize-len(testingData), dtype=int)))\n",
            "<ipython-input-8-175c2f4f91ba>:23: FutureWarning: The series.append method is deprecated and will be removed from pandas in a future version. Use pandas.concat instead.\n",
            "  return testingData.append(pd.Series(np.zeros(trainingDataSize-len(testingData), dtype=int)))\n",
            "<ipython-input-8-175c2f4f91ba>:23: FutureWarning: The series.append method is deprecated and will be removed from pandas in a future version. Use pandas.concat instead.\n",
            "  return testingData.append(pd.Series(np.zeros(trainingDataSize-len(testingData), dtype=int)))\n",
            "<ipython-input-8-175c2f4f91ba>:23: FutureWarning: The series.append method is deprecated and will be removed from pandas in a future version. Use pandas.concat instead.\n",
            "  return testingData.append(pd.Series(np.zeros(trainingDataSize-len(testingData), dtype=int)))\n",
            "<ipython-input-8-175c2f4f91ba>:23: FutureWarning: The series.append method is deprecated and will be removed from pandas in a future version. Use pandas.concat instead.\n",
            "  return testingData.append(pd.Series(np.zeros(trainingDataSize-len(testingData), dtype=int)))\n",
            "<ipython-input-8-175c2f4f91ba>:23: FutureWarning: The series.append method is deprecated and will be removed from pandas in a future version. Use pandas.concat instead.\n",
            "  return testingData.append(pd.Series(np.zeros(trainingDataSize-len(testingData), dtype=int)))\n",
            "<ipython-input-8-175c2f4f91ba>:23: FutureWarning: The series.append method is deprecated and will be removed from pandas in a future version. Use pandas.concat instead.\n",
            "  return testingData.append(pd.Series(np.zeros(trainingDataSize-len(testingData), dtype=int)))\n",
            "<ipython-input-8-175c2f4f91ba>:23: FutureWarning: The series.append method is deprecated and will be removed from pandas in a future version. Use pandas.concat instead.\n",
            "  return testingData.append(pd.Series(np.zeros(trainingDataSize-len(testingData), dtype=int)))\n",
            "<ipython-input-8-175c2f4f91ba>:23: FutureWarning: The series.append method is deprecated and will be removed from pandas in a future version. Use pandas.concat instead.\n",
            "  return testingData.append(pd.Series(np.zeros(trainingDataSize-len(testingData), dtype=int)))\n"
          ]
        },
        {
          "output_type": "display_data",
          "data": {
            "text/plain": [
              "<IPython.core.display.HTML object>"
            ],
            "text/html": [
              "\n",
              "<style>\n",
              "    /* Turns off some styling */\n",
              "    progress {\n",
              "        /* gets rid of default border in Firefox and Opera. */\n",
              "        border: none;\n",
              "        /* Needs to be in here for Safari polyfill so background images work as expected. */\n",
              "        background-size: auto;\n",
              "    }\n",
              "    progress:not([value]), progress:not([value])::-webkit-progress-bar {\n",
              "        background: repeating-linear-gradient(45deg, #7e7e7e, #7e7e7e 10px, #5c5c5c 10px, #5c5c5c 20px);\n",
              "    }\n",
              "    .progress-bar-interrupted, .progress-bar-interrupted::-webkit-progress-bar {\n",
              "        background: #F44336;\n",
              "    }\n",
              "</style>\n"
            ]
          },
          "metadata": {}
        },
        {
          "output_type": "display_data",
          "data": {
            "text/plain": [
              "<IPython.core.display.HTML object>"
            ],
            "text/html": [
              "\n",
              "    <div>\n",
              "      <progress value='4000' class='' max='4000' style='width:300px; height:20px; vertical-align: middle;'></progress>\n",
              "      100.00% [4000/4000 00:02&lt;00:00]\n",
              "    </div>\n",
              "    "
            ]
          },
          "metadata": {}
        },
        {
          "output_type": "display_data",
          "data": {
            "text/plain": [
              "<IPython.core.display.HTML object>"
            ],
            "text/html": [
              "\n",
              "<style>\n",
              "    /* Turns off some styling */\n",
              "    progress {\n",
              "        /* gets rid of default border in Firefox and Opera. */\n",
              "        border: none;\n",
              "        /* Needs to be in here for Safari polyfill so background images work as expected. */\n",
              "        background-size: auto;\n",
              "    }\n",
              "    progress:not([value]), progress:not([value])::-webkit-progress-bar {\n",
              "        background: repeating-linear-gradient(45deg, #7e7e7e, #7e7e7e 10px, #5c5c5c 10px, #5c5c5c 20px);\n",
              "    }\n",
              "    .progress-bar-interrupted, .progress-bar-interrupted::-webkit-progress-bar {\n",
              "        background: #F44336;\n",
              "    }\n",
              "</style>\n"
            ]
          },
          "metadata": {}
        },
        {
          "output_type": "display_data",
          "data": {
            "text/plain": [
              "<IPython.core.display.HTML object>"
            ],
            "text/html": [
              "\n",
              "    <div>\n",
              "      <progress value='3000' class='' max='3000' style='width:300px; height:20px; vertical-align: middle;'></progress>\n",
              "      100.00% [3000/3000 03:17&lt;00:00 Sampling chain 0, 0 divergences]\n",
              "    </div>\n",
              "    "
            ]
          },
          "metadata": {}
        },
        {
          "output_type": "display_data",
          "data": {
            "text/plain": [
              "<IPython.core.display.HTML object>"
            ],
            "text/html": [
              "\n",
              "<style>\n",
              "    /* Turns off some styling */\n",
              "    progress {\n",
              "        /* gets rid of default border in Firefox and Opera. */\n",
              "        border: none;\n",
              "        /* Needs to be in here for Safari polyfill so background images work as expected. */\n",
              "        background-size: auto;\n",
              "    }\n",
              "    progress:not([value]), progress:not([value])::-webkit-progress-bar {\n",
              "        background: repeating-linear-gradient(45deg, #7e7e7e, #7e7e7e 10px, #5c5c5c 10px, #5c5c5c 20px);\n",
              "    }\n",
              "    .progress-bar-interrupted, .progress-bar-interrupted::-webkit-progress-bar {\n",
              "        background: #F44336;\n",
              "    }\n",
              "</style>\n"
            ]
          },
          "metadata": {}
        },
        {
          "output_type": "display_data",
          "data": {
            "text/plain": [
              "<IPython.core.display.HTML object>"
            ],
            "text/html": [
              "\n",
              "    <div>\n",
              "      <progress value='3000' class='' max='3000' style='width:300px; height:20px; vertical-align: middle;'></progress>\n",
              "      100.00% [3000/3000 03:23&lt;00:00 Sampling chain 1, 0 divergences]\n",
              "    </div>\n",
              "    "
            ]
          },
          "metadata": {}
        },
        {
          "output_type": "display_data",
          "data": {
            "text/plain": [
              "<IPython.core.display.HTML object>"
            ],
            "text/html": [
              "\n",
              "<style>\n",
              "    /* Turns off some styling */\n",
              "    progress {\n",
              "        /* gets rid of default border in Firefox and Opera. */\n",
              "        border: none;\n",
              "        /* Needs to be in here for Safari polyfill so background images work as expected. */\n",
              "        background-size: auto;\n",
              "    }\n",
              "    progress:not([value]), progress:not([value])::-webkit-progress-bar {\n",
              "        background: repeating-linear-gradient(45deg, #7e7e7e, #7e7e7e 10px, #5c5c5c 10px, #5c5c5c 20px);\n",
              "    }\n",
              "    .progress-bar-interrupted, .progress-bar-interrupted::-webkit-progress-bar {\n",
              "        background: #F44336;\n",
              "    }\n",
              "</style>\n"
            ]
          },
          "metadata": {}
        },
        {
          "output_type": "display_data",
          "data": {
            "text/plain": [
              "<IPython.core.display.HTML object>"
            ],
            "text/html": [
              "\n",
              "    <div>\n",
              "      <progress value='3000' class='' max='3000' style='width:300px; height:20px; vertical-align: middle;'></progress>\n",
              "      100.00% [3000/3000 03:00&lt;00:00 Sampling chain 0, 0 divergences]\n",
              "    </div>\n",
              "    "
            ]
          },
          "metadata": {}
        },
        {
          "output_type": "display_data",
          "data": {
            "text/plain": [
              "<IPython.core.display.HTML object>"
            ],
            "text/html": [
              "\n",
              "<style>\n",
              "    /* Turns off some styling */\n",
              "    progress {\n",
              "        /* gets rid of default border in Firefox and Opera. */\n",
              "        border: none;\n",
              "        /* Needs to be in here for Safari polyfill so background images work as expected. */\n",
              "        background-size: auto;\n",
              "    }\n",
              "    progress:not([value]), progress:not([value])::-webkit-progress-bar {\n",
              "        background: repeating-linear-gradient(45deg, #7e7e7e, #7e7e7e 10px, #5c5c5c 10px, #5c5c5c 20px);\n",
              "    }\n",
              "    .progress-bar-interrupted, .progress-bar-interrupted::-webkit-progress-bar {\n",
              "        background: #F44336;\n",
              "    }\n",
              "</style>\n"
            ]
          },
          "metadata": {}
        },
        {
          "output_type": "display_data",
          "data": {
            "text/plain": [
              "<IPython.core.display.HTML object>"
            ],
            "text/html": [
              "\n",
              "    <div>\n",
              "      <progress value='3000' class='' max='3000' style='width:300px; height:20px; vertical-align: middle;'></progress>\n",
              "      100.00% [3000/3000 02:39&lt;00:00 Sampling chain 1, 0 divergences]\n",
              "    </div>\n",
              "    "
            ]
          },
          "metadata": {}
        },
        {
          "output_type": "stream",
          "name": "stderr",
          "text": [
            "<ipython-input-8-175c2f4f91ba>:23: FutureWarning: The series.append method is deprecated and will be removed from pandas in a future version. Use pandas.concat instead.\n",
            "  return testingData.append(pd.Series(np.zeros(trainingDataSize-len(testingData), dtype=int)))\n",
            "<ipython-input-8-175c2f4f91ba>:23: FutureWarning: The series.append method is deprecated and will be removed from pandas in a future version. Use pandas.concat instead.\n",
            "  return testingData.append(pd.Series(np.zeros(trainingDataSize-len(testingData), dtype=int)))\n",
            "<ipython-input-8-175c2f4f91ba>:23: FutureWarning: The series.append method is deprecated and will be removed from pandas in a future version. Use pandas.concat instead.\n",
            "  return testingData.append(pd.Series(np.zeros(trainingDataSize-len(testingData), dtype=int)))\n",
            "<ipython-input-8-175c2f4f91ba>:23: FutureWarning: The series.append method is deprecated and will be removed from pandas in a future version. Use pandas.concat instead.\n",
            "  return testingData.append(pd.Series(np.zeros(trainingDataSize-len(testingData), dtype=int)))\n",
            "<ipython-input-8-175c2f4f91ba>:23: FutureWarning: The series.append method is deprecated and will be removed from pandas in a future version. Use pandas.concat instead.\n",
            "  return testingData.append(pd.Series(np.zeros(trainingDataSize-len(testingData), dtype=int)))\n",
            "<ipython-input-8-175c2f4f91ba>:23: FutureWarning: The series.append method is deprecated and will be removed from pandas in a future version. Use pandas.concat instead.\n",
            "  return testingData.append(pd.Series(np.zeros(trainingDataSize-len(testingData), dtype=int)))\n",
            "<ipython-input-8-175c2f4f91ba>:23: FutureWarning: The series.append method is deprecated and will be removed from pandas in a future version. Use pandas.concat instead.\n",
            "  return testingData.append(pd.Series(np.zeros(trainingDataSize-len(testingData), dtype=int)))\n",
            "<ipython-input-8-175c2f4f91ba>:23: FutureWarning: The series.append method is deprecated and will be removed from pandas in a future version. Use pandas.concat instead.\n",
            "  return testingData.append(pd.Series(np.zeros(trainingDataSize-len(testingData), dtype=int)))\n",
            "<ipython-input-8-175c2f4f91ba>:23: FutureWarning: The series.append method is deprecated and will be removed from pandas in a future version. Use pandas.concat instead.\n",
            "  return testingData.append(pd.Series(np.zeros(trainingDataSize-len(testingData), dtype=int)))\n",
            "<ipython-input-8-175c2f4f91ba>:23: FutureWarning: The series.append method is deprecated and will be removed from pandas in a future version. Use pandas.concat instead.\n",
            "  return testingData.append(pd.Series(np.zeros(trainingDataSize-len(testingData), dtype=int)))\n",
            "<ipython-input-8-175c2f4f91ba>:23: FutureWarning: The series.append method is deprecated and will be removed from pandas in a future version. Use pandas.concat instead.\n",
            "  return testingData.append(pd.Series(np.zeros(trainingDataSize-len(testingData), dtype=int)))\n",
            "<ipython-input-8-175c2f4f91ba>:23: FutureWarning: The series.append method is deprecated and will be removed from pandas in a future version. Use pandas.concat instead.\n",
            "  return testingData.append(pd.Series(np.zeros(trainingDataSize-len(testingData), dtype=int)))\n"
          ]
        },
        {
          "output_type": "display_data",
          "data": {
            "text/plain": [
              "<IPython.core.display.HTML object>"
            ],
            "text/html": [
              "\n",
              "<style>\n",
              "    /* Turns off some styling */\n",
              "    progress {\n",
              "        /* gets rid of default border in Firefox and Opera. */\n",
              "        border: none;\n",
              "        /* Needs to be in here for Safari polyfill so background images work as expected. */\n",
              "        background-size: auto;\n",
              "    }\n",
              "    progress:not([value]), progress:not([value])::-webkit-progress-bar {\n",
              "        background: repeating-linear-gradient(45deg, #7e7e7e, #7e7e7e 10px, #5c5c5c 10px, #5c5c5c 20px);\n",
              "    }\n",
              "    .progress-bar-interrupted, .progress-bar-interrupted::-webkit-progress-bar {\n",
              "        background: #F44336;\n",
              "    }\n",
              "</style>\n"
            ]
          },
          "metadata": {}
        },
        {
          "output_type": "display_data",
          "data": {
            "text/plain": [
              "<IPython.core.display.HTML object>"
            ],
            "text/html": [
              "\n",
              "    <div>\n",
              "      <progress value='4000' class='' max='4000' style='width:300px; height:20px; vertical-align: middle;'></progress>\n",
              "      100.00% [4000/4000 00:02&lt;00:00]\n",
              "    </div>\n",
              "    "
            ]
          },
          "metadata": {}
        },
        {
          "output_type": "display_data",
          "data": {
            "text/plain": [
              "<IPython.core.display.HTML object>"
            ],
            "text/html": [
              "\n",
              "<style>\n",
              "    /* Turns off some styling */\n",
              "    progress {\n",
              "        /* gets rid of default border in Firefox and Opera. */\n",
              "        border: none;\n",
              "        /* Needs to be in here for Safari polyfill so background images work as expected. */\n",
              "        background-size: auto;\n",
              "    }\n",
              "    progress:not([value]), progress:not([value])::-webkit-progress-bar {\n",
              "        background: repeating-linear-gradient(45deg, #7e7e7e, #7e7e7e 10px, #5c5c5c 10px, #5c5c5c 20px);\n",
              "    }\n",
              "    .progress-bar-interrupted, .progress-bar-interrupted::-webkit-progress-bar {\n",
              "        background: #F44336;\n",
              "    }\n",
              "</style>\n"
            ]
          },
          "metadata": {}
        },
        {
          "output_type": "display_data",
          "data": {
            "text/plain": [
              "<IPython.core.display.HTML object>"
            ],
            "text/html": [
              "\n",
              "    <div>\n",
              "      <progress value='3000' class='' max='3000' style='width:300px; height:20px; vertical-align: middle;'></progress>\n",
              "      100.00% [3000/3000 02:53&lt;00:00 Sampling chain 0, 0 divergences]\n",
              "    </div>\n",
              "    "
            ]
          },
          "metadata": {}
        },
        {
          "output_type": "display_data",
          "data": {
            "text/plain": [
              "<IPython.core.display.HTML object>"
            ],
            "text/html": [
              "\n",
              "<style>\n",
              "    /* Turns off some styling */\n",
              "    progress {\n",
              "        /* gets rid of default border in Firefox and Opera. */\n",
              "        border: none;\n",
              "        /* Needs to be in here for Safari polyfill so background images work as expected. */\n",
              "        background-size: auto;\n",
              "    }\n",
              "    progress:not([value]), progress:not([value])::-webkit-progress-bar {\n",
              "        background: repeating-linear-gradient(45deg, #7e7e7e, #7e7e7e 10px, #5c5c5c 10px, #5c5c5c 20px);\n",
              "    }\n",
              "    .progress-bar-interrupted, .progress-bar-interrupted::-webkit-progress-bar {\n",
              "        background: #F44336;\n",
              "    }\n",
              "</style>\n"
            ]
          },
          "metadata": {}
        },
        {
          "output_type": "display_data",
          "data": {
            "text/plain": [
              "<IPython.core.display.HTML object>"
            ],
            "text/html": [
              "\n",
              "    <div>\n",
              "      <progress value='3000' class='' max='3000' style='width:300px; height:20px; vertical-align: middle;'></progress>\n",
              "      100.00% [3000/3000 03:20&lt;00:00 Sampling chain 1, 0 divergences]\n",
              "    </div>\n",
              "    "
            ]
          },
          "metadata": {}
        },
        {
          "output_type": "display_data",
          "data": {
            "text/plain": [
              "<IPython.core.display.HTML object>"
            ],
            "text/html": [
              "\n",
              "<style>\n",
              "    /* Turns off some styling */\n",
              "    progress {\n",
              "        /* gets rid of default border in Firefox and Opera. */\n",
              "        border: none;\n",
              "        /* Needs to be in here for Safari polyfill so background images work as expected. */\n",
              "        background-size: auto;\n",
              "    }\n",
              "    progress:not([value]), progress:not([value])::-webkit-progress-bar {\n",
              "        background: repeating-linear-gradient(45deg, #7e7e7e, #7e7e7e 10px, #5c5c5c 10px, #5c5c5c 20px);\n",
              "    }\n",
              "    .progress-bar-interrupted, .progress-bar-interrupted::-webkit-progress-bar {\n",
              "        background: #F44336;\n",
              "    }\n",
              "</style>\n"
            ]
          },
          "metadata": {}
        },
        {
          "output_type": "display_data",
          "data": {
            "text/plain": [
              "<IPython.core.display.HTML object>"
            ],
            "text/html": [
              "\n",
              "    <div>\n",
              "      <progress value='3000' class='' max='3000' style='width:300px; height:20px; vertical-align: middle;'></progress>\n",
              "      100.00% [3000/3000 02:20&lt;00:00 Sampling chain 0, 0 divergences]\n",
              "    </div>\n",
              "    "
            ]
          },
          "metadata": {}
        },
        {
          "output_type": "display_data",
          "data": {
            "text/plain": [
              "<IPython.core.display.HTML object>"
            ],
            "text/html": [
              "\n",
              "<style>\n",
              "    /* Turns off some styling */\n",
              "    progress {\n",
              "        /* gets rid of default border in Firefox and Opera. */\n",
              "        border: none;\n",
              "        /* Needs to be in here for Safari polyfill so background images work as expected. */\n",
              "        background-size: auto;\n",
              "    }\n",
              "    progress:not([value]), progress:not([value])::-webkit-progress-bar {\n",
              "        background: repeating-linear-gradient(45deg, #7e7e7e, #7e7e7e 10px, #5c5c5c 10px, #5c5c5c 20px);\n",
              "    }\n",
              "    .progress-bar-interrupted, .progress-bar-interrupted::-webkit-progress-bar {\n",
              "        background: #F44336;\n",
              "    }\n",
              "</style>\n"
            ]
          },
          "metadata": {}
        },
        {
          "output_type": "display_data",
          "data": {
            "text/plain": [
              "<IPython.core.display.HTML object>"
            ],
            "text/html": [
              "\n",
              "    <div>\n",
              "      <progress value='3000' class='' max='3000' style='width:300px; height:20px; vertical-align: middle;'></progress>\n",
              "      100.00% [3000/3000 02:20&lt;00:00 Sampling chain 1, 0 divergences]\n",
              "    </div>\n",
              "    "
            ]
          },
          "metadata": {}
        },
        {
          "output_type": "stream",
          "name": "stderr",
          "text": [
            "<ipython-input-8-175c2f4f91ba>:23: FutureWarning: The series.append method is deprecated and will be removed from pandas in a future version. Use pandas.concat instead.\n",
            "  return testingData.append(pd.Series(np.zeros(trainingDataSize-len(testingData), dtype=int)))\n",
            "<ipython-input-8-175c2f4f91ba>:23: FutureWarning: The series.append method is deprecated and will be removed from pandas in a future version. Use pandas.concat instead.\n",
            "  return testingData.append(pd.Series(np.zeros(trainingDataSize-len(testingData), dtype=int)))\n",
            "<ipython-input-8-175c2f4f91ba>:23: FutureWarning: The series.append method is deprecated and will be removed from pandas in a future version. Use pandas.concat instead.\n",
            "  return testingData.append(pd.Series(np.zeros(trainingDataSize-len(testingData), dtype=int)))\n",
            "<ipython-input-8-175c2f4f91ba>:23: FutureWarning: The series.append method is deprecated and will be removed from pandas in a future version. Use pandas.concat instead.\n",
            "  return testingData.append(pd.Series(np.zeros(trainingDataSize-len(testingData), dtype=int)))\n",
            "<ipython-input-8-175c2f4f91ba>:23: FutureWarning: The series.append method is deprecated and will be removed from pandas in a future version. Use pandas.concat instead.\n",
            "  return testingData.append(pd.Series(np.zeros(trainingDataSize-len(testingData), dtype=int)))\n",
            "<ipython-input-8-175c2f4f91ba>:23: FutureWarning: The series.append method is deprecated and will be removed from pandas in a future version. Use pandas.concat instead.\n",
            "  return testingData.append(pd.Series(np.zeros(trainingDataSize-len(testingData), dtype=int)))\n",
            "<ipython-input-8-175c2f4f91ba>:23: FutureWarning: The series.append method is deprecated and will be removed from pandas in a future version. Use pandas.concat instead.\n",
            "  return testingData.append(pd.Series(np.zeros(trainingDataSize-len(testingData), dtype=int)))\n",
            "<ipython-input-8-175c2f4f91ba>:23: FutureWarning: The series.append method is deprecated and will be removed from pandas in a future version. Use pandas.concat instead.\n",
            "  return testingData.append(pd.Series(np.zeros(trainingDataSize-len(testingData), dtype=int)))\n",
            "<ipython-input-8-175c2f4f91ba>:23: FutureWarning: The series.append method is deprecated and will be removed from pandas in a future version. Use pandas.concat instead.\n",
            "  return testingData.append(pd.Series(np.zeros(trainingDataSize-len(testingData), dtype=int)))\n",
            "<ipython-input-8-175c2f4f91ba>:23: FutureWarning: The series.append method is deprecated and will be removed from pandas in a future version. Use pandas.concat instead.\n",
            "  return testingData.append(pd.Series(np.zeros(trainingDataSize-len(testingData), dtype=int)))\n",
            "<ipython-input-8-175c2f4f91ba>:23: FutureWarning: The series.append method is deprecated and will be removed from pandas in a future version. Use pandas.concat instead.\n",
            "  return testingData.append(pd.Series(np.zeros(trainingDataSize-len(testingData), dtype=int)))\n",
            "<ipython-input-8-175c2f4f91ba>:23: FutureWarning: The series.append method is deprecated and will be removed from pandas in a future version. Use pandas.concat instead.\n",
            "  return testingData.append(pd.Series(np.zeros(trainingDataSize-len(testingData), dtype=int)))\n"
          ]
        },
        {
          "output_type": "display_data",
          "data": {
            "text/plain": [
              "<IPython.core.display.HTML object>"
            ],
            "text/html": [
              "\n",
              "<style>\n",
              "    /* Turns off some styling */\n",
              "    progress {\n",
              "        /* gets rid of default border in Firefox and Opera. */\n",
              "        border: none;\n",
              "        /* Needs to be in here for Safari polyfill so background images work as expected. */\n",
              "        background-size: auto;\n",
              "    }\n",
              "    progress:not([value]), progress:not([value])::-webkit-progress-bar {\n",
              "        background: repeating-linear-gradient(45deg, #7e7e7e, #7e7e7e 10px, #5c5c5c 10px, #5c5c5c 20px);\n",
              "    }\n",
              "    .progress-bar-interrupted, .progress-bar-interrupted::-webkit-progress-bar {\n",
              "        background: #F44336;\n",
              "    }\n",
              "</style>\n"
            ]
          },
          "metadata": {}
        },
        {
          "output_type": "display_data",
          "data": {
            "text/plain": [
              "<IPython.core.display.HTML object>"
            ],
            "text/html": [
              "\n",
              "    <div>\n",
              "      <progress value='4000' class='' max='4000' style='width:300px; height:20px; vertical-align: middle;'></progress>\n",
              "      100.00% [4000/4000 00:02&lt;00:00]\n",
              "    </div>\n",
              "    "
            ]
          },
          "metadata": {}
        },
        {
          "output_type": "display_data",
          "data": {
            "text/plain": [
              "<IPython.core.display.HTML object>"
            ],
            "text/html": [
              "\n",
              "<style>\n",
              "    /* Turns off some styling */\n",
              "    progress {\n",
              "        /* gets rid of default border in Firefox and Opera. */\n",
              "        border: none;\n",
              "        /* Needs to be in here for Safari polyfill so background images work as expected. */\n",
              "        background-size: auto;\n",
              "    }\n",
              "    progress:not([value]), progress:not([value])::-webkit-progress-bar {\n",
              "        background: repeating-linear-gradient(45deg, #7e7e7e, #7e7e7e 10px, #5c5c5c 10px, #5c5c5c 20px);\n",
              "    }\n",
              "    .progress-bar-interrupted, .progress-bar-interrupted::-webkit-progress-bar {\n",
              "        background: #F44336;\n",
              "    }\n",
              "</style>\n"
            ]
          },
          "metadata": {}
        },
        {
          "output_type": "display_data",
          "data": {
            "text/plain": [
              "<IPython.core.display.HTML object>"
            ],
            "text/html": [
              "\n",
              "    <div>\n",
              "      <progress value='3000' class='' max='3000' style='width:300px; height:20px; vertical-align: middle;'></progress>\n",
              "      100.00% [3000/3000 02:42&lt;00:00 Sampling chain 0, 0 divergences]\n",
              "    </div>\n",
              "    "
            ]
          },
          "metadata": {}
        },
        {
          "output_type": "display_data",
          "data": {
            "text/plain": [
              "<IPython.core.display.HTML object>"
            ],
            "text/html": [
              "\n",
              "<style>\n",
              "    /* Turns off some styling */\n",
              "    progress {\n",
              "        /* gets rid of default border in Firefox and Opera. */\n",
              "        border: none;\n",
              "        /* Needs to be in here for Safari polyfill so background images work as expected. */\n",
              "        background-size: auto;\n",
              "    }\n",
              "    progress:not([value]), progress:not([value])::-webkit-progress-bar {\n",
              "        background: repeating-linear-gradient(45deg, #7e7e7e, #7e7e7e 10px, #5c5c5c 10px, #5c5c5c 20px);\n",
              "    }\n",
              "    .progress-bar-interrupted, .progress-bar-interrupted::-webkit-progress-bar {\n",
              "        background: #F44336;\n",
              "    }\n",
              "</style>\n"
            ]
          },
          "metadata": {}
        },
        {
          "output_type": "display_data",
          "data": {
            "text/plain": [
              "<IPython.core.display.HTML object>"
            ],
            "text/html": [
              "\n",
              "    <div>\n",
              "      <progress value='3000' class='' max='3000' style='width:300px; height:20px; vertical-align: middle;'></progress>\n",
              "      100.00% [3000/3000 02:28&lt;00:00 Sampling chain 1, 0 divergences]\n",
              "    </div>\n",
              "    "
            ]
          },
          "metadata": {}
        },
        {
          "output_type": "display_data",
          "data": {
            "text/plain": [
              "<IPython.core.display.HTML object>"
            ],
            "text/html": [
              "\n",
              "<style>\n",
              "    /* Turns off some styling */\n",
              "    progress {\n",
              "        /* gets rid of default border in Firefox and Opera. */\n",
              "        border: none;\n",
              "        /* Needs to be in here for Safari polyfill so background images work as expected. */\n",
              "        background-size: auto;\n",
              "    }\n",
              "    progress:not([value]), progress:not([value])::-webkit-progress-bar {\n",
              "        background: repeating-linear-gradient(45deg, #7e7e7e, #7e7e7e 10px, #5c5c5c 10px, #5c5c5c 20px);\n",
              "    }\n",
              "    .progress-bar-interrupted, .progress-bar-interrupted::-webkit-progress-bar {\n",
              "        background: #F44336;\n",
              "    }\n",
              "</style>\n"
            ]
          },
          "metadata": {}
        },
        {
          "output_type": "display_data",
          "data": {
            "text/plain": [
              "<IPython.core.display.HTML object>"
            ],
            "text/html": [
              "\n",
              "    <div>\n",
              "      <progress value='3000' class='' max='3000' style='width:300px; height:20px; vertical-align: middle;'></progress>\n",
              "      100.00% [3000/3000 02:58&lt;00:00 Sampling chain 0, 0 divergences]\n",
              "    </div>\n",
              "    "
            ]
          },
          "metadata": {}
        },
        {
          "output_type": "display_data",
          "data": {
            "text/plain": [
              "<IPython.core.display.HTML object>"
            ],
            "text/html": [
              "\n",
              "<style>\n",
              "    /* Turns off some styling */\n",
              "    progress {\n",
              "        /* gets rid of default border in Firefox and Opera. */\n",
              "        border: none;\n",
              "        /* Needs to be in here for Safari polyfill so background images work as expected. */\n",
              "        background-size: auto;\n",
              "    }\n",
              "    progress:not([value]), progress:not([value])::-webkit-progress-bar {\n",
              "        background: repeating-linear-gradient(45deg, #7e7e7e, #7e7e7e 10px, #5c5c5c 10px, #5c5c5c 20px);\n",
              "    }\n",
              "    .progress-bar-interrupted, .progress-bar-interrupted::-webkit-progress-bar {\n",
              "        background: #F44336;\n",
              "    }\n",
              "</style>\n"
            ]
          },
          "metadata": {}
        },
        {
          "output_type": "display_data",
          "data": {
            "text/plain": [
              "<IPython.core.display.HTML object>"
            ],
            "text/html": [
              "\n",
              "    <div>\n",
              "      <progress value='3000' class='' max='3000' style='width:300px; height:20px; vertical-align: middle;'></progress>\n",
              "      100.00% [3000/3000 02:50&lt;00:00 Sampling chain 1, 0 divergences]\n",
              "    </div>\n",
              "    "
            ]
          },
          "metadata": {}
        },
        {
          "output_type": "stream",
          "name": "stderr",
          "text": [
            "<ipython-input-8-175c2f4f91ba>:23: FutureWarning: The series.append method is deprecated and will be removed from pandas in a future version. Use pandas.concat instead.\n",
            "  return testingData.append(pd.Series(np.zeros(trainingDataSize-len(testingData), dtype=int)))\n",
            "<ipython-input-8-175c2f4f91ba>:23: FutureWarning: The series.append method is deprecated and will be removed from pandas in a future version. Use pandas.concat instead.\n",
            "  return testingData.append(pd.Series(np.zeros(trainingDataSize-len(testingData), dtype=int)))\n",
            "<ipython-input-8-175c2f4f91ba>:23: FutureWarning: The series.append method is deprecated and will be removed from pandas in a future version. Use pandas.concat instead.\n",
            "  return testingData.append(pd.Series(np.zeros(trainingDataSize-len(testingData), dtype=int)))\n",
            "<ipython-input-8-175c2f4f91ba>:23: FutureWarning: The series.append method is deprecated and will be removed from pandas in a future version. Use pandas.concat instead.\n",
            "  return testingData.append(pd.Series(np.zeros(trainingDataSize-len(testingData), dtype=int)))\n",
            "<ipython-input-8-175c2f4f91ba>:23: FutureWarning: The series.append method is deprecated and will be removed from pandas in a future version. Use pandas.concat instead.\n",
            "  return testingData.append(pd.Series(np.zeros(trainingDataSize-len(testingData), dtype=int)))\n",
            "<ipython-input-8-175c2f4f91ba>:23: FutureWarning: The series.append method is deprecated and will be removed from pandas in a future version. Use pandas.concat instead.\n",
            "  return testingData.append(pd.Series(np.zeros(trainingDataSize-len(testingData), dtype=int)))\n",
            "<ipython-input-8-175c2f4f91ba>:23: FutureWarning: The series.append method is deprecated and will be removed from pandas in a future version. Use pandas.concat instead.\n",
            "  return testingData.append(pd.Series(np.zeros(trainingDataSize-len(testingData), dtype=int)))\n",
            "<ipython-input-8-175c2f4f91ba>:23: FutureWarning: The series.append method is deprecated and will be removed from pandas in a future version. Use pandas.concat instead.\n",
            "  return testingData.append(pd.Series(np.zeros(trainingDataSize-len(testingData), dtype=int)))\n",
            "<ipython-input-8-175c2f4f91ba>:23: FutureWarning: The series.append method is deprecated and will be removed from pandas in a future version. Use pandas.concat instead.\n",
            "  return testingData.append(pd.Series(np.zeros(trainingDataSize-len(testingData), dtype=int)))\n",
            "<ipython-input-8-175c2f4f91ba>:23: FutureWarning: The series.append method is deprecated and will be removed from pandas in a future version. Use pandas.concat instead.\n",
            "  return testingData.append(pd.Series(np.zeros(trainingDataSize-len(testingData), dtype=int)))\n",
            "<ipython-input-8-175c2f4f91ba>:23: FutureWarning: The series.append method is deprecated and will be removed from pandas in a future version. Use pandas.concat instead.\n",
            "  return testingData.append(pd.Series(np.zeros(trainingDataSize-len(testingData), dtype=int)))\n",
            "<ipython-input-8-175c2f4f91ba>:23: FutureWarning: The series.append method is deprecated and will be removed from pandas in a future version. Use pandas.concat instead.\n",
            "  return testingData.append(pd.Series(np.zeros(trainingDataSize-len(testingData), dtype=int)))\n"
          ]
        },
        {
          "output_type": "display_data",
          "data": {
            "text/plain": [
              "<IPython.core.display.HTML object>"
            ],
            "text/html": [
              "\n",
              "<style>\n",
              "    /* Turns off some styling */\n",
              "    progress {\n",
              "        /* gets rid of default border in Firefox and Opera. */\n",
              "        border: none;\n",
              "        /* Needs to be in here for Safari polyfill so background images work as expected. */\n",
              "        background-size: auto;\n",
              "    }\n",
              "    progress:not([value]), progress:not([value])::-webkit-progress-bar {\n",
              "        background: repeating-linear-gradient(45deg, #7e7e7e, #7e7e7e 10px, #5c5c5c 10px, #5c5c5c 20px);\n",
              "    }\n",
              "    .progress-bar-interrupted, .progress-bar-interrupted::-webkit-progress-bar {\n",
              "        background: #F44336;\n",
              "    }\n",
              "</style>\n"
            ]
          },
          "metadata": {}
        },
        {
          "output_type": "display_data",
          "data": {
            "text/plain": [
              "<IPython.core.display.HTML object>"
            ],
            "text/html": [
              "\n",
              "    <div>\n",
              "      <progress value='4000' class='' max='4000' style='width:300px; height:20px; vertical-align: middle;'></progress>\n",
              "      100.00% [4000/4000 00:02&lt;00:00]\n",
              "    </div>\n",
              "    "
            ]
          },
          "metadata": {}
        },
        {
          "output_type": "display_data",
          "data": {
            "text/plain": [
              "<IPython.core.display.HTML object>"
            ],
            "text/html": [
              "\n",
              "<style>\n",
              "    /* Turns off some styling */\n",
              "    progress {\n",
              "        /* gets rid of default border in Firefox and Opera. */\n",
              "        border: none;\n",
              "        /* Needs to be in here for Safari polyfill so background images work as expected. */\n",
              "        background-size: auto;\n",
              "    }\n",
              "    progress:not([value]), progress:not([value])::-webkit-progress-bar {\n",
              "        background: repeating-linear-gradient(45deg, #7e7e7e, #7e7e7e 10px, #5c5c5c 10px, #5c5c5c 20px);\n",
              "    }\n",
              "    .progress-bar-interrupted, .progress-bar-interrupted::-webkit-progress-bar {\n",
              "        background: #F44336;\n",
              "    }\n",
              "</style>\n"
            ]
          },
          "metadata": {}
        },
        {
          "output_type": "display_data",
          "data": {
            "text/plain": [
              "<IPython.core.display.HTML object>"
            ],
            "text/html": [
              "\n",
              "    <div>\n",
              "      <progress value='3000' class='' max='3000' style='width:300px; height:20px; vertical-align: middle;'></progress>\n",
              "      100.00% [3000/3000 03:25&lt;00:00 Sampling chain 0, 0 divergences]\n",
              "    </div>\n",
              "    "
            ]
          },
          "metadata": {}
        },
        {
          "output_type": "display_data",
          "data": {
            "text/plain": [
              "<IPython.core.display.HTML object>"
            ],
            "text/html": [
              "\n",
              "<style>\n",
              "    /* Turns off some styling */\n",
              "    progress {\n",
              "        /* gets rid of default border in Firefox and Opera. */\n",
              "        border: none;\n",
              "        /* Needs to be in here for Safari polyfill so background images work as expected. */\n",
              "        background-size: auto;\n",
              "    }\n",
              "    progress:not([value]), progress:not([value])::-webkit-progress-bar {\n",
              "        background: repeating-linear-gradient(45deg, #7e7e7e, #7e7e7e 10px, #5c5c5c 10px, #5c5c5c 20px);\n",
              "    }\n",
              "    .progress-bar-interrupted, .progress-bar-interrupted::-webkit-progress-bar {\n",
              "        background: #F44336;\n",
              "    }\n",
              "</style>\n"
            ]
          },
          "metadata": {}
        },
        {
          "output_type": "display_data",
          "data": {
            "text/plain": [
              "<IPython.core.display.HTML object>"
            ],
            "text/html": [
              "\n",
              "    <div>\n",
              "      <progress value='3000' class='' max='3000' style='width:300px; height:20px; vertical-align: middle;'></progress>\n",
              "      100.00% [3000/3000 03:08&lt;00:00 Sampling chain 1, 0 divergences]\n",
              "    </div>\n",
              "    "
            ]
          },
          "metadata": {}
        },
        {
          "output_type": "display_data",
          "data": {
            "text/plain": [
              "<IPython.core.display.HTML object>"
            ],
            "text/html": [
              "\n",
              "<style>\n",
              "    /* Turns off some styling */\n",
              "    progress {\n",
              "        /* gets rid of default border in Firefox and Opera. */\n",
              "        border: none;\n",
              "        /* Needs to be in here for Safari polyfill so background images work as expected. */\n",
              "        background-size: auto;\n",
              "    }\n",
              "    progress:not([value]), progress:not([value])::-webkit-progress-bar {\n",
              "        background: repeating-linear-gradient(45deg, #7e7e7e, #7e7e7e 10px, #5c5c5c 10px, #5c5c5c 20px);\n",
              "    }\n",
              "    .progress-bar-interrupted, .progress-bar-interrupted::-webkit-progress-bar {\n",
              "        background: #F44336;\n",
              "    }\n",
              "</style>\n"
            ]
          },
          "metadata": {}
        },
        {
          "output_type": "display_data",
          "data": {
            "text/plain": [
              "<IPython.core.display.HTML object>"
            ],
            "text/html": [
              "\n",
              "    <div>\n",
              "      <progress value='3000' class='' max='3000' style='width:300px; height:20px; vertical-align: middle;'></progress>\n",
              "      100.00% [3000/3000 03:13&lt;00:00 Sampling chain 0, 0 divergences]\n",
              "    </div>\n",
              "    "
            ]
          },
          "metadata": {}
        },
        {
          "output_type": "display_data",
          "data": {
            "text/plain": [
              "<IPython.core.display.HTML object>"
            ],
            "text/html": [
              "\n",
              "<style>\n",
              "    /* Turns off some styling */\n",
              "    progress {\n",
              "        /* gets rid of default border in Firefox and Opera. */\n",
              "        border: none;\n",
              "        /* Needs to be in here for Safari polyfill so background images work as expected. */\n",
              "        background-size: auto;\n",
              "    }\n",
              "    progress:not([value]), progress:not([value])::-webkit-progress-bar {\n",
              "        background: repeating-linear-gradient(45deg, #7e7e7e, #7e7e7e 10px, #5c5c5c 10px, #5c5c5c 20px);\n",
              "    }\n",
              "    .progress-bar-interrupted, .progress-bar-interrupted::-webkit-progress-bar {\n",
              "        background: #F44336;\n",
              "    }\n",
              "</style>\n"
            ]
          },
          "metadata": {}
        },
        {
          "output_type": "display_data",
          "data": {
            "text/plain": [
              "<IPython.core.display.HTML object>"
            ],
            "text/html": [
              "\n",
              "    <div>\n",
              "      <progress value='3000' class='' max='3000' style='width:300px; height:20px; vertical-align: middle;'></progress>\n",
              "      100.00% [3000/3000 03:08&lt;00:00 Sampling chain 1, 0 divergences]\n",
              "    </div>\n",
              "    "
            ]
          },
          "metadata": {}
        },
        {
          "output_type": "stream",
          "name": "stderr",
          "text": [
            "<ipython-input-8-175c2f4f91ba>:23: FutureWarning: The series.append method is deprecated and will be removed from pandas in a future version. Use pandas.concat instead.\n",
            "  return testingData.append(pd.Series(np.zeros(trainingDataSize-len(testingData), dtype=int)))\n",
            "<ipython-input-8-175c2f4f91ba>:23: FutureWarning: The series.append method is deprecated and will be removed from pandas in a future version. Use pandas.concat instead.\n",
            "  return testingData.append(pd.Series(np.zeros(trainingDataSize-len(testingData), dtype=int)))\n",
            "<ipython-input-8-175c2f4f91ba>:23: FutureWarning: The series.append method is deprecated and will be removed from pandas in a future version. Use pandas.concat instead.\n",
            "  return testingData.append(pd.Series(np.zeros(trainingDataSize-len(testingData), dtype=int)))\n",
            "<ipython-input-8-175c2f4f91ba>:23: FutureWarning: The series.append method is deprecated and will be removed from pandas in a future version. Use pandas.concat instead.\n",
            "  return testingData.append(pd.Series(np.zeros(trainingDataSize-len(testingData), dtype=int)))\n",
            "<ipython-input-8-175c2f4f91ba>:23: FutureWarning: The series.append method is deprecated and will be removed from pandas in a future version. Use pandas.concat instead.\n",
            "  return testingData.append(pd.Series(np.zeros(trainingDataSize-len(testingData), dtype=int)))\n",
            "<ipython-input-8-175c2f4f91ba>:23: FutureWarning: The series.append method is deprecated and will be removed from pandas in a future version. Use pandas.concat instead.\n",
            "  return testingData.append(pd.Series(np.zeros(trainingDataSize-len(testingData), dtype=int)))\n",
            "<ipython-input-8-175c2f4f91ba>:23: FutureWarning: The series.append method is deprecated and will be removed from pandas in a future version. Use pandas.concat instead.\n",
            "  return testingData.append(pd.Series(np.zeros(trainingDataSize-len(testingData), dtype=int)))\n",
            "<ipython-input-8-175c2f4f91ba>:23: FutureWarning: The series.append method is deprecated and will be removed from pandas in a future version. Use pandas.concat instead.\n",
            "  return testingData.append(pd.Series(np.zeros(trainingDataSize-len(testingData), dtype=int)))\n",
            "<ipython-input-8-175c2f4f91ba>:23: FutureWarning: The series.append method is deprecated and will be removed from pandas in a future version. Use pandas.concat instead.\n",
            "  return testingData.append(pd.Series(np.zeros(trainingDataSize-len(testingData), dtype=int)))\n",
            "<ipython-input-8-175c2f4f91ba>:23: FutureWarning: The series.append method is deprecated and will be removed from pandas in a future version. Use pandas.concat instead.\n",
            "  return testingData.append(pd.Series(np.zeros(trainingDataSize-len(testingData), dtype=int)))\n",
            "<ipython-input-8-175c2f4f91ba>:23: FutureWarning: The series.append method is deprecated and will be removed from pandas in a future version. Use pandas.concat instead.\n",
            "  return testingData.append(pd.Series(np.zeros(trainingDataSize-len(testingData), dtype=int)))\n",
            "<ipython-input-8-175c2f4f91ba>:23: FutureWarning: The series.append method is deprecated and will be removed from pandas in a future version. Use pandas.concat instead.\n",
            "  return testingData.append(pd.Series(np.zeros(trainingDataSize-len(testingData), dtype=int)))\n"
          ]
        },
        {
          "output_type": "display_data",
          "data": {
            "text/plain": [
              "<IPython.core.display.HTML object>"
            ],
            "text/html": [
              "\n",
              "<style>\n",
              "    /* Turns off some styling */\n",
              "    progress {\n",
              "        /* gets rid of default border in Firefox and Opera. */\n",
              "        border: none;\n",
              "        /* Needs to be in here for Safari polyfill so background images work as expected. */\n",
              "        background-size: auto;\n",
              "    }\n",
              "    progress:not([value]), progress:not([value])::-webkit-progress-bar {\n",
              "        background: repeating-linear-gradient(45deg, #7e7e7e, #7e7e7e 10px, #5c5c5c 10px, #5c5c5c 20px);\n",
              "    }\n",
              "    .progress-bar-interrupted, .progress-bar-interrupted::-webkit-progress-bar {\n",
              "        background: #F44336;\n",
              "    }\n",
              "</style>\n"
            ]
          },
          "metadata": {}
        },
        {
          "output_type": "display_data",
          "data": {
            "text/plain": [
              "<IPython.core.display.HTML object>"
            ],
            "text/html": [
              "\n",
              "    <div>\n",
              "      <progress value='4000' class='' max='4000' style='width:300px; height:20px; vertical-align: middle;'></progress>\n",
              "      100.00% [4000/4000 00:02&lt;00:00]\n",
              "    </div>\n",
              "    "
            ]
          },
          "metadata": {}
        },
        {
          "output_type": "display_data",
          "data": {
            "text/plain": [
              "<IPython.core.display.HTML object>"
            ],
            "text/html": [
              "\n",
              "<style>\n",
              "    /* Turns off some styling */\n",
              "    progress {\n",
              "        /* gets rid of default border in Firefox and Opera. */\n",
              "        border: none;\n",
              "        /* Needs to be in here for Safari polyfill so background images work as expected. */\n",
              "        background-size: auto;\n",
              "    }\n",
              "    progress:not([value]), progress:not([value])::-webkit-progress-bar {\n",
              "        background: repeating-linear-gradient(45deg, #7e7e7e, #7e7e7e 10px, #5c5c5c 10px, #5c5c5c 20px);\n",
              "    }\n",
              "    .progress-bar-interrupted, .progress-bar-interrupted::-webkit-progress-bar {\n",
              "        background: #F44336;\n",
              "    }\n",
              "</style>\n"
            ]
          },
          "metadata": {}
        },
        {
          "output_type": "display_data",
          "data": {
            "text/plain": [
              "<IPython.core.display.HTML object>"
            ],
            "text/html": [
              "\n",
              "    <div>\n",
              "      <progress value='3000' class='' max='3000' style='width:300px; height:20px; vertical-align: middle;'></progress>\n",
              "      100.00% [3000/3000 03:43&lt;00:00 Sampling chain 0, 0 divergences]\n",
              "    </div>\n",
              "    "
            ]
          },
          "metadata": {}
        },
        {
          "output_type": "display_data",
          "data": {
            "text/plain": [
              "<IPython.core.display.HTML object>"
            ],
            "text/html": [
              "\n",
              "<style>\n",
              "    /* Turns off some styling */\n",
              "    progress {\n",
              "        /* gets rid of default border in Firefox and Opera. */\n",
              "        border: none;\n",
              "        /* Needs to be in here for Safari polyfill so background images work as expected. */\n",
              "        background-size: auto;\n",
              "    }\n",
              "    progress:not([value]), progress:not([value])::-webkit-progress-bar {\n",
              "        background: repeating-linear-gradient(45deg, #7e7e7e, #7e7e7e 10px, #5c5c5c 10px, #5c5c5c 20px);\n",
              "    }\n",
              "    .progress-bar-interrupted, .progress-bar-interrupted::-webkit-progress-bar {\n",
              "        background: #F44336;\n",
              "    }\n",
              "</style>\n"
            ]
          },
          "metadata": {}
        },
        {
          "output_type": "display_data",
          "data": {
            "text/plain": [
              "<IPython.core.display.HTML object>"
            ],
            "text/html": [
              "\n",
              "    <div>\n",
              "      <progress value='3000' class='' max='3000' style='width:300px; height:20px; vertical-align: middle;'></progress>\n",
              "      100.00% [3000/3000 03:24&lt;00:00 Sampling chain 1, 0 divergences]\n",
              "    </div>\n",
              "    "
            ]
          },
          "metadata": {}
        },
        {
          "output_type": "display_data",
          "data": {
            "text/plain": [
              "<IPython.core.display.HTML object>"
            ],
            "text/html": [
              "\n",
              "<style>\n",
              "    /* Turns off some styling */\n",
              "    progress {\n",
              "        /* gets rid of default border in Firefox and Opera. */\n",
              "        border: none;\n",
              "        /* Needs to be in here for Safari polyfill so background images work as expected. */\n",
              "        background-size: auto;\n",
              "    }\n",
              "    progress:not([value]), progress:not([value])::-webkit-progress-bar {\n",
              "        background: repeating-linear-gradient(45deg, #7e7e7e, #7e7e7e 10px, #5c5c5c 10px, #5c5c5c 20px);\n",
              "    }\n",
              "    .progress-bar-interrupted, .progress-bar-interrupted::-webkit-progress-bar {\n",
              "        background: #F44336;\n",
              "    }\n",
              "</style>\n"
            ]
          },
          "metadata": {}
        },
        {
          "output_type": "display_data",
          "data": {
            "text/plain": [
              "<IPython.core.display.HTML object>"
            ],
            "text/html": [
              "\n",
              "    <div>\n",
              "      <progress value='3000' class='' max='3000' style='width:300px; height:20px; vertical-align: middle;'></progress>\n",
              "      100.00% [3000/3000 01:55&lt;00:00 Sampling chain 0, 0 divergences]\n",
              "    </div>\n",
              "    "
            ]
          },
          "metadata": {}
        },
        {
          "output_type": "display_data",
          "data": {
            "text/plain": [
              "<IPython.core.display.HTML object>"
            ],
            "text/html": [
              "\n",
              "<style>\n",
              "    /* Turns off some styling */\n",
              "    progress {\n",
              "        /* gets rid of default border in Firefox and Opera. */\n",
              "        border: none;\n",
              "        /* Needs to be in here for Safari polyfill so background images work as expected. */\n",
              "        background-size: auto;\n",
              "    }\n",
              "    progress:not([value]), progress:not([value])::-webkit-progress-bar {\n",
              "        background: repeating-linear-gradient(45deg, #7e7e7e, #7e7e7e 10px, #5c5c5c 10px, #5c5c5c 20px);\n",
              "    }\n",
              "    .progress-bar-interrupted, .progress-bar-interrupted::-webkit-progress-bar {\n",
              "        background: #F44336;\n",
              "    }\n",
              "</style>\n"
            ]
          },
          "metadata": {}
        },
        {
          "output_type": "display_data",
          "data": {
            "text/plain": [
              "<IPython.core.display.HTML object>"
            ],
            "text/html": [
              "\n",
              "    <div>\n",
              "      <progress value='3000' class='' max='3000' style='width:300px; height:20px; vertical-align: middle;'></progress>\n",
              "      100.00% [3000/3000 01:58&lt;00:00 Sampling chain 1, 0 divergences]\n",
              "    </div>\n",
              "    "
            ]
          },
          "metadata": {}
        },
        {
          "output_type": "stream",
          "name": "stderr",
          "text": [
            "<ipython-input-8-175c2f4f91ba>:23: FutureWarning: The series.append method is deprecated and will be removed from pandas in a future version. Use pandas.concat instead.\n",
            "  return testingData.append(pd.Series(np.zeros(trainingDataSize-len(testingData), dtype=int)))\n",
            "<ipython-input-8-175c2f4f91ba>:23: FutureWarning: The series.append method is deprecated and will be removed from pandas in a future version. Use pandas.concat instead.\n",
            "  return testingData.append(pd.Series(np.zeros(trainingDataSize-len(testingData), dtype=int)))\n",
            "<ipython-input-8-175c2f4f91ba>:23: FutureWarning: The series.append method is deprecated and will be removed from pandas in a future version. Use pandas.concat instead.\n",
            "  return testingData.append(pd.Series(np.zeros(trainingDataSize-len(testingData), dtype=int)))\n",
            "<ipython-input-8-175c2f4f91ba>:23: FutureWarning: The series.append method is deprecated and will be removed from pandas in a future version. Use pandas.concat instead.\n",
            "  return testingData.append(pd.Series(np.zeros(trainingDataSize-len(testingData), dtype=int)))\n",
            "<ipython-input-8-175c2f4f91ba>:23: FutureWarning: The series.append method is deprecated and will be removed from pandas in a future version. Use pandas.concat instead.\n",
            "  return testingData.append(pd.Series(np.zeros(trainingDataSize-len(testingData), dtype=int)))\n",
            "<ipython-input-8-175c2f4f91ba>:23: FutureWarning: The series.append method is deprecated and will be removed from pandas in a future version. Use pandas.concat instead.\n",
            "  return testingData.append(pd.Series(np.zeros(trainingDataSize-len(testingData), dtype=int)))\n",
            "<ipython-input-8-175c2f4f91ba>:23: FutureWarning: The series.append method is deprecated and will be removed from pandas in a future version. Use pandas.concat instead.\n",
            "  return testingData.append(pd.Series(np.zeros(trainingDataSize-len(testingData), dtype=int)))\n",
            "<ipython-input-8-175c2f4f91ba>:23: FutureWarning: The series.append method is deprecated and will be removed from pandas in a future version. Use pandas.concat instead.\n",
            "  return testingData.append(pd.Series(np.zeros(trainingDataSize-len(testingData), dtype=int)))\n",
            "<ipython-input-8-175c2f4f91ba>:23: FutureWarning: The series.append method is deprecated and will be removed from pandas in a future version. Use pandas.concat instead.\n",
            "  return testingData.append(pd.Series(np.zeros(trainingDataSize-len(testingData), dtype=int)))\n",
            "<ipython-input-8-175c2f4f91ba>:23: FutureWarning: The series.append method is deprecated and will be removed from pandas in a future version. Use pandas.concat instead.\n",
            "  return testingData.append(pd.Series(np.zeros(trainingDataSize-len(testingData), dtype=int)))\n",
            "<ipython-input-8-175c2f4f91ba>:23: FutureWarning: The series.append method is deprecated and will be removed from pandas in a future version. Use pandas.concat instead.\n",
            "  return testingData.append(pd.Series(np.zeros(trainingDataSize-len(testingData), dtype=int)))\n",
            "<ipython-input-8-175c2f4f91ba>:23: FutureWarning: The series.append method is deprecated and will be removed from pandas in a future version. Use pandas.concat instead.\n",
            "  return testingData.append(pd.Series(np.zeros(trainingDataSize-len(testingData), dtype=int)))\n"
          ]
        },
        {
          "output_type": "display_data",
          "data": {
            "text/plain": [
              "<IPython.core.display.HTML object>"
            ],
            "text/html": [
              "\n",
              "<style>\n",
              "    /* Turns off some styling */\n",
              "    progress {\n",
              "        /* gets rid of default border in Firefox and Opera. */\n",
              "        border: none;\n",
              "        /* Needs to be in here for Safari polyfill so background images work as expected. */\n",
              "        background-size: auto;\n",
              "    }\n",
              "    progress:not([value]), progress:not([value])::-webkit-progress-bar {\n",
              "        background: repeating-linear-gradient(45deg, #7e7e7e, #7e7e7e 10px, #5c5c5c 10px, #5c5c5c 20px);\n",
              "    }\n",
              "    .progress-bar-interrupted, .progress-bar-interrupted::-webkit-progress-bar {\n",
              "        background: #F44336;\n",
              "    }\n",
              "</style>\n"
            ]
          },
          "metadata": {}
        },
        {
          "output_type": "display_data",
          "data": {
            "text/plain": [
              "<IPython.core.display.HTML object>"
            ],
            "text/html": [
              "\n",
              "    <div>\n",
              "      <progress value='4000' class='' max='4000' style='width:300px; height:20px; vertical-align: middle;'></progress>\n",
              "      100.00% [4000/4000 00:04&lt;00:00]\n",
              "    </div>\n",
              "    "
            ]
          },
          "metadata": {}
        },
        {
          "output_type": "display_data",
          "data": {
            "text/plain": [
              "<IPython.core.display.HTML object>"
            ],
            "text/html": [
              "\n",
              "<style>\n",
              "    /* Turns off some styling */\n",
              "    progress {\n",
              "        /* gets rid of default border in Firefox and Opera. */\n",
              "        border: none;\n",
              "        /* Needs to be in here for Safari polyfill so background images work as expected. */\n",
              "        background-size: auto;\n",
              "    }\n",
              "    progress:not([value]), progress:not([value])::-webkit-progress-bar {\n",
              "        background: repeating-linear-gradient(45deg, #7e7e7e, #7e7e7e 10px, #5c5c5c 10px, #5c5c5c 20px);\n",
              "    }\n",
              "    .progress-bar-interrupted, .progress-bar-interrupted::-webkit-progress-bar {\n",
              "        background: #F44336;\n",
              "    }\n",
              "</style>\n"
            ]
          },
          "metadata": {}
        },
        {
          "output_type": "display_data",
          "data": {
            "text/plain": [
              "<IPython.core.display.HTML object>"
            ],
            "text/html": [
              "\n",
              "    <div>\n",
              "      <progress value='3000' class='' max='3000' style='width:300px; height:20px; vertical-align: middle;'></progress>\n",
              "      100.00% [3000/3000 02:20&lt;00:00 Sampling chain 0, 0 divergences]\n",
              "    </div>\n",
              "    "
            ]
          },
          "metadata": {}
        },
        {
          "output_type": "display_data",
          "data": {
            "text/plain": [
              "<IPython.core.display.HTML object>"
            ],
            "text/html": [
              "\n",
              "<style>\n",
              "    /* Turns off some styling */\n",
              "    progress {\n",
              "        /* gets rid of default border in Firefox and Opera. */\n",
              "        border: none;\n",
              "        /* Needs to be in here for Safari polyfill so background images work as expected. */\n",
              "        background-size: auto;\n",
              "    }\n",
              "    progress:not([value]), progress:not([value])::-webkit-progress-bar {\n",
              "        background: repeating-linear-gradient(45deg, #7e7e7e, #7e7e7e 10px, #5c5c5c 10px, #5c5c5c 20px);\n",
              "    }\n",
              "    .progress-bar-interrupted, .progress-bar-interrupted::-webkit-progress-bar {\n",
              "        background: #F44336;\n",
              "    }\n",
              "</style>\n"
            ]
          },
          "metadata": {}
        },
        {
          "output_type": "display_data",
          "data": {
            "text/plain": [
              "<IPython.core.display.HTML object>"
            ],
            "text/html": [
              "\n",
              "    <div>\n",
              "      <progress value='3000' class='' max='3000' style='width:300px; height:20px; vertical-align: middle;'></progress>\n",
              "      100.00% [3000/3000 02:22&lt;00:00 Sampling chain 1, 0 divergences]\n",
              "    </div>\n",
              "    "
            ]
          },
          "metadata": {}
        },
        {
          "output_type": "display_data",
          "data": {
            "text/plain": [
              "<IPython.core.display.HTML object>"
            ],
            "text/html": [
              "\n",
              "<style>\n",
              "    /* Turns off some styling */\n",
              "    progress {\n",
              "        /* gets rid of default border in Firefox and Opera. */\n",
              "        border: none;\n",
              "        /* Needs to be in here for Safari polyfill so background images work as expected. */\n",
              "        background-size: auto;\n",
              "    }\n",
              "    progress:not([value]), progress:not([value])::-webkit-progress-bar {\n",
              "        background: repeating-linear-gradient(45deg, #7e7e7e, #7e7e7e 10px, #5c5c5c 10px, #5c5c5c 20px);\n",
              "    }\n",
              "    .progress-bar-interrupted, .progress-bar-interrupted::-webkit-progress-bar {\n",
              "        background: #F44336;\n",
              "    }\n",
              "</style>\n"
            ]
          },
          "metadata": {}
        },
        {
          "output_type": "display_data",
          "data": {
            "text/plain": [
              "<IPython.core.display.HTML object>"
            ],
            "text/html": [
              "\n",
              "    <div>\n",
              "      <progress value='3000' class='' max='3000' style='width:300px; height:20px; vertical-align: middle;'></progress>\n",
              "      100.00% [3000/3000 01:59&lt;00:00 Sampling chain 0, 0 divergences]\n",
              "    </div>\n",
              "    "
            ]
          },
          "metadata": {}
        },
        {
          "output_type": "display_data",
          "data": {
            "text/plain": [
              "<IPython.core.display.HTML object>"
            ],
            "text/html": [
              "\n",
              "<style>\n",
              "    /* Turns off some styling */\n",
              "    progress {\n",
              "        /* gets rid of default border in Firefox and Opera. */\n",
              "        border: none;\n",
              "        /* Needs to be in here for Safari polyfill so background images work as expected. */\n",
              "        background-size: auto;\n",
              "    }\n",
              "    progress:not([value]), progress:not([value])::-webkit-progress-bar {\n",
              "        background: repeating-linear-gradient(45deg, #7e7e7e, #7e7e7e 10px, #5c5c5c 10px, #5c5c5c 20px);\n",
              "    }\n",
              "    .progress-bar-interrupted, .progress-bar-interrupted::-webkit-progress-bar {\n",
              "        background: #F44336;\n",
              "    }\n",
              "</style>\n"
            ]
          },
          "metadata": {}
        },
        {
          "output_type": "display_data",
          "data": {
            "text/plain": [
              "<IPython.core.display.HTML object>"
            ],
            "text/html": [
              "\n",
              "    <div>\n",
              "      <progress value='3000' class='' max='3000' style='width:300px; height:20px; vertical-align: middle;'></progress>\n",
              "      100.00% [3000/3000 01:59&lt;00:00 Sampling chain 1, 0 divergences]\n",
              "    </div>\n",
              "    "
            ]
          },
          "metadata": {}
        },
        {
          "output_type": "stream",
          "name": "stderr",
          "text": [
            "<ipython-input-8-175c2f4f91ba>:23: FutureWarning: The series.append method is deprecated and will be removed from pandas in a future version. Use pandas.concat instead.\n",
            "  return testingData.append(pd.Series(np.zeros(trainingDataSize-len(testingData), dtype=int)))\n",
            "<ipython-input-8-175c2f4f91ba>:23: FutureWarning: The series.append method is deprecated and will be removed from pandas in a future version. Use pandas.concat instead.\n",
            "  return testingData.append(pd.Series(np.zeros(trainingDataSize-len(testingData), dtype=int)))\n",
            "<ipython-input-8-175c2f4f91ba>:23: FutureWarning: The series.append method is deprecated and will be removed from pandas in a future version. Use pandas.concat instead.\n",
            "  return testingData.append(pd.Series(np.zeros(trainingDataSize-len(testingData), dtype=int)))\n",
            "<ipython-input-8-175c2f4f91ba>:23: FutureWarning: The series.append method is deprecated and will be removed from pandas in a future version. Use pandas.concat instead.\n",
            "  return testingData.append(pd.Series(np.zeros(trainingDataSize-len(testingData), dtype=int)))\n",
            "<ipython-input-8-175c2f4f91ba>:23: FutureWarning: The series.append method is deprecated and will be removed from pandas in a future version. Use pandas.concat instead.\n",
            "  return testingData.append(pd.Series(np.zeros(trainingDataSize-len(testingData), dtype=int)))\n",
            "<ipython-input-8-175c2f4f91ba>:23: FutureWarning: The series.append method is deprecated and will be removed from pandas in a future version. Use pandas.concat instead.\n",
            "  return testingData.append(pd.Series(np.zeros(trainingDataSize-len(testingData), dtype=int)))\n",
            "<ipython-input-8-175c2f4f91ba>:23: FutureWarning: The series.append method is deprecated and will be removed from pandas in a future version. Use pandas.concat instead.\n",
            "  return testingData.append(pd.Series(np.zeros(trainingDataSize-len(testingData), dtype=int)))\n",
            "<ipython-input-8-175c2f4f91ba>:23: FutureWarning: The series.append method is deprecated and will be removed from pandas in a future version. Use pandas.concat instead.\n",
            "  return testingData.append(pd.Series(np.zeros(trainingDataSize-len(testingData), dtype=int)))\n",
            "<ipython-input-8-175c2f4f91ba>:23: FutureWarning: The series.append method is deprecated and will be removed from pandas in a future version. Use pandas.concat instead.\n",
            "  return testingData.append(pd.Series(np.zeros(trainingDataSize-len(testingData), dtype=int)))\n",
            "<ipython-input-8-175c2f4f91ba>:23: FutureWarning: The series.append method is deprecated and will be removed from pandas in a future version. Use pandas.concat instead.\n",
            "  return testingData.append(pd.Series(np.zeros(trainingDataSize-len(testingData), dtype=int)))\n",
            "<ipython-input-8-175c2f4f91ba>:23: FutureWarning: The series.append method is deprecated and will be removed from pandas in a future version. Use pandas.concat instead.\n",
            "  return testingData.append(pd.Series(np.zeros(trainingDataSize-len(testingData), dtype=int)))\n",
            "<ipython-input-8-175c2f4f91ba>:23: FutureWarning: The series.append method is deprecated and will be removed from pandas in a future version. Use pandas.concat instead.\n",
            "  return testingData.append(pd.Series(np.zeros(trainingDataSize-len(testingData), dtype=int)))\n"
          ]
        },
        {
          "output_type": "display_data",
          "data": {
            "text/plain": [
              "<IPython.core.display.HTML object>"
            ],
            "text/html": [
              "\n",
              "<style>\n",
              "    /* Turns off some styling */\n",
              "    progress {\n",
              "        /* gets rid of default border in Firefox and Opera. */\n",
              "        border: none;\n",
              "        /* Needs to be in here for Safari polyfill so background images work as expected. */\n",
              "        background-size: auto;\n",
              "    }\n",
              "    progress:not([value]), progress:not([value])::-webkit-progress-bar {\n",
              "        background: repeating-linear-gradient(45deg, #7e7e7e, #7e7e7e 10px, #5c5c5c 10px, #5c5c5c 20px);\n",
              "    }\n",
              "    .progress-bar-interrupted, .progress-bar-interrupted::-webkit-progress-bar {\n",
              "        background: #F44336;\n",
              "    }\n",
              "</style>\n"
            ]
          },
          "metadata": {}
        },
        {
          "output_type": "display_data",
          "data": {
            "text/plain": [
              "<IPython.core.display.HTML object>"
            ],
            "text/html": [
              "\n",
              "    <div>\n",
              "      <progress value='4000' class='' max='4000' style='width:300px; height:20px; vertical-align: middle;'></progress>\n",
              "      100.00% [4000/4000 00:02&lt;00:00]\n",
              "    </div>\n",
              "    "
            ]
          },
          "metadata": {}
        },
        {
          "output_type": "display_data",
          "data": {
            "text/plain": [
              "<IPython.core.display.HTML object>"
            ],
            "text/html": [
              "\n",
              "<style>\n",
              "    /* Turns off some styling */\n",
              "    progress {\n",
              "        /* gets rid of default border in Firefox and Opera. */\n",
              "        border: none;\n",
              "        /* Needs to be in here for Safari polyfill so background images work as expected. */\n",
              "        background-size: auto;\n",
              "    }\n",
              "    progress:not([value]), progress:not([value])::-webkit-progress-bar {\n",
              "        background: repeating-linear-gradient(45deg, #7e7e7e, #7e7e7e 10px, #5c5c5c 10px, #5c5c5c 20px);\n",
              "    }\n",
              "    .progress-bar-interrupted, .progress-bar-interrupted::-webkit-progress-bar {\n",
              "        background: #F44336;\n",
              "    }\n",
              "</style>\n"
            ]
          },
          "metadata": {}
        },
        {
          "output_type": "display_data",
          "data": {
            "text/plain": [
              "<IPython.core.display.HTML object>"
            ],
            "text/html": [
              "\n",
              "    <div>\n",
              "      <progress value='3000' class='' max='3000' style='width:300px; height:20px; vertical-align: middle;'></progress>\n",
              "      100.00% [3000/3000 02:19&lt;00:00 Sampling chain 0, 0 divergences]\n",
              "    </div>\n",
              "    "
            ]
          },
          "metadata": {}
        },
        {
          "output_type": "display_data",
          "data": {
            "text/plain": [
              "<IPython.core.display.HTML object>"
            ],
            "text/html": [
              "\n",
              "<style>\n",
              "    /* Turns off some styling */\n",
              "    progress {\n",
              "        /* gets rid of default border in Firefox and Opera. */\n",
              "        border: none;\n",
              "        /* Needs to be in here for Safari polyfill so background images work as expected. */\n",
              "        background-size: auto;\n",
              "    }\n",
              "    progress:not([value]), progress:not([value])::-webkit-progress-bar {\n",
              "        background: repeating-linear-gradient(45deg, #7e7e7e, #7e7e7e 10px, #5c5c5c 10px, #5c5c5c 20px);\n",
              "    }\n",
              "    .progress-bar-interrupted, .progress-bar-interrupted::-webkit-progress-bar {\n",
              "        background: #F44336;\n",
              "    }\n",
              "</style>\n"
            ]
          },
          "metadata": {}
        },
        {
          "output_type": "display_data",
          "data": {
            "text/plain": [
              "<IPython.core.display.HTML object>"
            ],
            "text/html": [
              "\n",
              "    <div>\n",
              "      <progress value='3000' class='' max='3000' style='width:300px; height:20px; vertical-align: middle;'></progress>\n",
              "      100.00% [3000/3000 02:21&lt;00:00 Sampling chain 1, 0 divergences]\n",
              "    </div>\n",
              "    "
            ]
          },
          "metadata": {}
        },
        {
          "output_type": "display_data",
          "data": {
            "text/plain": [
              "<IPython.core.display.HTML object>"
            ],
            "text/html": [
              "\n",
              "<style>\n",
              "    /* Turns off some styling */\n",
              "    progress {\n",
              "        /* gets rid of default border in Firefox and Opera. */\n",
              "        border: none;\n",
              "        /* Needs to be in here for Safari polyfill so background images work as expected. */\n",
              "        background-size: auto;\n",
              "    }\n",
              "    progress:not([value]), progress:not([value])::-webkit-progress-bar {\n",
              "        background: repeating-linear-gradient(45deg, #7e7e7e, #7e7e7e 10px, #5c5c5c 10px, #5c5c5c 20px);\n",
              "    }\n",
              "    .progress-bar-interrupted, .progress-bar-interrupted::-webkit-progress-bar {\n",
              "        background: #F44336;\n",
              "    }\n",
              "</style>\n"
            ]
          },
          "metadata": {}
        },
        {
          "output_type": "display_data",
          "data": {
            "text/plain": [
              "<IPython.core.display.HTML object>"
            ],
            "text/html": [
              "\n",
              "    <div>\n",
              "      <progress value='3000' class='' max='3000' style='width:300px; height:20px; vertical-align: middle;'></progress>\n",
              "      100.00% [3000/3000 01:52&lt;00:00 Sampling chain 0, 0 divergences]\n",
              "    </div>\n",
              "    "
            ]
          },
          "metadata": {}
        },
        {
          "output_type": "display_data",
          "data": {
            "text/plain": [
              "<IPython.core.display.HTML object>"
            ],
            "text/html": [
              "\n",
              "<style>\n",
              "    /* Turns off some styling */\n",
              "    progress {\n",
              "        /* gets rid of default border in Firefox and Opera. */\n",
              "        border: none;\n",
              "        /* Needs to be in here for Safari polyfill so background images work as expected. */\n",
              "        background-size: auto;\n",
              "    }\n",
              "    progress:not([value]), progress:not([value])::-webkit-progress-bar {\n",
              "        background: repeating-linear-gradient(45deg, #7e7e7e, #7e7e7e 10px, #5c5c5c 10px, #5c5c5c 20px);\n",
              "    }\n",
              "    .progress-bar-interrupted, .progress-bar-interrupted::-webkit-progress-bar {\n",
              "        background: #F44336;\n",
              "    }\n",
              "</style>\n"
            ]
          },
          "metadata": {}
        },
        {
          "output_type": "display_data",
          "data": {
            "text/plain": [
              "<IPython.core.display.HTML object>"
            ],
            "text/html": [
              "\n",
              "    <div>\n",
              "      <progress value='3000' class='' max='3000' style='width:300px; height:20px; vertical-align: middle;'></progress>\n",
              "      100.00% [3000/3000 01:51&lt;00:00 Sampling chain 1, 0 divergences]\n",
              "    </div>\n",
              "    "
            ]
          },
          "metadata": {}
        },
        {
          "output_type": "stream",
          "name": "stderr",
          "text": [
            "<ipython-input-8-175c2f4f91ba>:23: FutureWarning: The series.append method is deprecated and will be removed from pandas in a future version. Use pandas.concat instead.\n",
            "  return testingData.append(pd.Series(np.zeros(trainingDataSize-len(testingData), dtype=int)))\n",
            "<ipython-input-8-175c2f4f91ba>:23: FutureWarning: The series.append method is deprecated and will be removed from pandas in a future version. Use pandas.concat instead.\n",
            "  return testingData.append(pd.Series(np.zeros(trainingDataSize-len(testingData), dtype=int)))\n",
            "<ipython-input-8-175c2f4f91ba>:23: FutureWarning: The series.append method is deprecated and will be removed from pandas in a future version. Use pandas.concat instead.\n",
            "  return testingData.append(pd.Series(np.zeros(trainingDataSize-len(testingData), dtype=int)))\n",
            "<ipython-input-8-175c2f4f91ba>:23: FutureWarning: The series.append method is deprecated and will be removed from pandas in a future version. Use pandas.concat instead.\n",
            "  return testingData.append(pd.Series(np.zeros(trainingDataSize-len(testingData), dtype=int)))\n",
            "<ipython-input-8-175c2f4f91ba>:23: FutureWarning: The series.append method is deprecated and will be removed from pandas in a future version. Use pandas.concat instead.\n",
            "  return testingData.append(pd.Series(np.zeros(trainingDataSize-len(testingData), dtype=int)))\n",
            "<ipython-input-8-175c2f4f91ba>:23: FutureWarning: The series.append method is deprecated and will be removed from pandas in a future version. Use pandas.concat instead.\n",
            "  return testingData.append(pd.Series(np.zeros(trainingDataSize-len(testingData), dtype=int)))\n",
            "<ipython-input-8-175c2f4f91ba>:23: FutureWarning: The series.append method is deprecated and will be removed from pandas in a future version. Use pandas.concat instead.\n",
            "  return testingData.append(pd.Series(np.zeros(trainingDataSize-len(testingData), dtype=int)))\n",
            "<ipython-input-8-175c2f4f91ba>:23: FutureWarning: The series.append method is deprecated and will be removed from pandas in a future version. Use pandas.concat instead.\n",
            "  return testingData.append(pd.Series(np.zeros(trainingDataSize-len(testingData), dtype=int)))\n",
            "<ipython-input-8-175c2f4f91ba>:23: FutureWarning: The series.append method is deprecated and will be removed from pandas in a future version. Use pandas.concat instead.\n",
            "  return testingData.append(pd.Series(np.zeros(trainingDataSize-len(testingData), dtype=int)))\n",
            "<ipython-input-8-175c2f4f91ba>:23: FutureWarning: The series.append method is deprecated and will be removed from pandas in a future version. Use pandas.concat instead.\n",
            "  return testingData.append(pd.Series(np.zeros(trainingDataSize-len(testingData), dtype=int)))\n",
            "<ipython-input-8-175c2f4f91ba>:23: FutureWarning: The series.append method is deprecated and will be removed from pandas in a future version. Use pandas.concat instead.\n",
            "  return testingData.append(pd.Series(np.zeros(trainingDataSize-len(testingData), dtype=int)))\n",
            "<ipython-input-8-175c2f4f91ba>:23: FutureWarning: The series.append method is deprecated and will be removed from pandas in a future version. Use pandas.concat instead.\n",
            "  return testingData.append(pd.Series(np.zeros(trainingDataSize-len(testingData), dtype=int)))\n"
          ]
        },
        {
          "output_type": "display_data",
          "data": {
            "text/plain": [
              "<IPython.core.display.HTML object>"
            ],
            "text/html": [
              "\n",
              "<style>\n",
              "    /* Turns off some styling */\n",
              "    progress {\n",
              "        /* gets rid of default border in Firefox and Opera. */\n",
              "        border: none;\n",
              "        /* Needs to be in here for Safari polyfill so background images work as expected. */\n",
              "        background-size: auto;\n",
              "    }\n",
              "    progress:not([value]), progress:not([value])::-webkit-progress-bar {\n",
              "        background: repeating-linear-gradient(45deg, #7e7e7e, #7e7e7e 10px, #5c5c5c 10px, #5c5c5c 20px);\n",
              "    }\n",
              "    .progress-bar-interrupted, .progress-bar-interrupted::-webkit-progress-bar {\n",
              "        background: #F44336;\n",
              "    }\n",
              "</style>\n"
            ]
          },
          "metadata": {}
        },
        {
          "output_type": "display_data",
          "data": {
            "text/plain": [
              "<IPython.core.display.HTML object>"
            ],
            "text/html": [
              "\n",
              "    <div>\n",
              "      <progress value='4000' class='' max='4000' style='width:300px; height:20px; vertical-align: middle;'></progress>\n",
              "      100.00% [4000/4000 00:03&lt;00:00]\n",
              "    </div>\n",
              "    "
            ]
          },
          "metadata": {}
        },
        {
          "output_type": "display_data",
          "data": {
            "text/plain": [
              "<IPython.core.display.HTML object>"
            ],
            "text/html": [
              "\n",
              "<style>\n",
              "    /* Turns off some styling */\n",
              "    progress {\n",
              "        /* gets rid of default border in Firefox and Opera. */\n",
              "        border: none;\n",
              "        /* Needs to be in here for Safari polyfill so background images work as expected. */\n",
              "        background-size: auto;\n",
              "    }\n",
              "    progress:not([value]), progress:not([value])::-webkit-progress-bar {\n",
              "        background: repeating-linear-gradient(45deg, #7e7e7e, #7e7e7e 10px, #5c5c5c 10px, #5c5c5c 20px);\n",
              "    }\n",
              "    .progress-bar-interrupted, .progress-bar-interrupted::-webkit-progress-bar {\n",
              "        background: #F44336;\n",
              "    }\n",
              "</style>\n"
            ]
          },
          "metadata": {}
        },
        {
          "output_type": "display_data",
          "data": {
            "text/plain": [
              "<IPython.core.display.HTML object>"
            ],
            "text/html": [
              "\n",
              "    <div>\n",
              "      <progress value='3000' class='' max='3000' style='width:300px; height:20px; vertical-align: middle;'></progress>\n",
              "      100.00% [3000/3000 02:13&lt;00:00 Sampling chain 0, 0 divergences]\n",
              "    </div>\n",
              "    "
            ]
          },
          "metadata": {}
        },
        {
          "output_type": "display_data",
          "data": {
            "text/plain": [
              "<IPython.core.display.HTML object>"
            ],
            "text/html": [
              "\n",
              "<style>\n",
              "    /* Turns off some styling */\n",
              "    progress {\n",
              "        /* gets rid of default border in Firefox and Opera. */\n",
              "        border: none;\n",
              "        /* Needs to be in here for Safari polyfill so background images work as expected. */\n",
              "        background-size: auto;\n",
              "    }\n",
              "    progress:not([value]), progress:not([value])::-webkit-progress-bar {\n",
              "        background: repeating-linear-gradient(45deg, #7e7e7e, #7e7e7e 10px, #5c5c5c 10px, #5c5c5c 20px);\n",
              "    }\n",
              "    .progress-bar-interrupted, .progress-bar-interrupted::-webkit-progress-bar {\n",
              "        background: #F44336;\n",
              "    }\n",
              "</style>\n"
            ]
          },
          "metadata": {}
        },
        {
          "output_type": "display_data",
          "data": {
            "text/plain": [
              "<IPython.core.display.HTML object>"
            ],
            "text/html": [
              "\n",
              "    <div>\n",
              "      <progress value='3000' class='' max='3000' style='width:300px; height:20px; vertical-align: middle;'></progress>\n",
              "      100.00% [3000/3000 02:00&lt;00:00 Sampling chain 1, 0 divergences]\n",
              "    </div>\n",
              "    "
            ]
          },
          "metadata": {}
        },
        {
          "output_type": "display_data",
          "data": {
            "text/plain": [
              "<IPython.core.display.HTML object>"
            ],
            "text/html": [
              "\n",
              "<style>\n",
              "    /* Turns off some styling */\n",
              "    progress {\n",
              "        /* gets rid of default border in Firefox and Opera. */\n",
              "        border: none;\n",
              "        /* Needs to be in here for Safari polyfill so background images work as expected. */\n",
              "        background-size: auto;\n",
              "    }\n",
              "    progress:not([value]), progress:not([value])::-webkit-progress-bar {\n",
              "        background: repeating-linear-gradient(45deg, #7e7e7e, #7e7e7e 10px, #5c5c5c 10px, #5c5c5c 20px);\n",
              "    }\n",
              "    .progress-bar-interrupted, .progress-bar-interrupted::-webkit-progress-bar {\n",
              "        background: #F44336;\n",
              "    }\n",
              "</style>\n"
            ]
          },
          "metadata": {}
        },
        {
          "output_type": "display_data",
          "data": {
            "text/plain": [
              "<IPython.core.display.HTML object>"
            ],
            "text/html": [
              "\n",
              "    <div>\n",
              "      <progress value='3000' class='' max='3000' style='width:300px; height:20px; vertical-align: middle;'></progress>\n",
              "      100.00% [3000/3000 01:54&lt;00:00 Sampling chain 0, 0 divergences]\n",
              "    </div>\n",
              "    "
            ]
          },
          "metadata": {}
        },
        {
          "output_type": "display_data",
          "data": {
            "text/plain": [
              "<IPython.core.display.HTML object>"
            ],
            "text/html": [
              "\n",
              "<style>\n",
              "    /* Turns off some styling */\n",
              "    progress {\n",
              "        /* gets rid of default border in Firefox and Opera. */\n",
              "        border: none;\n",
              "        /* Needs to be in here for Safari polyfill so background images work as expected. */\n",
              "        background-size: auto;\n",
              "    }\n",
              "    progress:not([value]), progress:not([value])::-webkit-progress-bar {\n",
              "        background: repeating-linear-gradient(45deg, #7e7e7e, #7e7e7e 10px, #5c5c5c 10px, #5c5c5c 20px);\n",
              "    }\n",
              "    .progress-bar-interrupted, .progress-bar-interrupted::-webkit-progress-bar {\n",
              "        background: #F44336;\n",
              "    }\n",
              "</style>\n"
            ]
          },
          "metadata": {}
        },
        {
          "output_type": "display_data",
          "data": {
            "text/plain": [
              "<IPython.core.display.HTML object>"
            ],
            "text/html": [
              "\n",
              "    <div>\n",
              "      <progress value='3000' class='' max='3000' style='width:300px; height:20px; vertical-align: middle;'></progress>\n",
              "      100.00% [3000/3000 02:08&lt;00:00 Sampling chain 1, 0 divergences]\n",
              "    </div>\n",
              "    "
            ]
          },
          "metadata": {}
        },
        {
          "output_type": "stream",
          "name": "stderr",
          "text": [
            "<ipython-input-8-175c2f4f91ba>:23: FutureWarning: The series.append method is deprecated and will be removed from pandas in a future version. Use pandas.concat instead.\n",
            "  return testingData.append(pd.Series(np.zeros(trainingDataSize-len(testingData), dtype=int)))\n",
            "<ipython-input-8-175c2f4f91ba>:23: FutureWarning: The series.append method is deprecated and will be removed from pandas in a future version. Use pandas.concat instead.\n",
            "  return testingData.append(pd.Series(np.zeros(trainingDataSize-len(testingData), dtype=int)))\n",
            "<ipython-input-8-175c2f4f91ba>:23: FutureWarning: The series.append method is deprecated and will be removed from pandas in a future version. Use pandas.concat instead.\n",
            "  return testingData.append(pd.Series(np.zeros(trainingDataSize-len(testingData), dtype=int)))\n",
            "<ipython-input-8-175c2f4f91ba>:23: FutureWarning: The series.append method is deprecated and will be removed from pandas in a future version. Use pandas.concat instead.\n",
            "  return testingData.append(pd.Series(np.zeros(trainingDataSize-len(testingData), dtype=int)))\n",
            "<ipython-input-8-175c2f4f91ba>:23: FutureWarning: The series.append method is deprecated and will be removed from pandas in a future version. Use pandas.concat instead.\n",
            "  return testingData.append(pd.Series(np.zeros(trainingDataSize-len(testingData), dtype=int)))\n",
            "<ipython-input-8-175c2f4f91ba>:23: FutureWarning: The series.append method is deprecated and will be removed from pandas in a future version. Use pandas.concat instead.\n",
            "  return testingData.append(pd.Series(np.zeros(trainingDataSize-len(testingData), dtype=int)))\n",
            "<ipython-input-8-175c2f4f91ba>:23: FutureWarning: The series.append method is deprecated and will be removed from pandas in a future version. Use pandas.concat instead.\n",
            "  return testingData.append(pd.Series(np.zeros(trainingDataSize-len(testingData), dtype=int)))\n",
            "<ipython-input-8-175c2f4f91ba>:23: FutureWarning: The series.append method is deprecated and will be removed from pandas in a future version. Use pandas.concat instead.\n",
            "  return testingData.append(pd.Series(np.zeros(trainingDataSize-len(testingData), dtype=int)))\n",
            "<ipython-input-8-175c2f4f91ba>:23: FutureWarning: The series.append method is deprecated and will be removed from pandas in a future version. Use pandas.concat instead.\n",
            "  return testingData.append(pd.Series(np.zeros(trainingDataSize-len(testingData), dtype=int)))\n",
            "<ipython-input-8-175c2f4f91ba>:23: FutureWarning: The series.append method is deprecated and will be removed from pandas in a future version. Use pandas.concat instead.\n",
            "  return testingData.append(pd.Series(np.zeros(trainingDataSize-len(testingData), dtype=int)))\n",
            "<ipython-input-8-175c2f4f91ba>:23: FutureWarning: The series.append method is deprecated and will be removed from pandas in a future version. Use pandas.concat instead.\n",
            "  return testingData.append(pd.Series(np.zeros(trainingDataSize-len(testingData), dtype=int)))\n",
            "<ipython-input-8-175c2f4f91ba>:23: FutureWarning: The series.append method is deprecated and will be removed from pandas in a future version. Use pandas.concat instead.\n",
            "  return testingData.append(pd.Series(np.zeros(trainingDataSize-len(testingData), dtype=int)))\n"
          ]
        },
        {
          "output_type": "display_data",
          "data": {
            "text/plain": [
              "<IPython.core.display.HTML object>"
            ],
            "text/html": [
              "\n",
              "<style>\n",
              "    /* Turns off some styling */\n",
              "    progress {\n",
              "        /* gets rid of default border in Firefox and Opera. */\n",
              "        border: none;\n",
              "        /* Needs to be in here for Safari polyfill so background images work as expected. */\n",
              "        background-size: auto;\n",
              "    }\n",
              "    progress:not([value]), progress:not([value])::-webkit-progress-bar {\n",
              "        background: repeating-linear-gradient(45deg, #7e7e7e, #7e7e7e 10px, #5c5c5c 10px, #5c5c5c 20px);\n",
              "    }\n",
              "    .progress-bar-interrupted, .progress-bar-interrupted::-webkit-progress-bar {\n",
              "        background: #F44336;\n",
              "    }\n",
              "</style>\n"
            ]
          },
          "metadata": {}
        },
        {
          "output_type": "display_data",
          "data": {
            "text/plain": [
              "<IPython.core.display.HTML object>"
            ],
            "text/html": [
              "\n",
              "    <div>\n",
              "      <progress value='4000' class='' max='4000' style='width:300px; height:20px; vertical-align: middle;'></progress>\n",
              "      100.00% [4000/4000 00:02&lt;00:00]\n",
              "    </div>\n",
              "    "
            ]
          },
          "metadata": {}
        },
        {
          "output_type": "display_data",
          "data": {
            "text/plain": [
              "<IPython.core.display.HTML object>"
            ],
            "text/html": [
              "\n",
              "<style>\n",
              "    /* Turns off some styling */\n",
              "    progress {\n",
              "        /* gets rid of default border in Firefox and Opera. */\n",
              "        border: none;\n",
              "        /* Needs to be in here for Safari polyfill so background images work as expected. */\n",
              "        background-size: auto;\n",
              "    }\n",
              "    progress:not([value]), progress:not([value])::-webkit-progress-bar {\n",
              "        background: repeating-linear-gradient(45deg, #7e7e7e, #7e7e7e 10px, #5c5c5c 10px, #5c5c5c 20px);\n",
              "    }\n",
              "    .progress-bar-interrupted, .progress-bar-interrupted::-webkit-progress-bar {\n",
              "        background: #F44336;\n",
              "    }\n",
              "</style>\n"
            ]
          },
          "metadata": {}
        },
        {
          "output_type": "display_data",
          "data": {
            "text/plain": [
              "<IPython.core.display.HTML object>"
            ],
            "text/html": [
              "\n",
              "    <div>\n",
              "      <progress value='3000' class='' max='3000' style='width:300px; height:20px; vertical-align: middle;'></progress>\n",
              "      100.00% [3000/3000 02:16&lt;00:00 Sampling chain 0, 0 divergences]\n",
              "    </div>\n",
              "    "
            ]
          },
          "metadata": {}
        },
        {
          "output_type": "display_data",
          "data": {
            "text/plain": [
              "<IPython.core.display.HTML object>"
            ],
            "text/html": [
              "\n",
              "<style>\n",
              "    /* Turns off some styling */\n",
              "    progress {\n",
              "        /* gets rid of default border in Firefox and Opera. */\n",
              "        border: none;\n",
              "        /* Needs to be in here for Safari polyfill so background images work as expected. */\n",
              "        background-size: auto;\n",
              "    }\n",
              "    progress:not([value]), progress:not([value])::-webkit-progress-bar {\n",
              "        background: repeating-linear-gradient(45deg, #7e7e7e, #7e7e7e 10px, #5c5c5c 10px, #5c5c5c 20px);\n",
              "    }\n",
              "    .progress-bar-interrupted, .progress-bar-interrupted::-webkit-progress-bar {\n",
              "        background: #F44336;\n",
              "    }\n",
              "</style>\n"
            ]
          },
          "metadata": {}
        },
        {
          "output_type": "display_data",
          "data": {
            "text/plain": [
              "<IPython.core.display.HTML object>"
            ],
            "text/html": [
              "\n",
              "    <div>\n",
              "      <progress value='3000' class='' max='3000' style='width:300px; height:20px; vertical-align: middle;'></progress>\n",
              "      100.00% [3000/3000 02:06&lt;00:00 Sampling chain 1, 0 divergences]\n",
              "    </div>\n",
              "    "
            ]
          },
          "metadata": {}
        },
        {
          "output_type": "display_data",
          "data": {
            "text/plain": [
              "<IPython.core.display.HTML object>"
            ],
            "text/html": [
              "\n",
              "<style>\n",
              "    /* Turns off some styling */\n",
              "    progress {\n",
              "        /* gets rid of default border in Firefox and Opera. */\n",
              "        border: none;\n",
              "        /* Needs to be in here for Safari polyfill so background images work as expected. */\n",
              "        background-size: auto;\n",
              "    }\n",
              "    progress:not([value]), progress:not([value])::-webkit-progress-bar {\n",
              "        background: repeating-linear-gradient(45deg, #7e7e7e, #7e7e7e 10px, #5c5c5c 10px, #5c5c5c 20px);\n",
              "    }\n",
              "    .progress-bar-interrupted, .progress-bar-interrupted::-webkit-progress-bar {\n",
              "        background: #F44336;\n",
              "    }\n",
              "</style>\n"
            ]
          },
          "metadata": {}
        },
        {
          "output_type": "display_data",
          "data": {
            "text/plain": [
              "<IPython.core.display.HTML object>"
            ],
            "text/html": [
              "\n",
              "    <div>\n",
              "      <progress value='3000' class='' max='3000' style='width:300px; height:20px; vertical-align: middle;'></progress>\n",
              "      100.00% [3000/3000 02:06&lt;00:00 Sampling chain 0, 0 divergences]\n",
              "    </div>\n",
              "    "
            ]
          },
          "metadata": {}
        },
        {
          "output_type": "display_data",
          "data": {
            "text/plain": [
              "<IPython.core.display.HTML object>"
            ],
            "text/html": [
              "\n",
              "<style>\n",
              "    /* Turns off some styling */\n",
              "    progress {\n",
              "        /* gets rid of default border in Firefox and Opera. */\n",
              "        border: none;\n",
              "        /* Needs to be in here for Safari polyfill so background images work as expected. */\n",
              "        background-size: auto;\n",
              "    }\n",
              "    progress:not([value]), progress:not([value])::-webkit-progress-bar {\n",
              "        background: repeating-linear-gradient(45deg, #7e7e7e, #7e7e7e 10px, #5c5c5c 10px, #5c5c5c 20px);\n",
              "    }\n",
              "    .progress-bar-interrupted, .progress-bar-interrupted::-webkit-progress-bar {\n",
              "        background: #F44336;\n",
              "    }\n",
              "</style>\n"
            ]
          },
          "metadata": {}
        },
        {
          "output_type": "display_data",
          "data": {
            "text/plain": [
              "<IPython.core.display.HTML object>"
            ],
            "text/html": [
              "\n",
              "    <div>\n",
              "      <progress value='3000' class='' max='3000' style='width:300px; height:20px; vertical-align: middle;'></progress>\n",
              "      100.00% [3000/3000 01:55&lt;00:00 Sampling chain 1, 0 divergences]\n",
              "    </div>\n",
              "    "
            ]
          },
          "metadata": {}
        },
        {
          "output_type": "stream",
          "name": "stderr",
          "text": [
            "<ipython-input-8-175c2f4f91ba>:23: FutureWarning: The series.append method is deprecated and will be removed from pandas in a future version. Use pandas.concat instead.\n",
            "  return testingData.append(pd.Series(np.zeros(trainingDataSize-len(testingData), dtype=int)))\n",
            "<ipython-input-8-175c2f4f91ba>:23: FutureWarning: The series.append method is deprecated and will be removed from pandas in a future version. Use pandas.concat instead.\n",
            "  return testingData.append(pd.Series(np.zeros(trainingDataSize-len(testingData), dtype=int)))\n",
            "<ipython-input-8-175c2f4f91ba>:23: FutureWarning: The series.append method is deprecated and will be removed from pandas in a future version. Use pandas.concat instead.\n",
            "  return testingData.append(pd.Series(np.zeros(trainingDataSize-len(testingData), dtype=int)))\n",
            "<ipython-input-8-175c2f4f91ba>:23: FutureWarning: The series.append method is deprecated and will be removed from pandas in a future version. Use pandas.concat instead.\n",
            "  return testingData.append(pd.Series(np.zeros(trainingDataSize-len(testingData), dtype=int)))\n",
            "<ipython-input-8-175c2f4f91ba>:23: FutureWarning: The series.append method is deprecated and will be removed from pandas in a future version. Use pandas.concat instead.\n",
            "  return testingData.append(pd.Series(np.zeros(trainingDataSize-len(testingData), dtype=int)))\n",
            "<ipython-input-8-175c2f4f91ba>:23: FutureWarning: The series.append method is deprecated and will be removed from pandas in a future version. Use pandas.concat instead.\n",
            "  return testingData.append(pd.Series(np.zeros(trainingDataSize-len(testingData), dtype=int)))\n",
            "<ipython-input-8-175c2f4f91ba>:23: FutureWarning: The series.append method is deprecated and will be removed from pandas in a future version. Use pandas.concat instead.\n",
            "  return testingData.append(pd.Series(np.zeros(trainingDataSize-len(testingData), dtype=int)))\n",
            "<ipython-input-8-175c2f4f91ba>:23: FutureWarning: The series.append method is deprecated and will be removed from pandas in a future version. Use pandas.concat instead.\n",
            "  return testingData.append(pd.Series(np.zeros(trainingDataSize-len(testingData), dtype=int)))\n",
            "<ipython-input-8-175c2f4f91ba>:23: FutureWarning: The series.append method is deprecated and will be removed from pandas in a future version. Use pandas.concat instead.\n",
            "  return testingData.append(pd.Series(np.zeros(trainingDataSize-len(testingData), dtype=int)))\n",
            "<ipython-input-8-175c2f4f91ba>:23: FutureWarning: The series.append method is deprecated and will be removed from pandas in a future version. Use pandas.concat instead.\n",
            "  return testingData.append(pd.Series(np.zeros(trainingDataSize-len(testingData), dtype=int)))\n",
            "<ipython-input-8-175c2f4f91ba>:23: FutureWarning: The series.append method is deprecated and will be removed from pandas in a future version. Use pandas.concat instead.\n",
            "  return testingData.append(pd.Series(np.zeros(trainingDataSize-len(testingData), dtype=int)))\n",
            "<ipython-input-8-175c2f4f91ba>:23: FutureWarning: The series.append method is deprecated and will be removed from pandas in a future version. Use pandas.concat instead.\n",
            "  return testingData.append(pd.Series(np.zeros(trainingDataSize-len(testingData), dtype=int)))\n"
          ]
        },
        {
          "output_type": "display_data",
          "data": {
            "text/plain": [
              "<IPython.core.display.HTML object>"
            ],
            "text/html": [
              "\n",
              "<style>\n",
              "    /* Turns off some styling */\n",
              "    progress {\n",
              "        /* gets rid of default border in Firefox and Opera. */\n",
              "        border: none;\n",
              "        /* Needs to be in here for Safari polyfill so background images work as expected. */\n",
              "        background-size: auto;\n",
              "    }\n",
              "    progress:not([value]), progress:not([value])::-webkit-progress-bar {\n",
              "        background: repeating-linear-gradient(45deg, #7e7e7e, #7e7e7e 10px, #5c5c5c 10px, #5c5c5c 20px);\n",
              "    }\n",
              "    .progress-bar-interrupted, .progress-bar-interrupted::-webkit-progress-bar {\n",
              "        background: #F44336;\n",
              "    }\n",
              "</style>\n"
            ]
          },
          "metadata": {}
        },
        {
          "output_type": "display_data",
          "data": {
            "text/plain": [
              "<IPython.core.display.HTML object>"
            ],
            "text/html": [
              "\n",
              "    <div>\n",
              "      <progress value='4000' class='' max='4000' style='width:300px; height:20px; vertical-align: middle;'></progress>\n",
              "      100.00% [4000/4000 00:02&lt;00:00]\n",
              "    </div>\n",
              "    "
            ]
          },
          "metadata": {}
        },
        {
          "output_type": "display_data",
          "data": {
            "text/plain": [
              "<IPython.core.display.HTML object>"
            ],
            "text/html": [
              "\n",
              "<style>\n",
              "    /* Turns off some styling */\n",
              "    progress {\n",
              "        /* gets rid of default border in Firefox and Opera. */\n",
              "        border: none;\n",
              "        /* Needs to be in here for Safari polyfill so background images work as expected. */\n",
              "        background-size: auto;\n",
              "    }\n",
              "    progress:not([value]), progress:not([value])::-webkit-progress-bar {\n",
              "        background: repeating-linear-gradient(45deg, #7e7e7e, #7e7e7e 10px, #5c5c5c 10px, #5c5c5c 20px);\n",
              "    }\n",
              "    .progress-bar-interrupted, .progress-bar-interrupted::-webkit-progress-bar {\n",
              "        background: #F44336;\n",
              "    }\n",
              "</style>\n"
            ]
          },
          "metadata": {}
        },
        {
          "output_type": "display_data",
          "data": {
            "text/plain": [
              "<IPython.core.display.HTML object>"
            ],
            "text/html": [
              "\n",
              "    <div>\n",
              "      <progress value='3000' class='' max='3000' style='width:300px; height:20px; vertical-align: middle;'></progress>\n",
              "      100.00% [3000/3000 02:28&lt;00:00 Sampling chain 0, 0 divergences]\n",
              "    </div>\n",
              "    "
            ]
          },
          "metadata": {}
        },
        {
          "output_type": "display_data",
          "data": {
            "text/plain": [
              "<IPython.core.display.HTML object>"
            ],
            "text/html": [
              "\n",
              "<style>\n",
              "    /* Turns off some styling */\n",
              "    progress {\n",
              "        /* gets rid of default border in Firefox and Opera. */\n",
              "        border: none;\n",
              "        /* Needs to be in here for Safari polyfill so background images work as expected. */\n",
              "        background-size: auto;\n",
              "    }\n",
              "    progress:not([value]), progress:not([value])::-webkit-progress-bar {\n",
              "        background: repeating-linear-gradient(45deg, #7e7e7e, #7e7e7e 10px, #5c5c5c 10px, #5c5c5c 20px);\n",
              "    }\n",
              "    .progress-bar-interrupted, .progress-bar-interrupted::-webkit-progress-bar {\n",
              "        background: #F44336;\n",
              "    }\n",
              "</style>\n"
            ]
          },
          "metadata": {}
        },
        {
          "output_type": "display_data",
          "data": {
            "text/plain": [
              "<IPython.core.display.HTML object>"
            ],
            "text/html": [
              "\n",
              "    <div>\n",
              "      <progress value='3000' class='' max='3000' style='width:300px; height:20px; vertical-align: middle;'></progress>\n",
              "      100.00% [3000/3000 02:12&lt;00:00 Sampling chain 1, 0 divergences]\n",
              "    </div>\n",
              "    "
            ]
          },
          "metadata": {}
        }
      ]
    },
    {
      "cell_type": "code",
      "source": [
        "model_train, min, max = SetupModel(children_training, uniformAbilitySlack=slack, agent_type='child', agent_name=agent, sample = None)\n",
        "with model_train:\n",
        "  data_training = pm.sample(pymc_sample_num, target_accept=0.95)\n",
        "\n",
        "predictions, testOutputs = predict(model_train, data_training, children_test, 'success', len(children_training))\n",
        "agentBrierScore, agentCalibration, agentRefinement = brierDecomp(predictions, testOutputs)\n",
        "agentAggBrierScore, agentAggCalibration, agentAggRefinement = brierDecomp(np.repeat(np.mean(children_training['success']), len(testOutputs)), testOutputs)\n",
        "aggregateBrierScore.append(agentAggBrierScore)\n",
        "aggregateCalibration.append(agentAggCalibration)\n",
        "aggregateRefinement.append(agentAggRefinement)\n",
        "modelBrierScore.append(agentBrierScore)\n",
        "modelCalibration.append(agentCalibration)\n",
        "modelRefinement.append(agentRefinement)\n",
        "if agentBrierScore < agentAggBrierScore:\n",
        "  modelBetterThanAgg.append(True)\n",
        "else:\n",
        "  modelBetterThanAgg.append(False)\n",
        "\n",
        "model_all, min, max = SetupModel(children_data, uniformAbilitySlack=slack, agent_type='child', sample = None)\n",
        "with model_all:\n",
        "  data_all = pm.sample(pymc_sample_num, target_accept=0.95)\n",
        "mu, sd  = analyzeAgentResults(\"child\", data_all, abilitiesToShow)\n",
        "\n",
        "OPAbilityAllMean.append(mu[\"objPermAbility\"])\n",
        "visualAcuityAbilityAllMean.append(mu[\"visualAcuityAbility\"])\n",
        "flatNavAbilityAllMean.append(mu[\"flatNavAbility\"])\n",
        "lavaAbilityAllMean.append(mu[\"lavaAbility\"])\n",
        "rightAbilityAllMean.append(mu[\"rightAbility\"])\n",
        "leftAbilityAllMean.append(mu[\"leftAbility\"])\n",
        "aheadAbilityAllMean.append(mu[\"aheadAbility\"])\n",
        "CVChickAbilityAllMean.append(mu[\"CVChickAbility\"])\n",
        "PCTBAbilityAllMean.append(mu[\"PCTBAbility\"])\n",
        "lightsOutAbilityAllMean.append(mu[\"lightsOutAbility\"])\n",
        "noiseParAllMean.append(mu[\"noisePar\"])\n",
        "OPAbilityAllSD.append(sd[\"objPermAbility\"])\n",
        "visualAcuityAbilityAllSD.append(sd[\"visualAcuityAbility\"])\n",
        "flatNavAbilityAllSD.append(sd[\"flatNavAbility\"])\n",
        "lavaAbilityAllSD.append(sd[\"lavaAbility\"])\n",
        "rightAbilityAllSD.append(sd[\"rightAbility\"])\n",
        "leftAbilityAllSD.append(sd[\"leftAbility\"])\n",
        "aheadAbilityAllSD.append(sd[\"aheadAbility\"])\n",
        "CVChickAbilityAllSD.append(sd[\"CVChickAbility\"])\n",
        "PCTBAbilityAllSD.append(sd[\"PCTBAbility\"])\n",
        "lightsOutAbilityAllSD.append(sd[\"lightsOutAbility\"])\n",
        "noiseParAllSD.append(sd[\"noisePar\"])\n",
        "OPAbilityAllMin.append(min[\"objPermAbility\"])\n",
        "visualAcuityAbilityAllMin.append(min[\"visualAcuityAbility\"])\n",
        "flatNavAbilityAllMin.append(min[\"flatNavAbility\"])\n",
        "lavaAbilityAllMin.append(min[\"lavaAbility\"])\n",
        "rightAbilityAllMin.append(min[\"rightAbility\"])\n",
        "leftAbilityAllMin.append(min[\"leftAbility\"])\n",
        "aheadAbilityAllMin.append(min[\"aheadAbility\"])\n",
        "CVChickAbilityAllMin.append(min[\"CVChickAbility\"])\n",
        "PCTBAbilityAllMin.append(min[\"PCTBAbility\"])\n",
        "lightsOutAbilityAllMin.append(min[\"lightsOutAbility\"])\n",
        "noiseParAllMin.append(0)\n",
        "OPAbilityAllMax.append(max[\"objPermAbility\"])\n",
        "visualAcuityAbilityAllMax.append(max[\"visualAcuityAbility\"])\n",
        "flatNavAbilityAllMax.append(max[\"flatNavAbility\"])\n",
        "lavaAbilityAllMax.append(max[\"lavaAbility\"])\n",
        "rightAbilityAllMax.append(max[\"rightAbility\"])\n",
        "leftAbilityAllMax.append(max[\"leftAbility\"])\n",
        "aheadAbilityAllMax.append(max[\"aheadAbility\"])\n",
        "CVChickAbilityAllMax.append(max[\"CVChickAbility\"])\n",
        "PCTBAbilityAllMax.append(max[\"PCTBAbility\"])\n",
        "lightsOutAbilityAllMax.append(max[\"lightsOutAbility\"])\n",
        "noiseParAllMax.append(1)\n",
        "\n",
        "meanSuccess.append(np.mean(children_data['success']))\n",
        "agentName.append('children')\n",
        "\n",
        "finalDF = pd.DataFrame({\"Agent Name\": agentName,\n",
        "                        \"Model Brier Score\":modelBrierScore,\n",
        "                        \"Aggregate Brier Scores\": aggregateBrierScore,\n",
        "                        \"Model Calibration\": modelCalibration,\n",
        "                        \"Aggregate Calibration\":aggregateCalibration,\n",
        "                        \"Model Refinement\":modelRefinement,\n",
        "                        \"Aggregate Refinement\":aggregateRefinement,\n",
        "                        \"Model Better? (Based on Brier Score)\":modelBetterThanAgg,\n",
        "                        \"Success Score\":meanSuccess,\n",
        "                        \"Object Permanence Ability Mean (All)\": OPAbilityAllMean,\n",
        "                        \"Visual Acuity Ability Mean (All)\" : visualAcuityAbilityAllMean,\n",
        "                        \"Flat Navigation Ability Mean (All)\" : flatNavAbilityAllMean,\n",
        "                        \"Lava Ability Mean (All)\" : lavaAbilityAllMean,\n",
        "                        \"Right Ability Mean (All)\" : rightAbilityAllMean,\n",
        "                        \"Left Ability Mean (All)\" : leftAbilityAllMean,\n",
        "                        \"Ahead Ability Mean (All)\" : aheadAbilityAllMean,\n",
        "                        \"CVChick Ability Mean (All)\" : CVChickAbilityAllMean,\n",
        "                        \"PCTB Ability Mean (All)\" :  PCTBAbilityAllMean,\n",
        "                        \"Lights Out Ability Mean (All)\" : lightsOutAbilityAllMean,\n",
        "                        \"Noise Parameter Mean (All)\" : noiseParAllMean,\n",
        "                        \"Object Permanence Ability SD (All)\": OPAbilityAllSD,\n",
        "                        \"Visual Acuity Ability SD (All)\" : visualAcuityAbilityAllSD,\n",
        "                        \"Flat Navigation Ability SD (All)\" : flatNavAbilityAllSD,\n",
        "                        \"Lava Ability SD (All)\" : lavaAbilityAllSD,\n",
        "                        \"Right Ability SD (All)\" : rightAbilityAllSD,\n",
        "                        \"Left Ability SD (All)\" : leftAbilityAllSD,\n",
        "                        \"Ahead Ability SD (All)\" : aheadAbilityAllSD,\n",
        "                        \"CVChick Ability SD (All)\" : CVChickAbilityAllSD,\n",
        "                        \"PCTB Ability SD (All)\" :  PCTBAbilityAllSD,\n",
        "                        \"Lights Out Ability SD (All)\" : lightsOutAbilityAllSD,\n",
        "                        \"Noise Parameter SD (All)\" : noiseParAllSD,\n",
        "                        \"Object Permanence Ability Min (All)\": OPAbilityAllMin,\n",
        "                        \"Visual Acuity Ability Min (All)\" : visualAcuityAbilityAllMin,\n",
        "                        \"Flat Navigation Ability Min (All)\" : flatNavAbilityAllMin,\n",
        "                        \"Lava Ability Min (All)\" : lavaAbilityAllMin,\n",
        "                        \"Right Ability Min (All)\" : rightAbilityAllMin,\n",
        "                        \"Left Ability Min (All)\" : leftAbilityAllMin,\n",
        "                        \"Ahead Ability Min (All)\" : aheadAbilityAllMin,\n",
        "                        \"CVChick Ability Min (All)\" : CVChickAbilityAllMin,\n",
        "                        \"PCTB Ability Min (All)\" :  PCTBAbilityAllMin,\n",
        "                        \"Lights Out Ability Min (All)\" : lightsOutAbilityAllMin,\n",
        "                        \"Noise Parameter Min (All)\" : noiseParAllMin,\n",
        "                        \"Object Permanence Ability Max (All)\": OPAbilityAllMax,\n",
        "                        \"Visual Acuity Ability Max (All)\" : visualAcuityAbilityAllMax,\n",
        "                        \"Flat Navigation Ability Max (All)\" : flatNavAbilityAllMax,\n",
        "                        \"Lava Ability Max (All)\" : lavaAbilityAllMax,\n",
        "                        \"Right Ability Max (All)\" : rightAbilityAllMax,\n",
        "                        \"Left Ability Max (All)\" : leftAbilityAllMax,\n",
        "                        \"Ahead Ability Max (All)\" : aheadAbilityAllMax,\n",
        "                        \"CVChick Ability Max (All)\" : CVChickAbilityAllMax,\n",
        "                        \"PCTB Ability Max (All)\" :  PCTBAbilityAllMax,\n",
        "                        \"Lights Out Ability Max (All)\" : lightsOutAbilityAllMax,\n",
        "                        \"Noise Parameter Max (All)\" : noiseParAllMax})\n",
        "#finalDF.to_csv(\"/content/drive/Shareddrives/comparative-object-permanence/finalResults.csv\", index = False)\n"
      ],
      "metadata": {
        "id": "4KFFn5Lwaj5H",
        "outputId": "f40b1120-08c7-40be-b34b-84b2eec4ad73",
        "colab": {
          "base_uri": "https://localhost:8080/",
          "height": 533
        }
      },
      "execution_count": null,
      "outputs": [
        {
          "output_type": "display_data",
          "data": {
            "text/plain": [
              "<IPython.core.display.HTML object>"
            ],
            "text/html": [
              "\n",
              "<style>\n",
              "    /* Turns off some styling */\n",
              "    progress {\n",
              "        /* gets rid of default border in Firefox and Opera. */\n",
              "        border: none;\n",
              "        /* Needs to be in here for Safari polyfill so background images work as expected. */\n",
              "        background-size: auto;\n",
              "    }\n",
              "    progress:not([value]), progress:not([value])::-webkit-progress-bar {\n",
              "        background: repeating-linear-gradient(45deg, #7e7e7e, #7e7e7e 10px, #5c5c5c 10px, #5c5c5c 20px);\n",
              "    }\n",
              "    .progress-bar-interrupted, .progress-bar-interrupted::-webkit-progress-bar {\n",
              "        background: #F44336;\n",
              "    }\n",
              "</style>\n"
            ]
          },
          "metadata": {}
        },
        {
          "output_type": "display_data",
          "data": {
            "text/plain": [
              "<IPython.core.display.HTML object>"
            ],
            "text/html": [
              "\n",
              "    <div>\n",
              "      <progress value='3000' class='' max='3000' style='width:300px; height:20px; vertical-align: middle;'></progress>\n",
              "      100.00% [3000/3000 01:10&lt;00:00 Sampling chain 0, 0 divergences]\n",
              "    </div>\n",
              "    "
            ]
          },
          "metadata": {}
        },
        {
          "output_type": "display_data",
          "data": {
            "text/plain": [
              "<IPython.core.display.HTML object>"
            ],
            "text/html": [
              "\n",
              "<style>\n",
              "    /* Turns off some styling */\n",
              "    progress {\n",
              "        /* gets rid of default border in Firefox and Opera. */\n",
              "        border: none;\n",
              "        /* Needs to be in here for Safari polyfill so background images work as expected. */\n",
              "        background-size: auto;\n",
              "    }\n",
              "    progress:not([value]), progress:not([value])::-webkit-progress-bar {\n",
              "        background: repeating-linear-gradient(45deg, #7e7e7e, #7e7e7e 10px, #5c5c5c 10px, #5c5c5c 20px);\n",
              "    }\n",
              "    .progress-bar-interrupted, .progress-bar-interrupted::-webkit-progress-bar {\n",
              "        background: #F44336;\n",
              "    }\n",
              "</style>\n"
            ]
          },
          "metadata": {}
        },
        {
          "output_type": "display_data",
          "data": {
            "text/plain": [
              "<IPython.core.display.HTML object>"
            ],
            "text/html": [
              "\n",
              "    <div>\n",
              "      <progress value='3000' class='' max='3000' style='width:300px; height:20px; vertical-align: middle;'></progress>\n",
              "      100.00% [3000/3000 01:13&lt;00:00 Sampling chain 1, 0 divergences]\n",
              "    </div>\n",
              "    "
            ]
          },
          "metadata": {}
        },
        {
          "output_type": "stream",
          "name": "stderr",
          "text": [
            "<ipython-input-8-175c2f4f91ba>:23: FutureWarning: The series.append method is deprecated and will be removed from pandas in a future version. Use pandas.concat instead.\n",
            "  return testingData.append(pd.Series(np.zeros(trainingDataSize-len(testingData), dtype=int)))\n",
            "<ipython-input-8-175c2f4f91ba>:23: FutureWarning: The series.append method is deprecated and will be removed from pandas in a future version. Use pandas.concat instead.\n",
            "  return testingData.append(pd.Series(np.zeros(trainingDataSize-len(testingData), dtype=int)))\n",
            "<ipython-input-8-175c2f4f91ba>:23: FutureWarning: The series.append method is deprecated and will be removed from pandas in a future version. Use pandas.concat instead.\n",
            "  return testingData.append(pd.Series(np.zeros(trainingDataSize-len(testingData), dtype=int)))\n",
            "<ipython-input-8-175c2f4f91ba>:23: FutureWarning: The series.append method is deprecated and will be removed from pandas in a future version. Use pandas.concat instead.\n",
            "  return testingData.append(pd.Series(np.zeros(trainingDataSize-len(testingData), dtype=int)))\n",
            "<ipython-input-8-175c2f4f91ba>:23: FutureWarning: The series.append method is deprecated and will be removed from pandas in a future version. Use pandas.concat instead.\n",
            "  return testingData.append(pd.Series(np.zeros(trainingDataSize-len(testingData), dtype=int)))\n",
            "<ipython-input-8-175c2f4f91ba>:23: FutureWarning: The series.append method is deprecated and will be removed from pandas in a future version. Use pandas.concat instead.\n",
            "  return testingData.append(pd.Series(np.zeros(trainingDataSize-len(testingData), dtype=int)))\n",
            "<ipython-input-8-175c2f4f91ba>:23: FutureWarning: The series.append method is deprecated and will be removed from pandas in a future version. Use pandas.concat instead.\n",
            "  return testingData.append(pd.Series(np.zeros(trainingDataSize-len(testingData), dtype=int)))\n",
            "<ipython-input-8-175c2f4f91ba>:23: FutureWarning: The series.append method is deprecated and will be removed from pandas in a future version. Use pandas.concat instead.\n",
            "  return testingData.append(pd.Series(np.zeros(trainingDataSize-len(testingData), dtype=int)))\n",
            "<ipython-input-8-175c2f4f91ba>:23: FutureWarning: The series.append method is deprecated and will be removed from pandas in a future version. Use pandas.concat instead.\n",
            "  return testingData.append(pd.Series(np.zeros(trainingDataSize-len(testingData), dtype=int)))\n",
            "<ipython-input-8-175c2f4f91ba>:23: FutureWarning: The series.append method is deprecated and will be removed from pandas in a future version. Use pandas.concat instead.\n",
            "  return testingData.append(pd.Series(np.zeros(trainingDataSize-len(testingData), dtype=int)))\n",
            "<ipython-input-8-175c2f4f91ba>:23: FutureWarning: The series.append method is deprecated and will be removed from pandas in a future version. Use pandas.concat instead.\n",
            "  return testingData.append(pd.Series(np.zeros(trainingDataSize-len(testingData), dtype=int)))\n",
            "<ipython-input-8-175c2f4f91ba>:23: FutureWarning: The series.append method is deprecated and will be removed from pandas in a future version. Use pandas.concat instead.\n",
            "  return testingData.append(pd.Series(np.zeros(trainingDataSize-len(testingData), dtype=int)))\n"
          ]
        },
        {
          "output_type": "display_data",
          "data": {
            "text/plain": [
              "<IPython.core.display.HTML object>"
            ],
            "text/html": [
              "\n",
              "<style>\n",
              "    /* Turns off some styling */\n",
              "    progress {\n",
              "        /* gets rid of default border in Firefox and Opera. */\n",
              "        border: none;\n",
              "        /* Needs to be in here for Safari polyfill so background images work as expected. */\n",
              "        background-size: auto;\n",
              "    }\n",
              "    progress:not([value]), progress:not([value])::-webkit-progress-bar {\n",
              "        background: repeating-linear-gradient(45deg, #7e7e7e, #7e7e7e 10px, #5c5c5c 10px, #5c5c5c 20px);\n",
              "    }\n",
              "    .progress-bar-interrupted, .progress-bar-interrupted::-webkit-progress-bar {\n",
              "        background: #F44336;\n",
              "    }\n",
              "</style>\n"
            ]
          },
          "metadata": {}
        },
        {
          "output_type": "display_data",
          "data": {
            "text/plain": [
              "<IPython.core.display.HTML object>"
            ],
            "text/html": [
              "\n",
              "    <div>\n",
              "      <progress value='4000' class='' max='4000' style='width:300px; height:20px; vertical-align: middle;'></progress>\n",
              "      100.00% [4000/4000 00:01&lt;00:00]\n",
              "    </div>\n",
              "    "
            ]
          },
          "metadata": {}
        },
        {
          "output_type": "display_data",
          "data": {
            "text/plain": [
              "<IPython.core.display.HTML object>"
            ],
            "text/html": [
              "\n",
              "<style>\n",
              "    /* Turns off some styling */\n",
              "    progress {\n",
              "        /* gets rid of default border in Firefox and Opera. */\n",
              "        border: none;\n",
              "        /* Needs to be in here for Safari polyfill so background images work as expected. */\n",
              "        background-size: auto;\n",
              "    }\n",
              "    progress:not([value]), progress:not([value])::-webkit-progress-bar {\n",
              "        background: repeating-linear-gradient(45deg, #7e7e7e, #7e7e7e 10px, #5c5c5c 10px, #5c5c5c 20px);\n",
              "    }\n",
              "    .progress-bar-interrupted, .progress-bar-interrupted::-webkit-progress-bar {\n",
              "        background: #F44336;\n",
              "    }\n",
              "</style>\n"
            ]
          },
          "metadata": {}
        },
        {
          "output_type": "display_data",
          "data": {
            "text/plain": [
              "<IPython.core.display.HTML object>"
            ],
            "text/html": [
              "\n",
              "    <div>\n",
              "      <progress value='3000' class='' max='3000' style='width:300px; height:20px; vertical-align: middle;'></progress>\n",
              "      100.00% [3000/3000 01:34&lt;00:00 Sampling chain 0, 0 divergences]\n",
              "    </div>\n",
              "    "
            ]
          },
          "metadata": {}
        },
        {
          "output_type": "display_data",
          "data": {
            "text/plain": [
              "<IPython.core.display.HTML object>"
            ],
            "text/html": [
              "\n",
              "<style>\n",
              "    /* Turns off some styling */\n",
              "    progress {\n",
              "        /* gets rid of default border in Firefox and Opera. */\n",
              "        border: none;\n",
              "        /* Needs to be in here for Safari polyfill so background images work as expected. */\n",
              "        background-size: auto;\n",
              "    }\n",
              "    progress:not([value]), progress:not([value])::-webkit-progress-bar {\n",
              "        background: repeating-linear-gradient(45deg, #7e7e7e, #7e7e7e 10px, #5c5c5c 10px, #5c5c5c 20px);\n",
              "    }\n",
              "    .progress-bar-interrupted, .progress-bar-interrupted::-webkit-progress-bar {\n",
              "        background: #F44336;\n",
              "    }\n",
              "</style>\n"
            ]
          },
          "metadata": {}
        },
        {
          "output_type": "display_data",
          "data": {
            "text/plain": [
              "<IPython.core.display.HTML object>"
            ],
            "text/html": [
              "\n",
              "    <div>\n",
              "      <progress value='3000' class='' max='3000' style='width:300px; height:20px; vertical-align: middle;'></progress>\n",
              "      100.00% [3000/3000 01:20&lt;00:00 Sampling chain 1, 0 divergences]\n",
              "    </div>\n",
              "    "
            ]
          },
          "metadata": {}
        }
      ]
    },
    {
      "cell_type": "code",
      "source": [
        "with open('/content/drive/Shareddrives/comparative-object-permanence/finalResults.pkl', 'wb') as f:\n",
        "      pickle.dump(finalDF, f)"
      ],
      "metadata": {
        "id": "yf1a4jo83lBH"
      },
      "execution_count": null,
      "outputs": []
    },
    {
      "cell_type": "code",
      "source": [
        "## Not run: in case evaluation stops.\n",
        "# with open('/content/drive/Shareddrives/comparative-object-permanence/finalResults.pkl', 'rb') as f:\n",
        "#       originaldata = pickle.load(f)\n",
        "# output = pd.concat([originaldata, finalDF], axis = 0)"
      ],
      "metadata": {
        "id": "UFynZd5OBwff"
      },
      "execution_count": null,
      "outputs": []
    },
    {
      "cell_type": "code",
      "source": [
        "model_train, min, max = SetupModel(children_4_5_training, uniformAbilitySlack=slack, agent_type='child', agent_name=\"children_4_5\", sample = None)\n",
        "with model_train:\n",
        "  data_training = pm.sample(pymc_sample_num, target_accept=0.95)\n",
        "\n",
        "predictions, testOutputs = predict(model_train, data_training, children_4_5_test, 'success', len(children_training))\n",
        "agentBrierScore, agentCalibration, agentRefinement = brierDecomp(predictions, testOutputs)\n",
        "agentAggBrierScore, agentAggCalibration, agentAggRefinement = brierDecomp(np.repeat(np.mean(children_4_5_training['success']), len(testOutputs)), testOutputs)\n",
        "aggregateBrierScore.append(agentAggBrierScore)\n",
        "aggregateCalibration.append(agentAggCalibration)\n",
        "aggregateRefinement.append(agentAggRefinement)\n",
        "modelBrierScore.append(agentBrierScore)\n",
        "modelCalibration.append(agentCalibration)\n",
        "modelRefinement.append(agentRefinement)\n",
        "if agentBrierScore < agentAggBrierScore:\n",
        "  modelBetterThanAgg.append(True)\n",
        "else:\n",
        "  modelBetterThanAgg.append(False)\n",
        "\n",
        "model_all, min, max = SetupModel(children_4_5_data, uniformAbilitySlack=slack, agent_type='child', sample = None)\n",
        "with model_all:\n",
        "  data_all = pm.sample(pymc_sample_num, target_accept=0.95)\n",
        "mu, sd  = analyzeAgentResults(\"child_4_5\", data_all, abilitiesToShow)\n",
        "\n",
        "OPAbilityAllMean.append(mu[\"objPermAbility\"])\n",
        "visualAcuityAbilityAllMean.append(mu[\"visualAcuityAbility\"])\n",
        "flatNavAbilityAllMean.append(mu[\"flatNavAbility\"])\n",
        "lavaAbilityAllMean.append(mu[\"lavaAbility\"])\n",
        "rightAbilityAllMean.append(mu[\"rightAbility\"])\n",
        "leftAbilityAllMean.append(mu[\"leftAbility\"])\n",
        "aheadAbilityAllMean.append(mu[\"aheadAbility\"])\n",
        "CVChickAbilityAllMean.append(mu[\"CVChickAbility\"])\n",
        "PCTBAbilityAllMean.append(mu[\"PCTBAbility\"])\n",
        "lightsOutAbilityAllMean.append(mu[\"lightsOutAbility\"])\n",
        "noiseParAllMean.append(mu[\"noisePar\"])\n",
        "OPAbilityAllSD.append(sd[\"objPermAbility\"])\n",
        "visualAcuityAbilityAllSD.append(sd[\"visualAcuityAbility\"])\n",
        "flatNavAbilityAllSD.append(sd[\"flatNavAbility\"])\n",
        "lavaAbilityAllSD.append(sd[\"lavaAbility\"])\n",
        "rightAbilityAllSD.append(sd[\"rightAbility\"])\n",
        "leftAbilityAllSD.append(sd[\"leftAbility\"])\n",
        "aheadAbilityAllSD.append(sd[\"aheadAbility\"])\n",
        "CVChickAbilityAllSD.append(sd[\"CVChickAbility\"])\n",
        "PCTBAbilityAllSD.append(sd[\"PCTBAbility\"])\n",
        "lightsOutAbilityAllSD.append(sd[\"lightsOutAbility\"])\n",
        "noiseParAllSD.append(sd[\"noisePar\"])\n",
        "OPAbilityAllMin.append(min[\"objPermAbility\"])\n",
        "visualAcuityAbilityAllMin.append(min[\"visualAcuityAbility\"])\n",
        "flatNavAbilityAllMin.append(min[\"flatNavAbility\"])\n",
        "lavaAbilityAllMin.append(min[\"lavaAbility\"])\n",
        "rightAbilityAllMin.append(min[\"rightAbility\"])\n",
        "leftAbilityAllMin.append(min[\"leftAbility\"])\n",
        "aheadAbilityAllMin.append(min[\"aheadAbility\"])\n",
        "CVChickAbilityAllMin.append(min[\"CVChickAbility\"])\n",
        "PCTBAbilityAllMin.append(min[\"PCTBAbility\"])\n",
        "lightsOutAbilityAllMin.append(min[\"lightsOutAbility\"])\n",
        "noiseParAllMin.append(0)\n",
        "OPAbilityAllMax.append(max[\"objPermAbility\"])\n",
        "visualAcuityAbilityAllMax.append(max[\"visualAcuityAbility\"])\n",
        "flatNavAbilityAllMax.append(max[\"flatNavAbility\"])\n",
        "lavaAbilityAllMax.append(max[\"lavaAbility\"])\n",
        "rightAbilityAllMax.append(max[\"rightAbility\"])\n",
        "leftAbilityAllMax.append(max[\"leftAbility\"])\n",
        "aheadAbilityAllMax.append(max[\"aheadAbility\"])\n",
        "CVChickAbilityAllMax.append(max[\"CVChickAbility\"])\n",
        "PCTBAbilityAllMax.append(max[\"PCTBAbility\"])\n",
        "lightsOutAbilityAllMax.append(max[\"lightsOutAbility\"])\n",
        "noiseParAllMax.append(1)\n",
        "\n",
        "meanSuccess.append(np.mean(children_4_5_data['success']))\n",
        "agentName.append('children')\n",
        "\n",
        "finalDF = pd.DataFrame({\"Agent Name\": agentName,\n",
        "                        \"Model Brier Score\":modelBrierScore,\n",
        "                        \"Aggregate Brier Scores\": aggregateBrierScore,\n",
        "                        \"Model Calibration\": modelCalibration,\n",
        "                        \"Aggregate Calibration\":aggregateCalibration,\n",
        "                        \"Model Refinement\":modelRefinement,\n",
        "                        \"Aggregate Refinement\":aggregateRefinement,\n",
        "                        \"Model Better? (Based on Brier Score)\":modelBetterThanAgg,\n",
        "                        \"Success Score\":meanSuccess,\n",
        "                        \"Object Permanence Ability Mean (All)\": OPAbilityAllMean,\n",
        "                        \"Visual Acuity Ability Mean (All)\" : visualAcuityAbilityAllMean,\n",
        "                        \"Flat Navigation Ability Mean (All)\" : flatNavAbilityAllMean,\n",
        "                        \"Lava Ability Mean (All)\" : lavaAbilityAllMean,\n",
        "                        \"Right Ability Mean (All)\" : rightAbilityAllMean,\n",
        "                        \"Left Ability Mean (All)\" : leftAbilityAllMean,\n",
        "                        \"Ahead Ability Mean (All)\" : aheadAbilityAllMean,\n",
        "                        \"CVChick Ability Mean (All)\" : CVChickAbilityAllMean,\n",
        "                        \"PCTB Ability Mean (All)\" :  PCTBAbilityAllMean,\n",
        "                        \"Lights Out Ability Mean (All)\" : lightsOutAbilityAllMean,\n",
        "                        \"Noise Parameter Mean (All)\" : noiseParAllMean,\n",
        "                        \"Object Permanence Ability SD (All)\": OPAbilityAllSD,\n",
        "                        \"Visual Acuity Ability SD (All)\" : visualAcuityAbilityAllSD,\n",
        "                        \"Flat Navigation Ability SD (All)\" : flatNavAbilityAllSD,\n",
        "                        \"Lava Ability SD (All)\" : lavaAbilityAllSD,\n",
        "                        \"Right Ability SD (All)\" : rightAbilityAllSD,\n",
        "                        \"Left Ability SD (All)\" : leftAbilityAllSD,\n",
        "                        \"Ahead Ability SD (All)\" : aheadAbilityAllSD,\n",
        "                        \"CVChick Ability SD (All)\" : CVChickAbilityAllSD,\n",
        "                        \"PCTB Ability SD (All)\" :  PCTBAbilityAllSD,\n",
        "                        \"Lights Out Ability SD (All)\" : lightsOutAbilityAllSD,\n",
        "                        \"Noise Parameter SD (All)\" : noiseParAllSD,\n",
        "                        \"Object Permanence Ability Min (All)\": OPAbilityAllMin,\n",
        "                        \"Visual Acuity Ability Min (All)\" : visualAcuityAbilityAllMin,\n",
        "                        \"Flat Navigation Ability Min (All)\" : flatNavAbilityAllMin,\n",
        "                        \"Lava Ability Min (All)\" : lavaAbilityAllMin,\n",
        "                        \"Right Ability Min (All)\" : rightAbilityAllMin,\n",
        "                        \"Left Ability Min (All)\" : leftAbilityAllMin,\n",
        "                        \"Ahead Ability Min (All)\" : aheadAbilityAllMin,\n",
        "                        \"CVChick Ability Min (All)\" : CVChickAbilityAllMin,\n",
        "                        \"PCTB Ability Min (All)\" :  PCTBAbilityAllMin,\n",
        "                        \"Lights Out Ability Min (All)\" : lightsOutAbilityAllMin,\n",
        "                        \"Noise Parameter Min (All)\" : noiseParAllMin,\n",
        "                        \"Object Permanence Ability Max (All)\": OPAbilityAllMax,\n",
        "                        \"Visual Acuity Ability Max (All)\" : visualAcuityAbilityAllMax,\n",
        "                        \"Flat Navigation Ability Max (All)\" : flatNavAbilityAllMax,\n",
        "                        \"Lava Ability Max (All)\" : lavaAbilityAllMax,\n",
        "                        \"Right Ability Max (All)\" : rightAbilityAllMax,\n",
        "                        \"Left Ability Max (All)\" : leftAbilityAllMax,\n",
        "                        \"Ahead Ability Max (All)\" : aheadAbilityAllMax,\n",
        "                        \"CVChick Ability Max (All)\" : CVChickAbilityAllMax,\n",
        "                        \"PCTB Ability Max (All)\" :  PCTBAbilityAllMax,\n",
        "                        \"Lights Out Ability Max (All)\" : lightsOutAbilityAllMax,\n",
        "                        \"Noise Parameter Max (All)\" : noiseParAllMax})\n",
        "#finalDF.to_csv(\"/content/drive/Shareddrives/comparative-object-permanence/finalResults.csv\", index = False)\n"
      ],
      "metadata": {
        "id": "KY8sD75iTHVI",
        "outputId": "c95622e8-b737-45cb-8ea9-4f75547ec38f",
        "colab": {
          "base_uri": "https://localhost:8080/",
          "height": 533
        }
      },
      "execution_count": 35,
      "outputs": [
        {
          "output_type": "display_data",
          "data": {
            "text/plain": [
              "<IPython.core.display.HTML object>"
            ],
            "text/html": [
              "\n",
              "<style>\n",
              "    /* Turns off some styling */\n",
              "    progress {\n",
              "        /* gets rid of default border in Firefox and Opera. */\n",
              "        border: none;\n",
              "        /* Needs to be in here for Safari polyfill so background images work as expected. */\n",
              "        background-size: auto;\n",
              "    }\n",
              "    progress:not([value]), progress:not([value])::-webkit-progress-bar {\n",
              "        background: repeating-linear-gradient(45deg, #7e7e7e, #7e7e7e 10px, #5c5c5c 10px, #5c5c5c 20px);\n",
              "    }\n",
              "    .progress-bar-interrupted, .progress-bar-interrupted::-webkit-progress-bar {\n",
              "        background: #F44336;\n",
              "    }\n",
              "</style>\n"
            ]
          },
          "metadata": {}
        },
        {
          "output_type": "display_data",
          "data": {
            "text/plain": [
              "<IPython.core.display.HTML object>"
            ],
            "text/html": [
              "\n",
              "    <div>\n",
              "      <progress value='3000' class='' max='3000' style='width:300px; height:20px; vertical-align: middle;'></progress>\n",
              "      100.00% [3000/3000 00:46&lt;00:00 Sampling chain 0, 0 divergences]\n",
              "    </div>\n",
              "    "
            ]
          },
          "metadata": {}
        },
        {
          "output_type": "display_data",
          "data": {
            "text/plain": [
              "<IPython.core.display.HTML object>"
            ],
            "text/html": [
              "\n",
              "<style>\n",
              "    /* Turns off some styling */\n",
              "    progress {\n",
              "        /* gets rid of default border in Firefox and Opera. */\n",
              "        border: none;\n",
              "        /* Needs to be in here for Safari polyfill so background images work as expected. */\n",
              "        background-size: auto;\n",
              "    }\n",
              "    progress:not([value]), progress:not([value])::-webkit-progress-bar {\n",
              "        background: repeating-linear-gradient(45deg, #7e7e7e, #7e7e7e 10px, #5c5c5c 10px, #5c5c5c 20px);\n",
              "    }\n",
              "    .progress-bar-interrupted, .progress-bar-interrupted::-webkit-progress-bar {\n",
              "        background: #F44336;\n",
              "    }\n",
              "</style>\n"
            ]
          },
          "metadata": {}
        },
        {
          "output_type": "display_data",
          "data": {
            "text/plain": [
              "<IPython.core.display.HTML object>"
            ],
            "text/html": [
              "\n",
              "    <div>\n",
              "      <progress value='3000' class='' max='3000' style='width:300px; height:20px; vertical-align: middle;'></progress>\n",
              "      100.00% [3000/3000 00:46&lt;00:00 Sampling chain 1, 0 divergences]\n",
              "    </div>\n",
              "    "
            ]
          },
          "metadata": {}
        },
        {
          "output_type": "stream",
          "name": "stderr",
          "text": [
            "<ipython-input-14-175c2f4f91ba>:23: FutureWarning: The series.append method is deprecated and will be removed from pandas in a future version. Use pandas.concat instead.\n",
            "  return testingData.append(pd.Series(np.zeros(trainingDataSize-len(testingData), dtype=int)))\n",
            "<ipython-input-14-175c2f4f91ba>:23: FutureWarning: The series.append method is deprecated and will be removed from pandas in a future version. Use pandas.concat instead.\n",
            "  return testingData.append(pd.Series(np.zeros(trainingDataSize-len(testingData), dtype=int)))\n",
            "<ipython-input-14-175c2f4f91ba>:23: FutureWarning: The series.append method is deprecated and will be removed from pandas in a future version. Use pandas.concat instead.\n",
            "  return testingData.append(pd.Series(np.zeros(trainingDataSize-len(testingData), dtype=int)))\n",
            "<ipython-input-14-175c2f4f91ba>:23: FutureWarning: The series.append method is deprecated and will be removed from pandas in a future version. Use pandas.concat instead.\n",
            "  return testingData.append(pd.Series(np.zeros(trainingDataSize-len(testingData), dtype=int)))\n",
            "<ipython-input-14-175c2f4f91ba>:23: FutureWarning: The series.append method is deprecated and will be removed from pandas in a future version. Use pandas.concat instead.\n",
            "  return testingData.append(pd.Series(np.zeros(trainingDataSize-len(testingData), dtype=int)))\n",
            "<ipython-input-14-175c2f4f91ba>:23: FutureWarning: The series.append method is deprecated and will be removed from pandas in a future version. Use pandas.concat instead.\n",
            "  return testingData.append(pd.Series(np.zeros(trainingDataSize-len(testingData), dtype=int)))\n",
            "<ipython-input-14-175c2f4f91ba>:23: FutureWarning: The series.append method is deprecated and will be removed from pandas in a future version. Use pandas.concat instead.\n",
            "  return testingData.append(pd.Series(np.zeros(trainingDataSize-len(testingData), dtype=int)))\n",
            "<ipython-input-14-175c2f4f91ba>:23: FutureWarning: The series.append method is deprecated and will be removed from pandas in a future version. Use pandas.concat instead.\n",
            "  return testingData.append(pd.Series(np.zeros(trainingDataSize-len(testingData), dtype=int)))\n",
            "<ipython-input-14-175c2f4f91ba>:23: FutureWarning: The series.append method is deprecated and will be removed from pandas in a future version. Use pandas.concat instead.\n",
            "  return testingData.append(pd.Series(np.zeros(trainingDataSize-len(testingData), dtype=int)))\n",
            "<ipython-input-14-175c2f4f91ba>:23: FutureWarning: The series.append method is deprecated and will be removed from pandas in a future version. Use pandas.concat instead.\n",
            "  return testingData.append(pd.Series(np.zeros(trainingDataSize-len(testingData), dtype=int)))\n",
            "<ipython-input-14-175c2f4f91ba>:23: FutureWarning: The series.append method is deprecated and will be removed from pandas in a future version. Use pandas.concat instead.\n",
            "  return testingData.append(pd.Series(np.zeros(trainingDataSize-len(testingData), dtype=int)))\n",
            "<ipython-input-14-175c2f4f91ba>:23: FutureWarning: The series.append method is deprecated and will be removed from pandas in a future version. Use pandas.concat instead.\n",
            "  return testingData.append(pd.Series(np.zeros(trainingDataSize-len(testingData), dtype=int)))\n"
          ]
        },
        {
          "output_type": "display_data",
          "data": {
            "text/plain": [
              "<IPython.core.display.HTML object>"
            ],
            "text/html": [
              "\n",
              "<style>\n",
              "    /* Turns off some styling */\n",
              "    progress {\n",
              "        /* gets rid of default border in Firefox and Opera. */\n",
              "        border: none;\n",
              "        /* Needs to be in here for Safari polyfill so background images work as expected. */\n",
              "        background-size: auto;\n",
              "    }\n",
              "    progress:not([value]), progress:not([value])::-webkit-progress-bar {\n",
              "        background: repeating-linear-gradient(45deg, #7e7e7e, #7e7e7e 10px, #5c5c5c 10px, #5c5c5c 20px);\n",
              "    }\n",
              "    .progress-bar-interrupted, .progress-bar-interrupted::-webkit-progress-bar {\n",
              "        background: #F44336;\n",
              "    }\n",
              "</style>\n"
            ]
          },
          "metadata": {}
        },
        {
          "output_type": "display_data",
          "data": {
            "text/plain": [
              "<IPython.core.display.HTML object>"
            ],
            "text/html": [
              "\n",
              "    <div>\n",
              "      <progress value='4000' class='' max='4000' style='width:300px; height:20px; vertical-align: middle;'></progress>\n",
              "      100.00% [4000/4000 00:02&lt;00:00]\n",
              "    </div>\n",
              "    "
            ]
          },
          "metadata": {}
        },
        {
          "output_type": "display_data",
          "data": {
            "text/plain": [
              "<IPython.core.display.HTML object>"
            ],
            "text/html": [
              "\n",
              "<style>\n",
              "    /* Turns off some styling */\n",
              "    progress {\n",
              "        /* gets rid of default border in Firefox and Opera. */\n",
              "        border: none;\n",
              "        /* Needs to be in here for Safari polyfill so background images work as expected. */\n",
              "        background-size: auto;\n",
              "    }\n",
              "    progress:not([value]), progress:not([value])::-webkit-progress-bar {\n",
              "        background: repeating-linear-gradient(45deg, #7e7e7e, #7e7e7e 10px, #5c5c5c 10px, #5c5c5c 20px);\n",
              "    }\n",
              "    .progress-bar-interrupted, .progress-bar-interrupted::-webkit-progress-bar {\n",
              "        background: #F44336;\n",
              "    }\n",
              "</style>\n"
            ]
          },
          "metadata": {}
        },
        {
          "output_type": "display_data",
          "data": {
            "text/plain": [
              "<IPython.core.display.HTML object>"
            ],
            "text/html": [
              "\n",
              "    <div>\n",
              "      <progress value='3000' class='' max='3000' style='width:300px; height:20px; vertical-align: middle;'></progress>\n",
              "      100.00% [3000/3000 01:06&lt;00:00 Sampling chain 0, 0 divergences]\n",
              "    </div>\n",
              "    "
            ]
          },
          "metadata": {}
        },
        {
          "output_type": "display_data",
          "data": {
            "text/plain": [
              "<IPython.core.display.HTML object>"
            ],
            "text/html": [
              "\n",
              "<style>\n",
              "    /* Turns off some styling */\n",
              "    progress {\n",
              "        /* gets rid of default border in Firefox and Opera. */\n",
              "        border: none;\n",
              "        /* Needs to be in here for Safari polyfill so background images work as expected. */\n",
              "        background-size: auto;\n",
              "    }\n",
              "    progress:not([value]), progress:not([value])::-webkit-progress-bar {\n",
              "        background: repeating-linear-gradient(45deg, #7e7e7e, #7e7e7e 10px, #5c5c5c 10px, #5c5c5c 20px);\n",
              "    }\n",
              "    .progress-bar-interrupted, .progress-bar-interrupted::-webkit-progress-bar {\n",
              "        background: #F44336;\n",
              "    }\n",
              "</style>\n"
            ]
          },
          "metadata": {}
        },
        {
          "output_type": "display_data",
          "data": {
            "text/plain": [
              "<IPython.core.display.HTML object>"
            ],
            "text/html": [
              "\n",
              "    <div>\n",
              "      <progress value='3000' class='' max='3000' style='width:300px; height:20px; vertical-align: middle;'></progress>\n",
              "      100.00% [3000/3000 00:59&lt;00:00 Sampling chain 1, 0 divergences]\n",
              "    </div>\n",
              "    "
            ]
          },
          "metadata": {}
        }
      ]
    },
    {
      "cell_type": "code",
      "source": [
        "finalDF"
      ],
      "metadata": {
        "id": "6PBct54UXz6D",
        "outputId": "88a91663-7bb5-4721-95c1-b69400bf08d0",
        "colab": {
          "base_uri": "https://localhost:8080/",
          "height": 217
        }
      },
      "execution_count": 40,
      "outputs": [
        {
          "output_type": "execute_result",
          "data": {
            "text/plain": [
              "  Agent Name  Model Brier Score  Aggregate Brier Scores  Model Calibration  \\\n",
              "0   children           0.213122                0.227944           0.010251   \n",
              "\n",
              "   Aggregate Calibration  Model Refinement  Aggregate Refinement  \\\n",
              "0                0.00422          0.202191              0.223723   \n",
              "\n",
              "   Model Better? (Based on Brier Score)  Success Score  \\\n",
              "0                                  True       0.714024   \n",
              "\n",
              "   Object Permanence Ability Mean (All)  ...  Visual Acuity Ability Max (All)  \\\n",
              "0                            677.493221  ...                        78.666667   \n",
              "\n",
              "   Flat Navigation Ability Max (All)  Lava Ability Max (All)  \\\n",
              "0                             1534.0                       2   \n",
              "\n",
              "   Right Ability Max (All)  Left Ability Max (All)  Ahead Ability Max (All)  \\\n",
              "0                        2                       2                        2   \n",
              "\n",
              "   CVChick Ability Max (All)  PCTB Ability Max (All)  \\\n",
              "0                          2                       2   \n",
              "\n",
              "   Lights Out Ability Max (All)  Noise Parameter Max (All)  \n",
              "0                             2                          1  \n",
              "\n",
              "[1 rows x 53 columns]"
            ],
            "text/html": [
              "\n",
              "  <div id=\"df-62c24e19-78e6-43d0-b786-a83caf535526\" class=\"colab-df-container\">\n",
              "    <div>\n",
              "<style scoped>\n",
              "    .dataframe tbody tr th:only-of-type {\n",
              "        vertical-align: middle;\n",
              "    }\n",
              "\n",
              "    .dataframe tbody tr th {\n",
              "        vertical-align: top;\n",
              "    }\n",
              "\n",
              "    .dataframe thead th {\n",
              "        text-align: right;\n",
              "    }\n",
              "</style>\n",
              "<table border=\"1\" class=\"dataframe\">\n",
              "  <thead>\n",
              "    <tr style=\"text-align: right;\">\n",
              "      <th></th>\n",
              "      <th>Agent Name</th>\n",
              "      <th>Model Brier Score</th>\n",
              "      <th>Aggregate Brier Scores</th>\n",
              "      <th>Model Calibration</th>\n",
              "      <th>Aggregate Calibration</th>\n",
              "      <th>Model Refinement</th>\n",
              "      <th>Aggregate Refinement</th>\n",
              "      <th>Model Better? (Based on Brier Score)</th>\n",
              "      <th>Success Score</th>\n",
              "      <th>Object Permanence Ability Mean (All)</th>\n",
              "      <th>...</th>\n",
              "      <th>Visual Acuity Ability Max (All)</th>\n",
              "      <th>Flat Navigation Ability Max (All)</th>\n",
              "      <th>Lava Ability Max (All)</th>\n",
              "      <th>Right Ability Max (All)</th>\n",
              "      <th>Left Ability Max (All)</th>\n",
              "      <th>Ahead Ability Max (All)</th>\n",
              "      <th>CVChick Ability Max (All)</th>\n",
              "      <th>PCTB Ability Max (All)</th>\n",
              "      <th>Lights Out Ability Max (All)</th>\n",
              "      <th>Noise Parameter Max (All)</th>\n",
              "    </tr>\n",
              "  </thead>\n",
              "  <tbody>\n",
              "    <tr>\n",
              "      <th>0</th>\n",
              "      <td>children</td>\n",
              "      <td>0.213122</td>\n",
              "      <td>0.227944</td>\n",
              "      <td>0.010251</td>\n",
              "      <td>0.00422</td>\n",
              "      <td>0.202191</td>\n",
              "      <td>0.223723</td>\n",
              "      <td>True</td>\n",
              "      <td>0.714024</td>\n",
              "      <td>677.493221</td>\n",
              "      <td>...</td>\n",
              "      <td>78.666667</td>\n",
              "      <td>1534.0</td>\n",
              "      <td>2</td>\n",
              "      <td>2</td>\n",
              "      <td>2</td>\n",
              "      <td>2</td>\n",
              "      <td>2</td>\n",
              "      <td>2</td>\n",
              "      <td>2</td>\n",
              "      <td>1</td>\n",
              "    </tr>\n",
              "  </tbody>\n",
              "</table>\n",
              "<p>1 rows × 53 columns</p>\n",
              "</div>\n",
              "    <div class=\"colab-df-buttons\">\n",
              "\n",
              "  <div class=\"colab-df-container\">\n",
              "    <button class=\"colab-df-convert\" onclick=\"convertToInteractive('df-62c24e19-78e6-43d0-b786-a83caf535526')\"\n",
              "            title=\"Convert this dataframe to an interactive table.\"\n",
              "            style=\"display:none;\">\n",
              "\n",
              "  <svg xmlns=\"http://www.w3.org/2000/svg\" height=\"24px\" viewBox=\"0 -960 960 960\">\n",
              "    <path d=\"M120-120v-720h720v720H120Zm60-500h600v-160H180v160Zm220 220h160v-160H400v160Zm0 220h160v-160H400v160ZM180-400h160v-160H180v160Zm440 0h160v-160H620v160ZM180-180h160v-160H180v160Zm440 0h160v-160H620v160Z\"/>\n",
              "  </svg>\n",
              "    </button>\n",
              "\n",
              "  <style>\n",
              "    .colab-df-container {\n",
              "      display:flex;\n",
              "      gap: 12px;\n",
              "    }\n",
              "\n",
              "    .colab-df-convert {\n",
              "      background-color: #E8F0FE;\n",
              "      border: none;\n",
              "      border-radius: 50%;\n",
              "      cursor: pointer;\n",
              "      display: none;\n",
              "      fill: #1967D2;\n",
              "      height: 32px;\n",
              "      padding: 0 0 0 0;\n",
              "      width: 32px;\n",
              "    }\n",
              "\n",
              "    .colab-df-convert:hover {\n",
              "      background-color: #E2EBFA;\n",
              "      box-shadow: 0px 1px 2px rgba(60, 64, 67, 0.3), 0px 1px 3px 1px rgba(60, 64, 67, 0.15);\n",
              "      fill: #174EA6;\n",
              "    }\n",
              "\n",
              "    .colab-df-buttons div {\n",
              "      margin-bottom: 4px;\n",
              "    }\n",
              "\n",
              "    [theme=dark] .colab-df-convert {\n",
              "      background-color: #3B4455;\n",
              "      fill: #D2E3FC;\n",
              "    }\n",
              "\n",
              "    [theme=dark] .colab-df-convert:hover {\n",
              "      background-color: #434B5C;\n",
              "      box-shadow: 0px 1px 3px 1px rgba(0, 0, 0, 0.15);\n",
              "      filter: drop-shadow(0px 1px 2px rgba(0, 0, 0, 0.3));\n",
              "      fill: #FFFFFF;\n",
              "    }\n",
              "  </style>\n",
              "\n",
              "    <script>\n",
              "      const buttonEl =\n",
              "        document.querySelector('#df-62c24e19-78e6-43d0-b786-a83caf535526 button.colab-df-convert');\n",
              "      buttonEl.style.display =\n",
              "        google.colab.kernel.accessAllowed ? 'block' : 'none';\n",
              "\n",
              "      async function convertToInteractive(key) {\n",
              "        const element = document.querySelector('#df-62c24e19-78e6-43d0-b786-a83caf535526');\n",
              "        const dataTable =\n",
              "          await google.colab.kernel.invokeFunction('convertToInteractive',\n",
              "                                                    [key], {});\n",
              "        if (!dataTable) return;\n",
              "\n",
              "        const docLinkHtml = 'Like what you see? Visit the ' +\n",
              "          '<a target=\"_blank\" href=https://colab.research.google.com/notebooks/data_table.ipynb>data table notebook</a>'\n",
              "          + ' to learn more about interactive tables.';\n",
              "        element.innerHTML = '';\n",
              "        dataTable['output_type'] = 'display_data';\n",
              "        await google.colab.output.renderOutput(dataTable, element);\n",
              "        const docLink = document.createElement('div');\n",
              "        docLink.innerHTML = docLinkHtml;\n",
              "        element.appendChild(docLink);\n",
              "      }\n",
              "    </script>\n",
              "  </div>\n",
              "\n",
              "    </div>\n",
              "  </div>\n"
            ]
          },
          "metadata": {},
          "execution_count": 40
        }
      ]
    }
  ]
}